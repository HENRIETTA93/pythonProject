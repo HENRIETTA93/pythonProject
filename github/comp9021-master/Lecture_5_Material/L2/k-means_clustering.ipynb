{
 "cells": [
  {
   "cell_type": "code",
   "execution_count": 4,
   "metadata": {},
   "outputs": [],
   "source": [
    "# Does not need to be executed if\n",
    "# ~/.ipython/profile_default/ipython_config.py\n",
    "# exists and contains:\n",
    "# get_config().InteractiveShell.ast_node_interactivity = 'all'\n",
    "\n",
    "from IPython.core.interactiveshell import InteractiveShell\n",
    "InteractiveShell.ast_node_interactivity = 'all'"
   ]
  },
  {
   "cell_type": "code",
   "execution_count": 5,
   "metadata": {
    "init_cell": true
   },
   "outputs": [],
   "source": [
    "%config InlineBackend.figure_format = 'retina'"
   ]
  },
  {
   "cell_type": "code",
   "execution_count": 6,
   "metadata": {
    "init_cell": true
   },
   "outputs": [],
   "source": [
    "from collections import namedtuple, defaultdict\n",
    "from math import hypot\n",
    "import matplotlib.pyplot as plt"
   ]
  },
  {
   "cell_type": "markdown",
   "metadata": {},
   "source": [
    "A point on the plane is defined by its $x$- and $y$-coordinates; it can therefore be represented by a 2-element list or tuple, but it is more elegant to take advantage of the `namedtuple` class from the `collections` module. The point coordinates can be referred to thanks to a more natural syntax, though indexes can still be used:"
   ]
  },
  {
   "cell_type": "code",
   "execution_count": 7,
   "metadata": {},
   "outputs": [
    {
     "data": {
      "text/plain": [
       "Point(x=3, y=5.5)"
      ]
     },
     "execution_count": 7,
     "metadata": {},
     "output_type": "execute_result"
    },
    {
     "data": {
      "text/plain": [
       "(3, 3)"
      ]
     },
     "execution_count": 7,
     "metadata": {},
     "output_type": "execute_result"
    },
    {
     "data": {
      "text/plain": [
       "(5.5, 5.5)"
      ]
     },
     "execution_count": 7,
     "metadata": {},
     "output_type": "execute_result"
    }
   ],
   "source": [
    "Point = namedtuple('Point', 'x y')\n",
    "# Alternatively:\n",
    "# Point = namedtuple('Point', ['x', 'y'])\n",
    "\n",
    "pt = Point(3, 5.5)\n",
    "\n",
    "pt\n",
    "pt.x, pt[0]\n",
    "pt.y, pt[1]"
   ]
  },
  {
   "cell_type": "markdown",
   "metadata": {},
   "source": [
    "Given a positive integer $k$, $k$-clustering is a technique to group points on the plane into at most $k$ clusters, starting with $k$ given points, the centroids.\n",
    "\n",
    "* Each centroid $C$ is associated with the set $S_C$ of points that are closest to $C$ than to any other centroid. In case a point is closest to more than one centroid, one is chosen arbitrarily. A centroid can be such that every point is closest to another centroid, in which case the number of nonempty sets so created is smaller than $k$.\n",
    "* For each nonempty set of the form $S_C$ with $C$ an initial centroid, the centre of gravity of $S_C$ is computed and becomes a new centroid. The procedure is repeated using the new centroids instead of the original ones.\n",
    "* The procedure is possibly repeated again and again, up to the stage where the centroids computed at the end of the stage are the same as those used at the beginning. Each set of points associated with one of the final centroids is a final cluster.\n",
    "\n",
    "Comparing distances is equivalent to comparing squares of distances, so we opt for a more economical computation and implement a function, `square_of_distance()`, to compute the latter. If we had to compute distances, we could use the `hypot()` function from the `math` module:"
   ]
  },
  {
   "cell_type": "code",
   "execution_count": 17,
   "metadata": {
    "scrolled": true
   },
   "outputs": [
    {
     "data": {
      "text/plain": [
       "290"
      ]
     },
     "execution_count": 17,
     "metadata": {},
     "output_type": "execute_result"
    },
    {
     "data": {
      "text/plain": [
       "17.029386365926403"
      ]
     },
     "execution_count": 17,
     "metadata": {},
     "output_type": "execute_result"
    }
   ],
   "source": [
    "def square_of_distance(point_1, point_2):\n",
    "    return (point_1.x - point_2.x) ** 2 + (point_1.y - point_2.y) ** 2\n",
    "\n",
    "pt_1 = Point(65, 82)\n",
    "pt_2 = Point(52, 93)\n",
    "square_of_distance(pt_1, pt_2)\n",
    "hypot(pt_1.x - pt_2.x,pt_1.y - pt_2.y) "
   ]
  },
  {
   "cell_type": "markdown",
   "metadata": {},
   "source": [
    "Let us define a number of points and centroids:"
   ]
  },
  {
   "cell_type": "code",
   "execution_count": 20,
   "metadata": {},
   "outputs": [],
   "source": [
    "points = {Point(20, 40), Point(20, 42), Point(20, 44), Point(20, 46),\n",
    "          Point(20, 46), Point(20, 52), Point(20, 90), Point(38, 85),\n",
    "          Point(83, 95), Point(53, 87), Point(39, 98), Point(44, 73),\n",
    "          Point(65, 82), Point(52, 93), Point(63, 34), Point(71, 27)\n",
    "         }\n",
    "centroids = {Point(20, 95), Point(20, 5), Point(52, 83), Point(73, 33),\n",
    "             Point(85, 38)\n",
    "            }"
   ]
  },
  {
   "cell_type": "markdown",
   "metadata": {},
   "source": [
    "To compute the member of `centroids` that is closest to a given point $P$, one can start with the square of the distance from $P$ to some centroid, and update that value whenever a new centroid $C$ is processed and the square of the distance between $C$ and $P$ is found out to be smaller than the smallest value recorded so far:"
   ]
  },
  {
   "cell_type": "code",
   "execution_count": 21,
   "metadata": {
    "scrolled": false
   },
   "outputs": [
    {
     "name": "stdout",
     "output_type": "stream",
     "text": [
      "Smallest squared distance so far: 2218\n",
      "Closest centroid so far: Point(x=73, y=33)\n",
      "\n",
      "Smallest squared distance now: 1989\n",
      "Closest centroid now: Point(x=85, y=38)\n",
      "\n",
      "Smallest squared distance now: 333\n",
      "Closest centroid now: Point(x=52, y=83)\n"
     ]
    }
   ],
   "source": [
    "point = Point(70, 80)\n",
    "centroids_list = list(centroids)\n",
    "minimal_squared_distance = square_of_distance(point, centroids_list[0])\n",
    "print('Smallest squared distance so far:', minimal_squared_distance)\n",
    "print('Closest centroid so far:', centroids_list[0])\n",
    "for centroid in centroids_list[1 : ]:\n",
    "    squared_distance = square_of_distance(point, centroid)\n",
    "    if squared_distance < minimal_squared_distance:\n",
    "        minimal_squared_distance = squared_distance\n",
    "        print('\\nSmallest squared distance now:', minimal_squared_distance)\n",
    "        print('Closest centroid now:', centroid)"
   ]
  },
  {
   "cell_type": "markdown",
   "metadata": {},
   "source": [
    "A better approach is to initialise `minimal_squared_distance` with a large enough value; `float('inf')` is perfect for that purpose (`nan` stands for \"not a number\"; indeed, minus infinity plus infinity is undefined, whereas all other computations are defined):"
   ]
  },
  {
   "cell_type": "code",
   "execution_count": 22,
   "metadata": {},
   "outputs": [
    {
     "data": {
      "text/plain": [
       "True"
      ]
     },
     "execution_count": 22,
     "metadata": {},
     "output_type": "execute_result"
    },
    {
     "data": {
      "text/plain": [
       "1000"
      ]
     },
     "execution_count": 22,
     "metadata": {},
     "output_type": "execute_result"
    },
    {
     "data": {
      "text/plain": [
       "inf"
      ]
     },
     "execution_count": 22,
     "metadata": {},
     "output_type": "execute_result"
    },
    {
     "data": {
      "text/plain": [
       "inf"
      ]
     },
     "execution_count": 22,
     "metadata": {},
     "output_type": "execute_result"
    },
    {
     "data": {
      "text/plain": [
       "nan"
      ]
     },
     "execution_count": 22,
     "metadata": {},
     "output_type": "execute_result"
    }
   ],
   "source": [
    "float('-inf') <= float('-inf') < -(10 ** 300) <\\\n",
    "                 10 ** 300 < float('inf') <= float('inf')\n",
    "min(float('inf'), 10 ** 3)\n",
    "float('inf') - 20\n",
    "float('-inf') * -5\n",
    "float('-inf') + float('inf')"
   ]
  },
  {
   "cell_type": "markdown",
   "metadata": {},
   "source": [
    "Also, the `min()` function can be applied systematically without testing whether `minimal_squared_distance` needs to be changed to a new value:"
   ]
  },
  {
   "cell_type": "code",
   "execution_count": 23,
   "metadata": {},
   "outputs": [
    {
     "data": {
      "text/plain": [
       "333"
      ]
     },
     "execution_count": 23,
     "metadata": {},
     "output_type": "execute_result"
    }
   ],
   "source": [
    "point = Point(70, 80)\n",
    "minimal_squared_distance = float('inf')\n",
    "for centroid in centroids:\n",
    "    minimal_squared_distance = min(minimal_squared_distance,\n",
    "                                   square_of_distance(point, centroid)\n",
    "                                  )\n",
    "    \n",
    "minimal_squared_distance"
   ]
  },
  {
   "cell_type": "markdown",
   "metadata": {},
   "source": [
    "We need to eventually know, for a given point $P$, which centroid $C$ is closest to $P$ rather than what is the minimal squared distance between $P$ and some centroid; so we still use an `if` statement in the code fragment below:"
   ]
  },
  {
   "cell_type": "code",
   "execution_count": 24,
   "metadata": {
    "scrolled": false
   },
   "outputs": [
    {
     "data": {
      "text/plain": [
       "defaultdict(set,\n",
       "            {Point(x=20, y=95): {Point(x=20, y=52),\n",
       "              Point(x=20, y=90),\n",
       "              Point(x=39, y=98)},\n",
       "             Point(x=52, y=83): {Point(x=38, y=85),\n",
       "              Point(x=44, y=73),\n",
       "              Point(x=52, y=93),\n",
       "              Point(x=53, y=87),\n",
       "              Point(x=65, y=82),\n",
       "              Point(x=83, y=95)},\n",
       "             Point(x=20, y=5): {Point(x=20, y=40),\n",
       "              Point(x=20, y=42),\n",
       "              Point(x=20, y=44),\n",
       "              Point(x=20, y=46)},\n",
       "             Point(x=73, y=33): {Point(x=63, y=34), Point(x=71, y=27)}})"
      ]
     },
     "execution_count": 24,
     "metadata": {},
     "output_type": "execute_result"
    }
   ],
   "source": [
    "clusters = defaultdict(set)\n",
    "for point in points:\n",
    "    min_squared_distance = float('inf')\n",
    "    for centroid in centroids:\n",
    "        squared_distance = square_of_distance(point, centroid)\n",
    "        if squared_distance < min_squared_distance:\n",
    "            min_squared_distance = squared_distance\n",
    "            closest_centroid = centroid\n",
    "    clusters[closest_centroid].add(point)\n",
    "\n",
    "clusters"
   ]
  },
  {
   "cell_type": "markdown",
   "metadata": {},
   "source": [
    "For every member `centroid` of `centroids`, if `centroid` is one of `clusters`'s keys then `clusters[centroid]` is a nonempty set of points whose centre of gravity should be computed. It will be used in place of `centroid`, but both could be identical:"
   ]
  },
  {
   "cell_type": "code",
   "execution_count": 25,
   "metadata": {},
   "outputs": [
    {
     "data": {
      "text/plain": [
       "{Point(x=20, y=52), Point(x=20, y=90), Point(x=39, y=98)}"
      ]
     },
     "execution_count": 25,
     "metadata": {},
     "output_type": "execute_result"
    },
    {
     "data": {
      "text/plain": [
       "[(20, 20, 39), (90, 52, 98)]"
      ]
     },
     "execution_count": 25,
     "metadata": {},
     "output_type": "execute_result"
    },
    {
     "data": {
      "text/plain": [
       "(79, 240)"
      ]
     },
     "execution_count": 25,
     "metadata": {},
     "output_type": "execute_result"
    },
    {
     "data": {
      "text/plain": [
       "Point(x=26.333333333333332, y=80.0)"
      ]
     },
     "execution_count": 25,
     "metadata": {},
     "output_type": "execute_result"
    }
   ],
   "source": [
    "centroid = Point(20, 95)\n",
    "\n",
    "clusters[centroid]\n",
    "[c for c in zip(*clusters[centroid])]\n",
    "x, y = [sum(c) for c in zip(*clusters[centroid])]; x, y\n",
    "Point(x / len(clusters[centroid]), y / len(clusters[centroid]))"
   ]
  },
  {
   "cell_type": "markdown",
   "metadata": {},
   "source": [
    "Going one step further, we can create a new dictionary similar to `clusters`, except that for any cluster $C$ that is one of `clusters`'s values, the key $K$ in `clusters` that is associated with $C$ is replaced by $C$'s centre of gravity (which might be no different to $K$). Such is the purpose of the following function, which starts with the previous code fragment, then computes the new centroids and redefines `clusters` accordingly, and eventually returns both `clusters` and `True` or `False` depending on whether the set of new centroids is different to the one passed as argument:"
   ]
  },
  {
   "cell_type": "code",
   "execution_count": 26,
   "metadata": {},
   "outputs": [
    {
     "data": {
      "text/plain": [
       "({Point(x=26.333333333333332, y=80.0): {Point(x=20, y=52),\n",
       "   Point(x=20, y=90),\n",
       "   Point(x=39, y=98)},\n",
       "  Point(x=55.833333333333336, y=85.83333333333333): {Point(x=38, y=85),\n",
       "   Point(x=44, y=73),\n",
       "   Point(x=52, y=93),\n",
       "   Point(x=53, y=87),\n",
       "   Point(x=65, y=82),\n",
       "   Point(x=83, y=95)},\n",
       "  Point(x=20.0, y=43.0): {Point(x=20, y=40),\n",
       "   Point(x=20, y=42),\n",
       "   Point(x=20, y=44),\n",
       "   Point(x=20, y=46)},\n",
       "  Point(x=67.0, y=30.5): {Point(x=63, y=34), Point(x=71, y=27)}},\n",
       " True)"
      ]
     },
     "execution_count": 26,
     "metadata": {},
     "output_type": "execute_result"
    }
   ],
   "source": [
    "def cluster_with(centroids):\n",
    "    clusters = defaultdict(set)\n",
    "    for point in points:\n",
    "        min_squared_distance = float('inf')\n",
    "        for centroid in centroids:\n",
    "            squared_distance = square_of_distance(point, centroid)\n",
    "            if squared_distance < min_squared_distance:\n",
    "                min_squared_distance = squared_distance\n",
    "                closest_centroid = centroid\n",
    "        clusters[closest_centroid].add(point)\n",
    "    new_to_old = {}\n",
    "    for centroid in clusters:\n",
    "        nb_of_points = len(clusters[centroid])\n",
    "        x, y = [sum(c) for c in zip(*clusters[centroid])]\n",
    "        new_to_old[Point(x / nb_of_points, y / nb_of_points)] = centroid\n",
    "    return {centroid: clusters[new_to_old[centroid]] for centroid in new_to_old\n",
    "           }, any(new_to_old[centroid] != centroid for centroid in new_to_old)\n",
    "\n",
    "cluster_with(centroids)"
   ]
  },
  {
   "cell_type": "markdown",
   "metadata": {},
   "source": [
    "Let us now define a function to display the clusters. The `subplot()` function from the `matplotlib.pyplot` module takes three arguments:\n",
    "\n",
    "* a strictly positive integer meant to denote a number of rows $n_R$,\n",
    "* a strictly positive integer meant to denote a number of columns $n_C$, and\n",
    "* an integer between 1 and $n_R\\times n_C$ meant to denote an index $n$.\n",
    "\n",
    "`subplot()` returns a so-called __axes__, meant to refer to part of the figure to draw: representing that picture as a grid of size $n_R$ by $n_C$, the returned axes is supposed to occupy the $n$th cell of the grid. For instance, if $n_R$, $n_C$ and $n$ are 3, 3 and 2, respectively, then the returned axes is supposed to occupy the cell in the middle of the top row.\n",
    "\n",
    "When all three arguments are single digits, they can also be \"glued\" as a single integer or a single string, so `3`, `3` and `2` can also be glued as `332` or `'332'`. We intend to first draw the original points, all in one colour, and all original centroids, all in another colour. We then intend to compute clusters and new centroids stage by stage, until the centroids do not change, and display every new set of clusters; such is the purpose of function `plot_clusters()`, whose first argument is meant to denote a dictionary of the kind returned by `cluster_with()`, and whose second argument is meant to denote an axes's index. The purpose of `plot_clusters()` is to draw the points, using one colour per cluster, as well as the associated centroids, using a different shape but the same colour as that of the associated cluster. We limit the number of computation stages to 8 at most, so we use a grid of size 3 by 3, reserve the top left cell of the grid to display the points and original centroids before cluster computation starts, and use some of the 8 remaining cells to display the first and every new set of clusters and associated centres of gravity, starting with the middle cell on the top row, and moving left to right and top to bottom. We limit the number of original centroids to 10 at most, define a sequence of 10 colours, and let `iter()` return an iterator for this sequence so that `next()` can be called and yield a new colour for every new cluster. We set the range of $x$- and $y$-values to display along the $x$- and $y$ axes with `matplotlib.pyplot` `axis()` function. We use the default value of the keyword argument `marker` of `matplotlib.pyplot`'s `scatter()` function to draw the points as disks, while we change it to `'^'` to draw the centres of gravity as triangles; the `c` keyword argument can be made more explicit as `color`. Calling `plot_clusters()` only once does not show how the axes is positioned on a grid of size 3 by 3:"
   ]
  },
  {
   "cell_type": "code",
   "execution_count": 30,
   "metadata": {},
   "outputs": [
    {
     "data": {
      "image/png": "[encoded data removed]",
      "text/plain": [
       "<Figure size 432x288 with 1 Axes>"
      ]
     },
     "metadata": {
      "image/png": {
       "height": 95,
       "width": 144
      },
      "needs_background": "light"
     },
     "output_type": "display_data"
    }
   ],
   "source": [
    "def plot_clusters(clusters, i):\n",
    "    colours = iter(('blue', 'orange', 'green', 'red', 'purple',\n",
    "                    'brown', 'pink', 'gray', 'olive', 'cyan'\n",
    "                   )\n",
    "                  )\n",
    "    plt.subplot(f'33{i}')\n",
    "    plt.axis((-5, 105, -5, 105))\n",
    "    for centroid in clusters:\n",
    "        colour = next(colours)\n",
    "        plt.scatter(*centroid, marker='^', c=colour)\n",
    "        plt.scatter(*zip(*clusters[centroid]), c=colour)\n",
    "        \n",
    "plot_clusters(cluster_with(centroids)[0], 2)"
   ]
  },
  {
   "cell_type": "markdown",
   "metadata": {},
   "source": [
    "The function that follows completes the task of calling `cluster_with()` for long enough, but no more than 8 times, to compute the next set of clusters and associated centres of gravity, and in case the latter are different to the set of centroids on the basis of which the set of clusters was determined, display the clusters in the appropriate part of the picture and update the centroids. In the unlikely case the original centroids would be the centres of gravity of the set of clusters first computed, the clusters would still be displayed in the middle of the first row of a picture of size 12 inches by 12 inches:"
   ]
  },
  {
   "cell_type": "code",
   "execution_count": 28,
   "metadata": {},
   "outputs": [
    {
     "data": {
      "image/png": "[encoded data removed]",
      "text/plain": [
       "<Figure size 864x864 with 4 Axes>"
      ]
     },
     "metadata": {
      "image/png": {
       "height": 452,
       "width": 710
      },
      "needs_background": "light"
     },
     "output_type": "display_data"
    }
   ],
   "source": [
    "def iterate_and_plot_clusters(centroids):\n",
    "    if len(centroids) > 10:\n",
    "        print('At most 10 centroids accepted')\n",
    "        return\n",
    "    plt.figure(figsize = (12, 12))\n",
    "    plt.subplot(331)\n",
    "    plt.axis((-5, 105, -5, 105))\n",
    "    plt.scatter(*zip(*centroids), marker='^', c='cyan')\n",
    "    plt.scatter(*zip(*points), c='olive')\n",
    "    for i in range(2, 10):\n",
    "        clusters, new_centroids = cluster_with(centroids)\n",
    "        if i == 2:\n",
    "            plot_clusters(clusters, i)\n",
    "        if new_centroids:\n",
    "            centroids = clusters.keys()\n",
    "            if i > 2:\n",
    "                plot_clusters(clusters, i)\n",
    "        else:\n",
    "            break\n",
    "\n",
    "iterate_and_plot_clusters(centroids)"
   ]
  },
  {
   "cell_type": "code",
   "execution_count": null,
   "metadata": {},
   "outputs": [],
   "source": []
  }
 ],
 "metadata": {
  "kernelspec": {
   "display_name": "Python 3",
   "language": "python",
   "name": "python3"
  },
  "language_info": {
   "codemirror_mode": {
    "name": "ipython",
    "version": 3
   },
   "file_extension": ".py",
   "mimetype": "text/x-python",
   "name": "python",
   "nbconvert_exporter": "python",
   "pygments_lexer": "ipython3",
   "version": "3.7.0"
  },
  "latex_envs": {
   "LaTeX_envs_menu_present": true,
   "autoclose": false,
   "autocomplete": true,
   "bibliofile": "biblio.bib",
   "cite_by": "apalike",
   "current_citInitial": 1,
   "eqLabelWithNumbers": true,
   "eqNumInitial": 1,
   "hotkeys": {
    "equation": "Ctrl-E",
    "itemize": "Ctrl-I"
   },
   "labels_anchors": false,
   "latex_user_defs": false,
   "report_style_numbering": false,
   "user_envs_cfg": false
  },
  "toc": {
   "base_numbering": 1,
   "nav_menu": {},
   "number_sections": true,
   "sideBar": true,
   "skip_h1_title": false,
   "title_cell": "Table of Contents",
   "title_sidebar": "Contents",
   "toc_cell": false,
   "toc_position": {},
   "toc_section_display": true,
   "toc_window_display": false
  }
 },
 "nbformat": 4,
 "nbformat_minor": 2
}
