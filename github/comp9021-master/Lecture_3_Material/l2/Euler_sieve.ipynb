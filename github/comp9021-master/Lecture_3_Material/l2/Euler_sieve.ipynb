{
 "cells": [
  {
   "cell_type": "code",
   "execution_count": null,
   "metadata": {},
   "outputs": [],
   "source": [
    "# Does not need to be executed if\n",
    "# ~/.ipython/profile_default/ipython_config.py\n",
    "# exists and contains:\n",
    "# get_config().InteractiveShell.ast_node_interactivity = 'all'\n",
    "\n",
    "from IPython.core.interactiveshell import InteractiveShell\n",
    "InteractiveShell.ast_node_interactivity = 'all'"
   ]
  },
  {
   "cell_type": "code",
   "execution_count": null,
   "metadata": {
    "init_cell": true
   },
   "outputs": [],
   "source": [
    "%config InlineBackend.figure_format = 'retina'"
   ]
  },
  {
   "cell_type": "code",
   "execution_count": 27,
   "metadata": {
    "init_cell": true
   },
   "outputs": [],
   "source": [
    "from math import sqrt\n",
    "from timeit import timeit\n",
    "from itertools import zip_longest\n",
    "import matplotlib.pyplot as plt"
   ]
  },
  {
   "cell_type": "markdown",
   "metadata": {},
   "source": [
    "With Eratosthenes' sieve, a number can be crossed out more than once. For instance, in case $n\\geq 12$, 12 will be crossed out as a multiple of 2 and then as a multiple of 3. Euler's sieve works with a list of numbers initialised as the list of all numbers between 2 and $n$ that, at a given stage, has lost those of its members that have been found out not to be prime, and that eventually has lost all of its nonprime numbers.\n",
    "\n",
    "Let us try the following, to find out that there is a flaw.\n",
    "\n",
    "* The first member of the list contains 2; multiplying 2 with 2 and the following members of the list up to and excluding the first number greater than $\\lfloor\\frac{n}{2}\\rfloor$, should remove all proper multiples of 2 at most equal to $n$.\n",
    "* The next member of the resulting list should contain 3; multiplying 3 with 3 and the following members of the list up to and excluding the first number greater than $\\lfloor\\frac{n}{3}\\rfloor$, should remove all proper multiples of 3 at most equal to $n$ that remain, namely, those that are not multiple of 2.\n",
    "* The next member of the resulting list should contain 5; multiplying 5 with 5 and the following members of the list up to and excluding the first number greater than $\\lfloor\\frac{n}{5}\\rfloor$ should remove all proper multiples of 5 at most equal to $n$ that remain, namely, those that are not multiples of 2 or 3...\n",
    "* ...\n",
    "\n",
    "For illustration purposes, let us fix $n$ to some value, assign that value to a variable `n`, and define `sieve` accordingly:"
   ]
  },
  {
   "cell_type": "code",
   "execution_count": 1,
   "metadata": {},
   "outputs": [],
   "source": [
    "n = 25\n",
    "sieve = list(range(2, n + 1))\n"
   ]
  },
  {
   "cell_type": "code",
   "execution_count": 2,
   "metadata": {
    "scrolled": false
   },
   "outputs": [
    {
     "name": "stdout",
     "output_type": "stream",
     "text": [
      "  2  3  4  5  6  7  8  9 10 11 12 13 14 15 16 17 18 19 20 21 22 23 24 25"
     ]
    }
   ],
   "source": [
    "def print_sieve_contents():\n",
    "    for p in sieve:\n",
    "        print(f'{p:3}', end='')\n",
    "        \n",
    "print_sieve_contents()"
   ]
  },
  {
   "cell_type": "markdown",
   "metadata": {},
   "source": [
    "To observe how, with `n` set to `25`, proper multiples of 2 are crossed out, we call the following function with `i` set to `0` as argument:"
   ]
  },
  {
   "cell_type": "code",
   "execution_count": 3,
   "metadata": {},
   "outputs": [],
   "source": [
    "def eliminate_proper_multiples(i):\n",
    "    print(f'Now eliminating proper multiples of {sieve[i]}')\n",
    "    j = i\n",
    "    while j < len(sieve):\n",
    "        factor = sieve[i] * sieve[j]\n",
    "        if factor <= n:\n",
    "            print(f' Eliminating {sieve[i]} * {sieve[j]} = {factor}')\n",
    "            sieve.remove(factor)\n",
    "            j += 1\n",
    "        else:\n",
    "            break"
   ]
  },
  {
   "cell_type": "code",
   "execution_count": 4,
   "metadata": {
    "scrolled": true
   },
   "outputs": [
    {
     "name": "stdout",
     "output_type": "stream",
     "text": [
      "Now eliminating proper multiples of 2\n",
      " Eliminating 2 * 2 = 4\n",
      " Eliminating 2 * 3 = 6\n",
      " Eliminating 2 * 5 = 10\n",
      " Eliminating 2 * 7 = 14\n",
      " Eliminating 2 * 8 = 16\n",
      " Eliminating 2 * 9 = 18\n",
      " Eliminating 2 * 11 = 22\n",
      " Eliminating 2 * 12 = 24\n",
      "  2  3  5  7  8  9 11 12 13 15 17 19 20 21 23 25"
     ]
    }
   ],
   "source": [
    "eliminate_proper_multiples(0)\n",
    "print_sieve_contents()"
   ]
  },
  {
   "cell_type": "markdown",
   "metadata": {},
   "source": [
    "We see the flaw. Having first eliminated $2\\times 2$, 4 is not longer in the list, which prevents 8 from being eliminated, and the same holds for other multiples of 2.\n",
    "\n",
    "This suggests to, for an arbitrary value of $n$, amend the procedure as follows.\n",
    "\n",
    "* using 2, the first number in the list:\n",
    "    * remove $2^2$, $2^3$, $2^4$, ..., up to $2^r$ for the largest $r$ with $2^r\\leq n$,\n",
    "    * remove $2\\times 3$, $2^2\\times 3$, $2^3\\times 3$, ..., up to $2^r\\times 3$ for the largest $r$ with $2^r\\times 3\\leq n$,\n",
    "    * as 4 is no longer in the list, remove $2\\times 5$, $2^2\\times 5$, $2^3\\times 5$, ..., up to $2^r\\times 5$ for the largest $r$ with $2^r\\times 5\\leq n$,\n",
    "    * as 6 is no longer in the list, remove $2\\times 7$, $2^2\\times 7$, $2^3\\times 7$, ..., up to $2^r\\times 7$ for the largest $r$ with $2^r\\times 7\\leq n$,\n",
    "    * as 8 is no longer in the list, remove $2\\times 9$, $2^2\\times 9$, $2^3\\times 9$, ..., up to $2^r\\times 9$ for the largest $r$ with $2^r\\times 9\\leq n$,\n",
    "    * ...\n",
    "* using 3, the next number in what remains of the list:\n",
    "    * remove $3^2$, $3^3$, $3^4$, ..., up to $3^r$ for the largest $r$ with $3^r\\leq n$,\n",
    "    * as 4 is no longer in the list, remove $3\\times 5$, $3^2\\times 5$, $3^3\\times 5$, ..., up to $3^r\\times 5$ for the largest $r$ with $3^r\\times 5\\leq n$,\n",
    "    * as 6 is no longer in the list, remove $3\\times 7$, $3^2\\times 7$, $3^3\\times 7$, ..., up to $3^r\\times 7$ for the largest $r$ with $3^r\\times 7\\leq n$,\n",
    "    * as 8, 9 and 10 are no longer in the list, remove $3\\times 11$, $3^2\\times 11$, $3^3\\times 11$, ...., up to $3^r\\times 11$ for the largest $r$ with $3^r\\times 11\\leq n$,\n",
    "    * ...\n",
    "* ...\n",
    "\n",
    "We stop when the next number in what remains in the list exceeds $\\lfloor\\sqrt{n}\\rfloor$.\n",
    "\n",
    "Let us verify that the procedure is correct. At stage $k$, all proper multiples of the $k$th prime number $p_k$ at most equal to $n$ are removed from the list. This is verified by induction. Indeed, if during stage $k$, a number $m$ in $\\{2,3,\\dots, n\\}$ with $p_k m\\leq n$ is not considered then:\n",
    "\n",
    "* either $m$ is smaller than $p_k$, in which case it is a multiple of at least one of $p_1$, ..., $p_{k-1}$, which implies that $p_k\\times m$ is also a multiple of at least one of $p_1$, ..., $p_{k-1}$, so by inductive hypothesis, $p_k\\times m$ was removed from the list during one of the previous stages,\n",
    "* or $m$ is greater than $p_k$ but no longer belongs to the list (it is a number such as 4, 6, 8 at stage 1, or a number such as 4, 6, 8, 9, 10 at stage 2), in which case:\n",
    "    * either $m$ was removed during one of the previous stages, hence $m$ is a multiple of at least one of $p_1$, ..., $p_{k-1}$, which implies as in the previous case that $p_k\\times m$ was also removed from the list, \n",
    "    * or $m$ is a multiple of $p_k$ which was removed earlier in the current stage, so $m$ is a number of the form $p_k^r m'$ for some $r\\geq 1$ and some number $m'$ which was then found in what remained of the list, therefore $p_k m=p_k^{r+1}m'$ was also removed from the list earlier in the current stage.\n",
    "\n",
    "To observe how, with `n` set to `25`, nonzero powers of 2 times 2, 3, 5, 7, 9 and 11, nonzero powers of 3 times 3, 5 and 7, and nonzero powers of 5 times 5 are eliminated, the following function is successively called with `i` set to `0` and `k` set to `0`, `1`, `2`, `3`, `4` and `5` as arguments, then with `i` set to `1` and `k` set to `0`, `1` and `2` as arguments, then with `i` set to `2` and `k` set to `0` as arguments:"
   ]
  },
  {
   "cell_type": "code",
   "execution_count": 5,
   "metadata": {},
   "outputs": [],
   "source": [
    "def eliminate_proper_multiples(i, k):\n",
    "    # We assume that this function will be called in the order\n",
    "    #   eliminate_proper_multiples(0, 0)\n",
    "    #   eliminate_proper_multiples(0, 1)\n",
    "    #   ...\n",
    "    #   eliminate_proper_multiples(1, 0)\n",
    "    #   eliminate_proper_multiples(1, 1)\n",
    "    #   ...\n",
    "    print('Now eliminating multiples of the form a nonzero power of '\n",
    "          f'{sieve[i]} times {sieve[i + k]}'\n",
    "         )\n",
    "    factor = sieve[i] * sieve[i + k]\n",
    "    power = 1\n",
    "    while factor <= n:\n",
    "        print(f' Eliminating {sieve[i]}^{power} x {sieve[i + k]} = {factor}')\n",
    "        sieve.remove(factor)\n",
    "        factor *= sieve[i]\n",
    "        power += 1"
   ]
  },
  {
   "cell_type": "code",
   "execution_count": 6,
   "metadata": {},
   "outputs": [
    {
     "name": "stdout",
     "output_type": "stream",
     "text": [
      "  2  3  4  5  6  7  8  9 10 11 12 13 14 15 16 17 18 19 20 21 22 23 24 25"
     ]
    }
   ],
   "source": [
    "sieve = list(range(2, n + 1))\n",
    "print_sieve_contents()"
   ]
  },
  {
   "cell_type": "code",
   "execution_count": 7,
   "metadata": {},
   "outputs": [
    {
     "name": "stdout",
     "output_type": "stream",
     "text": [
      "Now eliminating multiples of the form a nonzero power of 2 times 2\n",
      " Eliminating 2^1 x 2 = 4\n",
      " Eliminating 2^2 x 2 = 8\n",
      " Eliminating 2^3 x 2 = 16\n",
      "  2  3  5  6  7  9 10 11 12 13 14 15 17 18 19 20 21 22 23 24 25"
     ]
    }
   ],
   "source": [
    "eliminate_proper_multiples(0, 0)\n",
    "print_sieve_contents()"
   ]
  },
  {
   "cell_type": "code",
   "execution_count": 8,
   "metadata": {},
   "outputs": [
    {
     "name": "stdout",
     "output_type": "stream",
     "text": [
      "Now eliminating multiples of the form a nonzero power of 2 times 3\n",
      " Eliminating 2^1 x 3 = 6\n",
      " Eliminating 2^2 x 3 = 12\n",
      " Eliminating 2^3 x 3 = 24\n",
      "  2  3  5  7  9 10 11 13 14 15 17 18 19 20 21 22 23 25"
     ]
    }
   ],
   "source": [
    "eliminate_proper_multiples(0, 1)\n",
    "print_sieve_contents()"
   ]
  },
  {
   "cell_type": "code",
   "execution_count": 9,
   "metadata": {},
   "outputs": [
    {
     "name": "stdout",
     "output_type": "stream",
     "text": [
      "Now eliminating multiples of the form a nonzero power of 2 times 5\n",
      " Eliminating 2^1 x 5 = 10\n",
      " Eliminating 2^2 x 5 = 20\n",
      "  2  3  5  7  9 11 13 14 15 17 18 19 21 22 23 25"
     ]
    }
   ],
   "source": [
    "eliminate_proper_multiples(0, 2)\n",
    "print_sieve_contents()"
   ]
  },
  {
   "cell_type": "code",
   "execution_count": 10,
   "metadata": {},
   "outputs": [
    {
     "name": "stdout",
     "output_type": "stream",
     "text": [
      "Now eliminating multiples of the form a nonzero power of 2 times 7\n",
      " Eliminating 2^1 x 7 = 14\n",
      "  2  3  5  7  9 11 13 15 17 18 19 21 22 23 25"
     ]
    }
   ],
   "source": [
    "eliminate_proper_multiples(0, 3)\n",
    "print_sieve_contents()"
   ]
  },
  {
   "cell_type": "code",
   "execution_count": 11,
   "metadata": {},
   "outputs": [
    {
     "name": "stdout",
     "output_type": "stream",
     "text": [
      "Now eliminating multiples of the form a nonzero power of 2 times 9\n",
      " Eliminating 2^1 x 9 = 18\n",
      "  2  3  5  7  9 11 13 15 17 19 21 22 23 25"
     ]
    }
   ],
   "source": [
    "eliminate_proper_multiples(0, 4)\n",
    "print_sieve_contents()"
   ]
  },
  {
   "cell_type": "code",
   "execution_count": 12,
   "metadata": {},
   "outputs": [
    {
     "name": "stdout",
     "output_type": "stream",
     "text": [
      "Now eliminating multiples of the form a nonzero power of 2 times 11\n",
      " Eliminating 2^1 x 11 = 22\n",
      "  2  3  5  7  9 11 13 15 17 19 21 23 25"
     ]
    }
   ],
   "source": [
    "eliminate_proper_multiples(0, 5)\n",
    "print_sieve_contents()"
   ]
  },
  {
   "cell_type": "code",
   "execution_count": 13,
   "metadata": {},
   "outputs": [
    {
     "name": "stdout",
     "output_type": "stream",
     "text": [
      "Now eliminating multiples of the form a nonzero power of 3 times 3\n",
      " Eliminating 3^1 x 3 = 9\n",
      "  2  3  5  7 11 13 15 17 19 21 23 25"
     ]
    }
   ],
   "source": [
    "eliminate_proper_multiples(1, 0)\n",
    "print_sieve_contents()"
   ]
  },
  {
   "cell_type": "code",
   "execution_count": 14,
   "metadata": {},
   "outputs": [
    {
     "name": "stdout",
     "output_type": "stream",
     "text": [
      "Now eliminating multiples of the form a nonzero power of 3 times 5\n",
      " Eliminating 3^1 x 5 = 15\n",
      "  2  3  5  7 11 13 17 19 21 23 25"
     ]
    }
   ],
   "source": [
    "eliminate_proper_multiples(1, 1)\n",
    "print_sieve_contents()"
   ]
  },
  {
   "cell_type": "code",
   "execution_count": 15,
   "metadata": {},
   "outputs": [
    {
     "name": "stdout",
     "output_type": "stream",
     "text": [
      "Now eliminating multiples of the form a nonzero power of 3 times 7\n",
      " Eliminating 3^1 x 7 = 21\n",
      "  2  3  5  7 11 13 17 19 23 25"
     ]
    }
   ],
   "source": [
    "eliminate_proper_multiples(1, 2)\n",
    "print_sieve_contents()"
   ]
  },
  {
   "cell_type": "code",
   "execution_count": 16,
   "metadata": {},
   "outputs": [
    {
     "name": "stdout",
     "output_type": "stream",
     "text": [
      "Now eliminating multiples of the form a nonzero power of 5 times 5\n",
      " Eliminating 5^1 x 5 = 25\n",
      "  2  3  5  7 11 13 17 19 23"
     ]
    }
   ],
   "source": [
    "eliminate_proper_multiples(2, 0)\n",
    "print_sieve_contents()"
   ]
  },
  {
   "cell_type": "markdown",
   "metadata": {},
   "source": [
    "To observe more synthetically how, with `n` set to `25`, proper multiples of 2, proper multiples of 3 that are not multiples of 2, and proper multiples of 5, equal to $\\lfloor\\sqrt 25\\rfloor$, that are multiples of neither 2 nor 3, are eliminated, we successively call the following function with `i` set to `0`, `1` and `2` as argument:"
   ]
  },
  {
   "cell_type": "code",
   "execution_count": 17,
   "metadata": {},
   "outputs": [],
   "source": [
    "def eliminate_proper_multiples(i):\n",
    "    # We assume that this function will be called in the order\n",
    "    #   eliminate_proper_multiples(0)\n",
    "    #   eliminate_proper_multiples(1)\n",
    "    #   eliminate_proper_multiples(2)\n",
    "    #   ...\n",
    "    k = 0\n",
    "    while True:\n",
    "        factor = sieve[i] * sieve[i + k]\n",
    "        if factor > n:\n",
    "            break\n",
    "        print('Now eliminating multiples of the form '\n",
    "              f'a nonzero power of {sieve[i]} times {sieve[i + k]}'\n",
    "             )\n",
    "        power = 1\n",
    "        while factor <= n:\n",
    "            print(' Eliminating '\n",
    "                  f'{sieve[i]}^{power} x {sieve[i + k]} = {factor}'\n",
    "                 )\n",
    "            sieve.remove(factor)\n",
    "            factor *= sieve[i]\n",
    "            power += 1\n",
    "        k += 1"
   ]
  },
  {
   "cell_type": "code",
   "execution_count": 18,
   "metadata": {},
   "outputs": [
    {
     "name": "stdout",
     "output_type": "stream",
     "text": [
      "  2  3  4  5  6  7  8  9 10 11 12 13 14 15 16 17 18 19 20 21 22 23 24 25"
     ]
    }
   ],
   "source": [
    "sieve = list(range(2, n + 1))\n",
    "print_sieve_contents()"
   ]
  },
  {
   "cell_type": "code",
   "execution_count": 19,
   "metadata": {
    "scrolled": true
   },
   "outputs": [
    {
     "name": "stdout",
     "output_type": "stream",
     "text": [
      "Now eliminating multiples of the form a nonzero power of 2 times 2\n",
      " Eliminating 2^1 x 2 = 4\n",
      " Eliminating 2^2 x 2 = 8\n",
      " Eliminating 2^3 x 2 = 16\n",
      "Now eliminating multiples of the form a nonzero power of 2 times 3\n",
      " Eliminating 2^1 x 3 = 6\n",
      " Eliminating 2^2 x 3 = 12\n",
      " Eliminating 2^3 x 3 = 24\n",
      "Now eliminating multiples of the form a nonzero power of 2 times 5\n",
      " Eliminating 2^1 x 5 = 10\n",
      " Eliminating 2^2 x 5 = 20\n",
      "Now eliminating multiples of the form a nonzero power of 2 times 7\n",
      " Eliminating 2^1 x 7 = 14\n",
      "Now eliminating multiples of the form a nonzero power of 2 times 9\n",
      " Eliminating 2^1 x 9 = 18\n",
      "Now eliminating multiples of the form a nonzero power of 2 times 11\n",
      " Eliminating 2^1 x 11 = 22\n",
      "  2  3  5  7  9 11 13 15 17 19 21 23 25"
     ]
    }
   ],
   "source": [
    "eliminate_proper_multiples(0)\n",
    "print_sieve_contents()"
   ]
  },
  {
   "cell_type": "code",
   "execution_count": 20,
   "metadata": {},
   "outputs": [
    {
     "name": "stdout",
     "output_type": "stream",
     "text": [
      "Now eliminating multiples of the form a nonzero power of 3 times 3\n",
      " Eliminating 3^1 x 3 = 9\n",
      "Now eliminating multiples of the form a nonzero power of 3 times 5\n",
      " Eliminating 3^1 x 5 = 15\n",
      "Now eliminating multiples of the form a nonzero power of 3 times 7\n",
      " Eliminating 3^1 x 7 = 21\n",
      "  2  3  5  7 11 13 17 19 23 25"
     ]
    }
   ],
   "source": [
    "eliminate_proper_multiples(1)\n",
    "print_sieve_contents()"
   ]
  },
  {
   "cell_type": "code",
   "execution_count": 21,
   "metadata": {},
   "outputs": [
    {
     "name": "stdout",
     "output_type": "stream",
     "text": [
      "Now eliminating multiples of the form a nonzero power of 5 times 5\n",
      " Eliminating 5^1 x 5 = 25\n",
      "  2  3  5  7 11 13 17 19 23"
     ]
    }
   ],
   "source": [
    "eliminate_proper_multiples(2)\n",
    "print_sieve_contents()"
   ]
  },
  {
   "cell_type": "markdown",
   "metadata": {},
   "source": [
    "Putting it all together:"
   ]
  },
  {
   "cell_type": "code",
   "execution_count": 22,
   "metadata": {},
   "outputs": [],
   "source": [
    "def first_sieve_of_primes_up_to(n):\n",
    "    sieve = list(range(2, n + 1))\n",
    "    i = 0\n",
    "    while sieve[i] <= round(sqrt(n)):\n",
    "        k = 0\n",
    "        while True:\n",
    "            factor = sieve[i] * sieve[i + k]\n",
    "            if factor > n:\n",
    "                break\n",
    "            while factor <= n:\n",
    "                sieve.remove(factor)\n",
    "                factor *= sieve[i]\n",
    "            k += 1\n",
    "        i += 1\n",
    "    return sieve"
   ]
  },
  {
   "cell_type": "markdown",
   "metadata": {},
   "source": [
    "We can reuse `nicely_display()` as defined in relation to Eratosthenes' sieve:"
   ]
  },
  {
   "cell_type": "code",
   "execution_count": 23,
   "metadata": {},
   "outputs": [],
   "source": [
    "def nicely_display(sequence, max_size):\n",
    "    field_width = max_size + 2\n",
    "    nb_of_fields = 80 // field_width\n",
    "    count = 0\n",
    "    for e in sequence:\n",
    "        print(f'{e:{field_width}}', end='')\n",
    "        count += 1\n",
    "        if count % nb_of_fields == 0:\n",
    "            print()"
   ]
  },
  {
   "cell_type": "markdown",
   "metadata": {},
   "source": [
    "`first_sieve_of_primes_up_to()` returns precisely the list of numbers that we want to display, so we make it the first argument of `nicely_display()`:"
   ]
  },
  {
   "cell_type": "code",
   "execution_count": null,
   "metadata": {},
   "outputs": [],
   "source": [
    "primes = first_sieve_of_primes_up_to(1_000)\n",
    "nicely_display(primes, len(str(primes[-1])))"
   ]
  },
  {
   "cell_type": "markdown",
   "metadata": {},
   "source": [
    "Euler's sieve's algorithm is more complicated than Eratosthenes' sieve's algorithm, but much less effective: "
   ]
  },
  {
   "cell_type": "code",
   "execution_count": null,
   "metadata": {},
   "outputs": [],
   "source": [
    "timeit('first_sieve_of_primes_up_to(20_000)', globals=globals(), number=1)"
   ]
  },
  {
   "cell_type": "markdown",
   "metadata": {},
   "source": [
    "To understand why, and try and address the inefficiency, let us examine the cost of performing some operations on lists and sets, by timing those operations and plotting collected data.\n",
    "\n",
    "The `plot()` function from the `matplotlib.pyplot` module allows one to easily plot data. It expects two arguments: an enumerable of $x$-coordinates and an enumerable of $y$-coordinates. Usually, we rather have an enumerable of pairs, one for each point to plot, the first and second components of the pair being the point's $x$- and $y$-coordinates, respectively. For instance, from the function $f:x\\mapsto 2x$, we could generate the list of points `[(0, 0), (1, 2), (3, 6), (4, 8), (9, 18)]`; `plot()` should then be given `[0, 1, 3, 4, 9]` as first argument, and `[0, 2, 6, 8, 18]` as second argument (or any other enumerable representing the same sequence of data). The `zip()` function makes it easy to get the latter two lists from the former list:"
   ]
  },
  {
   "cell_type": "code",
   "execution_count": 42,
   "metadata": {
    "scrolled": true
   },
   "outputs": [
    {
     "data": {
      "text/plain": [
       "[(0, 1, 3, 4, 9), (0, 2, 6, 8, 18)]"
      ]
     },
     "execution_count": 42,
     "metadata": {},
     "output_type": "execute_result"
    }
   ],
   "source": [
    "list(zip((0, 0), (1, 2), (3, 6), (4, 8), (9, 18)))"
   ]
  },
  {
   "cell_type": "markdown",
   "metadata": {},
   "source": [
    "More generally, `zip()` accepts arbitrary enumerables as arguments. The size of those enumerables can differ: what is zipped is the enumerables truncated if needed to the size of the shortest one:"
   ]
  },
  {
   "cell_type": "code",
   "execution_count": 41,
   "metadata": {},
   "outputs": [
    {
     "data": {
      "text/plain": [
       "[(1, 11, 21, 31), (2, 12, 22, 32), (3, 13, 23, 33)]"
      ]
     },
     "execution_count": 41,
     "metadata": {},
     "output_type": "execute_result"
    }
   ],
   "source": [
    "list(zip(range(1, 5), [11, 12, 13], [21, 22, 23, 24, 25], (31, 32, 33)))"
   ]
  },
  {
   "cell_type": "markdown",
   "metadata": {},
   "source": [
    "Observe that `zip()` is self-inverse, after some of the arguments have possibly been truncated to the size of the shortest one:"
   ]
  },
  {
   "cell_type": "code",
   "execution_count": 28,
   "metadata": {},
   "outputs": [
    {
     "data": {
      "text/plain": [
       "[(1, 2, 3), (11, 12, 13), (21, 22, 23), (31, 32, 33)]"
      ]
     },
     "execution_count": 28,
     "metadata": {},
     "output_type": "execute_result"
    }
   ],
   "source": [
    "list(zip(*zip((0, 0), (1, 2), (3, 6), (4, 8), (9, 18))))\n",
    "list(zip(*zip(range(1, 5), [11, 12, 13], [21, 22, 23, 24, 25], (31, 32, 33))))"
   ]
  },
  {
   "cell_type": "markdown",
   "metadata": {},
   "source": [
    "In applications where one needs to extend the enumerables to the size of the longest sequence, then the `itertools` module comes to the rescue with the `zip_longest()` function, that accepts an optional `fillvalue` keyword only argument, set to `None` by default:"
   ]
  },
  {
   "cell_type": "code",
   "execution_count": 29,
   "metadata": {},
   "outputs": [
    {
     "data": {
      "text/plain": [
       "[(1, 11, 21, 31), (-1, 12, 22, 32), (-1, -1, 23, -1), (-1, -1, 25, -1)]"
      ]
     },
     "execution_count": 29,
     "metadata": {},
     "output_type": "execute_result"
    }
   ],
   "source": [
    "list(zip_longest([1], [11, 12], [21, 22, 23, 25], [31, 32]))\n",
    "list(zip_longest([1], [11, 12], [21, 22, 23, 25], [31, 32], fillvalue=-1))"
   ]
  },
  {
   "cell_type": "markdown",
   "metadata": {},
   "source": [
    "Let us first examine the relative cost of creating, from a given collection, a list versus a set:"
   ]
  },
  {
   "cell_type": "code",
   "execution_count": 48,
   "metadata": {
    "scrolled": true
   },
   "outputs": [
    {
     "name": "stdout",
     "output_type": "stream",
     "text": [
      "(2.202000359829981e-06, 0.020148588999745698, 0.03073600100015028, 0.053834503999951266, 0.07874020500003098, 0.09753429800002777, 0.11541821099990557, 0.13372682199997143, 0.15671551100012948, 0.1756467690001955, 0.19199827900001765, 0.2105956260002131, 0.2182694809998793, 0.25105960700011565, 0.2652855889996317, 0.2744695810001758, 0.29193774999976085, 0.30600795899999866, 0.32971992199964006, 0.3496371989999716) (1.6029998732847162e-06, 0.036688774000140256, 0.06549908599981791, 0.12668839300022228, 0.15208315899963054, 0.16440084699979707, 0.2571243340003093, 0.28213420500014763, 0.3003947069996684, 0.3086166080001931, 0.33513806200016916, 0.49273865199984357, 0.5152077440002358, 0.5260954940004012, 0.5615379389996633, 0.568393080000078, 0.6095252600002823, 0.6012202330002765, 0.620222850999653, 0.6396461049998834)\n"
     ]
    },
    {
     "data": {
      "image/png": "[encoded data removed]",
      "text/plain": [
       "<Figure size 432x288 with 1 Axes>"
      ]
     },
     "metadata": {
      "needs_background": "light"
     },
     "output_type": "display_data"
    }
   ],
   "source": [
    "data = []\n",
    "for i in range(0, 10_000_000, 500_000):\n",
    "    data.append((timeit(f'list(range({i}))', number=1),\n",
    "                 timeit(f'set(range({i}))', number=1)\n",
    "                )\n",
    "               )\n",
    "plt.plot(*zip(*data));\n",
    "print(*zip(*data))"
   ]
  },
  {
   "cell_type": "markdown",
   "metadata": {},
   "source": [
    "Creating these lists and sets takes time, all the more so that their size is larger. For a given large enough size, creating a list and creating a set do not take the same time. When estimating operations on lists or sets, we want to measure the time it takes to apply that operation to the list or set, without including the extra time needed to create them. When comparing the performance of a given operation on a list versus that same operation on a set, it is even more important not to take into account the time needed to create them, since as observed, that time differs.   The `setup` argument of the `timeit()` function allows us to execute some statements prior to executing the statements whose running time we want to estimate.\n",
    "\n",
    "Retrieving, in a list of size 10 million, the element whose index is a multiple of 500,000, does not significantly depend on the value of the index. As that operation is so efficient, we perform it 10 million times to make the evaluation more precise:"
   ]
  },
  {
   "cell_type": "code",
   "execution_count": null,
   "metadata": {},
   "outputs": [],
   "source": [
    "data = []\n",
    "for i in range(0, 10_000_000, 500_000):\n",
    "    data.append((i, timeit(f'L[{i}]', setup='L = [None] * 10_000_000',\n",
    "                           number=10_000_000\n",
    "                          )\n",
    "                )\n",
    "               )\n",
    "plt.plot(*zip(*data));"
   ]
  },
  {
   "cell_type": "markdown",
   "metadata": {},
   "source": [
    "The next experiment consists in popping, in a list of size 10 thousand, the element whose index is a multiple of 500. The operation is performed 100,000 times, again to make the evaluation more precise, but the setup code is executed only once, so after each call to `pop()`, we append an element to the end of the list so as to maintain its size. The smaller the index is, that is, the closer the element being popped is to the beginning of the list, the larger is the number of elements that have to be \"shifted\" from right to left to fill the vacancy left by that element:"
   ]
  },
  {
   "cell_type": "code",
   "execution_count": 39,
   "metadata": {},
   "outputs": [
    {
     "data": {
      "image/png": "[encoded data removed]",
      "text/plain": [
       "<Figure size 432x288 with 1 Axes>"
      ]
     },
     "metadata": {
      "needs_background": "light"
     },
     "output_type": "display_data"
    }
   ],
   "source": [
    "data = []\n",
    "for i in range(0, 10_000, 500):\n",
    "    data.append((i, timeit(f'L.pop({i}); L.append(None)',\n",
    "                           setup='L = [None] * 10_000', number=100_000\n",
    "                          )\n",
    "                )\n",
    "               )\n",
    "plt.plot(*zip(*data));"
   ]
  },
  {
   "cell_type": "markdown",
   "metadata": {},
   "source": [
    "The next experiment consists in removing, in a list of size 14,500, an element (0), whose first occurrence has an index that is a multiple of 500, up to and including 9,500. The operation is performed 5,000 times, again to make the evaluation more precise; we again append an element to the end of the list so as to maintain its size. The cost of finding an element $e$ that is further and further away from the beginning of the list increases more than the cost of \"shifting\" fewer and fewer elements from right to left to fill the vacancy left by removing $e$ decreases:"
   ]
  },
  {
   "cell_type": "code",
   "execution_count": 40,
   "metadata": {},
   "outputs": [
    {
     "data": {
      "image/png": "[encoded data removed]",
      "text/plain": [
       "<Figure size 432x288 with 1 Axes>"
      ]
     },
     "metadata": {
      "needs_background": "light"
     },
     "output_type": "display_data"
    }
   ],
   "source": [
    "data = []\n",
    "for i in range(0, 10_000, 500):\n",
    "    data.append((i, timeit('L.remove(0); L.append(None)',\n",
    "                           setup=f'L = [None] * {i} + [0] * (14_500 - {i})',\n",
    "                           number=5_000\n",
    "                          )\n",
    "                )\n",
    "               )\n",
    "plt.plot(*zip(*data));"
   ]
  },
  {
   "cell_type": "markdown",
   "metadata": {},
   "source": [
    "The next experiment consists in removing, in the set of all numbers between 0 included and 10 thousand excluded, the multiples of 500. The operation is performed 1,000,000 times, again to make the evaluation more precise; right after we have removed an element from the set, we bring it back. We see the benefit of working with sets rather than lists, when we can afford it, when we often need to remove elements:"
   ]
  },
  {
   "cell_type": "code",
   "execution_count": 45,
   "metadata": {},
   "outputs": [
    {
     "name": "stdout",
     "output_type": "stream",
     "text": [
      "[(0, 0.21610703099986495), (500, 0.1341489729998102), (1000, 0.13282579299993813), (1500, 0.14466412199999468), (2000, 0.11437720200001422), (2500, 0.114413169999807), (3000, 0.11429576599994107), (3500, 0.11428384400005598), (4000, 0.11470930699988457), (4500, 0.11422254399985832), (5000, 0.11451145199998791), (5500, 0.1175533489999907), (6000, 0.11456643500014252), (6500, 0.11402427500024714), (7000, 0.12751209199996083), (7500, 0.126669659000072), (8000, 0.13902427499988335), (8500, 0.11664571999972395), (9000, 0.11509574999990946), (9500, 0.11652309700002661)]\n"
     ]
    },
    {
     "data": {
      "image/png": "[encoded data removed]",
      "text/plain": [
       "<Figure size 432x288 with 1 Axes>"
      ]
     },
     "metadata": {
      "needs_background": "light"
     },
     "output_type": "display_data"
    }
   ],
   "source": [
    "data = []\n",
    "for i in range(0, 10_000, 500):\n",
    "    data.append((i, timeit(f'S.remove({i}); S.add({i})',\n",
    "                           setup='S = set(range(10_000))', number=1_000_000\n",
    "                          )\n",
    "                )\n",
    "               )\n",
    "print(data)\n",
    "plt.plot(*zip(*data));"
   ]
  },
  {
   "cell_type": "markdown",
   "metadata": {},
   "source": [
    "So though Euler's sieve sounded as a good idea and a possible improvement over Eratosthenes' sieve, it turned out to perform much worse because often applying the `remove()` method to a list is not efficient: it is on average linear in the length of the list. But applying the `remove()` method to a set is efficient: it has constant complexity. This suggests to, at every stage when all proper multiples of a (prime) number $p$ have to be eliminated, convert the list of numbers that are still left to a set, remove those multiples from the set, and then convert the resulting set back to a list. Sorting is costly, but being performed only as many times as there are prime numbers smaller than $\\lfloor\\sqrt n\\rfloor$, it could still bring an improvement.\n",
    "\n",
    "Also, that allows one to get back to the original idea of eliminating all proper multiples at most equal to $n$ of a given prime number $p$ that are not multiples of smaller prime numbers by multiplying $p$ with all numbers at least equal to $p$ in `sieve`, until the product exceeds $n$. The approach is flawed if numbers are eliminated from `sieve`, but it is valid if numbers are eliminated from a copy of `sieve` as a set. To demonstrate it, we define a new version of `eliminate_proper_multiples_from_set()` that makes use of a `global` __declaration__, a notion that we now introduce.\n",
    "\n",
    "The value of a global variable can be accessed from within a function:"
   ]
  },
  {
   "cell_type": "code",
   "execution_count": 35,
   "metadata": {
    "scrolled": true
   },
   "outputs": [
    {
     "name": "stdout",
     "output_type": "stream",
     "text": [
      "1\n"
     ]
    },
    {
     "data": {
      "text/plain": [
       "1"
      ]
     },
     "execution_count": 35,
     "metadata": {},
     "output_type": "execute_result"
    }
   ],
   "source": [
    "a = 1\n",
    "\n",
    "def f():\n",
    "    print(a)\n",
    "\n",
    "f()\n",
    "a"
   ]
  },
  {
   "cell_type": "markdown",
   "metadata": {},
   "source": [
    "A function can define a local variable with the same name as a global variable, the former then hiding the latter within the function:"
   ]
  },
  {
   "cell_type": "code",
   "execution_count": 36,
   "metadata": {},
   "outputs": [
    {
     "name": "stdout",
     "output_type": "stream",
     "text": [
      "2\n"
     ]
    },
    {
     "data": {
      "text/plain": [
       "1"
      ]
     },
     "execution_count": 36,
     "metadata": {},
     "output_type": "execute_result"
    }
   ],
   "source": [
    "a = 1\n",
    "\n",
    "def f():\n",
    "    a = 2\n",
    "    print(a)\n",
    "    \n",
    "f()\n",
    "a"
   ]
  },
  {
   "cell_type": "markdown",
   "metadata": {},
   "source": [
    "A function can change the value of a global variable. It cannot then define a local variable with the same name, and the global variable has to be declared as `global` within the function:"
   ]
  },
  {
   "cell_type": "code",
   "execution_count": 37,
   "metadata": {},
   "outputs": [
    {
     "name": "stdout",
     "output_type": "stream",
     "text": [
      "1\n"
     ]
    },
    {
     "data": {
      "text/plain": [
       "2"
      ]
     },
     "execution_count": 37,
     "metadata": {},
     "output_type": "execute_result"
    }
   ],
   "source": [
    "a = 1\n",
    "\n",
    "def f():\n",
    "    global a\n",
    "    print(a)\n",
    "    a = 2\n",
    "    \n",
    "f()\n",
    "a"
   ]
  },
  {
   "cell_type": "markdown",
   "metadata": {},
   "source": [
    "In the following code fragment, the assignment of `2` to `a` makes `a` a __local__ variable of the function `f()`. Within a function, a variable is either global (the `global` declaration being necessary if and only if the function has a statement that assigns some value to that variable) or local; it is not global in parts of the function, and local in other parts. And since one cannot get the value of a variable before that variable has been assigned a value, the definition of `f()` below is incorrect:"
   ]
  },
  {
   "cell_type": "code",
   "execution_count": 38,
   "metadata": {},
   "outputs": [
    {
     "ename": "UnboundLocalError",
     "evalue": "local variable 'a' referenced before assignment",
     "output_type": "error",
     "traceback": [
      "\u001b[0;31m---------------------------------------------------------------------------\u001b[0m",
      "\u001b[0;31mUnboundLocalError\u001b[0m                         Traceback (most recent call last)",
      "\u001b[0;32m<ipython-input-38-1ce06d5ec6b3>\u001b[0m in \u001b[0;36m<module>\u001b[0;34m\u001b[0m\n\u001b[1;32m      5\u001b[0m     \u001b[0ma\u001b[0m \u001b[0;34m=\u001b[0m \u001b[0;36m2\u001b[0m\u001b[0;34m\u001b[0m\u001b[0m\n\u001b[1;32m      6\u001b[0m \u001b[0;34m\u001b[0m\u001b[0m\n\u001b[0;32m----> 7\u001b[0;31m \u001b[0mf\u001b[0m\u001b[0;34m(\u001b[0m\u001b[0;34m)\u001b[0m\u001b[0;34m\u001b[0m\u001b[0m\n\u001b[0m",
      "\u001b[0;32m<ipython-input-38-1ce06d5ec6b3>\u001b[0m in \u001b[0;36mf\u001b[0;34m()\u001b[0m\n\u001b[1;32m      2\u001b[0m \u001b[0;34m\u001b[0m\u001b[0m\n\u001b[1;32m      3\u001b[0m \u001b[0;32mdef\u001b[0m \u001b[0mf\u001b[0m\u001b[0;34m(\u001b[0m\u001b[0;34m)\u001b[0m\u001b[0;34m:\u001b[0m\u001b[0;34m\u001b[0m\u001b[0m\n\u001b[0;32m----> 4\u001b[0;31m     \u001b[0mprint\u001b[0m\u001b[0;34m(\u001b[0m\u001b[0ma\u001b[0m\u001b[0;34m)\u001b[0m\u001b[0;34m\u001b[0m\u001b[0m\n\u001b[0m\u001b[1;32m      5\u001b[0m     \u001b[0ma\u001b[0m \u001b[0;34m=\u001b[0m \u001b[0;36m2\u001b[0m\u001b[0;34m\u001b[0m\u001b[0m\n\u001b[1;32m      6\u001b[0m \u001b[0;34m\u001b[0m\u001b[0m\n",
      "\u001b[0;31mUnboundLocalError\u001b[0m: local variable 'a' referenced before assignment"
     ]
    }
   ],
   "source": [
    "a = 1\n",
    "\n",
    "def f():\n",
    "    print(a)\n",
    "    a = 2\n",
    "\n",
    "f()"
   ]
  },
  {
   "cell_type": "markdown",
   "metadata": {},
   "source": [
    "Now, to observe how, with `n` set to `25`, proper multiples of 2, proper multiples of 3 that are not multiples of 2, and proper multiples of 5, equal to $\\lfloor\\sqrt 25\\rfloor$, that are multiples of neither 2 nor 3, are eliminated, we successively call the following function with `i` set to `0`, `1` and `2` as argument:"
   ]
  },
  {
   "cell_type": "code",
   "execution_count": null,
   "metadata": {},
   "outputs": [],
   "source": [
    "def eliminate_proper_multiples_from_set(i):\n",
    "    # We assume that this function will be called in the order\n",
    "    #   eliminate_proper_multiples(0)\n",
    "    #   eliminate_proper_multiples(1)\n",
    "    #   eliminate_proper_multiples(2)\n",
    "    #   ...\n",
    "    global sieve\n",
    "    sieve_as_set = set(sieve)\n",
    "    print(f'Now eliminating proper multiples of {sieve[i]}')\n",
    "    j = i\n",
    "    while j < len(sieve):\n",
    "        factor = sieve[i] * sieve[j]\n",
    "        if factor <= n:\n",
    "            print(f' Eliminating {sieve[i]} * {sieve[j]} = {factor}')\n",
    "            sieve_as_set.remove(factor)\n",
    "            j += 1\n",
    "        else:\n",
    "            break\n",
    "    sieve = sorted(sieve_as_set)"
   ]
  },
  {
   "cell_type": "code",
   "execution_count": null,
   "metadata": {},
   "outputs": [],
   "source": [
    "sieve = list(range(2, n + 1))\n",
    "print_sieve_contents()"
   ]
  },
  {
   "cell_type": "code",
   "execution_count": null,
   "metadata": {},
   "outputs": [],
   "source": [
    "eliminate_proper_multiples_from_set(0)\n",
    "print_sieve_contents()"
   ]
  },
  {
   "cell_type": "code",
   "execution_count": null,
   "metadata": {},
   "outputs": [],
   "source": [
    "eliminate_proper_multiples_from_set(1)\n",
    "print_sieve_contents()"
   ]
  },
  {
   "cell_type": "code",
   "execution_count": null,
   "metadata": {},
   "outputs": [],
   "source": [
    "eliminate_proper_multiples_from_set(2)\n",
    "print_sieve_contents()"
   ]
  },
  {
   "cell_type": "markdown",
   "metadata": {},
   "source": [
    "Putting it all together:"
   ]
  },
  {
   "cell_type": "code",
   "execution_count": null,
   "metadata": {},
   "outputs": [],
   "source": [
    "def second_sieve_of_primes_up_to(n):\n",
    "    sieve = list(range(2, n + 1))\n",
    "    i = 0\n",
    "    while sieve[i] <= round(sqrt(n)):\n",
    "        sieve_as_set = set(sieve)\n",
    "        k = 0\n",
    "        while True:\n",
    "            factor = sieve[i] * sieve[i + k]\n",
    "            if factor > n:\n",
    "                break\n",
    "            sieve_as_set.remove(factor)\n",
    "            k += 1\n",
    "        sieve = sorted(sieve_as_set)\n",
    "        i += 1\n",
    "    return sieve"
   ]
  },
  {
   "cell_type": "code",
   "execution_count": null,
   "metadata": {},
   "outputs": [],
   "source": [
    "primes = second_sieve_of_primes_up_to(1_000)\n",
    "nicely_display(primes, len(str(primes[-1])))"
   ]
  },
  {
   "cell_type": "markdown",
   "metadata": {},
   "source": [
    "This second version of Euler's sieve is indeed more efficient than the first version, but it is still less efficient than Eratosthenes' sieve:"
   ]
  },
  {
   "cell_type": "code",
   "execution_count": null,
   "metadata": {},
   "outputs": [],
   "source": [
    "timeit('second_sieve_of_primes_up_to(500_000)', globals=globals(), number=1)"
   ]
  },
  {
   "cell_type": "code",
   "execution_count": null,
   "metadata": {},
   "outputs": [],
   "source": []
  },
  {
   "cell_type": "code",
   "execution_count": null,
   "metadata": {},
   "outputs": [],
   "source": []
  },
  {
   "cell_type": "code",
   "execution_count": null,
   "metadata": {},
   "outputs": [],
   "source": []
  },
  {
   "cell_type": "code",
   "execution_count": null,
   "metadata": {},
   "outputs": [],
   "source": []
  },
  {
   "cell_type": "code",
   "execution_count": null,
   "metadata": {},
   "outputs": [],
   "source": []
  },
  {
   "cell_type": "code",
   "execution_count": null,
   "metadata": {},
   "outputs": [],
   "source": []
  }
 ],
 "metadata": {
  "kernelspec": {
   "display_name": "Python 3",
   "language": "python",
   "name": "python3"
  },
  "language_info": {
   "codemirror_mode": {
    "name": "ipython",
    "version": 3
   },
   "file_extension": ".py",
   "mimetype": "text/x-python",
   "name": "python",
   "nbconvert_exporter": "python",
   "pygments_lexer": "ipython3",
   "version": "3.7.0"
  },
  "latex_envs": {
   "LaTeX_envs_menu_present": true,
   "autoclose": false,
   "autocomplete": true,
   "bibliofile": "biblio.bib",
   "cite_by": "apalike",
   "current_citInitial": 1,
   "eqLabelWithNumbers": true,
   "eqNumInitial": 1,
   "hotkeys": {
    "equation": "Ctrl-E",
    "itemize": "Ctrl-I"
   },
   "labels_anchors": false,
   "latex_user_defs": false,
   "report_style_numbering": false,
   "user_envs_cfg": false
  },
  "toc": {
   "base_numbering": 1,
   "nav_menu": {},
   "number_sections": true,
   "sideBar": true,
   "skip_h1_title": false,
   "title_cell": "Table of Contents",
   "title_sidebar": "Contents",
   "toc_cell": false,
   "toc_position": {},
   "toc_section_display": true,
   "toc_window_display": false
  }
 },
 "nbformat": 4,
 "nbformat_minor": 2
}
