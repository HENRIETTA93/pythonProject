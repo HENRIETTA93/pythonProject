{
 "cells": [
  {
   "cell_type": "code",
   "execution_count": 1,
   "metadata": {},
   "outputs": [],
   "source": [
    "# Does not need to be executed if\n",
    "# ~/.ipython/profile_default/ipython_config.py\n",
    "# exists and contains:\n",
    "# get_config().InteractiveShell.ast_node_interactivity = 'all'\n",
    "\n",
    "from IPython.core.interactiveshell import InteractiveShell\n",
    "InteractiveShell.ast_node_interactivity = 'all'"
   ]
  },
  {
   "cell_type": "code",
   "execution_count": 2,
   "metadata": {
    "init_cell": true
   },
   "outputs": [],
   "source": [
    "from math import sqrt"
   ]
  },
  {
   "cell_type": "markdown",
   "metadata": {},
   "source": [
    "A quadratic equation is determined by three real numbers $a$, $b$ and $c$ with $a\\neq 0$. Depending on whether $\\Delta=\\frac{-b}{2a}$ is strictly negative, equal to 0 or strictly positive, the equation has no real root, a single real root or two distinct real roots, respectively. We want to be able to:\n",
    "\n",
    "* create a quadratic equation with specific values for $a$, $b$ and $c$;\n",
    "* modify a given quadratic equation by changing the value of any of $a$, $b$ and $c$, possibly two of them, possibly all of them;\n",
    "* nicely display a given quadratic equation;\n",
    "* automatically compute the root or roots of a given quadratic equation, if a unique root or two distinct roots exist, respectively, when the equation is created, and whenever the equation is modified.\n",
    "\n",
    "We will go through 5 successive designs via gradual modifications, the first design being satisfactory from a functional point of view, the last one satisfactory from an object oriented point of view. Going through this exercise will provide us with a deep understanding of object oriented design and syntax.\n",
    "\n",
    "To create a quadratic equation, it is sensible to define a function that provides the default values of 1 for $a$ and 0 for $b$ and $c$ (so making $x^2=1$ the default quadratic equation). Some or all of those default values can then be changed using keyword arguments, in any order:"
   ]
  },
  {
   "cell_type": "code",
   "execution_count": 4,
   "metadata": {
    "scrolled": true
   },
   "outputs": [
    {
     "name": "stdout",
     "output_type": "stream",
     "text": [
      "1 0 0\n",
      "2 0 0\n",
      "1 0 4\n",
      "2 0 4\n",
      "1 3 4\n",
      "2 3 4\n"
     ]
    }
   ],
   "source": [
    "def f(a=1, b=0, c=0):\n",
    "    print(a, b, c)\n",
    "    \n",
    "f()\n",
    "f(a=2)\n",
    "f(c=4)\n",
    "f(a=2, c=4)\n",
    "f(c=4, b=3)\n",
    "f(b=3, a=2, c=4)"
   ]
  },
  {
   "cell_type": "markdown",
   "metadata": {},
   "source": [
    "The user can also provide positional arguments, to overwrite the default value of the first argument, or to overwrite the default values of the first and second arguments, or to overwrite the values of the first, second and third arguments:"
   ]
  },
  {
   "cell_type": "code",
   "execution_count": 5,
   "metadata": {},
   "outputs": [
    {
     "name": "stdout",
     "output_type": "stream",
     "text": [
      "2 0 0\n",
      "2 3 0\n",
      "2 3 4\n"
     ]
    }
   ],
   "source": [
    "f(2)\n",
    "f(2, 3)\n",
    "f(2, 3, 4)"
   ]
  },
  {
   "cell_type": "markdown",
   "metadata": {},
   "source": [
    "In particular, when the user provides three positional arguments, we expect him to know that they are provided in the order $a$, $b$ and $c$. Even if the function is well documented, it is reasonable not to have such an expectation, and force the user to explictly name each value. The `*` symbol can be used on its own for that purpose. With the version of `f()` that follows, only the values of `a` and `b` can be overwritten with positional arguments:"
   ]
  },
  {
   "cell_type": "code",
   "execution_count": 6,
   "metadata": {},
   "outputs": [
    {
     "name": "stdout",
     "output_type": "stream",
     "text": [
      "2 0 0\n",
      "2 3 0\n",
      "2 3 4\n",
      "2 3 4\n",
      "2 3 4\n"
     ]
    },
    {
     "ename": "TypeError",
     "evalue": "f() takes from 0 to 2 positional arguments but 3 were given",
     "output_type": "error",
     "traceback": [
      "\u001b[0;31m---------------------------------------------------------------------------\u001b[0m",
      "\u001b[0;31mTypeError\u001b[0m                                 Traceback (most recent call last)",
      "\u001b[0;32m<ipython-input-6-423868e7af4f>\u001b[0m in \u001b[0;36m<module>\u001b[0;34m\u001b[0m\n\u001b[1;32m      7\u001b[0m \u001b[0mf\u001b[0m\u001b[0;34m(\u001b[0m\u001b[0;36m2\u001b[0m\u001b[0;34m,\u001b[0m \u001b[0mc\u001b[0m\u001b[0;34m=\u001b[0m\u001b[0;36m4\u001b[0m\u001b[0;34m,\u001b[0m \u001b[0mb\u001b[0m\u001b[0;34m=\u001b[0m\u001b[0;36m3\u001b[0m\u001b[0;34m)\u001b[0m\u001b[0;34m\u001b[0m\u001b[0m\n\u001b[1;32m      8\u001b[0m \u001b[0mf\u001b[0m\u001b[0;34m(\u001b[0m\u001b[0mb\u001b[0m\u001b[0;34m=\u001b[0m\u001b[0;36m3\u001b[0m\u001b[0;34m,\u001b[0m \u001b[0ma\u001b[0m\u001b[0;34m=\u001b[0m\u001b[0;36m2\u001b[0m\u001b[0;34m,\u001b[0m \u001b[0mc\u001b[0m\u001b[0;34m=\u001b[0m\u001b[0;36m4\u001b[0m\u001b[0;34m)\u001b[0m\u001b[0;34m\u001b[0m\u001b[0m\n\u001b[0;32m----> 9\u001b[0;31m \u001b[0mf\u001b[0m\u001b[0;34m(\u001b[0m\u001b[0;36m2\u001b[0m\u001b[0;34m,\u001b[0m \u001b[0;36m3\u001b[0m\u001b[0;34m,\u001b[0m \u001b[0;36m4\u001b[0m\u001b[0;34m)\u001b[0m\u001b[0;34m\u001b[0m\u001b[0m\n\u001b[0m",
      "\u001b[0;31mTypeError\u001b[0m: f() takes from 0 to 2 positional arguments but 3 were given"
     ]
    }
   ],
   "source": [
    "def f(a=1, b=0, *, c=0):\n",
    "    print(a, b, c)\n",
    "    \n",
    "f(2)\n",
    "f(2, 3)\n",
    "f(2, 3, c=4)\n",
    "f(2, c=4, b=3)\n",
    "f(b=3, a=2, c=4)\n",
    "f(2, 3, 4)"
   ]
  },
  {
   "cell_type": "markdown",
   "metadata": {},
   "source": [
    "With the version of `f()` that follows, only the value of `a` can be overwritten with a positional argument:"
   ]
  },
  {
   "cell_type": "code",
   "execution_count": 7,
   "metadata": {},
   "outputs": [
    {
     "name": "stdout",
     "output_type": "stream",
     "text": [
      "2 0 0\n",
      "2 3 0\n",
      "2 3 4\n",
      "2 3 4\n"
     ]
    },
    {
     "ename": "TypeError",
     "evalue": "f() takes from 0 to 1 positional arguments but 2 were given",
     "output_type": "error",
     "traceback": [
      "\u001b[0;31m---------------------------------------------------------------------------\u001b[0m",
      "\u001b[0;31mTypeError\u001b[0m                                 Traceback (most recent call last)",
      "\u001b[0;32m<ipython-input-7-971756ca1ed0>\u001b[0m in \u001b[0;36m<module>\u001b[0;34m\u001b[0m\n\u001b[1;32m      6\u001b[0m \u001b[0mf\u001b[0m\u001b[0;34m(\u001b[0m\u001b[0;36m2\u001b[0m\u001b[0;34m,\u001b[0m \u001b[0mc\u001b[0m\u001b[0;34m=\u001b[0m\u001b[0;36m4\u001b[0m\u001b[0;34m,\u001b[0m \u001b[0mb\u001b[0m\u001b[0;34m=\u001b[0m\u001b[0;36m3\u001b[0m\u001b[0;34m)\u001b[0m\u001b[0;34m\u001b[0m\u001b[0m\n\u001b[1;32m      7\u001b[0m \u001b[0mf\u001b[0m\u001b[0;34m(\u001b[0m\u001b[0mb\u001b[0m\u001b[0;34m=\u001b[0m\u001b[0;36m3\u001b[0m\u001b[0;34m,\u001b[0m \u001b[0ma\u001b[0m\u001b[0;34m=\u001b[0m\u001b[0;36m2\u001b[0m\u001b[0;34m,\u001b[0m \u001b[0mc\u001b[0m\u001b[0;34m=\u001b[0m\u001b[0;36m4\u001b[0m\u001b[0;34m)\u001b[0m\u001b[0;34m\u001b[0m\u001b[0m\n\u001b[0;32m----> 8\u001b[0;31m \u001b[0mf\u001b[0m\u001b[0;34m(\u001b[0m\u001b[0;36m2\u001b[0m\u001b[0;34m,\u001b[0m \u001b[0;36m3\u001b[0m\u001b[0;34m)\u001b[0m\u001b[0;34m\u001b[0m\u001b[0m\n\u001b[0m",
      "\u001b[0;31mTypeError\u001b[0m: f() takes from 0 to 1 positional arguments but 2 were given"
     ]
    }
   ],
   "source": [
    "def f(a=1, *, b=0, c=0):\n",
    "    print(a, b, c)\n",
    "    \n",
    "f(2)\n",
    "f(2, b=3)\n",
    "f(2, c=4, b=3)\n",
    "f(b=3, a=2, c=4)\n",
    "f(2, 3)"
   ]
  },
  {
   "cell_type": "markdown",
   "metadata": {},
   "source": [
    "With the version of `f()` that follows, no value can be overwritten with a positional argument:"
   ]
  },
  {
   "cell_type": "code",
   "execution_count": 8,
   "metadata": {
    "scrolled": true
   },
   "outputs": [
    {
     "name": "stdout",
     "output_type": "stream",
     "text": [
      "1 3 0\n",
      "1 3 4\n",
      "2 3 4\n"
     ]
    },
    {
     "ename": "TypeError",
     "evalue": "f() takes 0 positional arguments but 1 was given",
     "output_type": "error",
     "traceback": [
      "\u001b[0;31m---------------------------------------------------------------------------\u001b[0m",
      "\u001b[0;31mTypeError\u001b[0m                                 Traceback (most recent call last)",
      "\u001b[0;32m<ipython-input-8-7560eec60b10>\u001b[0m in \u001b[0;36m<module>\u001b[0;34m\u001b[0m\n\u001b[1;32m      5\u001b[0m \u001b[0mf\u001b[0m\u001b[0;34m(\u001b[0m\u001b[0mc\u001b[0m\u001b[0;34m=\u001b[0m\u001b[0;36m4\u001b[0m\u001b[0;34m,\u001b[0m \u001b[0mb\u001b[0m\u001b[0;34m=\u001b[0m\u001b[0;36m3\u001b[0m\u001b[0;34m)\u001b[0m\u001b[0;34m\u001b[0m\u001b[0m\n\u001b[1;32m      6\u001b[0m \u001b[0mf\u001b[0m\u001b[0;34m(\u001b[0m\u001b[0mb\u001b[0m\u001b[0;34m=\u001b[0m\u001b[0;36m3\u001b[0m\u001b[0;34m,\u001b[0m \u001b[0ma\u001b[0m\u001b[0;34m=\u001b[0m\u001b[0;36m2\u001b[0m\u001b[0;34m,\u001b[0m \u001b[0mc\u001b[0m\u001b[0;34m=\u001b[0m\u001b[0;36m4\u001b[0m\u001b[0;34m)\u001b[0m\u001b[0;34m\u001b[0m\u001b[0m\n\u001b[0;32m----> 7\u001b[0;31m \u001b[0mf\u001b[0m\u001b[0;34m(\u001b[0m\u001b[0;36m2\u001b[0m\u001b[0;34m)\u001b[0m\u001b[0;34m\u001b[0m\u001b[0m\n\u001b[0m",
      "\u001b[0;31mTypeError\u001b[0m: f() takes 0 positional arguments but 1 was given"
     ]
    }
   ],
   "source": [
    "def f(*, a=1, b=0, c=0):\n",
    "    print(a, b, c)\n",
    "\n",
    "f(b=3)\n",
    "f(c=4, b=3)\n",
    "f(b=3, a=2, c=4)\n",
    "f(2)"
   ]
  },
  {
   "cell_type": "markdown",
   "metadata": {},
   "source": [
    "The function `initialise()` below is meant to create a quadratic equation represented as a dictionary with 5 keys, to keep track of the values of $a$, $b$ and $c$, but also of the values of the roots, computed by the function `compute_roots()` as soon as the former are known. We might think that `create()` would be a better name; we will soon understand why we opted for `initialise()`:"
   ]
  },
  {
   "cell_type": "code",
   "execution_count": 9,
   "metadata": {},
   "outputs": [],
   "source": [
    "def initialise(*, a=1, b=0, c=0):\n",
    "    if a == 0:\n",
    "        print('a cannot be equal to 0.')\n",
    "        return\n",
    "    equation = {'a': a, 'b': b, 'c': c, 'root_1': None, 'root_2': None}\n",
    "    compute_roots(equation)\n",
    "    return equation\n",
    "    \n",
    "def compute_roots(equation):\n",
    "    a, b, c = equation['a'], equation['b'], equation['c']\n",
    "    delta = b ** 2 - 4 * a * c\n",
    "    if delta < 0:\n",
    "        equation['root_1'] = equation['root_2'] = None\n",
    "    elif delta == 0:\n",
    "        equation['root_1'] = -b / (2 * a)\n",
    "        equation['root_2'] = None\n",
    "    else:\n",
    "        sqrt_delta = sqrt(delta)\n",
    "        equation['root_1'] = (-b - sqrt_delta) / (2 * a)\n",
    "        equation['root_2'] = (-b + sqrt_delta) / (2 * a)"
   ]
  },
  {
   "cell_type": "code",
   "execution_count": 10,
   "metadata": {
    "scrolled": false
   },
   "outputs": [
    {
     "name": "stdout",
     "output_type": "stream",
     "text": [
      "a cannot be equal to 0.\n"
     ]
    }
   ],
   "source": [
    "initialise(a=0, b=1)"
   ]
  },
  {
   "cell_type": "code",
   "execution_count": 11,
   "metadata": {},
   "outputs": [
    {
     "data": {
      "text/plain": [
       "1"
      ]
     },
     "execution_count": 11,
     "metadata": {},
     "output_type": "execute_result"
    },
    {
     "data": {
      "text/plain": [
       "0"
      ]
     },
     "execution_count": 11,
     "metadata": {},
     "output_type": "execute_result"
    },
    {
     "data": {
      "text/plain": [
       "0"
      ]
     },
     "execution_count": 11,
     "metadata": {},
     "output_type": "execute_result"
    },
    {
     "data": {
      "text/plain": [
       "0.0"
      ]
     },
     "execution_count": 11,
     "metadata": {},
     "output_type": "execute_result"
    }
   ],
   "source": [
    "eq1 = initialise()\n",
    "\n",
    "eq1['a']\n",
    "eq1['b']\n",
    "eq1['c']\n",
    "eq1['root_1']\n",
    "eq1['root_2'] # None"
   ]
  },
  {
   "cell_type": "code",
   "execution_count": 12,
   "metadata": {},
   "outputs": [
    {
     "data": {
      "text/plain": [
       "1"
      ]
     },
     "execution_count": 12,
     "metadata": {},
     "output_type": "execute_result"
    },
    {
     "data": {
      "text/plain": [
       "4"
      ]
     },
     "execution_count": 12,
     "metadata": {},
     "output_type": "execute_result"
    },
    {
     "data": {
      "text/plain": [
       "0"
      ]
     },
     "execution_count": 12,
     "metadata": {},
     "output_type": "execute_result"
    },
    {
     "data": {
      "text/plain": [
       "-4.0"
      ]
     },
     "execution_count": 12,
     "metadata": {},
     "output_type": "execute_result"
    },
    {
     "data": {
      "text/plain": [
       "0.0"
      ]
     },
     "execution_count": 12,
     "metadata": {},
     "output_type": "execute_result"
    }
   ],
   "source": [
    "eq2 = initialise(b=4)\n",
    "\n",
    "eq2['a']\n",
    "eq2['b']\n",
    "eq2['c']\n",
    "eq2['root_1']\n",
    "eq2['root_2']"
   ]
  },
  {
   "cell_type": "markdown",
   "metadata": {},
   "source": [
    "The function that follows allows one to change any number of parameters, that again have to be named even in case the change affects all of them; `compute_roots()` recomputes the roots as soon as the possibly new values of $a$, $b$ and $c$ are known: "
   ]
  },
  {
   "cell_type": "code",
   "execution_count": 18,
   "metadata": {},
   "outputs": [],
   "source": [
    "def update(equation, *, a=None, b=None, c=None):\n",
    "    if a == 0:\n",
    "        print('a cannot be equal to 0.')\n",
    "        return\n",
    "    if a is not None:\n",
    "        equation['a'] = a\n",
    "    if b is not None:\n",
    "        equation['b'] = b\n",
    "    if c is not None:\n",
    "        equation['c'] = c\n",
    "    compute_roots(equation)"
   ]
  },
  {
   "cell_type": "code",
   "execution_count": 19,
   "metadata": {},
   "outputs": [
    {
     "data": {
      "text/plain": [
       "1"
      ]
     },
     "execution_count": 19,
     "metadata": {},
     "output_type": "execute_result"
    },
    {
     "data": {
      "text/plain": [
       "3"
      ]
     },
     "execution_count": 19,
     "metadata": {},
     "output_type": "execute_result"
    },
    {
     "data": {
      "text/plain": [
       "2"
      ]
     },
     "execution_count": 19,
     "metadata": {},
     "output_type": "execute_result"
    },
    {
     "data": {
      "text/plain": [
       "-2.0"
      ]
     },
     "execution_count": 19,
     "metadata": {},
     "output_type": "execute_result"
    },
    {
     "data": {
      "text/plain": [
       "-1.0"
      ]
     },
     "execution_count": 19,
     "metadata": {},
     "output_type": "execute_result"
    },
    {
     "name": "stdout",
     "output_type": "stream",
     "text": [
      "\n",
      "a cannot be equal to 0.\n",
      "\n"
     ]
    },
    {
     "data": {
      "text/plain": [
       "1"
      ]
     },
     "execution_count": 19,
     "metadata": {},
     "output_type": "execute_result"
    },
    {
     "data": {
      "text/plain": [
       "-1"
      ]
     },
     "execution_count": 19,
     "metadata": {},
     "output_type": "execute_result"
    },
    {
     "data": {
      "text/plain": [
       "2"
      ]
     },
     "execution_count": 19,
     "metadata": {},
     "output_type": "execute_result"
    },
    {
     "name": "stdout",
     "output_type": "stream",
     "text": [
      "\n"
     ]
    },
    {
     "data": {
      "text/plain": [
       "0.5"
      ]
     },
     "execution_count": 19,
     "metadata": {},
     "output_type": "execute_result"
    },
    {
     "data": {
      "text/plain": [
       "-1"
      ]
     },
     "execution_count": 19,
     "metadata": {},
     "output_type": "execute_result"
    },
    {
     "data": {
      "text/plain": [
       "0.3"
      ]
     },
     "execution_count": 19,
     "metadata": {},
     "output_type": "execute_result"
    },
    {
     "data": {
      "text/plain": [
       "0.3675444679663241"
      ]
     },
     "execution_count": 19,
     "metadata": {},
     "output_type": "execute_result"
    },
    {
     "data": {
      "text/plain": [
       "1.632455532033676"
      ]
     },
     "execution_count": 19,
     "metadata": {},
     "output_type": "execute_result"
    }
   ],
   "source": [
    "eq3 = initialise(a=1, b=3, c=2)\n",
    "eq3['a']\n",
    "eq3['b']\n",
    "eq3['c']\n",
    "eq3['root_1']\n",
    "eq3['root_2']\n",
    "\n",
    "print()\n",
    "update(eq3, a=0)\n",
    "print()\n",
    "\n",
    "update(eq3, b=-1)\n",
    "eq3['a']\n",
    "eq3['b']\n",
    "eq3['c']\n",
    "eq3['root_1'] # None\n",
    "eq3['root_2'] # None\n",
    "\n",
    "print()\n",
    "\n",
    "update(eq3, c=0.3, a=0.5)\n",
    "eq3['a']\n",
    "eq3['b']\n",
    "eq3['c']\n",
    "eq3['root_1']\n",
    "eq3['root_2']"
   ]
  },
  {
   "cell_type": "markdown",
   "metadata": {},
   "source": [
    "To nicely display an equation, we have to carefully deal with the cases where where $a$ is equal to 1 or -1, $b$ is equal to 1 or -1 or otherwise strictly positive or strictly negative, and $c$ is strictly positive or strictly negative:"
   ]
  },
  {
   "cell_type": "code",
   "execution_count": 36,
   "metadata": {},
   "outputs": [],
   "source": [
    "def display(equation):\n",
    "    a, b, c = equation['a'], equation['b'], equation['c']\n",
    "    if a == 1:\n",
    "        displayed_equation = 'x^2'\n",
    "    elif a == -1:\n",
    "        displayed_equation = '-x^2'\n",
    "    else:\n",
    "        displayed_equation = f'{a}x^2'\n",
    "    if b == 1:\n",
    "        displayed_equation += ' + x'\n",
    "    elif b == -1:\n",
    "        displayed_equation -= ' - x'           \n",
    "    elif b > 0:\n",
    "        displayed_equation += f' + {b}x'\n",
    "    elif b < 0:\n",
    "        displayed_equation += f'- {-b}x'\n",
    "    if c > 0:\n",
    "        displayed_equation += f' + {c}'\n",
    "    elif c < 0:\n",
    "        displayed_equation += f' - {-c}'\n",
    "    print(displayed_equation, 0, sep=' = ')\n"
   ]
  },
  {
   "cell_type": "code",
   "execution_count": 37,
   "metadata": {},
   "outputs": [
    {
     "name": "stdout",
     "output_type": "stream",
     "text": [
      "x^2 = 0\n",
      "2x^2-5 = 0\n",
      "-x^2 -8x-6 = 0\n"
     ]
    }
   ],
   "source": [
    "display(initialise())\n",
    "display(initialise(c=-5, a=2))\n",
    "display(initialise(b=1, a=-1, c=-1))"
   ]
  },
  {
   "cell_type": "markdown",
   "metadata": {},
   "source": [
    "That ends the first design. For the second design, we package the functionality associated with quadratic equations; a dictionary offers a simple way to do so. The dictionary `QuadraticEquationDict` below captures the view that a quadratic equation is an entity that can be created (initialised), displayed, modified (updated) and has roots that can be computed. All of the dictionary's values are functions; they have been previously defined, but two of them are given a slightly different implementation, reflecting the fact that the four functions are now part of the `QuadraticEquationDict` \"package\":"
   ]
  },
  {
   "cell_type": "code",
   "execution_count": 38,
   "metadata": {},
   "outputs": [],
   "source": [
    "def initialise_variant_1(*, a=1, b=0, c=0):\n",
    "    if a == 0:\n",
    "        print('a cannot be equal to 0.')\n",
    "        return\n",
    "    equation = {'a': a, 'b': b, 'c': c, 'root_1': None, 'root_2': None}\n",
    "    QuadraticEquationDict['compute_roots'](equation)\n",
    "    return equation\n",
    "\n",
    "def update_variant_1(equation, *, a=None, b=None, c=None):\n",
    "    if a == 0:\n",
    "        print('a cannot be equal to 0.')\n",
    "        return\n",
    "    if a is not None:\n",
    "        equation['a'] = a\n",
    "    if b is not None:\n",
    "        equation['b'] = b\n",
    "    if c is not None:\n",
    "        equation['c'] = c\n",
    "    QuadraticEquationDict['compute_roots'](equation)\n",
    "    \n",
    "QuadraticEquationDict = {'initialise': initialise_variant_1,\n",
    "                         'display': display,\n",
    "                         'compute_roots': compute_roots,\n",
    "                         'update': update_variant_1\n",
    "                        }"
   ]
  },
  {
   "cell_type": "markdown",
   "metadata": {},
   "source": [
    "The code that tests all four functions is similarly changed and relative to the `QuadraticEquationDict` \"package\":"
   ]
  },
  {
   "cell_type": "code",
   "execution_count": 39,
   "metadata": {
    "scrolled": true
   },
   "outputs": [
    {
     "name": "stdout",
     "output_type": "stream",
     "text": [
      "a cannot be equal to 0.\n"
     ]
    }
   ],
   "source": [
    "QuadraticEquationDict['initialise'](a=0, b=1)"
   ]
  },
  {
   "cell_type": "code",
   "execution_count": 40,
   "metadata": {},
   "outputs": [
    {
     "data": {
      "text/plain": [
       "1"
      ]
     },
     "execution_count": 40,
     "metadata": {},
     "output_type": "execute_result"
    },
    {
     "data": {
      "text/plain": [
       "0"
      ]
     },
     "execution_count": 40,
     "metadata": {},
     "output_type": "execute_result"
    },
    {
     "data": {
      "text/plain": [
       "0"
      ]
     },
     "execution_count": 40,
     "metadata": {},
     "output_type": "execute_result"
    },
    {
     "data": {
      "text/plain": [
       "0.0"
      ]
     },
     "execution_count": 40,
     "metadata": {},
     "output_type": "execute_result"
    }
   ],
   "source": [
    "eq1 = QuadraticEquationDict['initialise']()\n",
    "\n",
    "eq1['a']\n",
    "eq1['b']\n",
    "eq1['c']\n",
    "eq1['root_1']\n",
    "eq1['root_2'] # None"
   ]
  },
  {
   "cell_type": "code",
   "execution_count": 41,
   "metadata": {},
   "outputs": [
    {
     "data": {
      "text/plain": [
       "1"
      ]
     },
     "execution_count": 41,
     "metadata": {},
     "output_type": "execute_result"
    },
    {
     "data": {
      "text/plain": [
       "4"
      ]
     },
     "execution_count": 41,
     "metadata": {},
     "output_type": "execute_result"
    },
    {
     "data": {
      "text/plain": [
       "0"
      ]
     },
     "execution_count": 41,
     "metadata": {},
     "output_type": "execute_result"
    },
    {
     "data": {
      "text/plain": [
       "-4.0"
      ]
     },
     "execution_count": 41,
     "metadata": {},
     "output_type": "execute_result"
    },
    {
     "data": {
      "text/plain": [
       "0.0"
      ]
     },
     "execution_count": 41,
     "metadata": {},
     "output_type": "execute_result"
    }
   ],
   "source": [
    "eq2 = QuadraticEquationDict['initialise'](b=4)\n",
    "\n",
    "eq2['a']\n",
    "eq2['b']\n",
    "eq2['c']\n",
    "eq2['root_1']\n",
    "eq2['root_2']"
   ]
  },
  {
   "cell_type": "code",
   "execution_count": 43,
   "metadata": {},
   "outputs": [
    {
     "data": {
      "text/plain": [
       "1"
      ]
     },
     "execution_count": 43,
     "metadata": {},
     "output_type": "execute_result"
    },
    {
     "data": {
      "text/plain": [
       "3"
      ]
     },
     "execution_count": 43,
     "metadata": {},
     "output_type": "execute_result"
    },
    {
     "data": {
      "text/plain": [
       "2"
      ]
     },
     "execution_count": 43,
     "metadata": {},
     "output_type": "execute_result"
    },
    {
     "data": {
      "text/plain": [
       "-2.0"
      ]
     },
     "execution_count": 43,
     "metadata": {},
     "output_type": "execute_result"
    },
    {
     "data": {
      "text/plain": [
       "-1.0"
      ]
     },
     "execution_count": 43,
     "metadata": {},
     "output_type": "execute_result"
    },
    {
     "name": "stdout",
     "output_type": "stream",
     "text": [
      "\n",
      "a cannot be equal to 0.\n",
      "\n"
     ]
    },
    {
     "data": {
      "text/plain": [
       "1"
      ]
     },
     "execution_count": 43,
     "metadata": {},
     "output_type": "execute_result"
    },
    {
     "data": {
      "text/plain": [
       "-1"
      ]
     },
     "execution_count": 43,
     "metadata": {},
     "output_type": "execute_result"
    },
    {
     "data": {
      "text/plain": [
       "2"
      ]
     },
     "execution_count": 43,
     "metadata": {},
     "output_type": "execute_result"
    },
    {
     "name": "stdout",
     "output_type": "stream",
     "text": [
      "\n"
     ]
    },
    {
     "data": {
      "text/plain": [
       "0.5"
      ]
     },
     "execution_count": 43,
     "metadata": {},
     "output_type": "execute_result"
    },
    {
     "data": {
      "text/plain": [
       "-1"
      ]
     },
     "execution_count": 43,
     "metadata": {},
     "output_type": "execute_result"
    },
    {
     "data": {
      "text/plain": [
       "0.3"
      ]
     },
     "execution_count": 43,
     "metadata": {},
     "output_type": "execute_result"
    },
    {
     "data": {
      "text/plain": [
       "0.3675444679663241"
      ]
     },
     "execution_count": 43,
     "metadata": {},
     "output_type": "execute_result"
    },
    {
     "data": {
      "text/plain": [
       "1.632455532033676"
      ]
     },
     "execution_count": 43,
     "metadata": {},
     "output_type": "execute_result"
    }
   ],
   "source": [
    "eq3 = QuadraticEquationDict['initialise'](a=1, b=3, c=2)\n",
    "eq3['a']\n",
    "eq3['b']\n",
    "eq3['c']\n",
    "eq3['root_1']\n",
    "eq3['root_2']\n",
    "\n",
    "print()\n",
    "QuadraticEquationDict['update'](eq3, a=0)\n",
    "print()\n",
    "\n",
    "update(eq3, b=-1)\n",
    "eq3['a']\n",
    "eq3['b']\n",
    "eq3['c']\n",
    "eq3['root_1'] # None\n",
    "eq3['root_2'] # None\n",
    "\n",
    "print()\n",
    "\n",
    "QuadraticEquationDict['update'](eq3, c=0.3, a=0.5)\n",
    "eq3['a']\n",
    "eq3['b']\n",
    "eq3['c']\n",
    "eq3['root_1']\n",
    "eq3['root_2']"
   ]
  },
  {
   "cell_type": "code",
   "execution_count": 44,
   "metadata": {
    "scrolled": true
   },
   "outputs": [
    {
     "name": "stdout",
     "output_type": "stream",
     "text": [
      "x^2 = 0\n",
      "2x^2-5 = 0\n",
      "-x^2 + x-1 = 0\n"
     ]
    }
   ],
   "source": [
    "QuadraticEquationDict['display'](QuadraticEquationDict['initialise']())\n",
    "QuadraticEquationDict['display'](QuadraticEquationDict['initialise'](c=-5, a=2)\n",
    "                                )\n",
    "QuadraticEquationDict['display'](QuadraticEquationDict['initialise'](b=1, a=-1,\n",
    "                                                                     c=-1\n",
    "                                                                    )\n",
    "                                )"
   ]
  },
  {
   "cell_type": "markdown",
   "metadata": {},
   "source": [
    "With the third design, we meet the object oriented paradigm. All four functions are implemented slightly differently:"
   ]
  },
  {
   "cell_type": "code",
   "execution_count": 45,
   "metadata": {},
   "outputs": [],
   "source": [
    "def initialise_variant_2(equation, *, a=1, b=0, c=0):\n",
    "    if a == 0:\n",
    "        print('a cannot be equal to 0.')\n",
    "        return\n",
    "    equation.a = a\n",
    "    equation.b = b\n",
    "    equation.c = c\n",
    "    QuadraticEquationType.compute_roots(equation)\n",
    "\n",
    "def display_variant_1(equation):\n",
    "    a, b, c = equation.a, equation.b, equation.c\n",
    "    if a == 1:\n",
    "        displayed_equation = 'x^2'\n",
    "    elif a == -1:\n",
    "        displayed_equation = '-x^2'\n",
    "    else:\n",
    "        displayed_equation = f'{a}x^2'\n",
    "    if b == 1:\n",
    "        displayed_equation += ' + x'\n",
    "    elif b == -1:\n",
    "        displayed_equation -= ' - x'           \n",
    "    elif b > 0:\n",
    "        displayed_equation += f' + {b}x'\n",
    "    elif b < 0:\n",
    "        displayed_equation += f'- {-b}x'\n",
    "    if c > 0:\n",
    "        displayed_equation += f' + {c}'\n",
    "    elif c < 0:\n",
    "        displayed_equation += f' - {-c}'\n",
    "    print(displayed_equation, 0, sep=' = ')\n",
    "    \n",
    "def compute_roots_variant_2(equation):\n",
    "    a, b, c = equation.a, equation.b, equation.c\n",
    "    delta = b ** 2 - 4 * a * c\n",
    "    if delta < 0:\n",
    "        equation.root_1 = equation.root_2 = None\n",
    "    elif delta == 0:\n",
    "        equation.root_1 = -b / (2 * a)\n",
    "        equation.root_2 = None\n",
    "    else:\n",
    "        sqrt_delta = sqrt(delta)\n",
    "        equation.root_1 = (-b - sqrt_delta) / (2 * a)\n",
    "        equation.root_2 = (-b + sqrt_delta) / (2 * a)\n",
    "    \n",
    "def update_variant_2(equation, *, a=None, b=None, c=None):\n",
    "    if a == 0:\n",
    "        print('a cannot be equal to 0.')\n",
    "        return\n",
    "    if a is not None:\n",
    "        equation.a = a\n",
    "    if b is not None:\n",
    "        equation.b = b\n",
    "    if c is not None:\n",
    "        equation.c = c\n",
    "    QuadraticEquationType.compute_roots(equation)\n",
    "\n",
    "QuadraticEquationType = type('QuadraticEquationType', (),\n",
    "                             {'__init__' : initialise_variant_2,\n",
    "                              'display': display_variant_1,\n",
    "                              'compute_roots': compute_roots_variant_2,\n",
    "                              'update': update_variant_2\n",
    "                             }\n",
    "                            )"
   ]
  },
  {
   "cell_type": "markdown",
   "metadata": {},
   "source": [
    "`QuadraticEquationType` seems to embed `QuadraticEquationDict`, with `'initialise'` changed to `'__init__'`; `'initialise'` was an arbitrary name, whereas `'__init__'` is imposed. With `'initialise'`, we chose a name close enough to `'__init__'` so as to reflect the similarity of the implementations. `QuadraticEquationType` is a __type__, with the name `'QuadraticEquationType'`, above provided as first argument to `type()`; another use of `type()` below shows that `QuadraticEquationType` is indeed a type:"
   ]
  },
  {
   "cell_type": "code",
   "execution_count": 51,
   "metadata": {},
   "outputs": [
    {
     "data": {
      "text/plain": [
       "type"
      ]
     },
     "execution_count": 51,
     "metadata": {},
     "output_type": "execute_result"
    },
    {
     "data": {
      "text/plain": [
       "'QuadraticEquationType'"
      ]
     },
     "execution_count": 51,
     "metadata": {},
     "output_type": "execute_result"
    }
   ],
   "source": [
    "\n",
    "type(QuadraticEquationType)\n",
    "QuadraticEquationType.__name__"
   ]
  },
  {
   "cell_type": "markdown",
   "metadata": {},
   "source": [
    "The second argument to `type()` is an empty tuple, making `QuadraticEquationType` a direct subtype of `object`, the mother of all types:"
   ]
  },
  {
   "cell_type": "code",
   "execution_count": 58,
   "metadata": {
    "scrolled": false
   },
   "outputs": [
    {
     "data": {
      "text/plain": [
       "object"
      ]
     },
     "execution_count": 58,
     "metadata": {},
     "output_type": "execute_result"
    },
    {
     "data": {
      "text/plain": [
       "object"
      ]
     },
     "execution_count": 58,
     "metadata": {},
     "output_type": "execute_result"
    }
   ],
   "source": [
    "QuadraticEquationType.__base__\n",
    "float.__base__\n"
   ]
  },
  {
   "cell_type": "markdown",
   "metadata": {},
   "source": [
    "The third argument to `type()` is a dictionary of __attributes__, that are all members of `__dict__`, which itself is another attribute of `QuadraticEquationType`:"
   ]
  },
  {
   "cell_type": "code",
   "execution_count": 59,
   "metadata": {
    "scrolled": true
   },
   "outputs": [
    {
     "data": {
      "text/plain": [
       "mappingproxy({'__init__': <function __main__.initialise_variant_2(equation, *, a=1, b=0, c=0)>,\n",
       "              'display': <function __main__.display_variant_1(equation)>,\n",
       "              'compute_roots': <function __main__.compute_roots_variant_2(equation)>,\n",
       "              'update': <function __main__.update_variant_2(equation, *, a=None, b=None, c=None)>,\n",
       "              '__module__': '__main__',\n",
       "              '__dict__': <attribute '__dict__' of 'QuadraticEquationType' objects>,\n",
       "              '__weakref__': <attribute '__weakref__' of 'QuadraticEquationType' objects>,\n",
       "              '__doc__': None})"
      ]
     },
     "execution_count": 59,
     "metadata": {},
     "output_type": "execute_result"
    }
   ],
   "source": [
    "QuadraticEquationType.__dict__"
   ]
  },
  {
   "cell_type": "markdown",
   "metadata": {},
   "source": [
    "`object` also has a `__dict__` attribute:"
   ]
  },
  {
   "cell_type": "code",
   "execution_count": 49,
   "metadata": {
    "scrolled": false
   },
   "outputs": [
    {
     "data": {
      "text/plain": [
       "mappingproxy({'__repr__': <slot wrapper '__repr__' of 'object' objects>,\n",
       "              '__hash__': <slot wrapper '__hash__' of 'object' objects>,\n",
       "              '__str__': <slot wrapper '__str__' of 'object' objects>,\n",
       "              '__getattribute__': <slot wrapper '__getattribute__' of 'object' objects>,\n",
       "              '__setattr__': <slot wrapper '__setattr__' of 'object' objects>,\n",
       "              '__delattr__': <slot wrapper '__delattr__' of 'object' objects>,\n",
       "              '__lt__': <slot wrapper '__lt__' of 'object' objects>,\n",
       "              '__le__': <slot wrapper '__le__' of 'object' objects>,\n",
       "              '__eq__': <slot wrapper '__eq__' of 'object' objects>,\n",
       "              '__ne__': <slot wrapper '__ne__' of 'object' objects>,\n",
       "              '__gt__': <slot wrapper '__gt__' of 'object' objects>,\n",
       "              '__ge__': <slot wrapper '__ge__' of 'object' objects>,\n",
       "              '__init__': <slot wrapper '__init__' of 'object' objects>,\n",
       "              '__new__': <function object.__new__(*args, **kwargs)>,\n",
       "              '__reduce_ex__': <method '__reduce_ex__' of 'object' objects>,\n",
       "              '__reduce__': <method '__reduce__' of 'object' objects>,\n",
       "              '__subclasshook__': <method '__subclasshook__' of 'object' objects>,\n",
       "              '__init_subclass__': <method '__init_subclass__' of 'object' objects>,\n",
       "              '__format__': <method '__format__' of 'object' objects>,\n",
       "              '__sizeof__': <method '__sizeof__' of 'object' objects>,\n",
       "              '__dir__': <method '__dir__' of 'object' objects>,\n",
       "              '__class__': <attribute '__class__' of 'object' objects>,\n",
       "              '__doc__': 'The most base type'})"
      ]
     },
     "execution_count": 49,
     "metadata": {},
     "output_type": "execute_result"
    }
   ],
   "source": [
    "object.__dict__"
   ]
  },
  {
   "cell_type": "markdown",
   "metadata": {},
   "source": [
    "The `dir()` function returns a list of attributes of its argument; with `object` as argument, that list consists of nothing but the attributes in `object.__dict__`: "
   ]
  },
  {
   "cell_type": "code",
   "execution_count": 60,
   "metadata": {
    "scrolled": true
   },
   "outputs": [
    {
     "data": {
      "text/plain": [
       "['__class__',\n",
       " '__delattr__',\n",
       " '__dir__',\n",
       " '__doc__',\n",
       " '__eq__',\n",
       " '__format__',\n",
       " '__ge__',\n",
       " '__getattribute__',\n",
       " '__gt__',\n",
       " '__hash__',\n",
       " '__init__',\n",
       " '__init_subclass__',\n",
       " '__le__',\n",
       " '__lt__',\n",
       " '__ne__',\n",
       " '__new__',\n",
       " '__reduce__',\n",
       " '__reduce_ex__',\n",
       " '__repr__',\n",
       " '__setattr__',\n",
       " '__sizeof__',\n",
       " '__str__',\n",
       " '__subclasshook__']"
      ]
     },
     "execution_count": 60,
     "metadata": {},
     "output_type": "execute_result"
    },
    {
     "data": {
      "text/plain": [
       "True"
      ]
     },
     "execution_count": 60,
     "metadata": {},
     "output_type": "execute_result"
    }
   ],
   "source": [
    "dir(object)\n",
    "\n",
    "set(object.__dict__) == set(dir(object))"
   ]
  },
  {
   "cell_type": "markdown",
   "metadata": {},
   "source": [
    "With `QuadraticEquationType` as argument, `dir()` returns a list of attributes that consists precisely of the attributes in `object.__dict__` (or equivalently, the attributes in `dir(object)`), all __inherited__ by `QuadraticEquationType`, and the attributes in `QuadraticEquationType.__dict__`:"
   ]
  },
  {
   "cell_type": "code",
   "execution_count": 61,
   "metadata": {},
   "outputs": [
    {
     "data": {
      "text/plain": [
       "['__class__',\n",
       " '__delattr__',\n",
       " '__dict__',\n",
       " '__dir__',\n",
       " '__doc__',\n",
       " '__eq__',\n",
       " '__format__',\n",
       " '__ge__',\n",
       " '__getattribute__',\n",
       " '__gt__',\n",
       " '__hash__',\n",
       " '__init__',\n",
       " '__init_subclass__',\n",
       " '__le__',\n",
       " '__lt__',\n",
       " '__module__',\n",
       " '__ne__',\n",
       " '__new__',\n",
       " '__reduce__',\n",
       " '__reduce_ex__',\n",
       " '__repr__',\n",
       " '__setattr__',\n",
       " '__sizeof__',\n",
       " '__str__',\n",
       " '__subclasshook__',\n",
       " '__weakref__',\n",
       " 'compute_roots',\n",
       " 'display',\n",
       " 'update']"
      ]
     },
     "execution_count": 61,
     "metadata": {},
     "output_type": "execute_result"
    },
    {
     "data": {
      "text/plain": [
       "True"
      ]
     },
     "execution_count": 61,
     "metadata": {},
     "output_type": "execute_result"
    }
   ],
   "source": [
    "dir(QuadraticEquationType)\n",
    "\n",
    "set(dir(QuadraticEquationType)) == set(object.__dict__)\\\n",
    "                                  | set(QuadraticEquationType.__dict__)"
   ]
  },
  {
   "cell_type": "markdown",
   "metadata": {},
   "source": [
    "Two attributes belong to both `object.__dict__` and `QuadraticEquationType.__dict__`; they are attributes of `object` inherited by `QuadraticEquationType`, but also __overwritten__ by `QuadraticEquationType`:"
   ]
  },
  {
   "cell_type": "code",
   "execution_count": 65,
   "metadata": {},
   "outputs": [
    {
     "data": {
      "text/plain": [
       "{'__doc__', '__init__'}"
      ]
     },
     "execution_count": 65,
     "metadata": {},
     "output_type": "execute_result"
    },
    {
     "data": {
      "text/plain": [
       "'The most base type'"
      ]
     },
     "execution_count": 65,
     "metadata": {},
     "output_type": "execute_result"
    },
    {
     "data": {
      "text/plain": [
       "<slot wrapper '__init__' of 'object' objects>"
      ]
     },
     "execution_count": 65,
     "metadata": {},
     "output_type": "execute_result"
    },
    {
     "data": {
      "text/plain": [
       "<function __main__.initialise_variant_2(equation, *, a=1, b=0, c=0)>"
      ]
     },
     "execution_count": 65,
     "metadata": {},
     "output_type": "execute_result"
    }
   ],
   "source": [
    "set(dir(object)) & set(QuadraticEquationType.__dict__)\n",
    "object.__doc__\n",
    "QuadraticEquationType.__doc__ # None\n",
    "object.__init__\n",
    "QuadraticEquationType.__init__"
   ]
  },
  {
   "cell_type": "markdown",
   "metadata": {},
   "source": [
    "With the syntax `QuadraticEquationType.compute_roots`, we are trying to access the `'compute_roots'` attribute of `QuadraticEquationType`, which is equivalent to retrieving the value of the `'compute_roots'` key of the `'__dict__'` attribute of `QuadraticEquationType` (this raises the question of how `'__dict__'` itself is retrieved...):"
   ]
  },
  {
   "cell_type": "code",
   "execution_count": 66,
   "metadata": {},
   "outputs": [
    {
     "data": {
      "text/plain": [
       "<function __main__.compute_roots_variant_2(equation)>"
      ]
     },
     "execution_count": 66,
     "metadata": {},
     "output_type": "execute_result"
    },
    {
     "data": {
      "text/plain": [
       "<function __main__.compute_roots_variant_2(equation)>"
      ]
     },
     "execution_count": 66,
     "metadata": {},
     "output_type": "execute_result"
    }
   ],
   "source": [
    "QuadraticEquationType.compute_roots\n",
    "QuadraticEquationType.__dict__['compute_roots']"
   ]
  },
  {
   "cell_type": "markdown",
   "metadata": {},
   "source": [
    "The key difference between `initialise_variant_1()` and `initialise_variant_2()` is that the latter has an extra argument, `equation`, and returns `None`, whereas the former returns a dictionary that is the counterpart to `equation`. What value is assigned to `equation`; what provides it? One of `QuadraticEquationType`'s attributes is `'__new__'`, which we know is inherited from and not overwritten by `object`:"
   ]
  },
  {
   "cell_type": "code",
   "execution_count": 67,
   "metadata": {},
   "outputs": [
    {
     "data": {
      "text/plain": [
       "<function object.__new__(*args, **kwargs)>"
      ]
     },
     "execution_count": 67,
     "metadata": {},
     "output_type": "execute_result"
    },
    {
     "data": {
      "text/plain": [
       "True"
      ]
     },
     "execution_count": 67,
     "metadata": {},
     "output_type": "execute_result"
    }
   ],
   "source": [
    "QuadraticEquationType.__new__\n",
    "QuadraticEquationType.__new__ is object.__new__"
   ]
  },
  {
   "cell_type": "markdown",
   "metadata": {},
   "source": [
    "When called with `QuadraticEquationType` as argument, the function that `QuadraticEquationType.__new__`, or equivalently, `object.__new__`, evaluates to, returns an object (not to be confused with `object`) of type `QuadraticEquationType`:"
   ]
  },
  {
   "cell_type": "code",
   "execution_count": 68,
   "metadata": {},
   "outputs": [
    {
     "data": {
      "text/plain": [
       "<__main__.QuadraticEquationType at 0x10ad8dc50>"
      ]
     },
     "execution_count": 68,
     "metadata": {},
     "output_type": "execute_result"
    },
    {
     "data": {
      "text/plain": [
       "__main__.QuadraticEquationType"
      ]
     },
     "execution_count": 68,
     "metadata": {},
     "output_type": "execute_result"
    }
   ],
   "source": [
    "QuadraticEquationType.__new__(QuadraticEquationType)\n",
    "type(QuadraticEquationType.__new__(QuadraticEquationType))"
   ]
  },
  {
   "cell_type": "markdown",
   "metadata": {},
   "source": [
    "The object returned by `QuadraticEquationType.__new__(QuadraticEquationType)` can then be passed as an argument to `initialise_variant_2()`, the function that `QuadraticEquationType.__init__` evaluates to:"
   ]
  },
  {
   "cell_type": "code",
   "execution_count": null,
   "metadata": {},
   "outputs": [],
   "source": [
    "eq = QuadraticEquationType.__new__(QuadraticEquationType)\n",
    "\n",
    "QuadraticEquationType.__init__(eq, a=0, b=1)"
   ]
  },
  {
   "cell_type": "markdown",
   "metadata": {},
   "source": [
    "The object returned by `QuadraticEquationType.__new__(QuadraticEquationType)` has a `__dict__` attribute, that happens to be empty; the `dir()` function returns the same list of attributes when it is given either the object or `QuadraticEquationType` as argument, reflecting the fact that the object inherits all those attributes from `QuadraticEquationType`:"
   ]
  },
  {
   "cell_type": "code",
   "execution_count": 69,
   "metadata": {},
   "outputs": [
    {
     "data": {
      "text/plain": [
       "{}"
      ]
     },
     "execution_count": 69,
     "metadata": {},
     "output_type": "execute_result"
    },
    {
     "data": {
      "text/plain": [
       "True"
      ]
     },
     "execution_count": 69,
     "metadata": {},
     "output_type": "execute_result"
    }
   ],
   "source": [
    "eq1 = QuadraticEquationType.__new__(QuadraticEquationType)\n",
    "\n",
    "eq1.__dict__\n",
    "dir(eq1) == dir(QuadraticEquationType) "
   ]
  },
  {
   "cell_type": "markdown",
   "metadata": {},
   "source": [
    "A call to `QuadraticEquationType.__init__()` provides `eq1` with new attributes, which are now in `eq1.__dict__` and also part of `dir(eq_1)`. With the syntax `eq1.a`, `eq1.b`, `eq1.c`, `eq1.root_1` and `eq1.root_2`, we are trying to access the `'a'`, `'b'`, `'c'`, `'root_1'` and `'root_2'` attributes of `eq1`, which is equivalent to retrieving the values of the `'a'`, `'b'`, `'c'`, `'root_1'` and `'root_2'` keys of the `'__dict__'` attribute of `eq1` (this again raises the question of how `'__dict__'` itself is retrieved):"
   ]
  },
  {
   "cell_type": "code",
   "execution_count": null,
   "metadata": {},
   "outputs": [],
   "source": [
    "QuadraticEquationType.__init__(eq1)\n",
    "\n",
    "eq1.__dict__\n",
    "set(dir(eq1)) - set(dir(QuadraticEquationType))\n",
    "eq1.__dict__['a']\n",
    "eq1.a\n",
    "eq1.__dict__['b']\n",
    "eq1.b\n",
    "eq1.__dict__['c']\n",
    "eq1.c\n",
    "eq1.__dict__['root_1']\n",
    "eq1.root_1\n",
    "eq1.__dict__['root_2'] # None\n",
    "eq1.root_2 # None"
   ]
  },
  {
   "cell_type": "markdown",
   "metadata": {},
   "source": [
    "We now understand what value `initialise_variant_2()`'s first argument, `equation`, receives, and what provides it, but in practice, we do not explicitly call first `QuadraticEquationType.__new__()` and then `QuadraticEquationType.__init__()`; instead, we use the following syntax, that in one sweep move, both creates an object and initialises it:"
   ]
  },
  {
   "cell_type": "code",
   "execution_count": null,
   "metadata": {},
   "outputs": [],
   "source": [
    "eq2 = QuadraticEquationType(b=4)\n",
    "\n",
    "eq2.a\n",
    "eq2.b\n",
    "eq2.c\n",
    "eq2.root_1\n",
    "eq2.root_2"
   ]
  },
  {
   "cell_type": "markdown",
   "metadata": {},
   "source": [
    "`compute_roots`, `update` and `display` are attributes of both `QuadraticEquationType` and of objects returned by `QuadraticEquationType.__new__(QuadraticEquationType)`, but they evaluate to different entities:"
   ]
  },
  {
   "cell_type": "code",
   "execution_count": null,
   "metadata": {},
   "outputs": [],
   "source": [
    "QuadraticEquationType.compute_roots\n",
    "QuadraticEquationType.__new__(QuadraticEquationType).compute_roots\n",
    "\n",
    "print()\n",
    "\n",
    "QuadraticEquationType.update\n",
    "QuadraticEquationType.__new__(QuadraticEquationType).update\n",
    "\n",
    "print()\n",
    "\n",
    "QuadraticEquationType.display\n",
    "QuadraticEquationType.__new__(QuadraticEquationType).display\n",
    "eq = QuadraticEquationType.__new__(QuadraticEquationType)"
   ]
  },
  {
   "cell_type": "markdown",
   "metadata": {},
   "source": [
    "These __bound methods__ essentially allow one to call `compute_roots_variant_2()`, `update_variant_2()` and `display_variant_1()` using `'compute_roots'`, `'update'` and `'display'` as object attributes rather than `QuadraticEquationType` attributes, providing the desired value as first argument. More precisely, one can think of the bound method $M$ of an object $o$ of type `QuadraticEquationType` as a pair:\n",
    "\n",
    "* the first member of the pair is a `QuadraticEquationType` function $f$, meant to take an object of type `QuadraticEquationType` as first (and possibly unique) argument;\n",
    "* the second member of the pair is $o$, meant to be that first argument.\n",
    "\n",
    "Having both $f$ and $o$ in hand together with any other arguments for $f$, if any, $f$ can then be called with $o$ provided as first argument. This can done either as `QuadraticEquationType.variable_referring_to_f(variable_referring_to_o, possibly followed by extra arguments)`, or as `variable_referring_to_o.variable_referring_to_f(possibly, extra arguments)`. This alternative syntax is more compact and the one used in practice:"
   ]
  },
  {
   "cell_type": "code",
   "execution_count": null,
   "metadata": {},
   "outputs": [],
   "source": [
    "eq3 = QuadraticEquationType(a=1, b=3, c=2)\n",
    "eq3.a\n",
    "eq3.b\n",
    "eq3.c\n",
    "eq3.root_1\n",
    "eq3.root_2\n",
    "\n",
    "print()\n",
    "# update() called as a QuadraticEquationType function\n",
    "QuadraticEquationType.update(eq3, a=0)\n",
    "print()\n",
    "\n",
    "# update() called as a QuadraticEquationType function\n",
    "QuadraticEquationType.update(eq3, b=-1)\n",
    "eq3.a\n",
    "eq3.b\n",
    "eq3.c\n",
    "eq3.root_1 # None\n",
    "eq3.root_2 # None\n",
    "\n",
    "print()\n",
    "\n",
    "# update() called as an eq3 bound method\n",
    "eq3.update(c=0.3, a=0.5)\n",
    "eq3.a\n",
    "eq3.b\n",
    "eq3.c\n",
    "eq3.root_1\n",
    "eq3.root_2"
   ]
  },
  {
   "cell_type": "code",
   "execution_count": 70,
   "metadata": {},
   "outputs": [
    {
     "name": "stdout",
     "output_type": "stream",
     "text": [
      "x^2 = 0\n",
      "2x^2 - 5 = 0\n",
      "2x^2 - 5 = 0\n"
     ]
    }
   ],
   "source": [
    "# display() called as a QuadraticEquationType function\n",
    "QuadraticEquationType.display(QuadraticEquationType())\n",
    "# display() called as a QuadraticEquationType function\n",
    "QuadraticEquationType.display(QuadraticEquationType(c=-5, a=2))\n",
    "# display() called as a bound method of the object\n",
    "# returned by QuadraticEquationType()\n",
    "QuadraticEquationType(c=-5, a=2).display()"
   ]
  },
  {
   "cell_type": "markdown",
   "metadata": {},
   "source": [
    "The fourth design is essentially nothing but a syntactic variant on the third design, with `class` followed by the first argument to `type()` (that we change to `QuadraticEquationClass`), and with the functions that are the values of the dictionary provided as third argument to `type()` now in the body of the class statement. Also, `display` is renamed `__str__`, and whereas the former returns `None` and executes `print()` statements, the latter returns a string: when `print()` is given an object as argument, it calls the object's `__str__()` bound method and displays the returned string:"
   ]
  },
  {
   "cell_type": "code",
   "execution_count": 71,
   "metadata": {},
   "outputs": [],
   "source": [
    "class QuadraticEquationClass:\n",
    "    def __init__(equation, *, a=1, b=0, c=0):\n",
    "        if a == 0:\n",
    "            print('a cannot be equal to 0.')\n",
    "            return\n",
    "        equation.a = a\n",
    "        equation.b = b\n",
    "        equation.c = c\n",
    "        equation.compute_roots()\n",
    "\n",
    "    def __str__(equation):\n",
    "        if equation.a == 1:\n",
    "            displayed_equation = 'x^2'\n",
    "        elif equation.a == -1:\n",
    "            displayed_equation = '-x^2'\n",
    "        else:\n",
    "            displayed_equation = f'{equation.a}x^2'\n",
    "        if equation.b == 1:\n",
    "            displayed_equation += ' + x'\n",
    "        elif equation.b == -1:\n",
    "            displayed_equation -= ' - x'           \n",
    "        elif equation.b > 0:\n",
    "            displayed_equation += f' + {equation.b}x'\n",
    "        elif equation.b < 0:\n",
    "            displayed_equation += f'- {-equation.b}x'\n",
    "        if equation.c > 0:\n",
    "            displayed_equation += f' + {equation.c}'\n",
    "        elif equation.c < 0:\n",
    "            displayed_equation += f' - {-equation.c}'\n",
    "        return f'{displayed_equation} = 0'\n",
    "\n",
    "    def compute_roots(equation):\n",
    "        delta = equation.b ** 2 - 4 * equation.a * equation.c\n",
    "        if delta < 0:\n",
    "            equation.root_1 = equation.root_2 = None\n",
    "        elif delta == 0:\n",
    "            equation.root_1 = -equation.b / (2 * equation.a)\n",
    "            equation.root_2 = None\n",
    "        else:\n",
    "            sqrt_delta = sqrt(delta)\n",
    "            equation.root_1 = (-equation.b - sqrt_delta) / (2 * equation.a)\n",
    "            equation.root_2 = (-equation.b + sqrt_delta) / (2 * equation.a)\n",
    "\n",
    "    def update(equation, *, a=None, b=None, c=None):\n",
    "        if a == 0:\n",
    "            print('a cannot be equal to 0.')\n",
    "            return\n",
    "        if a is not None:\n",
    "            equation.a = a\n",
    "        if b is not None:\n",
    "            equation.b = b\n",
    "        if c is not None:\n",
    "            equation.c = c\n",
    "        equation.compute_roots()"
   ]
  },
  {
   "cell_type": "markdown",
   "metadata": {},
   "source": [
    "The syntax for object creation and initialisation and for calls to `compute_roots()` and `update()` is the same as with the third design:"
   ]
  },
  {
   "cell_type": "code",
   "execution_count": 72,
   "metadata": {},
   "outputs": [
    {
     "name": "stdout",
     "output_type": "stream",
     "text": [
      "a cannot be equal to 0.\n"
     ]
    },
    {
     "data": {
      "text/plain": [
       "<__main__.QuadraticEquationClass at 0x10ace5dd8>"
      ]
     },
     "execution_count": 72,
     "metadata": {},
     "output_type": "execute_result"
    },
    {
     "name": "stdout",
     "output_type": "stream",
     "text": [
      "\n"
     ]
    },
    {
     "data": {
      "text/plain": [
       "1"
      ]
     },
     "execution_count": 72,
     "metadata": {},
     "output_type": "execute_result"
    },
    {
     "data": {
      "text/plain": [
       "0"
      ]
     },
     "execution_count": 72,
     "metadata": {},
     "output_type": "execute_result"
    },
    {
     "data": {
      "text/plain": [
       "0"
      ]
     },
     "execution_count": 72,
     "metadata": {},
     "output_type": "execute_result"
    },
    {
     "data": {
      "text/plain": [
       "0.0"
      ]
     },
     "execution_count": 72,
     "metadata": {},
     "output_type": "execute_result"
    },
    {
     "name": "stdout",
     "output_type": "stream",
     "text": [
      "\n"
     ]
    },
    {
     "data": {
      "text/plain": [
       "1"
      ]
     },
     "execution_count": 72,
     "metadata": {},
     "output_type": "execute_result"
    },
    {
     "data": {
      "text/plain": [
       "4"
      ]
     },
     "execution_count": 72,
     "metadata": {},
     "output_type": "execute_result"
    },
    {
     "data": {
      "text/plain": [
       "0"
      ]
     },
     "execution_count": 72,
     "metadata": {},
     "output_type": "execute_result"
    },
    {
     "data": {
      "text/plain": [
       "-4.0"
      ]
     },
     "execution_count": 72,
     "metadata": {},
     "output_type": "execute_result"
    },
    {
     "data": {
      "text/plain": [
       "0.0"
      ]
     },
     "execution_count": 72,
     "metadata": {},
     "output_type": "execute_result"
    },
    {
     "name": "stdout",
     "output_type": "stream",
     "text": [
      "\n"
     ]
    },
    {
     "data": {
      "text/plain": [
       "1"
      ]
     },
     "execution_count": 72,
     "metadata": {},
     "output_type": "execute_result"
    },
    {
     "data": {
      "text/plain": [
       "3"
      ]
     },
     "execution_count": 72,
     "metadata": {},
     "output_type": "execute_result"
    },
    {
     "data": {
      "text/plain": [
       "2"
      ]
     },
     "execution_count": 72,
     "metadata": {},
     "output_type": "execute_result"
    },
    {
     "data": {
      "text/plain": [
       "-2.0"
      ]
     },
     "execution_count": 72,
     "metadata": {},
     "output_type": "execute_result"
    },
    {
     "data": {
      "text/plain": [
       "-1.0"
      ]
     },
     "execution_count": 72,
     "metadata": {},
     "output_type": "execute_result"
    },
    {
     "name": "stdout",
     "output_type": "stream",
     "text": [
      "\n",
      "a cannot be equal to 0.\n",
      "\n"
     ]
    },
    {
     "data": {
      "text/plain": [
       "1"
      ]
     },
     "execution_count": 72,
     "metadata": {},
     "output_type": "execute_result"
    },
    {
     "data": {
      "text/plain": [
       "-1"
      ]
     },
     "execution_count": 72,
     "metadata": {},
     "output_type": "execute_result"
    },
    {
     "data": {
      "text/plain": [
       "2"
      ]
     },
     "execution_count": 72,
     "metadata": {},
     "output_type": "execute_result"
    },
    {
     "name": "stdout",
     "output_type": "stream",
     "text": [
      "\n"
     ]
    },
    {
     "data": {
      "text/plain": [
       "0.5"
      ]
     },
     "execution_count": 72,
     "metadata": {},
     "output_type": "execute_result"
    },
    {
     "data": {
      "text/plain": [
       "-1"
      ]
     },
     "execution_count": 72,
     "metadata": {},
     "output_type": "execute_result"
    },
    {
     "data": {
      "text/plain": [
       "0.3"
      ]
     },
     "execution_count": 72,
     "metadata": {},
     "output_type": "execute_result"
    },
    {
     "data": {
      "text/plain": [
       "0.3675444679663241"
      ]
     },
     "execution_count": 72,
     "metadata": {},
     "output_type": "execute_result"
    },
    {
     "data": {
      "text/plain": [
       "1.632455532033676"
      ]
     },
     "execution_count": 72,
     "metadata": {},
     "output_type": "execute_result"
    }
   ],
   "source": [
    "QuadraticEquationClass(a=0, b=1)\n",
    "\n",
    "print()\n",
    "\n",
    "eq1 = QuadraticEquationClass.__new__(QuadraticEquationClass)\n",
    "QuadraticEquationClass.__init__(eq1)\n",
    "eq1.a\n",
    "eq1.b\n",
    "eq1.c\n",
    "eq1.root_1\n",
    "eq1.root_2\n",
    "\n",
    "print()\n",
    "\n",
    "eq2 = QuadraticEquationClass.__new__(QuadraticEquationClass)\n",
    "eq2.__init__(b=4)\n",
    "eq2.a\n",
    "eq2.b\n",
    "eq2.c\n",
    "eq2.root_1\n",
    "eq2.root_2\n",
    "\n",
    "print()\n",
    "\n",
    "eq3 = QuadraticEquationClass(a=1, b=3, c=2)\n",
    "eq3.a\n",
    "eq3.b\n",
    "eq3.c\n",
    "eq3.root_1\n",
    "eq3.root_2\n",
    "\n",
    "print()\n",
    "eq3.update(a=0)\n",
    "print()\n",
    "\n",
    "QuadraticEquationClass.update(eq3, b=-1)\n",
    "eq3.a\n",
    "eq3.b\n",
    "eq3.c\n",
    "eq3.root_1\n",
    "eq3.root_2\n",
    "\n",
    "print()\n",
    "\n",
    "eq3.update(c=0.3, a=0.5)\n",
    "eq3.a\n",
    "eq3.b\n",
    "eq3.c\n",
    "eq3.root_1\n",
    "eq3.root_2"
   ]
  },
  {
   "cell_type": "markdown",
   "metadata": {},
   "source": [
    "As previously mentioned, we now display quadratic equations not with calls to `display()`, but with calls directly to `print()` that behind the scene, calls `__str()__`:"
   ]
  },
  {
   "cell_type": "code",
   "execution_count": 73,
   "metadata": {
    "scrolled": true
   },
   "outputs": [
    {
     "name": "stdout",
     "output_type": "stream",
     "text": [
      "x^2 = 0\n",
      "2x^2 - 5 = 0\n",
      "-x^2 + x - 1 = 0\n"
     ]
    }
   ],
   "source": [
    "print(QuadraticEquationClass())\n",
    "print(QuadraticEquationClass(c=-5, a=2))\n",
    "print(QuadraticEquationClass(b=1, a=-1, c=-1))"
   ]
  },
  {
   "cell_type": "markdown",
   "metadata": {},
   "source": [
    "The fifth design \"cleans\" the fourth design, changing the first argument of the bound methods to `self` as always done in practice. Another special bound method, `__repr()__`, is overwritten: similarly to `__str()__`, it returns a string, and it is called when the executed statement is just the object name. It has a default implementation, but the output is not particularly insightful:  "
   ]
  },
  {
   "cell_type": "code",
   "execution_count": 77,
   "metadata": {},
   "outputs": [
    {
     "data": {
      "text/plain": [
       "<__main__.QuadraticEquationClass at 0x10ada9940>"
      ]
     },
     "execution_count": 77,
     "metadata": {},
     "output_type": "execute_result"
    }
   ],
   "source": [
    "eq3\n"
   ]
  },
  {
   "cell_type": "markdown",
   "metadata": {},
   "source": [
    "It is standard practice to let `__repr()__` output the very statement that creates the object, so for `eq3`, `QuadraticEquationClass(a=1, b=3, c=2)`, as we will see below.\n",
    "\n",
    "Finally, note that with the fourth design, `QuadraticEquationClass(a=0, b=1)` prints out an error message but still returns an ill defined object of type `QuadraticEquationClass`. It is preferable to raise an error instead. We define a specific exception by defining a class that derives from `Exception` rather than from `object`: "
   ]
  },
  {
   "cell_type": "code",
   "execution_count": 78,
   "metadata": {},
   "outputs": [
    {
     "data": {
      "text/plain": [
       "Exception"
      ]
     },
     "execution_count": 78,
     "metadata": {},
     "output_type": "execute_result"
    },
    {
     "ename": "QuadraticEquationError",
     "evalue": "a cannot be equal to 0",
     "output_type": "error",
     "traceback": [
      "\u001b[0;31m---------------------------------------------------------------------------\u001b[0m",
      "\u001b[0;31mQuadraticEquationError\u001b[0m                    Traceback (most recent call last)",
      "\u001b[0;32m<ipython-input-78-04f4ccc8283b>\u001b[0m in \u001b[0;36m<module>\u001b[0;34m\u001b[0m\n\u001b[1;32m      3\u001b[0m \u001b[0;34m\u001b[0m\u001b[0m\n\u001b[1;32m      4\u001b[0m \u001b[0mQuadraticEquationError\u001b[0m\u001b[0;34m.\u001b[0m\u001b[0m__base__\u001b[0m\u001b[0;34m\u001b[0m\u001b[0m\n\u001b[0;32m----> 5\u001b[0;31m \u001b[0;32mraise\u001b[0m \u001b[0mQuadraticEquationError\u001b[0m\u001b[0;34m(\u001b[0m\u001b[0;34m'a cannot be equal to 0'\u001b[0m\u001b[0;34m)\u001b[0m\u001b[0;34m\u001b[0m\u001b[0m\n\u001b[0m",
      "\u001b[0;31mQuadraticEquationError\u001b[0m: a cannot be equal to 0"
     ]
    }
   ],
   "source": [
    "class QuadraticEquationError(Exception):\n",
    "    pass\n",
    "\n",
    "QuadraticEquationError.__base__\n",
    "raise QuadraticEquationError('a cannot be equal to 0')"
   ]
  },
  {
   "cell_type": "markdown",
   "metadata": {},
   "source": [
    "Putting things together, here is the final implementation, that abides by the principles of object oriented design in Python:"
   ]
  },
  {
   "cell_type": "code",
   "execution_count": 80,
   "metadata": {},
   "outputs": [],
   "source": [
    "class QuadraticEquation:\n",
    "    def __init__(self, *, a=1, b=0, c=0):\n",
    "        if a == 0:\n",
    "            raise QuadraticEquationError('a cannot be equal to 0.')\n",
    "        self.a = a\n",
    "        self.b = b\n",
    "        self.c = c\n",
    "        self.compute_roots()\n",
    "\n",
    "    def __repr__(self):\n",
    "        return f'QuadraticEquation(a={self.a}, b={self.b}, c={self.c})'\n",
    "\n",
    "    def __str__(self):\n",
    "        if self.a == 1:\n",
    "            displayed_equation = 'x^2'\n",
    "        elif self.a == -1:\n",
    "            displayed_equation = '-x^2'\n",
    "        else:\n",
    "            displayed_equation = f'{self.a}x^2'\n",
    "        if self.b == 1:\n",
    "            displayed_equation += ' + x'\n",
    "        elif self.b == -1:\n",
    "            displayed_equation -= ' - x'           \n",
    "        elif self.b > 0:\n",
    "            displayed_equation += f' + {self.b}x'\n",
    "        elif self.b < 0:\n",
    "            displayed_equation += f'- {-self.b}x'\n",
    "        if self.c > 0:\n",
    "            displayed_equation += f' + {self.c}'\n",
    "        elif self.c < 0:\n",
    "            displayed_equation += f' - {-self.c}'\n",
    "        return f'{displayed_equation} = 0'\n",
    "\n",
    "    def compute_roots(self):\n",
    "        delta = self.b ** 2 - 4 * self.a * self.c\n",
    "        if delta < 0:\n",
    "            self.root_1 = self.root_2 = None\n",
    "        elif delta == 0:\n",
    "            self.root_1 = -self.b / (2 * self.a)\n",
    "            self.root_2 = None\n",
    "        else:\n",
    "            sqrt_delta = sqrt(delta)\n",
    "            self.root_1 = (-self.b - sqrt_delta) / (2 * self.a)\n",
    "            self.root_2 = (-self.b + sqrt_delta) / (2 * self.a)\n",
    "\n",
    "    def update(self, *, a=None, b=None, c=None):\n",
    "        if a == 0:\n",
    "            raise QuadraticEquationError('a cannot be equal to 0.')\n",
    "        if a is not None:\n",
    "            self.a = a\n",
    "        if b is not None:\n",
    "            self.b = b\n",
    "        if c is not None:\n",
    "            self.c = c\n",
    "        self.compute_roots()"
   ]
  },
  {
   "cell_type": "markdown",
   "metadata": {},
   "source": [
    "An error of type `QuadraticEquationError` is raised at object creation, or when incorrectly updating an existing object:"
   ]
  },
  {
   "cell_type": "code",
   "execution_count": 81,
   "metadata": {
    "scrolled": false
   },
   "outputs": [
    {
     "ename": "QuadraticEquationError",
     "evalue": "a cannot be equal to 0.",
     "output_type": "error",
     "traceback": [
      "\u001b[0;31m---------------------------------------------------------------------------\u001b[0m",
      "\u001b[0;31mQuadraticEquationError\u001b[0m                    Traceback (most recent call last)",
      "\u001b[0;32m<ipython-input-81-e2cd2f4a7937>\u001b[0m in \u001b[0;36m<module>\u001b[0;34m\u001b[0m\n\u001b[0;32m----> 1\u001b[0;31m \u001b[0mQuadraticEquation\u001b[0m\u001b[0;34m(\u001b[0m\u001b[0ma\u001b[0m\u001b[0;34m=\u001b[0m\u001b[0;36m0\u001b[0m\u001b[0;34m,\u001b[0m \u001b[0mb\u001b[0m\u001b[0;34m=\u001b[0m\u001b[0;36m1\u001b[0m\u001b[0;34m)\u001b[0m\u001b[0;34m\u001b[0m\u001b[0m\n\u001b[0m",
      "\u001b[0;32m<ipython-input-80-4922cafe3eb8>\u001b[0m in \u001b[0;36m__init__\u001b[0;34m(self, a, b, c)\u001b[0m\n\u001b[1;32m      2\u001b[0m     \u001b[0;32mdef\u001b[0m \u001b[0m__init__\u001b[0m\u001b[0;34m(\u001b[0m\u001b[0mself\u001b[0m\u001b[0;34m,\u001b[0m \u001b[0;34m*\u001b[0m\u001b[0;34m,\u001b[0m \u001b[0ma\u001b[0m\u001b[0;34m=\u001b[0m\u001b[0;36m1\u001b[0m\u001b[0;34m,\u001b[0m \u001b[0mb\u001b[0m\u001b[0;34m=\u001b[0m\u001b[0;36m0\u001b[0m\u001b[0;34m,\u001b[0m \u001b[0mc\u001b[0m\u001b[0;34m=\u001b[0m\u001b[0;36m0\u001b[0m\u001b[0;34m)\u001b[0m\u001b[0;34m:\u001b[0m\u001b[0;34m\u001b[0m\u001b[0m\n\u001b[1;32m      3\u001b[0m         \u001b[0;32mif\u001b[0m \u001b[0ma\u001b[0m \u001b[0;34m==\u001b[0m \u001b[0;36m0\u001b[0m\u001b[0;34m:\u001b[0m\u001b[0;34m\u001b[0m\u001b[0m\n\u001b[0;32m----> 4\u001b[0;31m             \u001b[0;32mraise\u001b[0m \u001b[0mQuadraticEquationError\u001b[0m\u001b[0;34m(\u001b[0m\u001b[0;34m'a cannot be equal to 0.'\u001b[0m\u001b[0;34m)\u001b[0m\u001b[0;34m\u001b[0m\u001b[0m\n\u001b[0m\u001b[1;32m      5\u001b[0m         \u001b[0mself\u001b[0m\u001b[0;34m.\u001b[0m\u001b[0ma\u001b[0m \u001b[0;34m=\u001b[0m \u001b[0ma\u001b[0m\u001b[0;34m\u001b[0m\u001b[0m\n\u001b[1;32m      6\u001b[0m         \u001b[0mself\u001b[0m\u001b[0;34m.\u001b[0m\u001b[0mb\u001b[0m \u001b[0;34m=\u001b[0m \u001b[0mb\u001b[0m\u001b[0;34m\u001b[0m\u001b[0m\n",
      "\u001b[0;31mQuadraticEquationError\u001b[0m: a cannot be equal to 0."
     ]
    }
   ],
   "source": [
    "QuadraticEquation(a=0, b=1)"
   ]
  },
  {
   "cell_type": "code",
   "execution_count": 82,
   "metadata": {},
   "outputs": [
    {
     "ename": "QuadraticEquationError",
     "evalue": "a cannot be equal to 0.",
     "output_type": "error",
     "traceback": [
      "\u001b[0;31m---------------------------------------------------------------------------\u001b[0m",
      "\u001b[0;31mQuadraticEquationError\u001b[0m                    Traceback (most recent call last)",
      "\u001b[0;32m<ipython-input-82-ad68ef251222>\u001b[0m in \u001b[0;36m<module>\u001b[0;34m\u001b[0m\n\u001b[1;32m      1\u001b[0m \u001b[0meq3\u001b[0m \u001b[0;34m=\u001b[0m \u001b[0mQuadraticEquation\u001b[0m\u001b[0;34m(\u001b[0m\u001b[0ma\u001b[0m\u001b[0;34m=\u001b[0m\u001b[0;36m1\u001b[0m\u001b[0;34m,\u001b[0m \u001b[0mb\u001b[0m\u001b[0;34m=\u001b[0m\u001b[0;36m3\u001b[0m\u001b[0;34m,\u001b[0m \u001b[0mc\u001b[0m\u001b[0;34m=\u001b[0m\u001b[0;36m2\u001b[0m\u001b[0;34m)\u001b[0m\u001b[0;34m\u001b[0m\u001b[0m\n\u001b[0;32m----> 2\u001b[0;31m \u001b[0meq3\u001b[0m\u001b[0;34m.\u001b[0m\u001b[0mupdate\u001b[0m\u001b[0;34m(\u001b[0m\u001b[0ma\u001b[0m\u001b[0;34m=\u001b[0m\u001b[0;36m0\u001b[0m\u001b[0;34m)\u001b[0m\u001b[0;34m\u001b[0m\u001b[0m\n\u001b[0m",
      "\u001b[0;32m<ipython-input-80-4922cafe3eb8>\u001b[0m in \u001b[0;36mupdate\u001b[0;34m(self, a, b, c)\u001b[0m\n\u001b[1;32m     46\u001b[0m     \u001b[0;32mdef\u001b[0m \u001b[0mupdate\u001b[0m\u001b[0;34m(\u001b[0m\u001b[0mself\u001b[0m\u001b[0;34m,\u001b[0m \u001b[0;34m*\u001b[0m\u001b[0;34m,\u001b[0m \u001b[0ma\u001b[0m\u001b[0;34m=\u001b[0m\u001b[0;32mNone\u001b[0m\u001b[0;34m,\u001b[0m \u001b[0mb\u001b[0m\u001b[0;34m=\u001b[0m\u001b[0;32mNone\u001b[0m\u001b[0;34m,\u001b[0m \u001b[0mc\u001b[0m\u001b[0;34m=\u001b[0m\u001b[0;32mNone\u001b[0m\u001b[0;34m)\u001b[0m\u001b[0;34m:\u001b[0m\u001b[0;34m\u001b[0m\u001b[0m\n\u001b[1;32m     47\u001b[0m         \u001b[0;32mif\u001b[0m \u001b[0ma\u001b[0m \u001b[0;34m==\u001b[0m \u001b[0;36m0\u001b[0m\u001b[0;34m:\u001b[0m\u001b[0;34m\u001b[0m\u001b[0m\n\u001b[0;32m---> 48\u001b[0;31m             \u001b[0;32mraise\u001b[0m \u001b[0mQuadraticEquationError\u001b[0m\u001b[0;34m(\u001b[0m\u001b[0;34m'a cannot be equal to 0.'\u001b[0m\u001b[0;34m)\u001b[0m\u001b[0;34m\u001b[0m\u001b[0m\n\u001b[0m\u001b[1;32m     49\u001b[0m         \u001b[0;32mif\u001b[0m \u001b[0ma\u001b[0m \u001b[0;32mis\u001b[0m \u001b[0;32mnot\u001b[0m \u001b[0;32mNone\u001b[0m\u001b[0;34m:\u001b[0m\u001b[0;34m\u001b[0m\u001b[0m\n\u001b[1;32m     50\u001b[0m             \u001b[0mself\u001b[0m\u001b[0;34m.\u001b[0m\u001b[0ma\u001b[0m \u001b[0;34m=\u001b[0m \u001b[0ma\u001b[0m\u001b[0;34m\u001b[0m\u001b[0m\n",
      "\u001b[0;31mQuadraticEquationError\u001b[0m: a cannot be equal to 0."
     ]
    }
   ],
   "source": [
    "eq3 = QuadraticEquation(a=1, b=3, c=2)\n",
    "eq3.update(a=0)\n",
    "print()"
   ]
  },
  {
   "cell_type": "markdown",
   "metadata": {},
   "source": [
    "Otherwise, there is no difference with the 4th design when it comes to creating objects or calling methods:"
   ]
  },
  {
   "cell_type": "code",
   "execution_count": 85,
   "metadata": {},
   "outputs": [
    {
     "data": {
      "text/plain": [
       "1"
      ]
     },
     "execution_count": 85,
     "metadata": {},
     "output_type": "execute_result"
    },
    {
     "data": {
      "text/plain": [
       "0"
      ]
     },
     "execution_count": 85,
     "metadata": {},
     "output_type": "execute_result"
    },
    {
     "data": {
      "text/plain": [
       "0"
      ]
     },
     "execution_count": 85,
     "metadata": {},
     "output_type": "execute_result"
    },
    {
     "data": {
      "text/plain": [
       "0.0"
      ]
     },
     "execution_count": 85,
     "metadata": {},
     "output_type": "execute_result"
    },
    {
     "data": {
      "text/plain": [
       "QuadraticEquation(a=1, b=0, c=0)"
      ]
     },
     "execution_count": 85,
     "metadata": {},
     "output_type": "execute_result"
    },
    {
     "data": {
      "text/plain": [
       "<bound method QuadraticEquation.__repr__ of QuadraticEquation(a=1, b=0, c=0)>"
      ]
     },
     "execution_count": 85,
     "metadata": {},
     "output_type": "execute_result"
    },
    {
     "name": "stdout",
     "output_type": "stream",
     "text": [
      "\n"
     ]
    },
    {
     "data": {
      "text/plain": [
       "1"
      ]
     },
     "execution_count": 85,
     "metadata": {},
     "output_type": "execute_result"
    },
    {
     "data": {
      "text/plain": [
       "4"
      ]
     },
     "execution_count": 85,
     "metadata": {},
     "output_type": "execute_result"
    },
    {
     "data": {
      "text/plain": [
       "0"
      ]
     },
     "execution_count": 85,
     "metadata": {},
     "output_type": "execute_result"
    },
    {
     "data": {
      "text/plain": [
       "-4.0"
      ]
     },
     "execution_count": 85,
     "metadata": {},
     "output_type": "execute_result"
    },
    {
     "data": {
      "text/plain": [
       "0.0"
      ]
     },
     "execution_count": 85,
     "metadata": {},
     "output_type": "execute_result"
    },
    {
     "name": "stdout",
     "output_type": "stream",
     "text": [
      "\n"
     ]
    },
    {
     "data": {
      "text/plain": [
       "1"
      ]
     },
     "execution_count": 85,
     "metadata": {},
     "output_type": "execute_result"
    },
    {
     "data": {
      "text/plain": [
       "3"
      ]
     },
     "execution_count": 85,
     "metadata": {},
     "output_type": "execute_result"
    },
    {
     "data": {
      "text/plain": [
       "2"
      ]
     },
     "execution_count": 85,
     "metadata": {},
     "output_type": "execute_result"
    },
    {
     "data": {
      "text/plain": [
       "-2.0"
      ]
     },
     "execution_count": 85,
     "metadata": {},
     "output_type": "execute_result"
    },
    {
     "data": {
      "text/plain": [
       "-1.0"
      ]
     },
     "execution_count": 85,
     "metadata": {},
     "output_type": "execute_result"
    },
    {
     "data": {
      "text/plain": [
       "1"
      ]
     },
     "execution_count": 85,
     "metadata": {},
     "output_type": "execute_result"
    },
    {
     "data": {
      "text/plain": [
       "-1"
      ]
     },
     "execution_count": 85,
     "metadata": {},
     "output_type": "execute_result"
    },
    {
     "data": {
      "text/plain": [
       "2"
      ]
     },
     "execution_count": 85,
     "metadata": {},
     "output_type": "execute_result"
    },
    {
     "name": "stdout",
     "output_type": "stream",
     "text": [
      "\n"
     ]
    },
    {
     "data": {
      "text/plain": [
       "0.5"
      ]
     },
     "execution_count": 85,
     "metadata": {},
     "output_type": "execute_result"
    },
    {
     "data": {
      "text/plain": [
       "-1"
      ]
     },
     "execution_count": 85,
     "metadata": {},
     "output_type": "execute_result"
    },
    {
     "data": {
      "text/plain": [
       "0.3"
      ]
     },
     "execution_count": 85,
     "metadata": {},
     "output_type": "execute_result"
    },
    {
     "data": {
      "text/plain": [
       "0.3675444679663241"
      ]
     },
     "execution_count": 85,
     "metadata": {},
     "output_type": "execute_result"
    },
    {
     "data": {
      "text/plain": [
       "1.632455532033676"
      ]
     },
     "execution_count": 85,
     "metadata": {},
     "output_type": "execute_result"
    }
   ],
   "source": [
    "eq1 = QuadraticEquation.__new__(QuadraticEquation)\n",
    "QuadraticEquation.__init__(eq1)\n",
    "eq1.a\n",
    "eq1.b\n",
    "eq1.c\n",
    "eq1.root_1\n",
    "eq1.root_2\n",
    "eq1\n",
    "eq1.__repr__\n",
    "print()\n",
    "\n",
    "eq2 = QuadraticEquation.__new__(QuadraticEquation)\n",
    "eq2.__init__(b=4)\n",
    "eq2.a\n",
    "eq2.b\n",
    "eq2.c\n",
    "eq2.root_1\n",
    "eq2.root_2\n",
    "\n",
    "print()\n",
    "\n",
    "eq3 = QuadraticEquation(a=1, b=3, c=2)\n",
    "eq3.a\n",
    "eq3.b\n",
    "eq3.c\n",
    "eq3.root_1\n",
    "eq3.root_2\n",
    "\n",
    "QuadraticEquation.update(eq3, b=-1)\n",
    "eq3.a\n",
    "eq3.b\n",
    "eq3.c\n",
    "eq3.root_1\n",
    "eq3.root_2\n",
    "\n",
    "print()\n",
    "\n",
    "eq3.update(c=0.3, a=0.5)\n",
    "eq3.a\n",
    "eq3.b\n",
    "eq3.c\n",
    "eq3.root_1\n",
    "eq3.root_2"
   ]
  },
  {
   "cell_type": "markdown",
   "metadata": {},
   "source": [
    "Observe the difference between calling either `__repr__()` or `__str__()` behind the scene:"
   ]
  },
  {
   "cell_type": "code",
   "execution_count": 86,
   "metadata": {},
   "outputs": [
    {
     "data": {
      "text/plain": [
       "QuadraticEquation(a=1, b=0, c=0)"
      ]
     },
     "execution_count": 86,
     "metadata": {},
     "output_type": "execute_result"
    },
    {
     "name": "stdout",
     "output_type": "stream",
     "text": [
      "x^2 = 0\n"
     ]
    },
    {
     "data": {
      "text/plain": [
       "QuadraticEquation(a=2, b=0, c=-5)"
      ]
     },
     "execution_count": 86,
     "metadata": {},
     "output_type": "execute_result"
    },
    {
     "name": "stdout",
     "output_type": "stream",
     "text": [
      "2x^2 - 5 = 0\n"
     ]
    },
    {
     "data": {
      "text/plain": [
       "QuadraticEquation(a=-1, b=1, c=-1)"
      ]
     },
     "execution_count": 86,
     "metadata": {},
     "output_type": "execute_result"
    },
    {
     "name": "stdout",
     "output_type": "stream",
     "text": [
      "-x^2 + x - 1 = 0\n"
     ]
    }
   ],
   "source": [
    "eq1 = QuadraticEquation()\n",
    "eq1\n",
    "print(eq1)\n",
    "\n",
    "eq2 = QuadraticEquation(c=-5, a=2)\n",
    "eq2\n",
    "print(eq2)\n",
    "\n",
    "eq3 = QuadraticEquation(b=1, a=-1, c=-1)\n",
    "eq3\n",
    "print(eq3)"
   ]
  },
  {
   "cell_type": "code",
   "execution_count": null,
   "metadata": {},
   "outputs": [],
   "source": []
  }
 ],
 "metadata": {
  "kernelspec": {
   "display_name": "Python 3",
   "language": "python",
   "name": "python3"
  },
  "language_info": {
   "codemirror_mode": {
    "name": "ipython",
    "version": 3
   },
   "file_extension": ".py",
   "mimetype": "text/x-python",
   "name": "python",
   "nbconvert_exporter": "python",
   "pygments_lexer": "ipython3",
   "version": "3.7.0"
  },
  "latex_envs": {
   "LaTeX_envs_menu_present": true,
   "autoclose": false,
   "autocomplete": true,
   "bibliofile": "biblio.bib",
   "cite_by": "apalike",
   "current_citInitial": 1,
   "eqLabelWithNumbers": true,
   "eqNumInitial": 1,
   "hotkeys": {
    "equation": "Ctrl-E",
    "itemize": "Ctrl-I"
   },
   "labels_anchors": false,
   "latex_user_defs": false,
   "report_style_numbering": false,
   "user_envs_cfg": false
  },
  "toc": {
   "base_numbering": 1,
   "nav_menu": {},
   "number_sections": true,
   "sideBar": true,
   "skip_h1_title": false,
   "title_cell": "Table of Contents",
   "title_sidebar": "Contents",
   "toc_cell": false,
   "toc_position": {},
   "toc_section_display": true,
   "toc_window_display": false
  }
 },
 "nbformat": 4,
 "nbformat_minor": 2
}
