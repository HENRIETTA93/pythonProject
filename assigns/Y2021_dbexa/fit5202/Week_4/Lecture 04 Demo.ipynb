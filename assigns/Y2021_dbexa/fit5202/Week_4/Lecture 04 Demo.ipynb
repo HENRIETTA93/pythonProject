{
 "cells": [
  {
   "cell_type": "code",
   "execution_count": null,
   "metadata": {},
   "outputs": [],
   "source": [
    "from pyspark import SparkConf\n",
    "from pyspark import SparkContext \n",
    "from pyspark.sql import SparkSession\n",
    "from pyspark.rdd import RDD\n",
    "\n",
    "master = \"local[*]\"\n",
    "app_name = \"Parallel Sort and GroupBy Demo\"\n",
    "spark_conf = SparkConf().setMaster(master).setAppName(app_name)\n",
    "\n",
    "spark = SparkSession.builder.config(conf=spark_conf).getOrCreate()\n",
    "sc = spark.sparkContext\n",
    "sc.setLogLevel('ERROR')"
   ]
  },
  {
   "cell_type": "code",
   "execution_count": null,
   "metadata": {},
   "outputs": [],
   "source": [
    "table_R = [(\"Adam\",\"Clayton\"), \n",
    "           (\"Ben\",\"Clayton\"), \n",
    "           (\"Chris\",\"Caulfield\"), \n",
    "           (\"Dennis\",\"Malvern\"), \n",
    "           (\"Eric\",\"Vermont\"), \n",
    "           (\"Fred\",\"Hawthorn\"), \n",
    "           (\"George\",\"Richmond\"), \n",
    "           (\"Harold\",\"Elwood\"), \n",
    "           (\"Irene\",\"Malvern\"), \n",
    "           (\"Jessica\",\"Kew\"), \n",
    "           (\"Kelly\",\"Balwyn\"), \n",
    "           (\"Lesley\",\"Hawthorn\"), \n",
    "           (\"Megan\",\"Kew\"), \n",
    "           (\"Naomi\",\"Richmond\"), \n",
    "           (\"Oscar\",\"Vermont\"),\n",
    "           (\"Peter\",\"Elwood\"), \n",
    "           (\"Quin\",\"Kew\"), \n",
    "           (\"Roger\",\"Balwin\"), \n",
    "           (\"Sarah\",\"Malvern\"), \n",
    "           (\"Tracy\",\"Clayton\")]"
   ]
  },
  {
   "cell_type": "code",
   "execution_count": null,
   "metadata": {},
   "outputs": [],
   "source": [
    "df_R = spark.createDataFrame(table_R, ['Name', 'Suburb'])"
   ]
  },
  {
   "cell_type": "code",
   "execution_count": null,
   "metadata": {},
   "outputs": [],
   "source": [
    "df_R.rdd.getNumPartitions()"
   ]
  },
  {
   "cell_type": "markdown",
   "metadata": {},
   "source": [
    "### Parallel Group-By"
   ]
  },
  {
   "cell_type": "code",
   "execution_count": null,
   "metadata": {},
   "outputs": [],
   "source": [
    "df_grouped = df_R.groupBy(\"Suburb\").count()"
   ]
  },
  {
   "cell_type": "code",
   "execution_count": null,
   "metadata": {},
   "outputs": [],
   "source": [
    "df_grouped.show()"
   ]
  },
  {
   "cell_type": "code",
   "execution_count": null,
   "metadata": {},
   "outputs": [],
   "source": [
    "df_grouped.explain()"
   ]
  },
  {
   "cell_type": "markdown",
   "metadata": {},
   "source": [
    "> Which __Parallel Group-By Method__ is used by Apache Spark?"
   ]
  }
 ],
 "metadata": {
  "kernelspec": {
   "display_name": "Python 3",
   "language": "python",
   "name": "python3"
  },
  "language_info": {
   "codemirror_mode": {
    "name": "ipython",
    "version": 3
   },
   "file_extension": ".py",
   "mimetype": "text/x-python",
   "name": "python",
   "nbconvert_exporter": "python",
   "pygments_lexer": "ipython3",
   "version": "3.8.5"
  }
 },
 "nbformat": 4,
 "nbformat_minor": 4
}
