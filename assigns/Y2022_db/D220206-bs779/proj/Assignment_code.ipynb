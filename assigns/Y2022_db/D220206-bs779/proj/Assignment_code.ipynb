{
 "cells": [
  {
   "cell_type": "markdown",
   "metadata": {},
   "source": [
    "# Data Processing and Analysis - Basis Technologies Interview Assignment"
   ]
  },
  {
   "cell_type": "code",
   "execution_count": 1,
   "metadata": {},
   "outputs": [],
   "source": [
    "import pymysql\n",
    "import pandas as pd\n",
    "import matplotlib.pyplot as plt\n",
    "plt.close(\"all\")"
   ]
  },
  {
   "cell_type": "code",
   "execution_count": 2,
   "metadata": {},
   "outputs": [],
   "source": [
    "conn = pymysql.connect(\n",
    "host='localhost',\n",
    "port=3305,\n",
    "user='root',\n",
    "password='123456',\n",
    "database='interview',\n",
    "charset='utf8')"
   ]
  },
  {
   "cell_type": "markdown",
   "metadata": {},
   "source": [
    "## 1 Database Overview"
   ]
  },
  {
   "cell_type": "markdown",
   "metadata": {},
   "source": [
    "### 1.1 Show data of dim_customers"
   ]
  },
  {
   "cell_type": "code",
   "execution_count": 3,
   "metadata": {},
   "outputs": [
    {
     "data": {
      "text/html": [
       "<div>\n",
       "<style scoped>\n",
       "    .dataframe tbody tr th:only-of-type {\n",
       "        vertical-align: middle;\n",
       "    }\n",
       "\n",
       "    .dataframe tbody tr th {\n",
       "        vertical-align: top;\n",
       "    }\n",
       "\n",
       "    .dataframe thead th {\n",
       "        text-align: right;\n",
       "    }\n",
       "</style>\n",
       "<table border=\"1\" class=\"dataframe\">\n",
       "  <thead>\n",
       "    <tr style=\"text-align: right;\">\n",
       "      <th></th>\n",
       "      <th>customer_id</th>\n",
       "      <th>name</th>\n",
       "      <th>segment</th>\n",
       "    </tr>\n",
       "  </thead>\n",
       "  <tbody>\n",
       "    <tr>\n",
       "      <th>0</th>\n",
       "      <td>32</td>\n",
       "      <td>3e24af1eb3b1cee9b4c980e31061da704367db00e22a91...</td>\n",
       "      <td>Segment B</td>\n",
       "    </tr>\n",
       "    <tr>\n",
       "      <th>1</th>\n",
       "      <td>37</td>\n",
       "      <td>04d88f5d26b4a9f38be30bc079f427f77affbf0920216a...</td>\n",
       "      <td>Segment A</td>\n",
       "    </tr>\n",
       "    <tr>\n",
       "      <th>2</th>\n",
       "      <td>123</td>\n",
       "      <td>8e75517c1103e852feefb34c3e185aeb536f5e80b014ef...</td>\n",
       "      <td>Segment B</td>\n",
       "    </tr>\n",
       "    <tr>\n",
       "      <th>3</th>\n",
       "      <td>444</td>\n",
       "      <td>acb475452906005b2bc4d95a4ab8bf1902c5b7d1586fc6...</td>\n",
       "      <td>Segment A</td>\n",
       "    </tr>\n",
       "    <tr>\n",
       "      <th>4</th>\n",
       "      <td>488</td>\n",
       "      <td>a3b97697baa6a8d9640d2d02e2a53016e54812f306c272...</td>\n",
       "      <td>Segment A</td>\n",
       "    </tr>\n",
       "  </tbody>\n",
       "</table>\n",
       "</div>"
      ],
      "text/plain": [
       "   customer_id                                               name    segment\n",
       "0           32  3e24af1eb3b1cee9b4c980e31061da704367db00e22a91...  Segment B\n",
       "1           37  04d88f5d26b4a9f38be30bc079f427f77affbf0920216a...  Segment A\n",
       "2          123  8e75517c1103e852feefb34c3e185aeb536f5e80b014ef...  Segment B\n",
       "3          444  acb475452906005b2bc4d95a4ab8bf1902c5b7d1586fc6...  Segment A\n",
       "4          488  a3b97697baa6a8d9640d2d02e2a53016e54812f306c272...  Segment A"
      ]
     },
     "execution_count": 3,
     "metadata": {},
     "output_type": "execute_result"
    }
   ],
   "source": [
    "df_customers=pd.read_sql(\"SELECT * FROM dim_customer\",con=conn)\n",
    "df_customers.head()"
   ]
  },
  {
   "cell_type": "markdown",
   "metadata": {},
   "source": [
    "### 1.2 show data of fact_date_customer_campaign"
   ]
  },
  {
   "cell_type": "code",
   "execution_count": 4,
   "metadata": {},
   "outputs": [
    {
     "data": {
      "text/html": [
       "<div>\n",
       "<style scoped>\n",
       "    .dataframe tbody tr th:only-of-type {\n",
       "        vertical-align: middle;\n",
       "    }\n",
       "\n",
       "    .dataframe tbody tr th {\n",
       "        vertical-align: top;\n",
       "    }\n",
       "\n",
       "    .dataframe thead th {\n",
       "        text-align: right;\n",
       "    }\n",
       "</style>\n",
       "<table border=\"1\" class=\"dataframe\">\n",
       "  <thead>\n",
       "    <tr style=\"text-align: right;\">\n",
       "      <th></th>\n",
       "      <th>date</th>\n",
       "      <th>customer_id</th>\n",
       "      <th>campaign_id</th>\n",
       "      <th>cost</th>\n",
       "      <th>datacost</th>\n",
       "      <th>revenue</th>\n",
       "    </tr>\n",
       "  </thead>\n",
       "  <tbody>\n",
       "    <tr>\n",
       "      <th>0</th>\n",
       "      <td>2017-01-01</td>\n",
       "      <td>1300</td>\n",
       "      <td>53531</td>\n",
       "      <td>0.002750</td>\n",
       "      <td>0.0</td>\n",
       "      <td>0.001110</td>\n",
       "    </tr>\n",
       "    <tr>\n",
       "      <th>1</th>\n",
       "      <td>2017-01-01</td>\n",
       "      <td>3058</td>\n",
       "      <td>34922</td>\n",
       "      <td>0.016703</td>\n",
       "      <td>0.0</td>\n",
       "      <td>0.003349</td>\n",
       "    </tr>\n",
       "    <tr>\n",
       "      <th>2</th>\n",
       "      <td>2017-01-01</td>\n",
       "      <td>1239</td>\n",
       "      <td>37750</td>\n",
       "      <td>2.925945</td>\n",
       "      <td>0.0</td>\n",
       "      <td>0.617055</td>\n",
       "    </tr>\n",
       "    <tr>\n",
       "      <th>3</th>\n",
       "      <td>2017-01-01</td>\n",
       "      <td>4715</td>\n",
       "      <td>55032</td>\n",
       "      <td>0.010428</td>\n",
       "      <td>0.0</td>\n",
       "      <td>0.003072</td>\n",
       "    </tr>\n",
       "    <tr>\n",
       "      <th>4</th>\n",
       "      <td>2017-01-01</td>\n",
       "      <td>6121</td>\n",
       "      <td>67501</td>\n",
       "      <td>0.766920</td>\n",
       "      <td>0.0</td>\n",
       "      <td>0.217341</td>\n",
       "    </tr>\n",
       "  </tbody>\n",
       "</table>\n",
       "</div>"
      ],
      "text/plain": [
       "         date  customer_id  campaign_id      cost  datacost   revenue\n",
       "0  2017-01-01         1300        53531  0.002750       0.0  0.001110\n",
       "1  2017-01-01         3058        34922  0.016703       0.0  0.003349\n",
       "2  2017-01-01         1239        37750  2.925945       0.0  0.617055\n",
       "3  2017-01-01         4715        55032  0.010428       0.0  0.003072\n",
       "4  2017-01-01         6121        67501  0.766920       0.0  0.217341"
      ]
     },
     "execution_count": 4,
     "metadata": {},
     "output_type": "execute_result"
    }
   ],
   "source": [
    "df_fact=pd.read_sql(\"SELECT * FROM fact_date_customer_campaign\",con=conn)\n",
    "df_fact.head()"
   ]
  },
  {
   "cell_type": "markdown",
   "metadata": {},
   "source": [
    "## 2. Data Preprocessing - Check abnormal nor NULL data in the database"
   ]
  },
  {
   "cell_type": "markdown",
   "metadata": {},
   "source": [
    "### 2.1 Table fact_date_customer_campaign"
   ]
  },
  {
   "cell_type": "code",
   "execution_count": 5,
   "metadata": {},
   "outputs": [
    {
     "data": {
      "text/html": [
       "<div>\n",
       "<style scoped>\n",
       "    .dataframe tbody tr th:only-of-type {\n",
       "        vertical-align: middle;\n",
       "    }\n",
       "\n",
       "    .dataframe tbody tr th {\n",
       "        vertical-align: top;\n",
       "    }\n",
       "\n",
       "    .dataframe thead th {\n",
       "        text-align: right;\n",
       "    }\n",
       "</style>\n",
       "<table border=\"1\" class=\"dataframe\">\n",
       "  <thead>\n",
       "    <tr style=\"text-align: right;\">\n",
       "      <th></th>\n",
       "      <th>date</th>\n",
       "      <th>customer_id</th>\n",
       "      <th>campaign_id</th>\n",
       "      <th>cost</th>\n",
       "      <th>datacost</th>\n",
       "      <th>revenue</th>\n",
       "    </tr>\n",
       "  </thead>\n",
       "  <tbody>\n",
       "  </tbody>\n",
       "</table>\n",
       "</div>"
      ],
      "text/plain": [
       "Empty DataFrame\n",
       "Columns: [date, customer_id, campaign_id, cost, datacost, revenue]\n",
       "Index: []"
      ]
     },
     "execution_count": 5,
     "metadata": {},
     "output_type": "execute_result"
    }
   ],
   "source": [
    "# check whether there are any null values in the table\n",
    "\n",
    "df=pd.read_sql(\"\"\"SELECT * FROM fact_date_customer_campaign WHERE date IS NULL \n",
    "OR customer_id IS NULL OR cost IS NULL OR datacost IS NULL OR revenue IS NULL\"\"\",con=conn)\n",
    "df.head()"
   ]
  },
  {
   "cell_type": "markdown",
   "metadata": {},
   "source": [
    "### 2.2 Table dim_customer"
   ]
  },
  {
   "cell_type": "code",
   "execution_count": 6,
   "metadata": {},
   "outputs": [
    {
     "data": {
      "text/html": [
       "<div>\n",
       "<style scoped>\n",
       "    .dataframe tbody tr th:only-of-type {\n",
       "        vertical-align: middle;\n",
       "    }\n",
       "\n",
       "    .dataframe tbody tr th {\n",
       "        vertical-align: top;\n",
       "    }\n",
       "\n",
       "    .dataframe thead th {\n",
       "        text-align: right;\n",
       "    }\n",
       "</style>\n",
       "<table border=\"1\" class=\"dataframe\">\n",
       "  <thead>\n",
       "    <tr style=\"text-align: right;\">\n",
       "      <th></th>\n",
       "      <th>customer_id</th>\n",
       "      <th>customer_num</th>\n",
       "    </tr>\n",
       "  </thead>\n",
       "  <tbody>\n",
       "  </tbody>\n",
       "</table>\n",
       "</div>"
      ],
      "text/plain": [
       "Empty DataFrame\n",
       "Columns: [customer_id, customer_num]\n",
       "Index: []"
      ]
     },
     "execution_count": 6,
     "metadata": {},
     "output_type": "execute_result"
    }
   ],
   "source": [
    "# check whethet there are duplicated values in the table.\n",
    "# Because customer_id is the primary key, we can be definitely sure the customer_id be unique.\n",
    "# However, still need to have a check in case nothing goes wrong when connecting with data base.\n",
    "\n",
    "df=pd.read_sql(\"SELECT customer_id,COUNT(*) AS customer_num FROM dim_customer GROUP BY customer_id HAVING COUNT(*)>1\",con=conn)\n",
    "df.head()"
   ]
  },
  {
   "cell_type": "markdown",
   "metadata": {},
   "source": [
    "## 3. Solutions to Part 1"
   ]
  },
  {
   "cell_type": "markdown",
   "metadata": {},
   "source": [
    "### 3.1 Questions"
   ]
  },
  {
   "cell_type": "markdown",
   "metadata": {},
   "source": [
    "o How many customers are there in total?\n",
    "\n",
    "o How many customers are there in segment A?\n",
    "\n",
    "o How many customers are there in segment B?\n",
    "\n",
    "o How much total gross revenue was there for the year (both segments)?\n",
    "\n",
    "o How much total net revenue was there for the year (both segments)?\n",
    "\n"
   ]
  },
  {
   "cell_type": "markdown",
   "metadata": {},
   "source": [
    "### 3.2 SQL statement for the questions\n",
    "SELECT COUNT(*) AS total_customers FROM dim_customer;\n",
    "\n",
    "SELECT COUNT(*) AS segment_a_customers FROM dim_customer WHERE segment='Segment A';\n",
    "\n",
    "SELECT COUNT(*) AS segment_b_customers FROM dim_customer WHERE segment='Segment B';\n",
    "\n",
    "SELECT segment, COUNT(*) AS customers FROM dim_customer GROUP BY segment;\n",
    "\n",
    "SELECT SUM(cost + datacost + revenue) AS total_gross_revenue FROM fact_date_customer_campaign;\n",
    "\n",
    "SELECT SUM(revenue) AS total_net_revenue FROM fact_date_customer_campaign;"
   ]
  },
  {
   "cell_type": "markdown",
   "metadata": {},
   "source": [
    "### 3.3 Answers to Part 1"
   ]
  },
  {
   "cell_type": "markdown",
   "metadata": {},
   "source": [
    "#### 3.3.1 How many customers are there in total?"
   ]
  },
  {
   "cell_type": "code",
   "execution_count": 7,
   "metadata": {},
   "outputs": [
    {
     "data": {
      "text/html": [
       "<div>\n",
       "<style scoped>\n",
       "    .dataframe tbody tr th:only-of-type {\n",
       "        vertical-align: middle;\n",
       "    }\n",
       "\n",
       "    .dataframe tbody tr th {\n",
       "        vertical-align: top;\n",
       "    }\n",
       "\n",
       "    .dataframe thead th {\n",
       "        text-align: right;\n",
       "    }\n",
       "</style>\n",
       "<table border=\"1\" class=\"dataframe\">\n",
       "  <thead>\n",
       "    <tr style=\"text-align: right;\">\n",
       "      <th></th>\n",
       "      <th>total_customers</th>\n",
       "    </tr>\n",
       "  </thead>\n",
       "  <tbody>\n",
       "    <tr>\n",
       "      <th>0</th>\n",
       "      <td>859</td>\n",
       "    </tr>\n",
       "  </tbody>\n",
       "</table>\n",
       "</div>"
      ],
      "text/plain": [
       "   total_customers\n",
       "0              859"
      ]
     },
     "execution_count": 7,
     "metadata": {},
     "output_type": "execute_result"
    }
   ],
   "source": [
    "# because customer_id is the primary key, thus don't need to use DISTINCT to avoid duplicate result\n",
    "total_customers = pd.read_sql(\"SELECT COUNT(*) AS total_customers FROM dim_customer\", con=conn)\n",
    "total_customers\n"
   ]
  },
  {
   "cell_type": "code",
   "execution_count": 8,
   "metadata": {},
   "outputs": [
    {
     "data": {
      "image/png": "[encoded data removed]",
      "text/plain": [
       "<Figure size 432x288 with 1 Axes>"
      ]
     },
     "metadata": {
      "needs_background": "light"
     },
     "output_type": "display_data"
    }
   ],
   "source": [
    "x=['total customers']\n",
    "\n",
    "df=total_customers\n",
    "\n",
    "y=df['total_customers']\n",
    "plt.bar(x, y)\n",
    " \n",
    "plt.show()"
   ]
  },
  {
   "cell_type": "markdown",
   "metadata": {},
   "source": [
    "#### 3.3.2 How many customers are there in segment A?"
   ]
  },
  {
   "cell_type": "code",
   "execution_count": 9,
   "metadata": {},
   "outputs": [
    {
     "data": {
      "text/html": [
       "<div>\n",
       "<style scoped>\n",
       "    .dataframe tbody tr th:only-of-type {\n",
       "        vertical-align: middle;\n",
       "    }\n",
       "\n",
       "    .dataframe tbody tr th {\n",
       "        vertical-align: top;\n",
       "    }\n",
       "\n",
       "    .dataframe thead th {\n",
       "        text-align: right;\n",
       "    }\n",
       "</style>\n",
       "<table border=\"1\" class=\"dataframe\">\n",
       "  <thead>\n",
       "    <tr style=\"text-align: right;\">\n",
       "      <th></th>\n",
       "      <th>segment_a_customers</th>\n",
       "    </tr>\n",
       "  </thead>\n",
       "  <tbody>\n",
       "    <tr>\n",
       "      <th>0</th>\n",
       "      <td>832</td>\n",
       "    </tr>\n",
       "  </tbody>\n",
       "</table>\n",
       "</div>"
      ],
      "text/plain": [
       "   segment_a_customers\n",
       "0                  832"
      ]
     },
     "execution_count": 9,
     "metadata": {},
     "output_type": "execute_result"
    }
   ],
   "source": [
    "segment_a=pd.read_sql(\"SELECT COUNT(*) AS segment_a_customers FROM dim_customer WHERE segment='Segment A'\", con=conn)\n",
    "segment_a"
   ]
  },
  {
   "cell_type": "code",
   "execution_count": 10,
   "metadata": {},
   "outputs": [
    {
     "data": {
      "image/png": "[encoded data removed]",
      "text/plain": [
       "<Figure size 432x288 with 1 Axes>"
      ]
     },
     "metadata": {
      "needs_background": "light"
     },
     "output_type": "display_data"
    }
   ],
   "source": [
    "x=['segment A customers']\n",
    "\n",
    "df=segment_a\n",
    "y=df['segment_a_customers']\n",
    "plt.bar(x, y)\n",
    " \n",
    "plt.show()"
   ]
  },
  {
   "cell_type": "markdown",
   "metadata": {},
   "source": [
    "#### 3.3.3 How many customers are there in segment B?"
   ]
  },
  {
   "cell_type": "code",
   "execution_count": 11,
   "metadata": {},
   "outputs": [
    {
     "data": {
      "text/html": [
       "<div>\n",
       "<style scoped>\n",
       "    .dataframe tbody tr th:only-of-type {\n",
       "        vertical-align: middle;\n",
       "    }\n",
       "\n",
       "    .dataframe tbody tr th {\n",
       "        vertical-align: top;\n",
       "    }\n",
       "\n",
       "    .dataframe thead th {\n",
       "        text-align: right;\n",
       "    }\n",
       "</style>\n",
       "<table border=\"1\" class=\"dataframe\">\n",
       "  <thead>\n",
       "    <tr style=\"text-align: right;\">\n",
       "      <th></th>\n",
       "      <th>segment_b_customers</th>\n",
       "    </tr>\n",
       "  </thead>\n",
       "  <tbody>\n",
       "    <tr>\n",
       "      <th>0</th>\n",
       "      <td>27</td>\n",
       "    </tr>\n",
       "  </tbody>\n",
       "</table>\n",
       "</div>"
      ],
      "text/plain": [
       "   segment_b_customers\n",
       "0                   27"
      ]
     },
     "execution_count": 11,
     "metadata": {},
     "output_type": "execute_result"
    }
   ],
   "source": [
    "segment_b=pd.read_sql(\"SELECT COUNT(*) AS segment_b_customers FROM dim_customer WHERE segment='Segment B'\", con=conn)\n",
    "segment_b"
   ]
  },
  {
   "cell_type": "code",
   "execution_count": 12,
   "metadata": {},
   "outputs": [
    {
     "data": {
      "image/png": "[encoded data removed]",
      "text/plain": [
       "<Figure size 432x288 with 1 Axes>"
      ]
     },
     "metadata": {
      "needs_background": "light"
     },
     "output_type": "display_data"
    }
   ],
   "source": [
    "x=['segment B customers']\n",
    "\n",
    "df=segment_b\n",
    "y=df['segment_b_customers']\n",
    "plt.bar(x, y)\n",
    " \n",
    "plt.show()"
   ]
  },
  {
   "cell_type": "code",
   "execution_count": 13,
   "metadata": {},
   "outputs": [
    {
     "data": {
      "text/html": [
       "<div>\n",
       "<style scoped>\n",
       "    .dataframe tbody tr th:only-of-type {\n",
       "        vertical-align: middle;\n",
       "    }\n",
       "\n",
       "    .dataframe tbody tr th {\n",
       "        vertical-align: top;\n",
       "    }\n",
       "\n",
       "    .dataframe thead th {\n",
       "        text-align: right;\n",
       "    }\n",
       "</style>\n",
       "<table border=\"1\" class=\"dataframe\">\n",
       "  <thead>\n",
       "    <tr style=\"text-align: right;\">\n",
       "      <th></th>\n",
       "      <th>segment</th>\n",
       "      <th>customers</th>\n",
       "    </tr>\n",
       "  </thead>\n",
       "  <tbody>\n",
       "    <tr>\n",
       "      <th>0</th>\n",
       "      <td>Segment A</td>\n",
       "      <td>832</td>\n",
       "    </tr>\n",
       "    <tr>\n",
       "      <th>1</th>\n",
       "      <td>Segment B</td>\n",
       "      <td>27</td>\n",
       "    </tr>\n",
       "  </tbody>\n",
       "</table>\n",
       "</div>"
      ],
      "text/plain": [
       "     segment  customers\n",
       "0  Segment A        832\n",
       "1  Segment B         27"
      ]
     },
     "execution_count": 13,
     "metadata": {},
     "output_type": "execute_result"
    }
   ],
   "source": [
    "segment_ab=pd.read_sql(\"SELECT segment, COUNT(*) AS customers FROM dim_customer GROUP BY segment\", con=conn)\n",
    "segment_ab"
   ]
  },
  {
   "cell_type": "code",
   "execution_count": 14,
   "metadata": {},
   "outputs": [
    {
     "data": {
      "image/png": "[encoded data removed]",
      "text/plain": [
       "<Figure size 432x288 with 1 Axes>"
      ]
     },
     "metadata": {
      "needs_background": "light"
     },
     "output_type": "display_data"
    }
   ],
   "source": [
    "x=['segment A customers','segment B customers']\n",
    "\n",
    "df=segment_ab\n",
    "y=df['customers']\n",
    "plt.bar(x, y)\n",
    " \n",
    "plt.show()"
   ]
  },
  {
   "cell_type": "code",
   "execution_count": 15,
   "metadata": {},
   "outputs": [
    {
     "data": {
      "image/png": "[encoded data removed]",
      "text/plain": [
       "<Figure size 432x288 with 1 Axes>"
      ]
     },
     "metadata": {},
     "output_type": "display_data"
    }
   ],
   "source": [
    "x=['segment A customers','segment B customers']\n",
    "\n",
    "df=segment_ab\n",
    "y=df['customers']\n",
    "\n",
    "plt.pie(x=y, labels=x)\n",
    "\n",
    "plt.show()"
   ]
  },
  {
   "cell_type": "markdown",
   "metadata": {},
   "source": [
    "#### 3.3.4 How much total gross revenue was there for the year (both segments)?"
   ]
  },
  {
   "cell_type": "code",
   "execution_count": 16,
   "metadata": {},
   "outputs": [
    {
     "data": {
      "text/html": [
       "<div>\n",
       "<style scoped>\n",
       "    .dataframe tbody tr th:only-of-type {\n",
       "        vertical-align: middle;\n",
       "    }\n",
       "\n",
       "    .dataframe tbody tr th {\n",
       "        vertical-align: top;\n",
       "    }\n",
       "\n",
       "    .dataframe thead th {\n",
       "        text-align: right;\n",
       "    }\n",
       "</style>\n",
       "<table border=\"1\" class=\"dataframe\">\n",
       "  <thead>\n",
       "    <tr style=\"text-align: right;\">\n",
       "      <th></th>\n",
       "      <th>total_gross_revenue</th>\n",
       "    </tr>\n",
       "  </thead>\n",
       "  <tbody>\n",
       "    <tr>\n",
       "      <th>0</th>\n",
       "      <td>1.546333e+07</td>\n",
       "    </tr>\n",
       "  </tbody>\n",
       "</table>\n",
       "</div>"
      ],
      "text/plain": [
       "   total_gross_revenue\n",
       "0         1.546333e+07"
      ]
     },
     "execution_count": 16,
     "metadata": {},
     "output_type": "execute_result"
    }
   ],
   "source": [
    "total_gross_revenue=pd.read_sql(\"SELECT SUM(cost + datacost + revenue) AS total_gross_revenue FROM fact_date_customer_campaign\", con=conn)\n",
    "total_gross_revenue\n"
   ]
  },
  {
   "cell_type": "code",
   "execution_count": 17,
   "metadata": {},
   "outputs": [
    {
     "data": {
      "image/png": "[encoded data removed]",
      "text/plain": [
       "<Figure size 432x288 with 1 Axes>"
      ]
     },
     "metadata": {
      "needs_background": "light"
     },
     "output_type": "display_data"
    }
   ],
   "source": [
    "x=['total gross revenue']\n",
    "\n",
    "df=total_gross_revenue\n",
    "y=df['total_gross_revenue']\n",
    "plt.bar(x, y)\n",
    " \n",
    "plt.show()\n"
   ]
  },
  {
   "cell_type": "markdown",
   "metadata": {},
   "source": [
    "#### 3.3.5 How much total net revenue was there for the year (both segments)?"
   ]
  },
  {
   "cell_type": "code",
   "execution_count": 18,
   "metadata": {},
   "outputs": [
    {
     "data": {
      "text/html": [
       "<div>\n",
       "<style scoped>\n",
       "    .dataframe tbody tr th:only-of-type {\n",
       "        vertical-align: middle;\n",
       "    }\n",
       "\n",
       "    .dataframe tbody tr th {\n",
       "        vertical-align: top;\n",
       "    }\n",
       "\n",
       "    .dataframe thead th {\n",
       "        text-align: right;\n",
       "    }\n",
       "</style>\n",
       "<table border=\"1\" class=\"dataframe\">\n",
       "  <thead>\n",
       "    <tr style=\"text-align: right;\">\n",
       "      <th></th>\n",
       "      <th>total_net_revenue</th>\n",
       "    </tr>\n",
       "  </thead>\n",
       "  <tbody>\n",
       "    <tr>\n",
       "      <th>0</th>\n",
       "      <td>4.284116e+06</td>\n",
       "    </tr>\n",
       "  </tbody>\n",
       "</table>\n",
       "</div>"
      ],
      "text/plain": [
       "   total_net_revenue\n",
       "0       4.284116e+06"
      ]
     },
     "execution_count": 18,
     "metadata": {},
     "output_type": "execute_result"
    }
   ],
   "source": [
    "total_net_revenue=pd.read_sql(\"SELECT SUM(revenue) AS total_net_revenue FROM fact_date_customer_campaign\", con=conn)\n",
    "total_net_revenue"
   ]
  },
  {
   "cell_type": "code",
   "execution_count": 19,
   "metadata": {},
   "outputs": [
    {
     "data": {
      "image/png": "[encoded data removed]",
      "text/plain": [
       "<Figure size 432x288 with 1 Axes>"
      ]
     },
     "metadata": {
      "needs_background": "light"
     },
     "output_type": "display_data"
    }
   ],
   "source": [
    "x=['total net revenue']\n",
    "\n",
    "df=total_net_revenue\n",
    "y=df['total_net_revenue']\n",
    "plt.bar(x, y)\n",
    " \n",
    "plt.show()"
   ]
  },
  {
   "cell_type": "markdown",
   "metadata": {},
   "source": [
    "#### 3.3.6 Other calculation for futher analysis"
   ]
  },
  {
   "cell_type": "markdown",
   "metadata": {},
   "source": [
    "##### (1)  Total Margin percentage ( = net/gross)\n"
   ]
  },
  {
   "cell_type": "code",
   "execution_count": 20,
   "metadata": {},
   "outputs": [
    {
     "data": {
      "text/html": [
       "<div>\n",
       "<style scoped>\n",
       "    .dataframe tbody tr th:only-of-type {\n",
       "        vertical-align: middle;\n",
       "    }\n",
       "\n",
       "    .dataframe tbody tr th {\n",
       "        vertical-align: top;\n",
       "    }\n",
       "\n",
       "    .dataframe thead th {\n",
       "        text-align: right;\n",
       "    }\n",
       "</style>\n",
       "<table border=\"1\" class=\"dataframe\">\n",
       "  <thead>\n",
       "    <tr style=\"text-align: right;\">\n",
       "      <th></th>\n",
       "      <th>margin_percentage</th>\n",
       "    </tr>\n",
       "  </thead>\n",
       "  <tbody>\n",
       "    <tr>\n",
       "      <th>0</th>\n",
       "      <td>27.705013719433075134167966982402%</td>\n",
       "    </tr>\n",
       "  </tbody>\n",
       "</table>\n",
       "</div>"
      ],
      "text/plain": [
       "                    margin_percentage\n",
       "0  27.705013719433075134167966982402%"
      ]
     },
     "execution_count": 20,
     "metadata": {},
     "output_type": "execute_result"
    }
   ],
   "source": [
    "margin_percentage=pd.read_sql(\"SELECT CONCAT(SUM(revenue)*100/SUM(cost + datacost + revenue),'%') AS margin_percentage FROM fact_date_customer_campaign\",con=conn)\n",
    "margin_percentage"
   ]
  },
  {
   "cell_type": "markdown",
   "metadata": {},
   "source": [
    "## 4. Solutions to Part 2 "
   ]
  },
  {
   "cell_type": "markdown",
   "metadata": {},
   "source": [
    "### 4.1 Day-over-Day (D/D) Gross growth "
   ]
  },
  {
   "cell_type": "markdown",
   "metadata": {},
   "source": [
    "SELECT distinct t.date,\n",
    "(\n",
    "SELECT MAX(date)\n",
    "FROM\n",
    "(SELECT DISTINCT date FROM fact_date_customer_campaign) tt\n",
    "WHERE t.Date>tt.Date ) AS last_date\n",
    "FROM\n",
    "(SELECT DISTINCT date FROM fact_date_customer_campaign) t;"
   ]
  },
  {
   "cell_type": "code",
   "execution_count": 21,
   "metadata": {},
   "outputs": [
    {
     "data": {
      "text/html": [
       "<div>\n",
       "<style scoped>\n",
       "    .dataframe tbody tr th:only-of-type {\n",
       "        vertical-align: middle;\n",
       "    }\n",
       "\n",
       "    .dataframe tbody tr th {\n",
       "        vertical-align: top;\n",
       "    }\n",
       "\n",
       "    .dataframe thead th {\n",
       "        text-align: right;\n",
       "    }\n",
       "</style>\n",
       "<table border=\"1\" class=\"dataframe\">\n",
       "  <thead>\n",
       "    <tr style=\"text-align: right;\">\n",
       "      <th></th>\n",
       "      <th>date</th>\n",
       "      <th>last_date</th>\n",
       "    </tr>\n",
       "  </thead>\n",
       "  <tbody>\n",
       "    <tr>\n",
       "      <th>0</th>\n",
       "      <td>2017-01-01</td>\n",
       "      <td>None</td>\n",
       "    </tr>\n",
       "    <tr>\n",
       "      <th>1</th>\n",
       "      <td>2017-01-02</td>\n",
       "      <td>2017-01-01</td>\n",
       "    </tr>\n",
       "    <tr>\n",
       "      <th>2</th>\n",
       "      <td>2017-01-03</td>\n",
       "      <td>2017-01-02</td>\n",
       "    </tr>\n",
       "    <tr>\n",
       "      <th>3</th>\n",
       "      <td>2017-01-04</td>\n",
       "      <td>2017-01-03</td>\n",
       "    </tr>\n",
       "    <tr>\n",
       "      <th>4</th>\n",
       "      <td>2017-01-05</td>\n",
       "      <td>2017-01-04</td>\n",
       "    </tr>\n",
       "    <tr>\n",
       "      <th>...</th>\n",
       "      <td>...</td>\n",
       "      <td>...</td>\n",
       "    </tr>\n",
       "    <tr>\n",
       "      <th>360</th>\n",
       "      <td>2017-12-27</td>\n",
       "      <td>2017-12-26</td>\n",
       "    </tr>\n",
       "    <tr>\n",
       "      <th>361</th>\n",
       "      <td>2017-12-28</td>\n",
       "      <td>2017-12-27</td>\n",
       "    </tr>\n",
       "    <tr>\n",
       "      <th>362</th>\n",
       "      <td>2017-12-29</td>\n",
       "      <td>2017-12-28</td>\n",
       "    </tr>\n",
       "    <tr>\n",
       "      <th>363</th>\n",
       "      <td>2017-12-30</td>\n",
       "      <td>2017-12-29</td>\n",
       "    </tr>\n",
       "    <tr>\n",
       "      <th>364</th>\n",
       "      <td>2017-12-31</td>\n",
       "      <td>2017-12-30</td>\n",
       "    </tr>\n",
       "  </tbody>\n",
       "</table>\n",
       "<p>365 rows × 2 columns</p>\n",
       "</div>"
      ],
      "text/plain": [
       "           date   last_date\n",
       "0    2017-01-01        None\n",
       "1    2017-01-02  2017-01-01\n",
       "2    2017-01-03  2017-01-02\n",
       "3    2017-01-04  2017-01-03\n",
       "4    2017-01-05  2017-01-04\n",
       "..          ...         ...\n",
       "360  2017-12-27  2017-12-26\n",
       "361  2017-12-28  2017-12-27\n",
       "362  2017-12-29  2017-12-28\n",
       "363  2017-12-30  2017-12-29\n",
       "364  2017-12-31  2017-12-30\n",
       "\n",
       "[365 rows x 2 columns]"
      ]
     },
     "execution_count": 21,
     "metadata": {},
     "output_type": "execute_result"
    }
   ],
   "source": [
    "## check day-over-day continue.\n",
    "dd=pd.read_sql(\"SELECT distinct t.date,( SELECT MAX(date) FROM (SELECT DISTINCT date FROM fact_date_customer_campaign) tt WHERE t.Date>tt.Date ) AS last_date FROM (SELECT DISTINCT date FROM fact_date_customer_campaign) t\", con=conn)\n",
    "dd"
   ]
  },
  {
   "cell_type": "markdown",
   "metadata": {},
   "source": [
    "### 4.2 Generate the final report shown the statistics for Segment A Only"
   ]
  },
  {
   "cell_type": "code",
   "execution_count": 22,
   "metadata": {},
   "outputs": [
    {
     "data": {
      "text/html": [
       "<div>\n",
       "<style scoped>\n",
       "    .dataframe tbody tr th:only-of-type {\n",
       "        vertical-align: middle;\n",
       "    }\n",
       "\n",
       "    .dataframe tbody tr th {\n",
       "        vertical-align: top;\n",
       "    }\n",
       "\n",
       "    .dataframe thead th {\n",
       "        text-align: right;\n",
       "    }\n",
       "</style>\n",
       "<table border=\"1\" class=\"dataframe\">\n",
       "  <thead>\n",
       "    <tr style=\"text-align: right;\">\n",
       "      <th></th>\n",
       "      <th>Date</th>\n",
       "      <th>Gross</th>\n",
       "      <th>Net</th>\n",
       "      <th>Margin</th>\n",
       "      <th>D/D Gross</th>\n",
       "    </tr>\n",
       "  </thead>\n",
       "  <tbody>\n",
       "    <tr>\n",
       "      <th>0</th>\n",
       "      <td>2017-01-01</td>\n",
       "      <td>$19,993.89</td>\n",
       "      <td>$5,246.83</td>\n",
       "      <td>26.242160523090219813146272491027%</td>\n",
       "      <td>0%</td>\n",
       "    </tr>\n",
       "    <tr>\n",
       "      <th>1</th>\n",
       "      <td>2017-01-02</td>\n",
       "      <td>$22,456.87</td>\n",
       "      <td>$5,985.16</td>\n",
       "      <td>26.651816440061076690677426348069%</td>\n",
       "      <td>12.318671510142766153527845180242%</td>\n",
       "    </tr>\n",
       "    <tr>\n",
       "      <th>2</th>\n",
       "      <td>2017-01-03</td>\n",
       "      <td>$23,462.06</td>\n",
       "      <td>$6,304.96</td>\n",
       "      <td>26.873016591276207907909013474067%</td>\n",
       "      <td>4.476094333916550978825064391504%</td>\n",
       "    </tr>\n",
       "    <tr>\n",
       "      <th>3</th>\n",
       "      <td>2017-01-04</td>\n",
       "      <td>$24,206.65</td>\n",
       "      <td>$6,470.14</td>\n",
       "      <td>26.728762991695361060033841180968%</td>\n",
       "      <td>3.173563036746938607345253287500%</td>\n",
       "    </tr>\n",
       "    <tr>\n",
       "      <th>4</th>\n",
       "      <td>2017-01-05</td>\n",
       "      <td>$24,429.29</td>\n",
       "      <td>$6,607.21</td>\n",
       "      <td>27.046248091943340663176980508609%</td>\n",
       "      <td>0.919745491650233301673734306873%</td>\n",
       "    </tr>\n",
       "    <tr>\n",
       "      <th>...</th>\n",
       "      <td>...</td>\n",
       "      <td>...</td>\n",
       "      <td>...</td>\n",
       "      <td>...</td>\n",
       "      <td>...</td>\n",
       "    </tr>\n",
       "    <tr>\n",
       "      <th>360</th>\n",
       "      <td>2017-12-27</td>\n",
       "      <td>$59,071.20</td>\n",
       "      <td>$15,910.64</td>\n",
       "      <td>26.934688530058786961314697442465%</td>\n",
       "      <td>5.425181878269746276552428095548%</td>\n",
       "    </tr>\n",
       "    <tr>\n",
       "      <th>361</th>\n",
       "      <td>2017-12-28</td>\n",
       "      <td>$65,965.25</td>\n",
       "      <td>$17,451.87</td>\n",
       "      <td>26.456155589190101407370100057496%</td>\n",
       "      <td>11.670740880215682880934037224785%</td>\n",
       "    </tr>\n",
       "    <tr>\n",
       "      <th>362</th>\n",
       "      <td>2017-12-29</td>\n",
       "      <td>$58,030.67</td>\n",
       "      <td>$15,706.02</td>\n",
       "      <td>27.065030226992309738175386697648%</td>\n",
       "      <td>-12.028430078424703909780452384109%</td>\n",
       "    </tr>\n",
       "    <tr>\n",
       "      <th>363</th>\n",
       "      <td>2017-12-30</td>\n",
       "      <td>$49,732.01</td>\n",
       "      <td>$13,027.27</td>\n",
       "      <td>26.194929542701193913264739204981%</td>\n",
       "      <td>-14.300462312846384475904122399215%</td>\n",
       "    </tr>\n",
       "    <tr>\n",
       "      <th>364</th>\n",
       "      <td>2017-12-31</td>\n",
       "      <td>$52,564.02</td>\n",
       "      <td>$13,694.36</td>\n",
       "      <td>26.052729849699357376018420520647%</td>\n",
       "      <td>5.694530900520202556177626568238%</td>\n",
       "    </tr>\n",
       "  </tbody>\n",
       "</table>\n",
       "<p>365 rows × 5 columns</p>\n",
       "</div>"
      ],
      "text/plain": [
       "           Date       Gross         Net                              Margin  \\\n",
       "0    2017-01-01  $19,993.89   $5,246.83  26.242160523090219813146272491027%   \n",
       "1    2017-01-02  $22,456.87   $5,985.16  26.651816440061076690677426348069%   \n",
       "2    2017-01-03  $23,462.06   $6,304.96  26.873016591276207907909013474067%   \n",
       "3    2017-01-04  $24,206.65   $6,470.14  26.728762991695361060033841180968%   \n",
       "4    2017-01-05  $24,429.29   $6,607.21  27.046248091943340663176980508609%   \n",
       "..          ...         ...         ...                                 ...   \n",
       "360  2017-12-27  $59,071.20  $15,910.64  26.934688530058786961314697442465%   \n",
       "361  2017-12-28  $65,965.25  $17,451.87  26.456155589190101407370100057496%   \n",
       "362  2017-12-29  $58,030.67  $15,706.02  27.065030226992309738175386697648%   \n",
       "363  2017-12-30  $49,732.01  $13,027.27  26.194929542701193913264739204981%   \n",
       "364  2017-12-31  $52,564.02  $13,694.36  26.052729849699357376018420520647%   \n",
       "\n",
       "                               D/D Gross  \n",
       "0                                     0%  \n",
       "1     12.318671510142766153527845180242%  \n",
       "2      4.476094333916550978825064391504%  \n",
       "3      3.173563036746938607345253287500%  \n",
       "4      0.919745491650233301673734306873%  \n",
       "..                                   ...  \n",
       "360    5.425181878269746276552428095548%  \n",
       "361   11.670740880215682880934037224785%  \n",
       "362  -12.028430078424703909780452384109%  \n",
       "363  -14.300462312846384475904122399215%  \n",
       "364    5.694530900520202556177626568238%  \n",
       "\n",
       "[365 rows x 5 columns]"
      ]
     },
     "execution_count": 22,
     "metadata": {},
     "output_type": "execute_result"
    }
   ],
   "source": [
    "dd=pd.read_sql(\"\"\" SELECT t1.Date, \n",
    "CONCAT('$',FORMAT(t1.Gross,2)) AS Gross, \n",
    "CONCAT('$',FORMAT(t1.Net,2)) as Net, \n",
    "t1.Margin,\n",
    "IFNULL(CONCAT((t1.Gross- t3.Gross)*100/t3.Gross,'%'),'0%') AS \"D/D Gross\"\n",
    "FROM\n",
    "(\n",
    "SELECT date AS Date, SUM(cost + datacost + revenue) AS Gross,\n",
    "SUM(revenue) AS Net,\n",
    "CONCAT(SUM(revenue)*100/SUM(cost + datacost + revenue),'%') AS Margin\n",
    "FROM fact_date_customer_campaign \n",
    "JOIN dim_customer \n",
    "ON fact_date_customer_campaign.customer_id=dim_customer.customer_id\n",
    "WHERE dim_customer.segment='Segment A'\n",
    "GROUP BY date\n",
    ") t1 LEFT JOIN \n",
    "(\n",
    "SELECT distinct t.date,\n",
    "(\n",
    "SELECT MAX(date)\n",
    "FROM\n",
    "(SELECT DISTINCT date FROM fact_date_customer_campaign) tt\n",
    "WHERE t.Date>tt.Date ) AS last_date\n",
    "FROM\n",
    "(SELECT DISTINCT date FROM fact_date_customer_campaign) t\n",
    ") t2 ON t1.Date=t2.date\n",
    "LEFT JOIN\n",
    "(\n",
    "SELECT date AS Date, SUM(cost + datacost + revenue) AS Gross,\n",
    "SUM(revenue) AS Net,\n",
    "CONCAT(SUM(revenue)*100/SUM(cost + datacost + revenue),'%') AS Margin\n",
    "FROM fact_date_customer_campaign\n",
    "JOIN dim_customer \n",
    "ON fact_date_customer_campaign.customer_id=dim_customer.customer_id\n",
    "WHERE dim_customer.segment='Segment A'\n",
    "GROUP BY date\n",
    ") t3 ON t3.Date=t2.last_date \"\"\", con=conn)\n",
    "\n",
    "dd"
   ]
  },
  {
   "cell_type": "markdown",
   "metadata": {},
   "source": [
    "<!-- SELECT t1.Date, \n",
    "CONCAT('$',FORMAT(t1.Gross,2)) AS Gross, \n",
    "CONCAT('$',FORMAT(t1.Net,2)) as Net,\n",
    "t1.Margin,\n",
    "IFNULL(CONCAT(ROUND((t1.Gross- t3.Gross)*100/t3.Gross,0),'%'),'-') AS \"D/D Gross\"\n",
    "FROM\n",
    "(\n",
    "SELECT date AS Date, SUM(cost + datacost + revenue) AS Gross,\n",
    "SUM(revenue) AS Net,\n",
    "CONCAT(ROUND(SUM(revenue)*100/SUM(cost + datacost + revenue),0),'%') AS Margin\n",
    "FROM fact_date_customer_campaign\n",
    "GROUP BY date\n",
    ") t1 LEFT JOIN \n",
    "(\n",
    "SELECT distinct t.date,\n",
    "(\n",
    "SELECT MAX(date)\n",
    "FROM\n",
    "(SELECT DISTINCT date FROM fact_date_customer_campaign) tt\n",
    "WHERE t.Date>tt.Date ) AS last_date\n",
    "FROM\n",
    "(SELECT DISTINCT date FROM fact_date_customer_campaign) t\n",
    ") t2 ON t1.Date=t2.date\n",
    "LEFT JOIN\n",
    "(\n",
    "SELECT date AS Date, SUM(cost + datacost + revenue) AS Gross,\n",
    "SUM(revenue) AS Net,\n",
    "CONCAT(ROUND(SUM(revenue)*100/SUM(cost + datacost + revenue),0),'%') AS Margin\n",
    "FROM fact_date_customer_campaign\n",
    "GROUP BY date\n",
    ") t3 ON t3.Date=t2.last_date; -->\n"
   ]
  },
  {
   "cell_type": "code",
   "execution_count": 23,
   "metadata": {
    "scrolled": true
   },
   "outputs": [
    {
     "data": {
      "text/html": [
       "<div>\n",
       "<style scoped>\n",
       "    .dataframe tbody tr th:only-of-type {\n",
       "        vertical-align: middle;\n",
       "    }\n",
       "\n",
       "    .dataframe tbody tr th {\n",
       "        vertical-align: top;\n",
       "    }\n",
       "\n",
       "    .dataframe thead th {\n",
       "        text-align: right;\n",
       "    }\n",
       "</style>\n",
       "<table border=\"1\" class=\"dataframe\">\n",
       "  <thead>\n",
       "    <tr style=\"text-align: right;\">\n",
       "      <th></th>\n",
       "      <th>Date</th>\n",
       "      <th>Gross</th>\n",
       "      <th>Net</th>\n",
       "      <th>Margin</th>\n",
       "      <th>D/D Gross</th>\n",
       "    </tr>\n",
       "  </thead>\n",
       "  <tbody>\n",
       "    <tr>\n",
       "      <th>0</th>\n",
       "      <td>2017-01-01</td>\n",
       "      <td>$19,993.89</td>\n",
       "      <td>$5,246.83</td>\n",
       "      <td>26%</td>\n",
       "      <td>0%</td>\n",
       "    </tr>\n",
       "    <tr>\n",
       "      <th>1</th>\n",
       "      <td>2017-01-02</td>\n",
       "      <td>$22,456.87</td>\n",
       "      <td>$5,985.16</td>\n",
       "      <td>27%</td>\n",
       "      <td>12%</td>\n",
       "    </tr>\n",
       "    <tr>\n",
       "      <th>2</th>\n",
       "      <td>2017-01-03</td>\n",
       "      <td>$23,462.06</td>\n",
       "      <td>$6,304.96</td>\n",
       "      <td>27%</td>\n",
       "      <td>4%</td>\n",
       "    </tr>\n",
       "    <tr>\n",
       "      <th>3</th>\n",
       "      <td>2017-01-04</td>\n",
       "      <td>$24,206.65</td>\n",
       "      <td>$6,470.14</td>\n",
       "      <td>27%</td>\n",
       "      <td>3%</td>\n",
       "    </tr>\n",
       "    <tr>\n",
       "      <th>4</th>\n",
       "      <td>2017-01-05</td>\n",
       "      <td>$24,429.29</td>\n",
       "      <td>$6,607.21</td>\n",
       "      <td>27%</td>\n",
       "      <td>1%</td>\n",
       "    </tr>\n",
       "    <tr>\n",
       "      <th>...</th>\n",
       "      <td>...</td>\n",
       "      <td>...</td>\n",
       "      <td>...</td>\n",
       "      <td>...</td>\n",
       "      <td>...</td>\n",
       "    </tr>\n",
       "    <tr>\n",
       "      <th>360</th>\n",
       "      <td>2017-12-27</td>\n",
       "      <td>$59,071.20</td>\n",
       "      <td>$15,910.64</td>\n",
       "      <td>27%</td>\n",
       "      <td>5%</td>\n",
       "    </tr>\n",
       "    <tr>\n",
       "      <th>361</th>\n",
       "      <td>2017-12-28</td>\n",
       "      <td>$65,965.25</td>\n",
       "      <td>$17,451.87</td>\n",
       "      <td>26%</td>\n",
       "      <td>12%</td>\n",
       "    </tr>\n",
       "    <tr>\n",
       "      <th>362</th>\n",
       "      <td>2017-12-29</td>\n",
       "      <td>$58,030.67</td>\n",
       "      <td>$15,706.02</td>\n",
       "      <td>27%</td>\n",
       "      <td>-12%</td>\n",
       "    </tr>\n",
       "    <tr>\n",
       "      <th>363</th>\n",
       "      <td>2017-12-30</td>\n",
       "      <td>$49,732.01</td>\n",
       "      <td>$13,027.27</td>\n",
       "      <td>26%</td>\n",
       "      <td>-14%</td>\n",
       "    </tr>\n",
       "    <tr>\n",
       "      <th>364</th>\n",
       "      <td>2017-12-31</td>\n",
       "      <td>$52,564.02</td>\n",
       "      <td>$13,694.36</td>\n",
       "      <td>26%</td>\n",
       "      <td>6%</td>\n",
       "    </tr>\n",
       "  </tbody>\n",
       "</table>\n",
       "<p>365 rows × 5 columns</p>\n",
       "</div>"
      ],
      "text/plain": [
       "           Date       Gross         Net Margin D/D Gross\n",
       "0    2017-01-01  $19,993.89   $5,246.83    26%        0%\n",
       "1    2017-01-02  $22,456.87   $5,985.16    27%       12%\n",
       "2    2017-01-03  $23,462.06   $6,304.96    27%        4%\n",
       "3    2017-01-04  $24,206.65   $6,470.14    27%        3%\n",
       "4    2017-01-05  $24,429.29   $6,607.21    27%        1%\n",
       "..          ...         ...         ...    ...       ...\n",
       "360  2017-12-27  $59,071.20  $15,910.64    27%        5%\n",
       "361  2017-12-28  $65,965.25  $17,451.87    26%       12%\n",
       "362  2017-12-29  $58,030.67  $15,706.02    27%      -12%\n",
       "363  2017-12-30  $49,732.01  $13,027.27    26%      -14%\n",
       "364  2017-12-31  $52,564.02  $13,694.36    26%        6%\n",
       "\n",
       "[365 rows x 5 columns]"
      ]
     },
     "execution_count": 23,
     "metadata": {},
     "output_type": "execute_result"
    }
   ],
   "source": [
    "dd=pd.read_sql(\"\"\" SELECT t1.Date, \n",
    "CONCAT('$',FORMAT(t1.Gross,2)) AS Gross, \n",
    "CONCAT('$',FORMAT(t1.Net,2)) as Net, \n",
    "t1.Margin,\n",
    "IFNULL(CONCAT((t1.Gross- t3.Gross)*100/t3.Gross,'%'),'0%') AS \"D/D Gross\"\n",
    "FROM\n",
    "(\n",
    "SELECT date AS Date, SUM(cost + datacost + revenue) AS Gross,\n",
    "SUM(revenue) AS Net,\n",
    "CONCAT(SUM(revenue)*100/SUM(cost + datacost + revenue),'%') AS Margin\n",
    "FROM fact_date_customer_campaign\n",
    "JOIN dim_customer \n",
    "ON fact_date_customer_campaign.customer_id=dim_customer.customer_id\n",
    "WHERE dim_customer.segment='Segment A'\n",
    "GROUP BY date\n",
    ") t1 LEFT JOIN \n",
    "(\n",
    "SELECT distinct t.date,\n",
    "(\n",
    "SELECT MAX(date)\n",
    "FROM\n",
    "(SELECT DISTINCT date FROM fact_date_customer_campaign) tt\n",
    "WHERE t.Date>tt.Date ) AS last_date\n",
    "FROM\n",
    "(SELECT DISTINCT date FROM fact_date_customer_campaign) t\n",
    ") t2 ON t1.Date=t2.date\n",
    "LEFT JOIN\n",
    "(\n",
    "SELECT date AS Date, SUM(cost + datacost + revenue) AS Gross,\n",
    "SUM(revenue) AS Net,\n",
    "CONCAT(SUM(revenue)*100/SUM(cost + datacost + revenue),'%') AS Margin\n",
    "FROM fact_date_customer_campaign\n",
    "JOIN dim_customer \n",
    "ON fact_date_customer_campaign.customer_id=dim_customer.customer_id\n",
    "WHERE dim_customer.segment='Segment A'\n",
    "GROUP BY date\n",
    ") t3 ON t3.Date=t2.last_date \"\"\", con=conn)\n",
    "\n",
    "\n",
    "def format1(column):\n",
    "    return int(round(float(column[:-1]),0))\n",
    "\n",
    "def format2(column):\n",
    "    return str(column)+'%'\n",
    "\n",
    "\n",
    "dd['Margin']=dd['Margin'].apply(lambda x: format1(x))\n",
    "dd['D/D Gross']=dd['D/D Gross'].apply(lambda x :format1(x))\n",
    "    \n",
    "dd['Margin']=dd['Margin'].apply(lambda x: format2(x))\n",
    "dd['D/D Gross']=dd['D/D Gross'].apply(lambda x :format2(x))\n",
    "\n",
    "dd"
   ]
  },
  {
   "cell_type": "markdown",
   "metadata": {},
   "source": [
    "### 4.3 Store the results in to Excel named \"report_output.xlsx\""
   ]
  },
  {
   "cell_type": "code",
   "execution_count": 24,
   "metadata": {
    "scrolled": true
   },
   "outputs": [],
   "source": [
    "## save the above result into excel.\n",
    "writer = pd.ExcelWriter('./report_output.xlsx')\n",
    "df=dd\n",
    "df.to_excel(writer, sheet_name='Sheet1', na_rep='', float_format=None, columns=None, header=True, index=False, index_label=None, startrow=0, startcol=0, engine=None, merge_cells=True, encoding=None, inf_rep='inf', verbose=True, freeze_panes=None)\n",
    "writer.save()"
   ]
  },
  {
   "cell_type": "markdown",
   "metadata": {},
   "source": [
    "### 4.4 Data visulization for the KPIs"
   ]
  },
  {
   "cell_type": "code",
   "execution_count": 25,
   "metadata": {},
   "outputs": [
    {
     "data": {
      "text/plain": [
       "[<matplotlib.lines.Line2D at 0x1c0358f3e50>]"
      ]
     },
     "execution_count": 25,
     "metadata": {},
     "output_type": "execute_result"
    },
    {
     "data": {
      "image/png": "[encoded data removed]",
      "text/plain": [
       "<Figure size 432x288 with 1 Axes>"
      ]
     },
     "metadata": {
      "needs_background": "light"
     },
     "output_type": "display_data"
    }
   ],
   "source": [
    "dd=df\n",
    "x=dd[\"Date\"]\n",
    "y=dd[\"Margin\"]\n",
    "plt.title(\"Margin\")\n",
    "plt.plot(x, y)"
   ]
  },
  {
   "cell_type": "code",
   "execution_count": 26,
   "metadata": {},
   "outputs": [
    {
     "data": {
      "text/plain": [
       "[<matplotlib.lines.Line2D at 0x1c03594d700>]"
      ]
     },
     "execution_count": 26,
     "metadata": {},
     "output_type": "execute_result"
    },
    {
     "data": {
      "image/png": "[encoded data removed]",
      "text/plain": [
       "<Figure size 432x288 with 1 Axes>"
      ]
     },
     "metadata": {
      "needs_background": "light"
     },
     "output_type": "display_data"
    }
   ],
   "source": [
    "dd=df\n",
    "x=dd[\"Date\"]\n",
    "y=dd[\"D/D Gross\"]\n",
    "y_y=[]\n",
    "for yy in y:\n",
    "    if yy!='-':\n",
    "        y_y.append(int(yy[:-1]))\n",
    "    else:\n",
    "        y_y.append(0)\n",
    "plt.ylabel(\"gross rate\", fontsize=11)\n",
    "\n",
    "plt.title(\"D/D Gross\")\n",
    "plt.plot(x, y_y)"
   ]
  },
  {
   "cell_type": "markdown",
   "metadata": {},
   "source": [
    "## 5. Solutions to Part 3 and further thinking about this assignment"
   ]
  },
  {
   "cell_type": "markdown",
   "metadata": {},
   "source": [
    "Check the answers in \"summary.docx\" file "
   ]
  },
  {
   "cell_type": "code",
   "execution_count": null,
   "metadata": {},
   "outputs": [],
   "source": []
  }
 ],
 "metadata": {
  "kernelspec": {
   "display_name": "Python 3",
   "language": "python",
   "name": "python3"
  },
  "language_info": {
   "codemirror_mode": {
    "name": "ipython",
    "version": 3
   },
   "file_extension": ".py",
   "mimetype": "text/x-python",
   "name": "python",
   "nbconvert_exporter": "python",
   "pygments_lexer": "ipython3",
   "version": "3.8.5"
  }
 },
 "nbformat": 4,
 "nbformat_minor": 4
}
