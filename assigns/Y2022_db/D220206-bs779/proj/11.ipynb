{
 "cells": [
  {
   "cell_type": "code",
   "execution_count": 1,
   "metadata": {},
   "outputs": [
    {
     "name": "stdout",
     "output_type": "stream",
     "text": [
      "Collecting psycopg2-binary\n",
      "  Using cached psycopg2_binary-2.9.3-cp38-cp38-win_amd64.whl (1.1 MB)\n",
      "Installing collected packages: psycopg2-binary\n"
     ]
    },
    {
     "name": "stderr",
     "output_type": "stream",
     "text": [
      "ERROR: Could not install packages due to an EnvironmentError: [WinError 5] 拒绝访问。: 'D:\\\\00Tools\\\\Anaconda3\\\\Lib\\\\site-packages\\\\psycopg2\\\\_psycopg.cp38-win_amd64.pyd'\n",
      "Consider using the `--user` option or check the permissions.\n",
      "\n"
     ]
    },
    {
     "name": "stdout",
     "output_type": "stream",
     "text": [
      "Requirement already satisfied: psycopg2 in d:\\00tools\\anaconda3\\lib\\site-packages (2.9.1)\n"
     ]
    }
   ],
   "source": [
    "!pip install psycopg2-binary\n",
    "!pip install psycopg2"
   ]
  },
  {
   "cell_type": "code",
   "execution_count": 2,
   "metadata": {},
   "outputs": [
    {
     "name": "stdout",
     "output_type": "stream",
     "text": [
      "Connecting to the PostgreSQL database...\n"
     ]
    }
   ],
   "source": [
    "import psycopg2, os\n",
    "\n",
    "print('Connecting to the PostgreSQL database...')\n",
    "conn = psycopg2.connect(\n",
    "    host=\"localhost\",\n",
    "    port='5433',\n",
    "    database=\"ceo\",\n",
    "    user=\"postgres\",\n",
    "    password=\"psql\")"
   ]
  },
  {
   "cell_type": "code",
   "execution_count": 3,
   "metadata": {},
   "outputs": [],
   "source": [
    "# create a cursor\n",
    "cur = conn.cursor()"
   ]
  },
  {
   "cell_type": "code",
   "execution_count": 4,
   "metadata": {},
   "outputs": [
    {
     "name": "stdout",
     "output_type": "stream",
     "text": [
      "PostgreSQL database version:\n",
      "('PostgreSQL 12.4, compiled by Visual C++ build 1914, 64-bit',)\n"
     ]
    }
   ],
   "source": [
    "# execute a statement\n",
    "print('PostgreSQL database version:')\n",
    "cur.execute('SELECT version()')\n",
    "\n",
    "# display the PostgreSQL database server version\n",
    "db_version = cur.fetchone()\n",
    "print(db_version)"
   ]
  },
  {
   "cell_type": "code",
   "execution_count": 5,
   "metadata": {},
   "outputs": [],
   "source": [
    "cur.execute(\"drop table if exists company\")\n",
    "cur.execute(\"drop table if exists ceo\")\n",
    "cur.execute(\"drop table if exists city\")\n",
    "\n",
    "conn.commit()"
   ]
  },
  {
   "cell_type": "code",
   "execution_count": 6,
   "metadata": {},
   "outputs": [],
   "source": [
    "createCmd = \"\"\" CREATE TABLE city (\n",
    "                city VARCHAR(30) PRIMARY KEY,\n",
    "                State  VARCHAR(20),\n",
    "                country   CHAR(20)\n",
    "                )\n",
    "            \"\"\"\n",
    "    \n",
    "cur.execute(createCmd)\n",
    "conn.commit()"
   ]
  },
  {
   "cell_type": "code",
   "execution_count": 7,
   "metadata": {},
   "outputs": [],
   "source": [
    "cur.execute(\"INSERT into city VALUES('Mobile', 'AL', 'USA')\")\n",
    "cur.execute(\"INSERT into city VALUES('West Godavari', 'Andhra-Pradesh', 'India')\")\n",
    "cur.execute(\"INSERT into city VALUES('Scarsdale', 'NY', 'USA')\")\n",
    "cur.execute(\"INSERT into city VALUES('Royal Oak', 'MI', 'USA')\")\n",
    "cur.execute(\"INSERT into city VALUES('Kumamoto', '', 'Japan')\")\n",
    "cur.execute(\"INSERT into city VALUES('Shanghai','', 'China')\")\n",
    "cur.execute(\"INSERT into city VALUES('Rennes', 'Illes-et-Villaine', 'France')\")\n",
    "cur.execute(\"INSERT into city VALUES('Cupertino', 'AL', 'USA')\")\n",
    "cur.execute(\"INSERT into city VALUES('Armonk', 'NY', 'USA')\")\n",
    "cur.execute(\"INSERT into city VALUES('Seattle', 'WA', 'USA')\")\n",
    "cur.execute(\"INSERT into city VALUES('Detroit', 'MI', 'USA')\")\n",
    "cur.execute(\"INSERT into city VALUES('Tokyo', '', 'Japan')\")\n",
    "cur.execute(\"INSERT into city VALUES('Hangzhou', 'Zhejiang', 'China')\")\n",
    "cur.execute(\"INSERT into city VALUES('Paris', '', 'France')\")\n",
    "conn.commit()"
   ]
  },
  {
   "cell_type": "code",
   "execution_count": 8,
   "metadata": {},
   "outputs": [],
   "source": [
    "createCmd = \"\"\" CREATE TABLE CEO (\n",
    "                ceo_id SERIAL PRIMARY KEY,\n",
    "                firstname VARCHAR(50),\n",
    "                lastname  VARCHAR(50),\n",
    "                birth_yr  int,\n",
    "                birth_city  VARCHAR(30),\n",
    "                become_CEO  int,\n",
    "                FOREIGN KEY (birth_city) REFERENCES city(city)\n",
    "                )\n",
    "            \"\"\"\n",
    "    \n",
    "cur.execute(createCmd)\n",
    "conn.commit()"
   ]
  },
  {
   "cell_type": "code",
   "execution_count": 9,
   "metadata": {},
   "outputs": [],
   "source": [
    "cur.execute(\"INSERT into CEO VALUES(1, 'Tim','Cook', 1960, 'Mobile', 2011)\")\n",
    "cur.execute(\"INSERT into CEO VALUES(2, 'Arvind', 'Krishna', 1962, 'West Godavari', 2020)\")\n",
    "cur.execute(\"INSERT into CEO VALUES(3, 'Andy', 'Jassy', 1968, 'Scarsdale', 2021)\")\n",
    "cur.execute(\"INSERT into CEO VALUES(4, 'Marry', 'Barra', 1961, 'Royal Oak', 2014)\")\n",
    "cur.execute(\"INSERT into CEO VALUES(5, 'Kenichiro', 'Yoshida', 1959, 'Kumamoto', 2018)\")\n",
    "cur.execute(\"INSERT into CEO VALUES(6, 'Daniel', 'Zhang', 1972, 'Shanghai', 2015)\")\n",
    "cur.execute(\"INSERT into CEO VALUES(7, 'François-Henri', 'Pinault', 1962, 'Rennes', 2005)\")\n",
    "conn.commit()"
   ]
  },
  {
   "cell_type": "code",
   "execution_count": 10,
   "metadata": {},
   "outputs": [],
   "source": [
    "createCmd = \"\"\" CREATE TABLE company (\n",
    "                company_id SERIAL PRIMARY KEY,\n",
    "                name        VARCHAR(30) NOT NULL,\n",
    "                HQ          VARCHAR(30),\n",
    "                ceo_id      int,\n",
    "                found_yr    int,\n",
    "                FOREIGN KEY (HQ) REFERENCES city(city),\n",
    "                FOREIGN KEY (ceo_id) REFERENCES CEO(ceo_id)\n",
    "                )\n",
    "            \"\"\"\n",
    "    \n",
    "cur.execute(createCmd)\n",
    "conn.commit()"
   ]
  },
  {
   "cell_type": "code",
   "execution_count": 11,
   "metadata": {},
   "outputs": [],
   "source": [
    "cur.execute(\"INSERT into company VALUES(1, 'Apple, Inc.', 'Cupertino',1, 1976)\")\n",
    "cur.execute(\"INSERT into company VALUES(2, 'IBM', 'Armonk',2,1911)\")\n",
    "cur.execute(\"INSERT into company VALUES(3, 'Amazon','Seattle',3, 1994)\")\n",
    "cur.execute(\"INSERT into company VALUES(4, 'General Motors', 'Detroit',4,1908)\")\n",
    "cur.execute(\"INSERT into company VALUES(5, 'Sony Corporation','Tokyo',5, 1946)\")\n",
    "cur.execute(\"INSERT into company VALUES(6, 'Alibaba Group', 'Hangzhou',6,1999)\")\n",
    "cur.execute(\"INSERT into company VALUES(7, 'Kering SA', 'Paris', 7, 1963)\")\n",
    "conn.commit()"
   ]
  },
  {
   "cell_type": "code",
   "execution_count": 12,
   "metadata": {},
   "outputs": [
    {
     "name": "stdout",
     "output_type": "stream",
     "text": [
      "The number of rows:  1\n",
      "company name: General Motors , age of the company 114.0\n"
     ]
    }
   ],
   "source": [
    "# What’s the age of the company whose CEO was born in the state of Michigan?\n",
    "queryCmd = '''SELECT company.name, extract(year from now())-found_yr from CEO \n",
    "join CITY on CEO.birth_city=CITY.city \n",
    "join company on company.ceo_id=CEO.ceo_id\n",
    "where CITY.state='MI'  \n",
    "'''\n",
    "cur.execute(queryCmd)    \n",
    "print(\"The number of rows: \", cur.rowcount)\n",
    "\n",
    "rows = cur.fetchall()\n",
    "for row in rows:\n",
    "    print(\"company name:\", row[0], \", age of the company\", row[1])\n",
    "   "
   ]
  },
  {
   "cell_type": "code",
   "execution_count": 13,
   "metadata": {},
   "outputs": [
    {
     "name": "stdout",
     "output_type": "stream",
     "text": [
      "The number of rows:  2\n",
      "full name: Arvind Krishna\n",
      "full name: Marry Barra\n"
     ]
    }
   ],
   "source": [
    "# What are the full names of CEOs of companies founded in the USA before 1946?\n",
    "queryCmd = '''SELECT concat(firstname,' ', lastname) fullname from CEO\n",
    "join company on company.ceo_id=CEO.ceo_id \n",
    "join CITY on CITY.city=company.HQ\n",
    "where city.country = 'USA' and company.found_yr < 1946'''\n",
    "cur.execute(queryCmd)    \n",
    "print(\"The number of rows: \", cur.rowcount)\n",
    "\n",
    "rows = cur.fetchall()\n",
    "# print(rows)\n",
    "for row in rows:\n",
    "    print(\"full name:\", row[0])\n"
   ]
  },
  {
   "cell_type": "code",
   "execution_count": 14,
   "metadata": {},
   "outputs": [
    {
     "name": "stdout",
     "output_type": "stream",
     "text": [
      "The number of rows:  2\n",
      "company name: Amazon\n",
      "company name: Alibaba Group\n"
     ]
    }
   ],
   "source": [
    "# Which companies have CEOs younger than 55?\n",
    "queryCmd = '''SELECT company.name from CEO\n",
    "join company on company.ceo_id=CEO.ceo_id \n",
    "where extract(year from now())-CEO.birth_yr<55'''   \n",
    "cur.execute(queryCmd)    \n",
    "print(\"The number of rows: \", cur.rowcount)\n",
    "\n",
    "rows = cur.fetchall()\n",
    "\n",
    "for row in rows:\n",
    "    print(\"company name:\", row[0])\n"
   ]
  },
  {
   "cell_type": "code",
   "execution_count": 15,
   "metadata": {},
   "outputs": [],
   "source": [
    "# close the communication with the PostgreSQL\n",
    "cur.close()"
   ]
  },
  {
   "cell_type": "code",
   "execution_count": null,
   "metadata": {},
   "outputs": [],
   "source": []
  }
 ],
 "metadata": {
  "kernelspec": {
   "display_name": "Python 3",
   "language": "python",
   "name": "python3"
  },
  "language_info": {
   "codemirror_mode": {
    "name": "ipython",
    "version": 3
   },
   "file_extension": ".py",
   "mimetype": "text/x-python",
   "name": "python",
   "nbconvert_exporter": "python",
   "pygments_lexer": "ipython3",
   "version": "3.8.5"
  }
 },
 "nbformat": 4,
 "nbformat_minor": 5
}