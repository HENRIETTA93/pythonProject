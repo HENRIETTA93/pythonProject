{
 "cells": [
  {
   "cell_type": "code",
   "execution_count": 1,
   "id": "a321ef38",
   "metadata": {},
   "outputs": [],
   "source": [
    "import pandas as pd\n"
   ]
  },
  {
   "cell_type": "markdown",
   "id": "fb90aef9",
   "metadata": {},
   "source": [
    "### Step 1: Use the Python Pandas to read CSV file (2 marks)"
   ]
  },
  {
   "cell_type": "code",
   "execution_count": 2,
   "id": "2628b8f4",
   "metadata": {},
   "outputs": [],
   "source": [
    "stuDf=pd.read_csv(\"StudentsPerformance.csv\")"
   ]
  },
  {
   "cell_type": "markdown",
   "id": "633d8d2b",
   "metadata": {},
   "source": [
    "### Step 2: Preview your loaded CSV data by showing first five rows of records. (2 marks)"
   ]
  },
  {
   "cell_type": "code",
   "execution_count": 3,
   "id": "03f80bc7",
   "metadata": {},
   "outputs": [
    {
     "data": {
      "text/html": [
       "<div>\n",
       "<style scoped>\n",
       "    .dataframe tbody tr th:only-of-type {\n",
       "        vertical-align: middle;\n",
       "    }\n",
       "\n",
       "    .dataframe tbody tr th {\n",
       "        vertical-align: top;\n",
       "    }\n",
       "\n",
       "    .dataframe thead th {\n",
       "        text-align: right;\n",
       "    }\n",
       "</style>\n",
       "<table border=\"1\" class=\"dataframe\">\n",
       "  <thead>\n",
       "    <tr style=\"text-align: right;\">\n",
       "      <th></th>\n",
       "      <th>gender</th>\n",
       "      <th>race/ethnicity</th>\n",
       "      <th>parental level of education</th>\n",
       "      <th>lunch</th>\n",
       "      <th>test preparation course</th>\n",
       "      <th>math score</th>\n",
       "      <th>reading score</th>\n",
       "      <th>writing score</th>\n",
       "    </tr>\n",
       "  </thead>\n",
       "  <tbody>\n",
       "    <tr>\n",
       "      <th>0</th>\n",
       "      <td>female</td>\n",
       "      <td>group B</td>\n",
       "      <td>bachelor's degree</td>\n",
       "      <td>standard</td>\n",
       "      <td>none</td>\n",
       "      <td>72</td>\n",
       "      <td>72</td>\n",
       "      <td>74</td>\n",
       "    </tr>\n",
       "    <tr>\n",
       "      <th>1</th>\n",
       "      <td>female</td>\n",
       "      <td>group C</td>\n",
       "      <td>some college</td>\n",
       "      <td>standard</td>\n",
       "      <td>completed</td>\n",
       "      <td>69</td>\n",
       "      <td>90</td>\n",
       "      <td>88</td>\n",
       "    </tr>\n",
       "    <tr>\n",
       "      <th>2</th>\n",
       "      <td>female</td>\n",
       "      <td>group B</td>\n",
       "      <td>master's degree</td>\n",
       "      <td>standard</td>\n",
       "      <td>none</td>\n",
       "      <td>90</td>\n",
       "      <td>95</td>\n",
       "      <td>93</td>\n",
       "    </tr>\n",
       "    <tr>\n",
       "      <th>3</th>\n",
       "      <td>male</td>\n",
       "      <td>group A</td>\n",
       "      <td>associate's degree</td>\n",
       "      <td>free/reduced</td>\n",
       "      <td>none</td>\n",
       "      <td>47</td>\n",
       "      <td>57</td>\n",
       "      <td>44</td>\n",
       "    </tr>\n",
       "    <tr>\n",
       "      <th>4</th>\n",
       "      <td>male</td>\n",
       "      <td>group C</td>\n",
       "      <td>some college</td>\n",
       "      <td>standard</td>\n",
       "      <td>none</td>\n",
       "      <td>76</td>\n",
       "      <td>78</td>\n",
       "      <td>75</td>\n",
       "    </tr>\n",
       "  </tbody>\n",
       "</table>\n",
       "</div>"
      ],
      "text/plain": [
       "   gender race/ethnicity parental level of education         lunch  \\\n",
       "0  female        group B           bachelor's degree      standard   \n",
       "1  female        group C                some college      standard   \n",
       "2  female        group B             master's degree      standard   \n",
       "3    male        group A          associate's degree  free/reduced   \n",
       "4    male        group C                some college      standard   \n",
       "\n",
       "  test preparation course  math score  reading score  writing score  \n",
       "0                    none          72             72             74  \n",
       "1               completed          69             90             88  \n",
       "2                    none          90             95             93  \n",
       "3                    none          47             57             44  \n",
       "4                    none          76             78             75  "
      ]
     },
     "execution_count": 3,
     "metadata": {},
     "output_type": "execute_result"
    }
   ],
   "source": [
    "stuDf.head()"
   ]
  },
  {
   "cell_type": "markdown",
   "id": "83f4a6fe",
   "metadata": {},
   "source": [
    "### Step 3: Perform the value counts on the columns, “race/ethnicity”, “parental level of education”, and “lunch” to identify the frequency of each unique value in those columns (6 marks)\n"
   ]
  },
  {
   "cell_type": "code",
   "execution_count": 4,
   "id": "40e25e7b",
   "metadata": {},
   "outputs": [
    {
     "data": {
      "text/plain": [
       "array(['group B', 'group C', 'group A', 'group D', 'group E'],\n",
       "      dtype=object)"
      ]
     },
     "execution_count": 4,
     "metadata": {},
     "output_type": "execute_result"
    }
   ],
   "source": [
    "stuDf['race/ethnicity'].unique()"
   ]
  },
  {
   "cell_type": "code",
   "execution_count": 5,
   "id": "83eb5724",
   "metadata": {},
   "outputs": [
    {
     "data": {
      "text/plain": [
       "group C    319\n",
       "group D    262\n",
       "group B    190\n",
       "group E    140\n",
       "group A     89\n",
       "Name: race/ethnicity, dtype: int64"
      ]
     },
     "execution_count": 5,
     "metadata": {},
     "output_type": "execute_result"
    }
   ],
   "source": [
    "stuDf['race/ethnicity'].value_counts()"
   ]
  },
  {
   "cell_type": "code",
   "execution_count": 6,
   "id": "81fadba1",
   "metadata": {},
   "outputs": [
    {
     "data": {
      "text/plain": [
       "array([\"bachelor's degree\", 'some college', \"master's degree\",\n",
       "       \"associate's degree\", 'high school', 'some high school'],\n",
       "      dtype=object)"
      ]
     },
     "execution_count": 6,
     "metadata": {},
     "output_type": "execute_result"
    }
   ],
   "source": [
    "stuDf['parental level of education'].unique()"
   ]
  },
  {
   "cell_type": "code",
   "execution_count": 7,
   "id": "87a7ed84",
   "metadata": {},
   "outputs": [
    {
     "data": {
      "text/plain": [
       "some college          226\n",
       "associate's degree    222\n",
       "high school           196\n",
       "some high school      179\n",
       "bachelor's degree     118\n",
       "master's degree        59\n",
       "Name: parental level of education, dtype: int64"
      ]
     },
     "execution_count": 7,
     "metadata": {},
     "output_type": "execute_result"
    }
   ],
   "source": [
    "stuDf['parental level of education'].value_counts()"
   ]
  },
  {
   "cell_type": "code",
   "execution_count": 8,
   "id": "2a648007",
   "metadata": {},
   "outputs": [
    {
     "data": {
      "text/plain": [
       "array(['standard', 'free/reduced'], dtype=object)"
      ]
     },
     "execution_count": 8,
     "metadata": {},
     "output_type": "execute_result"
    }
   ],
   "source": [
    "stuDf['lunch'].unique()"
   ]
  },
  {
   "cell_type": "code",
   "execution_count": 9,
   "id": "6211c541",
   "metadata": {},
   "outputs": [
    {
     "data": {
      "text/plain": [
       "standard        645\n",
       "free/reduced    355\n",
       "Name: lunch, dtype: int64"
      ]
     },
     "execution_count": 9,
     "metadata": {},
     "output_type": "execute_result"
    }
   ],
   "source": [
    "stuDf['lunch'].value_counts()"
   ]
  },
  {
   "cell_type": "markdown",
   "id": "9cf5e6ef",
   "metadata": {},
   "source": [
    "### Step 4: Create grouped bar chart to show the count of race/ethnicity and parental level of education grouped by gender. (6 marks)\n"
   ]
  },
  {
   "cell_type": "code",
   "execution_count": 10,
   "id": "35cef933",
   "metadata": {},
   "outputs": [
    {
     "data": {
      "image/png": "[encoded data removed]",
      "text/plain": [
       "<Figure size 432x288 with 1 Axes>"
      ]
     },
     "metadata": {
      "needs_background": "light"
     },
     "output_type": "display_data"
    }
   ],
   "source": [
    "import seaborn as sns\n",
    "import matplotlib.pyplot as plt\n",
    "\n",
    "sns.countplot(x='race/ethnicity', hue='gender', data=stuDf)\n",
    "plt.show()"
   ]
  },
  {
   "cell_type": "code",
   "execution_count": 21,
   "id": "f9d534f4",
   "metadata": {},
   "outputs": [
    {
     "data": {
      "image/png": "[encoded data removed]",
      "text/plain": [
       "<Figure size 432x288 with 1 Axes>"
      ]
     },
     "metadata": {
      "needs_background": "light"
     },
     "output_type": "display_data"
    }
   ],
   "source": [
    "sns.countplot(x='parental level of education', hue='gender', data=stuDf)\n",
    "plt.xticks(rotation=60)\n",
    "plt.show()"
   ]
  },
  {
   "cell_type": "markdown",
   "id": "f59ea96a",
   "metadata": {},
   "source": [
    "### Step 5: Calculate the mean and median on math score, reading score and writing score. The mean and median of each score should be grouped by gender. (6 marks)"
   ]
  },
  {
   "cell_type": "code",
   "execution_count": 19,
   "id": "3315cbc5",
   "metadata": {},
   "outputs": [
    {
     "data": {
      "text/html": [
       "<div>\n",
       "<style scoped>\n",
       "    .dataframe tbody tr th:only-of-type {\n",
       "        vertical-align: middle;\n",
       "    }\n",
       "\n",
       "    .dataframe tbody tr th {\n",
       "        vertical-align: top;\n",
       "    }\n",
       "\n",
       "    .dataframe thead th {\n",
       "        text-align: right;\n",
       "    }\n",
       "</style>\n",
       "<table border=\"1\" class=\"dataframe\">\n",
       "  <thead>\n",
       "    <tr style=\"text-align: right;\">\n",
       "      <th></th>\n",
       "      <th>math score</th>\n",
       "      <th>reading score</th>\n",
       "      <th>writing score</th>\n",
       "    </tr>\n",
       "    <tr>\n",
       "      <th>gender</th>\n",
       "      <th></th>\n",
       "      <th></th>\n",
       "      <th></th>\n",
       "    </tr>\n",
       "  </thead>\n",
       "  <tbody>\n",
       "    <tr>\n",
       "      <th>female</th>\n",
       "      <td>63.633205</td>\n",
       "      <td>72.608108</td>\n",
       "      <td>72.467181</td>\n",
       "    </tr>\n",
       "    <tr>\n",
       "      <th>male</th>\n",
       "      <td>68.728216</td>\n",
       "      <td>65.473029</td>\n",
       "      <td>63.311203</td>\n",
       "    </tr>\n",
       "  </tbody>\n",
       "</table>\n",
       "</div>"
      ],
      "text/plain": [
       "        math score  reading score  writing score\n",
       "gender                                          \n",
       "female   63.633205      72.608108      72.467181\n",
       "male     68.728216      65.473029      63.311203"
      ]
     },
     "execution_count": 19,
     "metadata": {},
     "output_type": "execute_result"
    }
   ],
   "source": [
    "stuDf.groupby('gender')[['math score','reading score','writing score']].mean()"
   ]
  },
  {
   "cell_type": "code",
   "execution_count": 20,
   "id": "6e852a55",
   "metadata": {},
   "outputs": [
    {
     "data": {
      "text/html": [
       "<div>\n",
       "<style scoped>\n",
       "    .dataframe tbody tr th:only-of-type {\n",
       "        vertical-align: middle;\n",
       "    }\n",
       "\n",
       "    .dataframe tbody tr th {\n",
       "        vertical-align: top;\n",
       "    }\n",
       "\n",
       "    .dataframe thead th {\n",
       "        text-align: right;\n",
       "    }\n",
       "</style>\n",
       "<table border=\"1\" class=\"dataframe\">\n",
       "  <thead>\n",
       "    <tr style=\"text-align: right;\">\n",
       "      <th></th>\n",
       "      <th>math score</th>\n",
       "      <th>reading score</th>\n",
       "      <th>writing score</th>\n",
       "    </tr>\n",
       "    <tr>\n",
       "      <th>gender</th>\n",
       "      <th></th>\n",
       "      <th></th>\n",
       "      <th></th>\n",
       "    </tr>\n",
       "  </thead>\n",
       "  <tbody>\n",
       "    <tr>\n",
       "      <th>female</th>\n",
       "      <td>65</td>\n",
       "      <td>73</td>\n",
       "      <td>74</td>\n",
       "    </tr>\n",
       "    <tr>\n",
       "      <th>male</th>\n",
       "      <td>69</td>\n",
       "      <td>66</td>\n",
       "      <td>64</td>\n",
       "    </tr>\n",
       "  </tbody>\n",
       "</table>\n",
       "</div>"
      ],
      "text/plain": [
       "        math score  reading score  writing score\n",
       "gender                                          \n",
       "female          65             73             74\n",
       "male            69             66             64"
      ]
     },
     "execution_count": 20,
     "metadata": {},
     "output_type": "execute_result"
    }
   ],
   "source": [
    "stuDf.groupby('gender')[['math score','reading score','writing score']].median()"
   ]
  },
  {
   "cell_type": "markdown",
   "id": "474bd046",
   "metadata": {},
   "source": [
    "### Step 6: By comparing the mean and median you obtained from Step 5, write a Python comment to talk about which is a better measure of center (mean or median) for the math, reading & writing score of this dataset? Please also include a reason to justify your answer. (2 marks)"
   ]
  },
  {
   "cell_type": "code",
   "execution_count": 22,
   "id": "4b7deb36",
   "metadata": {},
   "outputs": [],
   "source": [
    "# Based on the mean and median score of math, reading and writing that I obtained\n",
    "# from Step 5, I think that median is a better measure of center for the math, reading\n",
    "# and writing score of this dataset. \n",
    "# The reason is that a medain may reflect the middle score of the dataset, but mean is\n",
    "# a average score of all the data, it can be affected by some very low value or very high\n",
    "# value."
   ]
  },
  {
   "cell_type": "markdown",
   "id": "488ada98",
   "metadata": {},
   "source": [
    "### Step 7: Create grouped bar chartsto show the mean of math score, reading score & writing score grouped by gender. (6 marks)"
   ]
  },
  {
   "cell_type": "code",
   "execution_count": 124,
   "id": "ea6e1b72",
   "metadata": {},
   "outputs": [
    {
     "data": {
      "image/png": "[encoded data removed]",
      "text/plain": [
       "<Figure size 432x288 with 3 Axes>"
      ]
     },
     "metadata": {},
     "output_type": "display_data"
    }
   ],
   "source": [
    "\n",
    "dff=stuDf[['math score','gender']].groupby('gender').mean()\n",
    "dff1=stuDf[['reading score','gender']].groupby('gender').mean()\n",
    "dff2=stuDf[['writing score','gender']].groupby('gender').mean()\n",
    "fig, axs=plt.subplots(1,3)\n",
    "axs[0].bar(dff.index, dff['math score'],color=['blue','orange'])\n",
    "axs[1].bar(dff1.index, dff1['reading score'], color=['blue','orange'])\n",
    "axs[2].bar(dff1.index, dff2['writing score'], color=['blue','orange'])\n",
    "\n",
    "axs[0].set_ylabel('scores')\n",
    "axs[0].set_title('math')\n",
    "axs[0].set_xlabel('gender')\n",
    "axs[0].grid(False)\n",
    "axs[1].set_ylabel('scores')\n",
    "axs[1].set_title('reading')\n",
    "axs[1].set_xlabel('gender')\n",
    "axs[1].grid(False)\n",
    "axs[2].set_ylabel('scores')\n",
    "axs[2].set_title('writing')\n",
    "axs[2].set_xlabel('gender')\n",
    "axs[2].grid(False)\n",
    "\n",
    "fig.tight_layout()\n"
   ]
  },
  {
   "cell_type": "markdown",
   "id": "0094fbed",
   "metadata": {},
   "source": [
    "### Step 8: Discuss your observation from the grouped bar charts produced from Step 7. (2 marks)"
   ]
  },
  {
   "cell_type": "code",
   "execution_count": 134,
   "id": "35bb6827",
   "metadata": {},
   "outputs": [],
   "source": [
    "# From the grouped bar charts produced from Step 7, It can tell us that the female students get higher mean score in reading and writing.\n",
    "# And the male students get higher mean score in math.\n"
   ]
  },
  {
   "cell_type": "markdown",
   "id": "659e7c15",
   "metadata": {},
   "source": [
    "### Step 9: Pick and create one type of plot (e.g. grouped bar chart, box plots, or etc) to compare the performance of math, reading and writing score among the students with “completed” and “none” test preparation. (6 marks)"
   ]
  },
  {
   "cell_type": "code",
   "execution_count": 133,
   "id": "8af58d14",
   "metadata": {
    "scrolled": true
   },
   "outputs": [
    {
     "data": {
      "image/png": "[encoded data removed]",
      "text/plain": [
       "<Figure size 432x288 with 3 Axes>"
      ]
     },
     "metadata": {},
     "output_type": "display_data"
    }
   ],
   "source": [
    "dff=stuDf[['math score','test preparation course']].groupby('test preparation course').mean()\n",
    "dff1=stuDf[['reading score','test preparation course']].groupby('test preparation course').mean()\n",
    "dff2=stuDf[['writing score','test preparation course']].groupby('test preparation course').mean()\n",
    "fig, axs=plt.subplots(1,3)\n",
    "axs[0].bar(dff.index, dff['math score'],color=['blue','orange'])\n",
    "axs[1].bar(dff1.index, dff1['reading score'], color=['blue','orange'])\n",
    "axs[2].bar(dff1.index, dff2['writing score'], color=['blue','orange'])\n",
    "\n",
    "axs[0].set_ylabel('scores')\n",
    "axs[0].set_title('math')\n",
    "axs[0].set_xlabel('test preparation course')\n",
    "axs[0].grid(False)\n",
    "axs[1].set_ylabel('scores')\n",
    "axs[1].set_title('reading')\n",
    "axs[1].set_xlabel('test preparation course')\n",
    "axs[1].grid(False)\n",
    "axs[2].set_ylabel('scores')\n",
    "axs[2].set_title('writing')\n",
    "axs[2].set_xlabel('test preparation course')\n",
    "axs[2].grid(False)\n",
    "\n",
    "fig.tight_layout()"
   ]
  },
  {
   "cell_type": "markdown",
   "id": "8e2598de",
   "metadata": {},
   "source": [
    "### Step 10: Based on the plot generated from Step 9, discuss your observations. (2 marks)"
   ]
  },
  {
   "cell_type": "code",
   "execution_count": null,
   "id": "cebcc88b",
   "metadata": {},
   "outputs": [],
   "source": [
    "# From the plot generated from Step 9, It tells us that the students who completed test preparation course, the mean of math score, reading score and \n",
    "# writing score are higher than the students who doesn't completed test prepartion course."
   ]
  },
  {
   "cell_type": "markdown",
   "id": "5a69af35",
   "metadata": {},
   "source": [
    "### Step 11: Store all the data extracted from the StudentsPerformance.csv in a relational database using the Python sqlite3 module. You will only require to create one table in your database. (5marks)"
   ]
  },
  {
   "cell_type": "code",
   "execution_count": 39,
   "id": "70158158",
   "metadata": {},
   "outputs": [
    {
     "name": "stdout",
     "output_type": "stream",
     "text": [
      "database open success!\n"
     ]
    }
   ],
   "source": [
    "import sqlite3\n",
    "\n",
    "conn = sqlite3.connect('stuPerfomance.db')\n",
    "\n",
    "print (\"database open success!\")"
   ]
  },
  {
   "cell_type": "code",
   "execution_count": 71,
   "id": "83219723",
   "metadata": {},
   "outputs": [],
   "source": [
    "cur=conn.cursor()\n",
    "drop_table=\"drop table if exists stuPerfomance;\"\n",
    "cur.execute(drop_table)\n",
    "create_sql=\"\"\"\n",
    "create table stuPerfomance(\n",
    "gender varchar(10),\n",
    "race_ethnicity varchar(50),\n",
    "parental_level_of_education varchar(30),\n",
    "lunch varchar(20),\n",
    "test_preparation_course varchar(20),\n",
    "math_score int,\n",
    "reading_score int,\n",
    "writing_score int \n",
    ");\n",
    "\"\"\"\n",
    "\n",
    "\n",
    "cur.execute(create_sql)\n",
    "conn.commit()\n"
   ]
  },
  {
   "cell_type": "code",
   "execution_count": 72,
   "id": "79cfc01d",
   "metadata": {},
   "outputs": [],
   "source": [
    "insert_sql=\"insert into stuPerfomance values(?,?,?,?,?,?,?,?) \"\n",
    "for i in range(len(stuDf)):\n",
    "#     print([str(stuDf.loc[i][0]),  stuDf.loc[i][1], stuDf.loc[i][2], \n",
    "#                 stuDf.loc[i][3], stuDf.loc[i][4],  stuDf.loc[i][5], \n",
    "#                 stuDf.loc[i][6], stuDf.loc[i][7]])\n",
    "    cur.execute(insert_sql, [stuDf.loc[i][0],  stuDf.loc[i][1], stuDf.loc[i][2], \n",
    "                stuDf.loc[i][3], stuDf.loc[i][4],  int(stuDf.loc[i][5]),                 \n",
    "                int(stuDf.loc[i][6]), int(stuDf.loc[i][7])])\n",
    "    "
   ]
  },
  {
   "cell_type": "code",
   "execution_count": 73,
   "id": "fe7d3e59",
   "metadata": {},
   "outputs": [
    {
     "name": "stdout",
     "output_type": "stream",
     "text": [
      "[('female', 'group B', \"bachelor's degree\", 'standard', 'none', 72, 72, 74), ('female', 'group C', 'some college', 'standard', 'completed', 69, 90, 88), ('female', 'group B', \"master's degree\", 'standard', 'none', 90, 95, 93), ('male', 'group A', \"associate's degree\", 'free/reduced', 'none', 47, 57, 44), ('male', 'group C', 'some college', 'standard', 'none', 76, 78, 75), ('female', 'group B', \"associate's degree\", 'standard', 'none', 71, 83, 78), ('female', 'group B', 'some college', 'standard', 'completed', 88, 95, 92), ('male', 'group B', 'some college', 'free/reduced', 'none', 40, 43, 39), ('male', 'group D', 'high school', 'free/reduced', 'completed', 64, 64, 67), ('female', 'group B', 'high school', 'free/reduced', 'none', 38, 60, 50), ('male', 'group C', \"associate's degree\", 'standard', 'none', 58, 54, 52), ('male', 'group D', \"associate's degree\", 'standard', 'none', 40, 52, 43), ('female', 'group B', 'high school', 'standard', 'none', 65, 81, 73), ('male', 'group A', 'some college', 'standard', 'completed', 78, 72, 70), ('female', 'group A', \"master's degree\", 'standard', 'none', 50, 53, 58), ('female', 'group C', 'some high school', 'standard', 'none', 69, 75, 78), ('male', 'group C', 'high school', 'standard', 'none', 88, 89, 86), ('female', 'group B', 'some high school', 'free/reduced', 'none', 18, 32, 28), ('male', 'group C', \"master's degree\", 'free/reduced', 'completed', 46, 42, 46), ('female', 'group C', \"associate's degree\", 'free/reduced', 'none', 54, 58, 61), ('male', 'group D', 'high school', 'standard', 'none', 66, 69, 63), ('female', 'group B', 'some college', 'free/reduced', 'completed', 65, 75, 70), ('male', 'group D', 'some college', 'standard', 'none', 44, 54, 53), ('female', 'group C', 'some high school', 'standard', 'none', 69, 73, 73), ('male', 'group D', \"bachelor's degree\", 'free/reduced', 'completed', 74, 71, 80), ('male', 'group A', \"master's degree\", 'free/reduced', 'none', 73, 74, 72), ('male', 'group B', 'some college', 'standard', 'none', 69, 54, 55), ('female', 'group C', \"bachelor's degree\", 'standard', 'none', 67, 69, 75), ('male', 'group C', 'high school', 'standard', 'none', 70, 70, 65), ('female', 'group D', \"master's degree\", 'standard', 'none', 62, 70, 75), ('female', 'group D', 'some college', 'standard', 'none', 69, 74, 74), ('female', 'group B', 'some college', 'standard', 'none', 63, 65, 61), ('female', 'group E', \"master's degree\", 'free/reduced', 'none', 56, 72, 65), ('male', 'group D', 'some college', 'standard', 'none', 40, 42, 38), ('male', 'group E', 'some college', 'standard', 'none', 97, 87, 82), ('male', 'group E', \"associate's degree\", 'standard', 'completed', 81, 81, 79), ('female', 'group D', \"associate's degree\", 'standard', 'none', 74, 81, 83), ('female', 'group D', 'some high school', 'free/reduced', 'none', 50, 64, 59), ('female', 'group D', \"associate's degree\", 'free/reduced', 'completed', 75, 90, 88), ('male', 'group B', \"associate's degree\", 'free/reduced', 'none', 57, 56, 57), ('male', 'group C', \"associate's degree\", 'free/reduced', 'none', 55, 61, 54), ('female', 'group C', \"associate's degree\", 'standard', 'none', 58, 73, 68), ('female', 'group B', \"associate's degree\", 'standard', 'none', 53, 58, 65), ('male', 'group B', 'some college', 'free/reduced', 'completed', 59, 65, 66), ('female', 'group E', \"associate's degree\", 'free/reduced', 'none', 50, 56, 54), ('male', 'group B', \"associate's degree\", 'standard', 'none', 65, 54, 57), ('female', 'group A', \"associate's degree\", 'standard', 'completed', 55, 65, 62), ('female', 'group C', 'high school', 'standard', 'none', 66, 71, 76), ('female', 'group D', \"associate's degree\", 'free/reduced', 'completed', 57, 74, 76), ('male', 'group C', 'high school', 'standard', 'completed', 82, 84, 82), ('male', 'group E', 'some college', 'standard', 'none', 53, 55, 48), ('male', 'group E', \"associate's degree\", 'free/reduced', 'completed', 77, 69, 68), ('male', 'group C', 'some college', 'standard', 'none', 53, 44, 42), ('male', 'group D', 'high school', 'standard', 'none', 88, 78, 75), ('female', 'group C', 'some high school', 'free/reduced', 'completed', 71, 84, 87), ('female', 'group C', 'high school', 'free/reduced', 'none', 33, 41, 43), ('female', 'group E', \"associate's degree\", 'standard', 'completed', 82, 85, 86), ('male', 'group D', \"associate's degree\", 'standard', 'none', 52, 55, 49), ('male', 'group D', 'some college', 'standard', 'completed', 58, 59, 58), ('female', 'group C', 'some high school', 'free/reduced', 'none', 0, 17, 10), ('male', 'group E', \"bachelor's degree\", 'free/reduced', 'completed', 79, 74, 72), ('male', 'group A', 'some high school', 'free/reduced', 'none', 39, 39, 34), ('male', 'group A', \"associate's degree\", 'free/reduced', 'none', 62, 61, 55), ('female', 'group C', \"associate's degree\", 'standard', 'none', 69, 80, 71), ('female', 'group D', 'some high school', 'standard', 'none', 59, 58, 59), ('male', 'group B', 'some high school', 'standard', 'none', 67, 64, 61), ('male', 'group D', 'some high school', 'free/reduced', 'none', 45, 37, 37), ('female', 'group C', 'some college', 'standard', 'none', 60, 72, 74), ('male', 'group B', \"associate's degree\", 'free/reduced', 'none', 61, 58, 56), ('female', 'group C', \"associate's degree\", 'standard', 'none', 39, 64, 57), ('female', 'group D', 'some college', 'free/reduced', 'completed', 58, 63, 73), ('male', 'group D', 'some college', 'standard', 'completed', 63, 55, 63), ('female', 'group A', \"associate's degree\", 'free/reduced', 'none', 41, 51, 48), ('male', 'group C', 'some high school', 'free/reduced', 'none', 61, 57, 56), ('male', 'group C', 'some high school', 'standard', 'none', 49, 49, 41), ('male', 'group B', \"associate's degree\", 'free/reduced', 'none', 44, 41, 38), ('male', 'group E', 'some high school', 'standard', 'none', 30, 26, 22), ('male', 'group A', \"bachelor's degree\", 'standard', 'completed', 80, 78, 81), ('female', 'group D', 'some high school', 'standard', 'completed', 61, 74, 72), ('female', 'group E', \"master's degree\", 'standard', 'none', 62, 68, 68), ('female', 'group B', \"associate's degree\", 'standard', 'none', 47, 49, 50), ('male', 'group B', 'high school', 'free/reduced', 'none', 49, 45, 45), ('male', 'group A', 'some college', 'free/reduced', 'completed', 50, 47, 54), ('male', 'group E', \"associate's degree\", 'standard', 'none', 72, 64, 63), ('male', 'group D', 'high school', 'free/reduced', 'none', 42, 39, 34), ('female', 'group C', 'some college', 'standard', 'none', 73, 80, 82), ('female', 'group C', 'some college', 'free/reduced', 'none', 76, 83, 88), ('female', 'group D', \"associate's degree\", 'standard', 'none', 71, 71, 74), ('female', 'group A', 'some college', 'standard', 'none', 58, 70, 67), ('female', 'group D', 'some high school', 'standard', 'none', 73, 86, 82), ('female', 'group C', \"bachelor's degree\", 'standard', 'none', 65, 72, 74), ('male', 'group C', 'high school', 'free/reduced', 'none', 27, 34, 36), ('male', 'group C', 'high school', 'standard', 'none', 71, 79, 71), ('male', 'group C', \"associate's degree\", 'free/reduced', 'completed', 43, 45, 50), ('female', 'group B', 'some college', 'standard', 'none', 79, 86, 92), ('male', 'group C', \"associate's degree\", 'free/reduced', 'completed', 78, 81, 82), ('male', 'group B', 'some high school', 'standard', 'completed', 65, 66, 62), ('female', 'group E', 'some college', 'standard', 'completed', 63, 72, 70), ('female', 'group D', 'some college', 'free/reduced', 'none', 58, 67, 62), ('female', 'group D', \"bachelor's degree\", 'standard', 'none', 65, 67, 62), ('male', 'group B', 'some college', 'standard', 'none', 79, 67, 67), ('male', 'group D', \"bachelor's degree\", 'standard', 'completed', 68, 74, 74), ('female', 'group D', \"associate's degree\", 'standard', 'none', 85, 91, 89), ('male', 'group B', 'high school', 'standard', 'completed', 60, 44, 47), ('male', 'group C', 'some college', 'standard', 'completed', 98, 86, 90), ('female', 'group C', 'some college', 'standard', 'none', 58, 67, 72), ('female', 'group D', \"master's degree\", 'standard', 'none', 87, 100, 100), ('male', 'group E', \"associate's degree\", 'standard', 'completed', 66, 63, 64), ('female', 'group B', \"associate's degree\", 'free/reduced', 'none', 52, 76, 70), ('female', 'group B', 'some high school', 'standard', 'none', 70, 64, 72), ('female', 'group D', \"associate's degree\", 'free/reduced', 'completed', 77, 89, 98), ('male', 'group C', 'high school', 'standard', 'none', 62, 55, 49), ('male', 'group A', \"associate's degree\", 'standard', 'none', 54, 53, 47), ('female', 'group D', 'some college', 'standard', 'none', 51, 58, 54), ('female', 'group E', \"bachelor's degree\", 'standard', 'completed', 99, 100, 100), ('male', 'group C', 'high school', 'standard', 'none', 84, 77, 74), ('female', 'group B', \"bachelor's degree\", 'free/reduced', 'none', 75, 85, 82), ('female', 'group D', \"bachelor's degree\", 'standard', 'none', 78, 82, 79), ('female', 'group D', 'some high school', 'standard', 'none', 51, 63, 61), ('female', 'group C', 'some college', 'standard', 'none', 55, 69, 65), ('female', 'group C', \"bachelor's degree\", 'standard', 'completed', 79, 92, 89), ('male', 'group B', \"associate's degree\", 'standard', 'completed', 91, 89, 92), ('female', 'group C', 'some college', 'standard', 'completed', 88, 93, 93), ('male', 'group D', 'high school', 'free/reduced', 'none', 63, 57, 56), ('male', 'group E', 'some college', 'standard', 'none', 83, 80, 73), ('female', 'group B', 'high school', 'standard', 'none', 87, 95, 86), ('male', 'group B', 'some high school', 'standard', 'none', 72, 68, 67), ('male', 'group D', 'some college', 'standard', 'completed', 65, 77, 74), ('male', 'group D', \"master's degree\", 'standard', 'none', 82, 82, 74), ('female', 'group A', \"bachelor's degree\", 'standard', 'none', 51, 49, 51), ('male', 'group D', \"master's degree\", 'standard', 'none', 89, 84, 82), ('male', 'group C', 'some high school', 'free/reduced', 'completed', 53, 37, 40), ('male', 'group E', 'some college', 'free/reduced', 'completed', 87, 74, 70), ('female', 'group C', 'some college', 'standard', 'completed', 75, 81, 84), ('male', 'group D', \"bachelor's degree\", 'free/reduced', 'completed', 74, 79, 75), ('male', 'group C', \"bachelor's degree\", 'standard', 'none', 58, 55, 48), ('male', 'group B', 'some high school', 'standard', 'completed', 51, 54, 41), ('male', 'group E', 'high school', 'standard', 'none', 70, 55, 56), ('female', 'group C', \"associate's degree\", 'standard', 'none', 59, 66, 67), ('male', 'group D', 'some college', 'standard', 'completed', 71, 61, 69), ('female', 'group D', 'some high school', 'standard', 'none', 76, 72, 71), ('female', 'group C', 'some college', 'free/reduced', 'none', 59, 62, 64), ('female', 'group E', 'some college', 'free/reduced', 'completed', 42, 55, 54), ('male', 'group A', 'high school', 'standard', 'none', 57, 43, 47), ('male', 'group D', 'some college', 'standard', 'none', 88, 73, 78), ('female', 'group C', 'some college', 'free/reduced', 'none', 22, 39, 33), ('male', 'group B', 'some high school', 'standard', 'none', 88, 84, 75), ('male', 'group C', \"associate's degree\", 'free/reduced', 'none', 73, 68, 66), ('female', 'group D', \"bachelor's degree\", 'standard', 'completed', 68, 75, 81), ('male', 'group E', \"associate's degree\", 'free/reduced', 'completed', 100, 100, 93), ('male', 'group A', 'some high school', 'standard', 'completed', 62, 67, 69), ('male', 'group A', \"bachelor's degree\", 'standard', 'none', 77, 67, 68), ('female', 'group B', \"associate's degree\", 'standard', 'completed', 59, 70, 66), ('male', 'group D', \"bachelor's degree\", 'standard', 'none', 54, 49, 47), ('male', 'group D', 'some high school', 'standard', 'none', 62, 67, 61), ('female', 'group C', 'some college', 'standard', 'completed', 70, 89, 88), ('female', 'group E', 'high school', 'free/reduced', 'completed', 66, 74, 78), ('male', 'group B', 'some college', 'free/reduced', 'none', 60, 60, 60), ('female', 'group B', \"associate's degree\", 'standard', 'completed', 61, 86, 87), ('male', 'group D', \"associate's degree\", 'free/reduced', 'none', 66, 62, 64), ('male', 'group B', \"associate's degree\", 'free/reduced', 'completed', 82, 78, 74), ('female', 'group E', 'some college', 'free/reduced', 'completed', 75, 88, 85), ('male', 'group B', \"master's degree\", 'free/reduced', 'none', 49, 53, 52), ('male', 'group C', 'high school', 'standard', 'none', 52, 53, 49), ('female', 'group E', \"master's degree\", 'standard', 'none', 81, 92, 91), ('female', 'group C', \"bachelor's degree\", 'standard', 'completed', 96, 100, 100), ('male', 'group C', 'high school', 'free/reduced', 'completed', 53, 51, 51), ('female', 'group B', \"master's degree\", 'free/reduced', 'completed', 58, 76, 78), ('female', 'group B', 'high school', 'standard', 'completed', 68, 83, 78), ('female', 'group C', 'some college', 'free/reduced', 'completed', 67, 75, 70), ('male', 'group A', 'high school', 'standard', 'completed', 72, 73, 74), ('male', 'group E', 'some high school', 'standard', 'none', 94, 88, 78), ('female', 'group D', 'some college', 'standard', 'none', 79, 86, 81), ('female', 'group C', \"associate's degree\", 'standard', 'none', 63, 67, 70), ('female', 'group C', \"bachelor's degree\", 'free/reduced', 'completed', 43, 51, 54), ('female', 'group C', \"master's degree\", 'standard', 'completed', 81, 91, 87), ('female', 'group B', 'high school', 'free/reduced', 'completed', 46, 54, 58), ('female', 'group C', \"associate's degree\", 'standard', 'completed', 71, 77, 77), ('female', 'group B', \"master's degree\", 'free/reduced', 'completed', 52, 70, 62), ('female', 'group D', 'some high school', 'standard', 'completed', 97, 100, 100), ('male', 'group C', \"master's degree\", 'free/reduced', 'completed', 62, 68, 75), ('female', 'group C', 'some college', 'free/reduced', 'none', 46, 64, 66), ('female', 'group E', 'high school', 'standard', 'none', 50, 50, 47), ('female', 'group D', \"associate's degree\", 'standard', 'none', 65, 69, 70), ('male', 'group C', 'some high school', 'free/reduced', 'completed', 45, 52, 49), ('male', 'group C', \"associate's degree\", 'free/reduced', 'completed', 65, 67, 65), ('male', 'group E', 'high school', 'standard', 'none', 80, 76, 65), ('male', 'group D', 'some high school', 'standard', 'completed', 62, 66, 68), ('male', 'group B', 'some high school', 'free/reduced', 'none', 48, 52, 45), ('female', 'group C', \"bachelor's degree\", 'standard', 'none', 77, 88, 87), ('female', 'group E', \"associate's degree\", 'standard', 'none', 66, 65, 69), ('male', 'group D', 'some college', 'standard', 'completed', 76, 83, 79), ('female', 'group B', 'some high school', 'standard', 'none', 62, 64, 66), ('male', 'group D', 'some college', 'standard', 'completed', 77, 62, 62), ('female', 'group C', \"master's degree\", 'standard', 'completed', 69, 84, 85), ('male', 'group D', \"associate's degree\", 'standard', 'none', 61, 55, 52), ('male', 'group C', 'some high school', 'free/reduced', 'completed', 59, 69, 65), ('male', 'group E', 'high school', 'free/reduced', 'none', 55, 56, 51), ('female', 'group B', 'some college', 'free/reduced', 'none', 45, 53, 55), ('female', 'group B', \"bachelor's degree\", 'free/reduced', 'none', 78, 79, 76), ('female', 'group C', \"associate's degree\", 'standard', 'completed', 67, 84, 86), ('female', 'group D', 'some college', 'free/reduced', 'none', 65, 81, 77), ('male', 'group C', \"associate's degree\", 'standard', 'none', 69, 77, 69), ('female', 'group B', \"associate's degree\", 'standard', 'none', 57, 69, 68), ('male', 'group C', 'some college', 'standard', 'none', 59, 41, 42), ('male', 'group D', 'some high school', 'standard', 'completed', 74, 71, 78), ('male', 'group E', \"bachelor's degree\", 'standard', 'none', 82, 62, 62), ('male', 'group E', 'high school', 'standard', 'completed', 81, 80, 76), ('female', 'group B', 'some college', 'free/reduced', 'none', 74, 81, 76), ('female', 'group B', 'some college', 'free/reduced', 'none', 58, 61, 66), ('male', 'group D', 'some high school', 'free/reduced', 'completed', 80, 79, 79), ('male', 'group C', 'some college', 'free/reduced', 'none', 35, 28, 27), ('female', 'group C', 'high school', 'free/reduced', 'none', 42, 62, 60), ('male', 'group C', \"associate's degree\", 'free/reduced', 'completed', 60, 51, 56), ('male', 'group E', 'high school', 'standard', 'completed', 87, 91, 81), ('male', 'group B', 'some high school', 'standard', 'completed', 84, 83, 75), ('female', 'group E', \"associate's degree\", 'free/reduced', 'completed', 83, 86, 88), ('female', 'group C', 'high school', 'free/reduced', 'none', 34, 42, 39), ('male', 'group B', 'high school', 'free/reduced', 'none', 66, 77, 70), ('male', 'group B', 'some high school', 'standard', 'completed', 61, 56, 56), ('female', 'group D', 'high school', 'standard', 'completed', 56, 68, 74), ('male', 'group B', \"associate's degree\", 'standard', 'none', 87, 85, 73), ('female', 'group C', 'some high school', 'free/reduced', 'none', 55, 65, 62), ('male', 'group D', 'some high school', 'standard', 'none', 86, 80, 75), ('female', 'group B', \"associate's degree\", 'standard', 'completed', 52, 66, 73), ('female', 'group E', \"master's degree\", 'free/reduced', 'none', 45, 56, 54), ('female', 'group C', 'some college', 'standard', 'none', 72, 72, 71), ('male', 'group D', 'high school', 'standard', 'none', 57, 50, 54), ('male', 'group A', 'some high school', 'free/reduced', 'none', 68, 72, 64), ('female', 'group C', 'some college', 'standard', 'completed', 88, 95, 94), ('male', 'group D', 'some college', 'standard', 'none', 76, 64, 66), ('male', 'group C', \"associate's degree\", 'standard', 'none', 46, 43, 42), ('female', 'group B', \"bachelor's degree\", 'standard', 'none', 67, 86, 83), ('male', 'group E', 'some high school', 'standard', 'none', 92, 87, 78), ('male', 'group C', \"bachelor's degree\", 'standard', 'completed', 83, 82, 84), ('male', 'group D', \"associate's degree\", 'standard', 'none', 80, 75, 77), ('male', 'group D', \"bachelor's degree\", 'free/reduced', 'none', 63, 66, 67), ('female', 'group D', 'some high school', 'standard', 'completed', 64, 60, 74), ('male', 'group B', 'some college', 'standard', 'none', 54, 52, 51), ('male', 'group C', \"associate's degree\", 'standard', 'none', 84, 80, 80), ('male', 'group D', 'high school', 'free/reduced', 'completed', 73, 68, 66), ('female', 'group E', \"bachelor's degree\", 'standard', 'none', 80, 83, 83), ('female', 'group D', 'high school', 'standard', 'none', 56, 52, 55), ('male', 'group E', 'some college', 'standard', 'none', 59, 51, 43), ('male', 'group D', 'some high school', 'standard', 'none', 75, 74, 69), ('male', 'group C', \"associate's degree\", 'standard', 'none', 85, 76, 71), ('male', 'group E', \"associate's degree\", 'standard', 'none', 89, 76, 74), ('female', 'group B', 'high school', 'standard', 'completed', 58, 70, 68), ('female', 'group B', 'high school', 'standard', 'none', 65, 64, 62), ('male', 'group C', 'high school', 'standard', 'none', 68, 60, 53), ('male', 'group A', 'some high school', 'standard', 'completed', 47, 49, 49), ('female', 'group D', 'some college', 'free/reduced', 'none', 71, 83, 83), ('female', 'group B', 'some high school', 'standard', 'completed', 60, 70, 70), ('male', 'group D', \"master's degree\", 'standard', 'none', 80, 80, 72), ('male', 'group D', 'high school', 'standard', 'none', 54, 52, 52), ('female', 'group E', 'some college', 'standard', 'none', 62, 73, 70), ('female', 'group C', \"associate's degree\", 'free/reduced', 'none', 64, 73, 68), ('male', 'group C', \"associate's degree\", 'standard', 'completed', 78, 77, 77), ('female', 'group B', 'some college', 'standard', 'none', 70, 75, 78), ('female', 'group C', \"master's degree\", 'free/reduced', 'completed', 65, 81, 81), ('female', 'group C', 'some high school', 'free/reduced', 'completed', 64, 79, 77), ('male', 'group C', 'some college', 'standard', 'completed', 79, 79, 78), ('female', 'group C', 'some high school', 'free/reduced', 'none', 44, 50, 51), ('female', 'group E', 'high school', 'standard', 'none', 99, 93, 90), ('male', 'group D', 'high school', 'standard', 'none', 76, 73, 68), ('male', 'group D', 'some high school', 'free/reduced', 'none', 59, 42, 41), ('female', 'group C', \"bachelor's degree\", 'standard', 'none', 63, 75, 81), ('female', 'group D', 'high school', 'standard', 'none', 69, 72, 77), ('female', 'group D', \"associate's degree\", 'standard', 'completed', 88, 92, 95), ('female', 'group E', 'some college', 'free/reduced', 'none', 71, 76, 70), ('male', 'group C', \"bachelor's degree\", 'standard', 'none', 69, 63, 61), ('male', 'group C', 'some college', 'standard', 'none', 58, 49, 42), ('female', 'group D', \"associate's degree\", 'free/reduced', 'none', 47, 53, 58), ('female', 'group D', 'some college', 'standard', 'none', 65, 70, 71), ('male', 'group B', 'some college', 'standard', 'completed', 88, 85, 76), ('male', 'group C', \"bachelor's degree\", 'standard', 'none', 83, 78, 73), ('female', 'group C', 'some high school', 'standard', 'completed', 85, 92, 93), ('female', 'group E', 'high school', 'standard', 'completed', 59, 63, 75), ('female', 'group C', 'some high school', 'free/reduced', 'none', 65, 86, 80), ('male', 'group B', \"bachelor's degree\", 'free/reduced', 'none', 73, 56, 57), ('male', 'group D', 'high school', 'standard', 'none', 53, 52, 42), ('male', 'group D', 'high school', 'standard', 'none', 45, 48, 46), ('female', 'group D', \"bachelor's degree\", 'free/reduced', 'none', 73, 79, 84), ('female', 'group D', 'some college', 'free/reduced', 'completed', 70, 78, 78), ('female', 'group B', 'some high school', 'standard', 'none', 37, 46, 46), ('male', 'group B', \"associate's degree\", 'standard', 'completed', 81, 82, 82), ('male', 'group E', \"associate's degree\", 'standard', 'completed', 97, 82, 88), ('female', 'group B', 'some high school', 'standard', 'none', 67, 89, 82), ('male', 'group B', \"bachelor's degree\", 'free/reduced', 'none', 88, 75, 76), ('male', 'group E', 'some high school', 'standard', 'completed', 77, 76, 77), ('male', 'group C', \"associate's degree\", 'standard', 'none', 76, 70, 68), ('male', 'group D', 'some high school', 'standard', 'none', 86, 73, 70), ('male', 'group C', 'some high school', 'standard', 'completed', 63, 60, 57), ('female', 'group E', \"bachelor's degree\", 'standard', 'none', 65, 73, 75), ('male', 'group D', 'high school', 'free/reduced', 'completed', 78, 77, 80), ('male', 'group B', \"associate's degree\", 'free/reduced', 'none', 67, 62, 60), ('male', 'group A', 'some high school', 'standard', 'completed', 46, 41, 43), ('male', 'group E', \"associate's degree\", 'standard', 'completed', 71, 74, 68), ('male', 'group C', 'high school', 'free/reduced', 'completed', 40, 46, 50), ('male', 'group D', \"associate's degree\", 'free/reduced', 'none', 90, 87, 75), ('male', 'group A', 'some college', 'free/reduced', 'completed', 81, 78, 81), ('male', 'group D', 'some high school', 'free/reduced', 'none', 56, 54, 52), ('female', 'group C', \"associate's degree\", 'standard', 'completed', 67, 84, 81), ('male', 'group B', \"associate's degree\", 'standard', 'none', 80, 76, 64), ('female', 'group C', \"associate's degree\", 'standard', 'completed', 74, 75, 83), ('male', 'group A', 'some college', 'standard', 'none', 69, 67, 69), ('male', 'group E', 'some college', 'standard', 'completed', 99, 87, 81), ('male', 'group C', 'some high school', 'standard', 'none', 51, 52, 44), ('female', 'group B', \"associate's degree\", 'free/reduced', 'none', 53, 71, 67), ('female', 'group D', 'high school', 'free/reduced', 'none', 49, 57, 52), ('female', 'group B', \"associate's degree\", 'standard', 'none', 73, 76, 80), ('male', 'group B', \"bachelor's degree\", 'standard', 'none', 66, 60, 57), ('male', 'group D', \"bachelor's degree\", 'standard', 'completed', 67, 61, 68), ('female', 'group C', \"associate's degree\", 'free/reduced', 'completed', 68, 67, 69), ('female', 'group C', \"bachelor's degree\", 'standard', 'completed', 59, 64, 75), ('male', 'group C', 'high school', 'standard', 'none', 71, 66, 65), ('female', 'group D', \"master's degree\", 'standard', 'completed', 77, 82, 91), ('male', 'group C', \"associate's degree\", 'standard', 'none', 83, 72, 78), ('male', 'group B', \"bachelor's degree\", 'standard', 'none', 63, 71, 69), ('female', 'group D', \"associate's degree\", 'free/reduced', 'none', 56, 65, 63), ('female', 'group C', 'high school', 'free/reduced', 'completed', 67, 79, 84), ('female', 'group E', 'high school', 'standard', 'none', 75, 86, 79), ('female', 'group C', 'some college', 'standard', 'none', 71, 81, 80), ('female', 'group C', 'some high school', 'free/reduced', 'none', 43, 53, 53), ('female', 'group C', 'high school', 'free/reduced', 'none', 41, 46, 43), ('female', 'group C', 'some college', 'standard', 'none', 82, 90, 94), ('male', 'group C', 'some college', 'standard', 'none', 61, 61, 62), ('male', 'group A', 'some college', 'free/reduced', 'none', 28, 23, 19), ('male', 'group C', \"associate's degree\", 'standard', 'completed', 82, 75, 77), ('female', 'group B', 'some high school', 'standard', 'none', 41, 55, 51), ('male', 'group C', 'high school', 'standard', 'none', 71, 60, 61), ('male', 'group C', \"associate's degree\", 'standard', 'none', 47, 37, 35), ('male', 'group E', \"associate's degree\", 'standard', 'completed', 62, 56, 53), ('male', 'group B', \"associate's degree\", 'standard', 'none', 90, 78, 81), ('female', 'group C', \"bachelor's degree\", 'standard', 'none', 83, 93, 95), ('female', 'group B', 'some college', 'free/reduced', 'none', 61, 68, 66), ('male', 'group D', 'some high school', 'standard', 'completed', 76, 70, 69), ('male', 'group C', \"associate's degree\", 'standard', 'none', 49, 51, 43), ('female', 'group B', 'some high school', 'free/reduced', 'none', 24, 38, 27), ('female', 'group D', 'some high school', 'free/reduced', 'completed', 35, 55, 60), ('male', 'group C', 'high school', 'free/reduced', 'none', 58, 61, 52), ('female', 'group C', 'high school', 'standard', 'none', 61, 73, 63), ('female', 'group B', 'high school', 'standard', 'completed', 69, 76, 74), ('male', 'group D', \"associate's degree\", 'standard', 'completed', 67, 72, 67), ('male', 'group D', 'some college', 'standard', 'none', 79, 73, 67), ('female', 'group C', 'high school', 'standard', 'none', 72, 80, 75), ('male', 'group B', 'some college', 'standard', 'none', 62, 61, 57), ('female', 'group C', \"bachelor's degree\", 'standard', 'completed', 77, 94, 95), ('male', 'group D', 'high school', 'free/reduced', 'none', 75, 74, 66), ('male', 'group E', \"associate's degree\", 'standard', 'none', 87, 74, 76), ('female', 'group B', \"bachelor's degree\", 'standard', 'none', 52, 65, 69), ('male', 'group E', 'some college', 'standard', 'none', 66, 57, 52), ('female', 'group C', 'some college', 'standard', 'completed', 63, 78, 80), ('female', 'group C', \"associate's degree\", 'standard', 'none', 46, 58, 57), ('female', 'group C', 'some college', 'standard', 'none', 59, 71, 70), ('female', 'group B', \"bachelor's degree\", 'standard', 'none', 61, 72, 70), ('male', 'group A', \"associate's degree\", 'standard', 'none', 63, 61, 61), ('female', 'group C', 'some college', 'free/reduced', 'completed', 42, 66, 69), ('male', 'group D', 'some college', 'free/reduced', 'none', 59, 62, 61), ('female', 'group D', 'some college', 'standard', 'none', 80, 90, 89), ('female', 'group B', 'high school', 'standard', 'none', 58, 62, 59), ('male', 'group B', 'some high school', 'standard', 'completed', 85, 84, 78), ('female', 'group C', 'some college', 'standard', 'none', 52, 58, 58), ('female', 'group D', 'some high school', 'free/reduced', 'none', 27, 34, 32), ('male', 'group C', 'some college', 'standard', 'none', 59, 60, 58), ('male', 'group A', \"bachelor's degree\", 'free/reduced', 'completed', 49, 58, 60), ('male', 'group C', 'high school', 'standard', 'completed', 69, 58, 53), ('male', 'group C', \"bachelor's degree\", 'free/reduced', 'none', 61, 66, 61), ('female', 'group A', 'some high school', 'free/reduced', 'none', 44, 64, 58), ('female', 'group D', 'some high school', 'standard', 'none', 73, 84, 85), ('male', 'group E', 'some college', 'standard', 'none', 84, 77, 71), ('female', 'group C', 'some college', 'free/reduced', 'completed', 45, 73, 70), ('male', 'group D', 'some high school', 'standard', 'none', 74, 74, 72), ('female', 'group D', 'some college', 'standard', 'completed', 82, 97, 96), ('female', 'group D', \"bachelor's degree\", 'standard', 'none', 59, 70, 73), ('male', 'group E', \"associate's degree\", 'free/reduced', 'none', 46, 43, 41), ('female', 'group D', 'some high school', 'standard', 'none', 80, 90, 82), ('female', 'group D', \"master's degree\", 'free/reduced', 'completed', 85, 95, 100), ('female', 'group A', 'some high school', 'standard', 'none', 71, 83, 77), ('male', 'group A', \"bachelor's degree\", 'standard', 'none', 66, 64, 62), ('female', 'group B', \"associate's degree\", 'standard', 'none', 80, 86, 83), ('male', 'group C', \"associate's degree\", 'standard', 'completed', 87, 100, 95), ('male', 'group C', \"master's degree\", 'free/reduced', 'none', 79, 81, 71), ('female', 'group E', 'some high school', 'free/reduced', 'none', 38, 49, 45), ('female', 'group A', 'some high school', 'free/reduced', 'none', 38, 43, 43), ('female', 'group E', 'some college', 'standard', 'none', 67, 76, 75), ('female', 'group E', \"bachelor's degree\", 'standard', 'none', 64, 73, 70), ('female', 'group C', \"associate's degree\", 'free/reduced', 'none', 57, 78, 67), ('female', 'group D', 'high school', 'standard', 'none', 62, 64, 64), ('male', 'group D', \"master's degree\", 'standard', 'none', 73, 70, 75), ('male', 'group E', 'some high school', 'free/reduced', 'completed', 73, 67, 59), ('female', 'group D', 'some college', 'standard', 'none', 77, 68, 77), ('male', 'group E', 'some college', 'standard', 'none', 76, 67, 67), ('male', 'group C', \"associate's degree\", 'standard', 'completed', 57, 54, 56), ('female', 'group C', 'some high school', 'standard', 'completed', 65, 74, 77), ('male', 'group A', 'high school', 'free/reduced', 'none', 48, 45, 41), ('female', 'group B', 'high school', 'free/reduced', 'none', 50, 67, 63), ('female', 'group C', \"associate's degree\", 'standard', 'none', 85, 89, 95), ('male', 'group B', 'some high school', 'standard', 'none', 74, 63, 57), ('male', 'group D', 'some high school', 'standard', 'none', 60, 59, 54), ('female', 'group C', 'some high school', 'standard', 'completed', 59, 54, 67), ('male', 'group A', 'some college', 'standard', 'none', 53, 43, 43), ('female', 'group A', 'some college', 'free/reduced', 'none', 49, 65, 55), ('female', 'group D', 'high school', 'standard', 'completed', 88, 99, 100), ('female', 'group C', 'high school', 'standard', 'none', 54, 59, 62), ('female', 'group C', 'some high school', 'standard', 'none', 63, 73, 68), ('male', 'group B', \"associate's degree\", 'standard', 'completed', 65, 65, 63), ('female', 'group B', \"associate's degree\", 'standard', 'none', 82, 80, 77), ('female', 'group D', 'high school', 'free/reduced', 'completed', 52, 57, 56), ('male', 'group D', \"associate's degree\", 'standard', 'completed', 87, 84, 85), ('female', 'group D', \"master's degree\", 'standard', 'completed', 70, 71, 74), ('male', 'group E', 'some college', 'standard', 'completed', 84, 83, 78), ('male', 'group D', \"associate's degree\", 'standard', 'none', 71, 66, 60), ('male', 'group B', 'some high school', 'standard', 'completed', 63, 67, 67), ('female', 'group C', \"bachelor's degree\", 'free/reduced', 'completed', 51, 72, 79), ('male', 'group E', 'high school', 'standard', 'none', 84, 73, 69), ('male', 'group C', \"bachelor's degree\", 'standard', 'completed', 71, 74, 68), ('male', 'group C', \"associate's degree\", 'standard', 'none', 74, 73, 67), ('male', 'group D', 'some college', 'standard', 'none', 68, 59, 62), ('male', 'group E', 'high school', 'free/reduced', 'completed', 57, 56, 54), ('female', 'group C', \"associate's degree\", 'free/reduced', 'completed', 82, 93, 93), ('female', 'group D', 'high school', 'standard', 'completed', 57, 58, 64), ('female', 'group D', \"master's degree\", 'free/reduced', 'completed', 47, 58, 67), ('female', 'group A', 'some high school', 'standard', 'completed', 59, 85, 80), ('male', 'group B', 'some college', 'free/reduced', 'none', 41, 39, 34), ('female', 'group C', 'some college', 'free/reduced', 'none', 62, 67, 62), ('male', 'group C', \"bachelor's degree\", 'standard', 'none', 86, 83, 86), ('male', 'group C', 'some high school', 'free/reduced', 'none', 69, 71, 65), ('male', 'group A', 'some high school', 'free/reduced', 'none', 65, 59, 53), ('male', 'group C', 'some high school', 'free/reduced', 'none', 68, 63, 54), ('male', 'group C', \"associate's degree\", 'free/reduced', 'none', 64, 66, 59), ('female', 'group C', 'high school', 'standard', 'none', 61, 72, 70), ('male', 'group C', 'high school', 'standard', 'none', 61, 56, 55), ('female', 'group A', 'some high school', 'free/reduced', 'none', 47, 59, 50), ('male', 'group C', 'some high school', 'standard', 'none', 73, 66, 66), ('male', 'group C', 'some college', 'free/reduced', 'completed', 50, 48, 53), ('male', 'group D', \"associate's degree\", 'standard', 'none', 75, 68, 64), ('male', 'group D', \"associate's degree\", 'free/reduced', 'none', 75, 66, 73), ('male', 'group C', 'high school', 'standard', 'none', 70, 56, 51), ('male', 'group D', 'some high school', 'standard', 'completed', 89, 88, 82), ('female', 'group C', 'some college', 'standard', 'completed', 67, 81, 79), ('female', 'group D', 'high school', 'standard', 'none', 78, 81, 80), ('female', 'group A', 'some high school', 'free/reduced', 'none', 59, 73, 69), ('female', 'group B', \"associate's degree\", 'standard', 'none', 73, 83, 76), ('male', 'group A', 'some high school', 'free/reduced', 'none', 79, 82, 73), ('female', 'group C', 'some high school', 'standard', 'completed', 67, 74, 77), ('male', 'group D', 'some college', 'free/reduced', 'none', 69, 66, 60), ('male', 'group C', 'high school', 'standard', 'completed', 86, 81, 80), ('male', 'group B', 'high school', 'standard', 'none', 47, 46, 42), ('male', 'group B', \"associate's degree\", 'standard', 'none', 81, 73, 72), ('female', 'group C', 'some college', 'free/reduced', 'completed', 64, 85, 85), ('female', 'group E', 'some college', 'standard', 'none', 100, 92, 97), ('female', 'group C', \"associate's degree\", 'free/reduced', 'none', 65, 77, 74), ('male', 'group C', 'some college', 'free/reduced', 'none', 65, 58, 49), ('female', 'group C', \"associate's degree\", 'free/reduced', 'none', 53, 61, 62), ('male', 'group C', \"bachelor's degree\", 'free/reduced', 'none', 37, 56, 47), ('female', 'group D', \"bachelor's degree\", 'standard', 'none', 79, 89, 89), ('male', 'group D', \"associate's degree\", 'free/reduced', 'none', 53, 54, 48), ('female', 'group E', \"bachelor's degree\", 'standard', 'none', 100, 100, 100), ('male', 'group B', 'high school', 'standard', 'completed', 72, 65, 68), ('male', 'group C', \"bachelor's degree\", 'free/reduced', 'none', 53, 58, 55), ('male', 'group B', 'some college', 'free/reduced', 'none', 54, 54, 45), ('female', 'group E', 'some college', 'standard', 'none', 71, 70, 76), ('female', 'group C', 'some college', 'free/reduced', 'none', 77, 90, 91), ('male', 'group A', \"bachelor's degree\", 'standard', 'completed', 75, 58, 62), ('female', 'group C', 'some college', 'standard', 'none', 84, 87, 91), ('female', 'group D', \"associate's degree\", 'free/reduced', 'none', 26, 31, 38), ('male', 'group A', 'high school', 'free/reduced', 'completed', 72, 67, 65), ('female', 'group A', 'high school', 'free/reduced', 'completed', 77, 88, 85), ('male', 'group C', 'some college', 'standard', 'none', 91, 74, 76), ('female', 'group C', \"associate's degree\", 'standard', 'completed', 83, 85, 90), ('female', 'group C', 'high school', 'standard', 'none', 63, 69, 74), ('female', 'group C', \"associate's degree\", 'standard', 'completed', 68, 86, 84), ('female', 'group D', 'some high school', 'standard', 'none', 59, 67, 61), ('female', 'group B', \"associate's degree\", 'standard', 'completed', 90, 90, 91), ('female', 'group D', \"bachelor's degree\", 'standard', 'completed', 71, 76, 83), ('male', 'group E', \"bachelor's degree\", 'standard', 'completed', 76, 62, 66), ('male', 'group D', \"associate's degree\", 'standard', 'none', 80, 68, 72), ('female', 'group D', \"master's degree\", 'standard', 'none', 55, 64, 70), ('male', 'group E', \"associate's degree\", 'standard', 'none', 76, 71, 67), ('male', 'group B', 'high school', 'standard', 'completed', 73, 71, 68), ('female', 'group D', \"associate's degree\", 'free/reduced', 'none', 52, 59, 56), ('male', 'group C', 'some college', 'free/reduced', 'none', 68, 68, 61), ('male', 'group A', 'high school', 'standard', 'none', 59, 52, 46), ('female', 'group B', \"associate's degree\", 'standard', 'none', 49, 52, 54), ('male', 'group C', 'high school', 'standard', 'none', 70, 74, 71), ('male', 'group D', 'some college', 'free/reduced', 'none', 61, 47, 56), ('female', 'group C', \"associate's degree\", 'free/reduced', 'none', 60, 75, 74), ('male', 'group B', 'some high school', 'standard', 'completed', 64, 53, 57), ('male', 'group A', \"associate's degree\", 'free/reduced', 'completed', 79, 82, 82), ('female', 'group A', \"associate's degree\", 'free/reduced', 'none', 65, 85, 76), ('female', 'group C', \"associate's degree\", 'standard', 'none', 64, 64, 70), ('female', 'group C', 'some college', 'standard', 'none', 83, 83, 90), ('female', 'group C', \"bachelor's degree\", 'standard', 'none', 81, 88, 90), ('female', 'group B', 'high school', 'standard', 'none', 54, 64, 68), ('male', 'group D', 'high school', 'standard', 'completed', 68, 64, 66), ('female', 'group C', 'some college', 'standard', 'none', 54, 48, 52), ('female', 'group D', 'some college', 'free/reduced', 'completed', 59, 78, 76), ('female', 'group B', 'some high school', 'standard', 'none', 66, 69, 68), ('male', 'group E', 'some college', 'standard', 'none', 76, 71, 72), ('female', 'group D', \"master's degree\", 'standard', 'none', 74, 79, 82), ('female', 'group B', \"associate's degree\", 'standard', 'completed', 94, 87, 92), ('male', 'group C', 'some college', 'free/reduced', 'none', 63, 61, 54), ('female', 'group E', \"associate's degree\", 'standard', 'completed', 95, 89, 92), ('female', 'group D', \"master's degree\", 'free/reduced', 'none', 40, 59, 54), ('female', 'group B', 'some high school', 'standard', 'none', 82, 82, 80), ('male', 'group A', 'high school', 'standard', 'none', 68, 70, 66), ('male', 'group B', \"bachelor's degree\", 'free/reduced', 'none', 55, 59, 54), ('male', 'group C', \"master's degree\", 'standard', 'none', 79, 78, 77), ('female', 'group C', \"bachelor's degree\", 'standard', 'none', 86, 92, 87), ('male', 'group D', 'some college', 'standard', 'none', 76, 71, 73), ('male', 'group A', 'some high school', 'standard', 'none', 64, 50, 43), ('male', 'group D', 'some high school', 'free/reduced', 'none', 62, 49, 52), ('female', 'group B', 'some high school', 'standard', 'completed', 54, 61, 62), ('female', 'group B', \"master's degree\", 'free/reduced', 'completed', 77, 97, 94), ('female', 'group C', 'some high school', 'standard', 'completed', 76, 87, 85), ('female', 'group D', 'some college', 'standard', 'none', 74, 89, 84), ('female', 'group E', 'some college', 'standard', 'completed', 66, 74, 73), ('female', 'group D', 'some high school', 'standard', 'completed', 66, 78, 78), ('female', 'group B', 'high school', 'free/reduced', 'completed', 67, 78, 79), ('male', 'group D', 'some college', 'standard', 'none', 71, 49, 52), ('female', 'group C', \"associate's degree\", 'standard', 'none', 91, 86, 84), ('male', 'group D', \"bachelor's degree\", 'standard', 'none', 69, 58, 57), ('male', 'group C', \"master's degree\", 'free/reduced', 'none', 54, 59, 50), ('male', 'group C', 'high school', 'standard', 'completed', 53, 52, 49), ('male', 'group E', 'some college', 'standard', 'none', 68, 60, 59), ('male', 'group C', 'some high school', 'free/reduced', 'completed', 56, 61, 60), ('female', 'group C', 'high school', 'free/reduced', 'none', 36, 53, 43), ('female', 'group D', \"bachelor's degree\", 'free/reduced', 'none', 29, 41, 47), ('female', 'group C', \"associate's degree\", 'standard', 'none', 62, 74, 70), ('female', 'group C', \"associate's degree\", 'standard', 'completed', 68, 67, 73), ('female', 'group C', 'some high school', 'standard', 'none', 47, 54, 53), ('male', 'group E', \"associate's degree\", 'standard', 'completed', 62, 61, 58), ('female', 'group E', \"associate's degree\", 'standard', 'completed', 79, 88, 94), ('male', 'group B', 'high school', 'standard', 'completed', 73, 69, 68), ('female', 'group C', \"bachelor's degree\", 'free/reduced', 'completed', 66, 83, 83), ('male', 'group C', \"associate's degree\", 'standard', 'completed', 51, 60, 58), ('female', 'group D', 'high school', 'standard', 'none', 51, 66, 62), ('male', 'group E', \"bachelor's degree\", 'standard', 'completed', 85, 66, 71), ('male', 'group A', \"associate's degree\", 'standard', 'completed', 97, 92, 86), ('male', 'group C', 'high school', 'standard', 'completed', 75, 69, 68), ('male', 'group D', \"associate's degree\", 'free/reduced', 'completed', 79, 82, 80), ('female', 'group C', \"associate's degree\", 'standard', 'none', 81, 77, 79), ('female', 'group D', \"associate's degree\", 'standard', 'none', 82, 95, 89), ('female', 'group D', \"master's degree\", 'standard', 'none', 64, 63, 66), ('male', 'group E', 'some high school', 'free/reduced', 'completed', 78, 83, 80), ('female', 'group A', 'some high school', 'standard', 'completed', 92, 100, 97), ('male', 'group C', 'high school', 'standard', 'completed', 72, 67, 64), ('female', 'group C', 'high school', 'free/reduced', 'none', 62, 67, 64), ('male', 'group C', \"master's degree\", 'standard', 'none', 79, 72, 69), ('male', 'group C', 'some high school', 'free/reduced', 'none', 79, 76, 65), ('male', 'group B', \"bachelor's degree\", 'free/reduced', 'completed', 87, 90, 88), ('female', 'group B', \"associate's degree\", 'standard', 'none', 40, 48, 50), ('male', 'group D', 'some college', 'free/reduced', 'none', 77, 62, 64), ('male', 'group E', \"associate's degree\", 'standard', 'none', 53, 45, 40), ('female', 'group C', 'some college', 'free/reduced', 'none', 32, 39, 33), ('female', 'group C', \"associate's degree\", 'standard', 'completed', 55, 72, 79), ('male', 'group C', \"master's degree\", 'free/reduced', 'none', 61, 67, 66), ('female', 'group B', \"associate's degree\", 'free/reduced', 'none', 53, 70, 70), ('male', 'group D', 'some high school', 'standard', 'none', 73, 66, 62), ('female', 'group D', 'some college', 'standard', 'completed', 74, 75, 79), ('female', 'group C', 'some college', 'standard', 'none', 63, 74, 74), ('male', 'group C', \"bachelor's degree\", 'standard', 'completed', 96, 90, 92), ('female', 'group D', 'some college', 'free/reduced', 'completed', 63, 80, 80), ('male', 'group B', \"bachelor's degree\", 'free/reduced', 'none', 48, 51, 46), ('male', 'group B', \"associate's degree\", 'standard', 'none', 48, 43, 45), ('female', 'group E', \"bachelor's degree\", 'free/reduced', 'completed', 92, 100, 100), ('female', 'group D', \"master's degree\", 'free/reduced', 'completed', 61, 71, 78), ('male', 'group B', 'high school', 'free/reduced', 'none', 63, 48, 47), ('male', 'group D', \"bachelor's degree\", 'free/reduced', 'none', 68, 68, 67), ('male', 'group B', 'some college', 'standard', 'completed', 71, 75, 70), ('male', 'group A', \"bachelor's degree\", 'standard', 'none', 91, 96, 92), ('female', 'group C', 'some college', 'standard', 'none', 53, 62, 56), ('female', 'group C', 'high school', 'free/reduced', 'completed', 50, 66, 64), ('female', 'group E', 'high school', 'standard', 'none', 74, 81, 71), ('male', 'group A', \"associate's degree\", 'free/reduced', 'completed', 40, 55, 53), ('male', 'group A', 'some college', 'standard', 'completed', 61, 51, 52), ('female', 'group B', 'high school', 'standard', 'none', 81, 91, 89), ('female', 'group B', 'some college', 'free/reduced', 'completed', 48, 56, 58), ('female', 'group D', \"master's degree\", 'standard', 'none', 53, 61, 68), ('female', 'group D', 'some high school', 'standard', 'none', 81, 97, 96), ('female', 'group E', 'some high school', 'standard', 'none', 77, 79, 80), ('female', 'group D', \"bachelor's degree\", 'free/reduced', 'none', 63, 73, 78), ('female', 'group D', \"associate's degree\", 'standard', 'completed', 73, 75, 80), ('female', 'group D', 'some college', 'standard', 'none', 69, 77, 77), ('female', 'group C', \"associate's degree\", 'standard', 'none', 65, 76, 76), ('female', 'group A', 'high school', 'standard', 'none', 55, 73, 73), ('female', 'group C', \"bachelor's degree\", 'free/reduced', 'none', 44, 63, 62), ('female', 'group C', 'some college', 'standard', 'none', 54, 64, 65), ('female', 'group A', 'some high school', 'standard', 'none', 48, 66, 65), ('male', 'group C', 'some college', 'free/reduced', 'none', 58, 57, 54), ('male', 'group A', 'some high school', 'standard', 'none', 71, 62, 50), ('male', 'group E', \"bachelor's degree\", 'standard', 'none', 68, 68, 64), ('female', 'group E', 'high school', 'standard', 'none', 74, 76, 73), ('female', 'group C', \"bachelor's degree\", 'standard', 'completed', 92, 100, 99), ('female', 'group C', \"bachelor's degree\", 'standard', 'completed', 56, 79, 72), ('male', 'group B', 'high school', 'free/reduced', 'none', 30, 24, 15), ('male', 'group A', 'some high school', 'standard', 'none', 53, 54, 48), ('female', 'group D', 'high school', 'standard', 'none', 69, 77, 73), ('female', 'group D', 'some high school', 'standard', 'none', 65, 82, 81), ('female', 'group D', \"master's degree\", 'standard', 'none', 54, 60, 63), ('female', 'group C', 'high school', 'standard', 'none', 29, 29, 30), ('female', 'group E', 'some college', 'standard', 'none', 76, 78, 80), ('male', 'group D', 'high school', 'free/reduced', 'none', 60, 57, 51), ('male', 'group D', \"master's degree\", 'free/reduced', 'completed', 84, 89, 90), ('male', 'group C', 'some high school', 'standard', 'none', 75, 72, 62), ('female', 'group C', \"associate's degree\", 'standard', 'none', 85, 84, 82), ('female', 'group C', \"master's degree\", 'free/reduced', 'none', 40, 58, 54), ('female', 'group E', 'some college', 'standard', 'none', 61, 64, 62), ('female', 'group B', \"associate's degree\", 'standard', 'none', 58, 63, 65), ('male', 'group D', 'some college', 'free/reduced', 'completed', 69, 60, 63), ('female', 'group C', 'some college', 'standard', 'none', 58, 59, 66), ('male', 'group C', \"bachelor's degree\", 'standard', 'completed', 94, 90, 91), ('female', 'group C', \"associate's degree\", 'standard', 'none', 65, 77, 74), ('female', 'group A', \"associate's degree\", 'standard', 'none', 82, 93, 93), ('female', 'group C', 'high school', 'standard', 'none', 60, 68, 72), ('female', 'group E', \"bachelor's degree\", 'standard', 'none', 37, 45, 38), ('male', 'group D', \"bachelor's degree\", 'standard', 'none', 88, 78, 83), ('male', 'group D', \"master's degree\", 'standard', 'none', 95, 81, 84), ('male', 'group C', \"associate's degree\", 'free/reduced', 'completed', 65, 73, 68), ('female', 'group C', 'high school', 'free/reduced', 'none', 35, 61, 54), ('male', 'group B', \"bachelor's degree\", 'free/reduced', 'none', 62, 63, 56), ('male', 'group C', 'high school', 'free/reduced', 'completed', 58, 51, 52), ('male', 'group A', 'some college', 'standard', 'completed', 100, 96, 86), ('female', 'group E', \"bachelor's degree\", 'free/reduced', 'none', 61, 58, 62), ('male', 'group D', 'some college', 'standard', 'completed', 100, 97, 99), ('male', 'group B', \"associate's degree\", 'free/reduced', 'completed', 69, 70, 63), ('male', 'group D', \"associate's degree\", 'standard', 'none', 61, 48, 46), ('male', 'group D', 'some college', 'free/reduced', 'none', 49, 57, 46), ('female', 'group C', 'some high school', 'standard', 'completed', 44, 51, 55), ('male', 'group D', 'some college', 'standard', 'none', 67, 64, 70), ('male', 'group B', 'high school', 'standard', 'none', 79, 60, 65), ('female', 'group B', \"bachelor's degree\", 'standard', 'completed', 66, 74, 81), ('female', 'group C', 'high school', 'standard', 'none', 75, 88, 85), ('male', 'group D', 'some high school', 'standard', 'none', 84, 84, 80), ('male', 'group A', 'high school', 'standard', 'none', 71, 74, 64), ('female', 'group B', 'high school', 'free/reduced', 'completed', 67, 80, 81), ('female', 'group D', 'some high school', 'standard', 'completed', 80, 92, 88), ('male', 'group E', 'some college', 'standard', 'none', 86, 76, 74), ('female', 'group D', \"associate's degree\", 'standard', 'none', 76, 74, 73), ('male', 'group D', 'high school', 'standard', 'none', 41, 52, 51), ('female', 'group D', \"associate's degree\", 'free/reduced', 'completed', 74, 88, 90), ('female', 'group B', 'some high school', 'free/reduced', 'none', 72, 81, 79), ('female', 'group E', 'high school', 'standard', 'completed', 74, 79, 80), ('male', 'group B', 'high school', 'standard', 'none', 70, 65, 60), ('female', 'group B', \"bachelor's degree\", 'standard', 'completed', 65, 81, 81), ('female', 'group D', \"associate's degree\", 'standard', 'none', 59, 70, 65), ('female', 'group E', 'high school', 'free/reduced', 'none', 64, 62, 68), ('female', 'group B', 'high school', 'standard', 'none', 50, 53, 55), ('female', 'group D', 'some college', 'standard', 'completed', 69, 79, 81), ('male', 'group C', 'some high school', 'free/reduced', 'completed', 51, 56, 53), ('female', 'group A', 'high school', 'standard', 'completed', 68, 80, 76), ('female', 'group D', 'some college', 'standard', 'completed', 85, 86, 98), ('female', 'group A', \"associate's degree\", 'standard', 'completed', 65, 70, 74), ('female', 'group B', 'some high school', 'standard', 'none', 73, 79, 79), ('female', 'group B', 'some college', 'standard', 'none', 62, 67, 67), ('male', 'group C', \"associate's degree\", 'free/reduced', 'none', 77, 67, 64), ('male', 'group D', 'some high school', 'standard', 'none', 69, 66, 61), ('female', 'group D', \"associate's degree\", 'free/reduced', 'none', 43, 60, 58), ('male', 'group D', \"associate's degree\", 'standard', 'none', 90, 87, 85), ('male', 'group C', 'some college', 'free/reduced', 'none', 74, 77, 73), ('male', 'group C', 'some high school', 'standard', 'none', 73, 66, 63), ('female', 'group D', 'some college', 'free/reduced', 'none', 55, 71, 69), ('female', 'group C', 'high school', 'standard', 'none', 65, 69, 67), ('male', 'group D', \"associate's degree\", 'standard', 'none', 80, 63, 63), ('female', 'group C', 'some high school', 'free/reduced', 'completed', 50, 60, 60), ('female', 'group C', 'some college', 'free/reduced', 'completed', 63, 73, 71), ('female', 'group B', \"bachelor's degree\", 'free/reduced', 'none', 77, 85, 87), ('male', 'group C', 'some college', 'standard', 'none', 73, 74, 61), ('male', 'group D', \"associate's degree\", 'standard', 'completed', 81, 72, 77), ('female', 'group C', 'high school', 'free/reduced', 'none', 66, 76, 68), ('male', 'group D', \"associate's degree\", 'free/reduced', 'none', 52, 57, 50), ('female', 'group C', 'some college', 'standard', 'none', 69, 78, 76), ('female', 'group C', \"associate's degree\", 'standard', 'completed', 65, 84, 84), ('female', 'group D', 'high school', 'standard', 'completed', 69, 77, 78), ('female', 'group B', 'some college', 'standard', 'completed', 50, 64, 66), ('female', 'group E', 'some college', 'standard', 'completed', 73, 78, 76), ('female', 'group C', 'some high school', 'standard', 'completed', 70, 82, 76), ('male', 'group D', \"associate's degree\", 'free/reduced', 'none', 81, 75, 78), ('male', 'group D', 'some college', 'free/reduced', 'none', 63, 61, 60), ('female', 'group D', 'high school', 'standard', 'none', 67, 72, 74), ('male', 'group B', 'high school', 'standard', 'none', 60, 68, 60), ('male', 'group B', 'high school', 'standard', 'none', 62, 55, 54), ('female', 'group C', 'some high school', 'free/reduced', 'completed', 29, 40, 44), ('male', 'group B', 'some college', 'standard', 'completed', 62, 66, 68), ('female', 'group E', \"master's degree\", 'standard', 'completed', 94, 99, 100), ('male', 'group E', 'some college', 'standard', 'completed', 85, 75, 68), ('male', 'group D', \"associate's degree\", 'free/reduced', 'none', 77, 78, 73), ('male', 'group A', 'high school', 'free/reduced', 'none', 53, 58, 44), ('male', 'group E', 'some college', 'free/reduced', 'none', 93, 90, 83), ('female', 'group C', \"associate's degree\", 'standard', 'none', 49, 53, 53), ('female', 'group E', \"associate's degree\", 'free/reduced', 'none', 73, 76, 78), ('female', 'group C', \"bachelor's degree\", 'free/reduced', 'completed', 66, 74, 81), ('female', 'group D', \"associate's degree\", 'standard', 'none', 77, 77, 73), ('female', 'group C', 'some high school', 'standard', 'none', 49, 63, 56), ('female', 'group D', 'some college', 'free/reduced', 'none', 79, 89, 86), ('female', 'group C', \"associate's degree\", 'standard', 'completed', 75, 82, 90), ('female', 'group A', \"bachelor's degree\", 'standard', 'none', 59, 72, 70), ('female', 'group D', \"associate's degree\", 'standard', 'completed', 57, 78, 79), ('male', 'group C', 'high school', 'free/reduced', 'none', 66, 66, 59), ('female', 'group E', \"bachelor's degree\", 'standard', 'completed', 79, 81, 82), ('female', 'group B', 'some high school', 'standard', 'none', 57, 67, 72), ('male', 'group A', \"bachelor's degree\", 'standard', 'completed', 87, 84, 87), ('female', 'group D', 'some college', 'standard', 'none', 63, 64, 67), ('female', 'group B', 'some high school', 'free/reduced', 'completed', 59, 63, 64), ('male', 'group A', \"bachelor's degree\", 'free/reduced', 'none', 62, 72, 65), ('male', 'group D', 'high school', 'standard', 'none', 46, 34, 36), ('male', 'group C', 'some college', 'standard', 'none', 66, 59, 52), ('male', 'group D', 'high school', 'standard', 'none', 89, 87, 79), ('female', 'group D', \"associate's degree\", 'free/reduced', 'completed', 42, 61, 58), ('male', 'group C', 'some college', 'standard', 'completed', 93, 84, 90), ('female', 'group E', 'some high school', 'standard', 'completed', 80, 85, 85), ('female', 'group D', 'some college', 'standard', 'none', 98, 100, 99), ('male', 'group D', \"master's degree\", 'standard', 'none', 81, 81, 84), ('female', 'group B', 'some high school', 'standard', 'completed', 60, 70, 74), ('female', 'group B', \"associate's degree\", 'free/reduced', 'completed', 76, 94, 87), ('male', 'group C', \"associate's degree\", 'standard', 'completed', 73, 78, 72), ('female', 'group C', \"associate's degree\", 'standard', 'completed', 96, 96, 99), ('female', 'group C', 'high school', 'standard', 'none', 76, 76, 74), ('male', 'group E', \"associate's degree\", 'free/reduced', 'completed', 91, 73, 80), ('female', 'group C', 'some college', 'free/reduced', 'none', 62, 72, 70), ('male', 'group D', 'some high school', 'free/reduced', 'completed', 55, 59, 59), ('female', 'group B', 'some high school', 'free/reduced', 'completed', 74, 90, 88), ('male', 'group C', 'high school', 'standard', 'none', 50, 48, 42), ('male', 'group B', 'some college', 'standard', 'none', 47, 43, 41), ('male', 'group E', 'some college', 'standard', 'completed', 81, 74, 71), ('female', 'group E', \"associate's degree\", 'standard', 'completed', 65, 75, 77), ('male', 'group E', 'some high school', 'standard', 'completed', 68, 51, 57), ('female', 'group D', 'high school', 'free/reduced', 'none', 73, 92, 84), ('male', 'group C', 'some college', 'standard', 'none', 53, 39, 37), ('female', 'group B', \"associate's degree\", 'free/reduced', 'completed', 68, 77, 80), ('male', 'group A', 'some high school', 'free/reduced', 'none', 55, 46, 43), ('female', 'group C', 'some college', 'standard', 'completed', 87, 89, 94), ('male', 'group D', 'some high school', 'standard', 'none', 55, 47, 44), ('female', 'group E', 'some college', 'free/reduced', 'none', 53, 58, 57), ('male', 'group C', \"master's degree\", 'standard', 'none', 67, 57, 59), ('male', 'group C', \"associate's degree\", 'standard', 'none', 92, 79, 84), ('female', 'group B', 'some college', 'free/reduced', 'completed', 53, 66, 73), ('male', 'group D', \"associate's degree\", 'standard', 'none', 81, 71, 73), ('male', 'group C', 'high school', 'free/reduced', 'none', 61, 60, 55), ('male', 'group D', \"bachelor's degree\", 'standard', 'none', 80, 73, 72), ('female', 'group A', \"associate's degree\", 'free/reduced', 'none', 37, 57, 56), ('female', 'group C', 'high school', 'standard', 'none', 81, 84, 82), ('female', 'group C', \"associate's degree\", 'standard', 'completed', 59, 73, 72), ('male', 'group B', 'some college', 'free/reduced', 'none', 55, 55, 47), ('male', 'group D', \"associate's degree\", 'standard', 'none', 72, 79, 74), ('male', 'group D', 'high school', 'standard', 'none', 69, 75, 71), ('male', 'group C', 'some college', 'standard', 'none', 69, 64, 68), ('female', 'group C', \"bachelor's degree\", 'free/reduced', 'none', 50, 60, 59), ('male', 'group B', 'some college', 'standard', 'completed', 87, 84, 86), ('male', 'group D', 'some high school', 'standard', 'completed', 71, 69, 68), ('male', 'group E', 'some college', 'standard', 'none', 68, 72, 65), ('male', 'group C', \"master's degree\", 'free/reduced', 'completed', 79, 77, 75), ('female', 'group C', 'some high school', 'standard', 'completed', 77, 90, 85), ('male', 'group C', \"associate's degree\", 'free/reduced', 'none', 58, 55, 53), ('female', 'group E', \"associate's degree\", 'standard', 'none', 84, 95, 92), ('male', 'group D', 'some college', 'standard', 'none', 55, 58, 52), ('male', 'group E', \"bachelor's degree\", 'free/reduced', 'completed', 70, 68, 72), ('female', 'group D', 'some college', 'free/reduced', 'completed', 52, 59, 65), ('male', 'group B', 'some college', 'standard', 'completed', 69, 77, 77), ('female', 'group C', 'high school', 'free/reduced', 'none', 53, 72, 64), ('female', 'group D', 'some high school', 'standard', 'none', 48, 58, 54), ('male', 'group D', 'some high school', 'standard', 'completed', 78, 81, 86), ('female', 'group B', 'high school', 'standard', 'none', 62, 62, 63), ('male', 'group D', 'some college', 'standard', 'none', 60, 63, 59), ('female', 'group B', 'high school', 'standard', 'none', 74, 72, 72), ('female', 'group C', 'high school', 'standard', 'completed', 58, 75, 77), ('male', 'group B', 'high school', 'standard', 'completed', 76, 62, 60), ('female', 'group D', 'some high school', 'standard', 'none', 68, 71, 75), ('male', 'group A', 'some college', 'free/reduced', 'none', 58, 60, 57), ('male', 'group B', 'high school', 'standard', 'none', 52, 48, 49), ('male', 'group D', \"bachelor's degree\", 'standard', 'none', 75, 73, 74), ('female', 'group B', 'some high school', 'free/reduced', 'completed', 52, 67, 72), ('female', 'group C', \"bachelor's degree\", 'free/reduced', 'none', 62, 78, 79), ('male', 'group B', 'some college', 'standard', 'none', 66, 65, 60), ('female', 'group B', 'some high school', 'free/reduced', 'none', 49, 58, 55), ('female', 'group B', 'high school', 'standard', 'none', 66, 72, 70), ('female', 'group C', 'some college', 'free/reduced', 'none', 35, 44, 43), ('female', 'group A', 'some college', 'standard', 'completed', 72, 79, 82), ('male', 'group E', \"associate's degree\", 'standard', 'completed', 94, 85, 82), ('female', 'group D', \"associate's degree\", 'free/reduced', 'none', 46, 56, 57), ('female', 'group B', \"master's degree\", 'standard', 'none', 77, 90, 84), ('female', 'group B', 'high school', 'free/reduced', 'completed', 76, 85, 82), ('female', 'group C', \"associate's degree\", 'standard', 'completed', 52, 59, 62), ('male', 'group C', \"bachelor's degree\", 'standard', 'completed', 91, 81, 79), ('female', 'group B', 'some high school', 'standard', 'completed', 32, 51, 44), ('female', 'group E', 'some high school', 'free/reduced', 'none', 72, 79, 77), ('female', 'group B', 'some college', 'standard', 'none', 19, 38, 32), ('male', 'group C', \"associate's degree\", 'free/reduced', 'none', 68, 65, 61), ('female', 'group C', \"master's degree\", 'free/reduced', 'none', 52, 65, 61), ('female', 'group B', 'high school', 'standard', 'none', 48, 62, 60), ('female', 'group D', 'some college', 'free/reduced', 'none', 60, 66, 70), ('male', 'group D', 'high school', 'free/reduced', 'none', 66, 74, 69), ('male', 'group E', 'some high school', 'standard', 'completed', 89, 84, 77), ('female', 'group B', 'high school', 'standard', 'none', 42, 52, 51), ('female', 'group E', \"associate's degree\", 'free/reduced', 'completed', 57, 68, 73), ('male', 'group D', 'high school', 'standard', 'none', 70, 70, 70), ('female', 'group E', \"associate's degree\", 'free/reduced', 'none', 70, 84, 81), ('male', 'group E', 'some college', 'standard', 'none', 69, 60, 54), ('female', 'group C', \"associate's degree\", 'standard', 'none', 52, 55, 57), ('male', 'group C', 'some high school', 'standard', 'completed', 67, 73, 68), ('male', 'group C', 'some high school', 'standard', 'completed', 76, 80, 73), ('female', 'group E', \"associate's degree\", 'standard', 'none', 87, 94, 95), ('female', 'group B', 'some college', 'standard', 'none', 82, 85, 87), ('female', 'group C', 'some college', 'standard', 'none', 73, 76, 78), ('male', 'group A', 'some college', 'free/reduced', 'none', 75, 81, 74), ('female', 'group D', 'some college', 'free/reduced', 'none', 64, 74, 75), ('female', 'group E', 'high school', 'free/reduced', 'none', 41, 45, 40), ('male', 'group C', 'high school', 'standard', 'none', 90, 75, 69), ('male', 'group B', \"bachelor's degree\", 'standard', 'none', 59, 54, 51), ('male', 'group A', 'some high school', 'standard', 'none', 51, 31, 36), ('male', 'group A', 'high school', 'free/reduced', 'none', 45, 47, 49), ('female', 'group C', \"master's degree\", 'standard', 'completed', 54, 64, 67), ('male', 'group E', 'some high school', 'standard', 'completed', 87, 84, 76), ('female', 'group C', 'high school', 'standard', 'none', 72, 80, 83), ('male', 'group B', 'some high school', 'standard', 'completed', 94, 86, 87), ('female', 'group A', \"bachelor's degree\", 'standard', 'none', 45, 59, 64), ('male', 'group D', \"bachelor's degree\", 'free/reduced', 'completed', 61, 70, 76), ('female', 'group B', 'high school', 'free/reduced', 'none', 60, 72, 68), ('female', 'group C', 'some high school', 'standard', 'none', 77, 91, 88), ('female', 'group A', 'some high school', 'standard', 'completed', 85, 90, 92), ('female', 'group D', \"bachelor's degree\", 'free/reduced', 'none', 78, 90, 93), ('male', 'group E', 'some college', 'free/reduced', 'completed', 49, 52, 51), ('female', 'group B', 'high school', 'free/reduced', 'none', 71, 87, 82), ('female', 'group C', 'some high school', 'free/reduced', 'none', 48, 58, 52), ('male', 'group C', 'high school', 'standard', 'none', 62, 67, 58), ('female', 'group C', \"associate's degree\", 'free/reduced', 'completed', 56, 68, 70), ('female', 'group C', 'some high school', 'standard', 'none', 65, 69, 76), ('female', 'group D', 'some high school', 'free/reduced', 'completed', 69, 86, 81), ('male', 'group B', 'some high school', 'standard', 'none', 68, 54, 53), ('female', 'group A', 'some college', 'free/reduced', 'none', 61, 60, 57), ('female', 'group C', \"bachelor's degree\", 'free/reduced', 'completed', 74, 86, 89), ('male', 'group A', \"bachelor's degree\", 'standard', 'none', 64, 60, 58), ('female', 'group B', 'high school', 'standard', 'completed', 77, 82, 89), ('male', 'group B', 'some college', 'standard', 'none', 58, 50, 45), ('female', 'group C', 'high school', 'standard', 'completed', 60, 64, 74), ('male', 'group E', 'high school', 'standard', 'none', 73, 64, 57), ('female', 'group A', 'high school', 'standard', 'completed', 75, 82, 79), ('male', 'group B', \"associate's degree\", 'free/reduced', 'completed', 58, 57, 53), ('female', 'group C', \"associate's degree\", 'standard', 'none', 66, 77, 73), ('female', 'group D', 'high school', 'free/reduced', 'none', 39, 52, 46), ('male', 'group C', 'some high school', 'standard', 'none', 64, 58, 51), ('female', 'group B', 'high school', 'free/reduced', 'completed', 23, 44, 36), ('male', 'group B', 'some college', 'free/reduced', 'completed', 74, 77, 76), ('female', 'group D', 'some high school', 'free/reduced', 'completed', 40, 65, 64), ('male', 'group E', \"master's degree\", 'standard', 'none', 90, 85, 84), ('male', 'group C', \"master's degree\", 'standard', 'completed', 91, 85, 85), ('male', 'group D', 'high school', 'standard', 'none', 64, 54, 50), ('female', 'group C', 'high school', 'standard', 'none', 59, 72, 68), ('male', 'group D', \"associate's degree\", 'standard', 'none', 80, 75, 69), ('male', 'group C', \"master's degree\", 'standard', 'none', 71, 67, 67), ('female', 'group A', 'high school', 'standard', 'none', 61, 68, 63), ('female', 'group E', 'some college', 'standard', 'none', 87, 85, 93), ('male', 'group E', 'some high school', 'standard', 'none', 82, 67, 61), ('male', 'group C', 'some high school', 'standard', 'none', 62, 64, 55), ('female', 'group B', \"bachelor's degree\", 'standard', 'none', 97, 97, 96), ('male', 'group B', 'some college', 'free/reduced', 'none', 75, 68, 65), ('female', 'group C', \"bachelor's degree\", 'standard', 'none', 65, 79, 81), ('male', 'group B', 'high school', 'standard', 'completed', 52, 49, 46), ('male', 'group C', \"associate's degree\", 'free/reduced', 'none', 87, 73, 72), ('female', 'group C', \"associate's degree\", 'standard', 'none', 53, 62, 53), ('female', 'group E', \"master's degree\", 'free/reduced', 'none', 81, 86, 87), ('male', 'group D', \"bachelor's degree\", 'free/reduced', 'completed', 39, 42, 38), ('female', 'group C', 'some college', 'standard', 'completed', 71, 71, 80), ('male', 'group C', \"associate's degree\", 'standard', 'none', 97, 93, 91), ('male', 'group D', 'some college', 'standard', 'completed', 82, 82, 88), ('male', 'group C', 'high school', 'free/reduced', 'none', 59, 53, 52), ('male', 'group B', \"associate's degree\", 'standard', 'none', 61, 42, 41), ('male', 'group E', \"associate's degree\", 'free/reduced', 'completed', 78, 74, 72), ('male', 'group C', \"associate's degree\", 'free/reduced', 'none', 49, 51, 51), ('male', 'group B', 'high school', 'standard', 'none', 59, 58, 47), ('female', 'group C', 'some college', 'standard', 'completed', 70, 72, 76), ('male', 'group B', \"associate's degree\", 'standard', 'completed', 82, 84, 78), ('male', 'group E', \"associate's degree\", 'free/reduced', 'none', 90, 90, 82), ('female', 'group C', \"bachelor's degree\", 'free/reduced', 'none', 43, 62, 61), ('male', 'group C', 'some college', 'free/reduced', 'none', 80, 64, 66), ('male', 'group D', 'some college', 'standard', 'none', 81, 82, 84), ('male', 'group C', 'some high school', 'standard', 'none', 57, 61, 54), ('female', 'group D', 'some high school', 'standard', 'none', 59, 72, 80), ('female', 'group D', \"associate's degree\", 'standard', 'none', 64, 76, 74), ('male', 'group C', \"bachelor's degree\", 'standard', 'completed', 63, 64, 66), ('female', 'group E', \"bachelor's degree\", 'standard', 'completed', 71, 70, 70), ('female', 'group B', 'high school', 'free/reduced', 'none', 64, 73, 71), ('male', 'group D', \"bachelor's degree\", 'free/reduced', 'none', 55, 46, 44), ('female', 'group E', \"associate's degree\", 'standard', 'none', 51, 51, 54), ('female', 'group C', \"associate's degree\", 'standard', 'completed', 62, 76, 80), ('female', 'group E', \"associate's degree\", 'standard', 'completed', 93, 100, 95), ('male', 'group C', 'high school', 'free/reduced', 'none', 54, 72, 59), ('female', 'group D', 'some college', 'free/reduced', 'none', 69, 65, 74), ('male', 'group D', 'high school', 'free/reduced', 'none', 44, 51, 48), ('female', 'group E', 'some college', 'standard', 'completed', 86, 85, 91), ('female', 'group E', \"associate's degree\", 'standard', 'none', 85, 92, 85), ('female', 'group A', \"master's degree\", 'free/reduced', 'none', 50, 67, 73), ('male', 'group D', 'some high school', 'standard', 'completed', 88, 74, 75), ('female', 'group E', \"associate's degree\", 'standard', 'none', 59, 62, 69), ('female', 'group E', 'some high school', 'free/reduced', 'none', 32, 34, 38), ('male', 'group B', 'high school', 'free/reduced', 'none', 36, 29, 27), ('female', 'group B', 'some high school', 'free/reduced', 'completed', 63, 78, 79), ('male', 'group D', \"associate's degree\", 'standard', 'completed', 67, 54, 63), ('female', 'group D', 'some high school', 'standard', 'completed', 65, 78, 82), ('male', 'group D', \"master's degree\", 'standard', 'none', 85, 84, 89), ('female', 'group C', \"master's degree\", 'standard', 'none', 73, 78, 74), ('female', 'group A', 'high school', 'free/reduced', 'completed', 34, 48, 41), ('female', 'group D', \"bachelor's degree\", 'free/reduced', 'completed', 93, 100, 100), ('female', 'group D', 'some high school', 'free/reduced', 'none', 67, 84, 84), ('male', 'group D', 'some college', 'standard', 'none', 88, 77, 77), ('male', 'group B', 'high school', 'standard', 'none', 57, 48, 51), ('female', 'group D', 'some college', 'standard', 'completed', 79, 84, 91), ('female', 'group C', \"bachelor's degree\", 'free/reduced', 'none', 67, 75, 72), ('male', 'group E', \"bachelor's degree\", 'standard', 'completed', 70, 64, 70), ('male', 'group D', \"bachelor's degree\", 'free/reduced', 'none', 50, 42, 48), ('female', 'group A', 'some college', 'standard', 'none', 69, 84, 82), ('female', 'group C', \"bachelor's degree\", 'standard', 'completed', 52, 61, 66), ('female', 'group C', \"bachelor's degree\", 'free/reduced', 'completed', 47, 62, 66), ('female', 'group B', \"associate's degree\", 'free/reduced', 'none', 46, 61, 55), ('female', 'group E', 'some college', 'standard', 'none', 68, 70, 66), ('male', 'group E', \"bachelor's degree\", 'standard', 'completed', 100, 100, 100), ('female', 'group C', 'high school', 'standard', 'none', 44, 61, 52), ('female', 'group C', \"associate's degree\", 'standard', 'completed', 57, 77, 80), ('male', 'group B', 'some college', 'standard', 'completed', 91, 96, 91), ('male', 'group D', 'high school', 'free/reduced', 'none', 69, 70, 67), ('female', 'group C', 'high school', 'free/reduced', 'none', 35, 53, 46), ('male', 'group D', 'high school', 'standard', 'none', 72, 66, 66), ('female', 'group B', \"associate's degree\", 'free/reduced', 'none', 54, 65, 65), ('male', 'group D', 'high school', 'free/reduced', 'none', 74, 70, 69), ('male', 'group E', 'some high school', 'standard', 'completed', 74, 64, 60), ('male', 'group E', \"associate's degree\", 'free/reduced', 'none', 64, 56, 52), ('female', 'group D', 'high school', 'free/reduced', 'completed', 65, 61, 71), ('male', 'group E', \"associate's degree\", 'free/reduced', 'completed', 46, 43, 44), ('female', 'group C', 'some high school', 'free/reduced', 'none', 48, 56, 51), ('male', 'group C', 'some college', 'free/reduced', 'completed', 67, 74, 70), ('male', 'group D', 'some college', 'free/reduced', 'none', 62, 57, 62), ('male', 'group D', \"associate's degree\", 'free/reduced', 'completed', 61, 71, 73), ('male', 'group C', \"bachelor's degree\", 'free/reduced', 'completed', 70, 75, 74), ('male', 'group C', \"associate's degree\", 'standard', 'completed', 98, 87, 90), ('male', 'group D', 'some college', 'free/reduced', 'none', 70, 63, 58), ('male', 'group A', \"associate's degree\", 'standard', 'none', 67, 57, 53), ('female', 'group E', 'high school', 'free/reduced', 'none', 57, 58, 57), ('male', 'group D', 'some college', 'standard', 'completed', 85, 81, 85), ('male', 'group D', 'some high school', 'standard', 'completed', 77, 68, 69), ('male', 'group C', \"master's degree\", 'free/reduced', 'completed', 72, 66, 72), ('female', 'group D', \"master's degree\", 'standard', 'none', 78, 91, 96), ('male', 'group C', 'high school', 'standard', 'none', 81, 66, 64), ('male', 'group A', 'some high school', 'free/reduced', 'completed', 61, 62, 61), ('female', 'group B', 'high school', 'standard', 'none', 58, 68, 61), ('female', 'group C', \"associate's degree\", 'standard', 'none', 54, 61, 58), ('male', 'group B', 'high school', 'standard', 'none', 82, 82, 80), ('female', 'group D', 'some college', 'free/reduced', 'none', 49, 58, 60), ('male', 'group B', 'some high school', 'free/reduced', 'completed', 49, 50, 52), ('female', 'group E', 'high school', 'free/reduced', 'completed', 57, 75, 73), ('male', 'group E', 'high school', 'standard', 'none', 94, 73, 71), ('female', 'group D', 'some college', 'standard', 'completed', 75, 77, 83), ('female', 'group E', 'some high school', 'free/reduced', 'none', 74, 74, 72), ('male', 'group C', 'high school', 'standard', 'completed', 58, 52, 54), ('female', 'group C', 'some college', 'standard', 'none', 62, 69, 69), ('male', 'group E', \"associate's degree\", 'standard', 'none', 72, 57, 62), ('male', 'group C', 'some college', 'standard', 'none', 84, 87, 81), ('female', 'group D', \"master's degree\", 'standard', 'none', 92, 100, 100), ('female', 'group D', 'high school', 'standard', 'none', 45, 63, 59), ('male', 'group C', 'high school', 'standard', 'none', 75, 81, 71), ('female', 'group A', 'some college', 'standard', 'none', 56, 58, 64), ('female', 'group D', 'some high school', 'free/reduced', 'none', 48, 54, 53), ('female', 'group E', \"associate's degree\", 'standard', 'none', 100, 100, 100), ('female', 'group C', 'some high school', 'free/reduced', 'completed', 65, 76, 75), ('male', 'group D', 'some college', 'standard', 'none', 72, 57, 58), ('female', 'group D', 'some college', 'standard', 'none', 62, 70, 72), ('male', 'group A', 'some high school', 'standard', 'completed', 66, 68, 64), ('male', 'group C', 'some college', 'standard', 'none', 63, 63, 60), ('female', 'group E', \"associate's degree\", 'standard', 'none', 68, 76, 67), ('female', 'group B', \"bachelor's degree\", 'standard', 'none', 75, 84, 80), ('female', 'group D', \"bachelor's degree\", 'standard', 'none', 89, 100, 100), ('male', 'group C', 'some high school', 'standard', 'completed', 78, 72, 69), ('female', 'group A', 'high school', 'free/reduced', 'completed', 53, 50, 60), ('female', 'group D', 'some college', 'free/reduced', 'none', 49, 65, 61), ('female', 'group A', 'some college', 'standard', 'none', 54, 63, 67), ('female', 'group C', 'some college', 'standard', 'completed', 64, 82, 77), ('male', 'group B', 'some college', 'free/reduced', 'completed', 60, 62, 60), ('male', 'group C', \"associate's degree\", 'standard', 'none', 62, 65, 58), ('male', 'group D', 'high school', 'standard', 'completed', 55, 41, 48), ('female', 'group C', \"associate's degree\", 'standard', 'none', 91, 95, 94), ('female', 'group B', 'high school', 'free/reduced', 'none', 8, 24, 23), ('male', 'group D', 'some high school', 'standard', 'none', 81, 78, 78), ('male', 'group B', 'some high school', 'standard', 'completed', 79, 85, 86), ('female', 'group A', 'some college', 'standard', 'completed', 78, 87, 91), ('female', 'group C', 'some high school', 'standard', 'none', 74, 75, 82), ('male', 'group A', 'high school', 'standard', 'none', 57, 51, 54), ('female', 'group C', \"associate's degree\", 'standard', 'none', 40, 59, 51), ('male', 'group E', 'some high school', 'standard', 'completed', 81, 75, 76), ('female', 'group A', 'some high school', 'free/reduced', 'none', 44, 45, 45), ('female', 'group D', 'some college', 'free/reduced', 'completed', 67, 86, 83), ('male', 'group E', 'high school', 'free/reduced', 'completed', 86, 81, 75), ('female', 'group B', 'some high school', 'standard', 'completed', 65, 82, 78), ('female', 'group D', \"associate's degree\", 'free/reduced', 'none', 55, 76, 76), ('female', 'group D', \"bachelor's degree\", 'free/reduced', 'none', 62, 72, 74), ('male', 'group A', 'high school', 'standard', 'none', 63, 63, 62), ('female', 'group E', \"master's degree\", 'standard', 'completed', 88, 99, 95), ('male', 'group C', 'high school', 'free/reduced', 'none', 62, 55, 55), ('female', 'group C', 'high school', 'free/reduced', 'completed', 59, 71, 65), ('female', 'group D', 'some college', 'standard', 'completed', 68, 78, 77), ('female', 'group D', 'some college', 'free/reduced', 'none', 77, 86, 86)]\n"
     ]
    }
   ],
   "source": [
    "query_sql=\"select * from stuPerfomance\"\n",
    "cur.execute(query_sql)\n",
    "print(cur.fetchall())"
   ]
  },
  {
   "cell_type": "markdown",
   "id": "4e6a7d68",
   "metadata": {},
   "source": [
    "### Step 12: In your Python script, perform the following SQL queries on your dataset from the SQLite database .\n",
    "#### Query 1: Select only the field of math score, reading score and writing score where the gender  is “female”. Limit your query results to only 5 records and print them out. (2 marks)\n",
    "#### Query 3: Select only the field of math score, reading score and writing score where the test preparation is completed and the parental level of education is not “high school” and the lunch is “standard”. Limit your query results to only 5 records and print them out. (3 marks)"
   ]
  },
  {
   "cell_type": "markdown",
   "id": "92708398",
   "metadata": {},
   "source": [
    "#### query1"
   ]
  },
  {
   "cell_type": "code",
   "execution_count": 75,
   "id": "9cee3ccb",
   "metadata": {
    "scrolled": true
   },
   "outputs": [
    {
     "name": "stdout",
     "output_type": "stream",
     "text": [
      "(72, 72, 74)\n",
      "(69, 90, 88)\n",
      "(90, 95, 93)\n",
      "(71, 83, 78)\n",
      "(88, 95, 92)\n"
     ]
    }
   ],
   "source": [
    "sql=\"\"\"select math_score, reading_score, writing_score\n",
    "from stuPerfomance\n",
    "where gender='female'\n",
    "limit 5\n",
    "\"\"\"\n",
    "cur.execute(sql)\n",
    "result=cur.fetchall()\n",
    "for r in result:\n",
    "    print(r)"
   ]
  },
  {
   "cell_type": "markdown",
   "id": "aac44403",
   "metadata": {},
   "source": [
    "#### query3"
   ]
  },
  {
   "cell_type": "code",
   "execution_count": 78,
   "id": "7ead6f96",
   "metadata": {},
   "outputs": [
    {
     "name": "stdout",
     "output_type": "stream",
     "text": [
      "(69, 90, 88)\n",
      "(88, 95, 92)\n",
      "(78, 72, 70)\n",
      "(81, 81, 79)\n",
      "(55, 65, 62)\n"
     ]
    }
   ],
   "source": [
    "sql=\"\"\"select math_score, reading_score, writing_score\n",
    "from stuPerfomance\n",
    "where test_preparation_course='completed' \n",
    "and parental_level_of_education!='high school'\n",
    "and lunch='standard'\n",
    "limit 5\n",
    "\"\"\"\n",
    "cur.execute(sql)\n",
    "result=cur.fetchall()\n",
    "for r in result:\n",
    "    print(r)"
   ]
  },
  {
   "cell_type": "code",
   "execution_count": 135,
   "id": "0afbcc8d",
   "metadata": {},
   "outputs": [],
   "source": [
    "conn.close()"
   ]
  },
  {
   "cell_type": "code",
   "execution_count": 12,
   "id": "cdfc718f",
   "metadata": {},
   "outputs": [
    {
     "data": {
      "text/plain": [
       "<pandas.core.groupby.generic.SeriesGroupBy object at 0x0000021690206640>"
      ]
     },
     "execution_count": 12,
     "metadata": {},
     "output_type": "execute_result"
    }
   ],
   "source": [
    "df=stuDf.groupby('gender')['race/ethnicity']\n",
    "df"
   ]
  },
  {
   "cell_type": "code",
   "execution_count": 130,
   "id": "6eb14244",
   "metadata": {},
   "outputs": [
    {
     "data": {
      "text/html": [
       "<div>\n",
       "<style scoped>\n",
       "    .dataframe tbody tr th:only-of-type {\n",
       "        vertical-align: middle;\n",
       "    }\n",
       "\n",
       "    .dataframe tbody tr th {\n",
       "        vertical-align: top;\n",
       "    }\n",
       "\n",
       "    .dataframe thead th {\n",
       "        text-align: right;\n",
       "    }\n",
       "</style>\n",
       "<table border=\"1\" class=\"dataframe\">\n",
       "  <thead>\n",
       "    <tr style=\"text-align: right;\">\n",
       "      <th></th>\n",
       "      <th>gender</th>\n",
       "    </tr>\n",
       "    <tr>\n",
       "      <th>race/ethnicity</th>\n",
       "      <th></th>\n",
       "    </tr>\n",
       "  </thead>\n",
       "  <tbody>\n",
       "    <tr>\n",
       "      <th>group A</th>\n",
       "      <td>89</td>\n",
       "    </tr>\n",
       "    <tr>\n",
       "      <th>group B</th>\n",
       "      <td>190</td>\n",
       "    </tr>\n",
       "    <tr>\n",
       "      <th>group C</th>\n",
       "      <td>319</td>\n",
       "    </tr>\n",
       "    <tr>\n",
       "      <th>group D</th>\n",
       "      <td>262</td>\n",
       "    </tr>\n",
       "    <tr>\n",
       "      <th>group E</th>\n",
       "      <td>140</td>\n",
       "    </tr>\n",
       "  </tbody>\n",
       "</table>\n",
       "</div>"
      ],
      "text/plain": [
       "                gender\n",
       "race/ethnicity        \n",
       "group A             89\n",
       "group B            190\n",
       "group C            319\n",
       "group D            262\n",
       "group E            140"
      ]
     },
     "execution_count": 130,
     "metadata": {},
     "output_type": "execute_result"
    }
   ],
   "source": [
    "dff=stuDf[['race/ethnicity','gender']].groupby(['race/ethnicity']).count()\n",
    "dff"
   ]
  },
  {
   "cell_type": "code",
   "execution_count": null,
   "id": "46b5326c",
   "metadata": {},
   "outputs": [],
   "source": [
    "df.values\n",
    "df.index[0]"
   ]
  },
  {
   "cell_type": "code",
   "execution_count": null,
   "id": "106ebf0d",
   "metadata": {},
   "outputs": [],
   "source": [
    "# df1=pd.DataFrame({df.index[1]:df.values},index=df.index[0])\n",
    "\n",
    "\n",
    "ax=df.plot.bar()\n",
    "# df1\n",
    "# ax=df1.plot.bar(rot=0)"
   ]
  },
  {
   "cell_type": "code",
   "execution_count": 24,
   "id": "f58ed97b",
   "metadata": {},
   "outputs": [
    {
     "data": {
      "image/png": "[encoded data removed]",
      "text/plain": [
       "<Figure size 432x288 with 1 Axes>"
      ]
     },
     "metadata": {
      "needs_background": "light"
     },
     "output_type": "display_data"
    }
   ],
   "source": [
    "speed = [0.1, 17.5, 40, 48, 52, 69, 88]\n",
    "lifespan = [2, 8, 70, 1.5, 25, 12, 28]\n",
    "index = ['snail', 'pig', 'elephant',\n",
    "         'rabbit', 'giraffe', 'coyote', 'horse']\n",
    "df = pd.DataFrame({'speed': speed,\n",
    "                   'lifespan': lifespan}, index=index)\n",
    "ax = df.plot.bar(rot=0)"
   ]
  },
  {
   "cell_type": "code",
   "execution_count": 23,
   "id": "a456f973",
   "metadata": {},
   "outputs": [
    {
     "data": {
      "image/png": "[encoded data removed]",
      "text/plain": [
       "<Figure size 432x288 with 1 Axes>"
      ]
     },
     "metadata": {
      "needs_background": "light"
     },
     "output_type": "display_data"
    }
   ],
   "source": [
    "import matplotlib.pyplot as plt\n",
    "import numpy as np\n",
    "\n",
    "\n",
    "labels = ['G1', 'G2', 'G3', 'G4', 'G5']\n",
    "men_means = [20, 34, 30, 35, 27]\n",
    "women_means = [25, 32, 34, 20, 25]\n",
    "\n",
    "x = np.arange(len(labels))  # the label locations\n",
    "width = 0.35  # the width of the bars\n",
    "\n",
    "fig, ax = plt.subplots()\n",
    "rects1 = ax.bar(x - width/2, men_means, width, label='Men')\n",
    "rects2 = ax.bar(x + width/2, women_means, width, label='Women')\n",
    "\n",
    "# Add some text for labels, title and custom x-axis tick labels, etc.\n",
    "ax.set_ylabel('Scores')\n",
    "# ax.set_title('Scores by group and gender')\n",
    "ax.set_xticks(x, labels)\n",
    "ax.legend()\n",
    "plt.title(\"your title name\", y=-0.3)\n",
    "\n",
    "# ax.bar_label(rects1, padding=3)\n",
    "# ax.bar_label(rects2, padding=3)\n",
    "\n",
    "fig.tight_layout()\n",
    "\n",
    "plt.show()"
   ]
  },
  {
   "cell_type": "code",
   "execution_count": 88,
   "id": "41034173",
   "metadata": {},
   "outputs": [
    {
     "data": {
      "text/plain": [
       "Text(0.5, 0.98, 'Categorical Plotting')"
      ]
     },
     "execution_count": 88,
     "metadata": {},
     "output_type": "execute_result"
    },
    {
     "data": {
      "image/png": "[encoded data removed]",
      "text/plain": [
       "<Figure size 648x216 with 3 Axes>"
      ]
     },
     "metadata": {},
     "output_type": "display_data"
    }
   ],
   "source": [
    "import matplotlib.pyplot as plt\n",
    "\n",
    "data = {'apple': 10, 'orange': 15, 'lemon': 5, 'lime': 20}\n",
    "names = list(data.keys())\n",
    "values = list(data.values())\n",
    "\n",
    "fig, axs = plt.subplots(1, 3, figsize=(9, 3), sharey=True)\n",
    "axs[0].bar(names, values)\n",
    "axs[1].scatter(names, values)\n",
    "axs[2].plot(names, values)\n",
    "fig.suptitle('Categorical Plotting')\n",
    "\n",
    "\n"
   ]
  },
  {
   "cell_type": "code",
   "execution_count": 123,
   "id": "f3f86c40",
   "metadata": {},
   "outputs": [
    {
     "data": {
      "image/png": "[encoded data removed]",
      "text/plain": [
       "<Figure size 432x288 with 3 Axes>"
      ]
     },
     "metadata": {},
     "output_type": "display_data"
    }
   ],
   "source": [
    "\n",
    "dff=stuDf[['math score','gender']].groupby('gender').mean()\n",
    "dff1=stuDf[['reading score','gender']].groupby('gender').mean()\n",
    "dff2=stuDf[['writing score','gender']].groupby('gender').mean()\n",
    "fig, axs=plt.subplots(1,3)\n",
    "axs[0].bar(dff.index, dff['math score'],color=['blue','orange'])\n",
    "axs[1].bar(dff1.index, dff1['reading score'], color=['blue','orange'])\n",
    "axs[2].bar(dff1.index, dff2['writing score'], color=['blue','orange'])\n",
    "\n",
    "axs[0].set_ylabel('scores')\n",
    "axs[0].set_title('math')\n",
    "axs[0].set_xlabel('gender')\n",
    "axs[0].grid(False)\n",
    "axs[1].set_ylabel('scores')\n",
    "axs[1].set_title('reading')\n",
    "axs[1].set_xlabel('gender')\n",
    "axs[1].grid(False)\n",
    "axs[2].set_ylabel('scores')\n",
    "axs[2].set_title('writing')\n",
    "axs[2].set_xlabel('gender')\n",
    "axs[2].grid(False)\n",
    "\n",
    "fig.tight_layout()\n"
   ]
  }
 ],
 "metadata": {
  "kernelspec": {
   "display_name": "Python 3",
   "language": "python",
   "name": "python3"
  },
  "language_info": {
   "codemirror_mode": {
    "name": "ipython",
    "version": 3
   },
   "file_extension": ".py",
   "mimetype": "text/x-python",
   "name": "python",
   "nbconvert_exporter": "python",
   "pygments_lexer": "ipython3",
   "version": "3.8.8"
  }
 },
 "nbformat": 4,
 "nbformat_minor": 5
}
