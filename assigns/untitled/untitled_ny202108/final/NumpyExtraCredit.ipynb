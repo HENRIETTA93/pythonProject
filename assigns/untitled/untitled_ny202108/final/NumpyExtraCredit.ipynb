{
 "cells": [
  {
   "cell_type": "markdown",
   "metadata": {},
   "source": [
    "# Simple Forecasting in Python: Extra Credit (5 pts) #"
   ]
  },
  {
   "cell_type": "markdown",
   "metadata": {},
   "source": [
    "Let us say we are given one-dimensional data and would like to forecast each of the observations as a decaying weighted average of the previous k actual observations: \n"
   ]
  },
  {
   "cell_type": "markdown",
   "metadata": {},
   "source": [
    "$\\hat{Y}(t)=\\sum_{n=t-k}^{t-1} w^{t-n}*Y(n)$=$w^{k}*Y(t-k)+...+w^{2}*Y(t-2)+w^{1}*Y(t-1)$, \n",
    "$0 < w < 1$"
   ]
  },
  {
   "cell_type": "markdown",
   "metadata": {},
   "source": [
    "Your task is to write a function that takes in a 1-d Numpy array of actual initial values, a numeric weight scaler (between 0.9 and 0.99) and the number of previous time steps for prediction k, and return a numpy array of forecasted values for all values in that array starting with the k+1st one(we need to use the first k actual values to forecast the first observation). The idea here is that the most recent observation takes on a higher weight than less-recent observations in the data. Please use Numpy vectorization methods to solve the problem."
   ]
  },
  {
   "cell_type": "markdown",
   "metadata": {},
   "source": [
    "### Hint: you might find np.roll numpy method useful"
   ]
  },
  {
   "cell_type": "code",
   "execution_count": 7,
   "metadata": {},
   "outputs": [
    {
     "data": {
      "text/plain": [
       "array([216, 201, 179, 139, 154, 158, 132, 117, 132,  97])"
      ]
     },
     "execution_count": 7,
     "metadata": {},
     "output_type": "execute_result"
    }
   ],
   "source": [
    "#Example: \n",
    "#Input data array: \n",
    "import numpy as np    \n",
    "data=np.array([216, 201, 179, 139, 154, 158, 132, 117, 132,  97])\n",
    "data"
   ]
  },
  {
   "cell_type": "code",
   "execution_count": 8,
   "metadata": {},
   "outputs": [
    {
     "name": "stdout",
     "output_type": "stream",
     "text": [
      "[0.970299 0.9801   0.99    ]\n",
      "[[216 201 179]\n",
      " [201 179 139]\n",
      " [179 139 154]\n",
      " [139 154 158]\n",
      " [154 158 132]\n",
      " [158 132 117]\n",
      " [132 117 132]]\n",
      "[139 154 158 132 117 132  97]\n",
      "Actuals to predict are:  [139 154 158 132 117 132  97]\n",
      "Forecasted values are:  [583.794684 508.077999 462.377421 442.226961 434.961846 398.510442\n",
      " 373.431168]\n"
     ]
    }
   ],
   "source": [
    "def forecast(input_array, weight, num_time_steps): \n",
    "    #your lines of code go here\n",
    "    print(\"Actuals to predict are: \",actuals)\n",
    "    print(\"Forecasted values are: \", forecast)\n",
    "    return forecast\n",
    "prediction=forecast(data, 0.99, 3)\n"
   ]
  },
  {
   "cell_type": "markdown",
   "metadata": {},
   "source": [
    "# Model Performance Evaluation: Extra Credit (10 pts) #"
   ]
  },
  {
   "cell_type": "markdown",
   "metadata": {},
   "source": [
    "In predictive modeling, area under the receiver operating characteristic curve (AUROC) can be used to measure performance of a model with a binary response variable (containing values 0 or 1 only), which attempts to predict the probability of an event (1) given a set of X characteristics. The goal of a model with such dependent variable is to assign high probabilities to examples with an actual '1' label and low probabilities to examples with an actual '0' label. You can read more about AUC here: \n",
    "https://towardsdatascience.com/understanding-auc-roc-curve-68b2303cc9c5\n",
    "\n",
    "While in general to compute area under a curve requires numerical approximation techniques such as trapezoid rule, another way to estimate this area is by observing the number of rows in the data set for which the predicted probabilities are close to the actual outcome. In particular, given a set of actual labels and the corresponding predicted probabilities, this estimate can be obtained by looking at all possible pairs of actual 1's and 0's and counting the number of pairs for which the predicted probability for the 1 actual label is higher than the predicted probability of the 0 actual label. The complete rule for estimating the area is to give a +1 when the predicted probability of an actual 1 exceeds the predicted probability of an actual 0; to give a 0 when the predicted probability of an actual 0 exceeds the predicted probability of an actual 1; and to give a 0.5 when the predicted probabilities of the actual outcome pair are equal. Then, these are added and divided by the total number of pairs to obtain the estimated area. The higher the number the more accurate our model is in correctly predicting the positive examples in the data. For example: let us consider 5 pairs of predicted probabilities where the first number in the pair corresponds to the actual 1 (Pr1) and the second number in the pair corresponds to the actual 0 (Pr0). Then,\n",
    "\n",
    "| Pr1 | Pr0 | Add to correct | add to N |\n",
    "| --- | --- | --- | --- |\n",
    "| 0.8 | 0.2 | +1 | +1 |\n",
    "| 0.6 | 0.7 | +0 | +1 |\n",
    "| 0.5 | 0.5 | +0.5 | +1 |\n",
    "| 0.3 | 0.1 | +1 | +1 |\n",
    "| 0.9 | 0.7 | +1 | +1 |\n",
    "\n",
    "\n",
    "<font color='red'> estimated area = sum of correct / N = 3.5/5 = 0.7. </font>\n",
    "<br>\n",
    "<br>\n",
    "Your job in this exercise is to write a function that takes in a 2-d numpy array of predicted and actual probabilities (each individual 1-d array from top to bottom will have 2 values: first is the predicted probability and second is the actual label), and use numpy methods and techniques to compute the estimated area without any loops. Remember you have to consider ALL possible pairs like above of a positive and negative actual example. "
   ]
  },
  {
   "cell_type": "code",
   "execution_count": 9,
   "metadata": {},
   "outputs": [],
   "source": [
    "import numpy as np\n",
    "import pandas as pd\n",
    "\n",
    "def compute_estimated_AUC(myarray): \n",
    "    \"\"\"\n",
    "        This function takes an a 2-d array where the first column has predicted probabilities and the second column has actual\n",
    "        labels (either 0 or 1) of a binary-classification problem, and returns the estimated area under the curve using above\n",
    "        rules.\n",
    "    \"\"\"\n",
    "\n",
    "    df_array=myarray\n",
    "\n",
    "    #Step 1: extract predicted probabilities of the 0 actual dep value only: \n",
    "    #your code goes here\n",
    "\n",
    "\n",
    "    #step 2: extract predicted probabilities of the 1 actual dep value only and transform into proper format: \n",
    "    #your code goes here\n",
    "    \n",
    "    #now create an array of 1's of size equals to the number of zeros: \n",
    "    #your code goes here\n",
    "\n",
    "    #perform proper vectorized matrix multiplication\n",
    "    #your code goes here\n",
    "\n",
    "\n",
    "    #Step 3: perform the proper broadcasting step: \n",
    "    #your code goes here\n",
    "    \n",
    "    #Step 4: now, replace 0 with 0.5: \n",
    "    #your code goes here\n",
    "\n",
    "    #Step 5: finally, replace -1 with 0: \n",
    "    #your code goes here\n",
    "\n",
    "    #Step 6: estimate the area under the curve using the given formula above: \n",
    "    #your code goes here\n",
    "    \n",
    "    return cstat\n",
    "\n"
   ]
  },
  {
   "cell_type": "code",
   "execution_count": 10,
   "metadata": {},
   "outputs": [
    {
     "data": {
      "text/plain": [
       "0.375"
      ]
     },
     "execution_count": 10,
     "metadata": {},
     "output_type": "execute_result"
    }
   ],
   "source": [
    "#test your code: \n",
    "myarray=np.array([[0.3,0],[0.3,1],[0.7,1],[0.9,0]])\n",
    "auc=compute_estimated_AUC(myarray)\n",
    "auc"
   ]
  },
  {
   "cell_type": "code",
   "execution_count": null,
   "metadata": {},
   "outputs": [],
   "source": []
  }
 ],
 "metadata": {
  "kernelspec": {
   "display_name": "Python 3",
   "language": "python",
   "name": "python3"
  },
  "language_info": {
   "codemirror_mode": {
    "name": "ipython",
    "version": 3
   },
   "file_extension": ".py",
   "mimetype": "text/x-python",
   "name": "python",
   "nbconvert_exporter": "python",
   "pygments_lexer": "ipython3",
   "version": "3.7.3"
  }
 },
 "nbformat": 4,
 "nbformat_minor": 2
}
