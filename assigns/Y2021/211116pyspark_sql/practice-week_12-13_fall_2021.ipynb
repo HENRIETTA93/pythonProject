{
 "cells": [
  {
   "cell_type": "markdown",
   "metadata": {
    "tags": []
   },
   "source": [
    "# Week 12-13 Data Warehouse & ETL\n",
    "\n",
    "This week and next we'll build up a mini warehouse using Bikeshare trip data and weather data.\n",
    "\n",
    "We are going to use [PostgreSQL](https://www.postgresql.org) 12 or later version. PostgreSQL is already installed on your AWS EC2 instances based on our AMI."
   ]
  },
  {
   "cell_type": "markdown",
   "metadata": {},
   "source": [
    "## Setup - bikeshare data, again\n",
    "\n",
    "We'll download the same Bikeshare data you've worked with before, and we'll create some database tables using PostgreSQL."
   ]
  },
  {
   "cell_type": "code",
   "execution_count": null,
   "metadata": {},
   "outputs": [],
   "source": [
    "%load_ext sql"
   ]
  },
  {
   "cell_type": "code",
   "execution_count": null,
   "metadata": {},
   "outputs": [],
   "source": [
    "!dropdb -U student week13"
   ]
  },
  {
   "cell_type": "code",
   "execution_count": null,
   "metadata": {},
   "outputs": [],
   "source": [
    "!createdb -U student week13"
   ]
  },
  {
   "cell_type": "code",
   "execution_count": null,
   "metadata": {},
   "outputs": [],
   "source": [
    "%sql postgresql://student@/week13"
   ]
  },
  {
   "cell_type": "markdown",
   "metadata": {},
   "source": [
    "Loading capital bikeshare trip data for 2017"
   ]
  },
  {
   "cell_type": "code",
   "execution_count": null,
   "metadata": {},
   "outputs": [],
   "source": [
    "!wget -O 2017-Q1-trips.zip https://s3.amazonaws.com/capitalbikeshare-data/2017-capitalbikeshare-tripdata.zip"
   ]
  },
  {
   "cell_type": "code",
   "execution_count": null,
   "metadata": {},
   "outputs": [],
   "source": [
    "!unzip -o 2017-Q1-trips.zip"
   ]
  },
  {
   "cell_type": "code",
   "execution_count": null,
   "metadata": {},
   "outputs": [],
   "source": [
    "!csvstack 2017Q*-capitalbikeshare-tripdata.csv >  2017q1-4.csv"
   ]
  },
  {
   "cell_type": "code",
   "execution_count": null,
   "metadata": {},
   "outputs": [],
   "source": [
    "!wc -l 2017q1-4.csv"
   ]
  },
  {
   "cell_type": "code",
   "execution_count": null,
   "metadata": {},
   "outputs": [],
   "source": [
    "!csvcut -n 2017q1-4.csv"
   ]
  },
  {
   "cell_type": "code",
   "execution_count": null,
   "metadata": {},
   "outputs": [],
   "source": [
    "!rm -f 2017Q*.csv"
   ]
  },
  {
   "cell_type": "code",
   "execution_count": null,
   "metadata": {},
   "outputs": [],
   "source": [
    "!rm -f 2017-Q1-trips.zip"
   ]
  },
  {
   "cell_type": "markdown",
   "metadata": {},
   "source": [
    "### Create table and import\n",
    "\n",
    "Given the volume of data here, let's go straight to pgsql to load the data."
   ]
  },
  {
   "cell_type": "code",
   "execution_count": null,
   "metadata": {},
   "outputs": [],
   "source": [
    "!head -n 10000 2017q1-4.csv | csvstat"
   ]
  },
  {
   "cell_type": "markdown",
   "metadata": {},
   "source": [
    "Based on these values, I expect we can work with the following:"
   ]
  },
  {
   "cell_type": "code",
   "execution_count": null,
   "metadata": {},
   "outputs": [],
   "source": [
    "%%sql\n",
    "DROP TABLE IF EXISTS rides;\n",
    "\n",
    "CREATE TABLE rides (\n",
    "    duration_ms INTEGER NOT NULL,\n",
    "    start_date TIMESTAMP NOT NULL,\n",
    "    end_date TIMESTAMP NOT NULL,\n",
    "    start_station_id INTEGER NOT NULL,\n",
    "    start_station VARCHAR(64) NOT NULL,\n",
    "    end_station_id INTEGER NOT NULL,\n",
    "    end_station VARCHAR(64) NOT NULL,\n",
    "    bike_number VARCHAR(6) NOT NULL,\n",
    "    member_type VARCHAR(6) NOT NULL\n",
    ")"
   ]
  },
  {
   "cell_type": "code",
   "execution_count": null,
   "metadata": {},
   "outputs": [],
   "source": [
    "%%sql\n",
    "SELECT * from rides limit 5"
   ]
  },
  {
   "cell_type": "markdown",
   "metadata": {},
   "source": [
    "Now we'll load the data directly using `COPY` command.  Note that this **requires** the use of an absolute path, so adjust it to your location:"
   ]
  },
  {
   "cell_type": "code",
   "execution_count": null,
   "metadata": {},
   "outputs": [],
   "source": [
    "!pwd"
   ]
  },
  {
   "cell_type": "code",
   "execution_count": null,
   "metadata": {},
   "outputs": [],
   "source": [
    "%%sql\n",
    "COPY rides FROM '/home/ubuntu/Dimensional-modeling/2017q1-4.csv'\n",
    "CSV\n",
    "HEADER;"
   ]
  },
  {
   "cell_type": "code",
   "execution_count": null,
   "metadata": {},
   "outputs": [],
   "source": [
    "%%sql\n",
    "SELECT COUNT(*) FROM rides;"
   ]
  },
  {
   "cell_type": "code",
   "execution_count": null,
   "metadata": {},
   "outputs": [],
   "source": [
    "!wc -l 2017q1-4.csv"
   ]
  },
  {
   "cell_type": "code",
   "execution_count": null,
   "metadata": {},
   "outputs": [],
   "source": [
    "%%sql\n",
    "SELECT * FROM rides\n",
    "LIMIT 5"
   ]
  },
  {
   "cell_type": "code",
   "execution_count": null,
   "metadata": {},
   "outputs": [],
   "source": [
    "%%sql\n",
    "SELECT length(bike_number) l_bike, count(1)\n",
    "FROM rides\n",
    "where length(bike_number) > 6\n",
    "GROUP BY length(bike_number)"
   ]
  },
  {
   "cell_type": "code",
   "execution_count": null,
   "metadata": {},
   "outputs": [],
   "source": [
    "%%sql\n",
    "SELECT bike_number\n",
    "FROM rides\n",
    "where length(bike_number) > 6"
   ]
  },
  {
   "cell_type": "code",
   "execution_count": null,
   "metadata": {},
   "outputs": [],
   "source": [
    "%%sql\n",
    "DELETE from rides where length(bike_number)>6"
   ]
  },
  {
   "cell_type": "markdown",
   "metadata": {},
   "source": [
    "## More ETL with SQL\n",
    "\n",
    "Today we will start with this schema: "
   ]
  },
  {
   "cell_type": "code",
   "execution_count": null,
   "metadata": {},
   "outputs": [],
   "source": [
    "from IPython.display import Image\n",
    "Image(url=\"https://github.com/aliobaidi/datamanagement/blob/baa3a3a3c1b23ce104324e284ddf46b903bce6e7/rides.png?raw=true\")  "
   ]
  },
  {
   "cell_type": "markdown",
   "metadata": {},
   "source": [
    "We will eventually build a star schema like this:"
   ]
  },
  {
   "cell_type": "code",
   "execution_count": null,
   "metadata": {},
   "outputs": [],
   "source": [
    "Image(url=\"https://github.com/aliobaidi/datamanagement/blob/master/rides_star.png?raw=true\")"
   ]
  },
  {
   "cell_type": "markdown",
   "metadata": {},
   "source": [
    "# Work on Station dimension, modify fact and link them together\n",
    "First let's extract simple details like station ids and names."
   ]
  },
  {
   "cell_type": "code",
   "execution_count": null,
   "metadata": {},
   "outputs": [],
   "source": [
    "%%sql\n",
    "SELECT DISTINCT start_station_id, start_station\n",
    "FROM rides\n",
    "ORDER BY start_station\n",
    "LIMIT 10;"
   ]
  },
  {
   "cell_type": "code",
   "execution_count": null,
   "metadata": {},
   "outputs": [],
   "source": [
    "%%sql\n",
    "SELECT DISTINCT end_station_id, end_station\n",
    "FROM rides\n",
    "ORDER BY end_station\n",
    "LIMIT 10;"
   ]
  },
  {
   "cell_type": "markdown",
   "metadata": {},
   "source": [
    "To be sure we get them all, we need to combine them into a union set."
   ]
  },
  {
   "cell_type": "code",
   "execution_count": null,
   "metadata": {},
   "outputs": [],
   "source": [
    "%%sql\n",
    "SELECT DISTINCT start_station_id AS station_id, \n",
    "       start_station AS station \n",
    "FROM rides\n",
    "UNION\n",
    "SELECT DISTINCT end_station_id AS station_id, \n",
    "       end_station AS station \n",
    "FROM rides\n",
    "Limit 10"
   ]
  },
  {
   "cell_type": "markdown",
   "metadata": {},
   "source": [
    "Now we can create a new dimension table to house the unique station ids and names."
   ]
  },
  {
   "cell_type": "code",
   "execution_count": null,
   "metadata": {},
   "outputs": [],
   "source": [
    "%%sql\n",
    "DROP TABLE IF EXISTS station;\n",
    "\n",
    "CREATE TABLE station (\n",
    "    key SERIAL PRIMARY KEY,\n",
    "    station_id INTEGER,\n",
    "    name VARCHAR(64)\n",
    ");"
   ]
  },
  {
   "cell_type": "code",
   "execution_count": null,
   "metadata": {},
   "outputs": [],
   "source": [
    "%%sql\n",
    "INSERT INTO station (station_id, name)\n",
    "SELECT DISTINCT start_station_id AS station_id, \n",
    "       start_station AS station \n",
    "FROM rides\n",
    "UNION\n",
    "SELECT DISTINCT end_station_id AS station_id, \n",
    "       end_station AS station \n",
    "FROM rides;"
   ]
  },
  {
   "cell_type": "code",
   "execution_count": null,
   "metadata": {},
   "outputs": [],
   "source": [
    "%%sql\n",
    "SELECT * FROM station LIMIT 10;"
   ]
  },
  {
   "cell_type": "markdown",
   "metadata": {},
   "source": [
    "We add these new identifiers (surrogate key) back to the fact table."
   ]
  },
  {
   "cell_type": "code",
   "execution_count": null,
   "metadata": {},
   "outputs": [],
   "source": [
    "%%sql\n",
    "ALTER TABLE rides\n",
    "ADD COLUMN start_station_key INTEGER,\n",
    "ADD CONSTRAINT fk_start_station\n",
    "    FOREIGN KEY (start_station_key)\n",
    "    REFERENCES station (key);"
   ]
  },
  {
   "cell_type": "code",
   "execution_count": null,
   "metadata": {},
   "outputs": [],
   "source": [
    "%%sql\n",
    "ALTER TABLE rides \n",
    "ADD COLUMN end_station_key INTEGER,\n",
    "ADD CONSTRAINT fk_end_station\n",
    "    FOREIGN KEY (end_station_key)\n",
    "    REFERENCES station (key);"
   ]
  },
  {
   "cell_type": "code",
   "execution_count": null,
   "metadata": {},
   "outputs": [],
   "source": [
    "%%sql \n",
    "SELECT * FROM rides LIMIT 10;"
   ]
  },
  {
   "cell_type": "code",
   "execution_count": null,
   "metadata": {},
   "outputs": [],
   "source": [
    "%%sql\n",
    "UPDATE rides\n",
    "SET start_station_key = station.key\n",
    "FROM station\n",
    "WHERE rides.start_station = station.name;"
   ]
  },
  {
   "cell_type": "code",
   "execution_count": null,
   "metadata": {},
   "outputs": [],
   "source": [
    "%%sql \n",
    "SELECT * FROM rides LIMIT 10;"
   ]
  },
  {
   "cell_type": "markdown",
   "metadata": {},
   "source": [
    "Now we update the `start_station_key` in the fact table with the values from station dimension table based on the station ids (natural key)."
   ]
  },
  {
   "cell_type": "code",
   "execution_count": null,
   "metadata": {},
   "outputs": [],
   "source": [
    "%%sql\n",
    "UPDATE rides\n",
    "SET end_station_key = station.key\n",
    "FROM station\n",
    "WHERE rides.end_station_id = station.station_id;"
   ]
  },
  {
   "cell_type": "markdown",
   "metadata": {},
   "source": [
    "Now we can drop the attributes `start_station_id`, `start_station`, `end_station_id` and `end_station` from the rides relation."
   ]
  },
  {
   "cell_type": "code",
   "execution_count": null,
   "metadata": {},
   "outputs": [],
   "source": [
    "%%sql \n",
    "SELECT * FROM rides LIMIT 10;"
   ]
  },
  {
   "cell_type": "markdown",
   "metadata": {},
   "source": [
    "#### adding more context to the station dimension table (Latitude and Longitude)"
   ]
  },
  {
   "cell_type": "code",
   "execution_count": null,
   "metadata": {},
   "outputs": [],
   "source": [
    "%%sql\n",
    "ALTER TABLE rides \n",
    "DROP COLUMN start_station_id,\n",
    "DROP COLUMN start_station,\n",
    "DROP COLUMN end_station_id,\n",
    "DROP COLUMN end_station;"
   ]
  },
  {
   "cell_type": "code",
   "execution_count": null,
   "metadata": {},
   "outputs": [],
   "source": [
    "%%sql\n",
    "SELECT * \n",
    "FROM rides\n",
    "LIMIT 10;"
   ]
  },
  {
   "cell_type": "markdown",
   "metadata": {},
   "source": [
    "### Simple address geocoding\n",
    "\n",
    "It feels like we should do a little more with the stations, doesn't it?  Let's see if we can geocode them using the [geocoder library](https://geocoder.readthedocs.io/). To install the `geocoder` package, use : "
   ]
  },
  {
   "cell_type": "markdown",
   "metadata": {},
   "source": [
    "Code to install Geocoder is !pip install --user geocoder"
   ]
  },
  {
   "cell_type": "code",
   "execution_count": null,
   "metadata": {},
   "outputs": [],
   "source": [
    "%%sql\n",
    "ALTER TABLE station\n",
    "ADD COLUMN lat NUMERIC,\n",
    "ADD COLUMN lng NUMERIC;"
   ]
  },
  {
   "cell_type": "code",
   "execution_count": null,
   "metadata": {},
   "outputs": [],
   "source": [
    "%%sql\n",
    "SELECT *\n",
    "FROM station\n",
    "Limit 10;"
   ]
  },
  {
   "cell_type": "markdown",
   "metadata": {},
   "source": [
    "#### Connecting to the db from python\n",
    "\n",
    "Here we'll use a little python code to get the geographic coordinates based on station's names. Since it may take a while to geocode all 452 stations, we will only geocode 10 stations in the class."
   ]
  },
  {
   "cell_type": "code",
   "execution_count": null,
   "metadata": {
    "tags": []
   },
   "outputs": [],
   "source": [
    "import psycopg2\n",
    "import geocoder\n",
    "\n",
    "conn = psycopg2.connect(\"dbname='week13' user='student'\")\n",
    "c = conn.cursor()\n",
    "c.execute(\"SELECT key, name FROM station ORDER BY key ASC\")\n",
    "rows = c.fetchall()\n",
    "for r in rows:\n",
    "    station_key, station_name = r\n",
    "    print('%s: %s' % (station_key, station_name))\n",
    "    g = geocoder.arcgis('%s, Washington DC' % station_name)\n",
    "    if g:\n",
    "        c.execute(\"UPDATE station SET lat = (%s), lng = (%s) WHERE key = (%s)\", \n",
    "                  (g.lat, g.lng, station_key))\n",
    "    else:\n",
    "        print(\"no geocode\")\n",
    "conn.commit()"
   ]
  },
  {
   "cell_type": "code",
   "execution_count": null,
   "metadata": {},
   "outputs": [],
   "source": [
    "%%sql\n",
    "SELECT * FROM station ORDER BY key ASC LIMIT 10;"
   ]
  },
  {
   "cell_type": "code",
   "execution_count": null,
   "metadata": {},
   "outputs": [],
   "source": [
    "%%sql\n",
    "SELECT * \n",
    "FROM station\n",
    "Where lat between 38 and 39 and\n",
    "      lng between -77 and -75 "
   ]
  },
  {
   "cell_type": "code",
   "execution_count": null,
   "metadata": {
    "tags": []
   },
   "outputs": [],
   "source": [
    "%%sql\n",
    "--Just a Reminder of what we have done so far\n",
    "SELECT * from rides\n",
    "Limit 10;"
   ]
  },
  {
   "cell_type": "markdown",
   "metadata": {},
   "source": [
    "We want to build the dimension table time. We assume the aggregate level is per hour. \n",
    "We want to also add whether a day falls on a weekend or not and for which week and \n",
    "quarter of the year"
   ]
  },
  {
   "cell_type": "markdown",
   "metadata": {},
   "source": [
    "## Add more derived facts and dimensions\n",
    "\n",
    "Another useful step might be recording the minutes as a new column so we don't have to calculate from milliseconds every time."
   ]
  },
  {
   "cell_type": "markdown",
   "metadata": {},
   "source": [
    "Let's experiment with the start date"
   ]
  },
  {
   "cell_type": "code",
   "execution_count": null,
   "metadata": {},
   "outputs": [],
   "source": [
    "%%sql\n",
    "ALTER TABLE rides\n",
    "ADD COLUMN duration_min NUMERIC;"
   ]
  },
  {
   "cell_type": "code",
   "execution_count": null,
   "metadata": {},
   "outputs": [],
   "source": [
    "%%sql\n",
    "UPDATE rides\n",
    "SET duration_min = ROUND(CAST(duration_ms AS NUMERIC) / (60), 2);"
   ]
  },
  {
   "cell_type": "code",
   "execution_count": null,
   "metadata": {},
   "outputs": [],
   "source": [
    "%%sql\n",
    "SELECT * FROM rides\n",
    "order by duration_min desc\n",
    "LIMIT 5;"
   ]
  },
  {
   "cell_type": "markdown",
   "metadata": {},
   "source": [
    "In data warehouse models and in statistical model feature engineering, it can be particularly useful to extract all kinds of parts of dates out into their own attributes.  You never know where you'll find significance.\n",
    "\n",
    "This kind of extraction is quite common."
   ]
  },
  {
   "cell_type": "code",
   "execution_count": null,
   "metadata": {},
   "outputs": [],
   "source": [
    "%%sql\n",
    "Alter table rides drop column duration_ms"
   ]
  },
  {
   "cell_type": "code",
   "execution_count": null,
   "metadata": {},
   "outputs": [],
   "source": [
    "%%sql\n",
    "SELECT DISTINCT start_date, \n",
    "    TO_CHAR(start_date, 'YYYY-MM-DD HH24:00:00') AS hour,\n",
    "    TO_CHAR(start_date, 'YYYY-MM-DD') AS day, \n",
    "    TO_CHAR(start_date, 'YYYY') AS year,\n",
    "    TO_CHAR(start_date, 'Month') AS month_of_year_str,\n",
    "    TO_CHAR(start_date, 'MM') AS month_of_year,\n",
    "    TO_CHAR(start_date, 'DD') AS day_of_month,\n",
    "    TO_CHAR(start_date, 'Day') AS day_of_week_str,\n",
    "    TO_CHAR(start_date, 'D') AS day_of_week,\n",
    "    CASE WHEN CAST(TO_CHAR(start_date, 'D') AS INTEGER) in (7,1)\n",
    "        THEN 'true' \n",
    "        ELSE 'false'\n",
    "    END AS is_weekend,\n",
    "    CASE WHEN CAST(TO_CHAR(start_date, 'D') AS INTEGER) Not in (7,1) \n",
    "        THEN 'true' \n",
    "        ELSE 'false'\n",
    "    END AS is_weekday,\n",
    "    TO_CHAR(start_date, 'HH24') AS hour_of_day,\n",
    "    TO_CHAR(start_date, 'Q') AS quarter_of_year\n",
    "FROM rides\n",
    "LIMIT 10;"
   ]
  },
  {
   "cell_type": "markdown",
   "metadata": {},
   "source": [
    "#### Create the Time Dimension Table"
   ]
  },
  {
   "cell_type": "code",
   "execution_count": null,
   "metadata": {},
   "outputs": [],
   "source": [
    "%%sql\n",
    "DROP TABLE IF EXISTS hour;\n",
    "\n",
    "CREATE TABLE hour (\n",
    "    key SERIAL PRIMARY KEY,\n",
    "    hour CHAR(19),\n",
    "    day CHAR(10),\n",
    "    year INTEGER,\n",
    "    month_of_year_str VARCHAR(12),\n",
    "    month_of_year INTEGER,\n",
    "    day_of_month INTEGER,\n",
    "    day_of_week_str CHAR(9),\n",
    "    day_of_week INTEGER,\n",
    "    is_weekend BOOLEAN,\n",
    "    is_weekday BOOLEAN,\n",
    "    hour_of_day INTEGER,\n",
    "    quarter_of_year INTEGER\n",
    ");"
   ]
  },
  {
   "cell_type": "code",
   "execution_count": null,
   "metadata": {},
   "outputs": [],
   "source": [
    "%%sql\n",
    "INSERT INTO hour (hour, day, year, month_of_year_str, month_of_year, day_of_month, \n",
    "                  day_of_week_str, day_of_week, is_weekend, is_weekday, \n",
    "                  hour_of_day, quarter_of_year)\n",
    "SELECT DISTINCT TO_CHAR(start_date, 'YYYY-MM-DD HH24:00:00') AS hour,\n",
    "    TO_CHAR(start_date, 'YYYY-MM-DD') AS day, \n",
    "    CAST(TO_CHAR(start_date, 'YYYY') AS INTEGER) AS year,\n",
    "    TO_CHAR(start_date, 'Month') AS month_of_year_str,\n",
    "    CAST(TO_CHAR(start_date, 'MM') AS INTEGER) AS month_of_year,\n",
    "    CAST(TO_CHAR(start_date, 'DD') AS INTEGER) AS day_of_month,\n",
    "    TO_CHAR(start_date, 'Day') AS day_of_week_str,\n",
    "    CAST(TO_CHAR(start_date, 'D') AS INTEGER) AS day_of_week,\n",
    "    CASE WHEN CAST(TO_CHAR(start_date, 'D') AS INTEGER) IN (1, 7) \n",
    "        THEN TRUE\n",
    "        ELSE FALSE\n",
    "    END AS is_weekend,\n",
    "    CASE WHEN CAST(TO_CHAR(start_date, 'D') AS INTEGER) NOT IN (1, 7) \n",
    "        THEN TRUE\n",
    "        ELSE FALSE\n",
    "    END AS is_weekday,\n",
    "    CAST(TO_CHAR(start_date, 'HH24') AS INTEGER) AS hour_of_day,\n",
    "    CAST(TO_CHAR(start_date, 'Q') AS INTEGER) AS quarter_of_year\n",
    "FROM rides\n",
    "UNION\n",
    "SELECT DISTINCT TO_CHAR(end_date, 'YYYY-MM-DD HH24:00:00') AS hour,\n",
    "    TO_CHAR(end_date, 'YYYY-MM-DD') AS day, \n",
    "    CAST(TO_CHAR(end_date, 'YYYY') AS INTEGER) AS year,\n",
    "    TO_CHAR(end_date, 'Month') AS month_of_year_str,\n",
    "    CAST(TO_CHAR(end_date, 'MM') AS INTEGER) AS month_of_year,\n",
    "    CAST(TO_CHAR(end_date, 'DD') AS INTEGER) AS day_of_month,\n",
    "    TO_CHAR(end_date, 'Day') AS day_of_week_str,\n",
    "    CAST(TO_CHAR(end_date, 'D') AS INTEGER) AS day_of_week,\n",
    "    CASE WHEN CAST(TO_CHAR(end_date, 'D') AS INTEGER) IN (1, 7) \n",
    "        THEN TRUE\n",
    "        ELSE FALSE\n",
    "    END AS is_weekend,\n",
    "    CASE WHEN CAST(TO_CHAR(end_date, 'D') AS INTEGER) NOT IN (1, 7) \n",
    "        THEN TRUE\n",
    "        ELSE FALSE\n",
    "    END AS is_weekday,\n",
    "    CAST(TO_CHAR(end_date, 'HH24') AS INTEGER) AS hour_of_day,\n",
    "    CAST(TO_CHAR(end_date, 'Q') AS INTEGER) AS quarter_of_year\n",
    "FROM rides;"
   ]
  },
  {
   "cell_type": "code",
   "execution_count": null,
   "metadata": {},
   "outputs": [],
   "source": [
    "%%sql\n",
    "SELECT * FROM hour\n",
    "LIMIT 10;"
   ]
  },
  {
   "cell_type": "markdown",
   "metadata": {},
   "source": [
    "And let's make sure we got that weekend bit right:"
   ]
  },
  {
   "cell_type": "code",
   "execution_count": null,
   "metadata": {},
   "outputs": [],
   "source": [
    "%%sql\n",
    "SELECT DISTINCT day_of_week_str, day_of_week, is_weekend, is_weekday \n",
    "FROM hour\n",
    "ORDER BY day_of_week;"
   ]
  },
  {
   "cell_type": "markdown",
   "metadata": {},
   "source": [
    "We now add FK `start_hour_key` to the fact table."
   ]
  },
  {
   "cell_type": "code",
   "execution_count": null,
   "metadata": {},
   "outputs": [],
   "source": [
    "%%sql\n",
    "ALTER TABLE rides \n",
    "ADD COLUMN start_hour_key INTEGER,\n",
    "ADD CONSTRAINT fk_start_hour\n",
    "    FOREIGN KEY (start_hour_key)\n",
    "    REFERENCES hour (key);"
   ]
  },
  {
   "cell_type": "markdown",
   "metadata": {},
   "source": [
    "Now we update the `start_hour_key` in the fact table with the values from hour dimension table based on start time of the trips."
   ]
  },
  {
   "cell_type": "code",
   "execution_count": null,
   "metadata": {},
   "outputs": [],
   "source": [
    "%%sql\n",
    "UPDATE rides\n",
    "SET start_hour_key = hour.key\n",
    "FROM hour\n",
    "WHERE TO_CHAR(rides.start_date, 'YYYY-MM-DD HH24:00:00') = hour.hour;"
   ]
  },
  {
   "cell_type": "markdown",
   "metadata": {},
   "source": [
    "Do the same for the `end_hour_key`:"
   ]
  },
  {
   "cell_type": "code",
   "execution_count": null,
   "metadata": {},
   "outputs": [],
   "source": [
    "%%sql\n",
    "ALTER TABLE rides \n",
    "ADD COLUMN end_hour_key INTEGER,\n",
    "ADD CONSTRAINT fk_end_hour\n",
    "    FOREIGN KEY (end_hour_key)\n",
    "    REFERENCES hour (key);"
   ]
  },
  {
   "cell_type": "code",
   "execution_count": null,
   "metadata": {},
   "outputs": [],
   "source": [
    "%%sql\n",
    "UPDATE rides\n",
    "SET end_hour_key = hour.key\n",
    "FROM hour\n",
    "WHERE TO_CHAR(rides.end_date, 'YYYY-MM-DD HH24:00:00') = hour.hour;"
   ]
  },
  {
   "cell_type": "code",
   "execution_count": null,
   "metadata": {},
   "outputs": [],
   "source": [
    "%%sql\n",
    "SELECT * FROM rides\n",
    "LIMIT 5;"
   ]
  },
  {
   "cell_type": "markdown",
   "metadata": {},
   "source": [
    "Let's verify that those key values are correct. Here is the query that returns the first 10 trips of the bike W20893, with start/end dates as well as the start/end hours. It joins the rides fact table with hour dimension table:"
   ]
  },
  {
   "cell_type": "code",
   "execution_count": null,
   "metadata": {},
   "outputs": [],
   "source": [
    "%%sql\n",
    "SELECT rides.start_date, rides.end_date, s_hour.hour AS start_hour, e_hour.hour AS end_hour\n",
    "FROM rides\n",
    "JOIN hour AS s_hour\n",
    "  ON s_hour.key = rides.start_hour_key\n",
    "JOIN hour AS e_hour\n",
    "  ON e_hour.key = rides.end_hour_key\n",
    "WHERE bike_number = 'W20893'\n",
    "ORDER BY rides.start_date\n",
    "LIMIT 10;"
   ]
  },
  {
   "cell_type": "code",
   "execution_count": null,
   "metadata": {},
   "outputs": [],
   "source": [
    "%%sql\n",
    "SELECT * from rides limit 5"
   ]
  },
  {
   "cell_type": "markdown",
   "metadata": {},
   "source": [
    "We can drop the `start_date` and `end_date` if we are not interested at the minute level."
   ]
  },
  {
   "cell_type": "code",
   "execution_count": null,
   "metadata": {},
   "outputs": [],
   "source": [
    "%%sql\n",
    "alter table rides drop column start_date, drop column end_date"
   ]
  },
  {
   "cell_type": "markdown",
   "metadata": {},
   "source": [
    "#### Let's create member_type and bike dimensions:"
   ]
  },
  {
   "cell_type": "code",
   "execution_count": null,
   "metadata": {},
   "outputs": [],
   "source": [
    "%%sql\n",
    "DROP TABLE IF EXISTS member_type;\n",
    "\n",
    "CREATE TABLE member_type (\n",
    "    key SERIAL PRIMARY KEY,\n",
    "    member_type CHAR(6)\n",
    ");\n",
    "\n",
    "DROP TABLE IF EXISTS bike;\n",
    "\n",
    "CREATE TABLE bike (\n",
    "    key SERIAL PRIMARY KEY,\n",
    "    bike_number CHAR(6)\n",
    ");"
   ]
  },
  {
   "cell_type": "markdown",
   "metadata": {},
   "source": [
    "We populate the member_type dimension table. As you can see there is only two rows in this dimension table:"
   ]
  },
  {
   "cell_type": "code",
   "execution_count": null,
   "metadata": {},
   "outputs": [],
   "source": [
    "%%sql\n",
    "INSERT INTO member_type (member_type)\n",
    "SELECT DISTINCT member_type \n",
    "FROM rides;"
   ]
  },
  {
   "cell_type": "markdown",
   "metadata": {},
   "source": [
    "Next, we add FK `member_type_key` to the rides table:"
   ]
  },
  {
   "cell_type": "code",
   "execution_count": null,
   "metadata": {},
   "outputs": [],
   "source": [
    "%%sql\n",
    "ALTER TABLE rides \n",
    "ADD COLUMN member_type_key INTEGER,\n",
    "ADD CONSTRAINT fk_member_type\n",
    "    FOREIGN KEY (member_type_key)\n",
    "    REFERENCES member_type (key);"
   ]
  },
  {
   "cell_type": "markdown",
   "metadata": {},
   "source": [
    "...and populate the member type FK:"
   ]
  },
  {
   "cell_type": "code",
   "execution_count": null,
   "metadata": {},
   "outputs": [],
   "source": [
    "%%sql\n",
    "UPDATE rides AS r\n",
    "SET member_type_key = m.key\n",
    "FROM member_type AS m\n",
    "WHERE r.member_type = m.member_type;"
   ]
  },
  {
   "cell_type": "markdown",
   "metadata": {},
   "source": [
    "Same steps for the bike:"
   ]
  },
  {
   "cell_type": "code",
   "execution_count": null,
   "metadata": {},
   "outputs": [],
   "source": [
    "%%sql\n",
    "INSERT INTO bike (bike_number)\n",
    "SELECT DISTINCT bike_number \n",
    "FROM rides;"
   ]
  },
  {
   "cell_type": "code",
   "execution_count": null,
   "metadata": {},
   "outputs": [],
   "source": [
    "%%sql\n",
    "ALTER TABLE rides \n",
    "ADD COLUMN bike_key INTEGER,\n",
    "ADD CONSTRAINT fk_bike\n",
    "    FOREIGN KEY (bike_key)\n",
    "    REFERENCES bike (key);"
   ]
  },
  {
   "cell_type": "code",
   "execution_count": null,
   "metadata": {},
   "outputs": [],
   "source": [
    "%%sql\n",
    "UPDATE rides\n",
    "SET bike_key = bike.key\n",
    "FROM bike\n",
    "WHERE rides.bike_number = bike.bike_number;"
   ]
  },
  {
   "cell_type": "code",
   "execution_count": null,
   "metadata": {},
   "outputs": [],
   "source": [
    "%%sql\n",
    "SELECT * FROM rides\n",
    "LIMIT 5;"
   ]
  },
  {
   "cell_type": "markdown",
   "metadata": {},
   "source": [
    "We can drop the `bike_number` and `member_type` from the rides table."
   ]
  },
  {
   "cell_type": "code",
   "execution_count": null,
   "metadata": {},
   "outputs": [],
   "source": [
    "%%sql\n",
    "ALTER TABLE rides \n",
    "DROP COLUMN bike_number,\n",
    "DROP COLUMN member_type;"
   ]
  },
  {
   "cell_type": "markdown",
   "metadata": {},
   "source": [
    "Now look at the final fact table:"
   ]
  },
  {
   "cell_type": "code",
   "execution_count": null,
   "metadata": {},
   "outputs": [],
   "source": [
    "%%sql\n",
    "SELECT start_station_key, end_station_key, start_hour_key, end_hour_key,\n",
    "member_type_key, bike_key, duration_min \n",
    "FROM rides\n",
    "LIMIT 5;"
   ]
  },
  {
   "cell_type": "markdown",
   "metadata": {},
   "source": [
    "# Data Exploration \n",
    "Now we are ready to explore the data. \n",
    "Let's have an example of bike that made more than 40 trips. Indicate the start station name "
   ]
  },
  {
   "cell_type": "code",
   "execution_count": null,
   "metadata": {},
   "outputs": [],
   "source": [
    "%%sql\n",
    "SELECT \n",
    " s.name, b.bike_number,\n",
    " count(1) as \"number of trips\",\n",
    " sum(duration_min) sum_duration_min,\n",
    " avg(duration_min) avg_duration_min\n",
    "FROM\n",
    " Station S, Bike B, Rides R\n",
    "Where\n",
    " s.key=r.start_station_key and \n",
    " b.key=r.bike_key \n",
    "Group by \n",
    " s.name, b.bike_number\n",
    "Having \n",
    " Count(1)>40\n",
    "Order by \n",
    " count(1) desc\n"
   ]
  },
  {
   "cell_type": "markdown",
   "metadata": {},
   "source": [
    "Lets find the number of trips per day"
   ]
  },
  {
   "cell_type": "code",
   "execution_count": null,
   "metadata": {},
   "outputs": [],
   "source": [
    "%%sql\n",
    "SELECT day_of_week_str, COUNT(*) count\n",
    "FROM rides\n",
    "JOIN hour\n",
    "  ON rides.start_hour_key = hour.key\n",
    "GROUP BY day_of_week_str, day_of_week\n",
    "ORDER BY day_of_week;"
   ]
  },
  {
   "cell_type": "markdown",
   "metadata": {},
   "source": [
    "Let's make use of the analytic (window) functions\n",
    "function_name(*) Over (partition by expression order by expression ASC/Desc)\n",
    "\n",
    "count(*) over (partition by day_of_week_str order by day_of_week)"
   ]
  },
  {
   "cell_type": "code",
   "execution_count": null,
   "metadata": {},
   "outputs": [],
   "source": [
    "%%sql\n",
    "select distinct day_of_week, day_of_week_str, count(*) over (partition by day_of_week_str order by day_of_week)\n",
    "from rides join hour on rides.start_hour_key = hour.key\n",
    "order by day_of_week"
   ]
  },
  {
   "cell_type": "code",
   "execution_count": null,
   "metadata": {},
   "outputs": [],
   "source": [
    "%matplotlib inline"
   ]
  },
  {
   "cell_type": "code",
   "execution_count": null,
   "metadata": {},
   "outputs": [],
   "source": [
    "_.bar()"
   ]
  },
  {
   "cell_type": "markdown",
   "metadata": {},
   "source": [
    "Let's look at the trips separately from casual riders and registered (members) riders:"
   ]
  },
  {
   "cell_type": "code",
   "execution_count": null,
   "metadata": {},
   "outputs": [],
   "source": [
    "%%sql\n",
    "SELECT day_of_week_str, COUNT(*) count\n",
    "FROM rides\n",
    "JOIN hour\n",
    "  ON rides.start_hour_key = hour.key\n",
    "JOIN member_type\n",
    "    ON rides.member_type_key = member_type.key\n",
    "WHERE member_type.member_type = 'Casual'\n",
    "GROUP BY day_of_week_str, day_of_week\n",
    "ORDER BY day_of_week;"
   ]
  },
  {
   "cell_type": "code",
   "execution_count": null,
   "metadata": {},
   "outputs": [],
   "source": [
    "_.bar()"
   ]
  },
  {
   "cell_type": "code",
   "execution_count": null,
   "metadata": {},
   "outputs": [],
   "source": [
    "%%sql\n",
    "SELECT day_of_week_str, COUNT(*) count\n",
    "FROM rides\n",
    "JOIN hour\n",
    "  ON rides.start_hour_key = hour.key\n",
    "JOIN member_type\n",
    "    ON rides.member_type_key = member_type.key\n",
    "WHERE member_type.member_type = 'Member'\n",
    "GROUP BY day_of_week_str, day_of_week\n",
    "ORDER BY day_of_week;"
   ]
  },
  {
   "cell_type": "code",
   "execution_count": null,
   "metadata": {},
   "outputs": [],
   "source": [
    "_.bar()"
   ]
  },
  {
   "cell_type": "markdown",
   "metadata": {},
   "source": [
    "Let's check the count for each hour of the day"
   ]
  },
  {
   "cell_type": "code",
   "execution_count": null,
   "metadata": {},
   "outputs": [],
   "source": [
    "%%sql\n",
    "SELECT hour.hour_of_day, COUNT(*) count\n",
    "FROM rides\n",
    "JOIN hour\n",
    "    ON rides.start_hour_key = hour.key\n",
    "JOIN member_type\n",
    "    ON rides.member_type_key = member_type.key\n",
    "WHERE member_type.member_type = 'Casual'\n",
    "GROUP BY hour.hour_of_day \n",
    "ORDER BY hour.hour_of_day;"
   ]
  },
  {
   "cell_type": "code",
   "execution_count": null,
   "metadata": {},
   "outputs": [],
   "source": [
    "_.bar()"
   ]
  },
  {
   "cell_type": "code",
   "execution_count": null,
   "metadata": {},
   "outputs": [],
   "source": [
    "%%sql\n",
    "SELECT hour.hour_of_day, COUNT(*) count\n",
    "FROM rides\n",
    "JOIN hour\n",
    "    ON rides.start_hour_key = hour.key\n",
    "JOIN member_type\n",
    "    ON rides.member_type_key = member_type.key\n",
    "WHERE member_type.member_type = 'Member'\n",
    "GROUP BY hour.hour_of_day \n",
    "ORDER BY hour.hour_of_day;"
   ]
  },
  {
   "cell_type": "code",
   "execution_count": null,
   "metadata": {},
   "outputs": [],
   "source": [
    "_.bar()"
   ]
  },
  {
   "cell_type": "code",
   "execution_count": null,
   "metadata": {},
   "outputs": [],
   "source": [
    "%%sql\n",
    "select * from member_type"
   ]
  },
  {
   "cell_type": "markdown",
   "metadata": {
    "tags": []
   },
   "source": [
    "## Adding weather data\n",
    "\n",
    "An interesting dimension to the bikeshare history is weather - I know I don't mind riding in the rain, but I'm probably in the minority.\n",
    "\n",
    "Weather Underground offers access to weather history data at links like https://www.wunderground.com/history/airport/KDCA/2017/1/18/DailyHistory.html. Until recently we were able to download the weather history data in CSV format for free. Now Weather Underground offers API access that supports JSON and XML formats only and starts to charge for it based on usage. "
   ]
  },
  {
   "cell_type": "markdown",
   "metadata": {},
   "source": [
    "Fortunately we have downloaded the data for 2017 Q1 before they disabled the CSV suppport. There is one CSV file for each day. You can download them all as a zip file."
   ]
  },
  {
   "cell_type": "code",
   "execution_count": null,
   "metadata": {},
   "outputs": [],
   "source": [
    "%%sql\n",
    "SELECT * from pg_tables where upper(tableowner)='STUDENT';"
   ]
  },
  {
   "cell_type": "code",
   "execution_count": null,
   "metadata": {},
   "outputs": [],
   "source": [
    "!wget -O weather2017q1.csv.zip https://s3.amazonaws.com/dmfa-2017/weather2017q1.csv.zip"
   ]
  },
  {
   "cell_type": "code",
   "execution_count": null,
   "metadata": {},
   "outputs": [],
   "source": [
    "!unzip weather2017q1.csv.zip"
   ]
  },
  {
   "cell_type": "code",
   "execution_count": null,
   "metadata": {},
   "outputs": [],
   "source": [
    "!head weather-20170125.csv | csvlook"
   ]
  },
  {
   "cell_type": "markdown",
   "metadata": {},
   "source": [
    "Something is not right! The header is missing and there is `<br />` at the end of each line. Let's look at the raw content of the CSV file."
   ]
  },
  {
   "cell_type": "code",
   "execution_count": null,
   "metadata": {
    "scrolled": true
   },
   "outputs": [],
   "source": [
    "!head weather-20170125.csv"
   ]
  },
  {
   "cell_type": "markdown",
   "metadata": {},
   "source": [
    "There are two issues:\n",
    "1. The first line is blank\n",
    "2. There are extra characters at the end of each line.\n",
    "\n",
    "Let's clean the data using sed (stream editor) command. sed command \"`/^$/d`\" removes blank lines. \"`s/<br \\/>//g`\" finds and replace `<br \\/>` with empty string `''`."
   ]
  },
  {
   "cell_type": "code",
   "execution_count": null,
   "metadata": {
    "scrolled": true
   },
   "outputs": [],
   "source": [
    "!sed '/^$/d;s/<br \\/>//g' weather-20170125.csv | head | csvlook"
   ]
  },
  {
   "cell_type": "markdown",
   "metadata": {},
   "source": [
    "Now it looks much better! Apply the fix to all weather CSV files."
   ]
  },
  {
   "cell_type": "code",
   "execution_count": null,
   "metadata": {},
   "outputs": [],
   "source": [
    "!for f in weather-2017*.csv; do sed -i '/^$/d;s/<br \\/>//g' ${f}; done"
   ]
  },
  {
   "cell_type": "markdown",
   "metadata": {},
   "source": [
    "If you don't know what the -i option do, you can find it out in the help:"
   ]
  },
  {
   "cell_type": "code",
   "execution_count": null,
   "metadata": {},
   "outputs": [],
   "source": [
    "!sed --help"
   ]
  },
  {
   "cell_type": "markdown",
   "metadata": {},
   "source": [
    "And combine date based csv files into a single file:"
   ]
  },
  {
   "cell_type": "code",
   "execution_count": null,
   "metadata": {},
   "outputs": [],
   "source": [
    "!csvstack weather-201701*.csv weather-201702*.csv weather-201703*.csv > weather-2017q1.csv"
   ]
  },
  {
   "cell_type": "code",
   "execution_count": null,
   "metadata": {},
   "outputs": [],
   "source": [
    "!csvstat weather-2017q1.csv"
   ]
  },
  {
   "cell_type": "markdown",
   "metadata": {},
   "source": [
    "We've noticed special values such as `-`, `N/A` and `None`. We need to remove them so that they will be treated as NULL by the database."
   ]
  },
  {
   "cell_type": "code",
   "execution_count": null,
   "metadata": {},
   "outputs": [],
   "source": [
    "!sed -i 's/,N\\/A,/,,/g;s/,-,/,,/g;;s/,None,/,,/g' weather-2017q1.csv"
   ]
  },
  {
   "cell_type": "markdown",
   "metadata": {},
   "source": [
    "Based on these values, I expect we can work with the following schema for weather. Note that the type for `time_utc` is `TIMESTAMPTZ`, which is the abbreviation for `timestamp with time zone`, a PostgreSQL specific type. We also add an attribute named `time`. We will use it to store local eastern time."
   ]
  },
  {
   "cell_type": "code",
   "execution_count": null,
   "metadata": {},
   "outputs": [],
   "source": [
    "!rm -f weather-20170*.csv"
   ]
  },
  {
   "cell_type": "code",
   "execution_count": null,
   "metadata": {},
   "outputs": [],
   "source": [
    "%%sql\n",
    "DROP TABLE IF EXISTS weather;\n",
    "\n",
    "CREATE TABLE weather (\n",
    "    key SERIAL PRIMARY KEY,\n",
    "    time_str VARCHAR(8),\n",
    "    temp NUMERIC,\n",
    "    dew_point NUMERIC,\n",
    "    humidity NUMERIC,\n",
    "    pressure NUMERIC,\n",
    "    visibility NUMERIC,\n",
    "    wind_dir VARCHAR(8),\n",
    "    wind_speed VARCHAR(10),\n",
    "    gust_speed NUMERIC,\n",
    "    precipitation NUMERIC,\n",
    "    events VARCHAR(50),\n",
    "    conditions VARCHAR(50),\n",
    "    wind_dir_degrees NUMERIC,\n",
    "    time_utc TIMESTAMPTZ,\n",
    "    time TIMESTAMP\n",
    ")"
   ]
  },
  {
   "cell_type": "markdown",
   "metadata": {},
   "source": [
    "Now we'll load the data into PostgreSQL. Note that this requires the use of an absolute path, so adjust it to your location:"
   ]
  },
  {
   "cell_type": "code",
   "execution_count": null,
   "metadata": {},
   "outputs": [],
   "source": [
    "!pwd"
   ]
  },
  {
   "cell_type": "code",
   "execution_count": null,
   "metadata": {},
   "outputs": [],
   "source": [
    "%%sql\n",
    "COPY weather \n",
    "(time_str, temp, dew_point, humidity, pressure, visibility, wind_dir, wind_speed, gust_speed, \n",
    " precipitation, events, conditions, wind_dir_degrees, time_utc)\n",
    "FROM '/home/ubuntu/Dimensional-modeling/weather-2017q1.csv'\n",
    "CSV\n",
    "HEADER\n",
    "QUOTE '\"'\n",
    "DELIMITER ',';"
   ]
  },
  {
   "cell_type": "code",
   "execution_count": null,
   "metadata": {},
   "outputs": [],
   "source": [
    "%%sql\n",
    "SELECT * from weather LIMIT 10;"
   ]
  },
  {
   "cell_type": "markdown",
   "metadata": {},
   "source": [
    "Next, we need to convert UTC time to local time EST or EDT. We know Daylight Saving Time started on Sunday, March 12, 2017, 2:00:00 am. The conversion takes two steps:"
   ]
  },
  {
   "cell_type": "markdown",
   "metadata": {},
   "source": [
    "First we convert UTC times to EST times and populate `time` attribute for all `time_utc` values before `2017-03-12 07:00:00+00:00`, which is Sunday, March 12, 2017, 2:00:00 am EST. "
   ]
  },
  {
   "cell_type": "code",
   "execution_count": null,
   "metadata": {},
   "outputs": [],
   "source": [
    "%%sql\n",
    "UPDATE weather SET time = time_utc AT TIME ZONE 'EST'\n",
    "WHERE time_utc <= '2017-03-12 07:00:00+00:00';"
   ]
  },
  {
   "cell_type": "markdown",
   "metadata": {},
   "source": [
    "Next we convert UTC times to EDT times and populate `time` attribute for all `time_utc` values after `2017-03-12 07:00:00+00:00`. "
   ]
  },
  {
   "cell_type": "code",
   "execution_count": null,
   "metadata": {},
   "outputs": [],
   "source": [
    "%%sql\n",
    "UPDATE weather SET time = time_utc AT TIME ZONE 'EDT'\n",
    "WHERE time_utc > '2017-03-12 07:00:00+00:00';"
   ]
  },
  {
   "cell_type": "markdown",
   "metadata": {},
   "source": [
    "Verify that time attributes look okay on March 12:"
   ]
  },
  {
   "cell_type": "code",
   "execution_count": null,
   "metadata": {},
   "outputs": [],
   "source": [
    "%%sql\n",
    "SELECT time_str, time from weather \n",
    "WHERE TO_CHAR(time, 'YYYY-MM-DD') = '2017-03-12'\n",
    "ORDER BY time;"
   ]
  },
  {
   "cell_type": "markdown",
   "metadata": {},
   "source": [
    "Now we add two foreign key columns (`start_weather_key` and `end_weather_key`) to the `rides` table that reference `weather` dimension table."
   ]
  },
  {
   "cell_type": "code",
   "execution_count": null,
   "metadata": {},
   "outputs": [],
   "source": [
    "%%sql\n",
    "ALTER TABLE rides \n",
    "ADD COLUMN start_weather_key INTEGER,\n",
    "ADD CONSTRAINT fk_start_weather\n",
    "    FOREIGN KEY (start_weather_key)\n",
    "    REFERENCES weather (key);"
   ]
  },
  {
   "cell_type": "code",
   "execution_count": null,
   "metadata": {},
   "outputs": [],
   "source": [
    "%%sql\n",
    "ALTER TABLE rides \n",
    "ADD COLUMN end_weather_key INTEGER,\n",
    "ADD CONSTRAINT fk_end_weather\n",
    "    FOREIGN KEY (end_weather_key)\n",
    "    REFERENCES weather (key);"
   ]
  },
  {
   "cell_type": "code",
   "execution_count": null,
   "metadata": {},
   "outputs": [],
   "source": [
    "%%sql\n",
    "UPDATE rides\n",
    "SET start_weather_key = weather.key\n",
    "FROM weather, hour \n",
    "WHERE rides.start_hour_key = hour.key AND hour.hour = TO_CHAR(weather.time, 'YYYY-MM-DD HH24:00:00');"
   ]
  },
  {
   "cell_type": "code",
   "execution_count": null,
   "metadata": {},
   "outputs": [],
   "source": [
    "%%sql\n",
    "UPDATE rides\n",
    "SET end_weather_key = weather.key\n",
    "FROM weather, hour \n",
    "WHERE rides.end_hour_key = hour.key AND hour.hour = TO_CHAR(weather.time, 'YYYY-MM-DD HH24:00:00');"
   ]
  },
  {
   "cell_type": "markdown",
   "metadata": {},
   "source": [
    "Some rides do not have weather captured because there are some missing hours in the weather data:"
   ]
  },
  {
   "cell_type": "code",
   "execution_count": null,
   "metadata": {},
   "outputs": [],
   "source": [
    "%%sql\n",
    "SELECT COUNT(*) FROM rides\n",
    "WHERE start_weather_key IS NULL;"
   ]
  },
  {
   "cell_type": "code",
   "execution_count": null,
   "metadata": {},
   "outputs": [],
   "source": [
    "%%sql\n",
    "SELECT COUNT(*) FROM rides\n",
    "WHERE end_weather_key IS NULL;"
   ]
  },
  {
   "cell_type": "markdown",
   "metadata": {},
   "source": [
    "Let's find out the top 5 weather conditions that people ride bikeshare."
   ]
  },
  {
   "cell_type": "code",
   "execution_count": null,
   "metadata": {},
   "outputs": [],
   "source": [
    "%%sql\n",
    "SELECT w.conditions, COUNT(*) count\n",
    "FROM rides\n",
    "JOIN weather AS w\n",
    "ON w.key = rides.start_weather_key\n",
    "GROUP BY w.conditions\n",
    "ORDER BY count DESC\n",
    "LIMIT 5;"
   ]
  },
  {
   "cell_type": "code",
   "execution_count": null,
   "metadata": {},
   "outputs": [],
   "source": [
    "%%sql\n",
    "SELECT w.conditions, count(*) cnt, RANK () OVER (order by count(*) desc) rnk\n",
    "FROM rides\n",
    "JOIN weather AS w\n",
    "ON w.key = rides.start_weather_key\n",
    "group by w.conditions\n",
    "order by rnk\n",
    "limit 5;\n"
   ]
  },
  {
   "cell_type": "code",
   "execution_count": null,
   "metadata": {},
   "outputs": [],
   "source": [
    "_.bar()"
   ]
  },
  {
   "cell_type": "markdown",
   "metadata": {},
   "source": [
    "And the top 10 weather conditions that people ride bikeshare the least often:"
   ]
  },
  {
   "cell_type": "code",
   "execution_count": null,
   "metadata": {},
   "outputs": [],
   "source": [
    "%%sql\n",
    "SELECT w.conditions, COUNT(*) count\n",
    "FROM rides\n",
    "JOIN weather AS w\n",
    "ON w.key = rides.start_weather_key\n",
    "GROUP BY w.conditions\n",
    "ORDER BY count ASC\n",
    "LIMIT 10;"
   ]
  },
  {
   "cell_type": "code",
   "execution_count": null,
   "metadata": {},
   "outputs": [],
   "source": [
    "%%sql\n",
    "SELECT w.conditions, count(*) cnt, RANK () OVER (order by count(*) nulls first) rnk\n",
    "FROM rides\n",
    "JOIN weather AS w\n",
    "ON w.key = rides.start_weather_key\n",
    "group by w.conditions\n",
    "order by rnk\n",
    "limit 10;\n"
   ]
  },
  {
   "cell_type": "code",
   "execution_count": null,
   "metadata": {},
   "outputs": [],
   "source": [
    "_.bar()"
   ]
  },
  {
   "cell_type": "code",
   "execution_count": null,
   "metadata": {},
   "outputs": [],
   "source": [
    "%%sql\n",
    "SELECT w.conditions, month_of_year, count(*) cnt, RANK () OVER (order by count(*) nulls first) rnk\n",
    "FROM rides\n",
    "JOIN weather AS w\n",
    "ON w.key = rides.start_weather_key\n",
    "join hour\n",
    "on rides.start_hour_key = hour.key\n",
    "group by w.conditions, month_of_year\n",
    "order by rnk\n",
    "limit 10;"
   ]
  },
  {
   "cell_type": "code",
   "execution_count": null,
   "metadata": {},
   "outputs": [],
   "source": [
    "%%sql\n",
    "SELECT w.conditions, count(*) cnt, NTILE(4) over (order by count(*) nulls first) ntiles\n",
    "FROM rides\n",
    "JOIN weather AS w\n",
    "ON w.key = rides.start_weather_key\n",
    "group by w.conditions\n",
    "order by ntiles;"
   ]
  },
  {
   "cell_type": "code",
   "execution_count": null,
   "metadata": {},
   "outputs": [],
   "source": [
    "_.bar()"
   ]
  },
  {
   "cell_type": "code",
   "execution_count": null,
   "metadata": {},
   "outputs": [],
   "source": [
    "%%sql\n",
    "SELECT bike_key, hour datex, duration_ms\n",
    "from rides\n",
    "JOIN hour AS h\n",
    "ON h.key = rides.start_hour_key\n",
    "join bike\n",
    "on bike.key=rides.bike_key\n",
    "where bike_key=55 and hour< '2017-01-05'\n",
    "order by bike_key, hour "
   ]
  },
  {
   "cell_type": "code",
   "execution_count": null,
   "metadata": {},
   "outputs": [],
   "source": [
    "%%sql\n",
    "SELECT bike_key, hour datex, count(*) cnt, \n",
    "avg(sum(duration_ms)) over (order by bike_key, hour ROWS BETWEEN UNBOUNDED PRECEDING AND CURRENT ROW),\n",
    "avg(sum(duration_ms)) over (order by bike_key, hour ROWS BETWEEN 1 PRECEDING AND 2 FOLLOWING)\n",
    "FROM rides\n",
    "JOIN hour AS h\n",
    "ON h.key = rides.start_hour_key\n",
    "join bike\n",
    "on bike.key=rides.bike_key\n",
    "where bike_key=55 and hour< '2017-01-05'\n",
    "group by bike_key, hour;"
   ]
  },
  {
   "cell_type": "code",
   "execution_count": null,
   "metadata": {},
   "outputs": [],
   "source": [
    "%%sql\n",
    "SELECT bike_key, hour datex, count(*) cnt, \n",
    "LAG(hour,1,hour)  over (order by bike_key, hour) lagx,\n",
    "LEAD(hour,1,hour) over (order by bike_key, hour) leadx,\n",
    "cast(hour as timestamp)- cast(LAG(hour,1,hour)  over (order by bike_key, hour) as timestamp) diff_lag,\n",
    "cast( LEAD(hour,1,hour) over (order by bike_key, hour) as timestamp)- cast(hour as timestamp) diff_lead\n",
    "FROM rides\n",
    "JOIN hour AS h\n",
    "ON h.key = rides.start_hour_key\n",
    "join bike\n",
    "on bike.key=rides.bike_key\n",
    "where bike_key=55 and hour< '2017-01-05'\n",
    "group by bike_key, hour;"
   ]
  },
  {
   "cell_type": "code",
   "execution_count": null,
   "metadata": {},
   "outputs": [],
   "source": []
  }
 ],
 "metadata": {
  "anaconda-cloud": {},
  "kernelspec": {
   "display_name": "Python 3 (ipykernel)",
   "language": "python",
   "name": "python3"
  },
  "language_info": {
   "codemirror_mode": {
    "name": "ipython",
    "version": 3
   },
   "file_extension": ".py",
   "mimetype": "text/x-python",
   "name": "python",
   "nbconvert_exporter": "python",
   "pygments_lexer": "ipython3",
   "version": "3.8.10"
  }
 },
 "nbformat": 4,
 "nbformat_minor": 4
}
