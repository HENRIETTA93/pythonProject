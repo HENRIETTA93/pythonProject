{
 "cells": [
  {
   "cell_type": "markdown",
   "metadata": {},
   "source": [
    "# Final Project\n",
    "\n",
    "Group 4: Jiaqi Bai, Somender Chaudhary, Shreyas Deo, Andrew Levy, Wenqwing Qin, Matias Roca-Guiulfo, and Alexis Yang"
   ]
  },
  {
   "cell_type": "markdown",
   "metadata": {},
   "source": [
    "## Ask 1 - Data Collection (10%)\n",
    "\n",
    "Use the JHU datasets website, collect the following dataset \n",
    "- Cases and Deaths (04/12/2020 – 11/15/2021)\n",
    "- Vaccine and People Vaccinated (12/10/2020 – 11/15/2021)\n",
    "- Testing\n",
    "\n",
    "The readme/dictionary files are available for all datasets Cases and Deaths, Vaccine and Testing.\n",
    "\n",
    "Acquire daily U.S. report. Perform initial exploration to make sure it is suitable for dimensional modeling and analytical analysis.\n",
    "\n",
    "Expectation: Provide a list of your data sources, The links to the data sources and links to any documentations you used.\n",
    "\n",
    "Links\n",
    "- JHU Datasets: https://coronavirus.jhu.edu/about/how-to-use-our-data\n",
    "- Cases: https://github.com/CSSEGISandData/COVID-19/tree/master/csse_covid_19_data/csse_covid_19_daily_reports_us\n",
    "- Deaths: https://github.com/govex/COVID-19/blob/master/data_tables/vaccine_data/us_data/time_series/vaccine_data_us_timeline.csv & https://raw.githubusercontent.com/govex/COVID-\n",
    "- Vaccine: https://github.com/govex/COVID-19/blob/master/data_tables/vaccine_data/us_data/time_series/vaccine_data_us_timeline.csv\n",
    "- People Vaccinated: https://raw.githubusercontent.com/govex/COVID-19/master/data_tables/vaccine_data/us_data/time_series/people_vaccinated_us_timeline.csv\n",
    "- Testing: https://raw.githubusercontent.com/govex/COVID-19/master/data_tables/testing_data/time_series_covid19_US.csv\n",
    "Readme/dictionary files\n",
    "- https://github.com/CSSEGISandData/COVID-19/blob/master/csse_covid_19_data/README.md\n",
    "- https://github.com/govex/COVID-19/blob/master/data_tables/vaccine_data/us_data/data_dictionary.csv\n",
    "- https://github.com/govex/COVID-19/blob/master/data_tables/testing_data/data_dictionary.csv"
   ]
  },
  {
   "cell_type": "markdown",
   "metadata": {},
   "source": [
    "#### Collecting Cases and Deaths Dataset "
   ]
  },
  {
   "cell_type": "markdown",
   "metadata": {},
   "source": [
    "#### Collecting Cases and Deaths Dataset "
   ]
  },
  {
   "cell_type": "code",
   "execution_count": 92,
   "metadata": {},
   "outputs": [
    {
     "name": "stdout",
     "output_type": "stream",
     "text": [
      "34471 cases_deaths.csv\r\n"
     ]
    }
   ],
   "source": [
    "!wc -l cases_deaths.csv # printing the number of lines presents in the cases_deaths.csv file"
   ]
  },
  {
   "cell_type": "code",
   "execution_count": 93,
   "metadata": {},
   "outputs": [
    {
     "name": "stdout",
     "output_type": "stream",
     "text": [
      "Province_State,Country_Region,Last_Update,Lat,Long_,Confirmed,Deaths,Recovered,Active,FIPS,Incident_Rate,Total_Test_Results,People_Hospitalized,Case_Fatality_Ratio,UID,ISO3,Testing_Rate,Hospitalization_Rate\r\n",
      "Alabama,US,2021-01-02 05:30:44,32.3182,-86.9023,365747,4872,202137.0,158738.0,1.0,7459.375895463867,3275341.0,,1.3320683423240656,84000001.0,USA,66800.27369964625,\r\n",
      "Alaska,US,2021-01-02 05:30:44,61.3707,-152.4044,47019,206,7165.0,39615.0,2.0,6422.844801071706,1275750.0,,0.4384284680543141,84000002.0,USA,174391.1857780451,\r\n",
      "American Samoa,US,2021-01-02 05:30:44,-14.271,-170.132,0,0,,0.0,60.0,0.0,2140.0,,,16.0,ASM,3846.084721698028,\r\n",
      "Arizona,US,2021-01-02 05:30:44,33.7298,-111.4312,530267,9015,76934.0,444318.0,4.0,7285.171274003372,5155330.0,,1.7000869373353424,84000004.0,USA,39551.860582022906,\r\n",
      "Arkansas,US,2021-01-02 05:30:44,34.9697,-92.3731,229442,3711,199247.0,26484.0,5.0,7602.945718144717,2051488.0,,1.6174022192972517,84000005.0,USA,67979.49767446793,\r\n",
      "California,US,2021-01-02 05:30:44,36.1162,-119.6816,2437211,26168,,2309915.0,6.0,5912.603297465698,33058311.0,,1.1251600354592777,84000006.0,USA,83666.03670970372,\r\n",
      "Colorado,US,2021-01-02 05:30:44,39.0598,-105.3111,337161,4873,18102.0,314186.0,8.0,5854.774381044729,4444206.0,,1.4453035790023163,84000008.0,USA,77173.28941628858,\r\n",
      "Connecticut,US,2021-01-02 05:30:44,41.5978,-72.7554,185708,5995,9800.0,169913.0,9.0,5208.781228551867,4320693.0,,3.2281861847631768,84000009.0,USA,121187.80339422885,\r\n",
      "Delaware,US,2021-01-02 05:30:44,39.3185,-75.5071,58064,1065,18851.0,38283.0,10.0,5962.841099075341,984606.0,,1.6016809038302562,84000010.0,USA,101113.41146314713,\r\n"
     ]
    }
   ],
   "source": [
    "!head cases_deaths.csv # printing the first 10 lines of the cases_deaths.csv file"
   ]
  },
  {
   "cell_type": "code",
   "execution_count": 94,
   "metadata": {},
   "outputs": [
    {
     "name": "stdout",
     "output_type": "stream",
     "text": [
      "| Province_State | Country_Region |         Last_Update |      Lat |     Long_ | Confirmed | Deaths | Recovered |  Active | FIPS | Incident_Rate | Total_Test_Results | People_Hospitalized | Case_Fatality_Ratio |        UID | ISO3 | Testing_Rate | Hospitalization_Rate |\r\n",
      "| -------------- | -------------- | ------------------- | -------- | --------- | --------- | ------ | --------- | ------- | ---- | ------------- | ------------------ | ------------------- | ------------------- | ---------- | ---- | ------------ | -------------------- |\r\n",
      "| Alabama        | US             | 2021-01-02 05:30:44 |  32.318… |  -86.902… |   365,747 |  4,872 |   202,137 | 158,738 |    1 |    7,459.376… |          3,275,341 |                     |              1.332… | 84,000,001 | USA  |  66,800.274… |                      |\r\n",
      "| Alaska         | US             | 2021-01-02 05:30:44 |  61.371… | -152.404… |    47,019 |    206 |     7,165 |  39,615 |    2 |    6,422.845… |          1,275,750 |                     |              0.438… | 84,000,002 | USA  | 174,391.186… |                      |\r\n",
      "| American Samoa | US             | 2021-01-02 05:30:44 | -14.271… | -170.132… |         0 |      0 |           |       0 |   60 |        0.000… |              2,140 |                     |                     |         16 | ASM  |   3,846.085… |                      |\r\n",
      "| Arizona        | US             | 2021-01-02 05:30:44 |  33.730… | -111.431… |   530,267 |  9,015 |    76,934 | 444,318 |    4 |    7,285.171… |          5,155,330 |                     |              1.700… | 84,000,004 | USA  |  39,551.861… |                      |\r\n"
     ]
    }
   ],
   "source": [
    "!head -5 cases_deaths.csv | csvlook # rendering the cases_deaths.csv file into a readable format "
   ]
  },
  {
   "cell_type": "code",
   "execution_count": 149,
   "metadata": {},
   "outputs": [
    {
     "name": "stdout",
     "output_type": "stream",
     "text": [
      "  1. \"Province_State\"\r\n",
      "\r\n",
      "\tType of data:          Text\r\n",
      "\tContains null values:  False\r\n",
      "\tUnique values:         58\r\n",
      "\tLongest value:         24 characters\r\n",
      "\tMost common values:    Alabama (18x)\r\n",
      "\t                       Alaska (18x)\r\n",
      "\t                       American Samoa (18x)\r\n",
      "\t                       Arizona (18x)\r\n",
      "\t                       Arkansas (18x)\r\n",
      "\r\n",
      "  2. \"Country_Region\"\r\n",
      "\r\n",
      "\tType of data:          Text\r\n",
      "\tContains null values:  False\r\n",
      "\tUnique values:         1\r\n",
      "\tLongest value:         2 characters\r\n",
      "\tMost common values:    US (999x)\r\n",
      "\r\n",
      "  3. \"Last_Update\"\r\n",
      "\r\n",
      "\tType of data:          DateTime\r\n",
      "\tContains null values:  False\r\n",
      "\tUnique values:         29\r\n",
      "\tSmallest value:        2021-01-02 05:30:44\r\n",
      "\tLargest value:         2021-01-19 09:30:34\r\n",
      "\tMost common values:    2021-01-02 05:30:44 (58x)\r\n",
      "\t                       2021-01-03 05:30:33 (58x)\r\n",
      "\t                       2021-01-04 05:30:45 (58x)\r\n",
      "\t                       2021-01-05 05:30:33 (58x)\r\n",
      "\t                       2021-01-06 05:30:39 (58x)\r\n",
      "\r\n",
      "  4. \"Lat\"\r\n",
      "\r\n",
      "\tType of data:          Number\r\n",
      "\tContains null values:  True (excluded from calculations)\r\n",
      "\tUnique values:         57\r\n",
      "\tSmallest value:        -14.271\r\n",
      "\tLargest value:         61.371\r\n",
      "\tSum:                   35,475.679\r\n",
      "\tMean:                  36.8\r\n",
      "\tMedian:                39.06\r\n",
      "\tStDev:                 10.89\r\n",
      "\tMost common values:    None (35x)\r\n",
      "\t                       32.318 (18x)\r\n",
      "\t                       61.371 (18x)\r\n",
      "\t                       -14.271 (18x)\r\n",
      "\t                       33.73 (18x)\r\n",
      "\r\n",
      "  5. \"Long_\"\r\n",
      "\r\n",
      "\tType of data:          Number\r\n",
      "\tContains null values:  True (excluded from calculations)\r\n",
      "\tUnique values:         57\r\n",
      "\tSmallest value:        -170.132\r\n",
      "\tLargest value:         145.674\r\n",
      "\tSum:                   -82,345.552\r\n",
      "\tMean:                  -85.421\r\n",
      "\tMedian:                -87.944\r\n",
      "\tStDev:                 49.178\r\n",
      "\tMost common values:    None (35x)\r\n",
      "\t                       -86.902 (18x)\r\n",
      "\t                       -152.404 (18x)\r\n",
      "\t                       -170.132 (18x)\r\n",
      "\t                       -111.431 (18x)\r\n",
      "\r\n",
      "  6. \"Confirmed\"\r\n",
      "\r\n",
      "\tType of data:          Number\r\n",
      "\tContains null values:  False\r\n",
      "\tUnique values:         893\r\n",
      "\tSmallest value:        0\r\n",
      "\tLargest value:         3,115,025\r\n",
      "\tSum:                   386,166,188\r\n",
      "\tMean:                  386,552.741\r\n",
      "\tMedian:                261,573\r\n",
      "\tStDev:                 493,664.938\r\n",
      "\tMost common values:    0 (18x)\r\n",
      "\t                       49 (18x)\r\n",
      "\t                       103 (17x)\r\n",
      "\t                       128 (7x)\r\n",
      "\t                       122 (5x)\r\n",
      "\r\n",
      "  7. \"Deaths\"\r\n",
      "\r\n",
      "\tType of data:          Number\r\n",
      "\tContains null values:  False\r\n",
      "\tUnique values:         802\r\n",
      "\tSmallest value:        0\r\n",
      "\tLargest value:         40,809\r\n",
      "\tSum:                   6,535,262\r\n",
      "\tMean:                  6,541.804\r\n",
      "\tMedian:                3,605\r\n",
      "\tStDev:                 8,329.278\r\n",
      "\tMost common values:    0 (36x)\r\n",
      "\t                       3 (17x)\r\n",
      "\t                       2 (17x)\r\n",
      "\t                       24 (14x)\r\n",
      "\t                       124 (8x)\r\n",
      "\r\n",
      "  8. \"Recovered\"\r\n",
      "\r\n",
      "\tType of data:          Number\r\n",
      "\tContains null values:  True (excluded from calculations)\r\n",
      "\tUnique values:         582\r\n",
      "\tSmallest value:        29\r\n",
      "\tLargest value:         1,677,588\r\n",
      "\tSum:                   149,500,426\r\n",
      "\tMean:                  181,212.638\r\n",
      "\tMedian:                78,690\r\n",
      "\tStDev:                 262,453.746\r\n",
      "\tMost common values:    None (174x)\r\n",
      "\t                       7,165 (18x)\r\n",
      "\t                       9,800 (18x)\r\n",
      "\t                       18,851 (18x)\r\n",
      "\t                       11,958 (17x)\r\n",
      "\r\n",
      "  9. \"Active\"\r\n",
      "\r\n",
      "\tType of data:          Number\r\n",
      "\tContains null values:  False\r\n",
      "\tUnique values:         882\r\n",
      "\tSmallest value:        0\r\n",
      "\tLargest value:         2,986,012\r\n",
      "\tSum:                   227,083,508\r\n",
      "\tMean:                  227,310.819\r\n",
      "\tMedian:                74,709\r\n",
      "\tStDev:                 431,514.871\r\n",
      "\tMost common values:    0 (18x)\r\n",
      "\t                       49 (18x)\r\n",
      "\t                       100 (17x)\r\n",
      "\t                       97 (7x)\r\n",
      "\t                       129 (6x)\r\n",
      "\r\n",
      " 10. \"FIPS\"\r\n",
      "\r\n",
      "\tType of data:          Number\r\n",
      "\tContains null values:  False\r\n",
      "\tUnique values:         58\r\n",
      "\tSmallest value:        1\r\n",
      "\tLargest value:         99,999\r\n",
      "\tSum:                   3,331,082\r\n",
      "\tMean:                  3,334.416\r\n",
      "\tMedian:                32\r\n",
      "\tStDev:                 17,369.903\r\n",
      "\tMost common values:    1 (18x)\r\n",
      "\t                       2 (18x)\r\n",
      "\t                       60 (18x)\r\n",
      "\t                       4 (18x)\r\n",
      "\t                       5 (18x)\r\n",
      "\r\n",
      " 11. \"Incident_Rate\"\r\n",
      "\r\n",
      "\tType of data:          Number\r\n",
      "\tContains null values:  True (excluded from calculations)\r\n",
      "\tUnique values:         889\r\n",
      "\tSmallest value:        0\r\n",
      "\tLargest value:         12,579.554\r\n",
      "\tSum:                   6,187,012.037\r\n",
      "\tMean:                  6,418.062\r\n",
      "\tMedian:                6,820.32\r\n",
      "\tStDev:                 2,616.075\r\n",
      "\tMost common values:    None (35x)\r\n",
      "\t                       0 (18x)\r\n",
      "\t                       232.12 (7x)\r\n",
      "\t                       221.239 (5x)\r\n",
      "\t                       226.679 (5x)\r\n",
      "\r\n",
      " 12. \"Total_Test_Results\"\r\n",
      "\r\n",
      "\tType of data:          Number\r\n",
      "\tContains null values:  True (excluded from calculations)\r\n",
      "\tUnique values:         869\r\n",
      "\tSmallest value:        2,140\r\n",
      "\tLargest value:         38,655,756\r\n",
      "\tSum:                   4,754,609,342\r\n",
      "\tMean:                  4,932,167.367\r\n",
      "\tMedian:                2,811,352.5\r\n",
      "\tStDev:                 6,505,554.376\r\n",
      "\tMost common values:    None (35x)\r\n",
      "\t                       2,140 (18x)\r\n",
      "\t                       17,557 (6x)\r\n",
      "\t                       17,551 (5x)\r\n",
      "\t                       17,554 (5x)\r\n",
      "\r\n",
      " 13. \"People_Hospitalized\"\r\n",
      "\r\n",
      "\tType of data:          Boolean\r\n",
      "\tContains null values:  True (excluded from calculations)\r\n",
      "\tUnique values:         1\r\n",
      "\tMost common values:    None (999x)\r\n",
      "\r\n",
      " 14. \"Case_Fatality_Ratio\"\r\n",
      "\r\n",
      "\tType of data:          Number\r\n",
      "\tContains null values:  True (excluded from calculations)\r\n",
      "\tUnique values:         890\r\n",
      "\tSmallest value:        0\r\n",
      "\tLargest value:         3.968\r\n",
      "\tSum:                   1,583.223\r\n",
      "\tMean:                  1.614\r\n",
      "\tMedian:                1.501\r\n",
      "\tStDev:                 0.695\r\n",
      "\tMost common values:    None (18x)\r\n",
      "\t                       0 (18x)\r\n",
      "\t                       2.913 (17x)\r\n",
      "\t                       1.562 (7x)\r\n",
      "\t                       1.639 (5x)\r\n",
      "\r\n",
      " 15. \"UID\"\r\n",
      "\r\n",
      "\tType of data:          Number\r\n",
      "\tContains null values:  False\r\n",
      "\tUnique values:         58\r\n",
      "\tSmallest value:        16\r\n",
      "\tLargest value:         84,099,999\r\n",
      "\tSum:                   76,695,365,837\r\n",
      "\tMean:                  76,772,137.975\r\n",
      "\tMedian:                84,000,027\r\n",
      "\tStDev:                 23,573,951.576\r\n",
      "\tMost common values:    84,000,001 (18x)\r\n",
      "\t                       84,000,002 (18x)\r\n",
      "\t                       16 (18x)\r\n",
      "\t                       84,000,004 (18x)\r\n",
      "\t                       84,000,005 (18x)\r\n",
      "\r\n",
      " 16. \"ISO3\"\r\n",
      "\r\n",
      "\tType of data:          Text\r\n",
      "\tContains null values:  False\r\n",
      "\tUnique values:         6\r\n",
      "\tLongest value:         3 characters\r\n",
      "\tMost common values:    USA (913x)\r\n",
      "\t                       ASM (18x)\r\n",
      "\t                       GUM (17x)\r\n",
      "\t                       MNP (17x)\r\n",
      "\t                       PRI (17x)\r\n",
      "\r\n",
      " 17. \"Testing_Rate\"\r\n",
      "\r\n",
      "\tType of data:          Number\r\n",
      "\tContains null values:  True (excluded from calculations)\r\n",
      "\tUnique values:         869\r\n",
      "\tSmallest value:        3,846.085\r\n",
      "\tLargest value:         211,664.862\r\n",
      "\tSum:                   78,804,978.8\r\n",
      "\tMean:                  81,747.903\r\n",
      "\tMedian:                76,097.349\r\n",
      "\tStDev:                 39,100.621\r\n",
      "\tMost common values:    None (35x)\r\n",
      "\t                       3,846.085 (18x)\r\n",
      "\t                       31,838.459 (6x)\r\n",
      "\t                       31,827.579 (5x)\r\n",
      "\t                       31,833.019 (5x)\r\n",
      "\r\n",
      " 18. \"Hospitalization_Rate\"\r\n",
      "\r\n",
      "\tType of data:          Boolean\r\n",
      "\tContains null values:  True (excluded from calculations)\r\n",
      "\tUnique values:         1\r\n",
      "\tMost common values:    None (999x)\r\n",
      "\r\n",
      "Row count: 999\r\n"
     ]
    }
   ],
   "source": [
    "!head -n 1000 cases_deaths.csv | csvstat # printing the descriptive statistics for the first 1000 lines of the cases_deaths.csv file "
   ]
  },
  {
   "cell_type": "markdown",
   "metadata": {},
   "source": [
    "#### Collecting Vaccine Dataset"
   ]
  },
  {
   "cell_type": "code",
   "execution_count": 6,
   "metadata": {},
   "outputs": [
    {
     "name": "stdout",
     "output_type": "stream",
     "text": [
      "--2021-11-27 13:59:18--  https://raw.githubusercontent.com/govex/COVID-19/master/data_tables/vaccine_data/us_data/time_series/vaccine_data_us_timeline.csv\n",
      "Resolving raw.githubusercontent.com (raw.githubusercontent.com)... 185.199.108.133, 185.199.111.133, 185.199.109.133, ...\n",
      "Connecting to raw.githubusercontent.com (raw.githubusercontent.com)|185.199.108.133|:443... connected.\n",
      "HTTP request sent, awaiting response... 200 OK\n",
      "Length: 10315455 (9.8M) [text/plain]\n",
      "Saving to: 'vaccine_data_us_timeline.csv’\n",
      "\n",
      "vaccine_data_us_tim 100%[===================>]   9.84M   362KB/s    in 27s     \n",
      "\n",
      "2021-11-27 13:59:47 (366 KB/s) - 'vaccine_data_us_timeline.csv’ saved [10315455/10315455]\n",
      "\n"
     ]
    }
   ],
   "source": [
    "!wget https://raw.githubusercontent.com/govex/COVID-19/master/data_tables/vaccine_data/us_data/time_series/vaccine_data_us_timeline.csv"
   ]
  },
  {
   "cell_type": "code",
   "execution_count": 7,
   "metadata": {},
   "outputs": [],
   "source": [
    "!mv vaccine_data_us_timeline.csv vaccine.csv"
   ]
  },
  {
   "cell_type": "code",
   "execution_count": 2,
   "metadata": {},
   "outputs": [
    {
     "name": "stdout",
     "output_type": "stream",
     "text": [
      "115883 vaccine.csv\r\n"
     ]
    }
   ],
   "source": [
    "!wc -l vaccine.csv"
   ]
  },
  {
   "cell_type": "code",
   "execution_count": 3,
   "metadata": {},
   "outputs": [
    {
     "name": "stdout",
     "output_type": "stream",
     "text": [
      "  1: Province_State\r\n",
      "  2: Date\r\n",
      "  3: Vaccine_Type\r\n",
      "  4: FIPS\r\n",
      "  5: Country_Region\r\n",
      "  6: Lat\r\n",
      "  7: Long_\r\n",
      "  8: Doses_alloc\r\n",
      "  9: Doses_shipped\r\n",
      " 10: Doses_admin\r\n",
      " 11: Stage_One_Doses\r\n",
      " 12: Stage_Two_Doses\r\n",
      " 13: Combined_Key\r\n"
     ]
    }
   ],
   "source": [
    "!head vaccine.csv | csvcut -n"
   ]
  },
  {
   "cell_type": "code",
   "execution_count": 4,
   "metadata": {},
   "outputs": [
    {
     "name": "stdout",
     "output_type": "stream",
     "text": [
      "| Province_State |       Date | Vaccine_Type | FIPS | Country_Region |     Lat |    Long_ | Doses_alloc | Doses_shipped | Doses_admin | Stage_One_Doses | Stage_Two_Doses | Combined_Key |\r\n",
      "| -------------- | ---------- | ------------ | ---- | -------------- | ------- | -------- | ----------- | ------------- | ----------- | --------------- | --------------- | ------------ |\r\n",
      "| Alabama        | 2020-12-10 | All          | True | US             | 32.318… | -86.902… |             |               |             |                 |                 | Alabama, US  |\r\n",
      "| Alabama        | 2020-12-10 | Moderna      | True | US             | 32.318… | -86.902… |             |               |             |                 |                 | Alabama, US  |\r\n",
      "| Alabama        | 2020-12-10 | Pfizer       | True | US             | 32.318… | -86.902… |             |               |             |                 |                 | Alabama, US  |\r\n",
      "| Alabama        | 2020-12-11 | All          | True | US             | 32.318… | -86.902… |             |               |             |                 |                 | Alabama, US  |\r\n"
     ]
    }
   ],
   "source": [
    "!head -5 vaccine.csv | csvlook"
   ]
  },
  {
   "cell_type": "code",
   "execution_count": 5,
   "metadata": {},
   "outputs": [
    {
     "name": "stdout",
     "output_type": "stream",
     "text": [
      "  1. \"Province_State\"\r\n",
      "\r\n",
      "\tType of data:          Text\r\n",
      "\tContains null values:  False\r\n",
      "\tUnique values:         1\r\n",
      "\tLongest value:         7 characters\r\n",
      "\tMost common values:    Alabama (999x)\r\n",
      "\r\n",
      "  2. \"Date\"\r\n",
      "\r\n",
      "\tType of data:          Date\r\n",
      "\tContains null values:  False\r\n",
      "\tUnique values:         198\r\n",
      "\tSmallest value:        2020-12-10\r\n",
      "\tLargest value:         2021-06-25\r\n",
      "\tMost common values:    2021-03-15 (6x)\r\n",
      "\t                       2021-03-16 (6x)\r\n",
      "\t                       2021-03-17 (6x)\r\n",
      "\t                       2021-03-18 (6x)\r\n",
      "\t                       2021-03-19 (6x)\r\n",
      "\r\n",
      "  3. \"Vaccine_Type\"\r\n",
      "\r\n",
      "\tType of data:          Text\r\n",
      "\tContains null values:  False\r\n",
      "\tUnique values:         6\r\n",
      "\tLongest value:         10 characters\r\n",
      "\tMost common values:    All (198x)\r\n",
      "\t                       Moderna (198x)\r\n",
      "\t                       Pfizer (198x)\r\n",
      "\t                       Unassigned (194x)\r\n",
      "\t                       Janssen (109x)\r\n",
      "\r\n",
      "  4. \"FIPS\"\r\n",
      "\r\n",
      "\tType of data:          Boolean\r\n",
      "\tContains null values:  False\r\n",
      "\tUnique values:         1\r\n",
      "\tMost common values:    True (999x)\r\n",
      "\r\n",
      "  5. \"Country_Region\"\r\n",
      "\r\n",
      "\tType of data:          Text\r\n",
      "\tContains null values:  False\r\n",
      "\tUnique values:         1\r\n",
      "\tLongest value:         2 characters\r\n",
      "\tMost common values:    US (999x)\r\n",
      "\r\n",
      "  6. \"Lat\"\r\n",
      "\r\n",
      "\tType of data:          Number\r\n",
      "\tContains null values:  False\r\n",
      "\tUnique values:         1\r\n",
      "\tSmallest value:        32.318\r\n",
      "\tLargest value:         32.318\r\n",
      "\tSum:                   32,285.882\r\n",
      "\tMean:                  32.318\r\n",
      "\tMedian:                32.318\r\n",
      "\tStDev:                 0\r\n",
      "\tMost common values:    32.318 (999x)\r\n",
      "\r\n",
      "  7. \"Long_\"\r\n",
      "\r\n",
      "\tType of data:          Number\r\n",
      "\tContains null values:  False\r\n",
      "\tUnique values:         1\r\n",
      "\tSmallest value:        -86.902\r\n",
      "\tLargest value:         -86.902\r\n",
      "\tSum:                   -86,815.398\r\n",
      "\tMean:                  -86.902\r\n",
      "\tMedian:                -86.902\r\n",
      "\tStDev:                 0\r\n",
      "\tMost common values:    -86.902 (999x)\r\n",
      "\r\n",
      "  8. \"Doses_alloc\"\r\n",
      "\r\n",
      "\tType of data:          Number\r\n",
      "\tContains null values:  True (excluded from calculations)\r\n",
      "\tUnique values:         11\r\n",
      "\tSmallest value:        0\r\n",
      "\tLargest value:         640,150\r\n",
      "\tSum:                   50,096,300\r\n",
      "\tMean:                  246,779.803\r\n",
      "\tMedian:                40,950\r\n",
      "\tStDev:                 261,263.274\r\n",
      "\tMost common values:    None (796x)\r\n",
      "\t                       40,950 (89x)\r\n",
      "\t                       640,150 (32x)\r\n",
      "\t                       599,200 (32x)\r\n",
      "\t                       0 (14x)\r\n",
      "\r\n",
      "  9. \"Doses_shipped\"\r\n",
      "\r\n",
      "\tType of data:          Number\r\n",
      "\tContains null values:  True (excluded from calculations)\r\n",
      "\tUnique values:         230\r\n",
      "\tSmallest value:        0\r\n",
      "\tLargest value:         4,783,230\r\n",
      "\tSum:                   911,016,480\r\n",
      "\tMean:                  1,436,934.511\r\n",
      "\tMedian:                1,170,120\r\n",
      "\tStDev:                 1,395,483.047\r\n",
      "\tMost common values:    None (365x)\r\n",
      "\t                       0 (155x)\r\n",
      "\t                       244,000 (15x)\r\n",
      "\t                       993,715 (12x)\r\n",
      "\t                       281,100 (12x)\r\n",
      "\r\n",
      " 10. \"Doses_admin\"\r\n",
      "\r\n",
      "\tType of data:          Number\r\n",
      "\tContains null values:  True (excluded from calculations)\r\n",
      "\tUnique values:         548\r\n",
      "\tSmallest value:        0\r\n",
      "\tLargest value:         3,308,961\r\n",
      "\tSum:                   594,716,601\r\n",
      "\tMean:                  635,380.984\r\n",
      "\tMedian:                153,924\r\n",
      "\tStDev:                 845,047.553\r\n",
      "\tMost common values:    0 (191x)\r\n",
      "\t                       None (63x)\r\n",
      "\t                       605,280 (23x)\r\n",
      "\t                       668,848 (23x)\r\n",
      "\t                       5,181 (20x)\r\n",
      "\r\n",
      " 11. \"Stage_One_Doses\"\r\n",
      "\r\n",
      "\tType of data:          Number\r\n",
      "\tContains null values:  True (excluded from calculations)\r\n",
      "\tUnique values:         288\r\n",
      "\tSmallest value:        5,181\r\n",
      "\tLargest value:         1,928,903\r\n",
      "\tSum:                   359,256,279\r\n",
      "\tMean:                  786,118.772\r\n",
      "\tMedian:                674,810\r\n",
      "\tStDev:                 701,348.406\r\n",
      "\tMost common values:    None (542x)\r\n",
      "\t                       20,354 (86x)\r\n",
      "\t                       5,181 (20x)\r\n",
      "\t                       474,065 (4x)\r\n",
      "\t                       378,514 (2x)\r\n",
      "\r\n",
      " 12. \"Stage_Two_Doses\"\r\n",
      "\r\n",
      "\tType of data:          Number\r\n",
      "\tContains null values:  True (excluded from calculations)\r\n",
      "\tUnique values:         322\r\n",
      "\tSmallest value:        42\r\n",
      "\tLargest value:         1,462,435\r\n",
      "\tSum:                   232,802,584\r\n",
      "\tMean:                  541,401.358\r\n",
      "\tMedian:                553,086.5\r\n",
      "\tStDev:                 397,344.106\r\n",
      "\tMost common values:    None (569x)\r\n",
      "\t                       591,616 (6x)\r\n",
      "\t                       43 (6x)\r\n",
      "\t                       60 (5x)\r\n",
      "\t                       87 (5x)\r\n",
      "\r\n",
      " 13. \"Combined_Key\"\r\n",
      "\r\n",
      "\tType of data:          Text\r\n",
      "\tContains null values:  False\r\n",
      "\tUnique values:         1\r\n",
      "\tLongest value:         11 characters\r\n",
      "\tMost common values:    Alabama, US (999x)\r\n",
      "\r\n",
      "Row count: 999\r\n"
     ]
    }
   ],
   "source": [
    "!head -n 1000 vaccine.csv | csvstat"
   ]
  },
  {
   "cell_type": "markdown",
   "metadata": {},
   "source": [
    "#### Collecting People Vaccinated Dataset"
   ]
  },
  {
   "cell_type": "code",
   "execution_count": 12,
   "metadata": {},
   "outputs": [
    {
     "name": "stdout",
     "output_type": "stream",
     "text": [
      "--2021-11-27 14:01:27--  https://raw.githubusercontent.com/govex/COVID-19/master/data_tables/vaccine_data/us_data/time_series/people_vaccinated_us_timeline.csv\n",
      "Resolving raw.githubusercontent.com (raw.githubusercontent.com)... 185.199.108.133, 185.199.111.133, 185.199.109.133, ...\n",
      "Connecting to raw.githubusercontent.com (raw.githubusercontent.com)|185.199.108.133|:443... connected.\n",
      "HTTP request sent, awaiting response... 200 OK\n",
      "Length: 1581333 (1.5M) [text/plain]\n",
      "Saving to: 'people_vaccinated_us_timeline.csv’\n",
      "\n",
      "people_vaccinated_u 100%[===================>]   1.51M   974KB/s    in 1.6s    \n",
      "\n",
      "2021-11-27 14:01:30 (974 KB/s) - 'people_vaccinated_us_timeline.csv’ saved [1581333/1581333]\n",
      "\n"
     ]
    }
   ],
   "source": [
    "!wget https://raw.githubusercontent.com/govex/COVID-19/master/data_tables/vaccine_data/us_data/time_series/people_vaccinated_us_timeline.csv"
   ]
  },
  {
   "cell_type": "code",
   "execution_count": 13,
   "metadata": {},
   "outputs": [],
   "source": [
    "!mv people_vaccinated_us_timeline.csv people_vaccinated.csv"
   ]
  },
  {
   "cell_type": "code",
   "execution_count": 14,
   "metadata": {},
   "outputs": [
    {
     "name": "stdout",
     "output_type": "stream",
     "text": [
      "21373 people_vaccinated.csv\r\n"
     ]
    }
   ],
   "source": [
    "!wc -l people_vaccinated.csv"
   ]
  },
  {
   "cell_type": "code",
   "execution_count": 59,
   "metadata": {},
   "outputs": [
    {
     "name": "stdout",
     "output_type": "stream",
     "text": [
      "  1: FIPS\r\n",
      "  2: Province_State\r\n",
      "  3: Country_Region\r\n",
      "  4: Date\r\n",
      "  5: Lat\r\n",
      "  6: Long_\r\n",
      "  7: Combined_Key\r\n",
      "  8: People_Fully_Vaccinated\r\n",
      "  9: People_Partially_Vaccinated\r\n"
     ]
    }
   ],
   "source": [
    "!head people_vaccinated.csv | csvcut -n"
   ]
  },
  {
   "cell_type": "code",
   "execution_count": 16,
   "metadata": {},
   "outputs": [
    {
     "name": "stdout",
     "output_type": "stream",
     "text": [
      "/bin/bash: csvlook: command not found\r\n",
      "head: write error: Broken pipe\r\n"
     ]
    }
   ],
   "source": [
    "!head -5 people_vaccinated.csv | csvlook"
   ]
  },
  {
   "cell_type": "code",
   "execution_count": 61,
   "metadata": {},
   "outputs": [
    {
     "name": "stdout",
     "output_type": "stream",
     "text": [
      "  1. \"FIPS\"\r\n",
      "\r\n",
      "\tType of data:          Number\r\n",
      "\tContains null values:  False\r\n",
      "\tUnique values:         3\r\n",
      "\tSmallest value:        1\r\n",
      "\tLargest value:         60\r\n",
      "\tSum:                   18,873\r\n",
      "\tMean:                  18.892\r\n",
      "\tMedian:                2\r\n",
      "\tStDev:                 26.755\r\n",
      "\tMost common values:    1 (351x)\r\n",
      "\t                       2 (351x)\r\n",
      "\t                       60 (297x)\r\n",
      "\r\n",
      "  2. \"Province_State\"\r\n",
      "\r\n",
      "\tType of data:          Text\r\n",
      "\tContains null values:  False\r\n",
      "\tUnique values:         3\r\n",
      "\tLongest value:         14 characters\r\n",
      "\tMost common values:    Alabama (351x)\r\n",
      "\t                       Alaska (351x)\r\n",
      "\t                       American Samoa (297x)\r\n",
      "\r\n",
      "  3. \"Country_Region\"\r\n",
      "\r\n",
      "\tType of data:          Text\r\n",
      "\tContains null values:  False\r\n",
      "\tUnique values:         1\r\n",
      "\tLongest value:         2 characters\r\n",
      "\tMost common values:    US (999x)\r\n",
      "\r\n",
      "  4. \"Date\"\r\n",
      "\r\n",
      "\tType of data:          Date\r\n",
      "\tContains null values:  False\r\n",
      "\tUnique values:         351\r\n",
      "\tSmallest value:        2020-12-10\r\n",
      "\tLargest value:         2021-11-25\r\n",
      "\tMost common values:    2020-12-10 (3x)\r\n",
      "\t                       2020-12-11 (3x)\r\n",
      "\t                       2020-12-12 (3x)\r\n",
      "\t                       2020-12-13 (3x)\r\n",
      "\t                       2020-12-14 (3x)\r\n",
      "\r\n",
      "  5. \"Lat\"\r\n",
      "\r\n",
      "\tType of data:          Number\r\n",
      "\tContains null values:  False\r\n",
      "\tUnique values:         3\r\n",
      "\tSmallest value:        -14.271\r\n",
      "\tLargest value:         61.371\r\n",
      "\tSum:                   28,646.317\r\n",
      "\tMean:                  28.675\r\n",
      "\tMedian:                32.318\r\n",
      "\tStDev:                 30.488\r\n",
      "\tMost common values:    32.318 (351x)\r\n",
      "\t                       61.371 (351x)\r\n",
      "\t                       -14.271 (297x)\r\n",
      "\r\n",
      "  6. \"Long_\"\r\n",
      "\r\n",
      "\tType of data:          Number\r\n",
      "\tContains null values:  False\r\n",
      "\tUnique values:         3\r\n",
      "\tSmallest value:        -170.132\r\n",
      "\tLargest value:         -86.902\r\n",
      "\tSum:                   -134,525.856\r\n",
      "\tMean:                  -134.661\r\n",
      "\tMedian:                -152.404\r\n",
      "\tStDev:                 35.88\r\n",
      "\tMost common values:    -86.902 (351x)\r\n",
      "\t                       -152.404 (351x)\r\n",
      "\t                       -170.132 (297x)\r\n",
      "\r\n",
      "  7. \"Combined_Key\"\r\n",
      "\r\n",
      "\tType of data:          Text\r\n",
      "\tContains null values:  False\r\n",
      "\tUnique values:         3\r\n",
      "\tLongest value:         18 characters\r\n",
      "\tMost common values:    Alabama, US (351x)\r\n",
      "\t                       Alaska, US (351x)\r\n",
      "\t                       American Samoa, US (297x)\r\n",
      "\r\n",
      "  8. \"People_Fully_Vaccinated\"\r\n",
      "\r\n",
      "\tType of data:          Number\r\n",
      "\tContains null values:  True (excluded from calculations)\r\n",
      "\tUnique values:         666\r\n",
      "\tSmallest value:        770\r\n",
      "\tLargest value:         2,254,666\r\n",
      "\tSum:                   507,702,590\r\n",
      "\tMean:                  586,939.41\r\n",
      "\tMedian:                310,148\r\n",
      "\tStDev:                 722,391.277\r\n",
      "\tMost common values:    None (134x)\r\n",
      "\t                       26,666 (8x)\r\n",
      "\t                       2,139,547 (6x)\r\n",
      "\t                       284,705 (6x)\r\n",
      "\t                       375,260 (6x)\r\n",
      "\r\n",
      "  9. \"People_Partially_Vaccinated\"\r\n",
      "\r\n",
      "\tType of data:          Number\r\n",
      "\tContains null values:  True (excluded from calculations)\r\n",
      "\tUnique values:         733\r\n",
      "\tSmallest value:        3,137\r\n",
      "\tLargest value:         567,613\r\n",
      "\tSum:                   145,534,458\r\n",
      "\tMean:                  168,247.928\r\n",
      "\tMedian:                50,979\r\n",
      "\tStDev:                 198,703.863\r\n",
      "\tMost common values:    None (134x)\r\n",
      "\t                       477,125 (6x)\r\n",
      "\t                       49,284 (6x)\r\n",
      "\t                       5,149 (6x)\r\n",
      "\t                       4,929 (5x)\r\n",
      "\r\n",
      "Row count: 999\r\n"
     ]
    }
   ],
   "source": [
    "!head -n 1000 people_vaccinated.csv | csvstat"
   ]
  },
  {
   "cell_type": "markdown",
   "metadata": {},
   "source": [
    "#### Collecting Testing Dataset "
   ]
  },
  {
   "cell_type": "code",
   "execution_count": 19,
   "metadata": {},
   "outputs": [
    {
     "name": "stdout",
     "output_type": "stream",
     "text": [
      "--2021-11-27 14:05:12--  https://raw.githubusercontent.com/govex/COVID-19/master/data_tables/testing_data/time_series_covid19_US.csv\n",
      "Resolving raw.githubusercontent.com (raw.githubusercontent.com)... 185.199.108.133, 185.199.110.133, 185.199.109.133, ...\n",
      "Connecting to raw.githubusercontent.com (raw.githubusercontent.com)|185.199.108.133|:443... connected.\n",
      "HTTP request sent, awaiting response... 200 OK\n",
      "Length: 2267428 (2.2M) [text/plain]\n",
      "Saving to: 'time_series_covid19_US.csv’\n",
      "\n",
      "time_series_covid19 100%[===================>]   2.16M   571KB/s    in 4.3s    \n",
      "\n",
      "2021-11-27 14:05:18 (516 KB/s) - 'time_series_covid19_US.csv’ saved [2267428/2267428]\n",
      "\n"
     ]
    }
   ],
   "source": [
    "!wget https://raw.githubusercontent.com/govex/COVID-19/master/data_tables/testing_data/time_series_covid19_US.csv"
   ]
  },
  {
   "cell_type": "code",
   "execution_count": 20,
   "metadata": {},
   "outputs": [],
   "source": [
    "!mv time_series_covid19_US.csv testing.csv"
   ]
  },
  {
   "cell_type": "code",
   "execution_count": 6,
   "metadata": {},
   "outputs": [
    {
     "name": "stdout",
     "output_type": "stream",
     "text": [
      "35509 testing.csv\r\n"
     ]
    }
   ],
   "source": [
    "!wc -l testing.csv"
   ]
  },
  {
   "cell_type": "code",
   "execution_count": 7,
   "metadata": {},
   "outputs": [
    {
     "name": "stdout",
     "output_type": "stream",
     "text": [
      "  1: date\n",
      "  2: state\n",
      "  3: cases_conf_probable\n",
      "  4: cases_confirmed\n",
      "  5: cases_probable\n",
      "  6: tests_viral_positive\n",
      "  7: tests_viral_negative\n",
      "  8: tests_viral_total\n",
      "  9: tests_antigen_positive\n",
      " 10: tests_antigen_total\n",
      " 11: people_viral_positive\n",
      " 12: people_viral_total\n",
      " 13: people_antigen_positive\n",
      " 14: people_antigen_total\n",
      " 15: encounters_viral_total\n",
      " 16: tests_combined_total\n"
     ]
    }
   ],
   "source": [
    "!head testing.csv | csvcut -n"
   ]
  },
  {
   "cell_type": "code",
   "execution_count": 8,
   "metadata": {},
   "outputs": [
    {
     "name": "stdout",
     "output_type": "stream",
     "text": [
      "|       date | state | cases_conf_probable | cases_confirmed | cases_probable | tests_viral_positive | tests_viral_negative | tests_viral_total | tests_antigen_positive | tests_antigen_total | people_viral_positive | people_viral_total | people_antigen_positive | people_antigen_total | encounters_viral_total | tests_combined_total |\r\n",
      "| ---------- | ----- | ------------------- | --------------- | -------------- | -------------------- | -------------------- | ----------------- | ---------------------- | ------------------- | --------------------- | ------------------ | ----------------------- | -------------------- | ---------------------- | -------------------- |\r\n",
      "| 2020-03-06 | AK    |                     |                 |                |                      |                      |                 8 |                        |                     |                       |                    |                         |                      |                        |                    8 |\r\n",
      "| 2020-03-07 | AK    |                     |                 |                |                      |                      |                12 |                        |                     |                       |                    |                         |                      |                        |                   12 |\r\n",
      "| 2020-03-08 | AK    |                     |                 |                |                      |                      |                14 |                        |                     |                       |                    |                         |                      |                        |                   14 |\r\n",
      "| 2020-03-09 | AK    |                     |                 |                |                      |                      |                23 |                        |                     |                       |                    |                         |                      |                        |                   23 |\r\n"
     ]
    }
   ],
   "source": [
    "!head -5 testing.csv | csvlook"
   ]
  },
  {
   "cell_type": "code",
   "execution_count": 23,
   "metadata": {},
   "outputs": [
    {
     "name": "stdout",
     "output_type": "stream",
     "text": [
      "  1. \"date\"\n",
      "\n",
      "\tType of data:          Date\n",
      "\tContains null values:  False\n",
      "\tUnique values:         600\n",
      "\tSmallest value:        2020-03-06\n",
      "\tLargest value:         2021-10-26\n",
      "\tMost common values:    2020-03-07 (2x)\n",
      "\t                       2020-03-08 (2x)\n",
      "\t                       2020-03-09 (2x)\n",
      "\t                       2020-03-10 (2x)\n",
      "\t                       2020-03-11 (2x)\n",
      "\n",
      "  2. \"state\"\n",
      "\n",
      "\tType of data:          Text\n",
      "\tContains null values:  False\n",
      "\tUnique values:         2\n",
      "\tLongest value:         2 characters\n",
      "\tMost common values:    AK (600x)\n",
      "\t                       AL (399x)\n",
      "\n",
      "  3. \"cases_conf_probable\"\n",
      "\n",
      "\tType of data:          Number\n",
      "\tContains null values:  True (excluded from calculations)\n",
      "\tUnique values:         872\n",
      "\tSmallest value:        0\n",
      "\tLargest value:         518234\n",
      "\tSum:                   103854382\n",
      "\tMean:                  105115.771255\n",
      "\tMedian:                60399\n",
      "\tStDev:                 140925.470189\n",
      "\tMost common values:    None (11x)\n",
      "\t                       0 (6x)\n",
      "\t                       71035 (5x)\n",
      "\t                       71384 (5x)\n",
      "\t                       90642 (5x)\n",
      "\n",
      "  4. \"cases_confirmed\"\n",
      "\n",
      "\tType of data:          Number\n",
      "\tContains null values:  True (excluded from calculations)\n",
      "\tUnique values:         123\n",
      "\tSmallest value:        64782\n",
      "\tLargest value:         403401\n",
      "\tSum:                   17175147\n",
      "\tMean:                  85025.480198\n",
      "\tMedian:                72669.5\n",
      "\tStDev:                 29944.260285\n",
      "\tMost common values:    None (797x)\n",
      "\t                       71035 (5x)\n",
      "\t                       71384 (5x)\n",
      "\t                       90642 (5x)\n",
      "\t                       70208 (4x)\n",
      "\n",
      "  5. \"cases_probable\"\n",
      "\n",
      "\tType of data:          Number\n",
      "\tContains null values:  True (excluded from calculations)\n",
      "\tUnique values:         3\n",
      "\tSmallest value:        0\n",
      "\tLargest value:         114833\n",
      "\tSum:                   114833\n",
      "\tMean:                  568.480198\n",
      "\tMedian:                0\n",
      "\tStDev:                 8079.621685\n",
      "\tMost common values:    None (797x)\n",
      "\t                       0 (201x)\n",
      "\t                       114833 (1x)\n",
      "\n",
      "  6. \"tests_viral_positive\"\n",
      "\n",
      "\tType of data:          Number\n",
      "\tContains null values:  True (excluded from calculations)\n",
      "\tUnique values:         337\n",
      "\tSmallest value:        4024\n",
      "\tLargest value:         154360\n",
      "\tSum:                   28691569\n",
      "\tMean:                  64186.955257\n",
      "\tMedian:                70406\n",
      "\tStDev:                 37747.298055\n",
      "\tMost common values:    None (552x)\n",
      "\t                       81975 (5x)\n",
      "\t                       104923 (5x)\n",
      "\t                       130784 (5x)\n",
      "\t                       65613 (4x)\n",
      "\n",
      "  7. \"tests_viral_negative\"\n",
      "\n",
      "\tType of data:          Number\n",
      "\tContains null values:  True (excluded from calculations)\n",
      "\tUnique values:         339\n",
      "\tSmallest value:        253987\n",
      "\tLargest value:         3128936\n",
      "\tSum:                   735479362\n",
      "\tMean:                  1645367.700224\n",
      "\tMedian:                1739746\n",
      "\tStDev:                 837402.637648\n",
      "\tMost common values:    None (552x)\n",
      "\t                       2297458 (5x)\n",
      "\t                       2664548 (5x)\n",
      "\t                       1517076 (4x)\n",
      "\t                       1799056 (4x)\n",
      "\n",
      "  8. \"tests_viral_total\"\n",
      "\n",
      "\tType of data:          Number\n",
      "\tContains null values:  False\n",
      "\tUnique values:         881\n",
      "\tSmallest value:        8\n",
      "\tLargest value:         4337300\n",
      "\tSum:                   1531248511\n",
      "\tMean:                  1532781.292292\n",
      "\tMedian:                1457053\n",
      "\tStDev:                 1259038.377999\n",
      "\tMost common values:    2382952 (5x)\n",
      "\t                       2773181 (5x)\n",
      "\t                       1584548 (4x)\n",
      "\t                       1873407 (4x)\n",
      "\t                       2262583 (4x)\n",
      "\n",
      "  9. \"tests_antigen_positive\"\n",
      "\n",
      "\tType of data:          Boolean\n",
      "\tContains null values:  True (excluded from calculations)\n",
      "\tUnique values:         1\n",
      "\tMost common values:    None (999x)\n",
      "\n",
      " 10. \"tests_antigen_total\"\n",
      "\n",
      "\tType of data:          Boolean\n",
      "\tContains null values:  True (excluded from calculations)\n",
      "\tUnique values:         1\n",
      "\tMost common values:    None (999x)\n",
      "\n",
      " 11. \"people_viral_positive\"\n",
      "\n",
      "\tType of data:          Number\n",
      "\tContains null values:  True (excluded from calculations)\n",
      "\tUnique values:         871\n",
      "\tSmallest value:        0\n",
      "\tLargest value:         403401\n",
      "\tSum:                   89803393\n",
      "\tMean:                  90894.12247\n",
      "\tMedian:                60207\n",
      "\tStDev:                 110592.904189\n",
      "\tMost common values:    None (11x)\n",
      "\t                       0 (6x)\n",
      "\t                       71035 (5x)\n",
      "\t                       71384 (5x)\n",
      "\t                       90642 (5x)\n",
      "\n",
      " 12. \"people_viral_total\"\n",
      "\n",
      "\tType of data:          Boolean\n",
      "\tContains null values:  True (excluded from calculations)\n",
      "\tUnique values:         1\n",
      "\tMost common values:    None (999x)\n",
      "\n",
      " 13. \"people_antigen_positive\"\n",
      "\n",
      "\tType of data:          Boolean\n",
      "\tContains null values:  True (excluded from calculations)\n",
      "\tUnique values:         1\n",
      "\tMost common values:    None (999x)\n",
      "\n",
      " 14. \"people_antigen_total\"\n",
      "\n",
      "\tType of data:          Boolean\n",
      "\tContains null values:  True (excluded from calculations)\n",
      "\tUnique values:         1\n",
      "\tMost common values:    None (999x)\n",
      "\n",
      " 15. \"encounters_viral_total\"\n",
      "\n",
      "\tType of data:          Boolean\n",
      "\tContains null values:  True (excluded from calculations)\n",
      "\tUnique values:         1\n",
      "\tMost common values:    None (999x)\n",
      "\n",
      " 16. \"tests_combined_total\"\n",
      "\n",
      "\tType of data:          Number\n",
      "\tContains null values:  False\n",
      "\tUnique values:         881\n",
      "\tSmallest value:        8\n",
      "\tLargest value:         4337300\n",
      "\tSum:                   1531248511\n",
      "\tMean:                  1532781.292292\n",
      "\tMedian:                1457053\n",
      "\tStDev:                 1259038.377999\n",
      "\tMost common values:    2382952 (5x)\n",
      "\t                       2773181 (5x)\n",
      "\t                       1584548 (4x)\n",
      "\t                       1873407 (4x)\n",
      "\t                       2262583 (4x)\n",
      "\n",
      "Row count: 999\n"
     ]
    }
   ],
   "source": [
    "!head -n 1000 testing.csv | csvstat"
   ]
  },
  {
   "cell_type": "markdown",
   "metadata": {},
   "source": [
    "## Ask 2 - Surveying and Wrangling Data (15%)\n",
    "\n",
    "Acquire the data, survey it and wrangle it to suitable format. You may use one or more of the following methods for acquiring and wrangling the data: \n",
    "- Unix command line tools (e.g. csvkit)\n",
    "- Relational databases \n",
    "- Spark\n",
    "- You may also use wrangling tool (e.g. Trifacta)\n",
    "\n",
    "Describe any concerns with the data and changes you expect to overcome. \n",
    "\n",
    "Expectations: document your findings in the code. Make sure you describe each step in a complete and concise manner. "
   ]
  },
  {
   "cell_type": "markdown",
   "metadata": {},
   "source": [
    "### surveying and wrangling dataset cases_deaths.csv"
   ]
  },
  {
   "cell_type": "markdown",
   "metadata": {},
   "source": [
    "#### setup database "
   ]
  },
  {
   "cell_type": "code",
   "execution_count": 95,
   "metadata": {},
   "outputs": [
    {
     "name": "stdout",
     "output_type": "stream",
     "text": [
      "The sql extension is already loaded. To reload it, use:\n",
      "  %reload_ext sql\n"
     ]
    }
   ],
   "source": [
    "#\n",
    "%load_ext sql"
   ]
  },
  {
   "cell_type": "code",
   "execution_count": 97,
   "metadata": {},
   "outputs": [
    {
     "name": "stdout",
     "output_type": "stream",
     "text": [
      "dropdb: error: database removal failed: ERROR:  database \"final_project\" is being accessed by other users\r\n",
      "DETAIL:  There is 1 other session using the database.\r\n"
     ]
    }
   ],
   "source": [
    "!dropdb -U student final_project"
   ]
  },
  {
   "cell_type": "code",
   "execution_count": 153,
   "metadata": {},
   "outputs": [
    {
     "name": "stdout",
     "output_type": "stream",
     "text": [
      "createdb: error: database creation failed: ERROR:  database \"final_project\" already exists\r\n"
     ]
    }
   ],
   "source": [
    "!createdb -U student final_project"
   ]
  },
  {
   "cell_type": "code",
   "execution_count": 98,
   "metadata": {},
   "outputs": [],
   "source": [
    "%sql postgresql://student@/final_project"
   ]
  },
  {
   "cell_type": "code",
   "execution_count": 112,
   "metadata": {},
   "outputs": [
    {
     "name": "stdout",
     "output_type": "stream",
     "text": [
      " * postgresql://postgres@/final_project\n",
      "Done.\n",
      "Done.\n"
     ]
    },
    {
     "data": {
      "text/plain": [
       "[]"
      ]
     },
     "execution_count": 112,
     "metadata": {},
     "output_type": "execute_result"
    }
   ],
   "source": [
    "%%sql\n",
    "DROP TABLE IF EXISTS cases_deaths;\n",
    "\n",
    "CREATE TABLE cases_deaths (\n",
    "Province_State text not null,\n",
    "Country_Region text not null,\n",
    "Last_Update date,\n",
    "Lat numeric,\n",
    "Long_ numeric,\n",
    "Confirmed numeric,    \n",
    "Deaths numeric,\n",
    "Recovered numeric,\n",
    "Active numeric,\n",
    "FIPS numeric,\n",
    "Incident_Rate numeric,\n",
    "Total_Test_Results numeric,\n",
    "People_Hospitalized numeric,\n",
    "Case_Fatality_Ratio numeric,\n",
    "UID numeric,\n",
    "ISO3 text,\n",
    "Testing_Rate numeric,\n",
    "Hospitalization_Rate numeric\n",
    ")"
   ]
  },
  {
   "cell_type": "code",
   "execution_count": 113,
   "metadata": {},
   "outputs": [
    {
     "name": "stdout",
     "output_type": "stream",
     "text": [
      "/home/ubuntu\r\n"
     ]
    }
   ],
   "source": [
    "!pwd"
   ]
  },
  {
   "cell_type": "code",
   "execution_count": 114,
   "metadata": {},
   "outputs": [
    {
     "name": "stdout",
     "output_type": "stream",
     "text": [
      " * postgresql://postgres@/final_project\n",
      "34470 rows affected.\n",
      "(psycopg2.errors.SyntaxError) syntax error at or near \"#\"\n",
      "LINE 1: #here my location is /home/ubuntu, please change it accordin...\n",
      "        ^\n",
      "\n",
      "[SQL: #here my location is /home/ubuntu, please change it accordingly as well.]\n",
      "(Background on this error at: http://sqlalche.me/e/f405)\n"
     ]
    }
   ],
   "source": [
    "%%sql\n",
    "COPY cases_deaths FROM '/home/ubuntu/cases_deaths.csv'\n",
    "CSV\n",
    "HEADER;\n",
    "#here my location is /home/ubuntu, please change it accordingly as well."
   ]
  },
  {
   "cell_type": "code",
   "execution_count": 115,
   "metadata": {},
   "outputs": [
    {
     "name": "stdout",
     "output_type": "stream",
     "text": [
      " * postgresql://postgres@/final_project\n",
      "1 rows affected.\n"
     ]
    },
    {
     "data": {
      "text/html": [
       "<table>\n",
       "    <tr>\n",
       "        <th>count</th>\n",
       "    </tr>\n",
       "    <tr>\n",
       "        <td>34470</td>\n",
       "    </tr>\n",
       "</table>"
      ],
      "text/plain": [
       "[(34470,)]"
      ]
     },
     "execution_count": 115,
     "metadata": {},
     "output_type": "execute_result"
    }
   ],
   "source": [
    "%%sql\n",
    "SELECT COUNT(*) FROM cases_deaths; -- query total number records of cases_deaths"
   ]
  },
  {
   "cell_type": "code",
   "execution_count": 116,
   "metadata": {},
   "outputs": [
    {
     "name": "stdout",
     "output_type": "stream",
     "text": [
      " * postgresql://postgres@/final_project\n",
      "1 rows affected.\n"
     ]
    },
    {
     "data": {
      "text/html": [
       "<table>\n",
       "    <tr>\n",
       "        <th>province_state</th>\n",
       "        <th>country_region</th>\n",
       "        <th>last_update</th>\n",
       "        <th>lat</th>\n",
       "        <th>long_</th>\n",
       "        <th>confirmed</th>\n",
       "        <th>deaths</th>\n",
       "        <th>recovered</th>\n",
       "        <th>active</th>\n",
       "        <th>fips</th>\n",
       "        <th>incident_rate</th>\n",
       "        <th>total_test_results</th>\n",
       "        <th>people_hospitalized</th>\n",
       "        <th>case_fatality_ratio</th>\n",
       "        <th>uid</th>\n",
       "        <th>iso3</th>\n",
       "        <th>testing_rate</th>\n",
       "        <th>hospitalization_rate</th>\n",
       "        <th>count</th>\n",
       "    </tr>\n",
       "    <tr>\n",
       "        <td>American Samoa</td>\n",
       "        <td>US</td>\n",
       "        <td>None</td>\n",
       "        <td>-14.270999999999999</td>\n",
       "        <td>-170.132</td>\n",
       "        <td>0</td>\n",
       "        <td>0</td>\n",
       "        <td>None</td>\n",
       "        <td>None</td>\n",
       "        <td>60</td>\n",
       "        <td>0.0</td>\n",
       "        <td>3</td>\n",
       "        <td>None</td>\n",
       "        <td>None</td>\n",
       "        <td>16</td>\n",
       "        <td>ASM</td>\n",
       "        <td>5.3917075537822825</td>\n",
       "        <td>None</td>\n",
       "        <td>7</td>\n",
       "    </tr>\n",
       "</table>"
      ],
      "text/plain": [
       "[('American Samoa', 'US', None, Decimal('-14.270999999999999'), Decimal('-170.132'), Decimal('0'), Decimal('0'), None, None, Decimal('60'), Decimal('0.0'), Decimal('3'), None, None, Decimal('16'), 'ASM', Decimal('5.3917075537822825'), None, 7)]"
      ]
     },
     "execution_count": 116,
     "metadata": {},
     "output_type": "execute_result"
    }
   ],
   "source": [
    "%%sql\n",
    "SELECT Province_State,Country_Region,Last_Update,Lat,Long_,Confirmed,Deaths,Recovered,Active,FIPS,Incident_Rate,Total_Test_Results,People_Hospitalized,Case_Fatality_Ratio,UID,ISO3,Testing_Rate,Hospitalization_Rate,\n",
    "COUNT(*) FROM cases_deaths\n",
    "group by Province_State,Country_Region,Last_Update,Lat,Long_,Confirmed,Deaths,Recovered,Active,FIPS,Incident_Rate,Total_Test_Results,People_Hospitalized,Case_Fatality_Ratio,UID,ISO3,Testing_Rate,Hospitalization_Rate\n",
    "having count(*)>1; -- check if there are duplicated records in cases_deaths"
   ]
  },
  {
   "cell_type": "code",
   "execution_count": 117,
   "metadata": {},
   "outputs": [
    {
     "name": "stdout",
     "output_type": "stream",
     "text": [
      " * postgresql://postgres@/final_project\n",
      "7 rows affected.\n"
     ]
    },
    {
     "data": {
      "text/html": [
       "<table>\n",
       "    <tr>\n",
       "        <th>province_state</th>\n",
       "        <th>country_region</th>\n",
       "        <th>last_update</th>\n",
       "        <th>lat</th>\n",
       "        <th>long_</th>\n",
       "        <th>confirmed</th>\n",
       "        <th>deaths</th>\n",
       "        <th>recovered</th>\n",
       "        <th>active</th>\n",
       "        <th>fips</th>\n",
       "        <th>incident_rate</th>\n",
       "        <th>total_test_results</th>\n",
       "        <th>people_hospitalized</th>\n",
       "        <th>case_fatality_ratio</th>\n",
       "        <th>uid</th>\n",
       "        <th>iso3</th>\n",
       "        <th>testing_rate</th>\n",
       "        <th>hospitalization_rate</th>\n",
       "    </tr>\n",
       "    <tr>\n",
       "        <td>American Samoa</td>\n",
       "        <td>US</td>\n",
       "        <td>None</td>\n",
       "        <td>-14.270999999999999</td>\n",
       "        <td>-170.132</td>\n",
       "        <td>0</td>\n",
       "        <td>0</td>\n",
       "        <td>None</td>\n",
       "        <td>None</td>\n",
       "        <td>60</td>\n",
       "        <td>0.0</td>\n",
       "        <td>3</td>\n",
       "        <td>None</td>\n",
       "        <td>None</td>\n",
       "        <td>16</td>\n",
       "        <td>ASM</td>\n",
       "        <td>5.3917075537822825</td>\n",
       "        <td>None</td>\n",
       "    </tr>\n",
       "    <tr>\n",
       "        <td>American Samoa</td>\n",
       "        <td>US</td>\n",
       "        <td>None</td>\n",
       "        <td>-14.270999999999999</td>\n",
       "        <td>-170.132</td>\n",
       "        <td>0</td>\n",
       "        <td>0</td>\n",
       "        <td>None</td>\n",
       "        <td>None</td>\n",
       "        <td>60</td>\n",
       "        <td>0.0</td>\n",
       "        <td>3</td>\n",
       "        <td>None</td>\n",
       "        <td>None</td>\n",
       "        <td>16</td>\n",
       "        <td>ASM</td>\n",
       "        <td>5.3917075537822825</td>\n",
       "        <td>None</td>\n",
       "    </tr>\n",
       "    <tr>\n",
       "        <td>American Samoa</td>\n",
       "        <td>US</td>\n",
       "        <td>None</td>\n",
       "        <td>-14.270999999999999</td>\n",
       "        <td>-170.132</td>\n",
       "        <td>0</td>\n",
       "        <td>0</td>\n",
       "        <td>None</td>\n",
       "        <td>None</td>\n",
       "        <td>60</td>\n",
       "        <td>0.0</td>\n",
       "        <td>3</td>\n",
       "        <td>None</td>\n",
       "        <td>None</td>\n",
       "        <td>16</td>\n",
       "        <td>ASM</td>\n",
       "        <td>5.3917075537822825</td>\n",
       "        <td>None</td>\n",
       "    </tr>\n",
       "    <tr>\n",
       "        <td>American Samoa</td>\n",
       "        <td>US</td>\n",
       "        <td>None</td>\n",
       "        <td>-14.270999999999999</td>\n",
       "        <td>-170.132</td>\n",
       "        <td>0</td>\n",
       "        <td>0</td>\n",
       "        <td>None</td>\n",
       "        <td>None</td>\n",
       "        <td>60</td>\n",
       "        <td>0.0</td>\n",
       "        <td>3</td>\n",
       "        <td>None</td>\n",
       "        <td>None</td>\n",
       "        <td>16</td>\n",
       "        <td>ASM</td>\n",
       "        <td>5.3917075537822825</td>\n",
       "        <td>None</td>\n",
       "    </tr>\n",
       "    <tr>\n",
       "        <td>American Samoa</td>\n",
       "        <td>US</td>\n",
       "        <td>None</td>\n",
       "        <td>-14.270999999999999</td>\n",
       "        <td>-170.132</td>\n",
       "        <td>0</td>\n",
       "        <td>0</td>\n",
       "        <td>None</td>\n",
       "        <td>None</td>\n",
       "        <td>60</td>\n",
       "        <td>0.0</td>\n",
       "        <td>3</td>\n",
       "        <td>None</td>\n",
       "        <td>None</td>\n",
       "        <td>16</td>\n",
       "        <td>ASM</td>\n",
       "        <td>5.3917075537822825</td>\n",
       "        <td>None</td>\n",
       "    </tr>\n",
       "    <tr>\n",
       "        <td>American Samoa</td>\n",
       "        <td>US</td>\n",
       "        <td>None</td>\n",
       "        <td>-14.270999999999999</td>\n",
       "        <td>-170.132</td>\n",
       "        <td>0</td>\n",
       "        <td>0</td>\n",
       "        <td>None</td>\n",
       "        <td>None</td>\n",
       "        <td>60</td>\n",
       "        <td>0.0</td>\n",
       "        <td>3</td>\n",
       "        <td>None</td>\n",
       "        <td>None</td>\n",
       "        <td>16</td>\n",
       "        <td>ASM</td>\n",
       "        <td>5.3917075537822825</td>\n",
       "        <td>None</td>\n",
       "    </tr>\n",
       "    <tr>\n",
       "        <td>American Samoa</td>\n",
       "        <td>US</td>\n",
       "        <td>None</td>\n",
       "        <td>-14.270999999999999</td>\n",
       "        <td>-170.132</td>\n",
       "        <td>0</td>\n",
       "        <td>0</td>\n",
       "        <td>None</td>\n",
       "        <td>None</td>\n",
       "        <td>60</td>\n",
       "        <td>0.0</td>\n",
       "        <td>3</td>\n",
       "        <td>None</td>\n",
       "        <td>None</td>\n",
       "        <td>16</td>\n",
       "        <td>ASM</td>\n",
       "        <td>5.3917075537822825</td>\n",
       "        <td>None</td>\n",
       "    </tr>\n",
       "</table>"
      ],
      "text/plain": [
       "[('American Samoa', 'US', None, Decimal('-14.270999999999999'), Decimal('-170.132'), Decimal('0'), Decimal('0'), None, None, Decimal('60'), Decimal('0.0'), Decimal('3'), None, None, Decimal('16'), 'ASM', Decimal('5.3917075537822825'), None),\n",
       " ('American Samoa', 'US', None, Decimal('-14.270999999999999'), Decimal('-170.132'), Decimal('0'), Decimal('0'), None, None, Decimal('60'), Decimal('0.0'), Decimal('3'), None, None, Decimal('16'), 'ASM', Decimal('5.3917075537822825'), None),\n",
       " ('American Samoa', 'US', None, Decimal('-14.270999999999999'), Decimal('-170.132'), Decimal('0'), Decimal('0'), None, None, Decimal('60'), Decimal('0.0'), Decimal('3'), None, None, Decimal('16'), 'ASM', Decimal('5.3917075537822825'), None),\n",
       " ('American Samoa', 'US', None, Decimal('-14.270999999999999'), Decimal('-170.132'), Decimal('0'), Decimal('0'), None, None, Decimal('60'), Decimal('0.0'), Decimal('3'), None, None, Decimal('16'), 'ASM', Decimal('5.3917075537822825'), None),\n",
       " ('American Samoa', 'US', None, Decimal('-14.270999999999999'), Decimal('-170.132'), Decimal('0'), Decimal('0'), None, None, Decimal('60'), Decimal('0.0'), Decimal('3'), None, None, Decimal('16'), 'ASM', Decimal('5.3917075537822825'), None),\n",
       " ('American Samoa', 'US', None, Decimal('-14.270999999999999'), Decimal('-170.132'), Decimal('0'), Decimal('0'), None, None, Decimal('60'), Decimal('0.0'), Decimal('3'), None, None, Decimal('16'), 'ASM', Decimal('5.3917075537822825'), None),\n",
       " ('American Samoa', 'US', None, Decimal('-14.270999999999999'), Decimal('-170.132'), Decimal('0'), Decimal('0'), None, None, Decimal('60'), Decimal('0.0'), Decimal('3'), None, None, Decimal('16'), 'ASM', Decimal('5.3917075537822825'), None)]"
      ]
     },
     "execution_count": 117,
     "metadata": {},
     "output_type": "execute_result"
    }
   ],
   "source": [
    "%%sql\n",
    "select * from cases_deaths\n",
    "where province_state='American Samoa' and country_region='US' and last_update is null  and lat='-14.270999999999999' and long_='-170.132' and confirmed=0 and\n",
    "deaths=0 and fips=60 and incident_rate=0.0 and total_test_results=3 and uid=16 and iso3='ASM' and testing_rate='5.3917075537822825';"
   ]
  },
  {
   "cell_type": "code",
   "execution_count": 118,
   "metadata": {},
   "outputs": [
    {
     "name": "stdout",
     "output_type": "stream",
     "text": [
      " * postgresql://postgres@/final_project\n",
      "7 rows affected.\n"
     ]
    },
    {
     "data": {
      "text/plain": [
       "[]"
      ]
     },
     "execution_count": 118,
     "metadata": {},
     "output_type": "execute_result"
    }
   ],
   "source": [
    "%%sql\n",
    "delete from cases_deaths\n",
    "where province_state='American Samoa' and country_region='US' and last_update is null  and lat='-14.270999999999999' and long_='-170.132' and confirmed=0 and\n",
    "deaths=0 and fips=60 and incident_rate=0.0 and total_test_results=3 and uid=16 and iso3='ASM' and testing_rate='5.3917075537822825'; -- delete all these duplicated rows"
   ]
  },
  {
   "cell_type": "code",
   "execution_count": 119,
   "metadata": {},
   "outputs": [
    {
     "name": "stdout",
     "output_type": "stream",
     "text": [
      " * postgresql://postgres@/final_project\n",
      "0 rows affected.\n"
     ]
    },
    {
     "data": {
      "text/html": [
       "<table>\n",
       "    <tr>\n",
       "        <th>province_state</th>\n",
       "        <th>country_region</th>\n",
       "        <th>last_update</th>\n",
       "        <th>lat</th>\n",
       "        <th>long_</th>\n",
       "        <th>confirmed</th>\n",
       "        <th>deaths</th>\n",
       "        <th>recovered</th>\n",
       "        <th>active</th>\n",
       "        <th>fips</th>\n",
       "        <th>incident_rate</th>\n",
       "        <th>total_test_results</th>\n",
       "        <th>people_hospitalized</th>\n",
       "        <th>case_fatality_ratio</th>\n",
       "        <th>uid</th>\n",
       "        <th>iso3</th>\n",
       "        <th>testing_rate</th>\n",
       "        <th>hospitalization_rate</th>\n",
       "    </tr>\n",
       "</table>"
      ],
      "text/plain": [
       "[]"
      ]
     },
     "execution_count": 119,
     "metadata": {},
     "output_type": "execute_result"
    }
   ],
   "source": [
    "%%sql\n",
    "select * from cases_deaths\n",
    "where Province_State is null or country_region is null or  confirmed is null or deaths is null"
   ]
  },
  {
   "cell_type": "markdown",
   "metadata": {},
   "source": [
    "### surveying and wrangling dataset vaccine.csv"
   ]
  },
  {
   "cell_type": "code",
   "execution_count": 120,
   "metadata": {},
   "outputs": [
    {
     "name": "stdout",
     "output_type": "stream",
     "text": [
      " * postgresql://postgres@/final_project\n",
      "Done.\n",
      "Done.\n"
     ]
    },
    {
     "data": {
      "text/plain": [
       "[]"
      ]
     },
     "execution_count": 120,
     "metadata": {},
     "output_type": "execute_result"
    }
   ],
   "source": [
    "%%sql\n",
    "DROP TABLE IF EXISTS vaccine;\n",
    "\n",
    "CREATE TABLE vaccine (\n",
    "Province_State text not null,\n",
    "Date date not null,\n",
    "Vaccine_Type text not null,\n",
    "FIPS integer,\n",
    "Country_Region text not null,\n",
    "Lat numeric,\n",
    "Long_ numeric,\n",
    "Doses_alloc numeric,\n",
    "Doses_shipped numeric,\n",
    "Doses_admin numeric,\n",
    "Stage_One_Doses numeric,\n",
    "Stage_Two_Doses numeric,\n",
    "Combined_Key text not null\n",
    ")\n"
   ]
  },
  {
   "cell_type": "code",
   "execution_count": 121,
   "metadata": {},
   "outputs": [
    {
     "name": "stdout",
     "output_type": "stream",
     "text": [
      "/home/ubuntu\r\n"
     ]
    }
   ],
   "source": [
    "!pwd"
   ]
  },
  {
   "cell_type": "code",
   "execution_count": 122,
   "metadata": {},
   "outputs": [
    {
     "name": "stdout",
     "output_type": "stream",
     "text": [
      " * postgresql://postgres@/final_project\n",
      "115882 rows affected.\n",
      "(psycopg2.errors.SyntaxError) syntax error at or near \"#\"\n",
      "LINE 1: #here my location is /home/ubuntu, please change it accordin...\n",
      "        ^\n",
      "\n",
      "[SQL: #here my location is /home/ubuntu, please change it accordingly as well.]\n",
      "(Background on this error at: http://sqlalche.me/e/f405)\n"
     ]
    }
   ],
   "source": [
    "%%sql\n",
    "COPY vaccine FROM '/home/ubuntu/vaccine.csv'\n",
    "CSV\n",
    "HEADER;\n",
    "#here my location is /home/ubuntu, please change it accordingly as well."
   ]
  },
  {
   "cell_type": "markdown",
   "metadata": {},
   "source": [
    "#### check records of vaccine and surveying data"
   ]
  },
  {
   "cell_type": "code",
   "execution_count": 123,
   "metadata": {},
   "outputs": [
    {
     "name": "stdout",
     "output_type": "stream",
     "text": [
      " * postgresql://postgres@/final_project\n",
      "1 rows affected.\n"
     ]
    },
    {
     "data": {
      "text/html": [
       "<table>\n",
       "    <tr>\n",
       "        <th>count</th>\n",
       "    </tr>\n",
       "    <tr>\n",
       "        <td>115882</td>\n",
       "    </tr>\n",
       "</table>"
      ],
      "text/plain": [
       "[(115882,)]"
      ]
     },
     "execution_count": 123,
     "metadata": {},
     "output_type": "execute_result"
    }
   ],
   "source": [
    "%%sql\n",
    "SELECT COUNT(*) FROM vaccine;"
   ]
  },
  {
   "cell_type": "code",
   "execution_count": 124,
   "metadata": {},
   "outputs": [
    {
     "name": "stdout",
     "output_type": "stream",
     "text": [
      " * postgresql://postgres@/final_project\n",
      "10 rows affected.\n"
     ]
    },
    {
     "data": {
      "text/html": [
       "<table>\n",
       "    <tr>\n",
       "        <th>province_state</th>\n",
       "        <th>date</th>\n",
       "        <th>vaccine_type</th>\n",
       "        <th>fips</th>\n",
       "        <th>country_region</th>\n",
       "        <th>lat</th>\n",
       "        <th>long_</th>\n",
       "        <th>doses_alloc</th>\n",
       "        <th>doses_shipped</th>\n",
       "        <th>doses_admin</th>\n",
       "        <th>stage_one_doses</th>\n",
       "        <th>stage_two_doses</th>\n",
       "        <th>combined_key</th>\n",
       "    </tr>\n",
       "    <tr>\n",
       "        <td>Alabama</td>\n",
       "        <td>2020-12-10</td>\n",
       "        <td>All</td>\n",
       "        <td>1</td>\n",
       "        <td>US</td>\n",
       "        <td>32.3182</td>\n",
       "        <td>-86.9023</td>\n",
       "        <td>None</td>\n",
       "        <td>None</td>\n",
       "        <td>None</td>\n",
       "        <td>None</td>\n",
       "        <td>None</td>\n",
       "        <td>Alabama, US</td>\n",
       "    </tr>\n",
       "    <tr>\n",
       "        <td>Alabama</td>\n",
       "        <td>2020-12-10</td>\n",
       "        <td>Moderna</td>\n",
       "        <td>1</td>\n",
       "        <td>US</td>\n",
       "        <td>32.3182</td>\n",
       "        <td>-86.9023</td>\n",
       "        <td>None</td>\n",
       "        <td>None</td>\n",
       "        <td>None</td>\n",
       "        <td>None</td>\n",
       "        <td>None</td>\n",
       "        <td>Alabama, US</td>\n",
       "    </tr>\n",
       "    <tr>\n",
       "        <td>Alabama</td>\n",
       "        <td>2020-12-10</td>\n",
       "        <td>Pfizer</td>\n",
       "        <td>1</td>\n",
       "        <td>US</td>\n",
       "        <td>32.3182</td>\n",
       "        <td>-86.9023</td>\n",
       "        <td>None</td>\n",
       "        <td>None</td>\n",
       "        <td>None</td>\n",
       "        <td>None</td>\n",
       "        <td>None</td>\n",
       "        <td>Alabama, US</td>\n",
       "    </tr>\n",
       "    <tr>\n",
       "        <td>Alabama</td>\n",
       "        <td>2020-12-11</td>\n",
       "        <td>All</td>\n",
       "        <td>1</td>\n",
       "        <td>US</td>\n",
       "        <td>32.3182</td>\n",
       "        <td>-86.9023</td>\n",
       "        <td>None</td>\n",
       "        <td>None</td>\n",
       "        <td>None</td>\n",
       "        <td>None</td>\n",
       "        <td>None</td>\n",
       "        <td>Alabama, US</td>\n",
       "    </tr>\n",
       "    <tr>\n",
       "        <td>Alabama</td>\n",
       "        <td>2020-12-11</td>\n",
       "        <td>Moderna</td>\n",
       "        <td>1</td>\n",
       "        <td>US</td>\n",
       "        <td>32.3182</td>\n",
       "        <td>-86.9023</td>\n",
       "        <td>None</td>\n",
       "        <td>None</td>\n",
       "        <td>None</td>\n",
       "        <td>None</td>\n",
       "        <td>None</td>\n",
       "        <td>Alabama, US</td>\n",
       "    </tr>\n",
       "    <tr>\n",
       "        <td>Alabama</td>\n",
       "        <td>2020-12-11</td>\n",
       "        <td>Pfizer</td>\n",
       "        <td>1</td>\n",
       "        <td>US</td>\n",
       "        <td>32.3182</td>\n",
       "        <td>-86.9023</td>\n",
       "        <td>None</td>\n",
       "        <td>None</td>\n",
       "        <td>None</td>\n",
       "        <td>None</td>\n",
       "        <td>None</td>\n",
       "        <td>Alabama, US</td>\n",
       "    </tr>\n",
       "    <tr>\n",
       "        <td>Alabama</td>\n",
       "        <td>2020-12-12</td>\n",
       "        <td>All</td>\n",
       "        <td>1</td>\n",
       "        <td>US</td>\n",
       "        <td>32.3182</td>\n",
       "        <td>-86.9023</td>\n",
       "        <td>None</td>\n",
       "        <td>None</td>\n",
       "        <td>None</td>\n",
       "        <td>None</td>\n",
       "        <td>None</td>\n",
       "        <td>Alabama, US</td>\n",
       "    </tr>\n",
       "    <tr>\n",
       "        <td>Alabama</td>\n",
       "        <td>2020-12-12</td>\n",
       "        <td>Moderna</td>\n",
       "        <td>1</td>\n",
       "        <td>US</td>\n",
       "        <td>32.3182</td>\n",
       "        <td>-86.9023</td>\n",
       "        <td>None</td>\n",
       "        <td>None</td>\n",
       "        <td>None</td>\n",
       "        <td>None</td>\n",
       "        <td>None</td>\n",
       "        <td>Alabama, US</td>\n",
       "    </tr>\n",
       "    <tr>\n",
       "        <td>Alabama</td>\n",
       "        <td>2020-12-12</td>\n",
       "        <td>Pfizer</td>\n",
       "        <td>1</td>\n",
       "        <td>US</td>\n",
       "        <td>32.3182</td>\n",
       "        <td>-86.9023</td>\n",
       "        <td>None</td>\n",
       "        <td>None</td>\n",
       "        <td>None</td>\n",
       "        <td>None</td>\n",
       "        <td>None</td>\n",
       "        <td>Alabama, US</td>\n",
       "    </tr>\n",
       "    <tr>\n",
       "        <td>Alabama</td>\n",
       "        <td>2020-12-13</td>\n",
       "        <td>All</td>\n",
       "        <td>1</td>\n",
       "        <td>US</td>\n",
       "        <td>32.3182</td>\n",
       "        <td>-86.9023</td>\n",
       "        <td>None</td>\n",
       "        <td>None</td>\n",
       "        <td>None</td>\n",
       "        <td>None</td>\n",
       "        <td>None</td>\n",
       "        <td>Alabama, US</td>\n",
       "    </tr>\n",
       "</table>"
      ],
      "text/plain": [
       "[('Alabama', datetime.date(2020, 12, 10), 'All', 1, 'US', Decimal('32.3182'), Decimal('-86.9023'), None, None, None, None, None, 'Alabama, US'),\n",
       " ('Alabama', datetime.date(2020, 12, 10), 'Moderna', 1, 'US', Decimal('32.3182'), Decimal('-86.9023'), None, None, None, None, None, 'Alabama, US'),\n",
       " ('Alabama', datetime.date(2020, 12, 10), 'Pfizer', 1, 'US', Decimal('32.3182'), Decimal('-86.9023'), None, None, None, None, None, 'Alabama, US'),\n",
       " ('Alabama', datetime.date(2020, 12, 11), 'All', 1, 'US', Decimal('32.3182'), Decimal('-86.9023'), None, None, None, None, None, 'Alabama, US'),\n",
       " ('Alabama', datetime.date(2020, 12, 11), 'Moderna', 1, 'US', Decimal('32.3182'), Decimal('-86.9023'), None, None, None, None, None, 'Alabama, US'),\n",
       " ('Alabama', datetime.date(2020, 12, 11), 'Pfizer', 1, 'US', Decimal('32.3182'), Decimal('-86.9023'), None, None, None, None, None, 'Alabama, US'),\n",
       " ('Alabama', datetime.date(2020, 12, 12), 'All', 1, 'US', Decimal('32.3182'), Decimal('-86.9023'), None, None, None, None, None, 'Alabama, US'),\n",
       " ('Alabama', datetime.date(2020, 12, 12), 'Moderna', 1, 'US', Decimal('32.3182'), Decimal('-86.9023'), None, None, None, None, None, 'Alabama, US'),\n",
       " ('Alabama', datetime.date(2020, 12, 12), 'Pfizer', 1, 'US', Decimal('32.3182'), Decimal('-86.9023'), None, None, None, None, None, 'Alabama, US'),\n",
       " ('Alabama', datetime.date(2020, 12, 13), 'All', 1, 'US', Decimal('32.3182'), Decimal('-86.9023'), None, None, None, None, None, 'Alabama, US')]"
      ]
     },
     "execution_count": 124,
     "metadata": {},
     "output_type": "execute_result"
    }
   ],
   "source": [
    "%%sql\n",
    "select * from vaccine limit 10;"
   ]
  },
  {
   "cell_type": "markdown",
   "metadata": {},
   "source": [
    "#### check if vaccine has duplicated data"
   ]
  },
  {
   "cell_type": "code",
   "execution_count": 125,
   "metadata": {},
   "outputs": [
    {
     "name": "stdout",
     "output_type": "stream",
     "text": [
      " * postgresql://postgres@/final_project\n",
      "0 rows affected.\n"
     ]
    },
    {
     "data": {
      "text/html": [
       "<table>\n",
       "    <tr>\n",
       "        <th>province_state</th>\n",
       "        <th>date</th>\n",
       "        <th>vaccine_type</th>\n",
       "        <th>fips</th>\n",
       "        <th>country_region</th>\n",
       "        <th>lat</th>\n",
       "        <th>long_</th>\n",
       "        <th>doses_alloc</th>\n",
       "        <th>doses_shipped</th>\n",
       "        <th>doses_admin</th>\n",
       "        <th>stage_one_doses</th>\n",
       "        <th>stage_two_doses</th>\n",
       "        <th>combined_key</th>\n",
       "        <th>count</th>\n",
       "    </tr>\n",
       "</table>"
      ],
      "text/plain": [
       "[]"
      ]
     },
     "execution_count": 125,
     "metadata": {},
     "output_type": "execute_result"
    }
   ],
   "source": [
    "%%sql\n",
    "select Province_State,Date,Vaccine_Type,FIPS,Country_Region,Lat,Long_,Doses_alloc,Doses_shipped,Doses_admin,Stage_One_Doses,Stage_Two_Doses,Combined_Key,\n",
    "count(1) from vaccine\n",
    "group by Province_State,Date,Vaccine_Type,FIPS,Country_Region,Lat,Long_,Doses_alloc,Doses_shipped,Doses_admin,Stage_One_Doses,Stage_Two_Doses,Combined_Key\n",
    "having count(1)>1;"
   ]
  },
  {
   "cell_type": "markdown",
   "metadata": {},
   "source": [
    "#### check if vaccine has null values on attribute fips, lat and long_"
   ]
  },
  {
   "cell_type": "code",
   "execution_count": 126,
   "metadata": {},
   "outputs": [
    {
     "name": "stdout",
     "output_type": "stream",
     "text": [
      " * postgresql://postgres@/final_project\n",
      "1 rows affected.\n"
     ]
    },
    {
     "data": {
      "text/html": [
       "<table>\n",
       "    <tr>\n",
       "        <th>count</th>\n",
       "    </tr>\n",
       "    <tr>\n",
       "        <td>10122</td>\n",
       "    </tr>\n",
       "</table>"
      ],
      "text/plain": [
       "[(10122,)]"
      ]
     },
     "execution_count": 126,
     "metadata": {},
     "output_type": "execute_result"
    }
   ],
   "source": [
    "%%sql\n",
    "select count(*)\n",
    "from vaccine\n",
    "where fips is null or Lat is null or Long_ is null\n",
    ";"
   ]
  },
  {
   "cell_type": "code",
   "execution_count": 127,
   "metadata": {},
   "outputs": [
    {
     "name": "stdout",
     "output_type": "stream",
     "text": [
      " * postgresql://postgres@/final_project\n",
      "5 rows affected.\n"
     ]
    },
    {
     "data": {
      "text/html": [
       "<table>\n",
       "    <tr>\n",
       "        <th>province_state</th>\n",
       "        <th>date</th>\n",
       "        <th>vaccine_type</th>\n",
       "        <th>fips</th>\n",
       "        <th>country_region</th>\n",
       "        <th>lat</th>\n",
       "        <th>long_</th>\n",
       "        <th>doses_alloc</th>\n",
       "        <th>doses_shipped</th>\n",
       "        <th>doses_admin</th>\n",
       "        <th>stage_one_doses</th>\n",
       "        <th>stage_two_doses</th>\n",
       "        <th>combined_key</th>\n",
       "    </tr>\n",
       "    <tr>\n",
       "        <td>Bureau of Prisons</td>\n",
       "        <td>2020-12-15</td>\n",
       "        <td>Pfizer</td>\n",
       "        <td>None</td>\n",
       "        <td>US</td>\n",
       "        <td>None</td>\n",
       "        <td>None</td>\n",
       "        <td>None</td>\n",
       "        <td>None</td>\n",
       "        <td>None</td>\n",
       "        <td>None</td>\n",
       "        <td>None</td>\n",
       "        <td>Bureau of Prisons, US</td>\n",
       "    </tr>\n",
       "    <tr>\n",
       "        <td>Bureau of Prisons</td>\n",
       "        <td>2020-12-10</td>\n",
       "        <td>All</td>\n",
       "        <td>None</td>\n",
       "        <td>US</td>\n",
       "        <td>None</td>\n",
       "        <td>None</td>\n",
       "        <td>None</td>\n",
       "        <td>None</td>\n",
       "        <td>None</td>\n",
       "        <td>None</td>\n",
       "        <td>None</td>\n",
       "        <td>Bureau of Prisons, US</td>\n",
       "    </tr>\n",
       "    <tr>\n",
       "        <td>Bureau of Prisons</td>\n",
       "        <td>2020-12-10</td>\n",
       "        <td>Moderna</td>\n",
       "        <td>None</td>\n",
       "        <td>US</td>\n",
       "        <td>None</td>\n",
       "        <td>None</td>\n",
       "        <td>None</td>\n",
       "        <td>None</td>\n",
       "        <td>None</td>\n",
       "        <td>None</td>\n",
       "        <td>None</td>\n",
       "        <td>Bureau of Prisons, US</td>\n",
       "    </tr>\n",
       "    <tr>\n",
       "        <td>Bureau of Prisons</td>\n",
       "        <td>2020-12-10</td>\n",
       "        <td>Pfizer</td>\n",
       "        <td>None</td>\n",
       "        <td>US</td>\n",
       "        <td>None</td>\n",
       "        <td>None</td>\n",
       "        <td>None</td>\n",
       "        <td>None</td>\n",
       "        <td>None</td>\n",
       "        <td>None</td>\n",
       "        <td>None</td>\n",
       "        <td>Bureau of Prisons, US</td>\n",
       "    </tr>\n",
       "    <tr>\n",
       "        <td>Bureau of Prisons</td>\n",
       "        <td>2020-12-11</td>\n",
       "        <td>All</td>\n",
       "        <td>None</td>\n",
       "        <td>US</td>\n",
       "        <td>None</td>\n",
       "        <td>None</td>\n",
       "        <td>None</td>\n",
       "        <td>None</td>\n",
       "        <td>None</td>\n",
       "        <td>None</td>\n",
       "        <td>None</td>\n",
       "        <td>Bureau of Prisons, US</td>\n",
       "    </tr>\n",
       "</table>"
      ],
      "text/plain": [
       "[('Bureau of Prisons', datetime.date(2020, 12, 15), 'Pfizer', None, 'US', None, None, None, None, None, None, None, 'Bureau of Prisons, US'),\n",
       " ('Bureau of Prisons', datetime.date(2020, 12, 10), 'All', None, 'US', None, None, None, None, None, None, None, 'Bureau of Prisons, US'),\n",
       " ('Bureau of Prisons', datetime.date(2020, 12, 10), 'Moderna', None, 'US', None, None, None, None, None, None, None, 'Bureau of Prisons, US'),\n",
       " ('Bureau of Prisons', datetime.date(2020, 12, 10), 'Pfizer', None, 'US', None, None, None, None, None, None, None, 'Bureau of Prisons, US'),\n",
       " ('Bureau of Prisons', datetime.date(2020, 12, 11), 'All', None, 'US', None, None, None, None, None, None, None, 'Bureau of Prisons, US')]"
      ]
     },
     "execution_count": 127,
     "metadata": {},
     "output_type": "execute_result"
    }
   ],
   "source": [
    "%%sql\n",
    "select *\n",
    "from vaccine\n",
    "where fips is null or Lat is null or Long_ is null\n",
    "limit 5\n",
    ";"
   ]
  },
  {
   "cell_type": "markdown",
   "metadata": {},
   "source": [
    "##### from the above queries on the dataset vaccine, find fips, lat, long_ the three attributes should not be null but they have null values. all these data records are dirty data, they all need to update a default value or just delete them"
   ]
  },
  {
   "cell_type": "markdown",
   "metadata": {},
   "source": [
    "## surveying dataset people_vaccinated.csv"
   ]
  },
  {
   "cell_type": "code",
   "execution_count": 128,
   "metadata": {},
   "outputs": [
    {
     "name": "stdout",
     "output_type": "stream",
     "text": [
      "| FIPS | Province_State | Country_Region |       Date |     Lat |    Long_ | Combined_Key | People_Fully_Vaccinated | People_Partially_Vaccinated |\r\n",
      "| ---- | -------------- | -------------- | ---------- | ------- | -------- | ------------ | ----------------------- | --------------------------- |\r\n",
      "| True | Alabama        | US             | 2020-12-10 | 32.318… | -86.902… | Alabama, US  |                         |                             |\r\n",
      "| True | Alabama        | US             | 2020-12-11 | 32.318… | -86.902… | Alabama, US  |                         |                             |\r\n",
      "| True | Alabama        | US             | 2020-12-12 | 32.318… | -86.902… | Alabama, US  |                         |                             |\r\n",
      "| True | Alabama        | US             | 2020-12-13 | 32.318… | -86.902… | Alabama, US  |                         |                             |\r\n",
      "| True | Alabama        | US             | 2020-12-14 | 32.318… | -86.902… | Alabama, US  |                         |                             |\r\n",
      "| True | Alabama        | US             | 2020-12-15 | 32.318… | -86.902… | Alabama, US  |                         |                             |\r\n",
      "| True | Alabama        | US             | 2020-12-16 | 32.318… | -86.902… | Alabama, US  |                         |                             |\r\n",
      "| True | Alabama        | US             | 2020-12-17 | 32.318… | -86.902… | Alabama, US  |                         |                             |\r\n",
      "| True | Alabama        | US             | 2020-12-18 | 32.318… | -86.902… | Alabama, US  |                         |                             |\r\n"
     ]
    }
   ],
   "source": [
    "!head people_vaccinated.csv | csvlook"
   ]
  },
  {
   "cell_type": "code",
   "execution_count": 129,
   "metadata": {},
   "outputs": [],
   "source": [
    "import os"
   ]
  },
  {
   "cell_type": "code",
   "execution_count": 130,
   "metadata": {},
   "outputs": [
    {
     "name": "stdout",
     "output_type": "stream",
     "text": [
      "CPU times: user 0 ns, sys: 4.12 ms, total: 4.12 ms\n",
      "Wall time: 18.7 s\n"
     ]
    },
    {
     "data": {
      "text/plain": [
       "0"
      ]
     },
     "execution_count": 130,
     "metadata": {},
     "output_type": "execute_result"
    }
   ],
   "source": [
    "%time os.system(\"head -25000 people_vaccinated.csv | csvsort -c1 | head | csvlook\")"
   ]
  },
  {
   "cell_type": "code",
   "execution_count": 131,
   "metadata": {},
   "outputs": [
    {
     "name": "stdout",
     "output_type": "stream",
     "text": [
      "CPU times: user 2.29 ms, sys: 2.26 ms, total: 4.55 ms\n",
      "Wall time: 10.9 s\n"
     ]
    },
    {
     "data": {
      "text/plain": [
       "0"
      ]
     },
     "execution_count": 131,
     "metadata": {},
     "output_type": "execute_result"
    }
   ],
   "source": [
    "%time os.system(\"head -25000 people_vaccinated.csv | csvcut -c1 | csvsort -c1| head | csvlook\")"
   ]
  },
  {
   "cell_type": "code",
   "execution_count": 132,
   "metadata": {},
   "outputs": [
    {
     "name": "stdout",
     "output_type": "stream",
     "text": [
      " * postgresql://postgres@/final_project\n",
      "Done.\n",
      "Done.\n"
     ]
    },
    {
     "data": {
      "text/plain": [
       "[]"
      ]
     },
     "execution_count": 132,
     "metadata": {},
     "output_type": "execute_result"
    }
   ],
   "source": [
    "%%sql\n",
    "DROP TABLE IF EXISTS people_vaccinated;\n",
    "\n",
    "CREATE TABLE people_vaccinated (\n",
    "FIPS integer,\n",
    "Province_State text not null,\n",
    "Country_Region text not null,\n",
    "Date date not null,\n",
    "Lat numeric,\n",
    "Long_ numeric,\n",
    "Combined_Key text not null,\n",
    "People_Fully_Vaccinated numeric,\n",
    "People_Partially_Vaccinated numeric\n",
    ")"
   ]
  },
  {
   "cell_type": "code",
   "execution_count": 133,
   "metadata": {},
   "outputs": [
    {
     "name": "stdout",
     "output_type": "stream",
     "text": [
      "/home/ubuntu\r\n"
     ]
    }
   ],
   "source": [
    "!pwd"
   ]
  },
  {
   "cell_type": "code",
   "execution_count": 134,
   "metadata": {},
   "outputs": [
    {
     "name": "stdout",
     "output_type": "stream",
     "text": [
      " * postgresql://postgres@/final_project\n",
      "21372 rows affected.\n",
      "(psycopg2.errors.SyntaxError) syntax error at or near \"#\"\n",
      "LINE 1: #here my location is /home/ubuntu, please change it accordin...\n",
      "        ^\n",
      "\n",
      "[SQL: #here my location is /home/ubuntu, please change it accordingly as well.]\n",
      "(Background on this error at: http://sqlalche.me/e/f405)\n"
     ]
    }
   ],
   "source": [
    "%%sql\n",
    "COPY people_vaccinated FROM '/home/ubuntu/people_vaccinated.csv'\n",
    "CSV\n",
    "HEADER;\n",
    "#here my location is /home/ubuntu, please change it accordingly as well."
   ]
  },
  {
   "cell_type": "code",
   "execution_count": 135,
   "metadata": {},
   "outputs": [
    {
     "name": "stdout",
     "output_type": "stream",
     "text": [
      " * postgresql://postgres@/final_project\n",
      "1 rows affected.\n"
     ]
    },
    {
     "data": {
      "text/html": [
       "<table>\n",
       "    <tr>\n",
       "        <th>count</th>\n",
       "    </tr>\n",
       "    <tr>\n",
       "        <td>21372</td>\n",
       "    </tr>\n",
       "</table>"
      ],
      "text/plain": [
       "[(21372,)]"
      ]
     },
     "execution_count": 135,
     "metadata": {},
     "output_type": "execute_result"
    }
   ],
   "source": [
    "%%sql\n",
    "select count(*) from people_vaccinated;"
   ]
  },
  {
   "cell_type": "code",
   "execution_count": 136,
   "metadata": {},
   "outputs": [
    {
     "name": "stdout",
     "output_type": "stream",
     "text": [
      " * postgresql://postgres@/final_project\n",
      "10 rows affected.\n"
     ]
    },
    {
     "data": {
      "text/html": [
       "<table>\n",
       "    <tr>\n",
       "        <th>fips</th>\n",
       "        <th>province_state</th>\n",
       "        <th>country_region</th>\n",
       "        <th>date</th>\n",
       "        <th>lat</th>\n",
       "        <th>long_</th>\n",
       "        <th>combined_key</th>\n",
       "        <th>people_fully_vaccinated</th>\n",
       "        <th>people_partially_vaccinated</th>\n",
       "    </tr>\n",
       "    <tr>\n",
       "        <td>1</td>\n",
       "        <td>Alabama</td>\n",
       "        <td>US</td>\n",
       "        <td>2020-12-10</td>\n",
       "        <td>32.3182</td>\n",
       "        <td>-86.9023</td>\n",
       "        <td>Alabama, US</td>\n",
       "        <td>None</td>\n",
       "        <td>None</td>\n",
       "    </tr>\n",
       "    <tr>\n",
       "        <td>1</td>\n",
       "        <td>Alabama</td>\n",
       "        <td>US</td>\n",
       "        <td>2020-12-11</td>\n",
       "        <td>32.3182</td>\n",
       "        <td>-86.9023</td>\n",
       "        <td>Alabama, US</td>\n",
       "        <td>None</td>\n",
       "        <td>None</td>\n",
       "    </tr>\n",
       "    <tr>\n",
       "        <td>1</td>\n",
       "        <td>Alabama</td>\n",
       "        <td>US</td>\n",
       "        <td>2020-12-12</td>\n",
       "        <td>32.3182</td>\n",
       "        <td>-86.9023</td>\n",
       "        <td>Alabama, US</td>\n",
       "        <td>None</td>\n",
       "        <td>None</td>\n",
       "    </tr>\n",
       "    <tr>\n",
       "        <td>1</td>\n",
       "        <td>Alabama</td>\n",
       "        <td>US</td>\n",
       "        <td>2020-12-13</td>\n",
       "        <td>32.3182</td>\n",
       "        <td>-86.9023</td>\n",
       "        <td>Alabama, US</td>\n",
       "        <td>None</td>\n",
       "        <td>None</td>\n",
       "    </tr>\n",
       "    <tr>\n",
       "        <td>1</td>\n",
       "        <td>Alabama</td>\n",
       "        <td>US</td>\n",
       "        <td>2020-12-14</td>\n",
       "        <td>32.3182</td>\n",
       "        <td>-86.9023</td>\n",
       "        <td>Alabama, US</td>\n",
       "        <td>None</td>\n",
       "        <td>None</td>\n",
       "    </tr>\n",
       "    <tr>\n",
       "        <td>1</td>\n",
       "        <td>Alabama</td>\n",
       "        <td>US</td>\n",
       "        <td>2020-12-15</td>\n",
       "        <td>32.3182</td>\n",
       "        <td>-86.9023</td>\n",
       "        <td>Alabama, US</td>\n",
       "        <td>None</td>\n",
       "        <td>None</td>\n",
       "    </tr>\n",
       "    <tr>\n",
       "        <td>1</td>\n",
       "        <td>Alabama</td>\n",
       "        <td>US</td>\n",
       "        <td>2020-12-16</td>\n",
       "        <td>32.3182</td>\n",
       "        <td>-86.9023</td>\n",
       "        <td>Alabama, US</td>\n",
       "        <td>None</td>\n",
       "        <td>None</td>\n",
       "    </tr>\n",
       "    <tr>\n",
       "        <td>1</td>\n",
       "        <td>Alabama</td>\n",
       "        <td>US</td>\n",
       "        <td>2020-12-17</td>\n",
       "        <td>32.3182</td>\n",
       "        <td>-86.9023</td>\n",
       "        <td>Alabama, US</td>\n",
       "        <td>None</td>\n",
       "        <td>None</td>\n",
       "    </tr>\n",
       "    <tr>\n",
       "        <td>1</td>\n",
       "        <td>Alabama</td>\n",
       "        <td>US</td>\n",
       "        <td>2020-12-18</td>\n",
       "        <td>32.3182</td>\n",
       "        <td>-86.9023</td>\n",
       "        <td>Alabama, US</td>\n",
       "        <td>None</td>\n",
       "        <td>None</td>\n",
       "    </tr>\n",
       "    <tr>\n",
       "        <td>1</td>\n",
       "        <td>Alabama</td>\n",
       "        <td>US</td>\n",
       "        <td>2020-12-19</td>\n",
       "        <td>32.3182</td>\n",
       "        <td>-86.9023</td>\n",
       "        <td>Alabama, US</td>\n",
       "        <td>None</td>\n",
       "        <td>None</td>\n",
       "    </tr>\n",
       "</table>"
      ],
      "text/plain": [
       "[(1, 'Alabama', 'US', datetime.date(2020, 12, 10), Decimal('32.3182'), Decimal('-86.9023'), 'Alabama, US', None, None),\n",
       " (1, 'Alabama', 'US', datetime.date(2020, 12, 11), Decimal('32.3182'), Decimal('-86.9023'), 'Alabama, US', None, None),\n",
       " (1, 'Alabama', 'US', datetime.date(2020, 12, 12), Decimal('32.3182'), Decimal('-86.9023'), 'Alabama, US', None, None),\n",
       " (1, 'Alabama', 'US', datetime.date(2020, 12, 13), Decimal('32.3182'), Decimal('-86.9023'), 'Alabama, US', None, None),\n",
       " (1, 'Alabama', 'US', datetime.date(2020, 12, 14), Decimal('32.3182'), Decimal('-86.9023'), 'Alabama, US', None, None),\n",
       " (1, 'Alabama', 'US', datetime.date(2020, 12, 15), Decimal('32.3182'), Decimal('-86.9023'), 'Alabama, US', None, None),\n",
       " (1, 'Alabama', 'US', datetime.date(2020, 12, 16), Decimal('32.3182'), Decimal('-86.9023'), 'Alabama, US', None, None),\n",
       " (1, 'Alabama', 'US', datetime.date(2020, 12, 17), Decimal('32.3182'), Decimal('-86.9023'), 'Alabama, US', None, None),\n",
       " (1, 'Alabama', 'US', datetime.date(2020, 12, 18), Decimal('32.3182'), Decimal('-86.9023'), 'Alabama, US', None, None),\n",
       " (1, 'Alabama', 'US', datetime.date(2020, 12, 19), Decimal('32.3182'), Decimal('-86.9023'), 'Alabama, US', None, None)]"
      ]
     },
     "execution_count": 136,
     "metadata": {},
     "output_type": "execute_result"
    }
   ],
   "source": [
    "%%sql\n",
    "select * from people_vaccinated limit 10;"
   ]
  },
  {
   "cell_type": "markdown",
   "metadata": {},
   "source": [
    "#### check if people_vaccinated has null values on attribute fips, lat and long_"
   ]
  },
  {
   "cell_type": "code",
   "execution_count": 137,
   "metadata": {},
   "outputs": [
    {
     "name": "stdout",
     "output_type": "stream",
     "text": [
      " * postgresql://postgres@/final_project\n",
      "1 rows affected.\n"
     ]
    },
    {
     "data": {
      "text/html": [
       "<table>\n",
       "    <tr>\n",
       "        <th>count</th>\n",
       "    </tr>\n",
       "    <tr>\n",
       "        <td>1716</td>\n",
       "    </tr>\n",
       "</table>"
      ],
      "text/plain": [
       "[(1716,)]"
      ]
     },
     "execution_count": 137,
     "metadata": {},
     "output_type": "execute_result"
    }
   ],
   "source": [
    "%%sql\n",
    "select count(*)\n",
    "from people_vaccinated \n",
    "where fips is null or lat is null or long_ is null;"
   ]
  },
  {
   "cell_type": "code",
   "execution_count": 138,
   "metadata": {},
   "outputs": [
    {
     "name": "stdout",
     "output_type": "stream",
     "text": [
      " * postgresql://postgres@/final_project\n",
      "0 rows affected.\n"
     ]
    },
    {
     "data": {
      "text/html": [
       "<table>\n",
       "    <tr>\n",
       "        <th>fips</th>\n",
       "        <th>province_state</th>\n",
       "        <th>country_region</th>\n",
       "        <th>date</th>\n",
       "        <th>lat</th>\n",
       "        <th>long_</th>\n",
       "        <th>combined_key</th>\n",
       "        <th>people_fully_vaccinated</th>\n",
       "        <th>people_partially_vaccinated</th>\n",
       "        <th>count</th>\n",
       "    </tr>\n",
       "</table>"
      ],
      "text/plain": [
       "[]"
      ]
     },
     "execution_count": 138,
     "metadata": {},
     "output_type": "execute_result"
    }
   ],
   "source": [
    "%%sql\n",
    "select FIPS,Province_State,Country_Region,Date,Lat,Long_,Combined_Key,People_Fully_Vaccinated,People_Partially_Vaccinated, count(*)\n",
    "from people_vaccinated \n",
    "group by FIPS,Province_State,Country_Region,Date,Lat,Long_,Combined_Key,People_Fully_Vaccinated,People_Partially_Vaccinated\n",
    "having count(*)>1\n",
    "order by FIPS,Province_State,Country_Region,Date,Lat,Long_,Combined_Key,People_Fully_Vaccinated,People_Partially_Vaccinated;"
   ]
  },
  {
   "cell_type": "markdown",
   "metadata": {},
   "source": [
    "#### deleting the fips is null, lat is null or long_ is null records"
   ]
  },
  {
   "cell_type": "code",
   "execution_count": 139,
   "metadata": {},
   "outputs": [
    {
     "name": "stdout",
     "output_type": "stream",
     "text": [
      " * postgresql://postgres@/final_project\n",
      "1716 rows affected.\n"
     ]
    },
    {
     "data": {
      "text/plain": [
       "[]"
      ]
     },
     "execution_count": 139,
     "metadata": {},
     "output_type": "execute_result"
    }
   ],
   "source": [
    "%%sql\n",
    "delete from people_vaccinated where fips is null or lat is null or long_ is null;"
   ]
  },
  {
   "cell_type": "code",
   "execution_count": null,
   "metadata": {},
   "outputs": [],
   "source": []
  },
  {
   "cell_type": "markdown",
   "metadata": {},
   "source": [
    "### surveying dataset testing.csv"
   ]
  },
  {
   "cell_type": "code",
   "execution_count": 140,
   "metadata": {},
   "outputs": [
    {
     "name": "stdout",
     "output_type": "stream",
     "text": [
      " * postgresql://postgres@/final_project\n",
      "Done.\n",
      "Done.\n"
     ]
    },
    {
     "data": {
      "text/plain": [
       "[]"
      ]
     },
     "execution_count": 140,
     "metadata": {},
     "output_type": "execute_result"
    }
   ],
   "source": [
    "%%sql\n",
    "DROP TABLE IF EXISTS testing;\n",
    "\n",
    "CREATE TABLE testing (\n",
    "date varchar(20) not null,\n",
    "state text not null,\n",
    "cases_conf_probable numeric,\n",
    "cases_confirmed numeric,\n",
    "cases_probable numeric,\n",
    "tests_viral_positive numeric,\n",
    "tests_viral_negative numeric,\n",
    "tests_viral_total numeric,\n",
    "tests_antigen_positive numeric,\n",
    "tests_antigen_total numeric,\n",
    "people_viral_positive numeric,\n",
    "people_viral_total numeric,\n",
    "people_antigen_positive numeric,\n",
    "people_antigen_total numeric,\n",
    "encounters_viral_total numeric,\n",
    "tests_combined_total numeric\n",
    ")"
   ]
  },
  {
   "cell_type": "code",
   "execution_count": 141,
   "metadata": {
    "scrolled": true
   },
   "outputs": [
    {
     "name": "stdout",
     "output_type": "stream",
     "text": [
      "/home/ubuntu\r\n"
     ]
    }
   ],
   "source": [
    "!pwd"
   ]
  },
  {
   "cell_type": "code",
   "execution_count": 142,
   "metadata": {},
   "outputs": [
    {
     "name": "stdout",
     "output_type": "stream",
     "text": [
      " * postgresql://postgres@/final_project\n",
      "35508 rows affected.\n",
      "(psycopg2.errors.SyntaxError) syntax error at or near \"#\"\n",
      "LINE 1: #here my location is /home/ubuntu, please change it accordin...\n",
      "        ^\n",
      "\n",
      "[SQL: #here my location is /home/ubuntu, please change it accordingly as well.]\n",
      "(Background on this error at: http://sqlalche.me/e/f405)\n"
     ]
    }
   ],
   "source": [
    "%%sql\n",
    "COPY testing FROM '/home/ubuntu/testing.csv'\n",
    "CSV\n",
    "HEADER;\n",
    "#here my location is /home/ubuntu, please change it accordingly as well."
   ]
  },
  {
   "cell_type": "code",
   "execution_count": 143,
   "metadata": {},
   "outputs": [
    {
     "name": "stdout",
     "output_type": "stream",
     "text": [
      " * postgresql://postgres@/final_project\n",
      "1 rows affected.\n"
     ]
    },
    {
     "data": {
      "text/html": [
       "<table>\n",
       "    <tr>\n",
       "        <th>count</th>\n",
       "    </tr>\n",
       "    <tr>\n",
       "        <td>35508</td>\n",
       "    </tr>\n",
       "</table>"
      ],
      "text/plain": [
       "[(35508,)]"
      ]
     },
     "execution_count": 143,
     "metadata": {},
     "output_type": "execute_result"
    }
   ],
   "source": [
    "%%sql\n",
    "select count(*) from testing;"
   ]
  },
  {
   "cell_type": "code",
   "execution_count": 144,
   "metadata": {},
   "outputs": [
    {
     "name": "stdout",
     "output_type": "stream",
     "text": [
      " * postgresql://postgres@/final_project\n",
      "10 rows affected.\n"
     ]
    },
    {
     "data": {
      "text/html": [
       "<table>\n",
       "    <tr>\n",
       "        <th>date</th>\n",
       "        <th>state</th>\n",
       "        <th>cases_conf_probable</th>\n",
       "        <th>cases_confirmed</th>\n",
       "        <th>cases_probable</th>\n",
       "        <th>tests_viral_positive</th>\n",
       "        <th>tests_viral_negative</th>\n",
       "        <th>tests_viral_total</th>\n",
       "        <th>tests_antigen_positive</th>\n",
       "        <th>tests_antigen_total</th>\n",
       "        <th>people_viral_positive</th>\n",
       "        <th>people_viral_total</th>\n",
       "        <th>people_antigen_positive</th>\n",
       "        <th>people_antigen_total</th>\n",
       "        <th>encounters_viral_total</th>\n",
       "        <th>tests_combined_total</th>\n",
       "    </tr>\n",
       "    <tr>\n",
       "        <td>3/6/2020</td>\n",
       "        <td>AK</td>\n",
       "        <td>None</td>\n",
       "        <td>None</td>\n",
       "        <td>None</td>\n",
       "        <td>None</td>\n",
       "        <td>None</td>\n",
       "        <td>8</td>\n",
       "        <td>None</td>\n",
       "        <td>None</td>\n",
       "        <td>None</td>\n",
       "        <td>None</td>\n",
       "        <td>None</td>\n",
       "        <td>None</td>\n",
       "        <td>None</td>\n",
       "        <td>8</td>\n",
       "    </tr>\n",
       "    <tr>\n",
       "        <td>3/7/2020</td>\n",
       "        <td>AK</td>\n",
       "        <td>None</td>\n",
       "        <td>None</td>\n",
       "        <td>None</td>\n",
       "        <td>None</td>\n",
       "        <td>None</td>\n",
       "        <td>12</td>\n",
       "        <td>None</td>\n",
       "        <td>None</td>\n",
       "        <td>None</td>\n",
       "        <td>None</td>\n",
       "        <td>None</td>\n",
       "        <td>None</td>\n",
       "        <td>None</td>\n",
       "        <td>12</td>\n",
       "    </tr>\n",
       "    <tr>\n",
       "        <td>3/8/2020</td>\n",
       "        <td>AK</td>\n",
       "        <td>None</td>\n",
       "        <td>None</td>\n",
       "        <td>None</td>\n",
       "        <td>None</td>\n",
       "        <td>None</td>\n",
       "        <td>14</td>\n",
       "        <td>None</td>\n",
       "        <td>None</td>\n",
       "        <td>None</td>\n",
       "        <td>None</td>\n",
       "        <td>None</td>\n",
       "        <td>None</td>\n",
       "        <td>None</td>\n",
       "        <td>14</td>\n",
       "    </tr>\n",
       "    <tr>\n",
       "        <td>3/9/2020</td>\n",
       "        <td>AK</td>\n",
       "        <td>None</td>\n",
       "        <td>None</td>\n",
       "        <td>None</td>\n",
       "        <td>None</td>\n",
       "        <td>None</td>\n",
       "        <td>23</td>\n",
       "        <td>None</td>\n",
       "        <td>None</td>\n",
       "        <td>None</td>\n",
       "        <td>None</td>\n",
       "        <td>None</td>\n",
       "        <td>None</td>\n",
       "        <td>None</td>\n",
       "        <td>23</td>\n",
       "    </tr>\n",
       "    <tr>\n",
       "        <td>3/10/2020</td>\n",
       "        <td>AK</td>\n",
       "        <td>None</td>\n",
       "        <td>None</td>\n",
       "        <td>None</td>\n",
       "        <td>None</td>\n",
       "        <td>None</td>\n",
       "        <td>23</td>\n",
       "        <td>None</td>\n",
       "        <td>None</td>\n",
       "        <td>None</td>\n",
       "        <td>None</td>\n",
       "        <td>None</td>\n",
       "        <td>None</td>\n",
       "        <td>None</td>\n",
       "        <td>23</td>\n",
       "    </tr>\n",
       "    <tr>\n",
       "        <td>3/11/2020</td>\n",
       "        <td>AK</td>\n",
       "        <td>None</td>\n",
       "        <td>None</td>\n",
       "        <td>None</td>\n",
       "        <td>None</td>\n",
       "        <td>None</td>\n",
       "        <td>46</td>\n",
       "        <td>None</td>\n",
       "        <td>None</td>\n",
       "        <td>None</td>\n",
       "        <td>None</td>\n",
       "        <td>None</td>\n",
       "        <td>None</td>\n",
       "        <td>None</td>\n",
       "        <td>46</td>\n",
       "    </tr>\n",
       "    <tr>\n",
       "        <td>3/12/2020</td>\n",
       "        <td>AK</td>\n",
       "        <td>None</td>\n",
       "        <td>None</td>\n",
       "        <td>None</td>\n",
       "        <td>None</td>\n",
       "        <td>None</td>\n",
       "        <td>46</td>\n",
       "        <td>None</td>\n",
       "        <td>None</td>\n",
       "        <td>None</td>\n",
       "        <td>None</td>\n",
       "        <td>None</td>\n",
       "        <td>None</td>\n",
       "        <td>None</td>\n",
       "        <td>46</td>\n",
       "    </tr>\n",
       "    <tr>\n",
       "        <td>3/13/2020</td>\n",
       "        <td>AK</td>\n",
       "        <td>None</td>\n",
       "        <td>None</td>\n",
       "        <td>None</td>\n",
       "        <td>None</td>\n",
       "        <td>None</td>\n",
       "        <td>60</td>\n",
       "        <td>None</td>\n",
       "        <td>None</td>\n",
       "        <td>None</td>\n",
       "        <td>None</td>\n",
       "        <td>None</td>\n",
       "        <td>None</td>\n",
       "        <td>None</td>\n",
       "        <td>60</td>\n",
       "    </tr>\n",
       "    <tr>\n",
       "        <td>3/14/2020</td>\n",
       "        <td>AK</td>\n",
       "        <td>None</td>\n",
       "        <td>None</td>\n",
       "        <td>None</td>\n",
       "        <td>None</td>\n",
       "        <td>None</td>\n",
       "        <td>144</td>\n",
       "        <td>None</td>\n",
       "        <td>None</td>\n",
       "        <td>None</td>\n",
       "        <td>None</td>\n",
       "        <td>None</td>\n",
       "        <td>None</td>\n",
       "        <td>None</td>\n",
       "        <td>144</td>\n",
       "    </tr>\n",
       "    <tr>\n",
       "        <td>3/15/2020</td>\n",
       "        <td>AK</td>\n",
       "        <td>None</td>\n",
       "        <td>None</td>\n",
       "        <td>None</td>\n",
       "        <td>None</td>\n",
       "        <td>None</td>\n",
       "        <td>144</td>\n",
       "        <td>None</td>\n",
       "        <td>None</td>\n",
       "        <td>None</td>\n",
       "        <td>None</td>\n",
       "        <td>None</td>\n",
       "        <td>None</td>\n",
       "        <td>None</td>\n",
       "        <td>144</td>\n",
       "    </tr>\n",
       "</table>"
      ],
      "text/plain": [
       "[('3/6/2020', 'AK', None, None, None, None, None, Decimal('8'), None, None, None, None, None, None, None, Decimal('8')),\n",
       " ('3/7/2020', 'AK', None, None, None, None, None, Decimal('12'), None, None, None, None, None, None, None, Decimal('12')),\n",
       " ('3/8/2020', 'AK', None, None, None, None, None, Decimal('14'), None, None, None, None, None, None, None, Decimal('14')),\n",
       " ('3/9/2020', 'AK', None, None, None, None, None, Decimal('23'), None, None, None, None, None, None, None, Decimal('23')),\n",
       " ('3/10/2020', 'AK', None, None, None, None, None, Decimal('23'), None, None, None, None, None, None, None, Decimal('23')),\n",
       " ('3/11/2020', 'AK', None, None, None, None, None, Decimal('46'), None, None, None, None, None, None, None, Decimal('46')),\n",
       " ('3/12/2020', 'AK', None, None, None, None, None, Decimal('46'), None, None, None, None, None, None, None, Decimal('46')),\n",
       " ('3/13/2020', 'AK', None, None, None, None, None, Decimal('60'), None, None, None, None, None, None, None, Decimal('60')),\n",
       " ('3/14/2020', 'AK', None, None, None, None, None, Decimal('144'), None, None, None, None, None, None, None, Decimal('144')),\n",
       " ('3/15/2020', 'AK', None, None, None, None, None, Decimal('144'), None, None, None, None, None, None, None, Decimal('144'))]"
      ]
     },
     "execution_count": 144,
     "metadata": {},
     "output_type": "execute_result"
    }
   ],
   "source": [
    "%%sql\n",
    "select * from testing limit 10;"
   ]
  },
  {
   "cell_type": "markdown",
   "metadata": {},
   "source": [
    "#### alter table tesing: date attribute's type is date."
   ]
  },
  {
   "cell_type": "code",
   "execution_count": 145,
   "metadata": {},
   "outputs": [
    {
     "name": "stdout",
     "output_type": "stream",
     "text": [
      " * postgresql://postgres@/final_project\n",
      "35508 rows affected.\n"
     ]
    },
    {
     "data": {
      "text/plain": [
       "[]"
      ]
     },
     "execution_count": 145,
     "metadata": {},
     "output_type": "execute_result"
    }
   ],
   "source": [
    "%%sql\n",
    "update testing set date=to_char(to_date(date,'MM/DD/YYYY'),'YYYY-MM-DD');"
   ]
  },
  {
   "cell_type": "code",
   "execution_count": 146,
   "metadata": {},
   "outputs": [
    {
     "name": "stdout",
     "output_type": "stream",
     "text": [
      " * postgresql://postgres@/final_project\n",
      "Done.\n"
     ]
    },
    {
     "data": {
      "text/plain": [
       "[]"
      ]
     },
     "execution_count": 146,
     "metadata": {},
     "output_type": "execute_result"
    }
   ],
   "source": [
    "%%sql\n",
    "alter table testing alter column date type date using date ::date;"
   ]
  },
  {
   "cell_type": "code",
   "execution_count": 147,
   "metadata": {},
   "outputs": [
    {
     "name": "stdout",
     "output_type": "stream",
     "text": [
      " * postgresql://postgres@/final_project\n",
      "10 rows affected.\n"
     ]
    },
    {
     "data": {
      "text/html": [
       "<table>\n",
       "    <tr>\n",
       "        <th>date</th>\n",
       "        <th>state</th>\n",
       "        <th>cases_conf_probable</th>\n",
       "        <th>cases_confirmed</th>\n",
       "        <th>cases_probable</th>\n",
       "        <th>tests_viral_positive</th>\n",
       "        <th>tests_viral_negative</th>\n",
       "        <th>tests_viral_total</th>\n",
       "        <th>tests_antigen_positive</th>\n",
       "        <th>tests_antigen_total</th>\n",
       "        <th>people_viral_positive</th>\n",
       "        <th>people_viral_total</th>\n",
       "        <th>people_antigen_positive</th>\n",
       "        <th>people_antigen_total</th>\n",
       "        <th>encounters_viral_total</th>\n",
       "        <th>tests_combined_total</th>\n",
       "    </tr>\n",
       "    <tr>\n",
       "        <td>2020-03-07</td>\n",
       "        <td>ME</td>\n",
       "        <td>0</td>\n",
       "        <td>None</td>\n",
       "        <td>None</td>\n",
       "        <td>None</td>\n",
       "        <td>None</td>\n",
       "        <td>None</td>\n",
       "        <td>None</td>\n",
       "        <td>None</td>\n",
       "        <td>0</td>\n",
       "        <td>None</td>\n",
       "        <td>None</td>\n",
       "        <td>None</td>\n",
       "        <td>None</td>\n",
       "        <td>None</td>\n",
       "    </tr>\n",
       "    <tr>\n",
       "        <td>2020-03-01</td>\n",
       "        <td>MI</td>\n",
       "        <td>14</td>\n",
       "        <td>None</td>\n",
       "        <td>None</td>\n",
       "        <td>None</td>\n",
       "        <td>None</td>\n",
       "        <td>None</td>\n",
       "        <td>None</td>\n",
       "        <td>None</td>\n",
       "        <td>14</td>\n",
       "        <td>None</td>\n",
       "        <td>None</td>\n",
       "        <td>None</td>\n",
       "        <td>None</td>\n",
       "        <td>None</td>\n",
       "    </tr>\n",
       "    <tr>\n",
       "        <td>2020-03-11</td>\n",
       "        <td>AK</td>\n",
       "        <td>None</td>\n",
       "        <td>None</td>\n",
       "        <td>None</td>\n",
       "        <td>None</td>\n",
       "        <td>None</td>\n",
       "        <td>46</td>\n",
       "        <td>None</td>\n",
       "        <td>None</td>\n",
       "        <td>None</td>\n",
       "        <td>None</td>\n",
       "        <td>None</td>\n",
       "        <td>None</td>\n",
       "        <td>None</td>\n",
       "        <td>46</td>\n",
       "    </tr>\n",
       "    <tr>\n",
       "        <td>2020-03-12</td>\n",
       "        <td>AK</td>\n",
       "        <td>None</td>\n",
       "        <td>None</td>\n",
       "        <td>None</td>\n",
       "        <td>None</td>\n",
       "        <td>None</td>\n",
       "        <td>46</td>\n",
       "        <td>None</td>\n",
       "        <td>None</td>\n",
       "        <td>None</td>\n",
       "        <td>None</td>\n",
       "        <td>None</td>\n",
       "        <td>None</td>\n",
       "        <td>None</td>\n",
       "        <td>46</td>\n",
       "    </tr>\n",
       "    <tr>\n",
       "        <td>2020-03-13</td>\n",
       "        <td>AK</td>\n",
       "        <td>None</td>\n",
       "        <td>None</td>\n",
       "        <td>None</td>\n",
       "        <td>None</td>\n",
       "        <td>None</td>\n",
       "        <td>60</td>\n",
       "        <td>None</td>\n",
       "        <td>None</td>\n",
       "        <td>None</td>\n",
       "        <td>None</td>\n",
       "        <td>None</td>\n",
       "        <td>None</td>\n",
       "        <td>None</td>\n",
       "        <td>60</td>\n",
       "    </tr>\n",
       "    <tr>\n",
       "        <td>2020-03-14</td>\n",
       "        <td>AK</td>\n",
       "        <td>None</td>\n",
       "        <td>None</td>\n",
       "        <td>None</td>\n",
       "        <td>None</td>\n",
       "        <td>None</td>\n",
       "        <td>144</td>\n",
       "        <td>None</td>\n",
       "        <td>None</td>\n",
       "        <td>None</td>\n",
       "        <td>None</td>\n",
       "        <td>None</td>\n",
       "        <td>None</td>\n",
       "        <td>None</td>\n",
       "        <td>144</td>\n",
       "    </tr>\n",
       "    <tr>\n",
       "        <td>2020-03-15</td>\n",
       "        <td>AK</td>\n",
       "        <td>None</td>\n",
       "        <td>None</td>\n",
       "        <td>None</td>\n",
       "        <td>None</td>\n",
       "        <td>None</td>\n",
       "        <td>144</td>\n",
       "        <td>None</td>\n",
       "        <td>None</td>\n",
       "        <td>None</td>\n",
       "        <td>None</td>\n",
       "        <td>None</td>\n",
       "        <td>None</td>\n",
       "        <td>None</td>\n",
       "        <td>144</td>\n",
       "    </tr>\n",
       "    <tr>\n",
       "        <td>2020-03-16</td>\n",
       "        <td>AK</td>\n",
       "        <td>None</td>\n",
       "        <td>None</td>\n",
       "        <td>None</td>\n",
       "        <td>None</td>\n",
       "        <td>None</td>\n",
       "        <td>144</td>\n",
       "        <td>None</td>\n",
       "        <td>None</td>\n",
       "        <td>None</td>\n",
       "        <td>None</td>\n",
       "        <td>None</td>\n",
       "        <td>None</td>\n",
       "        <td>None</td>\n",
       "        <td>144</td>\n",
       "    </tr>\n",
       "    <tr>\n",
       "        <td>2020-05-16</td>\n",
       "        <td>AS</td>\n",
       "        <td>0</td>\n",
       "        <td>None</td>\n",
       "        <td>None</td>\n",
       "        <td>None</td>\n",
       "        <td>None</td>\n",
       "        <td>105</td>\n",
       "        <td>None</td>\n",
       "        <td>None</td>\n",
       "        <td>0</td>\n",
       "        <td>None</td>\n",
       "        <td>None</td>\n",
       "        <td>None</td>\n",
       "        <td>None</td>\n",
       "        <td>105</td>\n",
       "    </tr>\n",
       "    <tr>\n",
       "        <td>2020-05-17</td>\n",
       "        <td>AS</td>\n",
       "        <td>0</td>\n",
       "        <td>None</td>\n",
       "        <td>None</td>\n",
       "        <td>None</td>\n",
       "        <td>None</td>\n",
       "        <td>105</td>\n",
       "        <td>None</td>\n",
       "        <td>None</td>\n",
       "        <td>0</td>\n",
       "        <td>None</td>\n",
       "        <td>None</td>\n",
       "        <td>None</td>\n",
       "        <td>None</td>\n",
       "        <td>105</td>\n",
       "    </tr>\n",
       "</table>"
      ],
      "text/plain": [
       "[(datetime.date(2020, 3, 7), 'ME', Decimal('0'), None, None, None, None, None, None, None, Decimal('0'), None, None, None, None, None),\n",
       " (datetime.date(2020, 3, 1), 'MI', Decimal('14'), None, None, None, None, None, None, None, Decimal('14'), None, None, None, None, None),\n",
       " (datetime.date(2020, 3, 11), 'AK', None, None, None, None, None, Decimal('46'), None, None, None, None, None, None, None, Decimal('46')),\n",
       " (datetime.date(2020, 3, 12), 'AK', None, None, None, None, None, Decimal('46'), None, None, None, None, None, None, None, Decimal('46')),\n",
       " (datetime.date(2020, 3, 13), 'AK', None, None, None, None, None, Decimal('60'), None, None, None, None, None, None, None, Decimal('60')),\n",
       " (datetime.date(2020, 3, 14), 'AK', None, None, None, None, None, Decimal('144'), None, None, None, None, None, None, None, Decimal('144')),\n",
       " (datetime.date(2020, 3, 15), 'AK', None, None, None, None, None, Decimal('144'), None, None, None, None, None, None, None, Decimal('144')),\n",
       " (datetime.date(2020, 3, 16), 'AK', None, None, None, None, None, Decimal('144'), None, None, None, None, None, None, None, Decimal('144')),\n",
       " (datetime.date(2020, 5, 16), 'AS', Decimal('0'), None, None, None, None, Decimal('105'), None, None, Decimal('0'), None, None, None, None, Decimal('105')),\n",
       " (datetime.date(2020, 5, 17), 'AS', Decimal('0'), None, None, None, None, Decimal('105'), None, None, Decimal('0'), None, None, None, None, Decimal('105'))]"
      ]
     },
     "execution_count": 147,
     "metadata": {},
     "output_type": "execute_result"
    }
   ],
   "source": [
    "%%sql\n",
    "select * from testing limit 10;"
   ]
  },
  {
   "cell_type": "markdown",
   "metadata": {},
   "source": [
    "#### for the testing table is a statistical table so the null value all should update to 0"
   ]
  },
  {
   "cell_type": "code",
   "execution_count": 148,
   "metadata": {},
   "outputs": [
    {
     "name": "stdout",
     "output_type": "stream",
     "text": [
      " * postgresql://postgres@/final_project\n",
      "287 rows affected.\n"
     ]
    },
    {
     "data": {
      "text/plain": [
       "[]"
      ]
     },
     "execution_count": 148,
     "metadata": {},
     "output_type": "execute_result"
    }
   ],
   "source": [
    "%%sql\n",
    "update testing set cases_conf_probable=0 where cases_conf_probable is null;"
   ]
  },
  {
   "cell_type": "code",
   "execution_count": 149,
   "metadata": {},
   "outputs": [
    {
     "name": "stdout",
     "output_type": "stream",
     "text": [
      " * postgresql://postgres@/final_project\n",
      "22663 rows affected.\n"
     ]
    },
    {
     "data": {
      "text/plain": [
       "[]"
      ]
     },
     "execution_count": 149,
     "metadata": {},
     "output_type": "execute_result"
    }
   ],
   "source": [
    "%%sql\n",
    "update testing set cases_confirmed=0 where cases_confirmed is null;"
   ]
  },
  {
   "cell_type": "code",
   "execution_count": 150,
   "metadata": {},
   "outputs": [
    {
     "name": "stdout",
     "output_type": "stream",
     "text": [
      " * postgresql://postgres@/final_project\n",
      "22664 rows affected.\n"
     ]
    },
    {
     "data": {
      "text/plain": [
       "[]"
      ]
     },
     "execution_count": 150,
     "metadata": {},
     "output_type": "execute_result"
    }
   ],
   "source": [
    "%%sql\n",
    "update testing set cases_probable=0 where cases_probable is null;"
   ]
  },
  {
   "cell_type": "code",
   "execution_count": 151,
   "metadata": {},
   "outputs": [
    {
     "name": "stdout",
     "output_type": "stream",
     "text": [
      " * postgresql://postgres@/final_project\n",
      "19012 rows affected.\n"
     ]
    },
    {
     "data": {
      "text/plain": [
       "[]"
      ]
     },
     "execution_count": 151,
     "metadata": {},
     "output_type": "execute_result"
    }
   ],
   "source": [
    "%%sql\n",
    "update testing set tests_viral_positive=0 where tests_viral_positive is null;"
   ]
  },
  {
   "cell_type": "code",
   "execution_count": 152,
   "metadata": {},
   "outputs": [
    {
     "name": "stdout",
     "output_type": "stream",
     "text": [
      " * postgresql://postgres@/final_project\n",
      "25683 rows affected.\n"
     ]
    },
    {
     "data": {
      "text/plain": [
       "[]"
      ]
     },
     "execution_count": 152,
     "metadata": {},
     "output_type": "execute_result"
    }
   ],
   "source": [
    "%%sql\n",
    "update testing set tests_viral_negative=0 where tests_viral_negative is null;"
   ]
  },
  {
   "cell_type": "code",
   "execution_count": 153,
   "metadata": {},
   "outputs": [
    {
     "name": "stdout",
     "output_type": "stream",
     "text": [
      " * postgresql://postgres@/final_project\n",
      "8544 rows affected.\n"
     ]
    },
    {
     "data": {
      "text/plain": [
       "[]"
      ]
     },
     "execution_count": 153,
     "metadata": {},
     "output_type": "execute_result"
    }
   ],
   "source": [
    "%%sql\n",
    "update testing set tests_viral_total=0 where tests_viral_total is null;"
   ]
  },
  {
   "cell_type": "code",
   "execution_count": 154,
   "metadata": {},
   "outputs": [
    {
     "name": "stdout",
     "output_type": "stream",
     "text": [
      " * postgresql://postgres@/final_project\n",
      "29465 rows affected.\n"
     ]
    },
    {
     "data": {
      "text/plain": [
       "[]"
      ]
     },
     "execution_count": 154,
     "metadata": {},
     "output_type": "execute_result"
    }
   ],
   "source": [
    "%%sql\n",
    "update testing set tests_antigen_positive=0 where tests_antigen_positive is null;"
   ]
  },
  {
   "cell_type": "code",
   "execution_count": 155,
   "metadata": {},
   "outputs": [
    {
     "name": "stdout",
     "output_type": "stream",
     "text": [
      " * postgresql://postgres@/final_project\n",
      "25716 rows affected.\n"
     ]
    },
    {
     "data": {
      "text/plain": [
       "[]"
      ]
     },
     "execution_count": 155,
     "metadata": {},
     "output_type": "execute_result"
    }
   ],
   "source": [
    "%%sql\n",
    "update testing set tests_antigen_total=0 where tests_antigen_total is null;"
   ]
  },
  {
   "cell_type": "code",
   "execution_count": 156,
   "metadata": {},
   "outputs": [
    {
     "name": "stdout",
     "output_type": "stream",
     "text": [
      " * postgresql://postgres@/final_project\n",
      "3412 rows affected.\n"
     ]
    },
    {
     "data": {
      "text/plain": [
       "[]"
      ]
     },
     "execution_count": 156,
     "metadata": {},
     "output_type": "execute_result"
    }
   ],
   "source": [
    "%%sql\n",
    "update testing set people_viral_positive=0 where people_viral_positive  is null;"
   ]
  },
  {
   "cell_type": "code",
   "execution_count": 157,
   "metadata": {},
   "outputs": [
    {
     "name": "stdout",
     "output_type": "stream",
     "text": [
      " * postgresql://postgres@/final_project\n",
      "19810 rows affected.\n"
     ]
    },
    {
     "data": {
      "text/plain": [
       "[]"
      ]
     },
     "execution_count": 157,
     "metadata": {},
     "output_type": "execute_result"
    }
   ],
   "source": [
    "%%sql\n",
    "update testing set people_viral_total=0 where people_viral_total is null;"
   ]
  },
  {
   "cell_type": "code",
   "execution_count": 158,
   "metadata": {},
   "outputs": [
    {
     "name": "stdout",
     "output_type": "stream",
     "text": [
      " * postgresql://postgres@/final_project\n",
      "34086 rows affected.\n"
     ]
    },
    {
     "data": {
      "text/plain": [
       "[]"
      ]
     },
     "execution_count": 158,
     "metadata": {},
     "output_type": "execute_result"
    }
   ],
   "source": [
    "%%sql\n",
    "update testing set people_antigen_positive =0 where people_antigen_positive is null;"
   ]
  },
  {
   "cell_type": "code",
   "execution_count": 159,
   "metadata": {},
   "outputs": [
    {
     "name": "stdout",
     "output_type": "stream",
     "text": [
      " * postgresql://postgres@/final_project\n",
      "33423 rows affected.\n"
     ]
    },
    {
     "data": {
      "text/plain": [
       "[]"
      ]
     },
     "execution_count": 159,
     "metadata": {},
     "output_type": "execute_result"
    }
   ],
   "source": [
    "%%sql\n",
    "update testing set people_antigen_total=0 where people_antigen_total is null;"
   ]
  },
  {
   "cell_type": "code",
   "execution_count": 160,
   "metadata": {},
   "outputs": [
    {
     "name": "stdout",
     "output_type": "stream",
     "text": [
      " * postgresql://postgres@/final_project\n",
      "25974 rows affected.\n"
     ]
    },
    {
     "data": {
      "text/plain": [
       "[]"
      ]
     },
     "execution_count": 160,
     "metadata": {},
     "output_type": "execute_result"
    }
   ],
   "source": [
    "%%sql\n",
    "update testing set encounters_viral_total=0 where encounters_viral_total is null;"
   ]
  },
  {
   "cell_type": "code",
   "execution_count": 161,
   "metadata": {},
   "outputs": [
    {
     "name": "stdout",
     "output_type": "stream",
     "text": [
      " * postgresql://postgres@/final_project\n",
      "200 rows affected.\n"
     ]
    },
    {
     "data": {
      "text/plain": [
       "[]"
      ]
     },
     "execution_count": 161,
     "metadata": {},
     "output_type": "execute_result"
    }
   ],
   "source": [
    "%%sql\n",
    "update testing set tests_combined_total=0 where tests_combined_total is null;"
   ]
  },
  {
   "cell_type": "markdown",
   "metadata": {},
   "source": [
    "## Ask 3 - Attestation (-10% for non-compliance)\n",
    "\n",
    "All project team members must contribute meaningfully to the project and have complete knowledge on any part of it.\n",
    "\n",
    "Each group member MUST attest to his/her individual contributions in coding, and presentation write up. \n",
    "\n",
    "Penalty: -10% for non-compliance"
   ]
  },
  {
   "cell_type": "code",
   "execution_count": null,
   "metadata": {},
   "outputs": [],
   "source": []
  },
  {
   "cell_type": "markdown",
   "metadata": {},
   "source": [
    "## Ask 4 - Analytical Questions (15%)\n",
    "\n",
    "Communicate among your group members and produce analytical questions you want to answer with the data. Minimum of 4 major questions are required. \n",
    "\n",
    "You may consider me as your Sponsor. Arrange a 30 min meeting with me to discuss this part, if necessary. \n",
    "\n",
    "Expectation: A list of analytical questions that your model can answer. Check https://coronavirus.jhu.edu\n",
    "- ”tracking” -> “Critical Trends” or U.S. Map \n",
    "- “Vaccines” -> “Tracker” for ideas "
   ]
  },
  {
   "cell_type": "markdown",
   "metadata": {},
   "source": []
  },
  {
   "cell_type": "markdown",
   "metadata": {},
   "source": [
    "## Ask 5 - Designing a Dimensional Database (25%)\n",
    "\n",
    "Design a dimensional database to cover “Cases and Deaths”, “Vaccinations” and “Testing” datasets (Daily and for U.S.). I expect that your design will allow all other groups to answer most of their questions. \n",
    "\n",
    "Be precise and document your design correctly. \n",
    "\n",
    "Expectation: A star schema diagram detailing the design. Would be nice to produce an image of the design and added it to your code."
   ]
  },
  {
   "cell_type": "code",
   "execution_count": null,
   "metadata": {},
   "outputs": [],
   "source": []
  },
  {
   "cell_type": "markdown",
   "metadata": {},
   "source": [
    "## Ask 6 - Writing Queries for Analytical Questions (35%) \n",
    "\n",
    "Write queries to answer your analytical questions.\n",
    "\n",
    "Produce charts and make sure to include your code or a copy of chart (if you use outside Jupyter notebook tools). \n",
    "\n",
    "You are free to use any tool for visualization (e.g. tableau, ggplot, matplotlib,..).\n",
    "\n",
    "Expectation: set of queries, results and charts. Those should be compatible with your presentation."
   ]
  },
  {
   "cell_type": "code",
   "execution_count": null,
   "metadata": {},
   "outputs": [],
   "source": []
  }
 ],
 "metadata": {
  "kernelspec": {
   "display_name": "Python 3",
   "language": "python",
   "name": "python3"
  },
  "language_info": {
   "codemirror_mode": {
    "name": "ipython",
    "version": 3
   },
   "file_extension": ".py",
   "mimetype": "text/x-python",
   "name": "python",
   "nbconvert_exporter": "python",
   "pygments_lexer": "ipython3",
   "version": "3.8.2"
  }
 },
 "nbformat": 4,
 "nbformat_minor": 5
}
