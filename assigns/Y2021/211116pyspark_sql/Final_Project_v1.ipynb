{
 "cells": [
  {
   "cell_type": "markdown",
   "id": "df84023a-565a-450a-a4f0-1f479c3cf6c6",
   "metadata": {},
   "source": [
    "# Final Project\n",
    "\n",
    "Group 4: Jiaqi Bai, Somender Chaudhary, Shreyas Deo, Andrew Levy, Wenqwing Qin, Matias Roca-Guiulfo, and Alexis Yang"
   ]
  },
  {
   "cell_type": "markdown",
   "id": "e65bfafc-efa6-40c9-8fb1-de4027696ae1",
   "metadata": {},
   "source": [
    "## Ask 1 - Data Collection (10%)\n",
    "\n",
    "Use the JHU datasets website, collect the following dataset \n",
    "- Cases and Deaths (04/12/2020 – 11/15/2021)\n",
    "- Vaccine and People Vaccinated (12/10/2020 – 11/15/2021)\n",
    "- Testing\n",
    "\n",
    "The readme/dictionary files are available for all datasets Cases and Deaths, Vaccine and Testing.\n",
    "\n",
    "Acquire daily U.S. report. Perform initial exploration to make sure it is suitable for dimensional modeling and analytical analysis.\n",
    "\n",
    "Expectation: Provide a list of your data sources, The links to the data sources and links to any documentations you used.\n",
    "\n",
    "Links\n",
    "- JHU Datasets: https://coronavirus.jhu.edu/about/how-to-use-our-data\n",
    "- Cases: https://github.com/CSSEGISandData/COVID-19/tree/master/csse_covid_19_data/csse_covid_19_daily_reports_us\n",
    "- Deaths: https://github.com/govex/COVID-19/blob/master/data_tables/vaccine_data/us_data/time_series/vaccine_data_us_timeline.csv & https://raw.githubusercontent.com/govex/COVID-\n",
    "- Vaccine: https://github.com/govex/COVID-19/blob/master/data_tables/vaccine_data/us_data/time_series/vaccine_data_us_timeline.csv\n",
    "- People Vaccinated: https://raw.githubusercontent.com/govex/COVID-19/master/data_tables/vaccine_data/us_data/time_series/people_vaccinated_us_timeline.csv\n",
    "- Testing: https://raw.githubusercontent.com/govex/COVID-19/master/data_tables/testing_data/time_series_covid19_US.csv\n",
    "Readme/dictionary files\n",
    "- https://github.com/CSSEGISandData/COVID-19/blob/master/csse_covid_19_data/README.md\n",
    "- https://github.com/govex/COVID-19/blob/master/data_tables/vaccine_data/us_data/data_dictionary.csv\n",
    "- https://github.com/govex/COVID-19/blob/master/data_tables/testing_data/data_dictionary.csv"
   ]
  },
  {
   "cell_type": "markdown",
   "id": "e5b6a7ab-d0e5-4706-8bdd-27f41ed36adb",
   "metadata": {},
   "source": [
    "#### Collecting Cases and Deaths Dataset "
   ]
  },
  {
   "cell_type": "code",
   "execution_count": 2,
   "id": "025aa80e-1823-41c2-a6cd-9fea4905dad3",
   "metadata": {},
   "outputs": [
    {
     "ename": "SyntaxError",
     "evalue": "invalid syntax (2343974552.py, line 2)",
     "output_type": "error",
     "traceback": [
      "\u001b[0;36m  File \u001b[0;32m\"/tmp/ipykernel_1354/2343974552.py\"\u001b[0;36m, line \u001b[0;32m2\u001b[0m\n\u001b[0;31m    files = Path(https://github.com/CSSEGISandData/COVID-19/tree/master/csse_covid_19_data/csse_covid_19_daily_reports_us)\u001b[0m\n\u001b[0m                      ^\u001b[0m\n\u001b[0;31mSyntaxError\u001b[0m\u001b[0;31m:\u001b[0m invalid syntax\n"
     ]
    }
   ],
   "source": [
    "from pathlib import Path \n",
    "files = Path(https://github.com/CSSEGISandData/COVID-19/tree/master/csse_covid_19_data/csse_covid_19_daily_reports_us)\n",
    "#filter for only csv files\n",
    "csv_only = files.rglob('*.csv')\n",
    "#read ur csv files using a list comprehension\n",
    "#u can attach the filename if it is relevant and makes sense\n",
    "#by using the stem function from pathlib\n",
    "combo = [pd.read_csv(f)\n",
    "         .assign(f.stem)\n",
    "         .fillna(0)\n",
    "         for f in csv_only]\n",
    "\n",
    "#u can lump them all into one dataframe, using pandas' concat function:\n",
    "\n",
    " one_df = pd.concat(combo,ignore_index=True)\n",
    "\n",
    "#u can remove duplicates :\n",
    "\n",
    "one_df = one_df.drop_duplicates('date')"
   ]
  },
  {
   "cell_type": "markdown",
   "id": "f4a8ed49-3c4f-42bb-97e2-63b787206e4f",
   "metadata": {},
   "source": [
    "#### Collecting Vaccine Dataset"
   ]
  },
  {
   "cell_type": "code",
   "execution_count": 3,
   "id": "79a7aae5-db33-4059-a5d1-b1c9f1ed4934",
   "metadata": {},
   "outputs": [
    {
     "name": "stdout",
     "output_type": "stream",
     "text": [
      "--2021-11-25 23:39:47--  https://raw.githubusercontent.com/govex/COVID-19/master/data_tables/vaccine_data/us_data/time_series/vaccine_data_us_timeline.csv\n",
      "Resolving raw.githubusercontent.com (raw.githubusercontent.com)... 185.199.108.133, 185.199.109.133, 185.199.110.133, ...\n",
      "Connecting to raw.githubusercontent.com (raw.githubusercontent.com)|185.199.108.133|:443... connected.\n",
      "HTTP request sent, awaiting response... 200 OK\n",
      "Length: 10282097 (9.8M) [text/plain]\n",
      "Saving to: ‘vaccine_data_us_timeline.csv’\n",
      "\n",
      "vaccine_data_us_tim 100%[===================>]   9.81M  --.-KB/s    in 0.09s   \n",
      "\n",
      "2021-11-25 23:39:47 (113 MB/s) - ‘vaccine_data_us_timeline.csv’ saved [10282097/10282097]\n",
      "\n"
     ]
    }
   ],
   "source": [
    "!wget https://raw.githubusercontent.com/govex/COVID-19/master/data_tables/vaccine_data/us_data/time_series/vaccine_data_us_timeline.csv"
   ]
  },
  {
   "cell_type": "code",
   "execution_count": 6,
   "id": "9680a53a-102c-40d2-95b3-e74af18fb00d",
   "metadata": {},
   "outputs": [],
   "source": [
    "!mv vaccine_data_us_timeline.csv vaccine.csv"
   ]
  },
  {
   "cell_type": "code",
   "execution_count": 7,
   "id": "1ff347d2-e83f-4ce5-aa99-a167d4d3e13b",
   "metadata": {},
   "outputs": [
    {
     "name": "stdout",
     "output_type": "stream",
     "text": [
      "115517 vaccine.csv\n"
     ]
    }
   ],
   "source": [
    "!wc -l vaccine.csv"
   ]
  },
  {
   "cell_type": "code",
   "execution_count": 8,
   "id": "669f08fa-1240-4a74-a6e0-801094d334a7",
   "metadata": {},
   "outputs": [
    {
     "name": "stdout",
     "output_type": "stream",
     "text": [
      "  1: Province_State\n",
      "  2: Date\n",
      "  3: Vaccine_Type\n",
      "  4: FIPS\n",
      "  5: Country_Region\n",
      "  6: Lat\n",
      "  7: Long_\n",
      "  8: Doses_alloc\n",
      "  9: Doses_shipped\n",
      " 10: Doses_admin\n",
      " 11: Stage_One_Doses\n",
      " 12: Stage_Two_Doses\n",
      " 13: Combined_Key\n"
     ]
    }
   ],
   "source": [
    "!head vaccine.csv | csvcut -n"
   ]
  },
  {
   "cell_type": "code",
   "execution_count": 9,
   "id": "5541dacb-9f76-444d-80da-ad0794c09d9e",
   "metadata": {},
   "outputs": [
    {
     "name": "stdout",
     "output_type": "stream",
     "text": [
      "| Province_State |       Date | Vaccine_Type | FIPS | Country_Region |     Lat |    Long_ | Doses_alloc | Doses_shipped | Doses_admin | Stage_One_Doses | Stage_Two_Doses | Combined_Key |\n",
      "| -------------- | ---------- | ------------ | ---- | -------------- | ------- | -------- | ----------- | ------------- | ----------- | --------------- | --------------- | ------------ |\n",
      "| Alabama        | 2020-12-10 | All          | True | US             | 32.318… | -86.902… |             |               |             |                 |                 | Alabama, US  |\n",
      "| Alabama        | 2020-12-10 | Moderna      | True | US             | 32.318… | -86.902… |             |               |             |                 |                 | Alabama, US  |\n",
      "| Alabama        | 2020-12-10 | Pfizer       | True | US             | 32.318… | -86.902… |             |               |             |                 |                 | Alabama, US  |\n",
      "| Alabama        | 2020-12-11 | All          | True | US             | 32.318… | -86.902… |             |               |             |                 |                 | Alabama, US  |\n"
     ]
    }
   ],
   "source": [
    "!head -5 vaccine.csv | csvlook"
   ]
  },
  {
   "cell_type": "code",
   "execution_count": 10,
   "id": "6ed69841-3755-448f-8103-096bf3140d3a",
   "metadata": {},
   "outputs": [
    {
     "name": "stdout",
     "output_type": "stream",
     "text": [
      "  1. \"Province_State\"\n",
      "\n",
      "\tType of data:          Text\n",
      "\tContains null values:  False\n",
      "\tUnique values:         1\n",
      "\tLongest value:         7 characters\n",
      "\tMost common values:    Alabama (999x)\n",
      "\n",
      "  2. \"Date\"\n",
      "\n",
      "\tType of data:          Date\n",
      "\tContains null values:  False\n",
      "\tUnique values:         198\n",
      "\tSmallest value:        2020-12-10\n",
      "\tLargest value:         2021-06-25\n",
      "\tMost common values:    2021-03-15 (6x)\n",
      "\t                       2021-03-16 (6x)\n",
      "\t                       2021-03-17 (6x)\n",
      "\t                       2021-03-18 (6x)\n",
      "\t                       2021-03-19 (6x)\n",
      "\n",
      "  3. \"Vaccine_Type\"\n",
      "\n",
      "\tType of data:          Text\n",
      "\tContains null values:  False\n",
      "\tUnique values:         6\n",
      "\tLongest value:         10 characters\n",
      "\tMost common values:    All (198x)\n",
      "\t                       Moderna (198x)\n",
      "\t                       Pfizer (198x)\n",
      "\t                       Unassigned (194x)\n",
      "\t                       Janssen (109x)\n",
      "\n",
      "  4. \"FIPS\"\n",
      "\n",
      "\tType of data:          Boolean\n",
      "\tContains null values:  False\n",
      "\tUnique values:         1\n",
      "\tMost common values:    True (999x)\n",
      "\n",
      "  5. \"Country_Region\"\n",
      "\n",
      "\tType of data:          Text\n",
      "\tContains null values:  False\n",
      "\tUnique values:         1\n",
      "\tLongest value:         2 characters\n",
      "\tMost common values:    US (999x)\n",
      "\n",
      "  6. \"Lat\"\n",
      "\n",
      "\tType of data:          Number\n",
      "\tContains null values:  False\n",
      "\tUnique values:         1\n",
      "\tSmallest value:        32.3182\n",
      "\tLargest value:         32.3182\n",
      "\tSum:                   32285.8818\n",
      "\tMean:                  32.3182\n",
      "\tMedian:                32.3182\n",
      "\tStDev:                 0\n",
      "\tMost common values:    32.3182 (999x)\n",
      "\n",
      "  7. \"Long_\"\n",
      "\n",
      "\tType of data:          Number\n",
      "\tContains null values:  False\n",
      "\tUnique values:         1\n",
      "\tSmallest value:        -86.9023\n",
      "\tLargest value:         -86.9023\n",
      "\tSum:                   -86815.3977\n",
      "\tMean:                  -86.9023\n",
      "\tMedian:                -86.9023\n",
      "\tStDev:                 0\n",
      "\tMost common values:    -86.9023 (999x)\n",
      "\n",
      "  8. \"Doses_alloc\"\n",
      "\n",
      "\tType of data:          Number\n",
      "\tContains null values:  True (excluded from calculations)\n",
      "\tUnique values:         11\n",
      "\tSmallest value:        0\n",
      "\tLargest value:         640150\n",
      "\tSum:                   50096300\n",
      "\tMean:                  246779.802956\n",
      "\tMedian:                40950\n",
      "\tStDev:                 261263.273702\n",
      "\tMost common values:    None (796x)\n",
      "\t                       40950 (89x)\n",
      "\t                       640150 (32x)\n",
      "\t                       599200 (32x)\n",
      "\t                       0 (14x)\n",
      "\n",
      "  9. \"Doses_shipped\"\n",
      "\n",
      "\tType of data:          Number\n",
      "\tContains null values:  True (excluded from calculations)\n",
      "\tUnique values:         230\n",
      "\tSmallest value:        0\n",
      "\tLargest value:         4783230\n",
      "\tSum:                   911016480\n",
      "\tMean:                  1436934.511041\n",
      "\tMedian:                1170120\n",
      "\tStDev:                 1395483.047436\n",
      "\tMost common values:    None (365x)\n",
      "\t                       0 (155x)\n",
      "\t                       244000 (15x)\n",
      "\t                       993715 (12x)\n",
      "\t                       281100 (12x)\n",
      "\n",
      " 10. \"Doses_admin\"\n",
      "\n",
      "\tType of data:          Number\n",
      "\tContains null values:  True (excluded from calculations)\n",
      "\tUnique values:         548\n",
      "\tSmallest value:        0\n",
      "\tLargest value:         3308961\n",
      "\tSum:                   594716601\n",
      "\tMean:                  635380.983974\n",
      "\tMedian:                153924\n",
      "\tStDev:                 845047.553306\n",
      "\tMost common values:    0 (191x)\n",
      "\t                       None (63x)\n",
      "\t                       605280 (23x)\n",
      "\t                       668848 (23x)\n",
      "\t                       5181 (20x)\n",
      "\n",
      " 11. \"Stage_One_Doses\"\n",
      "\n",
      "\tType of data:          Number\n",
      "\tContains null values:  True (excluded from calculations)\n",
      "\tUnique values:         288\n",
      "\tSmallest value:        5181\n",
      "\tLargest value:         1928903\n",
      "\tSum:                   359256279\n",
      "\tMean:                  786118.772429\n",
      "\tMedian:                674810\n",
      "\tStDev:                 701348.406379\n",
      "\tMost common values:    None (542x)\n",
      "\t                       20354 (86x)\n",
      "\t                       5181 (20x)\n",
      "\t                       474065 (4x)\n",
      "\t                       378514 (2x)\n",
      "\n",
      " 12. \"Stage_Two_Doses\"\n",
      "\n",
      "\tType of data:          Number\n",
      "\tContains null values:  True (excluded from calculations)\n",
      "\tUnique values:         322\n",
      "\tSmallest value:        42\n",
      "\tLargest value:         1462435\n",
      "\tSum:                   232802584\n",
      "\tMean:                  541401.35814\n",
      "\tMedian:                553086.5\n",
      "\tStDev:                 397344.106161\n",
      "\tMost common values:    None (569x)\n",
      "\t                       591616 (6x)\n",
      "\t                       43 (6x)\n",
      "\t                       60 (5x)\n",
      "\t                       87 (5x)\n",
      "\n",
      " 13. \"Combined_Key\"\n",
      "\n",
      "\tType of data:          Text\n",
      "\tContains null values:  False\n",
      "\tUnique values:         1\n",
      "\tLongest value:         11 characters\n",
      "\tMost common values:    Alabama, US (999x)\n",
      "\n",
      "Row count: 999\n"
     ]
    }
   ],
   "source": [
    "!head -n 1000 vaccine.csv | csvstat"
   ]
  },
  {
   "cell_type": "markdown",
   "id": "4bf379b2-44f5-46ba-8f2f-7888c804540d",
   "metadata": {},
   "source": [
    "#### Collecting People Vaccinated Dataset"
   ]
  },
  {
   "cell_type": "code",
   "execution_count": 11,
   "id": "c0ecb834-6e06-479a-b99d-83169edee560",
   "metadata": {},
   "outputs": [
    {
     "name": "stdout",
     "output_type": "stream",
     "text": [
      "--2021-11-26 00:41:25--  https://raw.githubusercontent.com/govex/COVID-19/master/data_tables/vaccine_data/us_data/time_series/people_vaccinated_us_timeline.csv\n",
      "Resolving raw.githubusercontent.com (raw.githubusercontent.com)... 185.199.109.133, 185.199.110.133, 185.199.111.133, ...\n",
      "Connecting to raw.githubusercontent.com (raw.githubusercontent.com)|185.199.109.133|:443... connected.\n",
      "HTTP request sent, awaiting response... 200 OK\n",
      "Length: 1576761 (1.5M) [text/plain]\n",
      "Saving to: ‘people_vaccinated_us_timeline.csv.1’\n",
      "\n",
      "people_vaccinated_u 100%[===================>]   1.50M  --.-KB/s    in 0.01s   \n",
      "\n",
      "2021-11-26 00:41:25 (108 MB/s) - ‘people_vaccinated_us_timeline.csv.1’ saved [1576761/1576761]\n",
      "\n"
     ]
    }
   ],
   "source": [
    "!wget https://raw.githubusercontent.com/govex/COVID-19/master/data_tables/vaccine_data/us_data/time_series/people_vaccinated_us_timeline.csv"
   ]
  },
  {
   "cell_type": "code",
   "execution_count": 12,
   "id": "a20196a3-4e25-49b8-a887-530760d6ed61",
   "metadata": {},
   "outputs": [],
   "source": [
    "!mv people_vaccinated_us_timeline.csv people_vaccinated.csv"
   ]
  },
  {
   "cell_type": "code",
   "execution_count": 14,
   "id": "ce310ecf-5452-4765-b0b2-c46818f75a97",
   "metadata": {},
   "outputs": [
    {
     "name": "stdout",
     "output_type": "stream",
     "text": [
      "21313 people_vaccinated.csv\n"
     ]
    }
   ],
   "source": [
    "!wc -l people_vaccinated.csv"
   ]
  },
  {
   "cell_type": "code",
   "execution_count": 15,
   "id": "c98183e6-9b1a-4900-86e4-a51abb42f8b6",
   "metadata": {},
   "outputs": [
    {
     "name": "stdout",
     "output_type": "stream",
     "text": [
      "  1: FIPS\n",
      "  2: Province_State\n",
      "  3: Country_Region\n",
      "  4: Date\n",
      "  5: Lat\n",
      "  6: Long_\n",
      "  7: Combined_Key\n",
      "  8: People_Fully_Vaccinated\n",
      "  9: People_Partially_Vaccinated\n"
     ]
    }
   ],
   "source": [
    "!head people_vaccinated.csv | csvcut -n"
   ]
  },
  {
   "cell_type": "code",
   "execution_count": 16,
   "id": "369a25cb-73ae-4185-b54f-10b08f12a3c1",
   "metadata": {},
   "outputs": [
    {
     "name": "stdout",
     "output_type": "stream",
     "text": [
      "| FIPS | Province_State | Country_Region |       Date |     Lat |    Long_ | Combined_Key | People_Fully_Vaccinated | People_Partially_Vaccinated |\n",
      "| ---- | -------------- | -------------- | ---------- | ------- | -------- | ------------ | ----------------------- | --------------------------- |\n",
      "| True | Alabama        | US             | 2020-12-10 | 32.318… | -86.902… | Alabama, US  |                         |                             |\n",
      "| True | Alabama        | US             | 2020-12-11 | 32.318… | -86.902… | Alabama, US  |                         |                             |\n",
      "| True | Alabama        | US             | 2020-12-12 | 32.318… | -86.902… | Alabama, US  |                         |                             |\n",
      "| True | Alabama        | US             | 2020-12-13 | 32.318… | -86.902… | Alabama, US  |                         |                             |\n"
     ]
    }
   ],
   "source": [
    "!head -5 people_vaccinated.csv | csvlook"
   ]
  },
  {
   "cell_type": "code",
   "execution_count": 17,
   "id": "a877536a-6979-477b-a81d-ecbe6ca9bbf7",
   "metadata": {},
   "outputs": [
    {
     "name": "stdout",
     "output_type": "stream",
     "text": [
      "  1. \"Province_State\"\n",
      "\n",
      "\tType of data:          Text\n",
      "\tContains null values:  False\n",
      "\tUnique values:         1\n",
      "\tLongest value:         7 characters\n",
      "\tMost common values:    Alabama (999x)\n",
      "\n",
      "  2. \"Date\"\n",
      "\n",
      "\tType of data:          Date\n",
      "\tContains null values:  False\n",
      "\tUnique values:         198\n",
      "\tSmallest value:        2020-12-10\n",
      "\tLargest value:         2021-06-25\n",
      "\tMost common values:    2021-03-15 (6x)\n",
      "\t                       2021-03-16 (6x)\n",
      "\t                       2021-03-17 (6x)\n",
      "\t                       2021-03-18 (6x)\n",
      "\t                       2021-03-19 (6x)\n",
      "\n",
      "  3. \"Vaccine_Type\"\n",
      "\n",
      "\tType of data:          Text\n",
      "\tContains null values:  False\n",
      "\tUnique values:         6\n",
      "\tLongest value:         10 characters\n",
      "\tMost common values:    All (198x)\n",
      "\t                       Moderna (198x)\n",
      "\t                       Pfizer (198x)\n",
      "\t                       Unassigned (194x)\n",
      "\t                       Janssen (109x)\n",
      "\n",
      "  4. \"FIPS\"\n",
      "\n",
      "\tType of data:          Boolean\n",
      "\tContains null values:  False\n",
      "\tUnique values:         1\n",
      "\tMost common values:    True (999x)\n",
      "\n",
      "  5. \"Country_Region\"\n",
      "\n",
      "\tType of data:          Text\n",
      "\tContains null values:  False\n",
      "\tUnique values:         1\n",
      "\tLongest value:         2 characters\n",
      "\tMost common values:    US (999x)\n",
      "\n",
      "  6. \"Lat\"\n",
      "\n",
      "\tType of data:          Number\n",
      "\tContains null values:  False\n",
      "\tUnique values:         1\n",
      "\tSmallest value:        32.3182\n",
      "\tLargest value:         32.3182\n",
      "\tSum:                   32285.8818\n",
      "\tMean:                  32.3182\n",
      "\tMedian:                32.3182\n",
      "\tStDev:                 0\n",
      "\tMost common values:    32.3182 (999x)\n",
      "\n",
      "  7. \"Long_\"\n",
      "\n",
      "\tType of data:          Number\n",
      "\tContains null values:  False\n",
      "\tUnique values:         1\n",
      "\tSmallest value:        -86.9023\n",
      "\tLargest value:         -86.9023\n",
      "\tSum:                   -86815.3977\n",
      "\tMean:                  -86.9023\n",
      "\tMedian:                -86.9023\n",
      "\tStDev:                 0\n",
      "\tMost common values:    -86.9023 (999x)\n",
      "\n",
      "  8. \"Doses_alloc\"\n",
      "\n",
      "\tType of data:          Number\n",
      "\tContains null values:  True (excluded from calculations)\n",
      "\tUnique values:         11\n",
      "\tSmallest value:        0\n",
      "\tLargest value:         640150\n",
      "\tSum:                   50096300\n",
      "\tMean:                  246779.802956\n",
      "\tMedian:                40950\n",
      "\tStDev:                 261263.273702\n",
      "\tMost common values:    None (796x)\n",
      "\t                       40950 (89x)\n",
      "\t                       640150 (32x)\n",
      "\t                       599200 (32x)\n",
      "\t                       0 (14x)\n",
      "\n",
      "  9. \"Doses_shipped\"\n",
      "\n",
      "\tType of data:          Number\n",
      "\tContains null values:  True (excluded from calculations)\n",
      "\tUnique values:         230\n",
      "\tSmallest value:        0\n",
      "\tLargest value:         4783230\n",
      "\tSum:                   911016480\n",
      "\tMean:                  1436934.511041\n",
      "\tMedian:                1170120\n",
      "\tStDev:                 1395483.047436\n",
      "\tMost common values:    None (365x)\n",
      "\t                       0 (155x)\n",
      "\t                       244000 (15x)\n",
      "\t                       993715 (12x)\n",
      "\t                       281100 (12x)\n",
      "\n",
      " 10. \"Doses_admin\"\n",
      "\n",
      "\tType of data:          Number\n",
      "\tContains null values:  True (excluded from calculations)\n",
      "\tUnique values:         548\n",
      "\tSmallest value:        0\n",
      "\tLargest value:         3308961\n",
      "\tSum:                   594716601\n",
      "\tMean:                  635380.983974\n",
      "\tMedian:                153924\n",
      "\tStDev:                 845047.553306\n",
      "\tMost common values:    0 (191x)\n",
      "\t                       None (63x)\n",
      "\t                       605280 (23x)\n",
      "\t                       668848 (23x)\n",
      "\t                       5181 (20x)\n",
      "\n",
      " 11. \"Stage_One_Doses\"\n",
      "\n",
      "\tType of data:          Number\n",
      "\tContains null values:  True (excluded from calculations)\n",
      "\tUnique values:         288\n",
      "\tSmallest value:        5181\n",
      "\tLargest value:         1928903\n",
      "\tSum:                   359256279\n",
      "\tMean:                  786118.772429\n",
      "\tMedian:                674810\n",
      "\tStDev:                 701348.406379\n",
      "\tMost common values:    None (542x)\n",
      "\t                       20354 (86x)\n",
      "\t                       5181 (20x)\n",
      "\t                       474065 (4x)\n",
      "\t                       378514 (2x)\n",
      "\n",
      " 12. \"Stage_Two_Doses\"\n",
      "\n",
      "\tType of data:          Number\n",
      "\tContains null values:  True (excluded from calculations)\n",
      "\tUnique values:         322\n",
      "\tSmallest value:        42\n",
      "\tLargest value:         1462435\n",
      "\tSum:                   232802584\n",
      "\tMean:                  541401.35814\n",
      "\tMedian:                553086.5\n",
      "\tStDev:                 397344.106161\n",
      "\tMost common values:    None (569x)\n",
      "\t                       591616 (6x)\n",
      "\t                       43 (6x)\n",
      "\t                       60 (5x)\n",
      "\t                       87 (5x)\n",
      "\n",
      " 13. \"Combined_Key\"\n",
      "\n",
      "\tType of data:          Text\n",
      "\tContains null values:  False\n",
      "\tUnique values:         1\n",
      "\tLongest value:         11 characters\n",
      "\tMost common values:    Alabama, US (999x)\n",
      "\n",
      "Row count: 999\n"
     ]
    }
   ],
   "source": [
    "!head -n 1000 vaccine.csv | csvstat"
   ]
  },
  {
   "cell_type": "markdown",
   "id": "1a965309-4d9e-4a44-8590-1aa302c65540",
   "metadata": {},
   "source": [
    "#### Collecting Testing Dataset "
   ]
  },
  {
   "cell_type": "code",
   "execution_count": 5,
   "id": "9fcf2cf1-2a78-49fb-8624-afb8894e95e1",
   "metadata": {},
   "outputs": [
    {
     "name": "stdout",
     "output_type": "stream",
     "text": [
      "--2021-11-26 00:33:59--  https://raw.githubusercontent.com/govex/COVID-19/master/data_tables/testing_data/time_series_covid19_US.csv\n",
      "Resolving raw.githubusercontent.com (raw.githubusercontent.com)... 185.199.109.133, 185.199.108.133, 185.199.111.133, ...\n",
      "Connecting to raw.githubusercontent.com (raw.githubusercontent.com)|185.199.109.133|:443... connected.\n",
      "HTTP request sent, awaiting response... 200 OK\n",
      "Length: 2263097 (2.2M) [text/plain]\n",
      "Saving to: ‘time_series_covid19_US.csv’\n",
      "\n",
      "time_series_covid19 100%[===================>]   2.16M  --.-KB/s    in 0.03s   \n",
      "\n",
      "2021-11-26 00:33:59 (77.2 MB/s) - ‘time_series_covid19_US.csv’ saved [2263097/2263097]\n",
      "\n"
     ]
    }
   ],
   "source": [
    "!wget https://raw.githubusercontent.com/govex/COVID-19/master/data_tables/testing_data/time_series_covid19_US.csv"
   ]
  },
  {
   "cell_type": "code",
   "execution_count": 19,
   "id": "032177c4-841c-4ef6-ae3f-a96fd2cdc54a",
   "metadata": {},
   "outputs": [],
   "source": [
    "!mv time_series_covid19_US.csv testing.csv"
   ]
  },
  {
   "cell_type": "code",
   "execution_count": 20,
   "id": "8f317117-5e8d-4137-8a76-9a75a478d139",
   "metadata": {},
   "outputs": [
    {
     "name": "stdout",
     "output_type": "stream",
     "text": [
      "35453 testing.csv\n"
     ]
    }
   ],
   "source": [
    "!wc -l testing.csv"
   ]
  },
  {
   "cell_type": "code",
   "execution_count": 21,
   "id": "e541962b-1695-4ba8-bb73-a56f11b5c5f2",
   "metadata": {},
   "outputs": [
    {
     "name": "stdout",
     "output_type": "stream",
     "text": [
      "  1: date\n",
      "  2: state\n",
      "  3: cases_conf_probable\n",
      "  4: cases_confirmed\n",
      "  5: cases_probable\n",
      "  6: tests_viral_positive\n",
      "  7: tests_viral_negative\n",
      "  8: tests_viral_total\n",
      "  9: tests_antigen_positive\n",
      " 10: tests_antigen_total\n",
      " 11: people_viral_positive\n",
      " 12: people_viral_total\n",
      " 13: people_antigen_positive\n",
      " 14: people_antigen_total\n",
      " 15: encounters_viral_total\n",
      " 16: tests_combined_total\n"
     ]
    }
   ],
   "source": [
    "!head testing.csv | csvcut -n"
   ]
  },
  {
   "cell_type": "code",
   "execution_count": 22,
   "id": "8580ce78-f8ac-42d9-812e-da7300ce0fc0",
   "metadata": {},
   "outputs": [
    {
     "name": "stdout",
     "output_type": "stream",
     "text": [
      "|       date | state | cases_conf_probable | cases_confirmed | cases_probable | tests_viral_positive | tests_viral_negative | tests_viral_total | tests_antigen_positive | tests_antigen_total | people_viral_positive | people_viral_total | people_antigen_positive | people_antigen_total | encounters_viral_total | tests_combined_total |\n",
      "| ---------- | ----- | ------------------- | --------------- | -------------- | -------------------- | -------------------- | ----------------- | ---------------------- | ------------------- | --------------------- | ------------------ | ----------------------- | -------------------- | ---------------------- | -------------------- |\n",
      "| 2020-03-06 | AK    |                     |                 |                |                      |                      |                 8 |                        |                     |                       |                    |                         |                      |                        |                    8 |\n",
      "| 2020-03-07 | AK    |                     |                 |                |                      |                      |                12 |                        |                     |                       |                    |                         |                      |                        |                   12 |\n",
      "| 2020-03-08 | AK    |                     |                 |                |                      |                      |                14 |                        |                     |                       |                    |                         |                      |                        |                   14 |\n",
      "| 2020-03-09 | AK    |                     |                 |                |                      |                      |                23 |                        |                     |                       |                    |                         |                      |                        |                   23 |\n"
     ]
    }
   ],
   "source": [
    "!head -5 testing.csv | csvlook"
   ]
  },
  {
   "cell_type": "code",
   "execution_count": 23,
   "id": "9bfda3b2-1e39-4507-a226-39e68f69fcc8",
   "metadata": {},
   "outputs": [
    {
     "name": "stdout",
     "output_type": "stream",
     "text": [
      "  1. \"date\"\n",
      "\n",
      "\tType of data:          Date\n",
      "\tContains null values:  False\n",
      "\tUnique values:         600\n",
      "\tSmallest value:        2020-03-06\n",
      "\tLargest value:         2021-10-26\n",
      "\tMost common values:    2020-03-07 (2x)\n",
      "\t                       2020-03-08 (2x)\n",
      "\t                       2020-03-09 (2x)\n",
      "\t                       2020-03-10 (2x)\n",
      "\t                       2020-03-11 (2x)\n",
      "\n",
      "  2. \"state\"\n",
      "\n",
      "\tType of data:          Text\n",
      "\tContains null values:  False\n",
      "\tUnique values:         2\n",
      "\tLongest value:         2 characters\n",
      "\tMost common values:    AK (600x)\n",
      "\t                       AL (399x)\n",
      "\n",
      "  3. \"cases_conf_probable\"\n",
      "\n",
      "\tType of data:          Number\n",
      "\tContains null values:  True (excluded from calculations)\n",
      "\tUnique values:         872\n",
      "\tSmallest value:        0\n",
      "\tLargest value:         518234\n",
      "\tSum:                   103854382\n",
      "\tMean:                  105115.771255\n",
      "\tMedian:                60399\n",
      "\tStDev:                 140925.470189\n",
      "\tMost common values:    None (11x)\n",
      "\t                       0 (6x)\n",
      "\t                       71035 (5x)\n",
      "\t                       71384 (5x)\n",
      "\t                       90642 (5x)\n",
      "\n",
      "  4. \"cases_confirmed\"\n",
      "\n",
      "\tType of data:          Number\n",
      "\tContains null values:  True (excluded from calculations)\n",
      "\tUnique values:         123\n",
      "\tSmallest value:        64782\n",
      "\tLargest value:         403401\n",
      "\tSum:                   17175147\n",
      "\tMean:                  85025.480198\n",
      "\tMedian:                72669.5\n",
      "\tStDev:                 29944.260285\n",
      "\tMost common values:    None (797x)\n",
      "\t                       71035 (5x)\n",
      "\t                       71384 (5x)\n",
      "\t                       90642 (5x)\n",
      "\t                       70208 (4x)\n",
      "\n",
      "  5. \"cases_probable\"\n",
      "\n",
      "\tType of data:          Number\n",
      "\tContains null values:  True (excluded from calculations)\n",
      "\tUnique values:         3\n",
      "\tSmallest value:        0\n",
      "\tLargest value:         114833\n",
      "\tSum:                   114833\n",
      "\tMean:                  568.480198\n",
      "\tMedian:                0\n",
      "\tStDev:                 8079.621685\n",
      "\tMost common values:    None (797x)\n",
      "\t                       0 (201x)\n",
      "\t                       114833 (1x)\n",
      "\n",
      "  6. \"tests_viral_positive\"\n",
      "\n",
      "\tType of data:          Number\n",
      "\tContains null values:  True (excluded from calculations)\n",
      "\tUnique values:         337\n",
      "\tSmallest value:        4024\n",
      "\tLargest value:         154360\n",
      "\tSum:                   28691569\n",
      "\tMean:                  64186.955257\n",
      "\tMedian:                70406\n",
      "\tStDev:                 37747.298055\n",
      "\tMost common values:    None (552x)\n",
      "\t                       81975 (5x)\n",
      "\t                       104923 (5x)\n",
      "\t                       130784 (5x)\n",
      "\t                       65613 (4x)\n",
      "\n",
      "  7. \"tests_viral_negative\"\n",
      "\n",
      "\tType of data:          Number\n",
      "\tContains null values:  True (excluded from calculations)\n",
      "\tUnique values:         339\n",
      "\tSmallest value:        253987\n",
      "\tLargest value:         3128936\n",
      "\tSum:                   735479362\n",
      "\tMean:                  1645367.700224\n",
      "\tMedian:                1739746\n",
      "\tStDev:                 837402.637648\n",
      "\tMost common values:    None (552x)\n",
      "\t                       2297458 (5x)\n",
      "\t                       2664548 (5x)\n",
      "\t                       1517076 (4x)\n",
      "\t                       1799056 (4x)\n",
      "\n",
      "  8. \"tests_viral_total\"\n",
      "\n",
      "\tType of data:          Number\n",
      "\tContains null values:  False\n",
      "\tUnique values:         881\n",
      "\tSmallest value:        8\n",
      "\tLargest value:         4337300\n",
      "\tSum:                   1531248511\n",
      "\tMean:                  1532781.292292\n",
      "\tMedian:                1457053\n",
      "\tStDev:                 1259038.377999\n",
      "\tMost common values:    2382952 (5x)\n",
      "\t                       2773181 (5x)\n",
      "\t                       1584548 (4x)\n",
      "\t                       1873407 (4x)\n",
      "\t                       2262583 (4x)\n",
      "\n",
      "  9. \"tests_antigen_positive\"\n",
      "\n",
      "\tType of data:          Boolean\n",
      "\tContains null values:  True (excluded from calculations)\n",
      "\tUnique values:         1\n",
      "\tMost common values:    None (999x)\n",
      "\n",
      " 10. \"tests_antigen_total\"\n",
      "\n",
      "\tType of data:          Boolean\n",
      "\tContains null values:  True (excluded from calculations)\n",
      "\tUnique values:         1\n",
      "\tMost common values:    None (999x)\n",
      "\n",
      " 11. \"people_viral_positive\"\n",
      "\n",
      "\tType of data:          Number\n",
      "\tContains null values:  True (excluded from calculations)\n",
      "\tUnique values:         871\n",
      "\tSmallest value:        0\n",
      "\tLargest value:         403401\n",
      "\tSum:                   89803393\n",
      "\tMean:                  90894.12247\n",
      "\tMedian:                60207\n",
      "\tStDev:                 110592.904189\n",
      "\tMost common values:    None (11x)\n",
      "\t                       0 (6x)\n",
      "\t                       71035 (5x)\n",
      "\t                       71384 (5x)\n",
      "\t                       90642 (5x)\n",
      "\n",
      " 12. \"people_viral_total\"\n",
      "\n",
      "\tType of data:          Boolean\n",
      "\tContains null values:  True (excluded from calculations)\n",
      "\tUnique values:         1\n",
      "\tMost common values:    None (999x)\n",
      "\n",
      " 13. \"people_antigen_positive\"\n",
      "\n",
      "\tType of data:          Boolean\n",
      "\tContains null values:  True (excluded from calculations)\n",
      "\tUnique values:         1\n",
      "\tMost common values:    None (999x)\n",
      "\n",
      " 14. \"people_antigen_total\"\n",
      "\n",
      "\tType of data:          Boolean\n",
      "\tContains null values:  True (excluded from calculations)\n",
      "\tUnique values:         1\n",
      "\tMost common values:    None (999x)\n",
      "\n",
      " 15. \"encounters_viral_total\"\n",
      "\n",
      "\tType of data:          Boolean\n",
      "\tContains null values:  True (excluded from calculations)\n",
      "\tUnique values:         1\n",
      "\tMost common values:    None (999x)\n",
      "\n",
      " 16. \"tests_combined_total\"\n",
      "\n",
      "\tType of data:          Number\n",
      "\tContains null values:  False\n",
      "\tUnique values:         881\n",
      "\tSmallest value:        8\n",
      "\tLargest value:         4337300\n",
      "\tSum:                   1531248511\n",
      "\tMean:                  1532781.292292\n",
      "\tMedian:                1457053\n",
      "\tStDev:                 1259038.377999\n",
      "\tMost common values:    2382952 (5x)\n",
      "\t                       2773181 (5x)\n",
      "\t                       1584548 (4x)\n",
      "\t                       1873407 (4x)\n",
      "\t                       2262583 (4x)\n",
      "\n",
      "Row count: 999\n"
     ]
    }
   ],
   "source": [
    "!head -n 1000 testing.csv | csvstat"
   ]
  },
  {
   "cell_type": "markdown",
   "id": "5822d88a-f99d-4bda-951f-d0632dea5117",
   "metadata": {},
   "source": [
    "## Ask 2 - Surveying and Wrangling Data (15%)\n",
    "\n",
    "Acquire the data, survey it and wrangle it to suitable format. You may use one or more of the following methods for acquiring and wrangling the data: \n",
    "- Unix command line tools (e.g. csvkit)\n",
    "- Relational databases \n",
    "- Spark\n",
    "- You may also use wrangling tool (e.g. Trifacta)\n",
    "\n",
    "Describe any concerns with the data and changes you expect to overcome. \n",
    "\n",
    "Expectations: document your findings in the code. Make sure you describe each step in a complete and concise manner. "
   ]
  },
  {
   "cell_type": "code",
   "execution_count": null,
   "id": "57268846-a62a-488c-b52e-20ce5b8764ba",
   "metadata": {},
   "outputs": [],
   "source": []
  },
  {
   "cell_type": "markdown",
   "id": "967869cc-ecd1-4112-9bd1-859c995f6f7d",
   "metadata": {},
   "source": [
    "## Ask 3 - Attestation (-10% for non-compliance)\n",
    "\n",
    "All project team members must contribute meaningfully to the project and have complete knowledge on any part of it.\n",
    "\n",
    "Each group member MUST attest to his/her individual contributions in coding, and presentation write up. \n",
    "\n",
    "Penalty: -10% for non-compliance"
   ]
  },
  {
   "cell_type": "code",
   "execution_count": null,
   "id": "a626fe1a-d478-4d82-89e9-959dec7719b9",
   "metadata": {},
   "outputs": [],
   "source": []
  },
  {
   "cell_type": "markdown",
   "id": "cee6a399-f1c3-46e5-85fd-0257f30388f4",
   "metadata": {},
   "source": [
    "## Ask 4 - Analytical Questions (15%)\n",
    "\n",
    "Communicate among your group members and produce analytical questions you want to answer with the data. Minimum of 4 major questions are required. \n",
    "\n",
    "You may consider me as your Sponsor. Arrange a 30 min meeting with me to discuss this part, if necessary. \n",
    "\n",
    "Expectation: A list of analytical questions that your model can answer. Check https://coronavirus.jhu.edu\n",
    "- ”tracking” -> “Critical Trends” or U.S. Map \n",
    "- “Vaccines” -> “Tracker” for ideas "
   ]
  },
  {
   "cell_type": "code",
   "execution_count": null,
   "id": "130665c2-d178-4365-aaed-25f171b3ecf4",
   "metadata": {},
   "outputs": [],
   "source": []
  },
  {
   "cell_type": "markdown",
   "id": "f6ba14a3-434b-45ad-a08e-e4c4163f0d66",
   "metadata": {},
   "source": [
    "## Ask 5 - Designing a Dimensional Database (25%)\n",
    "\n",
    "Design a dimensional database to cover “Cases and Deaths”, “Vaccinations” and “Testing” datasets (Daily and for U.S.). I expect that your design will allow all other groups to answer most of their questions. \n",
    "\n",
    "Be precise and document your design correctly. \n",
    "\n",
    "Expectation: A star schema diagram detailing the design. Would be nice to produce an image of the design and added it to your code."
   ]
  },
  {
   "cell_type": "code",
   "execution_count": null,
   "id": "9ad83acc-189f-43b2-8df2-299ecbf21422",
   "metadata": {},
   "outputs": [],
   "source": []
  },
  {
   "cell_type": "markdown",
   "id": "f6174b3a-106d-43b3-bf5c-6b6a60e7380f",
   "metadata": {},
   "source": [
    "## Ask 6 - Writing Queries for Analytical Questions (35%) \n",
    "\n",
    "Write queries to answer your analytical questions.\n",
    "\n",
    "Produce charts and make sure to include your code or a copy of chart (if you use outside Jupyter notebook tools). \n",
    "\n",
    "You are free to use any tool for visualization (e.g. tableau, ggplot, matplotlib,..).\n",
    "\n",
    "Expectation: set of queries, results and charts. Those should be compatible with your presentation."
   ]
  },
  {
   "cell_type": "code",
   "execution_count": null,
   "id": "c6eeb0f9-dd53-491f-960e-515674309db3",
   "metadata": {},
   "outputs": [],
   "source": []
  }
 ],
 "metadata": {
  "kernelspec": {
   "display_name": "Python 3 (ipykernel)",
   "language": "python",
   "name": "python3"
  },
  "language_info": {
   "codemirror_mode": {
    "name": "ipython",
    "version": 3
   },
   "file_extension": ".py",
   "mimetype": "text/x-python",
   "name": "python",
   "nbconvert_exporter": "python",
   "pygments_lexer": "ipython3",
   "version": "3.8.10"
  }
 },
 "nbformat": 4,
 "nbformat_minor": 5
}
