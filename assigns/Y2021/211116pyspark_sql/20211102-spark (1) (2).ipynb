{
 "cells": [
  {
   "cell_type": "markdown",
   "metadata": {},
   "source": [
    "# November 2, 2021 lecture notes\n",
    "\n",
    "This week we'll take a first look at [Apache Spark](http://spark.apache.org/), a powerful system for scaling up data processing.\n",
    "\n",
    "Spark is installed on your instances, but requires a few steps to use.  Every time you use Spark, you'll have to run the following steps:"
   ]
  },
  {
   "cell_type": "code",
   "execution_count": 7,
   "metadata": {},
   "outputs": [],
   "source": [
    "import findspark"
   ]
  },
  {
   "cell_type": "code",
   "execution_count": 8,
   "metadata": {},
   "outputs": [],
   "source": [
    "findspark.init()"
   ]
  },
  {
   "cell_type": "markdown",
   "metadata": {},
   "source": [
    "The next two steps are required for the simple Python style of using Spark.  We'll see one other approach later on."
   ]
  },
  {
   "cell_type": "code",
   "execution_count": 9,
   "metadata": {},
   "outputs": [],
   "source": [
    "from pyspark import SparkContext"
   ]
  },
  {
   "cell_type": "code",
   "execution_count": 10,
   "metadata": {},
   "outputs": [
    {
     "name": "stderr",
     "output_type": "stream",
     "text": [
      "21/11/06 20:49:02 WARN NativeCodeLoader: Unable to load native-hadoop library for your platform... using builtin-java classes where applicable\n",
      "Using Spark's default log4j profile: org/apache/spark/log4j-defaults.properties\n",
      "Setting default log level to \"WARN\".\n",
      "To adjust logging level use sc.setLogLevel(newLevel). For SparkR, use setLogLevel(newLevel).\n"
     ]
    }
   ],
   "source": [
    "spark = SparkContext(appName='20211102')"
   ]
  },
  {
   "cell_type": "markdown",
   "metadata": {},
   "source": [
    "The `spark` object is all you need to start doing some pretty cool things.  Let's have a quick look at it."
   ]
  },
  {
   "cell_type": "code",
   "execution_count": 11,
   "metadata": {},
   "outputs": [
    {
     "data": {
      "text/html": [
       "\n",
       "        <div>\n",
       "            <p><b>SparkContext</b></p>\n",
       "\n",
       "            <p><a href=\"http://ip-172-31-19-106.ec2.internal:4040\">Spark UI</a></p>\n",
       "\n",
       "            <dl>\n",
       "              <dt>Version</dt>\n",
       "                <dd><code>v3.1.2</code></dd>\n",
       "              <dt>Master</dt>\n",
       "                <dd><code>local[*]</code></dd>\n",
       "              <dt>AppName</dt>\n",
       "                <dd><code>20211102</code></dd>\n",
       "            </dl>\n",
       "        </div>\n",
       "        "
      ],
      "text/plain": [
       "<SparkContext master=local[*] appName=20211102>"
      ]
     },
     "execution_count": 11,
     "metadata": {},
     "output_type": "execute_result"
    }
   ],
   "source": [
    "spark"
   ]
  },
  {
   "cell_type": "markdown",
   "metadata": {},
   "source": [
    "If you have port 4040 open in your EC2 security groups, you can follow the link above to the Spark instance UI on your machine.  There's one caveat though - it maps automatically to an IP address that won't work unless you take extra steps.  The solution is simple:  replace the IP address in the URL with your machine name, the one that starts with \"ec2-\" that you are probably looking at Jupyter through right now.\n",
    "\n",
    "**Note**, though, the Spark UI defaults to port 4040, not 8080 like Jupyter, so **be sure you use `:4040`** in your URL.\n",
    "\n",
    "Have a look now!"
   ]
  },
  {
   "cell_type": "markdown",
   "metadata": {},
   "source": [
    "## Bikeshare data\n",
    "\n",
    "Because Capital Bikeshare data is so familiar, let's have a look at it using Spark.  Maybe you've already seen what it looks like at the command line, using CSVKit and XSV, and with SQL.  Now we'll try a functional style of approach.\n",
    "\n",
    "These first few steps should be familiar."
   ]
  },
  {
   "cell_type": "code",
   "execution_count": 6,
   "metadata": {},
   "outputs": [
    {
     "name": "stdout",
     "output_type": "stream",
     "text": [
      "--2021-11-06 19:41:03--  https://s3.amazonaws.com/capitalbikeshare-data/2017-capitalbikeshare-tripdata.zip\n",
      "Resolving s3.amazonaws.com (s3.amazonaws.com)... 52.217.197.136\n",
      "Connecting to s3.amazonaws.com (s3.amazonaws.com)|52.217.197.136|:443... connected.\n",
      "HTTP request sent, awaiting response... 200 OK\n",
      "Length: 89576218 (85M) [application/zip]\n",
      "Saving to: ‘2017-capitalbikeshare-tripdata.zip.1’\n",
      "\n",
      "2017-capitalbikesha 100%[===================>]  85.43M  76.6MB/s    in 1.1s    \n",
      "\n",
      "2021-11-06 19:41:04 (76.6 MB/s) - ‘2017-capitalbikeshare-tripdata.zip.1’ saved [89576218/89576218]\n",
      "\n"
     ]
    }
   ],
   "source": [
    "!wget https://s3.amazonaws.com/capitalbikeshare-data/2017-capitalbikeshare-tripdata.zip"
   ]
  },
  {
   "cell_type": "code",
   "execution_count": 7,
   "metadata": {},
   "outputs": [
    {
     "name": "stdout",
     "output_type": "stream",
     "text": [
      "-rw-rw-r-- 1 ubuntu ubuntu 86M Mar 15  2018 2017-capitalbikeshare-tripdata.zip\n"
     ]
    }
   ],
   "source": [
    "!ls -lh 2017-capitalbikeshare-tripdata.zip"
   ]
  },
  {
   "cell_type": "code",
   "execution_count": 8,
   "metadata": {},
   "outputs": [
    {
     "name": "stdout",
     "output_type": "stream",
     "text": [
      "Archive:  2017-capitalbikeshare-tripdata.zip\n",
      "replace 2017Q1-capitalbikeshare-tripdata.csv? [y]es, [n]o, [A]ll, [N]one, [r]ename: ^C\n"
     ]
    }
   ],
   "source": [
    "!unzip 2017-capitalbikeshare-tripdata.zip"
   ]
  },
  {
   "cell_type": "code",
   "execution_count": 9,
   "metadata": {},
   "outputs": [
    {
     "name": "stdout",
     "output_type": "stream",
     "text": [
      "   646511 2017.csv\n",
      "   646511 2017Q1-capitalbikeshare-tripdata.csv\n",
      "  1104419 2017Q2-capitalbikeshare-tripdata.csv\n",
      "  1191586 2017Q3-capitalbikeshare-tripdata.csv\n",
      "   815265 2017Q4-capitalbikeshare-tripdata.csv\n",
      "  4404292 total\n"
     ]
    }
   ],
   "source": [
    "!wc -l 20*.csv"
   ]
  },
  {
   "cell_type": "code",
   "execution_count": 10,
   "metadata": {},
   "outputs": [
    {
     "name": "stdout",
     "output_type": "stream",
     "text": [
      "  1: Duration\n",
      "  2: Start date\n",
      "  3: End date\n",
      "  4: Start station number\n",
      "  5: Start station\n",
      "  6: End station number\n",
      "  7: End station\n",
      "  8: Bike number\n",
      "  9: Member type\n"
     ]
    }
   ],
   "source": [
    "!csvcut -n 2017Q1-capitalbikeshare-tripdata.csv"
   ]
  },
  {
   "cell_type": "code",
   "execution_count": 11,
   "metadata": {},
   "outputs": [
    {
     "name": "stdout",
     "output_type": "stream",
     "text": [
      "  1: Duration\n",
      "  2: Start date\n",
      "  3: End date\n",
      "  4: Start station number\n",
      "  5: Start station\n",
      "  6: End station number\n",
      "  7: End station\n",
      "  8: Bike number\n",
      "  9: Member type\n"
     ]
    }
   ],
   "source": [
    "!csvcut -n 2017Q3-capitalbikeshare-tripdata.csv"
   ]
  },
  {
   "cell_type": "markdown",
   "metadata": {},
   "source": [
    "So far so good."
   ]
  },
  {
   "cell_type": "markdown",
   "metadata": {},
   "source": [
    "### CSVkit and XSV\n",
    "\n",
    "To keep these command line pipes simple, let's combine and rename the data into one file:"
   ]
  },
  {
   "cell_type": "code",
   "execution_count": 12,
   "metadata": {},
   "outputs": [],
   "source": [
    "!cp 2017Q1-capitalbikeshare-tripdata.csv 2017.csv"
   ]
  },
  {
   "cell_type": "code",
   "execution_count": 13,
   "metadata": {},
   "outputs": [
    {
     "name": "stdout",
     "output_type": "stream",
     "text": [
      "| Duration |          Start date |            End date | Start station number | Start station                               | End station number | End station                | Bike number | Member type |\n",
      "| -------- | ------------------- | ------------------- | -------------------- | ------------------------------------------- | ------------------ | -------------------------- | ----------- | ----------- |\n",
      "|      221 | 2017-01-01 00:00:41 | 2017-01-01 00:04:23 |               31,634 | 3rd & Tingey St SE                          |             31,208 | M St & New Jersey Ave SE   | W00869      | Member      |\n",
      "|    1,676 | 2017-01-01 00:06:53 | 2017-01-01 00:34:49 |               31,258 | Lincoln Memorial                            |             31,270 | 8th & D St NW              | W00894      | Casual      |\n",
      "|    1,356 | 2017-01-01 00:07:10 | 2017-01-01 00:29:47 |               31,289 | Henry Bacon Dr & Lincoln Memorial Circle NW |             31,222 | New York Ave & 15th St NW  | W21945      | Casual      |\n",
      "|    1,327 | 2017-01-01 00:07:22 | 2017-01-01 00:29:30 |               31,289 | Henry Bacon Dr & Lincoln Memorial Circle NW |             31,222 | New York Ave & 15th St NW  | W20012      | Casual      |\n",
      "|    1,636 | 2017-01-01 00:07:36 | 2017-01-01 00:34:52 |               31,258 | Lincoln Memorial                            |             31,270 | 8th & D St NW              | W22786      | Casual      |\n",
      "|    1,603 | 2017-01-01 00:08:11 | 2017-01-01 00:34:55 |               31,258 | Lincoln Memorial                            |             31,270 | 8th & D St NW              | W20890      | Casual      |\n",
      "|      473 | 2017-01-01 00:08:36 | 2017-01-01 00:16:29 |               31,611 | 13th & H St NE                              |             31,616 | 3rd & H St NE              | W20340      | Member      |\n",
      "|      200 | 2017-01-01 00:11:07 | 2017-01-01 00:14:27 |               31,104 | Adams Mill & Columbia Rd NW                 |             31,121 | Calvert St & Woodley Pl NW | W20398      | Member      |\n",
      "|      748 | 2017-01-01 00:13:20 | 2017-01-01 00:25:49 |               31,041 | Prince St & Union St                        |             31,097 | Saint Asaph & Madison St   | W00365      | Member      |\n"
     ]
    }
   ],
   "source": [
    "!head 2017.csv | csvlook"
   ]
  },
  {
   "cell_type": "code",
   "execution_count": 14,
   "metadata": {},
   "outputs": [
    {
     "name": "stdout",
     "output_type": "stream",
     "text": [
      "-rw-rw-r-- 1 ubuntu ubuntu  86M Nov  6 19:43 2017.csv\n",
      "-rw-rw-r-- 1 ubuntu ubuntu  86M Mar 15  2018 2017Q1-capitalbikeshare-tripdata.csv\n",
      "-rw-rw-r-- 1 ubuntu ubuntu 147M Mar 15  2018 2017Q2-capitalbikeshare-tripdata.csv\n",
      "-rw-rw-r-- 1 ubuntu ubuntu 158M Mar 15  2018 2017Q3-capitalbikeshare-tripdata.csv\n",
      "-rw-rw-r-- 1 ubuntu ubuntu 108M Mar 15  2018 2017Q4-capitalbikeshare-tripdata.csv\n",
      "-rw-rw-r-- 1 ubuntu ubuntu 710K Oct 31 15:41 Candidate.csv\n",
      "-rw-rw-r-- 1 ubuntu ubuntu 2.1M Oct 31 15:41 Committee.csv\n",
      "-rw-rw-r-- 1 ubuntu ubuntu 360K Oct 31 15:41 Finances.csv\n",
      "-rw-rw-r-- 1 ubuntu ubuntu 257K Oct 31 15:41 Link.csv\n",
      "-rw-rw-r-- 1 ubuntu ubuntu 337M Oct 31 15:44 con1.csv\n",
      "-rw-rw-r-- 1 ubuntu ubuntu 349M Oct 31 15:44 con2.csv\n",
      "-rw-rw-r-- 1 ubuntu ubuntu 354M Oct 31 15:45 con3.csv\n",
      "-rw-rw-r-- 1 ubuntu ubuntu 367M Oct 31 15:45 con4.csv\n",
      "-rw-rw-r-- 1 ubuntu ubuntu 1.4G Oct 31 15:47 contribution.csv\n",
      "-rw-rw-r-- 1 ubuntu ubuntu 337M Oct 31 15:41 itcont_2016_20160717_20160830.csv\n",
      "-rw-rw-r-- 1 ubuntu ubuntu 349M Oct 31 15:42 itcont_2016_20160831_20161003.csv\n",
      "-rw-rw-r-- 1 ubuntu ubuntu 354M Oct 31 15:42 itcont_2016_20161004_20161028.csv\n",
      "-rw-rw-r-- 1 ubuntu ubuntu 367M Oct 31 15:43 itcont_2016_20161029_20161202.csv\n",
      "-rw-rw-r-- 1 ubuntu ubuntu  41K Sep 27 15:48 nny_candidate.csv\n",
      "-rw-rw-r-- 1 ubuntu ubuntu  39K Sep 27 15:48 ny_candidate.csv\n",
      "-rw-rw-r-- 1 ubuntu ubuntu  87M Sep  4  2018 tweets.csv\n"
     ]
    }
   ],
   "source": [
    "!ls -lh *.csv"
   ]
  },
  {
   "cell_type": "code",
   "execution_count": 15,
   "metadata": {},
   "outputs": [
    {
     "name": "stdout",
     "output_type": "stream",
     "text": [
      "    646511 2017.csv\n",
      "    646511 2017Q1-capitalbikeshare-tripdata.csv\n",
      "   1104419 2017Q2-capitalbikeshare-tripdata.csv\n",
      "   1191586 2017Q3-capitalbikeshare-tripdata.csv\n",
      "    815265 2017Q4-capitalbikeshare-tripdata.csv\n",
      "      7396 Candidate.csv\n",
      "     17651 Committee.csv\n",
      "      2906 Finances.csv\n",
      "      6407 Link.csv\n",
      "   1908651 con1.csv\n",
      "   1946525 con2.csv\n",
      "   1955025 con3.csv\n",
      "   1988500 con4.csv\n",
      "   7798698 contribution.csv\n",
      "   1908652 itcont_2016_20160717_20160830.csv\n",
      "   1946526 itcont_2016_20160831_20161003.csv\n",
      "   1955026 itcont_2016_20161004_20161028.csv\n",
      "   1988501 itcont_2016_20161029_20161202.csv\n",
      "       821 nny_candidate.csv\n",
      "       821 ny_candidate.csv\n",
      "    250193 tweets.csv\n",
      "  28086591 total\n"
     ]
    }
   ],
   "source": [
    "!wc -l *.csv"
   ]
  },
  {
   "cell_type": "markdown",
   "metadata": {},
   "source": [
    "Alright, then, we have 429M of raw data comprising 3,757,777 bikeshare trips.  How long does it take to sort?"
   ]
  },
  {
   "cell_type": "markdown",
   "metadata": {},
   "source": [
    "First, we take a look at a sample of the data to determine its attributes' domains and ranges."
   ]
  },
  {
   "cell_type": "code",
   "execution_count": 16,
   "metadata": {},
   "outputs": [
    {
     "name": "stdout",
     "output_type": "stream",
     "text": [
      "  1. \"Duration\"\n",
      "\n",
      "\tType of data:          Number\n",
      "\tContains null values:  False\n",
      "\tUnique values:         752\n",
      "\tSmallest value:        61\n",
      "\tLargest value:         36943\n",
      "\tSum:                   1204806\n",
      "\tMean:                  1206.012012\n",
      "\tMedian:                649\n",
      "\tStDev:                 2326.380276\n",
      "\tMost common values:    341 (7x)\n",
      "\t                       291 (7x)\n",
      "\t                       311 (5x)\n",
      "\t                       280 (4x)\n",
      "\t                       228 (4x)\n",
      "\n",
      "  2. \"Start date\"\n",
      "\n",
      "\tType of data:          DateTime\n",
      "\tContains null values:  False\n",
      "\tUnique values:         970\n",
      "\tSmallest value:        2017-01-01 00:00:41\n",
      "\tLargest value:         2017-01-01 12:26:40\n",
      "\tMost common values:    2017-01-01 10:52:33 (3x)\n",
      "\t                       2017-01-01 11:12:43 (3x)\n",
      "\t                       2017-01-01 00:16:08 (2x)\n",
      "\t                       2017-01-01 00:53:33 (2x)\n",
      "\t                       2017-01-01 01:51:23 (2x)\n",
      "\n",
      "  3. \"End date\"\n",
      "\n",
      "\tType of data:          DateTime\n",
      "\tContains null values:  False\n",
      "\tUnique values:         969\n",
      "\tSmallest value:        2017-01-01 00:04:23\n",
      "\tLargest value:         2017-01-01 16:14:52\n",
      "\tMost common values:    2017-01-01 11:26:09 (3x)\n",
      "\t                       2017-01-01 11:59:19 (3x)\n",
      "\t                       2017-01-01 00:50:14 (2x)\n",
      "\t                       2017-01-01 00:56:23 (2x)\n",
      "\t                       2017-01-01 02:06:06 (2x)\n",
      "\n",
      "  4. \"Start station number\"\n",
      "\n",
      "\tType of data:          Number\n",
      "\tContains null values:  False\n",
      "\tUnique values:         245\n",
      "\tSmallest value:        31002\n",
      "\tLargest value:         32205\n",
      "\tSum:                   31281619\n",
      "\tMean:                  31312.931932\n",
      "\tMedian:                31247\n",
      "\tStDev:                 230.459142\n",
      "\tMost common values:    31258 (27x)\n",
      "\t                       31628 (17x)\n",
      "\t                       31229 (16x)\n",
      "\t                       31104 (15x)\n",
      "\t                       31289 (14x)\n",
      "\n",
      "  5. \"Start station\"\n",
      "\n",
      "\tType of data:          Text\n",
      "\tContains null values:  False\n",
      "\tUnique values:         245\n",
      "\tLongest value:         53 characters\n",
      "\tMost common values:    Lincoln Memorial (27x)\n",
      "\t                       1st & K St SE (17x)\n",
      "\t                       New Hampshire Ave & T St NW (16x)\n",
      "\t                       Adams Mill & Columbia Rd NW (15x)\n",
      "\t                       Henry Bacon Dr & Lincoln Memorial Circle NW (14x)\n",
      "\n",
      "  6. \"End station number\"\n",
      "\n",
      "\tType of data:          Number\n",
      "\tContains null values:  False\n",
      "\tUnique values:         242\n",
      "\tSmallest value:        31000\n",
      "\tLargest value:         32205\n",
      "\tSum:                   31292798\n",
      "\tMean:                  31324.122122\n",
      "\tMedian:                31248\n",
      "\tStDev:                 231.041584\n",
      "\tMost common values:    31200 (25x)\n",
      "\t                       31202 (21x)\n",
      "\t                       31214 (20x)\n",
      "\t                       31258 (17x)\n",
      "\t                       31247 (17x)\n",
      "\n",
      "  7. \"End station\"\n",
      "\n",
      "\tType of data:          Text\n",
      "\tContains null values:  False\n",
      "\tUnique values:         242\n",
      "\tLongest value:         53 characters\n",
      "\tMost common values:    Massachusetts Ave & Dupont Circle NW (25x)\n",
      "\t                       14th & R St NW (21x)\n",
      "\t                       17th & Corcoran St NW (20x)\n",
      "\t                       Lincoln Memorial (17x)\n",
      "\t                       Jefferson Dr & 14th St SW (17x)\n",
      "\n",
      "  8. \"Bike number\"\n",
      "\n",
      "\tType of data:          Text\n",
      "\tContains null values:  False\n",
      "\tUnique values:         679\n",
      "\tLongest value:         6 characters\n",
      "\tMost common values:    W01114 (6x)\n",
      "\t                       W21160 (6x)\n",
      "\t                       W22350 (5x)\n",
      "\t                       W20583 (5x)\n",
      "\t                       W21700 (5x)\n",
      "\n",
      "  9. \"Member type\"\n",
      "\n",
      "\tType of data:          Text\n",
      "\tContains null values:  False\n",
      "\tUnique values:         2\n",
      "\tLongest value:         6 characters\n",
      "\tMost common values:    Member (723x)\n",
      "\t                       Casual (276x)\n",
      "\n",
      "Row count: 999\n"
     ]
    }
   ],
   "source": [
    "!head -n 1000 2017.csv | csvstat"
   ]
  },
  {
   "cell_type": "code",
   "execution_count": 17,
   "metadata": {},
   "outputs": [],
   "source": [
    "import os"
   ]
  },
  {
   "cell_type": "code",
   "execution_count": 143,
   "metadata": {},
   "outputs": [
    {
     "name": "stdout",
     "output_type": "stream",
     "text": [
      "| Duration |          Start date |            End date | Start station number | Start station                               | End station number | End station                                 | Bike number | Member type |\n",
      "| -------- | ------------------- | ------------------- | -------------------- | ------------------------------------------- | ------------------ | ------------------------------------------- | ----------- | ----------- |\n",
      "|       60 | 2017-01-01 14:11:14 | 2017-01-01 14:12:15 |               31,289 | Henry Bacon Dr & Lincoln Memorial Circle NW |             31,289 | Henry Bacon Dr & Lincoln Memorial Circle NW | W20752      | Casual      |\n",
      "|       61 | 2017-01-01 11:48:59 | 2017-01-01 11:50:01 |               31,110 | 20th St & Florida Ave NW                    |             31,110 | 20th St & Florida Ave NW                    | W21832      | Member      |\n",
      "|       61 | 2017-01-04 06:30:55 | 2017-01-04 06:31:56 |               31,102 | 11th & Kenyon St NW                         |             31,102 | 11th & Kenyon St NW                         | W01001      | Member      |\n",
      "|       61 | 2017-01-06 09:06:50 | 2017-01-06 09:07:51 |               32,040 | Friendship Blvd & Willard Ave               |             32,040 | Friendship Blvd & Willard Ave               | W20791      | Member      |\n",
      "|       62 | 2017-01-04 14:21:01 | 2017-01-04 14:22:04 |               31,288 | 4th St & Madison Dr NW                      |             31,288 | 4th St & Madison Dr NW                      | W00898      | Casual      |\n",
      "|       63 | 2017-01-01 14:50:43 | 2017-01-01 14:51:47 |               31,631 | 8th & F St NE                               |             31,631 | 8th & F St NE                               | W20484      | Member      |\n",
      "|       64 | 2017-01-03 17:47:50 | 2017-01-03 17:48:55 |               31,272 | Washington & Independence Ave SW/HHS        |             31,272 | Washington & Independence Ave SW/HHS        | W22609      | Casual      |\n",
      "|       64 | 2017-01-05 00:59:29 | 2017-01-05 01:00:34 |               31,213 | 17th & K St NW                              |             31,213 | 17th & K St NW                              | W23206      | Casual      |\n",
      "|       64 | 2017-01-05 21:51:19 | 2017-01-05 21:52:23 |               31,124 | 14th & Irving St NW                         |             31,105 | 14th & Harvard St NW                        | W21814      | Member      |\n",
      "CPU times: user 6.98 ms, sys: 4.34 ms, total: 11.3 ms\n",
      "Wall time: 1min 8s\n"
     ]
    },
    {
     "data": {
      "text/plain": [
       "0"
      ]
     },
     "execution_count": 143,
     "metadata": {},
     "output_type": "execute_result"
    }
   ],
   "source": [
    "%time os.system(\"head -25000 2017.csv | csvsort -c1 | head | csvlook\")"
   ]
  },
  {
   "cell_type": "markdown",
   "metadata": {},
   "source": [
    "Is it faster if we sort only one column?"
   ]
  },
  {
   "cell_type": "code",
   "execution_count": 142,
   "metadata": {},
   "outputs": [
    {
     "name": "stdout",
     "output_type": "stream",
     "text": [
      "| Duration |\n",
      "| -------- |\n",
      "|       60 |\n",
      "|       61 |\n",
      "|       61 |\n",
      "|       61 |\n",
      "|       62 |\n",
      "|       63 |\n",
      "|       64 |\n",
      "|       64 |\n",
      "|       64 |\n",
      "CPU times: user 656 µs, sys: 1e+03 µs, total: 1.66 ms\n",
      "Wall time: 2.62 s\n"
     ]
    },
    {
     "name": "stderr",
     "output_type": "stream",
     "text": [
      "/home/ubuntu/.local/lib/python3.8/site-packages/agate/table/from_csv.py:72: RuntimeWarning: Error sniffing CSV dialect: Could not determine delimiter\n"
     ]
    },
    {
     "data": {
      "text/plain": [
       "0"
      ]
     },
     "execution_count": 142,
     "metadata": {},
     "output_type": "execute_result"
    }
   ],
   "source": [
    "%time os.system(\"head -25000 2017.csv | csvcut -c1 | csvsort -c1| head | csvlook\")"
   ]
  },
  {
   "cell_type": "markdown",
   "metadata": {},
   "source": [
    "What about if we sort using unix `sort` instead of `csvsort`?"
   ]
  },
  {
   "cell_type": "code",
   "execution_count": 20,
   "metadata": {},
   "outputs": [
    {
     "name": "stdout",
     "output_type": "stream",
     "text": [
      "Duration\n",
      "60\n",
      "61\n",
      "61\n",
      "61\n",
      "62\n",
      "63\n",
      "64\n",
      "64\n",
      "64\n",
      "CPU times: user 1.99 ms, sys: 308 µs, total: 2.3 ms\n",
      "Wall time: 288 ms\n"
     ]
    },
    {
     "name": "stderr",
     "output_type": "stream",
     "text": [
      "sort: write failed: 'standard output': Broken pipe\n",
      "sort: write error\n"
     ]
    },
    {
     "data": {
      "text/plain": [
       "0"
      ]
     },
     "execution_count": 20,
     "metadata": {},
     "output_type": "execute_result"
    }
   ],
   "source": [
    "%time os.system(\"head -25000 2017.csv | csvcut -c1 | sort -n| head\")"
   ]
  },
  {
   "cell_type": "markdown",
   "metadata": {},
   "source": [
    "## Why is `sort` faster than `csvsort`?"
   ]
  },
  {
   "cell_type": "markdown",
   "metadata": {},
   "source": [
    "## Introducing `xsv`\n",
    "\n",
    "[`xsv`](https://github.com/BurntSushi/xsv) is another CSV toolkit like CSVKit, but where CSVKit was designed to be easy and consistent, `xsv` was designed to be *fast*.  And it's really fast.\n",
    "\n",
    "It has a lot of functions similar to CSVKit."
   ]
  },
  {
   "cell_type": "code",
   "execution_count": 21,
   "metadata": {},
   "outputs": [
    {
     "name": "stdout",
     "output_type": "stream",
     "text": [
      "Usage:\n",
      "    xsv <command> [<args>...]\n",
      "    xsv [options]\n",
      "\n",
      "Options:\n",
      "    --list        List all commands available.\n",
      "    -h, --help    Display this message\n",
      "    <command> -h  Display the command help message\n",
      "    --version     Print version info and exit\n",
      "\n",
      "Commands:\n",
      "    cat         Concatenate by row or column\n",
      "    count       Count records\n",
      "    fixlengths  Makes all records have same length\n",
      "    flatten     Show one field per line\n",
      "    fmt         Format CSV output (change field delimiter)\n",
      "    frequency   Show frequency tables\n",
      "    headers     Show header names\n",
      "    help        Show this usage message.\n",
      "    index       Create CSV index for faster access\n",
      "    input       Read CSV data with special quoting rules\n",
      "    join        Join CSV files\n",
      "    sample      Randomly sample CSV data\n",
      "    search      Search CSV data with regexes\n",
      "    select      Select columns from CSV\n",
      "    slice       Slice records from CSV\n",
      "    sort        Sort CSV data\n",
      "    split       Split CSV data into many files\n",
      "    stats       Compute basic statistics\n",
      "    table       Align CSV data into columns\n"
     ]
    }
   ],
   "source": [
    "!xsv --help"
   ]
  },
  {
   "cell_type": "code",
   "execution_count": 22,
   "metadata": {},
   "outputs": [
    {
     "name": "stdout",
     "output_type": "stream",
     "text": [
      "Duration  Start date           End date             Start station number  Start station                                End station number  End station                 Bike number  Member type\n",
      "221       2017-01-01 00:00:41  2017-01-01 00:04:23  31634                 3rd & Tingey St SE                           31208               M St & New Jersey Ave SE    W00869       Member\n",
      "1676      2017-01-01 00:06:53  2017-01-01 00:34:49  31258                 Lincoln Memorial                             31270               8th & D St NW               W00894       Casual\n",
      "1356      2017-01-01 00:07:10  2017-01-01 00:29:47  31289                 Henry Bacon Dr & Lincoln Memorial Circle NW  31222               New York Ave & 15th St NW   W21945       Casual\n",
      "1327      2017-01-01 00:07:22  2017-01-01 00:29:30  31289                 Henry Bacon Dr & Lincoln Memorial Circle NW  31222               New York Ave & 15th St NW   W20012       Casual\n",
      "1636      2017-01-01 00:07:36  2017-01-01 00:34:52  31258                 Lincoln Memorial                             31270               8th & D St NW               W22786       Casual\n",
      "1603      2017-01-01 00:08:11  2017-01-01 00:34:55  31258                 Lincoln Memorial                             31270               8th & D St NW               W20890       Casual\n",
      "473       2017-01-01 00:08:36  2017-01-01 00:16:29  31611                 13th & H St NE                               31616               3rd & H St NE               W20340       Member\n",
      "200       2017-01-01 00:11:07  2017-01-01 00:14:27  31104                 Adams Mill & Columbia Rd NW                  31121               Calvert St & Woodley Pl NW  W20398       Member\n",
      "748       2017-01-01 00:13:20  2017-01-01 00:25:49  31041                 Prince St & Union St                         31097               Saint Asaph & Madison St    W00365       Member\n"
     ]
    }
   ],
   "source": [
    "!head 2017.csv | xsv table"
   ]
  },
  {
   "cell_type": "code",
   "execution_count": 23,
   "metadata": {},
   "outputs": [
    {
     "name": "stdout",
     "output_type": "stream",
     "text": [
      "1   Duration\n",
      "2   Start date\n",
      "3   End date\n",
      "4   Start station number\n",
      "5   Start station\n",
      "6   End station number\n",
      "7   End station\n",
      "8   Bike number\n",
      "9   Member type\n"
     ]
    }
   ],
   "source": [
    "!xsv headers 2017.csv"
   ]
  },
  {
   "cell_type": "code",
   "execution_count": 24,
   "metadata": {},
   "outputs": [
    {
     "name": "stdout",
     "output_type": "stream",
     "text": [
      "Duration  Start station                                 End station\n",
      "360       Eastern Market / 7th & North Carolina Ave SE  11th & H St NE\n",
      "312       Eastern Market / 7th & North Carolina Ave SE  15th St & Massachusetts Ave SE\n",
      "1960      Eastern Market / 7th & North Carolina Ave SE  Lincoln Memorial\n",
      "1933      Eastern Market / 7th & North Carolina Ave SE  Lincoln Memorial\n",
      "290       Eastern Market / 7th & North Carolina Ave SE  15th St & Massachusetts Ave SE\n",
      "944       Eastern Market / 7th & North Carolina Ave SE  10th & G St NW\n",
      "722       Eastern Market / 7th & North Carolina Ave SE  5th & F St NW\n",
      "238       Eastern Market / 7th & North Carolina Ave SE  Lincoln Park / 13th & East Capitol St NE \n",
      "317       Eastern Market / 7th & North Carolina Ave SE  14th & D St SE\n"
     ]
    }
   ],
   "source": [
    "!xsv search -s5 \"Eastern Market / 7th\" 2017.csv | xsv select 1,5,7 | head | xsv table"
   ]
  },
  {
   "cell_type": "code",
   "execution_count": 25,
   "metadata": {},
   "outputs": [
    {
     "name": "stdout",
     "output_type": "stream",
     "text": [
      "Start station number\n",
      "31634\n",
      "31258\n",
      "31289\n",
      "31289\n",
      "31258\n",
      "31258\n",
      "31611\n",
      "31104\n",
      "31041\n"
     ]
    }
   ],
   "source": [
    "!xsv select 4 2017.csv | head | xsv table"
   ]
  },
  {
   "cell_type": "code",
   "execution_count": 26,
   "metadata": {},
   "outputs": [
    {
     "name": "stdout",
     "output_type": "stream",
     "text": [
      "field                 value  count\n",
      "Start station number  31623  13712\n",
      "Start station number  31200  9071\n",
      "Start station number  31201  8195\n",
      "Start station number  31247  8026\n",
      "Start station number  31258  7876\n",
      "Start station number  31241  7211\n",
      "Start station number  31229  6607\n",
      "Start station number  31101  6563\n",
      "Start station number  31613  5907\n",
      "Start station number  31600  5846\n"
     ]
    }
   ],
   "source": [
    "!xsv select 4 2017.csv | xsv frequency | xsv table"
   ]
  },
  {
   "cell_type": "code",
   "execution_count": 27,
   "metadata": {},
   "outputs": [
    {
     "name": "stdout",
     "output_type": "stream",
     "text": [
      "field     type     sum        min  max    min_length  max_length  mean                stddev\n",
      "Duration  Integer  653262764  60   86066  2           5           1010.4449490340571  2087.020244663465\n"
     ]
    }
   ],
   "source": [
    "!xsv select 1 2017.csv | xsv stats | xsv table"
   ]
  },
  {
   "cell_type": "code",
   "execution_count": 28,
   "metadata": {},
   "outputs": [
    {
     "name": "stdout",
     "output_type": "stream",
     "text": [
      "Duration  Start date           End date             Start station number  Start station        End station number  End station          Bike number  Member type\n",
      "1632      2017-01-04 07:34:02  2017-01-04 08:01:14  31000                 Eads St & 15th St S  31205               21st & I St NW       W21228       Member\n",
      "968       2017-01-04 10:13:48  2017-01-04 10:29:57  31000                 Eads St & 15th St S  31249               Jefferson Memorial   W20933       Member\n",
      "1136      2017-01-04 16:35:16  2017-01-04 16:54:13  31000                 Eads St & 15th St S  31249               Jefferson Memorial   W20447       Casual\n",
      "1809      2017-01-05 07:58:34  2017-01-05 08:28:43  31000                 Eads St & 15th St S  31205               21st & I St NW       W00302       Member\n",
      "975       2017-01-05 10:08:53  2017-01-05 10:25:08  31000                 Eads St & 15th St S  31249               Jefferson Memorial   W22416       Member\n",
      "1978      2017-01-06 09:17:26  2017-01-06 09:50:25  31000                 Eads St & 15th St S  31205               21st & I St NW       W00688       Member\n",
      "1154      2017-01-06 10:14:07  2017-01-06 10:33:21  31000                 Eads St & 15th St S  31249               Jefferson Memorial   W20956       Member\n",
      "289       2017-01-06 14:33:36  2017-01-06 14:38:25  31000                 Eads St & 15th St S  31091               S Joyce & 16th St S  W00365       Member\n",
      "314       2017-01-06 19:58:38  2017-01-06 20:03:52  31000                 Eads St & 15th St S  31012               26th & S Clark St    W00883       Member\n"
     ]
    }
   ],
   "source": [
    "!xsv sort -s4 2017.csv | head | xsv table"
   ]
  },
  {
   "cell_type": "markdown",
   "metadata": {},
   "source": [
    "That seemed pretty fast... how fast was it?  Let's try to reproduce our test from before."
   ]
  },
  {
   "cell_type": "code",
   "execution_count": 29,
   "metadata": {},
   "outputs": [
    {
     "name": "stdout",
     "output_type": "stream",
     "text": [
      "      1 Start station number\n",
      "    299 31000\n",
      "    385 31001\n",
      "   1002 31002\n",
      "    813 31003\n",
      "    591 31004\n",
      "   1247 31005\n",
      "    674 31006\n",
      "   1631 31007\n",
      "    877 31008\n",
      "CPU times: user 0 ns, sys: 2.87 ms, total: 2.87 ms\n",
      "Wall time: 1.92 s\n"
     ]
    },
    {
     "name": "stderr",
     "output_type": "stream",
     "text": [
      "uniq: write error: Broken pipe\n"
     ]
    },
    {
     "data": {
      "text/plain": [
       "0"
      ]
     },
     "execution_count": 29,
     "metadata": {},
     "output_type": "execute_result"
    }
   ],
   "source": [
    "%time os.system(\"xsv select 4 2017.csv | xsv sort | uniq -c | head\")"
   ]
  },
  {
   "cell_type": "markdown",
   "metadata": {},
   "source": [
    "Wow!  That's really fast.  Even faster than unix `sort`!  Let's use `%timeit` to try repeated runs and get a better sample for comparison."
   ]
  },
  {
   "cell_type": "code",
   "execution_count": 30,
   "metadata": {},
   "outputs": [
    {
     "name": "stdout",
     "output_type": "stream",
     "text": [
      "      1 Start station number\n",
      "    299 31000\n",
      "    385 31001\n",
      "   1002 31002\n",
      "    813 31003\n",
      "    591 31004\n",
      "   1247 31005\n",
      "    674 31006\n",
      "   1631 31007\n",
      "    877 31008\n"
     ]
    },
    {
     "name": "stderr",
     "output_type": "stream",
     "text": [
      "uniq: write error: Broken pipe\n"
     ]
    },
    {
     "name": "stdout",
     "output_type": "stream",
     "text": [
      "      1 Start station number\n",
      "    299 31000\n",
      "    385 31001\n",
      "   1002 31002\n",
      "    813 31003\n",
      "    591 31004\n",
      "   1247 31005\n",
      "    674 31006\n",
      "   1631 31007\n",
      "    877 31008\n"
     ]
    },
    {
     "name": "stderr",
     "output_type": "stream",
     "text": [
      "uniq: write error: Broken pipe\n"
     ]
    },
    {
     "name": "stdout",
     "output_type": "stream",
     "text": [
      "      1 Start station number\n",
      "    299 31000\n",
      "    385 31001\n",
      "   1002 31002\n",
      "    813 31003\n",
      "    591 31004\n",
      "   1247 31005\n",
      "    674 31006\n",
      "   1631 31007\n",
      "    877 31008\n"
     ]
    },
    {
     "name": "stderr",
     "output_type": "stream",
     "text": [
      "uniq: write error: Broken pipe\n"
     ]
    },
    {
     "name": "stdout",
     "output_type": "stream",
     "text": [
      "      1 Start station number\n",
      "    299 31000\n",
      "    385 31001\n",
      "   1002 31002\n",
      "    813 31003\n",
      "    591 31004\n",
      "   1247 31005\n",
      "    674 31006\n",
      "   1631 31007\n",
      "    877 31008\n"
     ]
    },
    {
     "name": "stderr",
     "output_type": "stream",
     "text": [
      "uniq: write error: Broken pipe\n"
     ]
    },
    {
     "name": "stdout",
     "output_type": "stream",
     "text": [
      "      1 Start station number\n",
      "    299 31000\n",
      "    385 31001\n",
      "   1002 31002\n",
      "    813 31003\n",
      "    591 31004\n",
      "   1247 31005\n",
      "    674 31006\n",
      "   1631 31007\n",
      "    877 31008\n"
     ]
    },
    {
     "name": "stderr",
     "output_type": "stream",
     "text": [
      "uniq: write error: Broken pipe\n"
     ]
    },
    {
     "name": "stdout",
     "output_type": "stream",
     "text": [
      "      1 Start station number\n",
      "    299 31000\n",
      "    385 31001\n",
      "   1002 31002\n",
      "    813 31003\n",
      "    591 31004\n",
      "   1247 31005\n",
      "    674 31006\n",
      "   1631 31007\n",
      "    877 31008\n"
     ]
    },
    {
     "name": "stderr",
     "output_type": "stream",
     "text": [
      "uniq: write error: Broken pipe\n"
     ]
    },
    {
     "name": "stdout",
     "output_type": "stream",
     "text": [
      "      1 Start station number\n",
      "    299 31000\n",
      "    385 31001\n",
      "   1002 31002\n",
      "    813 31003\n",
      "    591 31004\n",
      "   1247 31005\n",
      "    674 31006\n",
      "   1631 31007\n",
      "    877 31008\n"
     ]
    },
    {
     "name": "stderr",
     "output_type": "stream",
     "text": [
      "uniq: write error: Broken pipe\n"
     ]
    },
    {
     "name": "stdout",
     "output_type": "stream",
     "text": [
      "      1 Start station number\n",
      "    299 31000\n",
      "    385 31001\n",
      "   1002 31002\n",
      "    813 31003\n",
      "    591 31004\n",
      "   1247 31005\n",
      "    674 31006\n",
      "   1631 31007\n",
      "    877 31008\n",
      "1.35 s ± 20.5 ms per loop (mean ± std. dev. of 7 runs, 1 loop each)\n"
     ]
    },
    {
     "name": "stderr",
     "output_type": "stream",
     "text": [
      "uniq: write error: Broken pipe\n"
     ]
    }
   ],
   "source": [
    "%timeit os.system(\"xsv select 4 2017.csv | xsv sort | uniq -c | head\")"
   ]
  },
  {
   "cell_type": "code",
   "execution_count": 31,
   "metadata": {},
   "outputs": [
    {
     "name": "stdout",
     "output_type": "stream",
     "text": [
      "    299 31000\n",
      "    385 31001\n",
      "   1002 31002\n",
      "    813 31003\n",
      "    591 31004\n",
      "   1247 31005\n",
      "    674 31006\n",
      "   1631 31007\n",
      "    877 31008\n",
      "    849 31009\n"
     ]
    },
    {
     "name": "stderr",
     "output_type": "stream",
     "text": [
      "uniq: write error: Broken pipe\n"
     ]
    },
    {
     "name": "stdout",
     "output_type": "stream",
     "text": [
      "    299 31000\n",
      "    385 31001\n",
      "   1002 31002\n",
      "    813 31003\n",
      "    591 31004\n",
      "   1247 31005\n",
      "    674 31006\n",
      "   1631 31007\n",
      "    877 31008\n",
      "    849 31009\n"
     ]
    },
    {
     "name": "stderr",
     "output_type": "stream",
     "text": [
      "uniq: write error: Broken pipe\n"
     ]
    },
    {
     "name": "stdout",
     "output_type": "stream",
     "text": [
      "    299 31000\n",
      "    385 31001\n",
      "   1002 31002\n",
      "    813 31003\n",
      "    591 31004\n",
      "   1247 31005\n",
      "    674 31006\n",
      "   1631 31007\n",
      "    877 31008\n",
      "    849 31009\n"
     ]
    },
    {
     "name": "stderr",
     "output_type": "stream",
     "text": [
      "uniq: write error: Broken pipe\n"
     ]
    },
    {
     "name": "stdout",
     "output_type": "stream",
     "text": [
      "    299 31000\n",
      "    385 31001\n",
      "   1002 31002\n",
      "    813 31003\n",
      "    591 31004\n",
      "   1247 31005\n",
      "    674 31006\n",
      "   1631 31007\n",
      "    877 31008\n",
      "    849 31009\n"
     ]
    },
    {
     "name": "stderr",
     "output_type": "stream",
     "text": [
      "uniq: write error: Broken pipe\n"
     ]
    },
    {
     "name": "stdout",
     "output_type": "stream",
     "text": [
      "    299 31000\n",
      "    385 31001\n",
      "   1002 31002\n",
      "    813 31003\n",
      "    591 31004\n",
      "   1247 31005\n",
      "    674 31006\n",
      "   1631 31007\n",
      "    877 31008\n",
      "    849 31009\n"
     ]
    },
    {
     "name": "stderr",
     "output_type": "stream",
     "text": [
      "uniq: write error: Broken pipe\n"
     ]
    },
    {
     "name": "stdout",
     "output_type": "stream",
     "text": [
      "    299 31000\n",
      "    385 31001\n",
      "   1002 31002\n",
      "    813 31003\n",
      "    591 31004\n",
      "   1247 31005\n",
      "    674 31006\n",
      "   1631 31007\n",
      "    877 31008\n",
      "    849 31009\n"
     ]
    },
    {
     "name": "stderr",
     "output_type": "stream",
     "text": [
      "uniq: write error: Broken pipe\n"
     ]
    },
    {
     "name": "stdout",
     "output_type": "stream",
     "text": [
      "    299 31000\n",
      "    385 31001\n",
      "   1002 31002\n",
      "    813 31003\n",
      "    591 31004\n",
      "   1247 31005\n",
      "    674 31006\n",
      "   1631 31007\n",
      "    877 31008\n",
      "    849 31009\n"
     ]
    },
    {
     "name": "stderr",
     "output_type": "stream",
     "text": [
      "uniq: write error: Broken pipe\n"
     ]
    },
    {
     "name": "stdout",
     "output_type": "stream",
     "text": [
      "    299 31000\n",
      "    385 31001\n",
      "   1002 31002\n",
      "    813 31003\n",
      "    591 31004\n",
      "   1247 31005\n",
      "    674 31006\n",
      "   1631 31007\n",
      "    877 31008\n",
      "    849 31009\n",
      "1.21 s ± 4.91 ms per loop (mean ± std. dev. of 7 runs, 1 loop each)\n"
     ]
    },
    {
     "name": "stderr",
     "output_type": "stream",
     "text": [
      "uniq: write error: Broken pipe\n"
     ]
    }
   ],
   "source": [
    "%timeit os.system(\"xsv select 4 2017.csv | sort | uniq -c | head\")"
   ]
  },
  {
   "cell_type": "markdown",
   "metadata": {},
   "source": [
    "Just for fun, let's run that again with `csvcut` instead of `xsv select`."
   ]
  },
  {
   "cell_type": "code",
   "execution_count": 32,
   "metadata": {},
   "outputs": [
    {
     "name": "stdout",
     "output_type": "stream",
     "text": [
      "    299 31000\n",
      "    385 31001\n",
      "   1002 31002\n",
      "    813 31003\n",
      "    591 31004\n",
      "   1247 31005\n",
      "    674 31006\n",
      "   1631 31007\n",
      "    877 31008\n",
      "    849 31009\n"
     ]
    },
    {
     "name": "stderr",
     "output_type": "stream",
     "text": [
      "uniq: write error: Broken pipe\n"
     ]
    },
    {
     "name": "stdout",
     "output_type": "stream",
     "text": [
      "    299 31000\n",
      "    385 31001\n",
      "   1002 31002\n",
      "    813 31003\n",
      "    591 31004\n",
      "   1247 31005\n",
      "    674 31006\n",
      "   1631 31007\n",
      "    877 31008\n",
      "    849 31009\n"
     ]
    },
    {
     "name": "stderr",
     "output_type": "stream",
     "text": [
      "uniq: write error: Broken pipe\n"
     ]
    },
    {
     "name": "stdout",
     "output_type": "stream",
     "text": [
      "    299 31000\n",
      "    385 31001\n",
      "   1002 31002\n",
      "    813 31003\n",
      "    591 31004\n",
      "   1247 31005\n",
      "    674 31006\n",
      "   1631 31007\n",
      "    877 31008\n",
      "    849 31009\n"
     ]
    },
    {
     "name": "stderr",
     "output_type": "stream",
     "text": [
      "uniq: write error: Broken pipe\n"
     ]
    },
    {
     "name": "stdout",
     "output_type": "stream",
     "text": [
      "    299 31000\n",
      "    385 31001\n",
      "   1002 31002\n",
      "    813 31003\n",
      "    591 31004\n",
      "   1247 31005\n",
      "    674 31006\n",
      "   1631 31007\n",
      "    877 31008\n",
      "    849 31009\n"
     ]
    },
    {
     "name": "stderr",
     "output_type": "stream",
     "text": [
      "uniq: write error: Broken pipe\n"
     ]
    },
    {
     "name": "stdout",
     "output_type": "stream",
     "text": [
      "    299 31000\n",
      "    385 31001\n",
      "   1002 31002\n",
      "    813 31003\n",
      "    591 31004\n",
      "   1247 31005\n",
      "    674 31006\n",
      "   1631 31007\n",
      "    877 31008\n",
      "    849 31009\n"
     ]
    },
    {
     "name": "stderr",
     "output_type": "stream",
     "text": [
      "uniq: write error: Broken pipe\n"
     ]
    },
    {
     "name": "stdout",
     "output_type": "stream",
     "text": [
      "    299 31000\n",
      "    385 31001\n",
      "   1002 31002\n",
      "    813 31003\n",
      "    591 31004\n",
      "   1247 31005\n",
      "    674 31006\n",
      "   1631 31007\n",
      "    877 31008\n",
      "    849 31009\n"
     ]
    },
    {
     "name": "stderr",
     "output_type": "stream",
     "text": [
      "uniq: write error: Broken pipe\n"
     ]
    },
    {
     "name": "stdout",
     "output_type": "stream",
     "text": [
      "    299 31000\n",
      "    385 31001\n",
      "   1002 31002\n",
      "    813 31003\n",
      "    591 31004\n",
      "   1247 31005\n",
      "    674 31006\n",
      "   1631 31007\n",
      "    877 31008\n",
      "    849 31009\n"
     ]
    },
    {
     "name": "stderr",
     "output_type": "stream",
     "text": [
      "uniq: write error: Broken pipe\n"
     ]
    },
    {
     "name": "stdout",
     "output_type": "stream",
     "text": [
      "    299 31000\n",
      "    385 31001\n",
      "   1002 31002\n",
      "    813 31003\n",
      "    591 31004\n",
      "   1247 31005\n",
      "    674 31006\n",
      "   1631 31007\n",
      "    877 31008\n",
      "    849 31009\n",
      "3.8 s ± 13.9 ms per loop (mean ± std. dev. of 7 runs, 1 loop each)\n"
     ]
    },
    {
     "name": "stderr",
     "output_type": "stream",
     "text": [
      "uniq: write error: Broken pipe\n"
     ]
    }
   ],
   "source": [
    "%timeit os.system(\"csvcut -c4 2017.csv | sort | uniq -c | head\")"
   ]
  },
  {
   "cell_type": "markdown",
   "metadata": {},
   "source": [
    "Pretty impressive, right?  It was designed to be *fast*.  And it is.\n",
    "\n",
    "But wait, there's more.  `xsv` supports *indexing*, "
   ]
  },
  {
   "cell_type": "code",
   "execution_count": 33,
   "metadata": {},
   "outputs": [],
   "source": [
    "!xsv index 2017.csv"
   ]
  },
  {
   "cell_type": "code",
   "execution_count": 34,
   "metadata": {},
   "outputs": [
    {
     "name": "stdout",
     "output_type": "stream",
     "text": [
      "-rw-rw-r-- 1 ubuntu ubuntu  86M Mar 15  2018 2017-capitalbikeshare-tripdata.zip\n",
      "-rw-rw-r-- 1 ubuntu ubuntu  86M Mar 15  2018 2017-capitalbikeshare-tripdata.zip.1\n",
      "-rw-rw-r-- 1 ubuntu ubuntu  86M Nov  6 19:43 2017.csv\n",
      "-rw-rw-r-- 1 ubuntu ubuntu 5.0M Nov  6 19:47 2017.csv.idx\n",
      "-rw-rw-r-- 1 ubuntu ubuntu  86M Mar 15  2018 2017Q1-capitalbikeshare-tripdata.csv\n",
      "-rw-rw-r-- 1 ubuntu ubuntu 147M Mar 15  2018 2017Q2-capitalbikeshare-tripdata.csv\n",
      "-rw-rw-r-- 1 ubuntu ubuntu 158M Mar 15  2018 2017Q3-capitalbikeshare-tripdata.csv\n",
      "-rw-rw-r-- 1 ubuntu ubuntu 108M Mar 15  2018 2017Q4-capitalbikeshare-tripdata.csv\n"
     ]
    }
   ],
   "source": [
    "!ls -lh 2017*"
   ]
  },
  {
   "cell_type": "code",
   "execution_count": 35,
   "metadata": {},
   "outputs": [
    {
     "name": "stdout",
     "output_type": "stream",
     "text": [
      "field          value                                                count\n",
      "Start station  Columbus Circle / Union Station                      13712\n",
      "Start station  Massachusetts Ave & Dupont Circle NW                 9071\n",
      "Start station  15th & P St NW                                       8195\n",
      "Start station  Jefferson Dr & 14th St SW                            8026\n",
      "Start station  Lincoln Memorial                                     7876\n",
      "Start station  Thomas Circle                                        7211\n",
      "Start station  New Hampshire Ave & T St NW                          6607\n",
      "Start station  14th & V St NW                                       6563\n",
      "Start station  Eastern Market Metro / Pennsylvania Ave & 7th St SE  5907\n",
      "Start station  5th & K St NW                                        5846\n"
     ]
    }
   ],
   "source": [
    "!xsv select 5 2017.csv | xsv frequency | xsv table"
   ]
  },
  {
   "cell_type": "markdown",
   "metadata": {},
   "source": [
    "The moral of the story:  different tools with similar goals but different designs can each both achieve their goals effectively.  Knowing which to choose for a particular task requires an understanding of the design tradeoffs."
   ]
  },
  {
   "cell_type": "markdown",
   "metadata": {},
   "source": [
    "## Looping vs. Vectorization"
   ]
  },
  {
   "cell_type": "markdown",
   "metadata": {},
   "source": [
    "Vectorization (or array programming) is a critical piece of the data science puzzle.  Fast implementations of array operations take advantage of low-level hardware to make operations on matrixes very fast, which is critical for machine learning and other statistical operations on large datasets.\n",
    "\n",
    "To get a taste of the difference vectorized operations work, let's look at a simple function:  finding the largest value in a matrix.  This should have complexity O(n), or linear, as the number of compute operations increases linearly with the size of the input set.\n",
    "\n",
    "We can use the [pyheatmagic](https://github.com/csurfer/pyheatmagic) Jupyter extension to look at the performance of two versions of a function that find the largest value within a matrix of random numbers.  The larger the matrix size, the larger the result should be - or in this case, the closer to 1."
   ]
  },
  {
   "cell_type": "code",
   "execution_count": 36,
   "metadata": {},
   "outputs": [],
   "source": [
    "%load_ext heat"
   ]
  },
  {
   "cell_type": "code",
   "execution_count": 37,
   "metadata": {},
   "outputs": [
    {
     "name": "stdout",
     "output_type": "stream",
     "text": [
      "0.9999779242028085\n"
     ]
    },
    {
     "name": "stderr",
     "output_type": "stream",
     "text": [
      "/home/ubuntu/.local/lib/python3.8/site-packages/pyheat/pyheat.py:158: UserWarning: FixedFormatter should only be used together with FixedLocator\n",
      "  self.ax.set_yticklabels(row_labels, minor=False)\n"
     ]
    },
    {
     "data": {
      "image/png": "[encoded data removed]",
      "text/plain": [
       "<Figure size 468x288 with 2 Axes>"
      ]
     },
     "metadata": {
      "needs_background": "light"
     },
     "output_type": "display_data"
    }
   ],
   "source": [
    "%%heat\n",
    "import random\n",
    "def arraymax1(m, n):\n",
    "    ints = [random.random() for n in range(m * n)]\n",
    "    maxval = 0\n",
    "    for i in range(m):\n",
    "        for j in range(n):\n",
    "            index = (i * n) + j\n",
    "            if ints[index] > maxval:\n",
    "                maxval = ints[index]\n",
    "    return maxval\n",
    "\n",
    "print(arraymax1(300, 100))"
   ]
  },
  {
   "cell_type": "code",
   "execution_count": 137,
   "metadata": {},
   "outputs": [
    {
     "name": "stdout",
     "output_type": "stream",
     "text": [
      "0.9999973369219253\n"
     ]
    },
    {
     "name": "stderr",
     "output_type": "stream",
     "text": [
      "/home/ubuntu/.local/lib/python3.8/site-packages/pyheat/pyheat.py:158: UserWarning: FixedFormatter should only be used together with FixedLocator\n",
      "  self.ax.set_yticklabels(row_labels, minor=False)\n"
     ]
    },
    {
     "data": {
      "image/png": "[encoded data removed]",
      "text/plain": [
       "<Figure size 423x144 with 2 Axes>"
      ]
     },
     "metadata": {
      "needs_background": "light"
     },
     "output_type": "display_data"
    }
   ],
   "source": [
    "%%heat\n",
    "import numpy as np\n",
    "def arraymax2(m, n):\n",
    "    a = np.random.random(m * n).reshape(m, n)\n",
    "    return np.max(a)\n",
    "\n",
    "print(arraymax2(300, 100))"
   ]
  },
  {
   "cell_type": "code",
   "execution_count": 138,
   "metadata": {},
   "outputs": [],
   "source": [
    "import random\n",
    "def arraymax1(m, n):\n",
    "    ints = [random.random() for n in range(m * n)]\n",
    "    maxval = 0\n",
    "    for i in range(m):\n",
    "        for j in range(n):\n",
    "            index = (i * n) + j\n",
    "            if ints[index] > maxval:\n",
    "                maxval = ints[index]\n",
    "    return maxval"
   ]
  },
  {
   "cell_type": "code",
   "execution_count": 139,
   "metadata": {},
   "outputs": [],
   "source": [
    "import numpy as np\n",
    "def arraymax2(m, n):\n",
    "    a = np.random.random(m * n).reshape(m, n)\n",
    "    return np.max(a)"
   ]
  },
  {
   "cell_type": "code",
   "execution_count": 140,
   "metadata": {},
   "outputs": [
    {
     "name": "stdout",
     "output_type": "stream",
     "text": [
      "244 ms ± 464 µs per loop (mean ± std. dev. of 7 runs, 1 loop each)\n"
     ]
    }
   ],
   "source": [
    "%timeit arraymax1(1000, 1000)"
   ]
  },
  {
   "cell_type": "code",
   "execution_count": 141,
   "metadata": {},
   "outputs": [
    {
     "name": "stdout",
     "output_type": "stream",
     "text": [
      "9.21 ms ± 44.9 µs per loop (mean ± std. dev. of 7 runs, 100 loops each)\n"
     ]
    }
   ],
   "source": [
    "%timeit arraymax2(1000, 1000)"
   ]
  },
  {
   "cell_type": "markdown",
   "metadata": {},
   "source": [
    "# Processing data with Spark\n",
    "\n",
    "To get started, we identify the data we want to work with, in this case one of the unstacked/raw CSV files."
   ]
  },
  {
   "cell_type": "code",
   "execution_count": 6,
   "metadata": {},
   "outputs": [],
   "source": [
    "rides1 = spark.textFile('2017Q1-capitalbikeshare-tripdata.csv')"
   ]
  },
  {
   "cell_type": "code",
   "execution_count": 7,
   "metadata": {},
   "outputs": [
    {
     "name": "stderr",
     "output_type": "stream",
     "text": [
      "[Stage 0:=======================================>                   (2 + 1) / 3]\r"
     ]
    },
    {
     "name": "stdout",
     "output_type": "stream",
     "text": [
      "CPU times: user 9.54 ms, sys: 4.61 ms, total: 14.2 ms\n",
      "Wall time: 4.46 s\n"
     ]
    },
    {
     "name": "stderr",
     "output_type": "stream",
     "text": [
      "                                                                                \r"
     ]
    },
    {
     "data": {
      "text/plain": [
       "646511"
      ]
     },
     "execution_count": 7,
     "metadata": {},
     "output_type": "execute_result"
    }
   ],
   "source": [
    "%time rides1.count()"
   ]
  },
  {
   "cell_type": "markdown",
   "metadata": {},
   "source": [
    "Looks right so far.  Two more details:  first, we could load the second file the same way:"
   ]
  },
  {
   "cell_type": "code",
   "execution_count": 8,
   "metadata": {},
   "outputs": [],
   "source": [
    "rides2 = spark.textFile('2017Q2-capitalbikeshare-tripdata.csv')"
   ]
  },
  {
   "cell_type": "code",
   "execution_count": 9,
   "metadata": {},
   "outputs": [
    {
     "name": "stderr",
     "output_type": "stream",
     "text": [
      "[Stage 1:===============================================>           (4 + 1) / 5]\r"
     ]
    },
    {
     "name": "stdout",
     "output_type": "stream",
     "text": [
      "CPU times: user 7.88 ms, sys: 1.16 ms, total: 9.04 ms\n",
      "Wall time: 2.86 s\n"
     ]
    },
    {
     "name": "stderr",
     "output_type": "stream",
     "text": [
      "                                                                                \r"
     ]
    },
    {
     "data": {
      "text/plain": [
       "1104419"
      ]
     },
     "execution_count": 9,
     "metadata": {},
     "output_type": "execute_result"
    }
   ],
   "source": [
    "%time rides2.count()"
   ]
  },
  {
   "cell_type": "markdown",
   "metadata": {},
   "source": [
    "But that seems so tedious.  And besides, Spark makes this easier:  you can use wildcards to load more than one file at a time into a single RDD."
   ]
  },
  {
   "cell_type": "code",
   "execution_count": 10,
   "metadata": {},
   "outputs": [],
   "source": [
    "rides = spark.textFile('2017Q*.csv')"
   ]
  },
  {
   "cell_type": "code",
   "execution_count": 11,
   "metadata": {},
   "outputs": [
    {
     "name": "stderr",
     "output_type": "stream",
     "text": [
      "[Stage 2:==================================================>      (15 + 1) / 17]\r"
     ]
    },
    {
     "name": "stdout",
     "output_type": "stream",
     "text": [
      "CPU times: user 12 ms, sys: 11.5 ms, total: 23.5 ms\n",
      "Wall time: 9.77 s\n"
     ]
    },
    {
     "name": "stderr",
     "output_type": "stream",
     "text": [
      "                                                                                \r"
     ]
    },
    {
     "data": {
      "text/plain": [
       "3757781"
      ]
     },
     "execution_count": 11,
     "metadata": {},
     "output_type": "execute_result"
    }
   ],
   "source": [
    "%time rides.count()"
   ]
  },
  {
   "cell_type": "markdown",
   "metadata": {},
   "source": [
    "This is a good moment to pause and make sure you understand what you've done so far.  We've loaded one or more than one text file into a Spark RDD and used parallel processing to count the number of lines in the file.  If it doesn't seem like you've done that much, take a look at the Spark UI now.\n",
    "\n",
    "Really, take a look!\n",
    "\n",
    "Ready to continue?\n",
    "\n",
    "Okay, let's keep going with a look at the functional style of RDD processing.  This is pretty natural to someone who's used functional languages or is used to doing a lot of list processing in Python.\n",
    "\n",
    "`first()` will extract the first line of the file, which, in this case, contains our headers."
   ]
  },
  {
   "cell_type": "code",
   "execution_count": 12,
   "metadata": {},
   "outputs": [
    {
     "data": {
      "text/plain": [
       "'\"Duration\",\"Start date\",\"End date\",\"Start station number\",\"Start station\",\"End station number\",\"End station\",\"Bike number\",\"Member type\"'"
      ]
     },
     "execution_count": 12,
     "metadata": {},
     "output_type": "execute_result"
    }
   ],
   "source": [
    "header = rides.first()\n",
    "header"
   ]
  },
  {
   "cell_type": "markdown",
   "metadata": {},
   "source": [
    "We're going to jump ahead and do a bunch of things at once, and then break them all down so you can see the steps one at a time.\n",
    "\n",
    "First we load the `add` function; this is a useful shorthand we'll use in a second."
   ]
  },
  {
   "cell_type": "code",
   "execution_count": 10,
   "metadata": {},
   "outputs": [],
   "source": [
    "from operator import add"
   ]
  },
  {
   "cell_type": "markdown",
   "metadata": {},
   "source": [
    "It works just like you'd expect:"
   ]
  },
  {
   "cell_type": "code",
   "execution_count": 15,
   "metadata": {},
   "outputs": [
    {
     "data": {
      "text/plain": [
       "3"
      ]
     },
     "execution_count": 15,
     "metadata": {},
     "output_type": "execute_result"
    }
   ],
   "source": [
    "add(1, 2)"
   ]
  },
  {
   "cell_type": "code",
   "execution_count": 16,
   "metadata": {},
   "outputs": [
    {
     "data": {
      "text/plain": [
       "21"
      ]
     },
     "execution_count": 16,
     "metadata": {},
     "output_type": "execute_result"
    }
   ],
   "source": [
    "add(add(add(add(add(add(1, 1), 1), 2), 3), 5), 8)"
   ]
  },
  {
   "cell_type": "markdown",
   "metadata": {},
   "source": [
    "Make sense?  Good. \n",
    "\n",
    "Okay, now the leap:"
   ]
  },
  {
   "cell_type": "code",
   "execution_count": 17,
   "metadata": {},
   "outputs": [
    {
     "name": "stderr",
     "output_type": "stream",
     "text": [
      "[Stage 4:=====================================================>   (16 + 1) / 17]\r"
     ]
    },
    {
     "name": "stdout",
     "output_type": "stream",
     "text": [
      "70062\tColumbus Circle / Union Station\n",
      "65884\tLincoln Memorial\n",
      "59259\tJefferson Dr & 14th St SW\n",
      "46702\tMassachusetts Ave & Dupont Circle NW\n",
      "43305\t15th & P St NW\n",
      "42525\tJefferson Memorial\n",
      "42406\tSmithsonian-National Mall / Jefferson Dr & 12th St SW\n",
      "40659\tHenry Bacon Dr & Lincoln Memorial Circle NW\n",
      "37751\t4th St & Madison Dr NW\n",
      "33159\t14th & V St NW\n"
     ]
    },
    {
     "name": "stderr",
     "output_type": "stream",
     "text": [
      "                                                                                \r"
     ]
    }
   ],
   "source": [
    "top10 = rides.filter(lambda row: row != header) \\\n",
    "    .map(lambda row: row.replace('\"', '')) \\\n",
    "    .map(lambda row: row.split(\",\")) \\\n",
    "    .map(lambda cols: (cols[4], 1)) \\\n",
    "    .reduceByKey(add) \\\n",
    "    .takeOrdered(10, key=lambda pair: -pair[1])\n",
    "for station, count in top10:\n",
    "    print(\"{}\\t{}\".format(count, station))"
   ]
  },
  {
   "cell_type": "markdown",
   "metadata": {},
   "source": [
    "Look familiar?  Good.  Let's break it down.\n",
    "\n",
    "First, we use `filter()`, which does just what you expect it to do.  It lets some things through, but not others.  In this case we use `lambda`, or an \"anonymous function\", to remove the header from the stream.\n",
    "\n",
    "`take()` lets us extract values from the RDD - remember that the RDD is just a logical construct until we materialize some sort of result."
   ]
  },
  {
   "cell_type": "code",
   "execution_count": 18,
   "metadata": {},
   "outputs": [
    {
     "data": {
      "text/plain": [
       "['\"Duration\",\"Start date\",\"End date\",\"Start station number\",\"Start station\",\"End station number\",\"End station\",\"Bike number\",\"Member type\"',\n",
       " '\"221\",\"2017-01-01 00:00:41\",\"2017-01-01 00:04:23\",\"31634\",\"3rd & Tingey St SE\",\"31208\",\"M St & New Jersey Ave SE\",\"W00869\",\"Member\"',\n",
       " '\"1676\",\"2017-01-01 00:06:53\",\"2017-01-01 00:34:49\",\"31258\",\"Lincoln Memorial\",\"31270\",\"8th & D St NW\",\"W00894\",\"Casual\"',\n",
       " '\"1356\",\"2017-01-01 00:07:10\",\"2017-01-01 00:29:47\",\"31289\",\"Henry Bacon Dr & Lincoln Memorial Circle NW\",\"31222\",\"New York Ave & 15th St NW\",\"W21945\",\"Casual\"',\n",
       " '\"1327\",\"2017-01-01 00:07:22\",\"2017-01-01 00:29:30\",\"31289\",\"Henry Bacon Dr & Lincoln Memorial Circle NW\",\"31222\",\"New York Ave & 15th St NW\",\"W20012\",\"Casual\"']"
      ]
     },
     "execution_count": 18,
     "metadata": {},
     "output_type": "execute_result"
    }
   ],
   "source": [
    "rides.take(5)"
   ]
  },
  {
   "cell_type": "markdown",
   "metadata": {},
   "source": [
    "Now the same thing with the header filtered out:"
   ]
  },
  {
   "cell_type": "code",
   "execution_count": 19,
   "metadata": {},
   "outputs": [
    {
     "data": {
      "text/plain": [
       "['\"221\",\"2017-01-01 00:00:41\",\"2017-01-01 00:04:23\",\"31634\",\"3rd & Tingey St SE\",\"31208\",\"M St & New Jersey Ave SE\",\"W00869\",\"Member\"',\n",
       " '\"1676\",\"2017-01-01 00:06:53\",\"2017-01-01 00:34:49\",\"31258\",\"Lincoln Memorial\",\"31270\",\"8th & D St NW\",\"W00894\",\"Casual\"',\n",
       " '\"1356\",\"2017-01-01 00:07:10\",\"2017-01-01 00:29:47\",\"31289\",\"Henry Bacon Dr & Lincoln Memorial Circle NW\",\"31222\",\"New York Ave & 15th St NW\",\"W21945\",\"Casual\"',\n",
       " '\"1327\",\"2017-01-01 00:07:22\",\"2017-01-01 00:29:30\",\"31289\",\"Henry Bacon Dr & Lincoln Memorial Circle NW\",\"31222\",\"New York Ave & 15th St NW\",\"W20012\",\"Casual\"',\n",
       " '\"1636\",\"2017-01-01 00:07:36\",\"2017-01-01 00:34:52\",\"31258\",\"Lincoln Memorial\",\"31270\",\"8th & D St NW\",\"W22786\",\"Casual\"']"
      ]
     },
     "execution_count": 19,
     "metadata": {},
     "output_type": "execute_result"
    }
   ],
   "source": [
    "rides.filter(lambda row: row!= header) \\\n",
    "    .take(5)"
   ]
  },
  {
   "cell_type": "markdown",
   "metadata": {},
   "source": [
    "See the difference?  Great.  We're only filtering out the header line.\n",
    "\n",
    "But now all we have is a list of strings, which isn't very useful if we want to operate on the data.  Next, then, we'll remove `\"` marks and split the CSV data up by commas using `map`, which applies a function to every row in the RDD.  We'll define a lambda function right inline again, as it's easy, although you could just as easily use a regular named Python function for this."
   ]
  },
  {
   "cell_type": "code",
   "execution_count": 20,
   "metadata": {},
   "outputs": [
    {
     "data": {
      "text/plain": [
       "[['221',\n",
       "  '2017-01-01 00:00:41',\n",
       "  '2017-01-01 00:04:23',\n",
       "  '31634',\n",
       "  '3rd & Tingey St SE',\n",
       "  '31208',\n",
       "  'M St & New Jersey Ave SE',\n",
       "  'W00869',\n",
       "  'Member'],\n",
       " ['1676',\n",
       "  '2017-01-01 00:06:53',\n",
       "  '2017-01-01 00:34:49',\n",
       "  '31258',\n",
       "  'Lincoln Memorial',\n",
       "  '31270',\n",
       "  '8th & D St NW',\n",
       "  'W00894',\n",
       "  'Casual'],\n",
       " ['1356',\n",
       "  '2017-01-01 00:07:10',\n",
       "  '2017-01-01 00:29:47',\n",
       "  '31289',\n",
       "  'Henry Bacon Dr & Lincoln Memorial Circle NW',\n",
       "  '31222',\n",
       "  'New York Ave & 15th St NW',\n",
       "  'W21945',\n",
       "  'Casual'],\n",
       " ['1327',\n",
       "  '2017-01-01 00:07:22',\n",
       "  '2017-01-01 00:29:30',\n",
       "  '31289',\n",
       "  'Henry Bacon Dr & Lincoln Memorial Circle NW',\n",
       "  '31222',\n",
       "  'New York Ave & 15th St NW',\n",
       "  'W20012',\n",
       "  'Casual'],\n",
       " ['1636',\n",
       "  '2017-01-01 00:07:36',\n",
       "  '2017-01-01 00:34:52',\n",
       "  '31258',\n",
       "  'Lincoln Memorial',\n",
       "  '31270',\n",
       "  '8th & D St NW',\n",
       "  'W22786',\n",
       "  'Casual']]"
      ]
     },
     "execution_count": 20,
     "metadata": {},
     "output_type": "execute_result"
    }
   ],
   "source": [
    "rides.filter(lambda row: row != header) \\\n",
    "    .map(lambda row: row.replace('\"', '')) \\\n",
    "    .map(lambda row: row.split(\",\")) \\\n",
    "    .take(5)"
   ]
  },
  {
   "cell_type": "markdown",
   "metadata": {},
   "source": [
    "Here's how we'd define and use a named Python function to accomplish the CSV splitting steps."
   ]
  },
  {
   "cell_type": "code",
   "execution_count": 21,
   "metadata": {},
   "outputs": [],
   "source": [
    "def split_line(line, sep=','):\n",
    "    return line.replace('\"', '').split(sep)"
   ]
  },
  {
   "cell_type": "code",
   "execution_count": 22,
   "metadata": {},
   "outputs": [
    {
     "data": {
      "text/plain": [
       "[['221',\n",
       "  '2017-01-01 00:00:41',\n",
       "  '2017-01-01 00:04:23',\n",
       "  '31634',\n",
       "  '3rd & Tingey St SE',\n",
       "  '31208',\n",
       "  'M St & New Jersey Ave SE',\n",
       "  'W00869',\n",
       "  'Member'],\n",
       " ['1676',\n",
       "  '2017-01-01 00:06:53',\n",
       "  '2017-01-01 00:34:49',\n",
       "  '31258',\n",
       "  'Lincoln Memorial',\n",
       "  '31270',\n",
       "  '8th & D St NW',\n",
       "  'W00894',\n",
       "  'Casual'],\n",
       " ['1356',\n",
       "  '2017-01-01 00:07:10',\n",
       "  '2017-01-01 00:29:47',\n",
       "  '31289',\n",
       "  'Henry Bacon Dr & Lincoln Memorial Circle NW',\n",
       "  '31222',\n",
       "  'New York Ave & 15th St NW',\n",
       "  'W21945',\n",
       "  'Casual'],\n",
       " ['1327',\n",
       "  '2017-01-01 00:07:22',\n",
       "  '2017-01-01 00:29:30',\n",
       "  '31289',\n",
       "  'Henry Bacon Dr & Lincoln Memorial Circle NW',\n",
       "  '31222',\n",
       "  'New York Ave & 15th St NW',\n",
       "  'W20012',\n",
       "  'Casual'],\n",
       " ['1636',\n",
       "  '2017-01-01 00:07:36',\n",
       "  '2017-01-01 00:34:52',\n",
       "  '31258',\n",
       "  'Lincoln Memorial',\n",
       "  '31270',\n",
       "  '8th & D St NW',\n",
       "  'W22786',\n",
       "  'Casual']]"
      ]
     },
     "execution_count": 22,
     "metadata": {},
     "output_type": "execute_result"
    }
   ],
   "source": [
    "rides.filter(lambda row: row != header) \\\n",
    "    .map(split_line) \\\n",
    "    .take(5)"
   ]
  },
  {
   "cell_type": "markdown",
   "metadata": {},
   "source": [
    "See how the two functions are equivalent?  The `map()` function will pass the data as the first parameter to the `split_lines()` function we defined.\n",
    "\n",
    "I think `lambda` reads a little cleaner for simpler operations, so we'll continue with them for now.\n",
    "\n",
    "Okay!  Now we're cooking.  Next, let's pull out the departure stations.  Which column was it again?"
   ]
  },
  {
   "cell_type": "code",
   "execution_count": 23,
   "metadata": {},
   "outputs": [
    {
     "data": {
      "text/plain": [
       "'\"Duration\",\"Start date\",\"End date\",\"Start station number\",\"Start station\",\"End station number\",\"End station\",\"Bike number\",\"Member type\"'"
      ]
     },
     "execution_count": 23,
     "metadata": {},
     "output_type": "execute_result"
    }
   ],
   "source": [
    "header"
   ]
  },
  {
   "cell_type": "markdown",
   "metadata": {},
   "source": [
    "With Python's zero-based indexing, the \"Start station\" column is number 4."
   ]
  },
  {
   "cell_type": "code",
   "execution_count": 24,
   "metadata": {},
   "outputs": [
    {
     "data": {
      "text/plain": [
       "['3rd & Tingey St SE',\n",
       " 'Lincoln Memorial',\n",
       " 'Henry Bacon Dr & Lincoln Memorial Circle NW',\n",
       " 'Henry Bacon Dr & Lincoln Memorial Circle NW',\n",
       " 'Lincoln Memorial']"
      ]
     },
     "execution_count": 24,
     "metadata": {},
     "output_type": "execute_result"
    }
   ],
   "source": [
    "rides.filter(lambda row: row != header) \\\n",
    "    .map(lambda row: row.replace('\"', '')) \\\n",
    "    .map(lambda row: row.split(\",\")) \\\n",
    "    .map(lambda cols: cols[4]) \\\n",
    "    .take(5)"
   ]
  },
  {
   "cell_type": "markdown",
   "metadata": {},
   "source": [
    "That works - but we want to count them, so we'll need a numeric value to count.  Thus the tuple with \"`, 1`\"."
   ]
  },
  {
   "cell_type": "code",
   "execution_count": 25,
   "metadata": {},
   "outputs": [
    {
     "data": {
      "text/plain": [
       "[('3rd & Tingey St SE', 1),\n",
       " ('Lincoln Memorial', 1),\n",
       " ('Henry Bacon Dr & Lincoln Memorial Circle NW', 1),\n",
       " ('Henry Bacon Dr & Lincoln Memorial Circle NW', 1),\n",
       " ('Lincoln Memorial', 1)]"
      ]
     },
     "execution_count": 25,
     "metadata": {},
     "output_type": "execute_result"
    }
   ],
   "source": [
    "rides.filter(lambda row: row != header) \\\n",
    "    .map(lambda row: row.replace('\"', '')) \\\n",
    "    .map(lambda row: row.split(\",\")) \\\n",
    "    .map(lambda cols: (cols[4], 1)) \\\n",
    "    .take(5)"
   ]
  },
  {
   "cell_type": "markdown",
   "metadata": {},
   "source": [
    "This structure sets us up neatly for another Spark function, `reduceByKey()`.  This is an addition from Spark, whereas `map()`, `filter()`, and `lambda` are all standard Python."
   ]
  },
  {
   "cell_type": "code",
   "execution_count": 26,
   "metadata": {},
   "outputs": [
    {
     "name": "stderr",
     "output_type": "stream",
     "text": [
      "                                                                                \r"
     ]
    },
    {
     "data": {
      "text/plain": [
       "[('17th & G St NW', 23503),\n",
       " ('14th & L St NW', 14254),\n",
       " ('7th & T St NW', 23609),\n",
       " ('11th & F St NW', 11190),\n",
       " ('20th & O St NW / Dupont South', 18780)]"
      ]
     },
     "execution_count": 26,
     "metadata": {},
     "output_type": "execute_result"
    }
   ],
   "source": [
    "rides.filter(lambda row: row != header) \\\n",
    "    .map(lambda row: row.replace('\"', '')) \\\n",
    "    .map(lambda row: row.split(\",\")) \\\n",
    "    .map(lambda cols: (cols[4], 1)) \\\n",
    "    .reduceByKey(add) \\\n",
    "    .take(5)"
   ]
  },
  {
   "cell_type": "markdown",
   "metadata": {},
   "source": [
    "Did you notice that that took a little longer? \n",
    "\n",
    "Can you guess why?\n",
    "\n",
    "Okay, so, this looks pretty good.  But there's one issue with the data, do you see it?"
   ]
  },
  {
   "cell_type": "code",
   "execution_count": 63,
   "metadata": {},
   "outputs": [
    {
     "name": "stderr",
     "output_type": "stream",
     "text": [
      "                                                                                \r"
     ]
    },
    {
     "data": {
      "text/plain": [
       "[('Columbus Circle / Union Station', 70062),\n",
       " ('Lincoln Memorial', 65884),\n",
       " ('Jefferson Dr & 14th St SW', 59259),\n",
       " ('Massachusetts Ave & Dupont Circle NW', 46702),\n",
       " ('15th & P St NW', 43305),\n",
       " ('Jefferson Memorial', 42525),\n",
       " ('Smithsonian-National Mall / Jefferson Dr & 12th St SW', 42406),\n",
       " ('Henry Bacon Dr & Lincoln Memorial Circle NW', 40659),\n",
       " ('4th St & Madison Dr NW', 37751),\n",
       " ('14th & V St NW', 33159)]"
      ]
     },
     "execution_count": 63,
     "metadata": {},
     "output_type": "execute_result"
    }
   ],
   "source": [
    "top10 = rides.filter(lambda row: row != header) \\\n",
    "    .map(lambda row: row.replace('\"', '')) \\\n",
    "    .map(lambda row: row.split(\",\")) \\\n",
    "    .map(lambda cols: (cols[4], 1)) \\\n",
    "    .reduceByKey(add) \\\n",
    "    .takeOrdered(10, key=lambda pair: -pair[1])\n",
    "top10"
   ]
  },
  {
   "cell_type": "markdown",
   "metadata": {},
   "source": [
    "Note that `top10` is now a Python list, not an RDD.  When we `take` or `takeOrdered` (or `collect` or others) we act on the RDD using the logic we've built up and end up with regular Python data structures.  Until then, we still just have an RDD with more operations."
   ]
  },
  {
   "cell_type": "code",
   "execution_count": 64,
   "metadata": {},
   "outputs": [
    {
     "data": {
      "text/plain": [
       "pyspark.rdd.PipelinedRDD"
      ]
     },
     "execution_count": 64,
     "metadata": {},
     "output_type": "execute_result"
    }
   ],
   "source": [
    "rdd_top10 = rides.filter(lambda row: row != header) \\\n",
    "    .map(lambda row: row.replace('\"', '')) \\\n",
    "    .map(lambda row: row.split(\",\")) \\\n",
    "    .map(lambda cols: (cols[4], 1)) \\\n",
    "    .reduceByKey(add)\n",
    "type(rdd_top10)"
   ]
  },
  {
   "cell_type": "code",
   "execution_count": 65,
   "metadata": {},
   "outputs": [
    {
     "name": "stderr",
     "output_type": "stream",
     "text": [
      "                                                                                \r"
     ]
    },
    {
     "data": {
      "text/plain": [
       "[('Columbus Circle / Union Station', 70062),\n",
       " ('Lincoln Memorial', 65884),\n",
       " ('Jefferson Dr & 14th St SW', 59259),\n",
       " ('Massachusetts Ave & Dupont Circle NW', 46702),\n",
       " ('15th & P St NW', 43305)]"
      ]
     },
     "execution_count": 65,
     "metadata": {},
     "output_type": "execute_result"
    }
   ],
   "source": [
    "rdd_top10.takeOrdered(5, key=lambda r: -r[1])"
   ]
  },
  {
   "cell_type": "code",
   "execution_count": 66,
   "metadata": {},
   "outputs": [
    {
     "name": "stderr",
     "output_type": "stream",
     "text": [
      "                                                                                \r"
     ]
    },
    {
     "data": {
      "text/plain": [
       "[('Columbus Circle / Union Station', 70062),\n",
       " ('Lincoln Memorial', 65884),\n",
       " ('Jefferson Dr & 14th St SW', 59259),\n",
       " ('Massachusetts Ave & Dupont Circle NW', 46702),\n",
       " ('15th & P St NW', 43305),\n",
       " ('Jefferson Memorial', 42525),\n",
       " ('Smithsonian-National Mall / Jefferson Dr & 12th St SW', 42406),\n",
       " ('Henry Bacon Dr & Lincoln Memorial Circle NW', 40659),\n",
       " ('4th St & Madison Dr NW', 37751),\n",
       " ('14th & V St NW', 33159)]"
      ]
     },
     "execution_count": 66,
     "metadata": {},
     "output_type": "execute_result"
    }
   ],
   "source": [
    "rdd_top10.takeOrdered(10, key=lambda r: -r[1])"
   ]
  },
  {
   "cell_type": "markdown",
   "metadata": {},
   "source": [
    "## Computing basic statistics\n",
    "\n",
    "Let's go a step further.  `csvstat` and `xsv stats` / `xsv frequency` are so useful, you'd expect there to be something similar for Spark, right?  Of course there is.\n",
    "\n",
    "First let's create an RDD of just the parsed data."
   ]
  },
  {
   "cell_type": "code",
   "execution_count": 67,
   "metadata": {},
   "outputs": [],
   "source": [
    "ride_data = rides.filter(lambda row: row != header) \\\n",
    "    .map(lambda row: row.replace('\"', '')) \\\n",
    "    .map(lambda row: row.split(\",\"))"
   ]
  },
  {
   "cell_type": "code",
   "execution_count": 68,
   "metadata": {},
   "outputs": [
    {
     "data": {
      "text/plain": [
       "PythonRDD[37] at RDD at PythonRDD.scala:53"
      ]
     },
     "execution_count": 68,
     "metadata": {},
     "output_type": "execute_result"
    }
   ],
   "source": [
    "ride_data"
   ]
  },
  {
   "cell_type": "markdown",
   "metadata": {},
   "source": [
    "Now let's extract the ride durations in minutes.  Does this feel familiar, like something you've done in SQL?"
   ]
  },
  {
   "cell_type": "code",
   "execution_count": 69,
   "metadata": {},
   "outputs": [],
   "source": [
    "ride_minutes = ride_data.map(lambda cols: int(cols[0]) / 60)"
   ]
  },
  {
   "cell_type": "code",
   "execution_count": 70,
   "metadata": {},
   "outputs": [
    {
     "data": {
      "text/plain": [
       "[3.683333333333333,\n",
       " 27.933333333333334,\n",
       " 22.6,\n",
       " 22.116666666666667,\n",
       " 27.266666666666666]"
      ]
     },
     "execution_count": 70,
     "metadata": {},
     "output_type": "execute_result"
    }
   ],
   "source": [
    "ride_minutes.take(5)"
   ]
  },
  {
   "cell_type": "code",
   "execution_count": 71,
   "metadata": {},
   "outputs": [
    {
     "name": "stderr",
     "output_type": "stream",
     "text": [
      "                                                                                \r"
     ]
    },
    {
     "data": {
      "text/plain": [
       "1439.9"
      ]
     },
     "execution_count": 71,
     "metadata": {},
     "output_type": "execute_result"
    }
   ],
   "source": [
    "ride_minutes.max()"
   ]
  },
  {
   "cell_type": "code",
   "execution_count": 72,
   "metadata": {},
   "outputs": [
    {
     "name": "stderr",
     "output_type": "stream",
     "text": [
      "                                                                                \r"
     ]
    },
    {
     "data": {
      "text/plain": [
       "1.0"
      ]
     },
     "execution_count": 72,
     "metadata": {},
     "output_type": "execute_result"
    }
   ],
   "source": [
    "ride_minutes.min()"
   ]
  },
  {
   "cell_type": "markdown",
   "metadata": {},
   "source": [
    "Spark's [MLlib](https://spark.apache.org/mllib/) is the foundation for a lot of machine learning functionality.  A simple module inside it computes basic statistics.  It has a very creative name."
   ]
  },
  {
   "cell_type": "code",
   "execution_count": 73,
   "metadata": {},
   "outputs": [],
   "source": [
    "from pyspark.mllib.stat import Statistics"
   ]
  },
  {
   "cell_type": "markdown",
   "metadata": {},
   "source": [
    "To use this module, we need to convert our data values into numpy arrays, which is just an easy `map()` call."
   ]
  },
  {
   "cell_type": "code",
   "execution_count": 74,
   "metadata": {},
   "outputs": [],
   "source": [
    "import numpy as np"
   ]
  },
  {
   "cell_type": "code",
   "execution_count": 75,
   "metadata": {},
   "outputs": [
    {
     "name": "stderr",
     "output_type": "stream",
     "text": [
      "                                                                                \r"
     ]
    }
   ],
   "source": [
    "ride_minutes_stats = Statistics.colStats(ride_minutes.map(lambda r: np.array(r)))"
   ]
  },
  {
   "cell_type": "code",
   "execution_count": 76,
   "metadata": {},
   "outputs": [
    {
     "data": {
      "text/plain": [
       "array([19.22278486])"
      ]
     },
     "execution_count": 76,
     "metadata": {},
     "output_type": "execute_result"
    }
   ],
   "source": [
    "ride_minutes_stats.mean()"
   ]
  },
  {
   "cell_type": "code",
   "execution_count": 77,
   "metadata": {},
   "outputs": [
    {
     "data": {
      "text/plain": [
       "array([1.])"
      ]
     },
     "execution_count": 77,
     "metadata": {},
     "output_type": "execute_result"
    }
   ],
   "source": [
    "ride_minutes_stats.min()"
   ]
  },
  {
   "cell_type": "code",
   "execution_count": 78,
   "metadata": {},
   "outputs": [
    {
     "data": {
      "text/plain": [
       "array([1439.9])"
      ]
     },
     "execution_count": 78,
     "metadata": {},
     "output_type": "execute_result"
    }
   ],
   "source": [
    "ride_minutes_stats.max()"
   ]
  },
  {
   "cell_type": "code",
   "execution_count": 79,
   "metadata": {},
   "outputs": [
    {
     "name": "stdout",
     "output_type": "stream",
     "text": [
      "53.6 µs ± 2.89 µs per loop (mean ± std. dev. of 7 runs, 10000 loops each)\n"
     ]
    }
   ],
   "source": [
    "%timeit ride_minutes_stats.count()"
   ]
  },
  {
   "cell_type": "code",
   "execution_count": 80,
   "metadata": {},
   "outputs": [
    {
     "data": {
      "text/plain": [
       "array([1249.94277403])"
      ]
     },
     "execution_count": 80,
     "metadata": {},
     "output_type": "execute_result"
    }
   ],
   "source": [
    "ride_minutes_stats.variance()"
   ]
  },
  {
   "cell_type": "markdown",
   "metadata": {},
   "source": [
    "## The DataFrame API\n",
    "\n",
    "Let's start with the DataFrame API.  It's for array-oriented operations, just like you might already be used to with R or Python's Pandas module.\n",
    "\n",
    "Note that you can find some introductory docs for this and the SQL API on the [Apache Spark docs page](https://spark.apache.org/docs/latest/sql-programming-guide.html).\n",
    "\n",
    "The first step is that we load data a little differently.  We'll step away from the bikes this week and look at something else:  social media data from Twitter.\n",
    "\n",
    "Note that the data in these examples, and more data you can obtain for yourself, came from the GWU Libraries' [Social Feed Manager](https://sfm.library.gwu.edu/) app.  You can log in and use it yourself, though note that access is restricted to campus or VPN connections.\n",
    "\n",
    "First we obtain a `SQLContext` from our existing `SparkContext`."
   ]
  },
  {
   "cell_type": "code",
   "execution_count": 12,
   "metadata": {},
   "outputs": [],
   "source": [
    "from pyspark import SQLContext"
   ]
  },
  {
   "cell_type": "code",
   "execution_count": 13,
   "metadata": {},
   "outputs": [],
   "source": [
    "sqlc = SQLContext(spark)"
   ]
  },
  {
   "cell_type": "code",
   "execution_count": 14,
   "metadata": {},
   "outputs": [
    {
     "data": {
      "text/plain": [
       "<pyspark.sql.context.SQLContext at 0x7f6a37c3e370>"
      ]
     },
     "execution_count": 14,
     "metadata": {},
     "output_type": "execute_result"
    }
   ],
   "source": [
    "sqlc"
   ]
  },
  {
   "cell_type": "code",
   "execution_count": 42,
   "metadata": {},
   "outputs": [
    {
     "name": "stdout",
     "output_type": "stream",
     "text": [
      "--2021-11-06 20:17:21--  https://s3.amazonaws.com/2018-dmfa/week-9/solar-eclipse-tweets.csv\n",
      "Resolving s3.amazonaws.com (s3.amazonaws.com)... 52.217.164.176\n",
      "Connecting to s3.amazonaws.com (s3.amazonaws.com)|52.217.164.176|:443... connected.\n",
      "HTTP request sent, awaiting response... 200 OK\n",
      "Length: 90896142 (87M) [text/csv]\n",
      "Saving to: ‘solar-eclipse-tweets.csv.1’\n",
      "\n",
      "solar-eclipse-tweet 100%[===================>]  86.68M  80.2MB/s    in 1.1s    \n",
      "\n",
      "2021-11-06 20:17:23 (80.2 MB/s) - ‘solar-eclipse-tweets.csv.1’ saved [90896142/90896142]\n",
      "\n"
     ]
    }
   ],
   "source": [
    "!wget https://s3.amazonaws.com/2018-dmfa/week-9/solar-eclipse-tweets.csv"
   ]
  },
  {
   "cell_type": "code",
   "execution_count": 43,
   "metadata": {},
   "outputs": [],
   "source": [
    "!mv solar-eclipse-tweets.csv tweets.csv"
   ]
  },
  {
   "cell_type": "code",
   "execution_count": 44,
   "metadata": {},
   "outputs": [
    {
     "name": "stdout",
     "output_type": "stream",
     "text": [
      "250193 tweets.csv\n"
     ]
    }
   ],
   "source": [
    "!wc -l tweets.csv"
   ]
  },
  {
   "cell_type": "code",
   "execution_count": 45,
   "metadata": {},
   "outputs": [
    {
     "name": "stdout",
     "output_type": "stream",
     "text": [
      "  1: created_at\n",
      "  2: twitter_id\n",
      "  3: screen_name\n",
      "  4: location\n",
      "  5: followers_count\n",
      "  6: friends_count\n",
      "  7: hashtags\n",
      "  8: mentions\n",
      "  9: in_reply_to_screen_name\n",
      " 10: twitter_url\n",
      " 11: text\n",
      " 12: is_retweet\n",
      " 13: is_quote\n",
      " 14: coordinates\n",
      " 15: url1\n",
      " 16: url1_expanded\n",
      " 17: url2\n",
      " 18: url2_expanded\n",
      " 19: media_url\n"
     ]
    }
   ],
   "source": [
    "!head tweets.csv | csvcut -n"
   ]
  },
  {
   "cell_type": "code",
   "execution_count": 46,
   "metadata": {},
   "outputs": [
    {
     "name": "stdout",
     "output_type": "stream",
     "text": [
      "| created_at                |              twitter_id | screen_name   | location          | followers_count | friends_count | hashtags         | mentions    | in_reply_to_screen_name | twitter_url                                                | text                                                                                                                                  | is_retweet | is_quote | coordinates | url1                    | url1_expanded                                                 | url2 | url2_expanded | media_url                                                                              |\n",
      "| ------------------------- | ----------------------- | ------------- | ----------------- | --------------- | ------------- | ---------------- | ----------- | ----------------------- | ---------------------------------------------------------- | ------------------------------------------------------------------------------------------------------------------------------------- | ---------- | -------- | ----------- | ----------------------- | ------------------------------------------------------------- | ---- | ------------- | -------------------------------------------------------------------------------------- |\n",
      "| 2017-08-23 13:21:58+00:00 | 900,347,382,352,592,896 | JoCromer      | \"Front Royal, VA\" |               7 |            77 |                  | EpicClips   |                         | http://twitter.com/JoCromer/status/900347382352592896      | RT @EpicClips: The best Solar eclipse video ever! https://t.co/5bhOu9frFZ                                                             |       True |    False |             |                         |                                                               |      |               | http://pbs.twimg.com/ext_tw_video_thumb/900116770417254400/pu/img/UYGROLaSMlUEhZXv.jpg |\n",
      "| 2017-08-23 13:21:58+00:00 | 900,347,383,447,289,856 | tony_bartoli  | Commiefornia      |             243 |            91 | SolarEclipse2017 | Kcarter915  |                         | http://twitter.com/tony_bartoli/status/900347383447289856  | RT @Kcarter915: #SolarEclipse2017 friend just sent me this from Oregon how sick... https://t.co/NCe1JOx1VN                            |       True |    False |             |                         |                                                               |      |               | http://pbs.twimg.com/ext_tw_video_thumb/899684391621976064/pu/img/_cW9t9D7im_k5FKG.jpg |\n",
      "| 2017-08-23 13:21:58+00:00 | 900,347,383,891,898,368 | jimboswellart | United Kingdom    |             162 |            95 |                  | joshzepps   |                         | http://twitter.com/jimboswellart/status/900347383891898368 | \"RT @joshzepps: Phew, I was afraid we might fail to make everything about identity politics for just one day https://t.co/qNfOAVlMNv\" |       True |     True |             | https://t.co/qNfOAVlMNv | https://twitter.com/blacknewsoutlet/status/899715902815428608 |      |               |                                                                                        |\n",
      "| 2017-08-23 13:21:58+00:00 | 900,347,383,929,868,292 | madcot1       | \"Apex, NC\"        |             496 |           452 |                  | Braziliannh |                         | http://twitter.com/madcot1/status/900347383929868292       | RT @Braziliannh: THIS IS WHAT I WANTED TO EXPERIENCE https://t.co/hBBv1mh8k4                                                          |       True |     True |             | https://t.co/hBBv1mh8k4 | https://twitter.com/astroidvideos/status/899710195848425473   |      |               |                                                                                        |\n"
     ]
    }
   ],
   "source": [
    "!head -5 tweets.csv | csvlook"
   ]
  },
  {
   "cell_type": "markdown",
   "metadata": {},
   "source": [
    "The `read.csv()` function on `SQLContext` is very handy.  Take a close look at the parameters."
   ]
  },
  {
   "cell_type": "code",
   "execution_count": 15,
   "metadata": {},
   "outputs": [
    {
     "name": "stderr",
     "output_type": "stream",
     "text": [
      "                                                                                \r"
     ]
    }
   ],
   "source": [
    "tweets = sqlc.read.csv(\"tweets.csv\", header=True, inferSchema=True)"
   ]
  },
  {
   "cell_type": "code",
   "execution_count": 90,
   "metadata": {},
   "outputs": [
    {
     "name": "stderr",
     "output_type": "stream",
     "text": [
      "                                                                                \r"
     ]
    },
    {
     "data": {
      "text/plain": [
       "250224"
      ]
     },
     "execution_count": 90,
     "metadata": {},
     "output_type": "execute_result"
    }
   ],
   "source": [
    "tweets.count()"
   ]
  },
  {
   "cell_type": "code",
   "execution_count": 91,
   "metadata": {},
   "outputs": [
    {
     "data": {
      "text/plain": [
       "[Row(created_at='2017-08-23 13:21:58+00:00', twitter_id='900347382352592896', screen_name='JoCromer', location='\"\"\"Front Royal', followers_count=' VA\"\"\"', friends_count='7', hashtags='77', mentions=None, in_reply_to_screen_name='EpicClips', twitter_url=None, text='http://twitter.com/JoCromer/status/900347382352592896', is_retweet='RT @EpicClips: The best Solar eclipse video ever! https://t.co/5bhOu9frFZ', is_quote='Yes', coordinates='No', url1=None, url1_expanded=None, url2=None, url2_expanded=None, media_url=None),\n",
       " Row(created_at='2017-08-23 13:21:58+00:00', twitter_id='900347383447289856', screen_name='tony_bartoli', location='Commiefornia', followers_count='243', friends_count='91', hashtags='SolarEclipse2017', mentions='Kcarter915', in_reply_to_screen_name=None, twitter_url='http://twitter.com/tony_bartoli/status/900347383447289856', text='RT @Kcarter915: #SolarEclipse2017 friend just sent me this from Oregon how sick... https://t.co/NCe1JOx1VN', is_retweet='Yes', is_quote='No', coordinates=None, url1=None, url1_expanded=None, url2=None, url2_expanded=None, media_url='http://pbs.twimg.com/ext_tw_video_thumb/899684391621976064/pu/img/_cW9t9D7im_k5FKG.jpg'),\n",
       " Row(created_at='2017-08-23 13:21:58+00:00', twitter_id='900347383891898368', screen_name='jimboswellart', location='United Kingdom', followers_count='162', friends_count='95', hashtags=None, mentions='joshzepps', in_reply_to_screen_name=None, twitter_url='http://twitter.com/jimboswellart/status/900347383891898368', text='\"\"\"RT @joshzepps: Phew', is_retweet=' I was afraid we might fail to make everything about identity politics for just one day https://t.co/qNfOAVlMNv\"\"\"', is_quote='Yes', coordinates='Yes', url1=None, url1_expanded='https://t.co/qNfOAVlMNv', url2='https://twitter.com/blacknewsoutlet/status/899715902815428608', url2_expanded=None, media_url=None),\n",
       " Row(created_at='2017-08-23 13:21:58+00:00', twitter_id='900347383929868292', screen_name='madcot1', location='\"\"\"Apex', followers_count=' NC\"\"\"', friends_count='496', hashtags='452', mentions=None, in_reply_to_screen_name='Braziliannh', twitter_url=None, text='http://twitter.com/madcot1/status/900347383929868292', is_retweet='RT @Braziliannh: THIS IS WHAT I WANTED TO EXPERIENCE https://t.co/hBBv1mh8k4', is_quote='Yes', coordinates='Yes', url1=None, url1_expanded='https://t.co/hBBv1mh8k4', url2='https://twitter.com/astroidvideos/status/899710195848425473', url2_expanded=None, media_url=None),\n",
       " Row(created_at='2017-08-23 13:21:58+00:00', twitter_id='900347384617684992', screen_name='mishka1599', location='\"\"\"Port St Lucie', followers_count=' FL\"\"\"', friends_count='430', hashtags='1287', mentions=None, in_reply_to_screen_name=None, twitter_url=None, text='http://twitter.com/mishka1599/status/900347384617684992', is_retweet='Speechless https://t.co/w6FBfCWtUU', is_quote='No', coordinates='Yes', url1=None, url1_expanded='https://t.co/w6FBfCWtUU', url2='https://twitter.com/vanessaneumann/status/900073650971455488', url2_expanded=None, media_url=None)]"
      ]
     },
     "execution_count": 91,
     "metadata": {},
     "output_type": "execute_result"
    }
   ],
   "source": [
    "tweets.take(5)"
   ]
  },
  {
   "cell_type": "markdown",
   "metadata": {},
   "source": [
    "Looks like what we've seen before, yes?  Except that these are `Rows`, not an RDD.\n",
    "\n",
    "They **do** have an RDD under the hood, though."
   ]
  },
  {
   "cell_type": "code",
   "execution_count": 92,
   "metadata": {},
   "outputs": [
    {
     "data": {
      "text/plain": [
       "MapPartitionsRDD[71] at javaToPython at NativeMethodAccessorImpl.java:0"
      ]
     },
     "execution_count": 92,
     "metadata": {},
     "output_type": "execute_result"
    }
   ],
   "source": [
    "tweets.rdd"
   ]
  },
  {
   "cell_type": "code",
   "execution_count": 93,
   "metadata": {},
   "outputs": [
    {
     "name": "stderr",
     "output_type": "stream",
     "text": [
      "                                                                                \r"
     ]
    },
    {
     "data": {
      "text/plain": [
       "250224"
      ]
     },
     "execution_count": 93,
     "metadata": {},
     "output_type": "execute_result"
    }
   ],
   "source": [
    "tweets.rdd.count()"
   ]
  },
  {
   "cell_type": "markdown",
   "metadata": {},
   "source": [
    "You can do a little more with a `DataFrame` than you can with an `RDD`:"
   ]
  },
  {
   "cell_type": "code",
   "execution_count": 94,
   "metadata": {},
   "outputs": [
    {
     "data": {
      "text/plain": [
       "['created_at',\n",
       " 'twitter_id',\n",
       " 'screen_name',\n",
       " 'location',\n",
       " 'followers_count',\n",
       " 'friends_count',\n",
       " 'hashtags',\n",
       " 'mentions',\n",
       " 'in_reply_to_screen_name',\n",
       " 'twitter_url',\n",
       " 'text',\n",
       " 'is_retweet',\n",
       " 'is_quote',\n",
       " 'coordinates',\n",
       " 'url1',\n",
       " 'url1_expanded',\n",
       " 'url2',\n",
       " 'url2_expanded',\n",
       " 'media_url']"
      ]
     },
     "execution_count": 94,
     "metadata": {},
     "output_type": "execute_result"
    }
   ],
   "source": [
    "tweets.columns"
   ]
  },
  {
   "cell_type": "markdown",
   "metadata": {},
   "source": [
    "This is all well and good, but how well did schema inference work?"
   ]
  },
  {
   "cell_type": "code",
   "execution_count": 95,
   "metadata": {},
   "outputs": [
    {
     "name": "stdout",
     "output_type": "stream",
     "text": [
      "root\n",
      " |-- created_at: string (nullable = true)\n",
      " |-- twitter_id: string (nullable = true)\n",
      " |-- screen_name: string (nullable = true)\n",
      " |-- location: string (nullable = true)\n",
      " |-- followers_count: string (nullable = true)\n",
      " |-- friends_count: string (nullable = true)\n",
      " |-- hashtags: string (nullable = true)\n",
      " |-- mentions: string (nullable = true)\n",
      " |-- in_reply_to_screen_name: string (nullable = true)\n",
      " |-- twitter_url: string (nullable = true)\n",
      " |-- text: string (nullable = true)\n",
      " |-- is_retweet: string (nullable = true)\n",
      " |-- is_quote: string (nullable = true)\n",
      " |-- coordinates: string (nullable = true)\n",
      " |-- url1: string (nullable = true)\n",
      " |-- url1_expanded: string (nullable = true)\n",
      " |-- url2: string (nullable = true)\n",
      " |-- url2_expanded: string (nullable = true)\n",
      " |-- media_url: string (nullable = true)\n",
      "\n"
     ]
    }
   ],
   "source": [
    "tweets.printSchema()"
   ]
  },
  {
   "cell_type": "markdown",
   "metadata": {},
   "source": [
    "Not very well!  This is not uncommon.  You might have to cast some columns to other types, like in this example:"
   ]
  },
  {
   "cell_type": "code",
   "execution_count": 96,
   "metadata": {},
   "outputs": [
    {
     "data": {
      "text/plain": [
       "['ArrayType',\n",
       " 'AtomicType',\n",
       " 'BinaryType',\n",
       " 'BooleanType',\n",
       " 'ByteType',\n",
       " 'CloudPickleSerializer',\n",
       " 'DataType',\n",
       " 'DataTypeSingleton',\n",
       " 'DateConverter',\n",
       " 'DateType',\n",
       " 'DatetimeConverter',\n",
       " 'DecimalType',\n",
       " 'DoubleType',\n",
       " 'FloatType',\n",
       " 'FractionalType',\n",
       " 'IntegerType',\n",
       " 'IntegralType',\n",
       " 'JavaClass',\n",
       " 'LongType',\n",
       " 'MapType',\n",
       " 'NullType',\n",
       " 'NumericType',\n",
       " 'Row',\n",
       " 'ShortType',\n",
       " 'SparkContext',\n",
       " 'StringType',\n",
       " 'StructField',\n",
       " 'StructType',\n",
       " 'TimestampType',\n",
       " 'UserDefinedType',\n",
       " '_FIXED_DECIMAL',\n",
       " '__all__',\n",
       " '__builtins__',\n",
       " '__cached__',\n",
       " '__doc__',\n",
       " '__file__',\n",
       " '__loader__',\n",
       " '__name__',\n",
       " '__package__',\n",
       " '__spec__',\n",
       " '_acceptable_types',\n",
       " '_all_atomic_types',\n",
       " '_all_complex_types',\n",
       " '_array_signed_int_typecode_ctype_mappings',\n",
       " '_array_type_mappings',\n",
       " '_array_unsigned_int_typecode_ctype_mappings',\n",
       " '_atomic_types',\n",
       " '_create_converter',\n",
       " '_create_row',\n",
       " '_create_row_inbound_converter',\n",
       " '_has_nulltype',\n",
       " '_infer_schema',\n",
       " '_infer_type',\n",
       " '_int_size_to_type',\n",
       " '_make_type_verifier',\n",
       " '_merge_type',\n",
       " '_need_converter',\n",
       " '_parse_datatype_json_string',\n",
       " '_parse_datatype_json_value',\n",
       " '_parse_datatype_string',\n",
       " '_test',\n",
       " '_type_mappings',\n",
       " '_typecode',\n",
       " 'array',\n",
       " 'base64',\n",
       " 'calendar',\n",
       " 'ctypes',\n",
       " 'datetime',\n",
       " 'decimal',\n",
       " 'dt',\n",
       " 'json',\n",
       " 're',\n",
       " 'register_input_converter',\n",
       " 'size',\n",
       " 'sys',\n",
       " 'time']"
      ]
     },
     "execution_count": 96,
     "metadata": {},
     "output_type": "execute_result"
    }
   ],
   "source": [
    "import pyspark\n",
    "dir(pyspark.sql.types)"
   ]
  },
  {
   "cell_type": "code",
   "execution_count": 97,
   "metadata": {},
   "outputs": [],
   "source": [
    "from pyspark.sql.types import DateType"
   ]
  },
  {
   "cell_type": "code",
   "execution_count": 98,
   "metadata": {},
   "outputs": [],
   "source": [
    "tweets = tweets.withColumn(\"created_at\", tweets[\"created_at\"].cast(DateType()))"
   ]
  },
  {
   "cell_type": "code",
   "execution_count": 99,
   "metadata": {},
   "outputs": [
    {
     "name": "stdout",
     "output_type": "stream",
     "text": [
      "root\n",
      " |-- created_at: date (nullable = true)\n",
      " |-- twitter_id: string (nullable = true)\n",
      " |-- screen_name: string (nullable = true)\n",
      " |-- location: string (nullable = true)\n",
      " |-- followers_count: string (nullable = true)\n",
      " |-- friends_count: string (nullable = true)\n",
      " |-- hashtags: string (nullable = true)\n",
      " |-- mentions: string (nullable = true)\n",
      " |-- in_reply_to_screen_name: string (nullable = true)\n",
      " |-- twitter_url: string (nullable = true)\n",
      " |-- text: string (nullable = true)\n",
      " |-- is_retweet: string (nullable = true)\n",
      " |-- is_quote: string (nullable = true)\n",
      " |-- coordinates: string (nullable = true)\n",
      " |-- url1: string (nullable = true)\n",
      " |-- url1_expanded: string (nullable = true)\n",
      " |-- url2: string (nullable = true)\n",
      " |-- url2_expanded: string (nullable = true)\n",
      " |-- media_url: string (nullable = true)\n",
      "\n"
     ]
    }
   ],
   "source": [
    "tweets.printSchema()"
   ]
  },
  {
   "cell_type": "code",
   "execution_count": 100,
   "metadata": {},
   "outputs": [
    {
     "data": {
      "text/plain": [
       "[Row(created_at=datetime.date(2017, 8, 23)),\n",
       " Row(created_at=datetime.date(2017, 8, 23)),\n",
       " Row(created_at=datetime.date(2017, 8, 23)),\n",
       " Row(created_at=datetime.date(2017, 8, 23)),\n",
       " Row(created_at=datetime.date(2017, 8, 23))]"
      ]
     },
     "execution_count": 100,
     "metadata": {},
     "output_type": "execute_result"
    }
   ],
   "source": [
    "tweets.select('created_at').take(5)"
   ]
  },
  {
   "cell_type": "markdown",
   "metadata": {},
   "source": [
    "All fixed!\n",
    "\n",
    "Note that you can define a full schema at load time to avoid this problem.  It would be good if `inferSchema()` were a little more reliable though, although as we'll see in a minute, our data isn't exactly clean.\n",
    "\n",
    "\n",
    "### Operations on DataFrames\n",
    "\n",
    "DataFrames support many of the kinds of df operations you're used to, they are all just a little different.  Use the docs!"
   ]
  },
  {
   "cell_type": "code",
   "execution_count": 101,
   "metadata": {},
   "outputs": [
    {
     "data": {
      "text/plain": [
       "[Row(created_at=datetime.date(2017, 8, 23), twitter_id='900347382352592896', screen_name='JoCromer', location='\"\"\"Front Royal', followers_count=' VA\"\"\"', friends_count='7', hashtags='77', mentions=None, in_reply_to_screen_name='EpicClips', twitter_url=None, text='http://twitter.com/JoCromer/status/900347382352592896', is_retweet='RT @EpicClips: The best Solar eclipse video ever! https://t.co/5bhOu9frFZ', is_quote='Yes', coordinates='No', url1=None, url1_expanded=None, url2=None, url2_expanded=None, media_url=None),\n",
       " Row(created_at=datetime.date(2017, 8, 23), twitter_id='900347383447289856', screen_name='tony_bartoli', location='Commiefornia', followers_count='243', friends_count='91', hashtags='SolarEclipse2017', mentions='Kcarter915', in_reply_to_screen_name=None, twitter_url='http://twitter.com/tony_bartoli/status/900347383447289856', text='RT @Kcarter915: #SolarEclipse2017 friend just sent me this from Oregon how sick... https://t.co/NCe1JOx1VN', is_retweet='Yes', is_quote='No', coordinates=None, url1=None, url1_expanded=None, url2=None, url2_expanded=None, media_url='http://pbs.twimg.com/ext_tw_video_thumb/899684391621976064/pu/img/_cW9t9D7im_k5FKG.jpg')]"
      ]
     },
     "execution_count": 101,
     "metadata": {},
     "output_type": "execute_result"
    }
   ],
   "source": [
    "tweets.take(2)"
   ]
  },
  {
   "cell_type": "code",
   "execution_count": 102,
   "metadata": {},
   "outputs": [
    {
     "data": {
      "text/plain": [
       "[Row(created_at=datetime.date(2017, 8, 23), twitter_id='900347382352592896', screen_name='JoCromer', location='\"\"\"Front Royal', followers_count=' VA\"\"\"', friends_count='7', hashtags='77', mentions=None, in_reply_to_screen_name='EpicClips', twitter_url=None, text='http://twitter.com/JoCromer/status/900347382352592896', is_retweet='RT @EpicClips: The best Solar eclipse video ever! https://t.co/5bhOu9frFZ', is_quote='Yes', coordinates='No', url1=None, url1_expanded=None, url2=None, url2_expanded=None, media_url=None),\n",
       " Row(created_at=datetime.date(2017, 8, 23), twitter_id='900347383447289856', screen_name='tony_bartoli', location='Commiefornia', followers_count='243', friends_count='91', hashtags='SolarEclipse2017', mentions='Kcarter915', in_reply_to_screen_name=None, twitter_url='http://twitter.com/tony_bartoli/status/900347383447289856', text='RT @Kcarter915: #SolarEclipse2017 friend just sent me this from Oregon how sick... https://t.co/NCe1JOx1VN', is_retweet='Yes', is_quote='No', coordinates=None, url1=None, url1_expanded=None, url2=None, url2_expanded=None, media_url='http://pbs.twimg.com/ext_tw_video_thumb/899684391621976064/pu/img/_cW9t9D7im_k5FKG.jpg')]"
      ]
     },
     "execution_count": 102,
     "metadata": {},
     "output_type": "execute_result"
    }
   ],
   "source": [
    "tweets.head(2)"
   ]
  },
  {
   "cell_type": "code",
   "execution_count": 103,
   "metadata": {},
   "outputs": [
    {
     "name": "stdout",
     "output_type": "stream",
     "text": [
      "+----------+------------------+------------+--------------+---------------+-------------+----------------+----------+-----------------------+--------------------+--------------------+--------------------+--------+-----------+----+-------------+----+-------------+--------------------+\n",
      "|created_at|        twitter_id| screen_name|      location|followers_count|friends_count|        hashtags|  mentions|in_reply_to_screen_name|         twitter_url|                text|          is_retweet|is_quote|coordinates|url1|url1_expanded|url2|url2_expanded|           media_url|\n",
      "+----------+------------------+------------+--------------+---------------+-------------+----------------+----------+-----------------------+--------------------+--------------------+--------------------+--------+-----------+----+-------------+----+-------------+--------------------+\n",
      "|2017-08-23|900347382352592896|    JoCromer|\"\"\"Front Royal|          VA\"\"\"|            7|              77|      null|              EpicClips|                null|http://twitter.co...|RT @EpicClips: Th...|     Yes|         No|null|         null|null|         null|                null|\n",
      "|2017-08-23|900347383447289856|tony_bartoli|  Commiefornia|            243|           91|SolarEclipse2017|Kcarter915|                   null|http://twitter.co...|RT @Kcarter915: #...|                 Yes|      No|       null|null|         null|null|         null|http://pbs.twimg....|\n",
      "+----------+------------------+------------+--------------+---------------+-------------+----------------+----------+-----------------------+--------------------+--------------------+--------------------+--------+-----------+----+-------------+----+-------------+--------------------+\n",
      "only showing top 2 rows\n",
      "\n"
     ]
    }
   ],
   "source": [
    "tweets.show(2)"
   ]
  },
  {
   "cell_type": "code",
   "execution_count": 104,
   "metadata": {},
   "outputs": [
    {
     "name": "stderr",
     "output_type": "stream",
     "text": [
      "                                                                                \r"
     ]
    },
    {
     "data": {
      "text/plain": [
       "250224"
      ]
     },
     "execution_count": 104,
     "metadata": {},
     "output_type": "execute_result"
    }
   ],
   "source": [
    "tweets.count()"
   ]
  },
  {
   "cell_type": "code",
   "execution_count": 105,
   "metadata": {},
   "outputs": [
    {
     "name": "stderr",
     "output_type": "stream",
     "text": [
      "[Stage 37:>                                                         (0 + 1) / 1]\r"
     ]
    },
    {
     "name": "stdout",
     "output_type": "stream",
     "text": [
      "+-------+------------------+\n",
      "|summary|   followers_count|\n",
      "+-------+------------------+\n",
      "|  count|            249997|\n",
      "|   mean|3179.5576665993704|\n",
      "| stddev|  67971.7535543572|\n",
      "|    min|                WB|\n",
      "|    max|     👉 Waxahachie|\n",
      "+-------+------------------+\n",
      "\n"
     ]
    },
    {
     "name": "stderr",
     "output_type": "stream",
     "text": [
      "                                                                                \r"
     ]
    }
   ],
   "source": [
    "tweets.describe('followers_count').show()"
   ]
  },
  {
   "cell_type": "markdown",
   "metadata": {},
   "source": [
    "Whoops, looks like we've got some slop in our data.  This might be due to some strange characters in the mix.  Clean that up in a handy wrangling tool..."
   ]
  },
  {
   "cell_type": "code",
   "execution_count": 106,
   "metadata": {},
   "outputs": [
    {
     "name": "stdout",
     "output_type": "stream",
     "text": [
      "+-------------+--------------------+\n",
      "|  screen_name|                text|\n",
      "+-------------+--------------------+\n",
      "|     JoCromer|http://twitter.co...|\n",
      "| tony_bartoli|RT @Kcarter915: #...|\n",
      "|jimboswellart|\"\"\"RT @joshzepps:...|\n",
      "|      madcot1|http://twitter.co...|\n",
      "|   mishka1599|http://twitter.co...|\n",
      "+-------------+--------------------+\n",
      "only showing top 5 rows\n",
      "\n"
     ]
    }
   ],
   "source": [
    "tweets.select(\"screen_name\", \"text\").show(5)"
   ]
  },
  {
   "cell_type": "code",
   "execution_count": 107,
   "metadata": {},
   "outputs": [
    {
     "name": "stderr",
     "output_type": "stream",
     "text": [
      "[Stage 40:>                                                         (0 + 1) / 1]\r"
     ]
    },
    {
     "name": "stdout",
     "output_type": "stream",
     "text": [
      "+---------------+\n",
      "|followers_count|\n",
      "+---------------+\n",
      "|          99973|\n",
      "|         996799|\n",
      "|          99602|\n",
      "|          99591|\n",
      "|         992378|\n",
      "|         989931|\n",
      "|          98729|\n",
      "|         982050|\n",
      "|          98191|\n",
      "|          97960|\n",
      "+---------------+\n",
      "only showing top 10 rows\n",
      "\n"
     ]
    },
    {
     "name": "stderr",
     "output_type": "stream",
     "text": [
      "                                                                                \r"
     ]
    }
   ],
   "source": [
    "tweets.filter(\"followers_count > 15000\") \\\n",
    "    .select(\"followers_count\") \\\n",
    "    .orderBy(\"followers_count\", ascending=False) \\\n",
    "    .show(10)\n",
    "# the type is string, but we should order them by integar"
   ]
  },
  {
   "cell_type": "markdown",
   "metadata": {},
   "source": [
    "Whoops, looks like another data type problem.  We can fix that, too."
   ]
  },
  {
   "cell_type": "code",
   "execution_count": 108,
   "metadata": {},
   "outputs": [],
   "source": [
    "from pyspark.sql.types import IntegerType\n",
    "tweets = tweets.withColumn(\"followers_count\", tweets[\"followers_count\"].cast(IntegerType()))"
   ]
  },
  {
   "cell_type": "code",
   "execution_count": 109,
   "metadata": {},
   "outputs": [
    {
     "name": "stderr",
     "output_type": "stream",
     "text": [
      "[Stage 41:>                                                         (0 + 1) / 1]\r"
     ]
    },
    {
     "name": "stdout",
     "output_type": "stream",
     "text": [
      "+---------------+\n",
      "|followers_count|\n",
      "+---------------+\n",
      "|       10005729|\n",
      "|        8200532|\n",
      "|        8200532|\n",
      "|        7821791|\n",
      "|        6416673|\n",
      "|        4429519|\n",
      "|        4373072|\n",
      "|        4373064|\n",
      "|        4373061|\n",
      "|        4373053|\n",
      "+---------------+\n",
      "only showing top 10 rows\n",
      "\n"
     ]
    },
    {
     "name": "stderr",
     "output_type": "stream",
     "text": [
      "                                                                                \r"
     ]
    }
   ],
   "source": [
    "tweets.filter(\"followers_count > 15000\") \\\n",
    "    .select(\"followers_count\") \\\n",
    "    .orderBy(\"followers_count\", ascending=False) \\\n",
    "    .show(10)"
   ]
  },
  {
   "cell_type": "markdown",
   "metadata": {},
   "source": [
    "Who are these popular tweeters?"
   ]
  },
  {
   "cell_type": "code",
   "execution_count": 110,
   "metadata": {},
   "outputs": [
    {
     "name": "stderr",
     "output_type": "stream",
     "text": [
      "[Stage 42:>                                                         (0 + 1) / 1]\r"
     ]
    },
    {
     "name": "stdout",
     "output_type": "stream",
     "text": [
      "+--------------+\n",
      "|   screen_name|\n",
      "+--------------+\n",
      "|        people|\n",
      "|          ndtv|\n",
      "|muyinteresante|\n",
      "|muyinteresante|\n",
      "|    ISAACDJ505|\n",
      "+--------------+\n",
      "\n"
     ]
    },
    {
     "name": "stderr",
     "output_type": "stream",
     "text": [
      "                                                                                \r"
     ]
    }
   ],
   "source": [
    "tweets.filter(\"followers_count > 5000000\").select(\"screen_name\").show(20)"
   ]
  },
  {
   "cell_type": "markdown",
   "metadata": {},
   "source": [
    "https://twitter.com/people\n",
    "\n",
    "Yep - that looks about right.\n",
    "\n",
    "Now that we have that column sorted out:"
   ]
  },
  {
   "cell_type": "code",
   "execution_count": 111,
   "metadata": {},
   "outputs": [
    {
     "name": "stderr",
     "output_type": "stream",
     "text": [
      "[Stage 43:>                                                         (0 + 1) / 1]\r"
     ]
    },
    {
     "name": "stdout",
     "output_type": "stream",
     "text": [
      "+-------+-----------------+\n",
      "|summary|  followers_count|\n",
      "+-------+-----------------+\n",
      "|  count|           183268|\n",
      "|   mean|3179.575010367331|\n",
      "| stddev| 67971.9385931858|\n",
      "|    min|                0|\n",
      "|    max|         10005729|\n",
      "+-------+-----------------+\n",
      "\n"
     ]
    },
    {
     "name": "stderr",
     "output_type": "stream",
     "text": [
      "                                                                                \r"
     ]
    }
   ],
   "source": [
    "tweets.describe(\"followers_count\").show()"
   ]
  },
  {
   "cell_type": "code",
   "execution_count": 112,
   "metadata": {},
   "outputs": [
    {
     "name": "stderr",
     "output_type": "stream",
     "text": [
      "[Stage 45:>                                                         (0 + 1) / 1]\r"
     ]
    },
    {
     "name": "stdout",
     "output_type": "stream",
     "text": [
      "+----------+\n",
      "|created_at|\n",
      "+----------+\n",
      "|2017-08-23|\n",
      "|2017-08-23|\n",
      "|2017-08-23|\n",
      "|2017-08-23|\n",
      "|2017-08-23|\n",
      "|2017-08-23|\n",
      "|2017-08-23|\n",
      "|2017-08-23|\n",
      "|2017-08-23|\n",
      "|2017-08-23|\n",
      "+----------+\n",
      "only showing top 10 rows\n",
      "\n"
     ]
    },
    {
     "name": "stderr",
     "output_type": "stream",
     "text": [
      "                                                                                \r"
     ]
    }
   ],
   "source": [
    "tweets.orderBy(\"created_at\", ascending=False).select(\"created_at\").show(10)"
   ]
  },
  {
   "cell_type": "markdown",
   "metadata": {},
   "source": [
    "### Dataframe-like operations (with '[]')\n",
    "\n",
    "We can also write code that looks a lot more like Pandas in Python or R data frames."
   ]
  },
  {
   "cell_type": "code",
   "execution_count": 113,
   "metadata": {},
   "outputs": [
    {
     "name": "stdout",
     "output_type": "stream",
     "text": [
      "+----------+\n",
      "|created_at|\n",
      "+----------+\n",
      "|2017-08-23|\n",
      "|2017-08-23|\n",
      "|2017-08-23|\n",
      "|2017-08-23|\n",
      "|2017-08-23|\n",
      "+----------+\n",
      "only showing top 5 rows\n",
      "\n"
     ]
    }
   ],
   "source": [
    "tweets.select(tweets['created_at']).show(5)"
   ]
  },
  {
   "cell_type": "code",
   "execution_count": 114,
   "metadata": {},
   "outputs": [
    {
     "name": "stderr",
     "output_type": "stream",
     "text": [
      "[Stage 47:>                                                         (0 + 1) / 1]\r"
     ]
    },
    {
     "name": "stdout",
     "output_type": "stream",
     "text": [
      "+--------------+---------------+\n",
      "|   screen_name|followers_count|\n",
      "+--------------+---------------+\n",
      "|          ndtv|       10005729|\n",
      "|muyinteresante|        8200532|\n",
      "|muyinteresante|        8200532|\n",
      "|        people|        7821791|\n",
      "|    ISAACDJ505|        6416673|\n",
      "|   planetepics|        4429519|\n",
      "| ElNacionalWeb|        4373072|\n",
      "| ElNacionalWeb|        4373064|\n",
      "| ElNacionalWeb|        4373061|\n",
      "| ElNacionalWeb|        4373053|\n",
      "+--------------+---------------+\n",
      "only showing top 10 rows\n",
      "\n"
     ]
    },
    {
     "name": "stderr",
     "output_type": "stream",
     "text": [
      "                                                                                \r"
     ]
    }
   ],
   "source": [
    "tweets.filter(tweets['followers_count'] > 500000) \\\n",
    "    .select(tweets['screen_name'], tweets['followers_count']) \\\n",
    "    .orderBy(tweets['followers_count'], ascending=False) \\\n",
    "    .show(10)"
   ]
  },
  {
   "cell_type": "markdown",
   "metadata": {},
   "source": [
    "Note that you can write the same thing somewhat more compactly:"
   ]
  },
  {
   "cell_type": "code",
   "execution_count": 115,
   "metadata": {},
   "outputs": [
    {
     "name": "stderr",
     "output_type": "stream",
     "text": [
      "[Stage 48:>                                                         (0 + 1) / 1]\r"
     ]
    },
    {
     "name": "stdout",
     "output_type": "stream",
     "text": [
      "+--------------+---------------+\n",
      "|   screen_name|followers_count|\n",
      "+--------------+---------------+\n",
      "|          ndtv|       10005729|\n",
      "|muyinteresante|        8200532|\n",
      "|muyinteresante|        8200532|\n",
      "|        people|        7821791|\n",
      "|    ISAACDJ505|        6416673|\n",
      "|   planetepics|        4429519|\n",
      "| ElNacionalWeb|        4373072|\n",
      "| ElNacionalWeb|        4373064|\n",
      "| ElNacionalWeb|        4373061|\n",
      "| ElNacionalWeb|        4373053|\n",
      "+--------------+---------------+\n",
      "only showing top 10 rows\n",
      "\n"
     ]
    },
    {
     "name": "stderr",
     "output_type": "stream",
     "text": [
      "                                                                                \r"
     ]
    }
   ],
   "source": [
    "tweets.filter('followers_count > 500000') \\\n",
    "    .select('screen_name', 'followers_count') \\\n",
    "    .orderBy('followers_count', ascending=False) \\\n",
    "    .show(10)"
   ]
  },
  {
   "cell_type": "markdown",
   "metadata": {},
   "source": [
    "Note that the results are exactly the same!  How you write your code is up to you."
   ]
  },
  {
   "cell_type": "markdown",
   "metadata": {},
   "source": [
    "## Using SQL with DataFrames\n",
    "\n",
    "All you need to do to get going with SQL is to register a table from your data frame, like so:"
   ]
  },
  {
   "cell_type": "code",
   "execution_count": 41,
   "metadata": {},
   "outputs": [
    {
     "ename": "NameError",
     "evalue": "name 'tweets' is not defined",
     "output_type": "error",
     "traceback": [
      "\u001b[0;31m---------------------------------------------------------------------------\u001b[0m",
      "\u001b[0;31mNameError\u001b[0m                                 Traceback (most recent call last)",
      "\u001b[0;32m/tmp/ipykernel_2556/224952845.py\u001b[0m in \u001b[0;36m<module>\u001b[0;34m\u001b[0m\n\u001b[0;32m----> 1\u001b[0;31m \u001b[0mtweets\u001b[0m\u001b[0;34m.\u001b[0m\u001b[0mcreateOrReplaceTempView\u001b[0m\u001b[0;34m(\u001b[0m\u001b[0;34m\"tweets\"\u001b[0m\u001b[0;34m)\u001b[0m\u001b[0;34m\u001b[0m\u001b[0;34m\u001b[0m\u001b[0m\n\u001b[0m",
      "\u001b[0;31mNameError\u001b[0m: name 'tweets' is not defined"
     ]
    }
   ],
   "source": [
    "tweets.createOrReplaceTempView(\"tweets\")"
   ]
  },
  {
   "cell_type": "code",
   "execution_count": 117,
   "metadata": {},
   "outputs": [
    {
     "data": {
      "text/plain": [
       "DataFrame[count(1): bigint]"
      ]
     },
     "execution_count": 117,
     "metadata": {},
     "output_type": "execute_result"
    }
   ],
   "source": [
    "sqlc.sql(\"SELECT COUNT(*) FROM tweets\")"
   ]
  },
  {
   "cell_type": "code",
   "execution_count": 118,
   "metadata": {},
   "outputs": [
    {
     "name": "stderr",
     "output_type": "stream",
     "text": [
      "[Stage 49:>                                                         (0 + 1) / 1]\r"
     ]
    },
    {
     "name": "stdout",
     "output_type": "stream",
     "text": [
      "+--------+\n",
      "|count(1)|\n",
      "+--------+\n",
      "|  250224|\n",
      "+--------+\n",
      "\n"
     ]
    },
    {
     "name": "stderr",
     "output_type": "stream",
     "text": [
      "                                                                                \r"
     ]
    }
   ],
   "source": [
    "sqlc.sql(\"SELECT COUNT(*) FROM tweets\").show()"
   ]
  },
  {
   "cell_type": "code",
   "execution_count": 119,
   "metadata": {},
   "outputs": [
    {
     "name": "stderr",
     "output_type": "stream",
     "text": [
      "[Stage 51:>                                                         (0 + 1) / 1]\r"
     ]
    },
    {
     "name": "stdout",
     "output_type": "stream",
     "text": [
      "+---------------+\n",
      "|followers_count|\n",
      "+---------------+\n",
      "|       10005729|\n",
      "|        8200532|\n",
      "|        8200532|\n",
      "|        7821791|\n",
      "|        6416673|\n",
      "|        4429519|\n",
      "|        4373072|\n",
      "|        4373064|\n",
      "|        4373061|\n",
      "|        4373053|\n",
      "+---------------+\n",
      "only showing top 10 rows\n",
      "\n"
     ]
    },
    {
     "name": "stderr",
     "output_type": "stream",
     "text": [
      "                                                                                \r"
     ]
    }
   ],
   "source": [
    "sqlc.sql(\"\"\"\n",
    "    SELECT followers_count \n",
    "    FROM tweets\n",
    "    ORDER BY followers_count DESC\n",
    "\"\"\").show(10)"
   ]
  },
  {
   "cell_type": "code",
   "execution_count": 120,
   "metadata": {},
   "outputs": [
    {
     "name": "stderr",
     "output_type": "stream",
     "text": [
      "[Stage 52:>                                                         (0 + 1) / 1]\r"
     ]
    },
    {
     "name": "stdout",
     "output_type": "stream",
     "text": [
      "+--------------+\n",
      "|   screen_name|\n",
      "+--------------+\n",
      "|    ISAACDJ505|\n",
      "|muyinteresante|\n",
      "|muyinteresante|\n",
      "|          ndtv|\n",
      "|        people|\n",
      "+--------------+\n",
      "\n"
     ]
    },
    {
     "name": "stderr",
     "output_type": "stream",
     "text": [
      "                                                                                \r"
     ]
    }
   ],
   "source": [
    "sqlc.sql(\"\"\"\n",
    "    SELECT screen_name\n",
    "    FROM tweets\n",
    "    WHERE followers_count > 5000000\n",
    "    ORDER BY screen_name\n",
    "\"\"\").show(10)"
   ]
  },
  {
   "cell_type": "markdown",
   "metadata": {},
   "source": [
    "### Other data types:  JSON\n",
    "\n",
    "We can load in non-CSV data as well, such as JSON.  Here is a set of tweet data in JSON format, the original source.  It's much less likely to have wrangling issues."
   ]
  },
  {
   "cell_type": "code",
   "execution_count": 27,
   "metadata": {},
   "outputs": [
    {
     "name": "stdout",
     "output_type": "stream",
     "text": [
      "--2021-11-06 20:11:00--  https://s3.amazonaws.com/2018-dmfa/week-9/mlb-world-series/9670f3399f774789b7c3e18975d25611_001.json\n",
      "Resolving s3.amazonaws.com (s3.amazonaws.com)... 52.216.242.38\n",
      "Connecting to s3.amazonaws.com (s3.amazonaws.com)|52.216.242.38|:443... connected.\n",
      "HTTP request sent, awaiting response... 200 OK\n",
      "Length: 707326974 (675M) [application/json]\n",
      "Saving to: ‘9670f3399f774789b7c3e18975d25611_001.json’\n",
      "\n",
      "9670f3399f774789b7c 100%[===================>] 674.56M  30.9MB/s    in 23s     \n",
      "\n",
      "2021-11-06 20:11:24 (29.5 MB/s) - ‘9670f3399f774789b7c3e18975d25611_001.json’ saved [707326974/707326974]\n",
      "\n"
     ]
    }
   ],
   "source": [
    "!wget https://s3.amazonaws.com/2018-dmfa/week-9/mlb-world-series/9670f3399f774789b7c3e18975d25611_001.json"
   ]
  },
  {
   "cell_type": "code",
   "execution_count": 28,
   "metadata": {},
   "outputs": [],
   "source": [
    "!mv 9670f3399f774789b7c3e18975d25611_001.json mlb.json"
   ]
  },
  {
   "cell_type": "code",
   "execution_count": 29,
   "metadata": {},
   "outputs": [
    {
     "name": "stdout",
     "output_type": "stream",
     "text": [
      "100000 mlb.json\n"
     ]
    }
   ],
   "source": [
    "!wc -l mlb.json"
   ]
  },
  {
   "cell_type": "code",
   "execution_count": 30,
   "metadata": {
    "collapsed": true,
    "jupyter": {
     "outputs_hidden": true
    },
    "tags": []
   },
   "outputs": [
    {
     "name": "stdout",
     "output_type": "stream",
     "text": [
      "{\"quote_count\": 0, \"contributors\": null, \"truncated\": false, \"text\": \"RT @themerkingmike: YOU TOOK A FAT ASS L https://t.co/g6MsLQxvRt\", \"is_quote_status\": true, \"in_reply_to_status_id\": null, \"reply_count\": 0, \"id\": 925188527125561350, \"favorite_count\": 0, \"entities\": {\"user_mentions\": [{\"id\": 777708599019577344, \"indices\": [3, 18], \"id_str\": \"777708599019577344\", \"screen_name\": \"themerkingmike\", \"name\": \"miguelito \\ud83d\\udc7b\"}], \"symbols\": [], \"hashtags\": [], \"urls\": [{\"url\": \"https://t.co/g6MsLQxvRt\", \"indices\": [41, 64], \"expanded_url\": \"https://twitter.com/lizhabib/status/924403010033238016\", \"display_url\": \"twitter.com/lizhabib/statu\\u2026\"}]}, \"quoted_status_id\": 924403010033238016, \"retweeted\": false, \"coordinates\": null, \"timestamp_ms\": \"1509417108695\", \"quoted_status\": {\"quote_count\": 144, \"contributors\": null, \"truncated\": false, \"text\": \"Forget the honeymoon! It\\u2019s the World Series for these Dodgers fans. #GAME4 https://t.co/BTgOzyivVL\", \"is_quote_status\": false, \"in_reply_to_status_id\": null, \"reply_count\": 22, \"id\": 924403010033238016, \"favorite_count\": 1174, \"entities\": {\"user_mentions\": [], \"symbols\": [], \"hashtags\": [{\"indices\": [68, 74], \"text\": \"GAME4\"}], \"urls\": [], \"media\": [{\"expanded_url\": \"https://twitter.com/LizHabib/status/924403010033238016/photo/1\", \"display_url\": \"pic.twitter.com/BTgOzyivVL\", \"url\": \"https://t.co/BTgOzyivVL\", \"media_url_https\": \"https://pbs.twimg.com/media/DNQjo1LUMAAwq11.jpg\", \"id_str\": \"924403007894073344\", \"sizes\": {\"large\": {\"h\": 2048, \"resize\": \"fit\", \"w\": 1152}, \"small\": {\"h\": 680, \"resize\": \"fit\", \"w\": 383}, \"medium\": {\"h\": 1200, \"resize\": \"fit\", \"w\": 675}, \"thumb\": {\"h\": 150, \"resize\": \"crop\", \"w\": 150}}, \"indices\": [75, 98], \"type\": \"photo\", \"id\": 924403007894073344, \"media_url\": \"http://pbs.twimg.com/media/DNQjo1LUMAAwq11.jpg\"}]}, \"retweeted\": false, \"coordinates\": null, \"source\": \"<a href=\\\"http://twitter.com/download/iphone\\\" rel=\\\"nofollow\\\">Twitter for iPhone</a>\", \"in_reply_to_screen_name\": null, \"id_str\": \"924403010033238016\", \"display_text_range\": [0, 74], \"retweet_count\": 284, \"in_reply_to_user_id\": null, \"favorited\": false, \"user\": {\"follow_request_sent\": null, \"profile_use_background_image\": true, \"default_profile_image\": false, \"id\": 35563552, \"default_profile\": false, \"verified\": true, \"profile_image_url_https\": \"https://pbs.twimg.com/profile_images/598217158762463232/24HmPah4_normal.jpg\", \"profile_sidebar_fill_color\": \"DDEEF6\", \"profile_text_color\": \"333333\", \"followers_count\": 52251, \"profile_sidebar_border_color\": \"C0DEED\", \"id_str\": \"35563552\", \"profile_background_color\": \"C0DEED\", \"listed_count\": 558, \"profile_background_image_url_https\": \"https://pbs.twimg.com/profile_background_images/224290718/IMG_0467.JPG\", \"utc_offset\": -25200, \"statuses_count\": 27200, \"description\": \"Sports Anchor @FOXLA http://facebook.com/lizhabibtv http://Instagram.com/lizhabib Snap Liz.habib\", \"friends_count\": 11514, \"location\": \"Fox 11 - KTTV- Los Angeles\", \"profile_link_color\": \"0084B4\", \"profile_image_url\": \"http://pbs.twimg.com/profile_images/598217158762463232/24HmPah4_normal.jpg\", \"following\": null, \"geo_enabled\": false, \"profile_banner_url\": \"https://pbs.twimg.com/profile_banners/35563552/1506493749\", \"profile_background_image_url\": \"http://pbs.twimg.com/profile_background_images/224290718/IMG_0467.JPG\", \"name\": \"Liz Habib\", \"lang\": \"en\", \"profile_background_tile\": true, \"favourites_count\": 12830, \"screen_name\": \"LizHabib\", \"notifications\": null, \"url\": \"http://www.foxla.com\", \"created_at\": \"Sun Apr 26 21:00:21 +0000 2009\", \"contributors_enabled\": false, \"time_zone\": \"Pacific Time (US & Canada)\", \"protected\": false, \"translator_type\": \"none\", \"is_translator\": false}, \"geo\": null, \"in_reply_to_user_id_str\": null, \"possibly_sensitive\": false, \"lang\": \"en\", \"created_at\": \"Sat Oct 28 22:30:26 +0000 2017\", \"filter_level\": \"low\", \"in_reply_to_status_id_str\": null, \"place\": null, \"extended_entities\": {\"media\": [{\"expanded_url\": \"https://twitter.com/LizHabib/status/924403010033238016/photo/1\", \"display_url\": \"pic.twitter.com/BTgOzyivVL\", \"url\": \"https://t.co/BTgOzyivVL\", \"media_url_https\": \"https://pbs.twimg.com/media/DNQjo1LUMAAwq11.jpg\", \"id_str\": \"924403007894073344\", \"sizes\": {\"large\": {\"h\": 2048, \"resize\": \"fit\", \"w\": 1152}, \"small\": {\"h\": 680, \"resize\": \"fit\", \"w\": 383}, \"medium\": {\"h\": 1200, \"resize\": \"fit\", \"w\": 675}, \"thumb\": {\"h\": 150, \"resize\": \"crop\", \"w\": 150}}, \"indices\": [75, 98], \"type\": \"photo\", \"id\": 924403007894073344, \"media_url\": \"http://pbs.twimg.com/media/DNQjo1LUMAAwq11.jpg\"}]}}, \"source\": \"<a href=\\\"http://twitter.com/download/iphone\\\" rel=\\\"nofollow\\\">Twitter for iPhone</a>\", \"in_reply_to_screen_name\": null, \"id_str\": \"925188527125561350\", \"retweet_count\": 0, \"in_reply_to_user_id\": null, \"favorited\": false, \"retweeted_status\": {\"quote_count\": 41, \"contributors\": null, \"truncated\": false, \"text\": \"YOU TOOK A FAT ASS L https://t.co/g6MsLQxvRt\", \"is_quote_status\": true, \"in_reply_to_status_id\": null, \"reply_count\": 11, \"id\": 924877767291932672, \"favorite_count\": 7489, \"entities\": {\"user_mentions\": [], \"symbols\": [], \"hashtags\": [], \"urls\": [{\"url\": \"https://t.co/g6MsLQxvRt\", \"indices\": [21, 44], \"expanded_url\": \"https://twitter.com/lizhabib/status/924403010033238016\", \"display_url\": \"twitter.com/lizhabib/statu\\u2026\"}]}, \"quoted_status_id\": 924403010033238016, \"retweeted\": false, \"coordinates\": null, \"quoted_status\": {\"quote_count\": 144, \"contributors\": null, \"truncated\": false, \"text\": \"Forget the honeymoon! It\\u2019s the World Series for these Dodgers fans. #GAME4 https://t.co/BTgOzyivVL\", \"is_quote_status\": false, \"in_reply_to_status_id\": null, \"reply_count\": 22, \"id\": 924403010033238016, \"favorite_count\": 1174, \"entities\": {\"user_mentions\": [], \"symbols\": [], \"hashtags\": [{\"indices\": [68, 74], \"text\": \"GAME4\"}], \"urls\": [], \"media\": [{\"expanded_url\": \"https://twitter.com/LizHabib/status/924403010033238016/photo/1\", \"display_url\": \"pic.twitter.com/BTgOzyivVL\", \"url\": \"https://t.co/BTgOzyivVL\", \"media_url_https\": \"https://pbs.twimg.com/media/DNQjo1LUMAAwq11.jpg\", \"id_str\": \"924403007894073344\", \"sizes\": {\"large\": {\"h\": 2048, \"resize\": \"fit\", \"w\": 1152}, \"small\": {\"h\": 680, \"resize\": \"fit\", \"w\": 383}, \"medium\": {\"h\": 1200, \"resize\": \"fit\", \"w\": 675}, \"thumb\": {\"h\": 150, \"resize\": \"crop\", \"w\": 150}}, \"indices\": [75, 98], \"type\": \"photo\", \"id\": 924403007894073344, \"media_url\": \"http://pbs.twimg.com/media/DNQjo1LUMAAwq11.jpg\"}]}, \"retweeted\": false, \"coordinates\": null, \"source\": \"<a href=\\\"http://twitter.com/download/iphone\\\" rel=\\\"nofollow\\\">Twitter for iPhone</a>\", \"in_reply_to_screen_name\": null, \"id_str\": \"924403010033238016\", \"display_text_range\": [0, 74], \"retweet_count\": 284, \"in_reply_to_user_id\": null, \"favorited\": false, \"user\": {\"follow_request_sent\": null, \"profile_use_background_image\": true, \"default_profile_image\": false, \"id\": 35563552, \"default_profile\": false, \"verified\": true, \"profile_image_url_https\": \"https://pbs.twimg.com/profile_images/598217158762463232/24HmPah4_normal.jpg\", \"profile_sidebar_fill_color\": \"DDEEF6\", \"profile_text_color\": \"333333\", \"followers_count\": 52251, \"profile_sidebar_border_color\": \"C0DEED\", \"id_str\": \"35563552\", \"profile_background_color\": \"C0DEED\", \"listed_count\": 558, \"profile_background_image_url_https\": \"https://pbs.twimg.com/profile_background_images/224290718/IMG_0467.JPG\", \"utc_offset\": -25200, \"statuses_count\": 27200, \"description\": \"Sports Anchor @FOXLA http://facebook.com/lizhabibtv http://Instagram.com/lizhabib Snap Liz.habib\", \"friends_count\": 11514, \"location\": \"Fox 11 - KTTV- Los Angeles\", \"profile_link_color\": \"0084B4\", \"profile_image_url\": \"http://pbs.twimg.com/profile_images/598217158762463232/24HmPah4_normal.jpg\", \"following\": null, \"geo_enabled\": false, \"profile_banner_url\": \"https://pbs.twimg.com/profile_banners/35563552/1506493749\", \"profile_background_image_url\": \"http://pbs.twimg.com/profile_background_images/224290718/IMG_0467.JPG\", \"name\": \"Liz Habib\", \"lang\": \"en\", \"profile_background_tile\": true, \"favourites_count\": 12830, \"screen_name\": \"LizHabib\", \"notifications\": null, \"url\": \"http://www.foxla.com\", \"created_at\": \"Sun Apr 26 21:00:21 +0000 2009\", \"contributors_enabled\": false, \"time_zone\": \"Pacific Time (US & Canada)\", \"protected\": false, \"translator_type\": \"none\", \"is_translator\": false}, \"geo\": null, \"in_reply_to_user_id_str\": null, \"possibly_sensitive\": false, \"lang\": \"en\", \"created_at\": \"Sat Oct 28 22:30:26 +0000 2017\", \"filter_level\": \"low\", \"in_reply_to_status_id_str\": null, \"place\": null, \"extended_entities\": {\"media\": [{\"expanded_url\": \"https://twitter.com/LizHabib/status/924403010033238016/photo/1\", \"display_url\": \"pic.twitter.com/BTgOzyivVL\", \"url\": \"https://t.co/BTgOzyivVL\", \"media_url_https\": \"https://pbs.twimg.com/media/DNQjo1LUMAAwq11.jpg\", \"id_str\": \"924403007894073344\", \"sizes\": {\"large\": {\"h\": 2048, \"resize\": \"fit\", \"w\": 1152}, \"small\": {\"h\": 680, \"resize\": \"fit\", \"w\": 383}, \"medium\": {\"h\": 1200, \"resize\": \"fit\", \"w\": 675}, \"thumb\": {\"h\": 150, \"resize\": \"crop\", \"w\": 150}}, \"indices\": [75, 98], \"type\": \"photo\", \"id\": 924403007894073344, \"media_url\": \"http://pbs.twimg.com/media/DNQjo1LUMAAwq11.jpg\"}]}}, \"source\": \"<a href=\\\"http://twitter.com/download/iphone\\\" rel=\\\"nofollow\\\">Twitter for iPhone</a>\", \"in_reply_to_screen_name\": null, \"id_str\": \"924877767291932672\", \"display_text_range\": [0, 20], \"retweet_count\": 3042, \"in_reply_to_user_id\": null, \"favorited\": false, \"user\": {\"follow_request_sent\": null, \"profile_use_background_image\": true, \"default_profile_image\": false, \"id\": 777708599019577344, \"default_profile\": true, \"verified\": false, \"profile_image_url_https\": \"https://pbs.twimg.com/profile_images/918542641419177986/6g9hFeDB_normal.jpg\", \"profile_sidebar_fill_color\": \"DDEEF6\", \"profile_text_color\": \"333333\", \"followers_count\": 1097, \"profile_sidebar_border_color\": \"C0DEED\", \"id_str\": \"777708599019577344\", \"profile_background_color\": \"F5F8FA\", \"listed_count\": 5, \"profile_background_image_url_https\": \"\", \"utc_offset\": null, \"statuses_count\": 2019, \"description\": \"Houston \\ud83d\\ude80\", \"friends_count\": 993, \"location\": \"Houston, TX\", \"profile_link_color\": \"1DA1F2\", \"profile_image_url\": \"http://pbs.twimg.com/profile_images/918542641419177986/6g9hFeDB_normal.jpg\", \"following\": null, \"geo_enabled\": false, \"profile_banner_url\": \"https://pbs.twimg.com/profile_banners/777708599019577344/1509336857\", \"profile_background_image_url\": \"\", \"name\": \"miguelito \\ud83d\\udc7b\", \"lang\": \"en\", \"profile_background_tile\": false, \"favourites_count\": 1813, \"screen_name\": \"themerkingmike\", \"notifications\": null, \"url\": null, \"created_at\": \"Mon Sep 19 03:19:13 +0000 2016\", \"contributors_enabled\": false, \"time_zone\": null, \"protected\": false, \"translator_type\": \"none\", \"is_translator\": false}, \"geo\": null, \"in_reply_to_user_id_str\": null, \"possibly_sensitive\": false, \"lang\": \"en\", \"created_at\": \"Mon Oct 30 05:56:57 +0000 2017\", \"quoted_status_id_str\": \"924403010033238016\", \"filter_level\": \"low\", \"in_reply_to_status_id_str\": null, \"place\": null}, \"user\": {\"follow_request_sent\": null, \"profile_use_background_image\": true, \"default_profile_image\": false, \"id\": 191264479, \"default_profile\": false, \"verified\": false, \"profile_image_url_https\": \"https://pbs.twimg.com/profile_images/925188370418077697/eh5JtIU2_normal.jpg\", \"profile_sidebar_fill_color\": \"E5507E\", \"profile_text_color\": \"362720\", \"followers_count\": 538, \"profile_sidebar_border_color\": \"CC3366\", \"id_str\": \"191264479\", \"profile_background_color\": \"FF6699\", \"listed_count\": 2, \"profile_background_image_url_https\": \"https://abs.twimg.com/images/themes/theme11/bg.gif\", \"utc_offset\": -14400, \"statuses_count\": 12069, \"description\": \"Abanoub Makary Agaiby \\u2764\\ufe0f\", \"friends_count\": 385, \"location\": \"With my noodle\\u2764\\ufe0f\", \"profile_link_color\": \"B40B43\", \"profile_image_url\": \"http://pbs.twimg.com/profile_images/925188370418077697/eh5JtIU2_normal.jpg\", \"following\": null, \"geo_enabled\": true, \"profile_banner_url\": \"https://pbs.twimg.com/profile_banners/191264479/1498288321\", \"profile_background_image_url\": \"http://abs.twimg.com/images/themes/theme11/bg.gif\", \"name\": \"KeepingUpWithGala\\ud83c\\udf3b\", \"lang\": \"en\", \"profile_background_tile\": true, \"favourites_count\": 7445, \"screen_name\": \"GalaBeauty18\", \"notifications\": null, \"url\": \"https://Galabrunini.sarahah.com\", \"created_at\": \"Thu Sep 16 00:51:21 +0000 2010\", \"contributors_enabled\": false, \"time_zone\": \"Eastern Time (US & Canada)\", \"protected\": false, \"translator_type\": \"none\", \"is_translator\": false}, \"geo\": null, \"in_reply_to_user_id_str\": null, \"possibly_sensitive\": false, \"lang\": \"en\", \"created_at\": \"Tue Oct 31 02:31:48 +0000 2017\", \"quoted_status_id_str\": \"924403010033238016\", \"filter_level\": \"low\", \"in_reply_to_status_id_str\": null, \"place\": null}\n",
      "{\"quote_count\": 0, \"contributors\": null, \"truncated\": false, \"text\": \"RT @astros: \\u201cThese fans are ringside at one of the best boxing matches they\\u2019ll ever see!\\u201d #EarnHistory https://t.co/QH3wFDKMXQ\", \"is_quote_status\": false, \"in_reply_to_status_id\": null, \"reply_count\": 0, \"id\": 925188528396488705, \"favorite_count\": 0, \"entities\": {\"user_mentions\": [{\"id\": 52803520, \"indices\": [3, 10], \"id_str\": \"52803520\", \"screen_name\": \"astros\", \"name\": \"Houston Astros\"}], \"symbols\": [], \"hashtags\": [{\"indices\": [90, 102], \"text\": \"EarnHistory\"}], \"urls\": [], \"media\": [{\"source_user_id\": 52803520, \"source_status_id_str\": \"925183644578152448\", \"expanded_url\": \"https://twitter.com/astros/status/925183644578152448/video/1\", \"display_url\": \"pic.twitter.com/QH3wFDKMXQ\", \"url\": \"https://t.co/QH3wFDKMXQ\", \"media_url_https\": \"https://pbs.twimg.com/ext_tw_video_thumb/925183565972750336/pu/img/GwxSvcgIN8r_DwS7.jpg\", \"source_user_id_str\": \"52803520\", \"source_status_id\": 925183644578152448, \"id_str\": \"925183565972750336\", \"sizes\": {\"small\": {\"h\": 191, \"resize\": \"fit\", \"w\": 340}, \"large\": {\"h\": 576, \"resize\": \"fit\", \"w\": 1024}, \"medium\": {\"h\": 338, \"resize\": \"fit\", \"w\": 600}, \"thumb\": {\"h\": 150, \"resize\": \"crop\", \"w\": 150}}, \"indices\": [103, 126], \"type\": \"photo\", \"id\": 925183565972750336, \"media_url\": \"http://pbs.twimg.com/ext_tw_video_thumb/925183565972750336/pu/img/GwxSvcgIN8r_DwS7.jpg\"}]}, \"retweeted\": false, \"coordinates\": null, \"timestamp_ms\": \"1509417108998\", \"source\": \"<a href=\\\"http://twitter.com/download/android\\\" rel=\\\"nofollow\\\">Twitter for Android</a>\", \"in_reply_to_screen_name\": null, \"id_str\": \"925188528396488705\", \"retweet_count\": 0, \"in_reply_to_user_id\": null, \"favorited\": false, \"retweeted_status\": {\"quote_count\": 7, \"contributors\": null, \"truncated\": false, \"text\": \"\\u201cThese fans are ringside at one of the best boxing matches they\\u2019ll ever see!\\u201d #EarnHistory https://t.co/QH3wFDKMXQ\", \"is_quote_status\": false, \"in_reply_to_status_id\": null, \"reply_count\": 8, \"id\": 925183644578152448, \"favorite_count\": 549, \"entities\": {\"user_mentions\": [], \"symbols\": [], \"hashtags\": [{\"indices\": [78, 90], \"text\": \"EarnHistory\"}], \"urls\": [], \"media\": [{\"expanded_url\": \"https://twitter.com/astros/status/925183644578152448/video/1\", \"display_url\": \"pic.twitter.com/QH3wFDKMXQ\", \"url\": \"https://t.co/QH3wFDKMXQ\", \"media_url_https\": \"https://pbs.twimg.com/ext_tw_video_thumb/925183565972750336/pu/img/GwxSvcgIN8r_DwS7.jpg\", \"id_str\": \"925183565972750336\", \"sizes\": {\"small\": {\"h\": 191, \"resize\": \"fit\", \"w\": 340}, \"large\": {\"h\": 576, \"resize\": \"fit\", \"w\": 1024}, \"medium\": {\"h\": 338, \"resize\": \"fit\", \"w\": 600}, \"thumb\": {\"h\": 150, \"resize\": \"crop\", \"w\": 150}}, \"indices\": [91, 114], \"type\": \"photo\", \"id\": 925183565972750336, \"media_url\": \"http://pbs.twimg.com/ext_tw_video_thumb/925183565972750336/pu/img/GwxSvcgIN8r_DwS7.jpg\"}]}, \"retweeted\": false, \"coordinates\": null, \"source\": \"<a href=\\\"http://twitter.com/download/iphone\\\" rel=\\\"nofollow\\\">Twitter for iPhone</a>\", \"in_reply_to_screen_name\": null, \"id_str\": \"925183644578152448\", \"display_text_range\": [0, 90], \"retweet_count\": 121, \"in_reply_to_user_id\": null, \"favorited\": false, \"user\": {\"follow_request_sent\": null, \"profile_use_background_image\": true, \"default_profile_image\": false, \"id\": 52803520, \"default_profile\": false, \"verified\": true, \"profile_image_url_https\": \"https://pbs.twimg.com/profile_images/922849208570281986/4uh4yust_normal.jpg\", \"profile_sidebar_fill_color\": \"EBD4AC\", \"profile_text_color\": \"000000\", \"followers_count\": 1093201, \"profile_sidebar_border_color\": \"FFFFFF\", \"id_str\": \"52803520\", \"profile_background_color\": \"002D62\", \"listed_count\": 4213, \"profile_background_image_url_https\": \"https://pbs.twimg.com/profile_background_images/559481385501462529/ic-DODTn.jpeg\", \"utc_offset\": -18000, \"statuses_count\": 64990, \"description\": \"Official Twitter account of the Houston Astros. Customer service questions: @astrosassist. FB: Astros. IG: astrosbaseball. \\ud83d\\udc7b astros\", \"friends_count\": 665, \"location\": \"Minute Maid Park\", \"profile_link_color\": \"FF7700\", \"profile_image_url\": \"http://pbs.twimg.com/profile_images/922849208570281986/4uh4yust_normal.jpg\", \"following\": null, \"geo_enabled\": true, \"profile_banner_url\": \"https://pbs.twimg.com/profile_banners/52803520/1508859384\", \"profile_background_image_url\": \"http://pbs.twimg.com/profile_background_images/559481385501462529/ic-DODTn.jpeg\", \"name\": \"Houston Astros\", \"lang\": \"en\", \"profile_background_tile\": false, \"favourites_count\": 12312, \"screen_name\": \"astros\", \"notifications\": null, \"url\": \"http://Astros.com\", \"created_at\": \"Wed Jul 01 18:16:16 +0000 2009\", \"contributors_enabled\": false, \"time_zone\": \"Central Time (US & Canada)\", \"protected\": false, \"translator_type\": \"none\", \"is_translator\": false}, \"geo\": null, \"in_reply_to_user_id_str\": null, \"possibly_sensitive\": false, \"lang\": \"en\", \"created_at\": \"Tue Oct 31 02:12:24 +0000 2017\", \"filter_level\": \"low\", \"in_reply_to_status_id_str\": null, \"place\": null, \"extended_entities\": {\"media\": [{\"expanded_url\": \"https://twitter.com/astros/status/925183644578152448/video/1\", \"display_url\": \"pic.twitter.com/QH3wFDKMXQ\", \"url\": \"https://t.co/QH3wFDKMXQ\", \"media_url_https\": \"https://pbs.twimg.com/ext_tw_video_thumb/925183565972750336/pu/img/GwxSvcgIN8r_DwS7.jpg\", \"video_info\": {\"aspect_ratio\": [16, 9], \"duration_millis\": 28160, \"variants\": [{\"url\": \"https://video.twimg.com/ext_tw_video/925183565972750336/pu/pl/xC6dxRm9WRG9kIZv.m3u8\", \"content_type\": \"application/x-mpegURL\"}, {\"url\": \"https://video.twimg.com/ext_tw_video/925183565972750336/pu/vid/320x180/o7EM3q4gyB-_g2Y_.mp4\", \"bitrate\": 320000, \"content_type\": \"video/mp4\"}, {\"url\": \"https://video.twimg.com/ext_tw_video/925183565972750336/pu/vid/640x360/lbP4emygBmiYTwp0.mp4\", \"bitrate\": 832000, \"content_type\": \"video/mp4\"}, {\"url\": \"https://video.twimg.com/ext_tw_video/925183565972750336/pu/vid/1280x720/2GO5v6EspaPjwoNc.mp4\", \"bitrate\": 2176000, \"content_type\": \"video/mp4\"}]}, \"id_str\": \"925183565972750336\", \"sizes\": {\"small\": {\"h\": 191, \"resize\": \"fit\", \"w\": 340}, \"large\": {\"h\": 576, \"resize\": \"fit\", \"w\": 1024}, \"medium\": {\"h\": 338, \"resize\": \"fit\", \"w\": 600}, \"thumb\": {\"h\": 150, \"resize\": \"crop\", \"w\": 150}}, \"indices\": [91, 114], \"type\": \"video\", \"id\": 925183565972750336, \"media_url\": \"http://pbs.twimg.com/ext_tw_video_thumb/925183565972750336/pu/img/GwxSvcgIN8r_DwS7.jpg\"}]}}, \"user\": {\"follow_request_sent\": null, \"profile_use_background_image\": true, \"default_profile_image\": false, \"id\": 595578545, \"default_profile\": true, \"verified\": false, \"profile_image_url_https\": \"https://pbs.twimg.com/profile_images/924443807415926785/xdNz8-6x_normal.jpg\", \"profile_sidebar_fill_color\": \"DDEEF6\", \"profile_text_color\": \"333333\", \"followers_count\": 372, \"profile_sidebar_border_color\": \"C0DEED\", \"id_str\": \"595578545\", \"profile_background_color\": \"C0DEED\", \"listed_count\": 6, \"profile_background_image_url_https\": \"https://abs.twimg.com/images/themes/theme1/bg.png\", \"utc_offset\": -10800, \"statuses_count\": 11478, \"description\": \"Husband, Father and Gamer. Pittsburgh Penguins/ Toronto Blue Jays fan.\\nXbox and Psn - Reaper6181979\", \"friends_count\": 1029, \"location\": \"Burlington, Ontario\", \"profile_link_color\": \"1DA1F2\", \"profile_image_url\": \"http://pbs.twimg.com/profile_images/924443807415926785/xdNz8-6x_normal.jpg\", \"following\": null, \"geo_enabled\": false, \"profile_banner_url\": \"https://pbs.twimg.com/profile_banners/595578545/1509065293\", \"profile_background_image_url\": \"http://abs.twimg.com/images/themes/theme1/bg.png\", \"name\": \"HereThereEverywhere\", \"lang\": \"en\", \"profile_background_tile\": false, \"favourites_count\": 34770, \"screen_name\": \"GTM618\", \"notifications\": null, \"url\": \"http://www.pixelcereal.com/\", \"created_at\": \"Thu May 31 15:35:19 +0000 2012\", \"contributors_enabled\": false, \"time_zone\": \"Atlantic Time (Canada)\", \"protected\": false, \"translator_type\": \"none\", \"is_translator\": false}, \"geo\": null, \"in_reply_to_user_id_str\": null, \"possibly_sensitive\": false, \"lang\": \"en\", \"created_at\": \"Tue Oct 31 02:31:48 +0000 2017\", \"filter_level\": \"low\", \"in_reply_to_status_id_str\": null, \"place\": null, \"extended_entities\": {\"media\": [{\"source_user_id\": 52803520, \"source_status_id_str\": \"925183644578152448\", \"expanded_url\": \"https://twitter.com/astros/status/925183644578152448/video/1\", \"display_url\": \"pic.twitter.com/QH3wFDKMXQ\", \"url\": \"https://t.co/QH3wFDKMXQ\", \"media_url_https\": \"https://pbs.twimg.com/ext_tw_video_thumb/925183565972750336/pu/img/GwxSvcgIN8r_DwS7.jpg\", \"source_user_id_str\": \"52803520\", \"source_status_id\": 925183644578152448, \"video_info\": {\"aspect_ratio\": [16, 9], \"duration_millis\": 28160, \"variants\": [{\"url\": \"https://video.twimg.com/ext_tw_video/925183565972750336/pu/pl/xC6dxRm9WRG9kIZv.m3u8\", \"content_type\": \"application/x-mpegURL\"}, {\"url\": \"https://video.twimg.com/ext_tw_video/925183565972750336/pu/vid/320x180/o7EM3q4gyB-_g2Y_.mp4\", \"bitrate\": 320000, \"content_type\": \"video/mp4\"}, {\"url\": \"https://video.twimg.com/ext_tw_video/925183565972750336/pu/vid/640x360/lbP4emygBmiYTwp0.mp4\", \"bitrate\": 832000, \"content_type\": \"video/mp4\"}, {\"url\": \"https://video.twimg.com/ext_tw_video/925183565972750336/pu/vid/1280x720/2GO5v6EspaPjwoNc.mp4\", \"bitrate\": 2176000, \"content_type\": \"video/mp4\"}]}, \"id_str\": \"925183565972750336\", \"sizes\": {\"small\": {\"h\": 191, \"resize\": \"fit\", \"w\": 340}, \"large\": {\"h\": 576, \"resize\": \"fit\", \"w\": 1024}, \"medium\": {\"h\": 338, \"resize\": \"fit\", \"w\": 600}, \"thumb\": {\"h\": 150, \"resize\": \"crop\", \"w\": 150}}, \"indices\": [103, 126], \"type\": \"video\", \"id\": 925183565972750336, \"media_url\": \"http://pbs.twimg.com/ext_tw_video_thumb/925183565972750336/pu/img/GwxSvcgIN8r_DwS7.jpg\"}]}}\n"
     ]
    }
   ],
   "source": [
    "!head -2 mlb.json "
   ]
  },
  {
   "cell_type": "markdown",
   "metadata": {},
   "source": [
    "JSON data is pretty common these days, and Python makes it easy to work with.  Here's what it looks like from Python:"
   ]
  },
  {
   "cell_type": "code",
   "execution_count": 31,
   "metadata": {},
   "outputs": [],
   "source": [
    "!head -1 mlb.json > mlb1.json"
   ]
  },
  {
   "cell_type": "code",
   "execution_count": 32,
   "metadata": {},
   "outputs": [],
   "source": [
    "import json\n",
    "mlb = json.load(open(\"mlb1.json\"))"
   ]
  },
  {
   "cell_type": "code",
   "execution_count": 33,
   "metadata": {},
   "outputs": [
    {
     "data": {
      "text/plain": [
       "'GalaBeauty18'"
      ]
     },
     "execution_count": 33,
     "metadata": {},
     "output_type": "execute_result"
    }
   ],
   "source": [
    "mlb['user']['screen_name']"
   ]
  },
  {
   "cell_type": "code",
   "execution_count": 34,
   "metadata": {
    "tags": []
   },
   "outputs": [
    {
     "data": {
      "text/plain": [
       "538"
      ]
     },
     "execution_count": 34,
     "metadata": {},
     "output_type": "execute_result"
    }
   ],
   "source": [
    "mlb['user']['followers_count']"
   ]
  },
  {
   "cell_type": "code",
   "execution_count": 35,
   "metadata": {
    "collapsed": true,
    "jupyter": {
     "outputs_hidden": true
    },
    "tags": []
   },
   "outputs": [
    {
     "name": "stdout",
     "output_type": "stream",
     "text": [
      "{\n",
      "  \"quote_count\": 0,\n",
      "  \"contributors\": null,\n",
      "  \"truncated\": false,\n",
      "  \"text\": \"RT @themerkingmike: YOU TOOK A FAT ASS L https://t.co/g6MsLQxvRt\",\n",
      "  \"is_quote_status\": true,\n",
      "  \"in_reply_to_status_id\": null,\n",
      "  \"reply_count\": 0,\n",
      "  \"id\": 925188527125561350,\n",
      "  \"favorite_count\": 0,\n",
      "  \"entities\": {\n",
      "    \"user_mentions\": [\n",
      "      {\n",
      "        \"id\": 777708599019577344,\n",
      "        \"indices\": [\n",
      "          3,\n",
      "          18\n",
      "        ],\n",
      "        \"id_str\": \"777708599019577344\",\n",
      "        \"screen_name\": \"themerkingmike\",\n",
      "        \"name\": \"miguelito \\ud83d\\udc7b\"\n",
      "      }\n",
      "    ],\n",
      "    \"symbols\": [],\n",
      "    \"hashtags\": [],\n",
      "    \"urls\": [\n",
      "      {\n",
      "        \"url\": \"https://t.co/g6MsLQxvRt\",\n",
      "        \"indices\": [\n",
      "          41,\n",
      "          64\n",
      "        ],\n",
      "        \"expanded_url\": \"https://twitter.com/lizhabib/status/924403010033238016\",\n",
      "        \"display_url\": \"twitter.com/lizhabib/statu\\u2026\"\n",
      "      }\n",
      "    ]\n",
      "  },\n",
      "  \"quoted_status_id\": 924403010033238016,\n",
      "  \"retweeted\": false,\n",
      "  \"coordinates\": null,\n",
      "  \"timestamp_ms\": \"1509417108695\",\n",
      "  \"quoted_status\": {\n",
      "    \"quote_count\": 144,\n",
      "    \"contributors\": null,\n",
      "    \"truncated\": false,\n",
      "    \"text\": \"Forget the honeymoon! It\\u2019s the World Series for these Dodgers fans. #GAME4 https://t.co/BTgOzyivVL\",\n",
      "    \"is_quote_status\": false,\n",
      "    \"in_reply_to_status_id\": null,\n",
      "    \"reply_count\": 22,\n",
      "    \"id\": 924403010033238016,\n",
      "    \"favorite_count\": 1174,\n",
      "    \"entities\": {\n",
      "      \"user_mentions\": [],\n",
      "      \"symbols\": [],\n",
      "      \"hashtags\": [\n",
      "        {\n",
      "          \"indices\": [\n",
      "            68,\n",
      "            74\n",
      "          ],\n",
      "          \"text\": \"GAME4\"\n",
      "        }\n",
      "      ],\n",
      "      \"urls\": [],\n",
      "      \"media\": [\n",
      "        {\n",
      "          \"expanded_url\": \"https://twitter.com/LizHabib/status/924403010033238016/photo/1\",\n",
      "          \"display_url\": \"pic.twitter.com/BTgOzyivVL\",\n",
      "          \"url\": \"https://t.co/BTgOzyivVL\",\n",
      "          \"media_url_https\": \"https://pbs.twimg.com/media/DNQjo1LUMAAwq11.jpg\",\n",
      "          \"id_str\": \"924403007894073344\",\n",
      "          \"sizes\": {\n",
      "            \"large\": {\n",
      "              \"h\": 2048,\n",
      "              \"resize\": \"fit\",\n",
      "              \"w\": 1152\n",
      "            },\n",
      "            \"small\": {\n",
      "              \"h\": 680,\n",
      "              \"resize\": \"fit\",\n",
      "              \"w\": 383\n",
      "            },\n",
      "            \"medium\": {\n",
      "              \"h\": 1200,\n",
      "              \"resize\": \"fit\",\n",
      "              \"w\": 675\n",
      "            },\n",
      "            \"thumb\": {\n",
      "              \"h\": 150,\n",
      "              \"resize\": \"crop\",\n",
      "              \"w\": 150\n",
      "            }\n",
      "          },\n",
      "          \"indices\": [\n",
      "            75,\n",
      "            98\n",
      "          ],\n",
      "          \"type\": \"photo\",\n",
      "          \"id\": 924403007894073344,\n",
      "          \"media_url\": \"http://pbs.twimg.com/media/DNQjo1LUMAAwq11.jpg\"\n",
      "        }\n",
      "      ]\n",
      "    },\n",
      "    \"retweeted\": false,\n",
      "    \"coordinates\": null,\n",
      "    \"source\": \"<a href=\\\"http://twitter.com/download/iphone\\\" rel=\\\"nofollow\\\">Twitter for iPhone</a>\",\n",
      "    \"in_reply_to_screen_name\": null,\n",
      "    \"id_str\": \"924403010033238016\",\n",
      "    \"display_text_range\": [\n",
      "      0,\n",
      "      74\n",
      "    ],\n",
      "    \"retweet_count\": 284,\n",
      "    \"in_reply_to_user_id\": null,\n",
      "    \"favorited\": false,\n",
      "    \"user\": {\n",
      "      \"follow_request_sent\": null,\n",
      "      \"profile_use_background_image\": true,\n",
      "      \"default_profile_image\": false,\n",
      "      \"id\": 35563552,\n",
      "      \"default_profile\": false,\n",
      "      \"verified\": true,\n",
      "      \"profile_image_url_https\": \"https://pbs.twimg.com/profile_images/598217158762463232/24HmPah4_normal.jpg\",\n",
      "      \"profile_sidebar_fill_color\": \"DDEEF6\",\n",
      "      \"profile_text_color\": \"333333\",\n",
      "      \"followers_count\": 52251,\n",
      "      \"profile_sidebar_border_color\": \"C0DEED\",\n",
      "      \"id_str\": \"35563552\",\n",
      "      \"profile_background_color\": \"C0DEED\",\n",
      "      \"listed_count\": 558,\n",
      "      \"profile_background_image_url_https\": \"https://pbs.twimg.com/profile_background_images/224290718/IMG_0467.JPG\",\n",
      "      \"utc_offset\": -25200,\n",
      "      \"statuses_count\": 27200,\n",
      "      \"description\": \"Sports Anchor @FOXLA http://facebook.com/lizhabibtv http://Instagram.com/lizhabib Snap Liz.habib\",\n",
      "      \"friends_count\": 11514,\n",
      "      \"location\": \"Fox 11 - KTTV- Los Angeles\",\n",
      "      \"profile_link_color\": \"0084B4\",\n",
      "      \"profile_image_url\": \"http://pbs.twimg.com/profile_images/598217158762463232/24HmPah4_normal.jpg\",\n",
      "      \"following\": null,\n",
      "      \"geo_enabled\": false,\n",
      "      \"profile_banner_url\": \"https://pbs.twimg.com/profile_banners/35563552/1506493749\",\n",
      "      \"profile_background_image_url\": \"http://pbs.twimg.com/profile_background_images/224290718/IMG_0467.JPG\",\n",
      "      \"name\": \"Liz Habib\",\n",
      "      \"lang\": \"en\",\n",
      "      \"profile_background_tile\": true,\n",
      "      \"favourites_count\": 12830,\n",
      "      \"screen_name\": \"LizHabib\",\n",
      "      \"notifications\": null,\n",
      "      \"url\": \"http://www.foxla.com\",\n",
      "      \"created_at\": \"Sun Apr 26 21:00:21 +0000 2009\",\n",
      "      \"contributors_enabled\": false,\n",
      "      \"time_zone\": \"Pacific Time (US & Canada)\",\n",
      "      \"protected\": false,\n",
      "      \"translator_type\": \"none\",\n",
      "      \"is_translator\": false\n",
      "    },\n",
      "    \"geo\": null,\n",
      "    \"in_reply_to_user_id_str\": null,\n",
      "    \"possibly_sensitive\": false,\n",
      "    \"lang\": \"en\",\n",
      "    \"created_at\": \"Sat Oct 28 22:30:26 +0000 2017\",\n",
      "    \"filter_level\": \"low\",\n",
      "    \"in_reply_to_status_id_str\": null,\n",
      "    \"place\": null,\n",
      "    \"extended_entities\": {\n",
      "      \"media\": [\n",
      "        {\n",
      "          \"expanded_url\": \"https://twitter.com/LizHabib/status/924403010033238016/photo/1\",\n",
      "          \"display_url\": \"pic.twitter.com/BTgOzyivVL\",\n",
      "          \"url\": \"https://t.co/BTgOzyivVL\",\n",
      "          \"media_url_https\": \"https://pbs.twimg.com/media/DNQjo1LUMAAwq11.jpg\",\n",
      "          \"id_str\": \"924403007894073344\",\n",
      "          \"sizes\": {\n",
      "            \"large\": {\n",
      "              \"h\": 2048,\n",
      "              \"resize\": \"fit\",\n",
      "              \"w\": 1152\n",
      "            },\n",
      "            \"small\": {\n",
      "              \"h\": 680,\n",
      "              \"resize\": \"fit\",\n",
      "              \"w\": 383\n",
      "            },\n",
      "            \"medium\": {\n",
      "              \"h\": 1200,\n",
      "              \"resize\": \"fit\",\n",
      "              \"w\": 675\n",
      "            },\n",
      "            \"thumb\": {\n",
      "              \"h\": 150,\n",
      "              \"resize\": \"crop\",\n",
      "              \"w\": 150\n",
      "            }\n",
      "          },\n",
      "          \"indices\": [\n",
      "            75,\n",
      "            98\n",
      "          ],\n",
      "          \"type\": \"photo\",\n",
      "          \"id\": 924403007894073344,\n",
      "          \"media_url\": \"http://pbs.twimg.com/media/DNQjo1LUMAAwq11.jpg\"\n",
      "        }\n",
      "      ]\n",
      "    }\n",
      "  },\n",
      "  \"source\": \"<a href=\\\"http://twitter.com/download/iphone\\\" rel=\\\"nofollow\\\">Twitter for iPhone</a>\",\n",
      "  \"in_reply_to_screen_name\": null,\n",
      "  \"id_str\": \"925188527125561350\",\n",
      "  \"retweet_count\": 0,\n",
      "  \"in_reply_to_user_id\": null,\n",
      "  \"favorited\": false,\n",
      "  \"retweeted_status\": {\n",
      "    \"quote_count\": 41,\n",
      "    \"contributors\": null,\n",
      "    \"truncated\": false,\n",
      "    \"text\": \"YOU TOOK A FAT ASS L https://t.co/g6MsLQxvRt\",\n",
      "    \"is_quote_status\": true,\n",
      "    \"in_reply_to_status_id\": null,\n",
      "    \"reply_count\": 11,\n",
      "    \"id\": 924877767291932672,\n",
      "    \"favorite_count\": 7489,\n",
      "    \"entities\": {\n",
      "      \"user_mentions\": [],\n",
      "      \"symbols\": [],\n",
      "      \"hashtags\": [],\n",
      "      \"urls\": [\n",
      "        {\n",
      "          \"url\": \"https://t.co/g6MsLQxvRt\",\n",
      "          \"indices\": [\n",
      "            21,\n",
      "            44\n",
      "          ],\n",
      "          \"expanded_url\": \"https://twitter.com/lizhabib/status/924403010033238016\",\n",
      "          \"display_url\": \"twitter.com/lizhabib/statu\\u2026\"\n",
      "        }\n",
      "      ]\n",
      "    },\n",
      "    \"quoted_status_id\": 924403010033238016,\n",
      "    \"retweeted\": false,\n",
      "    \"coordinates\": null,\n",
      "    \"quoted_status\": {\n",
      "      \"quote_count\": 144,\n",
      "      \"contributors\": null,\n",
      "      \"truncated\": false,\n",
      "      \"text\": \"Forget the honeymoon! It\\u2019s the World Series for these Dodgers fans. #GAME4 https://t.co/BTgOzyivVL\",\n",
      "      \"is_quote_status\": false,\n",
      "      \"in_reply_to_status_id\": null,\n",
      "      \"reply_count\": 22,\n",
      "      \"id\": 924403010033238016,\n",
      "      \"favorite_count\": 1174,\n",
      "      \"entities\": {\n",
      "        \"user_mentions\": [],\n",
      "        \"symbols\": [],\n",
      "        \"hashtags\": [\n",
      "          {\n",
      "            \"indices\": [\n",
      "              68,\n",
      "              74\n",
      "            ],\n",
      "            \"text\": \"GAME4\"\n",
      "          }\n",
      "        ],\n",
      "        \"urls\": [],\n",
      "        \"media\": [\n",
      "          {\n",
      "            \"expanded_url\": \"https://twitter.com/LizHabib/status/924403010033238016/photo/1\",\n",
      "            \"display_url\": \"pic.twitter.com/BTgOzyivVL\",\n",
      "            \"url\": \"https://t.co/BTgOzyivVL\",\n",
      "            \"media_url_https\": \"https://pbs.twimg.com/media/DNQjo1LUMAAwq11.jpg\",\n",
      "            \"id_str\": \"924403007894073344\",\n",
      "            \"sizes\": {\n",
      "              \"large\": {\n",
      "                \"h\": 2048,\n",
      "                \"resize\": \"fit\",\n",
      "                \"w\": 1152\n",
      "              },\n",
      "              \"small\": {\n",
      "                \"h\": 680,\n",
      "                \"resize\": \"fit\",\n",
      "                \"w\": 383\n",
      "              },\n",
      "              \"medium\": {\n",
      "                \"h\": 1200,\n",
      "                \"resize\": \"fit\",\n",
      "                \"w\": 675\n",
      "              },\n",
      "              \"thumb\": {\n",
      "                \"h\": 150,\n",
      "                \"resize\": \"crop\",\n",
      "                \"w\": 150\n",
      "              }\n",
      "            },\n",
      "            \"indices\": [\n",
      "              75,\n",
      "              98\n",
      "            ],\n",
      "            \"type\": \"photo\",\n",
      "            \"id\": 924403007894073344,\n",
      "            \"media_url\": \"http://pbs.twimg.com/media/DNQjo1LUMAAwq11.jpg\"\n",
      "          }\n",
      "        ]\n",
      "      },\n",
      "      \"retweeted\": false,\n",
      "      \"coordinates\": null,\n",
      "      \"source\": \"<a href=\\\"http://twitter.com/download/iphone\\\" rel=\\\"nofollow\\\">Twitter for iPhone</a>\",\n",
      "      \"in_reply_to_screen_name\": null,\n",
      "      \"id_str\": \"924403010033238016\",\n",
      "      \"display_text_range\": [\n",
      "        0,\n",
      "        74\n",
      "      ],\n",
      "      \"retweet_count\": 284,\n",
      "      \"in_reply_to_user_id\": null,\n",
      "      \"favorited\": false,\n",
      "      \"user\": {\n",
      "        \"follow_request_sent\": null,\n",
      "        \"profile_use_background_image\": true,\n",
      "        \"default_profile_image\": false,\n",
      "        \"id\": 35563552,\n",
      "        \"default_profile\": false,\n",
      "        \"verified\": true,\n",
      "        \"profile_image_url_https\": \"https://pbs.twimg.com/profile_images/598217158762463232/24HmPah4_normal.jpg\",\n",
      "        \"profile_sidebar_fill_color\": \"DDEEF6\",\n",
      "        \"profile_text_color\": \"333333\",\n",
      "        \"followers_count\": 52251,\n",
      "        \"profile_sidebar_border_color\": \"C0DEED\",\n",
      "        \"id_str\": \"35563552\",\n",
      "        \"profile_background_color\": \"C0DEED\",\n",
      "        \"listed_count\": 558,\n",
      "        \"profile_background_image_url_https\": \"https://pbs.twimg.com/profile_background_images/224290718/IMG_0467.JPG\",\n",
      "        \"utc_offset\": -25200,\n",
      "        \"statuses_count\": 27200,\n",
      "        \"description\": \"Sports Anchor @FOXLA http://facebook.com/lizhabibtv http://Instagram.com/lizhabib Snap Liz.habib\",\n",
      "        \"friends_count\": 11514,\n",
      "        \"location\": \"Fox 11 - KTTV- Los Angeles\",\n",
      "        \"profile_link_color\": \"0084B4\",\n",
      "        \"profile_image_url\": \"http://pbs.twimg.com/profile_images/598217158762463232/24HmPah4_normal.jpg\",\n",
      "        \"following\": null,\n",
      "        \"geo_enabled\": false,\n",
      "        \"profile_banner_url\": \"https://pbs.twimg.com/profile_banners/35563552/1506493749\",\n",
      "        \"profile_background_image_url\": \"http://pbs.twimg.com/profile_background_images/224290718/IMG_0467.JPG\",\n",
      "        \"name\": \"Liz Habib\",\n",
      "        \"lang\": \"en\",\n",
      "        \"profile_background_tile\": true,\n",
      "        \"favourites_count\": 12830,\n",
      "        \"screen_name\": \"LizHabib\",\n",
      "        \"notifications\": null,\n",
      "        \"url\": \"http://www.foxla.com\",\n",
      "        \"created_at\": \"Sun Apr 26 21:00:21 +0000 2009\",\n",
      "        \"contributors_enabled\": false,\n",
      "        \"time_zone\": \"Pacific Time (US & Canada)\",\n",
      "        \"protected\": false,\n",
      "        \"translator_type\": \"none\",\n",
      "        \"is_translator\": false\n",
      "      },\n",
      "      \"geo\": null,\n",
      "      \"in_reply_to_user_id_str\": null,\n",
      "      \"possibly_sensitive\": false,\n",
      "      \"lang\": \"en\",\n",
      "      \"created_at\": \"Sat Oct 28 22:30:26 +0000 2017\",\n",
      "      \"filter_level\": \"low\",\n",
      "      \"in_reply_to_status_id_str\": null,\n",
      "      \"place\": null,\n",
      "      \"extended_entities\": {\n",
      "        \"media\": [\n",
      "          {\n",
      "            \"expanded_url\": \"https://twitter.com/LizHabib/status/924403010033238016/photo/1\",\n",
      "            \"display_url\": \"pic.twitter.com/BTgOzyivVL\",\n",
      "            \"url\": \"https://t.co/BTgOzyivVL\",\n",
      "            \"media_url_https\": \"https://pbs.twimg.com/media/DNQjo1LUMAAwq11.jpg\",\n",
      "            \"id_str\": \"924403007894073344\",\n",
      "            \"sizes\": {\n",
      "              \"large\": {\n",
      "                \"h\": 2048,\n",
      "                \"resize\": \"fit\",\n",
      "                \"w\": 1152\n",
      "              },\n",
      "              \"small\": {\n",
      "                \"h\": 680,\n",
      "                \"resize\": \"fit\",\n",
      "                \"w\": 383\n",
      "              },\n",
      "              \"medium\": {\n",
      "                \"h\": 1200,\n",
      "                \"resize\": \"fit\",\n",
      "                \"w\": 675\n",
      "              },\n",
      "              \"thumb\": {\n",
      "                \"h\": 150,\n",
      "                \"resize\": \"crop\",\n",
      "                \"w\": 150\n",
      "              }\n",
      "            },\n",
      "            \"indices\": [\n",
      "              75,\n",
      "              98\n",
      "            ],\n",
      "            \"type\": \"photo\",\n",
      "            \"id\": 924403007894073344,\n",
      "            \"media_url\": \"http://pbs.twimg.com/media/DNQjo1LUMAAwq11.jpg\"\n",
      "          }\n",
      "        ]\n",
      "      }\n",
      "    },\n",
      "    \"source\": \"<a href=\\\"http://twitter.com/download/iphone\\\" rel=\\\"nofollow\\\">Twitter for iPhone</a>\",\n",
      "    \"in_reply_to_screen_name\": null,\n",
      "    \"id_str\": \"924877767291932672\",\n",
      "    \"display_text_range\": [\n",
      "      0,\n",
      "      20\n",
      "    ],\n",
      "    \"retweet_count\": 3042,\n",
      "    \"in_reply_to_user_id\": null,\n",
      "    \"favorited\": false,\n",
      "    \"user\": {\n",
      "      \"follow_request_sent\": null,\n",
      "      \"profile_use_background_image\": true,\n",
      "      \"default_profile_image\": false,\n",
      "      \"id\": 777708599019577344,\n",
      "      \"default_profile\": true,\n",
      "      \"verified\": false,\n",
      "      \"profile_image_url_https\": \"https://pbs.twimg.com/profile_images/918542641419177986/6g9hFeDB_normal.jpg\",\n",
      "      \"profile_sidebar_fill_color\": \"DDEEF6\",\n",
      "      \"profile_text_color\": \"333333\",\n",
      "      \"followers_count\": 1097,\n",
      "      \"profile_sidebar_border_color\": \"C0DEED\",\n",
      "      \"id_str\": \"777708599019577344\",\n",
      "      \"profile_background_color\": \"F5F8FA\",\n",
      "      \"listed_count\": 5,\n",
      "      \"profile_background_image_url_https\": \"\",\n",
      "      \"utc_offset\": null,\n",
      "      \"statuses_count\": 2019,\n",
      "      \"description\": \"Houston \\ud83d\\ude80\",\n",
      "      \"friends_count\": 993,\n",
      "      \"location\": \"Houston, TX\",\n",
      "      \"profile_link_color\": \"1DA1F2\",\n",
      "      \"profile_image_url\": \"http://pbs.twimg.com/profile_images/918542641419177986/6g9hFeDB_normal.jpg\",\n",
      "      \"following\": null,\n",
      "      \"geo_enabled\": false,\n",
      "      \"profile_banner_url\": \"https://pbs.twimg.com/profile_banners/777708599019577344/1509336857\",\n",
      "      \"profile_background_image_url\": \"\",\n",
      "      \"name\": \"miguelito \\ud83d\\udc7b\",\n",
      "      \"lang\": \"en\",\n",
      "      \"profile_background_tile\": false,\n",
      "      \"favourites_count\": 1813,\n",
      "      \"screen_name\": \"themerkingmike\",\n",
      "      \"notifications\": null,\n",
      "      \"url\": null,\n",
      "      \"created_at\": \"Mon Sep 19 03:19:13 +0000 2016\",\n",
      "      \"contributors_enabled\": false,\n",
      "      \"time_zone\": null,\n",
      "      \"protected\": false,\n",
      "      \"translator_type\": \"none\",\n",
      "      \"is_translator\": false\n",
      "    },\n",
      "    \"geo\": null,\n",
      "    \"in_reply_to_user_id_str\": null,\n",
      "    \"possibly_sensitive\": false,\n",
      "    \"lang\": \"en\",\n",
      "    \"created_at\": \"Mon Oct 30 05:56:57 +0000 2017\",\n",
      "    \"quoted_status_id_str\": \"924403010033238016\",\n",
      "    \"filter_level\": \"low\",\n",
      "    \"in_reply_to_status_id_str\": null,\n",
      "    \"place\": null\n",
      "  },\n",
      "  \"user\": {\n",
      "    \"follow_request_sent\": null,\n",
      "    \"profile_use_background_image\": true,\n",
      "    \"default_profile_image\": false,\n",
      "    \"id\": 191264479,\n",
      "    \"default_profile\": false,\n",
      "    \"verified\": false,\n",
      "    \"profile_image_url_https\": \"https://pbs.twimg.com/profile_images/925188370418077697/eh5JtIU2_normal.jpg\",\n",
      "    \"profile_sidebar_fill_color\": \"E5507E\",\n",
      "    \"profile_text_color\": \"362720\",\n",
      "    \"followers_count\": 538,\n",
      "    \"profile_sidebar_border_color\": \"CC3366\",\n",
      "    \"id_str\": \"191264479\",\n",
      "    \"profile_background_color\": \"FF6699\",\n",
      "    \"listed_count\": 2,\n",
      "    \"profile_background_image_url_https\": \"https://abs.twimg.com/images/themes/theme11/bg.gif\",\n",
      "    \"utc_offset\": -14400,\n",
      "    \"statuses_count\": 12069,\n",
      "    \"description\": \"Abanoub Makary Agaiby \\u2764\\ufe0f\",\n",
      "    \"friends_count\": 385,\n",
      "    \"location\": \"With my noodle\\u2764\\ufe0f\",\n",
      "    \"profile_link_color\": \"B40B43\",\n",
      "    \"profile_image_url\": \"http://pbs.twimg.com/profile_images/925188370418077697/eh5JtIU2_normal.jpg\",\n",
      "    \"following\": null,\n",
      "    \"geo_enabled\": true,\n",
      "    \"profile_banner_url\": \"https://pbs.twimg.com/profile_banners/191264479/1498288321\",\n",
      "    \"profile_background_image_url\": \"http://abs.twimg.com/images/themes/theme11/bg.gif\",\n",
      "    \"name\": \"KeepingUpWithGala\\ud83c\\udf3b\",\n",
      "    \"lang\": \"en\",\n",
      "    \"profile_background_tile\": true,\n",
      "    \"favourites_count\": 7445,\n",
      "    \"screen_name\": \"GalaBeauty18\",\n",
      "    \"notifications\": null,\n",
      "    \"url\": \"https://Galabrunini.sarahah.com\",\n",
      "    \"created_at\": \"Thu Sep 16 00:51:21 +0000 2010\",\n",
      "    \"contributors_enabled\": false,\n",
      "    \"time_zone\": \"Eastern Time (US & Canada)\",\n",
      "    \"protected\": false,\n",
      "    \"translator_type\": \"none\",\n",
      "    \"is_translator\": false\n",
      "  },\n",
      "  \"geo\": null,\n",
      "  \"in_reply_to_user_id_str\": null,\n",
      "  \"possibly_sensitive\": false,\n",
      "  \"lang\": \"en\",\n",
      "  \"created_at\": \"Tue Oct 31 02:31:48 +0000 2017\",\n",
      "  \"quoted_status_id_str\": \"924403010033238016\",\n",
      "  \"filter_level\": \"low\",\n",
      "  \"in_reply_to_status_id_str\": null,\n",
      "  \"place\": null\n",
      "}\n"
     ]
    }
   ],
   "source": [
    "print(json.dumps(mlb, indent=2))"
   ]
  },
  {
   "cell_type": "markdown",
   "metadata": {},
   "source": [
    "Okay, that's a tour of one tweet.  Let's look at a lot more."
   ]
  },
  {
   "cell_type": "code",
   "execution_count": 16,
   "metadata": {},
   "outputs": [
    {
     "name": "stderr",
     "output_type": "stream",
     "text": [
      "21/11/06 20:50:46 WARN package: Truncated the string representation of a plan since it was too large. This behavior can be adjusted by setting 'spark.sql.debug.maxToStringFields'.\n"
     ]
    }
   ],
   "source": [
    "mlb = sqlc.read.json(\"mlb.json\")"
   ]
  },
  {
   "cell_type": "code",
   "execution_count": 49,
   "metadata": {
    "collapsed": true,
    "jupyter": {
     "outputs_hidden": true
    },
    "tags": []
   },
   "outputs": [
    {
     "data": {
      "text/plain": [
       "DataFrame[contributors: string, coordinates: struct<coordinates:array<double>,type:string>, created_at: string, display_text_range: array<bigint>, entities: struct<hashtags:array<struct<indices:array<bigint>,text:string>>,media:array<struct<display_url:string,expanded_url:string,id:bigint,id_str:string,indices:array<bigint>,media_url:string,media_url_https:string,sizes:struct<large:struct<h:bigint,resize:string,w:bigint>,medium:struct<h:bigint,resize:string,w:bigint>,small:struct<h:bigint,resize:string,w:bigint>,thumb:struct<h:bigint,resize:string,w:bigint>>,source_status_id:bigint,source_status_id_str:string,source_user_id:bigint,source_user_id_str:string,type:string,url:string>>,symbols:array<struct<indices:array<bigint>,text:string>>,urls:array<struct<display_url:string,expanded_url:string,indices:array<bigint>,url:string>>,user_mentions:array<struct<id:bigint,id_str:string,indices:array<bigint>,name:string,screen_name:string>>>, extended_entities: struct<media:array<struct<display_url:string,expanded_url:string,id:bigint,id_str:string,indices:array<bigint>,media_url:string,media_url_https:string,sizes:struct<large:struct<h:bigint,resize:string,w:bigint>,medium:struct<h:bigint,resize:string,w:bigint>,small:struct<h:bigint,resize:string,w:bigint>,thumb:struct<h:bigint,resize:string,w:bigint>>,source_status_id:bigint,source_status_id_str:string,source_user_id:bigint,source_user_id_str:string,type:string,url:string,video_info:struct<aspect_ratio:array<bigint>,duration_millis:bigint,variants:array<struct<bitrate:bigint,content_type:string,url:string>>>>>>, extended_tweet: struct<display_text_range:array<bigint>,entities:struct<hashtags:array<struct<indices:array<bigint>,text:string>>,media:array<struct<description:string,display_url:string,expanded_url:string,id:bigint,id_str:string,indices:array<bigint>,media_url:string,media_url_https:string,sizes:struct<large:struct<h:bigint,resize:string,w:bigint>,medium:struct<h:bigint,resize:string,w:bigint>,small:struct<h:bigint,resize:string,w:bigint>,thumb:struct<h:bigint,resize:string,w:bigint>>,source_status_id:bigint,source_status_id_str:string,source_user_id:bigint,source_user_id_str:string,type:string,url:string,video_info:struct<aspect_ratio:array<bigint>,duration_millis:bigint,variants:array<struct<bitrate:bigint,content_type:string,url:string>>>>>,symbols:array<string>,urls:array<struct<display_url:string,expanded_url:string,indices:array<bigint>,url:string>>,user_mentions:array<struct<id:bigint,id_str:string,indices:array<bigint>,name:string,screen_name:string>>>,extended_entities:struct<media:array<struct<description:string,display_url:string,expanded_url:string,id:bigint,id_str:string,indices:array<bigint>,media_url:string,media_url_https:string,sizes:struct<large:struct<h:bigint,resize:string,w:bigint>,medium:struct<h:bigint,resize:string,w:bigint>,small:struct<h:bigint,resize:string,w:bigint>,thumb:struct<h:bigint,resize:string,w:bigint>>,source_status_id:bigint,source_status_id_str:string,source_user_id:bigint,source_user_id_str:string,type:string,url:string,video_info:struct<aspect_ratio:array<bigint>,duration_millis:bigint,variants:array<struct<bitrate:bigint,content_type:string,url:string>>>>>>,full_text:string>, favorite_count: bigint, favorited: boolean, filter_level: string, geo: struct<coordinates:array<double>,type:string>, id: bigint, id_str: string, in_reply_to_screen_name: string, in_reply_to_status_id: bigint, in_reply_to_status_id_str: string, in_reply_to_user_id: bigint, in_reply_to_user_id_str: string, is_quote_status: boolean, lang: string, place: struct<bounding_box:struct<coordinates:array<array<array<double>>>,type:string>,country:string,country_code:string,full_name:string,id:string,name:string,place_type:string,url:string>, possibly_sensitive: boolean, quote_count: bigint, quoted_status: struct<contributors:string,coordinates:struct<coordinates:array<double>,type:string>,created_at:string,display_text_range:array<bigint>,entities:struct<hashtags:array<struct<indices:array<bigint>,text:string>>,media:array<struct<display_url:string,expanded_url:string,id:bigint,id_str:string,indices:array<bigint>,media_url:string,media_url_https:string,sizes:struct<large:struct<h:bigint,resize:string,w:bigint>,medium:struct<h:bigint,resize:string,w:bigint>,small:struct<h:bigint,resize:string,w:bigint>,thumb:struct<h:bigint,resize:string,w:bigint>>,source_status_id:bigint,source_status_id_str:string,source_user_id:bigint,source_user_id_str:string,type:string,url:string>>,symbols:array<string>,urls:array<struct<display_url:string,expanded_url:string,indices:array<bigint>,url:string>>,user_mentions:array<struct<id:bigint,id_str:string,indices:array<bigint>,name:string,screen_name:string>>>,extended_entities:struct<media:array<struct<display_url:string,expanded_url:string,id:bigint,id_str:string,indices:array<bigint>,media_url:string,media_url_https:string,sizes:struct<large:struct<h:bigint,resize:string,w:bigint>,medium:struct<h:bigint,resize:string,w:bigint>,small:struct<h:bigint,resize:string,w:bigint>,thumb:struct<h:bigint,resize:string,w:bigint>>,source_status_id:bigint,source_status_id_str:string,source_user_id:bigint,source_user_id_str:string,type:string,url:string,video_info:struct<aspect_ratio:array<bigint>,duration_millis:bigint,variants:array<struct<bitrate:bigint,content_type:string,url:string>>>>>>,extended_tweet:struct<display_text_range:array<bigint>,entities:struct<hashtags:array<struct<indices:array<bigint>,text:string>>,media:array<struct<display_url:string,expanded_url:string,id:bigint,id_str:string,indices:array<bigint>,media_url:string,media_url_https:string,sizes:struct<large:struct<h:bigint,resize:string,w:bigint>,medium:struct<h:bigint,resize:string,w:bigint>,small:struct<h:bigint,resize:string,w:bigint>,thumb:struct<h:bigint,resize:string,w:bigint>>,source_status_id:bigint,source_status_id_str:string,source_user_id:bigint,source_user_id_str:string,type:string,url:string,video_info:struct<aspect_ratio:array<bigint>,duration_millis:bigint,variants:array<struct<bitrate:bigint,content_type:string,url:string>>>>>,symbols:array<string>,urls:array<struct<display_url:string,expanded_url:string,indices:array<bigint>,url:string>>,user_mentions:array<struct<id:bigint,id_str:string,indices:array<bigint>,name:string,screen_name:string>>>,extended_entities:struct<media:array<struct<display_url:string,expanded_url:string,id:bigint,id_str:string,indices:array<bigint>,media_url:string,media_url_https:string,sizes:struct<large:struct<h:bigint,resize:string,w:bigint>,medium:struct<h:bigint,resize:string,w:bigint>,small:struct<h:bigint,resize:string,w:bigint>,thumb:struct<h:bigint,resize:string,w:bigint>>,source_status_id:bigint,source_status_id_str:string,source_user_id:bigint,source_user_id_str:string,type:string,url:string,video_info:struct<aspect_ratio:array<bigint>,duration_millis:bigint,variants:array<struct<bitrate:bigint,content_type:string,url:string>>>>>>,full_text:string>,favorite_count:bigint,favorited:boolean,filter_level:string,geo:struct<coordinates:array<double>,type:string>,id:bigint,id_str:string,in_reply_to_screen_name:string,in_reply_to_status_id:bigint,in_reply_to_status_id_str:string,in_reply_to_user_id:bigint,in_reply_to_user_id_str:string,is_quote_status:boolean,lang:string,place:struct<bounding_box:struct<coordinates:array<array<array<double>>>,type:string>,country:string,country_code:string,full_name:string,id:string,name:string,place_type:string,url:string>,possibly_sensitive:boolean,quote_count:bigint,quoted_status_id:bigint,quoted_status_id_str:string,reply_count:bigint,retweet_count:bigint,retweeted:boolean,scopes:struct<followers:boolean>,source:string,text:string,truncated:boolean,user:struct<contributors_enabled:boolean,created_at:string,default_profile:boolean,default_profile_image:boolean,description:string,favourites_count:bigint,follow_request_sent:string,followers_count:bigint,following:string,friends_count:bigint,geo_enabled:boolean,id:bigint,id_str:string,is_translator:boolean,lang:string,listed_count:bigint,location:string,name:string,notifications:string,profile_background_color:string,profile_background_image_url:string,profile_background_image_url_https:string,profile_background_tile:boolean,profile_banner_url:string,profile_image_url:string,profile_image_url_https:string,profile_link_color:string,profile_sidebar_border_color:string,profile_sidebar_fill_color:string,profile_text_color:string,profile_use_background_image:boolean,protected:boolean,screen_name:string,statuses_count:bigint,time_zone:string,translator_type:string,url:string,utc_offset:bigint,verified:boolean>>, quoted_status_id: bigint, quoted_status_id_str: string, reply_count: bigint, retweet_count: bigint, retweeted: boolean, retweeted_status: struct<contributors:string,coordinates:struct<coordinates:array<double>,type:string>,created_at:string,display_text_range:array<bigint>,entities:struct<hashtags:array<struct<indices:array<bigint>,text:string>>,media:array<struct<display_url:string,expanded_url:string,id:bigint,id_str:string,indices:array<bigint>,media_url:string,media_url_https:string,sizes:struct<large:struct<h:bigint,resize:string,w:bigint>,medium:struct<h:bigint,resize:string,w:bigint>,small:struct<h:bigint,resize:string,w:bigint>,thumb:struct<h:bigint,resize:string,w:bigint>>,source_status_id:bigint,source_status_id_str:string,source_user_id:bigint,source_user_id_str:string,type:string,url:string>>,symbols:array<struct<indices:array<bigint>,text:string>>,urls:array<struct<display_url:string,expanded_url:string,indices:array<bigint>,url:string>>,user_mentions:array<struct<id:bigint,id_str:string,indices:array<bigint>,name:string,screen_name:string>>>,extended_entities:struct<media:array<struct<display_url:string,expanded_url:string,id:bigint,id_str:string,indices:array<bigint>,media_url:string,media_url_https:string,sizes:struct<large:struct<h:bigint,resize:string,w:bigint>,medium:struct<h:bigint,resize:string,w:bigint>,small:struct<h:bigint,resize:string,w:bigint>,thumb:struct<h:bigint,resize:string,w:bigint>>,source_status_id:bigint,source_status_id_str:string,source_user_id:bigint,source_user_id_str:string,type:string,url:string,video_info:struct<aspect_ratio:array<bigint>,duration_millis:bigint,variants:array<struct<bitrate:bigint,content_type:string,url:string>>>>>>,extended_tweet:struct<display_text_range:array<bigint>,entities:struct<hashtags:array<struct<indices:array<bigint>,text:string>>,media:array<struct<description:string,display_url:string,expanded_url:string,id:bigint,id_str:string,indices:array<bigint>,media_url:string,media_url_https:string,sizes:struct<large:struct<h:bigint,resize:string,w:bigint>,medium:struct<h:bigint,resize:string,w:bigint>,small:struct<h:bigint,resize:string,w:bigint>,thumb:struct<h:bigint,resize:string,w:bigint>>,source_status_id:bigint,source_status_id_str:string,source_user_id:bigint,source_user_id_str:string,type:string,url:string,video_info:struct<aspect_ratio:array<bigint>,duration_millis:bigint,variants:array<struct<bitrate:bigint,content_type:string,url:string>>>>>,symbols:array<string>,urls:array<struct<display_url:string,expanded_url:string,indices:array<bigint>,url:string>>,user_mentions:array<struct<id:bigint,id_str:string,indices:array<bigint>,name:string,screen_name:string>>>,extended_entities:struct<media:array<struct<description:string,display_url:string,expanded_url:string,id:bigint,id_str:string,indices:array<bigint>,media_url:string,media_url_https:string,sizes:struct<large:struct<h:bigint,resize:string,w:bigint>,medium:struct<h:bigint,resize:string,w:bigint>,small:struct<h:bigint,resize:string,w:bigint>,thumb:struct<h:bigint,resize:string,w:bigint>>,source_status_id:bigint,source_status_id_str:string,source_user_id:bigint,source_user_id_str:string,type:string,url:string,video_info:struct<aspect_ratio:array<bigint>,duration_millis:bigint,variants:array<struct<bitrate:bigint,content_type:string,url:string>>>>>>,full_text:string>,favorite_count:bigint,favorited:boolean,filter_level:string,geo:struct<coordinates:array<double>,type:string>,id:bigint,id_str:string,in_reply_to_screen_name:string,in_reply_to_status_id:bigint,in_reply_to_status_id_str:string,in_reply_to_user_id:bigint,in_reply_to_user_id_str:string,is_quote_status:boolean,lang:string,place:struct<bounding_box:struct<coordinates:array<array<array<double>>>,type:string>,country:string,country_code:string,full_name:string,id:string,name:string,place_type:string,url:string>,possibly_sensitive:boolean,quote_count:bigint,quoted_status:struct<contributors:string,coordinates:struct<coordinates:array<double>,type:string>,created_at:string,display_text_range:array<bigint>,entities:struct<hashtags:array<struct<indices:array<bigint>,text:string>>,media:array<struct<display_url:string,expanded_url:string,id:bigint,id_str:string,indices:array<bigint>,media_url:string,media_url_https:string,sizes:struct<large:struct<h:bigint,resize:string,w:bigint>,medium:struct<h:bigint,resize:string,w:bigint>,small:struct<h:bigint,resize:string,w:bigint>,thumb:struct<h:bigint,resize:string,w:bigint>>,source_status_id:bigint,source_status_id_str:string,source_user_id:bigint,source_user_id_str:string,type:string,url:string>>,symbols:array<string>,urls:array<struct<display_url:string,expanded_url:string,indices:array<bigint>,url:string>>,user_mentions:array<struct<id:bigint,id_str:string,indices:array<bigint>,name:string,screen_name:string>>>,extended_entities:struct<media:array<struct<display_url:string,expanded_url:string,id:bigint,id_str:string,indices:array<bigint>,media_url:string,media_url_https:string,sizes:struct<large:struct<h:bigint,resize:string,w:bigint>,medium:struct<h:bigint,resize:string,w:bigint>,small:struct<h:bigint,resize:string,w:bigint>,thumb:struct<h:bigint,resize:string,w:bigint>>,source_status_id:bigint,source_status_id_str:string,source_user_id:bigint,source_user_id_str:string,type:string,url:string,video_info:struct<aspect_ratio:array<bigint>,duration_millis:bigint,variants:array<struct<bitrate:bigint,content_type:string,url:string>>>>>>,extended_tweet:struct<display_text_range:array<bigint>,entities:struct<hashtags:array<struct<indices:array<bigint>,text:string>>,media:array<struct<display_url:string,expanded_url:string,id:bigint,id_str:string,indices:array<bigint>,media_url:string,media_url_https:string,sizes:struct<large:struct<h:bigint,resize:string,w:bigint>,medium:struct<h:bigint,resize:string,w:bigint>,small:struct<h:bigint,resize:string,w:bigint>,thumb:struct<h:bigint,resize:string,w:bigint>>,source_status_id:bigint,source_status_id_str:string,source_user_id:bigint,source_user_id_str:string,type:string,url:string,video_info:struct<aspect_ratio:array<bigint>,duration_millis:bigint,variants:array<struct<bitrate:bigint,content_type:string,url:string>>>>>,symbols:array<string>,urls:array<struct<display_url:string,expanded_url:string,indices:array<bigint>,url:string>>,user_mentions:array<struct<id:bigint,id_str:string,indices:array<bigint>,name:string,screen_name:string>>>,extended_entities:struct<media:array<struct<display_url:string,expanded_url:string,id:bigint,id_str:string,indices:array<bigint>,media_url:string,media_url_https:string,sizes:struct<large:struct<h:bigint,resize:string,w:bigint>,medium:struct<h:bigint,resize:string,w:bigint>,small:struct<h:bigint,resize:string,w:bigint>,thumb:struct<h:bigint,resize:string,w:bigint>>,source_status_id:bigint,source_status_id_str:string,source_user_id:bigint,source_user_id_str:string,type:string,url:string,video_info:struct<aspect_ratio:array<bigint>,duration_millis:bigint,variants:array<struct<bitrate:bigint,content_type:string,url:string>>>>>>,full_text:string>,favorite_count:bigint,favorited:boolean,filter_level:string,geo:struct<coordinates:array<double>,type:string>,id:bigint,id_str:string,in_reply_to_screen_name:string,in_reply_to_status_id:bigint,in_reply_to_status_id_str:string,in_reply_to_user_id:bigint,in_reply_to_user_id_str:string,is_quote_status:boolean,lang:string,place:struct<bounding_box:struct<coordinates:array<array<array<double>>>,type:string>,country:string,country_code:string,full_name:string,id:string,name:string,place_type:string,url:string>,possibly_sensitive:boolean,quote_count:bigint,quoted_status_id:bigint,quoted_status_id_str:string,reply_count:bigint,retweet_count:bigint,retweeted:boolean,source:string,text:string,truncated:boolean,user:struct<contributors_enabled:boolean,created_at:string,default_profile:boolean,default_profile_image:boolean,description:string,favourites_count:bigint,follow_request_sent:string,followers_count:bigint,following:string,friends_count:bigint,geo_enabled:boolean,id:bigint,id_str:string,is_translator:boolean,lang:string,listed_count:bigint,location:string,name:string,notifications:string,profile_background_color:string,profile_background_image_url:string,profile_background_image_url_https:string,profile_background_tile:boolean,profile_banner_url:string,profile_image_url:string,profile_image_url_https:string,profile_link_color:string,profile_sidebar_border_color:string,profile_sidebar_fill_color:string,profile_text_color:string,profile_use_background_image:boolean,protected:boolean,screen_name:string,statuses_count:bigint,time_zone:string,translator_type:string,url:string,utc_offset:bigint,verified:boolean>>,quoted_status_id:bigint,quoted_status_id_str:string,reply_count:bigint,retweet_count:bigint,retweeted:boolean,scopes:struct<followers:boolean>,source:string,text:string,truncated:boolean,user:struct<contributors_enabled:boolean,created_at:string,default_profile:boolean,default_profile_image:boolean,description:string,favourites_count:bigint,follow_request_sent:string,followers_count:bigint,following:string,friends_count:bigint,geo_enabled:boolean,id:bigint,id_str:string,is_translator:boolean,lang:string,listed_count:bigint,location:string,name:string,notifications:string,profile_background_color:string,profile_background_image_url:string,profile_background_image_url_https:string,profile_background_tile:boolean,profile_banner_url:string,profile_image_url:string,profile_image_url_https:string,profile_link_color:string,profile_sidebar_border_color:string,profile_sidebar_fill_color:string,profile_text_color:string,profile_use_background_image:boolean,protected:boolean,screen_name:string,statuses_count:bigint,time_zone:string,translator_type:string,url:string,utc_offset:bigint,verified:boolean>>, source: string, text: string, timestamp_ms: string, truncated: boolean, user: struct<contributors_enabled:boolean,created_at:string,default_profile:boolean,default_profile_image:boolean,description:string,favourites_count:bigint,follow_request_sent:string,followers_count:bigint,following:string,friends_count:bigint,geo_enabled:boolean,id:bigint,id_str:string,is_translator:boolean,lang:string,listed_count:bigint,location:string,name:string,notifications:string,profile_background_color:string,profile_background_image_url:string,profile_background_image_url_https:string,profile_background_tile:boolean,profile_banner_url:string,profile_image_url:string,profile_image_url_https:string,profile_link_color:string,profile_sidebar_border_color:string,profile_sidebar_fill_color:string,profile_text_color:string,profile_use_background_image:boolean,protected:boolean,screen_name:string,statuses_count:bigint,time_zone:string,translator_type:string,url:string,utc_offset:bigint,verified:boolean>]"
      ]
     },
     "execution_count": 49,
     "metadata": {},
     "output_type": "execute_result"
    }
   ],
   "source": [
    "mlb"
   ]
  },
  {
   "cell_type": "code",
   "execution_count": 50,
   "metadata": {},
   "outputs": [
    {
     "name": "stderr",
     "output_type": "stream",
     "text": [
      "                                                                                \r"
     ]
    },
    {
     "data": {
      "text/plain": [
       "100000"
      ]
     },
     "execution_count": 50,
     "metadata": {},
     "output_type": "execute_result"
    }
   ],
   "source": [
    "mlb.count()"
   ]
  },
  {
   "cell_type": "code",
   "execution_count": 51,
   "metadata": {
    "collapsed": true,
    "jupyter": {
     "outputs_hidden": true
    },
    "tags": []
   },
   "outputs": [
    {
     "name": "stdout",
     "output_type": "stream",
     "text": [
      "root\n",
      " |-- contributors: string (nullable = true)\n",
      " |-- coordinates: struct (nullable = true)\n",
      " |    |-- coordinates: array (nullable = true)\n",
      " |    |    |-- element: double (containsNull = true)\n",
      " |    |-- type: string (nullable = true)\n",
      " |-- created_at: string (nullable = true)\n",
      " |-- display_text_range: array (nullable = true)\n",
      " |    |-- element: long (containsNull = true)\n",
      " |-- entities: struct (nullable = true)\n",
      " |    |-- hashtags: array (nullable = true)\n",
      " |    |    |-- element: struct (containsNull = true)\n",
      " |    |    |    |-- indices: array (nullable = true)\n",
      " |    |    |    |    |-- element: long (containsNull = true)\n",
      " |    |    |    |-- text: string (nullable = true)\n",
      " |    |-- media: array (nullable = true)\n",
      " |    |    |-- element: struct (containsNull = true)\n",
      " |    |    |    |-- display_url: string (nullable = true)\n",
      " |    |    |    |-- expanded_url: string (nullable = true)\n",
      " |    |    |    |-- id: long (nullable = true)\n",
      " |    |    |    |-- id_str: string (nullable = true)\n",
      " |    |    |    |-- indices: array (nullable = true)\n",
      " |    |    |    |    |-- element: long (containsNull = true)\n",
      " |    |    |    |-- media_url: string (nullable = true)\n",
      " |    |    |    |-- media_url_https: string (nullable = true)\n",
      " |    |    |    |-- sizes: struct (nullable = true)\n",
      " |    |    |    |    |-- large: struct (nullable = true)\n",
      " |    |    |    |    |    |-- h: long (nullable = true)\n",
      " |    |    |    |    |    |-- resize: string (nullable = true)\n",
      " |    |    |    |    |    |-- w: long (nullable = true)\n",
      " |    |    |    |    |-- medium: struct (nullable = true)\n",
      " |    |    |    |    |    |-- h: long (nullable = true)\n",
      " |    |    |    |    |    |-- resize: string (nullable = true)\n",
      " |    |    |    |    |    |-- w: long (nullable = true)\n",
      " |    |    |    |    |-- small: struct (nullable = true)\n",
      " |    |    |    |    |    |-- h: long (nullable = true)\n",
      " |    |    |    |    |    |-- resize: string (nullable = true)\n",
      " |    |    |    |    |    |-- w: long (nullable = true)\n",
      " |    |    |    |    |-- thumb: struct (nullable = true)\n",
      " |    |    |    |    |    |-- h: long (nullable = true)\n",
      " |    |    |    |    |    |-- resize: string (nullable = true)\n",
      " |    |    |    |    |    |-- w: long (nullable = true)\n",
      " |    |    |    |-- source_status_id: long (nullable = true)\n",
      " |    |    |    |-- source_status_id_str: string (nullable = true)\n",
      " |    |    |    |-- source_user_id: long (nullable = true)\n",
      " |    |    |    |-- source_user_id_str: string (nullable = true)\n",
      " |    |    |    |-- type: string (nullable = true)\n",
      " |    |    |    |-- url: string (nullable = true)\n",
      " |    |-- symbols: array (nullable = true)\n",
      " |    |    |-- element: struct (containsNull = true)\n",
      " |    |    |    |-- indices: array (nullable = true)\n",
      " |    |    |    |    |-- element: long (containsNull = true)\n",
      " |    |    |    |-- text: string (nullable = true)\n",
      " |    |-- urls: array (nullable = true)\n",
      " |    |    |-- element: struct (containsNull = true)\n",
      " |    |    |    |-- display_url: string (nullable = true)\n",
      " |    |    |    |-- expanded_url: string (nullable = true)\n",
      " |    |    |    |-- indices: array (nullable = true)\n",
      " |    |    |    |    |-- element: long (containsNull = true)\n",
      " |    |    |    |-- url: string (nullable = true)\n",
      " |    |-- user_mentions: array (nullable = true)\n",
      " |    |    |-- element: struct (containsNull = true)\n",
      " |    |    |    |-- id: long (nullable = true)\n",
      " |    |    |    |-- id_str: string (nullable = true)\n",
      " |    |    |    |-- indices: array (nullable = true)\n",
      " |    |    |    |    |-- element: long (containsNull = true)\n",
      " |    |    |    |-- name: string (nullable = true)\n",
      " |    |    |    |-- screen_name: string (nullable = true)\n",
      " |-- extended_entities: struct (nullable = true)\n",
      " |    |-- media: array (nullable = true)\n",
      " |    |    |-- element: struct (containsNull = true)\n",
      " |    |    |    |-- display_url: string (nullable = true)\n",
      " |    |    |    |-- expanded_url: string (nullable = true)\n",
      " |    |    |    |-- id: long (nullable = true)\n",
      " |    |    |    |-- id_str: string (nullable = true)\n",
      " |    |    |    |-- indices: array (nullable = true)\n",
      " |    |    |    |    |-- element: long (containsNull = true)\n",
      " |    |    |    |-- media_url: string (nullable = true)\n",
      " |    |    |    |-- media_url_https: string (nullable = true)\n",
      " |    |    |    |-- sizes: struct (nullable = true)\n",
      " |    |    |    |    |-- large: struct (nullable = true)\n",
      " |    |    |    |    |    |-- h: long (nullable = true)\n",
      " |    |    |    |    |    |-- resize: string (nullable = true)\n",
      " |    |    |    |    |    |-- w: long (nullable = true)\n",
      " |    |    |    |    |-- medium: struct (nullable = true)\n",
      " |    |    |    |    |    |-- h: long (nullable = true)\n",
      " |    |    |    |    |    |-- resize: string (nullable = true)\n",
      " |    |    |    |    |    |-- w: long (nullable = true)\n",
      " |    |    |    |    |-- small: struct (nullable = true)\n",
      " |    |    |    |    |    |-- h: long (nullable = true)\n",
      " |    |    |    |    |    |-- resize: string (nullable = true)\n",
      " |    |    |    |    |    |-- w: long (nullable = true)\n",
      " |    |    |    |    |-- thumb: struct (nullable = true)\n",
      " |    |    |    |    |    |-- h: long (nullable = true)\n",
      " |    |    |    |    |    |-- resize: string (nullable = true)\n",
      " |    |    |    |    |    |-- w: long (nullable = true)\n",
      " |    |    |    |-- source_status_id: long (nullable = true)\n",
      " |    |    |    |-- source_status_id_str: string (nullable = true)\n",
      " |    |    |    |-- source_user_id: long (nullable = true)\n",
      " |    |    |    |-- source_user_id_str: string (nullable = true)\n",
      " |    |    |    |-- type: string (nullable = true)\n",
      " |    |    |    |-- url: string (nullable = true)\n",
      " |    |    |    |-- video_info: struct (nullable = true)\n",
      " |    |    |    |    |-- aspect_ratio: array (nullable = true)\n",
      " |    |    |    |    |    |-- element: long (containsNull = true)\n",
      " |    |    |    |    |-- duration_millis: long (nullable = true)\n",
      " |    |    |    |    |-- variants: array (nullable = true)\n",
      " |    |    |    |    |    |-- element: struct (containsNull = true)\n",
      " |    |    |    |    |    |    |-- bitrate: long (nullable = true)\n",
      " |    |    |    |    |    |    |-- content_type: string (nullable = true)\n",
      " |    |    |    |    |    |    |-- url: string (nullable = true)\n",
      " |-- extended_tweet: struct (nullable = true)\n",
      " |    |-- display_text_range: array (nullable = true)\n",
      " |    |    |-- element: long (containsNull = true)\n",
      " |    |-- entities: struct (nullable = true)\n",
      " |    |    |-- hashtags: array (nullable = true)\n",
      " |    |    |    |-- element: struct (containsNull = true)\n",
      " |    |    |    |    |-- indices: array (nullable = true)\n",
      " |    |    |    |    |    |-- element: long (containsNull = true)\n",
      " |    |    |    |    |-- text: string (nullable = true)\n",
      " |    |    |-- media: array (nullable = true)\n",
      " |    |    |    |-- element: struct (containsNull = true)\n",
      " |    |    |    |    |-- description: string (nullable = true)\n",
      " |    |    |    |    |-- display_url: string (nullable = true)\n",
      " |    |    |    |    |-- expanded_url: string (nullable = true)\n",
      " |    |    |    |    |-- id: long (nullable = true)\n",
      " |    |    |    |    |-- id_str: string (nullable = true)\n",
      " |    |    |    |    |-- indices: array (nullable = true)\n",
      " |    |    |    |    |    |-- element: long (containsNull = true)\n",
      " |    |    |    |    |-- media_url: string (nullable = true)\n",
      " |    |    |    |    |-- media_url_https: string (nullable = true)\n",
      " |    |    |    |    |-- sizes: struct (nullable = true)\n",
      " |    |    |    |    |    |-- large: struct (nullable = true)\n",
      " |    |    |    |    |    |    |-- h: long (nullable = true)\n",
      " |    |    |    |    |    |    |-- resize: string (nullable = true)\n",
      " |    |    |    |    |    |    |-- w: long (nullable = true)\n",
      " |    |    |    |    |    |-- medium: struct (nullable = true)\n",
      " |    |    |    |    |    |    |-- h: long (nullable = true)\n",
      " |    |    |    |    |    |    |-- resize: string (nullable = true)\n",
      " |    |    |    |    |    |    |-- w: long (nullable = true)\n",
      " |    |    |    |    |    |-- small: struct (nullable = true)\n",
      " |    |    |    |    |    |    |-- h: long (nullable = true)\n",
      " |    |    |    |    |    |    |-- resize: string (nullable = true)\n",
      " |    |    |    |    |    |    |-- w: long (nullable = true)\n",
      " |    |    |    |    |    |-- thumb: struct (nullable = true)\n",
      " |    |    |    |    |    |    |-- h: long (nullable = true)\n",
      " |    |    |    |    |    |    |-- resize: string (nullable = true)\n",
      " |    |    |    |    |    |    |-- w: long (nullable = true)\n",
      " |    |    |    |    |-- source_status_id: long (nullable = true)\n",
      " |    |    |    |    |-- source_status_id_str: string (nullable = true)\n",
      " |    |    |    |    |-- source_user_id: long (nullable = true)\n",
      " |    |    |    |    |-- source_user_id_str: string (nullable = true)\n",
      " |    |    |    |    |-- type: string (nullable = true)\n",
      " |    |    |    |    |-- url: string (nullable = true)\n",
      " |    |    |    |    |-- video_info: struct (nullable = true)\n",
      " |    |    |    |    |    |-- aspect_ratio: array (nullable = true)\n",
      " |    |    |    |    |    |    |-- element: long (containsNull = true)\n",
      " |    |    |    |    |    |-- duration_millis: long (nullable = true)\n",
      " |    |    |    |    |    |-- variants: array (nullable = true)\n",
      " |    |    |    |    |    |    |-- element: struct (containsNull = true)\n",
      " |    |    |    |    |    |    |    |-- bitrate: long (nullable = true)\n",
      " |    |    |    |    |    |    |    |-- content_type: string (nullable = true)\n",
      " |    |    |    |    |    |    |    |-- url: string (nullable = true)\n",
      " |    |    |-- symbols: array (nullable = true)\n",
      " |    |    |    |-- element: string (containsNull = true)\n",
      " |    |    |-- urls: array (nullable = true)\n",
      " |    |    |    |-- element: struct (containsNull = true)\n",
      " |    |    |    |    |-- display_url: string (nullable = true)\n",
      " |    |    |    |    |-- expanded_url: string (nullable = true)\n",
      " |    |    |    |    |-- indices: array (nullable = true)\n",
      " |    |    |    |    |    |-- element: long (containsNull = true)\n",
      " |    |    |    |    |-- url: string (nullable = true)\n",
      " |    |    |-- user_mentions: array (nullable = true)\n",
      " |    |    |    |-- element: struct (containsNull = true)\n",
      " |    |    |    |    |-- id: long (nullable = true)\n",
      " |    |    |    |    |-- id_str: string (nullable = true)\n",
      " |    |    |    |    |-- indices: array (nullable = true)\n",
      " |    |    |    |    |    |-- element: long (containsNull = true)\n",
      " |    |    |    |    |-- name: string (nullable = true)\n",
      " |    |    |    |    |-- screen_name: string (nullable = true)\n",
      " |    |-- extended_entities: struct (nullable = true)\n",
      " |    |    |-- media: array (nullable = true)\n",
      " |    |    |    |-- element: struct (containsNull = true)\n",
      " |    |    |    |    |-- description: string (nullable = true)\n",
      " |    |    |    |    |-- display_url: string (nullable = true)\n",
      " |    |    |    |    |-- expanded_url: string (nullable = true)\n",
      " |    |    |    |    |-- id: long (nullable = true)\n",
      " |    |    |    |    |-- id_str: string (nullable = true)\n",
      " |    |    |    |    |-- indices: array (nullable = true)\n",
      " |    |    |    |    |    |-- element: long (containsNull = true)\n",
      " |    |    |    |    |-- media_url: string (nullable = true)\n",
      " |    |    |    |    |-- media_url_https: string (nullable = true)\n",
      " |    |    |    |    |-- sizes: struct (nullable = true)\n",
      " |    |    |    |    |    |-- large: struct (nullable = true)\n",
      " |    |    |    |    |    |    |-- h: long (nullable = true)\n",
      " |    |    |    |    |    |    |-- resize: string (nullable = true)\n",
      " |    |    |    |    |    |    |-- w: long (nullable = true)\n",
      " |    |    |    |    |    |-- medium: struct (nullable = true)\n",
      " |    |    |    |    |    |    |-- h: long (nullable = true)\n",
      " |    |    |    |    |    |    |-- resize: string (nullable = true)\n",
      " |    |    |    |    |    |    |-- w: long (nullable = true)\n",
      " |    |    |    |    |    |-- small: struct (nullable = true)\n",
      " |    |    |    |    |    |    |-- h: long (nullable = true)\n",
      " |    |    |    |    |    |    |-- resize: string (nullable = true)\n",
      " |    |    |    |    |    |    |-- w: long (nullable = true)\n",
      " |    |    |    |    |    |-- thumb: struct (nullable = true)\n",
      " |    |    |    |    |    |    |-- h: long (nullable = true)\n",
      " |    |    |    |    |    |    |-- resize: string (nullable = true)\n",
      " |    |    |    |    |    |    |-- w: long (nullable = true)\n",
      " |    |    |    |    |-- source_status_id: long (nullable = true)\n",
      " |    |    |    |    |-- source_status_id_str: string (nullable = true)\n",
      " |    |    |    |    |-- source_user_id: long (nullable = true)\n",
      " |    |    |    |    |-- source_user_id_str: string (nullable = true)\n",
      " |    |    |    |    |-- type: string (nullable = true)\n",
      " |    |    |    |    |-- url: string (nullable = true)\n",
      " |    |    |    |    |-- video_info: struct (nullable = true)\n",
      " |    |    |    |    |    |-- aspect_ratio: array (nullable = true)\n",
      " |    |    |    |    |    |    |-- element: long (containsNull = true)\n",
      " |    |    |    |    |    |-- duration_millis: long (nullable = true)\n",
      " |    |    |    |    |    |-- variants: array (nullable = true)\n",
      " |    |    |    |    |    |    |-- element: struct (containsNull = true)\n",
      " |    |    |    |    |    |    |    |-- bitrate: long (nullable = true)\n",
      " |    |    |    |    |    |    |    |-- content_type: string (nullable = true)\n",
      " |    |    |    |    |    |    |    |-- url: string (nullable = true)\n",
      " |    |-- full_text: string (nullable = true)\n",
      " |-- favorite_count: long (nullable = true)\n",
      " |-- favorited: boolean (nullable = true)\n",
      " |-- filter_level: string (nullable = true)\n",
      " |-- geo: struct (nullable = true)\n",
      " |    |-- coordinates: array (nullable = true)\n",
      " |    |    |-- element: double (containsNull = true)\n",
      " |    |-- type: string (nullable = true)\n",
      " |-- id: long (nullable = true)\n",
      " |-- id_str: string (nullable = true)\n",
      " |-- in_reply_to_screen_name: string (nullable = true)\n",
      " |-- in_reply_to_status_id: long (nullable = true)\n",
      " |-- in_reply_to_status_id_str: string (nullable = true)\n",
      " |-- in_reply_to_user_id: long (nullable = true)\n",
      " |-- in_reply_to_user_id_str: string (nullable = true)\n",
      " |-- is_quote_status: boolean (nullable = true)\n",
      " |-- lang: string (nullable = true)\n",
      " |-- place: struct (nullable = true)\n",
      " |    |-- bounding_box: struct (nullable = true)\n",
      " |    |    |-- coordinates: array (nullable = true)\n",
      " |    |    |    |-- element: array (containsNull = true)\n",
      " |    |    |    |    |-- element: array (containsNull = true)\n",
      " |    |    |    |    |    |-- element: double (containsNull = true)\n",
      " |    |    |-- type: string (nullable = true)\n",
      " |    |-- country: string (nullable = true)\n",
      " |    |-- country_code: string (nullable = true)\n",
      " |    |-- full_name: string (nullable = true)\n",
      " |    |-- id: string (nullable = true)\n",
      " |    |-- name: string (nullable = true)\n",
      " |    |-- place_type: string (nullable = true)\n",
      " |    |-- url: string (nullable = true)\n",
      " |-- possibly_sensitive: boolean (nullable = true)\n",
      " |-- quote_count: long (nullable = true)\n",
      " |-- quoted_status: struct (nullable = true)\n",
      " |    |-- contributors: string (nullable = true)\n",
      " |    |-- coordinates: struct (nullable = true)\n",
      " |    |    |-- coordinates: array (nullable = true)\n",
      " |    |    |    |-- element: double (containsNull = true)\n",
      " |    |    |-- type: string (nullable = true)\n",
      " |    |-- created_at: string (nullable = true)\n",
      " |    |-- display_text_range: array (nullable = true)\n",
      " |    |    |-- element: long (containsNull = true)\n",
      " |    |-- entities: struct (nullable = true)\n",
      " |    |    |-- hashtags: array (nullable = true)\n",
      " |    |    |    |-- element: struct (containsNull = true)\n",
      " |    |    |    |    |-- indices: array (nullable = true)\n",
      " |    |    |    |    |    |-- element: long (containsNull = true)\n",
      " |    |    |    |    |-- text: string (nullable = true)\n",
      " |    |    |-- media: array (nullable = true)\n",
      " |    |    |    |-- element: struct (containsNull = true)\n",
      " |    |    |    |    |-- display_url: string (nullable = true)\n",
      " |    |    |    |    |-- expanded_url: string (nullable = true)\n",
      " |    |    |    |    |-- id: long (nullable = true)\n",
      " |    |    |    |    |-- id_str: string (nullable = true)\n",
      " |    |    |    |    |-- indices: array (nullable = true)\n",
      " |    |    |    |    |    |-- element: long (containsNull = true)\n",
      " |    |    |    |    |-- media_url: string (nullable = true)\n",
      " |    |    |    |    |-- media_url_https: string (nullable = true)\n",
      " |    |    |    |    |-- sizes: struct (nullable = true)\n",
      " |    |    |    |    |    |-- large: struct (nullable = true)\n",
      " |    |    |    |    |    |    |-- h: long (nullable = true)\n",
      " |    |    |    |    |    |    |-- resize: string (nullable = true)\n",
      " |    |    |    |    |    |    |-- w: long (nullable = true)\n",
      " |    |    |    |    |    |-- medium: struct (nullable = true)\n",
      " |    |    |    |    |    |    |-- h: long (nullable = true)\n",
      " |    |    |    |    |    |    |-- resize: string (nullable = true)\n",
      " |    |    |    |    |    |    |-- w: long (nullable = true)\n",
      " |    |    |    |    |    |-- small: struct (nullable = true)\n",
      " |    |    |    |    |    |    |-- h: long (nullable = true)\n",
      " |    |    |    |    |    |    |-- resize: string (nullable = true)\n",
      " |    |    |    |    |    |    |-- w: long (nullable = true)\n",
      " |    |    |    |    |    |-- thumb: struct (nullable = true)\n",
      " |    |    |    |    |    |    |-- h: long (nullable = true)\n",
      " |    |    |    |    |    |    |-- resize: string (nullable = true)\n",
      " |    |    |    |    |    |    |-- w: long (nullable = true)\n",
      " |    |    |    |    |-- source_status_id: long (nullable = true)\n",
      " |    |    |    |    |-- source_status_id_str: string (nullable = true)\n",
      " |    |    |    |    |-- source_user_id: long (nullable = true)\n",
      " |    |    |    |    |-- source_user_id_str: string (nullable = true)\n",
      " |    |    |    |    |-- type: string (nullable = true)\n",
      " |    |    |    |    |-- url: string (nullable = true)\n",
      " |    |    |-- symbols: array (nullable = true)\n",
      " |    |    |    |-- element: string (containsNull = true)\n",
      " |    |    |-- urls: array (nullable = true)\n",
      " |    |    |    |-- element: struct (containsNull = true)\n",
      " |    |    |    |    |-- display_url: string (nullable = true)\n",
      " |    |    |    |    |-- expanded_url: string (nullable = true)\n",
      " |    |    |    |    |-- indices: array (nullable = true)\n",
      " |    |    |    |    |    |-- element: long (containsNull = true)\n",
      " |    |    |    |    |-- url: string (nullable = true)\n",
      " |    |    |-- user_mentions: array (nullable = true)\n",
      " |    |    |    |-- element: struct (containsNull = true)\n",
      " |    |    |    |    |-- id: long (nullable = true)\n",
      " |    |    |    |    |-- id_str: string (nullable = true)\n",
      " |    |    |    |    |-- indices: array (nullable = true)\n",
      " |    |    |    |    |    |-- element: long (containsNull = true)\n",
      " |    |    |    |    |-- name: string (nullable = true)\n",
      " |    |    |    |    |-- screen_name: string (nullable = true)\n",
      " |    |-- extended_entities: struct (nullable = true)\n",
      " |    |    |-- media: array (nullable = true)\n",
      " |    |    |    |-- element: struct (containsNull = true)\n",
      " |    |    |    |    |-- display_url: string (nullable = true)\n",
      " |    |    |    |    |-- expanded_url: string (nullable = true)\n",
      " |    |    |    |    |-- id: long (nullable = true)\n",
      " |    |    |    |    |-- id_str: string (nullable = true)\n",
      " |    |    |    |    |-- indices: array (nullable = true)\n",
      " |    |    |    |    |    |-- element: long (containsNull = true)\n",
      " |    |    |    |    |-- media_url: string (nullable = true)\n",
      " |    |    |    |    |-- media_url_https: string (nullable = true)\n",
      " |    |    |    |    |-- sizes: struct (nullable = true)\n",
      " |    |    |    |    |    |-- large: struct (nullable = true)\n",
      " |    |    |    |    |    |    |-- h: long (nullable = true)\n",
      " |    |    |    |    |    |    |-- resize: string (nullable = true)\n",
      " |    |    |    |    |    |    |-- w: long (nullable = true)\n",
      " |    |    |    |    |    |-- medium: struct (nullable = true)\n",
      " |    |    |    |    |    |    |-- h: long (nullable = true)\n",
      " |    |    |    |    |    |    |-- resize: string (nullable = true)\n",
      " |    |    |    |    |    |    |-- w: long (nullable = true)\n",
      " |    |    |    |    |    |-- small: struct (nullable = true)\n",
      " |    |    |    |    |    |    |-- h: long (nullable = true)\n",
      " |    |    |    |    |    |    |-- resize: string (nullable = true)\n",
      " |    |    |    |    |    |    |-- w: long (nullable = true)\n",
      " |    |    |    |    |    |-- thumb: struct (nullable = true)\n",
      " |    |    |    |    |    |    |-- h: long (nullable = true)\n",
      " |    |    |    |    |    |    |-- resize: string (nullable = true)\n",
      " |    |    |    |    |    |    |-- w: long (nullable = true)\n",
      " |    |    |    |    |-- source_status_id: long (nullable = true)\n",
      " |    |    |    |    |-- source_status_id_str: string (nullable = true)\n",
      " |    |    |    |    |-- source_user_id: long (nullable = true)\n",
      " |    |    |    |    |-- source_user_id_str: string (nullable = true)\n",
      " |    |    |    |    |-- type: string (nullable = true)\n",
      " |    |    |    |    |-- url: string (nullable = true)\n",
      " |    |    |    |    |-- video_info: struct (nullable = true)\n",
      " |    |    |    |    |    |-- aspect_ratio: array (nullable = true)\n",
      " |    |    |    |    |    |    |-- element: long (containsNull = true)\n",
      " |    |    |    |    |    |-- duration_millis: long (nullable = true)\n",
      " |    |    |    |    |    |-- variants: array (nullable = true)\n",
      " |    |    |    |    |    |    |-- element: struct (containsNull = true)\n",
      " |    |    |    |    |    |    |    |-- bitrate: long (nullable = true)\n",
      " |    |    |    |    |    |    |    |-- content_type: string (nullable = true)\n",
      " |    |    |    |    |    |    |    |-- url: string (nullable = true)\n",
      " |    |-- extended_tweet: struct (nullable = true)\n",
      " |    |    |-- display_text_range: array (nullable = true)\n",
      " |    |    |    |-- element: long (containsNull = true)\n",
      " |    |    |-- entities: struct (nullable = true)\n",
      " |    |    |    |-- hashtags: array (nullable = true)\n",
      " |    |    |    |    |-- element: struct (containsNull = true)\n",
      " |    |    |    |    |    |-- indices: array (nullable = true)\n",
      " |    |    |    |    |    |    |-- element: long (containsNull = true)\n",
      " |    |    |    |    |    |-- text: string (nullable = true)\n",
      " |    |    |    |-- media: array (nullable = true)\n",
      " |    |    |    |    |-- element: struct (containsNull = true)\n",
      " |    |    |    |    |    |-- display_url: string (nullable = true)\n",
      " |    |    |    |    |    |-- expanded_url: string (nullable = true)\n",
      " |    |    |    |    |    |-- id: long (nullable = true)\n",
      " |    |    |    |    |    |-- id_str: string (nullable = true)\n",
      " |    |    |    |    |    |-- indices: array (nullable = true)\n",
      " |    |    |    |    |    |    |-- element: long (containsNull = true)\n",
      " |    |    |    |    |    |-- media_url: string (nullable = true)\n",
      " |    |    |    |    |    |-- media_url_https: string (nullable = true)\n",
      " |    |    |    |    |    |-- sizes: struct (nullable = true)\n",
      " |    |    |    |    |    |    |-- large: struct (nullable = true)\n",
      " |    |    |    |    |    |    |    |-- h: long (nullable = true)\n",
      " |    |    |    |    |    |    |    |-- resize: string (nullable = true)\n",
      " |    |    |    |    |    |    |    |-- w: long (nullable = true)\n",
      " |    |    |    |    |    |    |-- medium: struct (nullable = true)\n",
      " |    |    |    |    |    |    |    |-- h: long (nullable = true)\n",
      " |    |    |    |    |    |    |    |-- resize: string (nullable = true)\n",
      " |    |    |    |    |    |    |    |-- w: long (nullable = true)\n",
      " |    |    |    |    |    |    |-- small: struct (nullable = true)\n",
      " |    |    |    |    |    |    |    |-- h: long (nullable = true)\n",
      " |    |    |    |    |    |    |    |-- resize: string (nullable = true)\n",
      " |    |    |    |    |    |    |    |-- w: long (nullable = true)\n",
      " |    |    |    |    |    |    |-- thumb: struct (nullable = true)\n",
      " |    |    |    |    |    |    |    |-- h: long (nullable = true)\n",
      " |    |    |    |    |    |    |    |-- resize: string (nullable = true)\n",
      " |    |    |    |    |    |    |    |-- w: long (nullable = true)\n",
      " |    |    |    |    |    |-- source_status_id: long (nullable = true)\n",
      " |    |    |    |    |    |-- source_status_id_str: string (nullable = true)\n",
      " |    |    |    |    |    |-- source_user_id: long (nullable = true)\n",
      " |    |    |    |    |    |-- source_user_id_str: string (nullable = true)\n",
      " |    |    |    |    |    |-- type: string (nullable = true)\n",
      " |    |    |    |    |    |-- url: string (nullable = true)\n",
      " |    |    |    |    |    |-- video_info: struct (nullable = true)\n",
      " |    |    |    |    |    |    |-- aspect_ratio: array (nullable = true)\n",
      " |    |    |    |    |    |    |    |-- element: long (containsNull = true)\n",
      " |    |    |    |    |    |    |-- duration_millis: long (nullable = true)\n",
      " |    |    |    |    |    |    |-- variants: array (nullable = true)\n",
      " |    |    |    |    |    |    |    |-- element: struct (containsNull = true)\n",
      " |    |    |    |    |    |    |    |    |-- bitrate: long (nullable = true)\n",
      " |    |    |    |    |    |    |    |    |-- content_type: string (nullable = true)\n",
      " |    |    |    |    |    |    |    |    |-- url: string (nullable = true)\n",
      " |    |    |    |-- symbols: array (nullable = true)\n",
      " |    |    |    |    |-- element: string (containsNull = true)\n",
      " |    |    |    |-- urls: array (nullable = true)\n",
      " |    |    |    |    |-- element: struct (containsNull = true)\n",
      " |    |    |    |    |    |-- display_url: string (nullable = true)\n",
      " |    |    |    |    |    |-- expanded_url: string (nullable = true)\n",
      " |    |    |    |    |    |-- indices: array (nullable = true)\n",
      " |    |    |    |    |    |    |-- element: long (containsNull = true)\n",
      " |    |    |    |    |    |-- url: string (nullable = true)\n",
      " |    |    |    |-- user_mentions: array (nullable = true)\n",
      " |    |    |    |    |-- element: struct (containsNull = true)\n",
      " |    |    |    |    |    |-- id: long (nullable = true)\n",
      " |    |    |    |    |    |-- id_str: string (nullable = true)\n",
      " |    |    |    |    |    |-- indices: array (nullable = true)\n",
      " |    |    |    |    |    |    |-- element: long (containsNull = true)\n",
      " |    |    |    |    |    |-- name: string (nullable = true)\n",
      " |    |    |    |    |    |-- screen_name: string (nullable = true)\n",
      " |    |    |-- extended_entities: struct (nullable = true)\n",
      " |    |    |    |-- media: array (nullable = true)\n",
      " |    |    |    |    |-- element: struct (containsNull = true)\n",
      " |    |    |    |    |    |-- display_url: string (nullable = true)\n",
      " |    |    |    |    |    |-- expanded_url: string (nullable = true)\n",
      " |    |    |    |    |    |-- id: long (nullable = true)\n",
      " |    |    |    |    |    |-- id_str: string (nullable = true)\n",
      " |    |    |    |    |    |-- indices: array (nullable = true)\n",
      " |    |    |    |    |    |    |-- element: long (containsNull = true)\n",
      " |    |    |    |    |    |-- media_url: string (nullable = true)\n",
      " |    |    |    |    |    |-- media_url_https: string (nullable = true)\n",
      " |    |    |    |    |    |-- sizes: struct (nullable = true)\n",
      " |    |    |    |    |    |    |-- large: struct (nullable = true)\n",
      " |    |    |    |    |    |    |    |-- h: long (nullable = true)\n",
      " |    |    |    |    |    |    |    |-- resize: string (nullable = true)\n",
      " |    |    |    |    |    |    |    |-- w: long (nullable = true)\n",
      " |    |    |    |    |    |    |-- medium: struct (nullable = true)\n",
      " |    |    |    |    |    |    |    |-- h: long (nullable = true)\n",
      " |    |    |    |    |    |    |    |-- resize: string (nullable = true)\n",
      " |    |    |    |    |    |    |    |-- w: long (nullable = true)\n",
      " |    |    |    |    |    |    |-- small: struct (nullable = true)\n",
      " |    |    |    |    |    |    |    |-- h: long (nullable = true)\n",
      " |    |    |    |    |    |    |    |-- resize: string (nullable = true)\n",
      " |    |    |    |    |    |    |    |-- w: long (nullable = true)\n",
      " |    |    |    |    |    |    |-- thumb: struct (nullable = true)\n",
      " |    |    |    |    |    |    |    |-- h: long (nullable = true)\n",
      " |    |    |    |    |    |    |    |-- resize: string (nullable = true)\n",
      " |    |    |    |    |    |    |    |-- w: long (nullable = true)\n",
      " |    |    |    |    |    |-- source_status_id: long (nullable = true)\n",
      " |    |    |    |    |    |-- source_status_id_str: string (nullable = true)\n",
      " |    |    |    |    |    |-- source_user_id: long (nullable = true)\n",
      " |    |    |    |    |    |-- source_user_id_str: string (nullable = true)\n",
      " |    |    |    |    |    |-- type: string (nullable = true)\n",
      " |    |    |    |    |    |-- url: string (nullable = true)\n",
      " |    |    |    |    |    |-- video_info: struct (nullable = true)\n",
      " |    |    |    |    |    |    |-- aspect_ratio: array (nullable = true)\n",
      " |    |    |    |    |    |    |    |-- element: long (containsNull = true)\n",
      " |    |    |    |    |    |    |-- duration_millis: long (nullable = true)\n",
      " |    |    |    |    |    |    |-- variants: array (nullable = true)\n",
      " |    |    |    |    |    |    |    |-- element: struct (containsNull = true)\n",
      " |    |    |    |    |    |    |    |    |-- bitrate: long (nullable = true)\n",
      " |    |    |    |    |    |    |    |    |-- content_type: string (nullable = true)\n",
      " |    |    |    |    |    |    |    |    |-- url: string (nullable = true)\n",
      " |    |    |-- full_text: string (nullable = true)\n",
      " |    |-- favorite_count: long (nullable = true)\n",
      " |    |-- favorited: boolean (nullable = true)\n",
      " |    |-- filter_level: string (nullable = true)\n",
      " |    |-- geo: struct (nullable = true)\n",
      " |    |    |-- coordinates: array (nullable = true)\n",
      " |    |    |    |-- element: double (containsNull = true)\n",
      " |    |    |-- type: string (nullable = true)\n",
      " |    |-- id: long (nullable = true)\n",
      " |    |-- id_str: string (nullable = true)\n",
      " |    |-- in_reply_to_screen_name: string (nullable = true)\n",
      " |    |-- in_reply_to_status_id: long (nullable = true)\n",
      " |    |-- in_reply_to_status_id_str: string (nullable = true)\n",
      " |    |-- in_reply_to_user_id: long (nullable = true)\n",
      " |    |-- in_reply_to_user_id_str: string (nullable = true)\n",
      " |    |-- is_quote_status: boolean (nullable = true)\n",
      " |    |-- lang: string (nullable = true)\n",
      " |    |-- place: struct (nullable = true)\n",
      " |    |    |-- bounding_box: struct (nullable = true)\n",
      " |    |    |    |-- coordinates: array (nullable = true)\n",
      " |    |    |    |    |-- element: array (containsNull = true)\n",
      " |    |    |    |    |    |-- element: array (containsNull = true)\n",
      " |    |    |    |    |    |    |-- element: double (containsNull = true)\n",
      " |    |    |    |-- type: string (nullable = true)\n",
      " |    |    |-- country: string (nullable = true)\n",
      " |    |    |-- country_code: string (nullable = true)\n",
      " |    |    |-- full_name: string (nullable = true)\n",
      " |    |    |-- id: string (nullable = true)\n",
      " |    |    |-- name: string (nullable = true)\n",
      " |    |    |-- place_type: string (nullable = true)\n",
      " |    |    |-- url: string (nullable = true)\n",
      " |    |-- possibly_sensitive: boolean (nullable = true)\n",
      " |    |-- quote_count: long (nullable = true)\n",
      " |    |-- quoted_status_id: long (nullable = true)\n",
      " |    |-- quoted_status_id_str: string (nullable = true)\n",
      " |    |-- reply_count: long (nullable = true)\n",
      " |    |-- retweet_count: long (nullable = true)\n",
      " |    |-- retweeted: boolean (nullable = true)\n",
      " |    |-- scopes: struct (nullable = true)\n",
      " |    |    |-- followers: boolean (nullable = true)\n",
      " |    |-- source: string (nullable = true)\n",
      " |    |-- text: string (nullable = true)\n",
      " |    |-- truncated: boolean (nullable = true)\n",
      " |    |-- user: struct (nullable = true)\n",
      " |    |    |-- contributors_enabled: boolean (nullable = true)\n",
      " |    |    |-- created_at: string (nullable = true)\n",
      " |    |    |-- default_profile: boolean (nullable = true)\n",
      " |    |    |-- default_profile_image: boolean (nullable = true)\n",
      " |    |    |-- description: string (nullable = true)\n",
      " |    |    |-- favourites_count: long (nullable = true)\n",
      " |    |    |-- follow_request_sent: string (nullable = true)\n",
      " |    |    |-- followers_count: long (nullable = true)\n",
      " |    |    |-- following: string (nullable = true)\n",
      " |    |    |-- friends_count: long (nullable = true)\n",
      " |    |    |-- geo_enabled: boolean (nullable = true)\n",
      " |    |    |-- id: long (nullable = true)\n",
      " |    |    |-- id_str: string (nullable = true)\n",
      " |    |    |-- is_translator: boolean (nullable = true)\n",
      " |    |    |-- lang: string (nullable = true)\n",
      " |    |    |-- listed_count: long (nullable = true)\n",
      " |    |    |-- location: string (nullable = true)\n",
      " |    |    |-- name: string (nullable = true)\n",
      " |    |    |-- notifications: string (nullable = true)\n",
      " |    |    |-- profile_background_color: string (nullable = true)\n",
      " |    |    |-- profile_background_image_url: string (nullable = true)\n",
      " |    |    |-- profile_background_image_url_https: string (nullable = true)\n",
      " |    |    |-- profile_background_tile: boolean (nullable = true)\n",
      " |    |    |-- profile_banner_url: string (nullable = true)\n",
      " |    |    |-- profile_image_url: string (nullable = true)\n",
      " |    |    |-- profile_image_url_https: string (nullable = true)\n",
      " |    |    |-- profile_link_color: string (nullable = true)\n",
      " |    |    |-- profile_sidebar_border_color: string (nullable = true)\n",
      " |    |    |-- profile_sidebar_fill_color: string (nullable = true)\n",
      " |    |    |-- profile_text_color: string (nullable = true)\n",
      " |    |    |-- profile_use_background_image: boolean (nullable = true)\n",
      " |    |    |-- protected: boolean (nullable = true)\n",
      " |    |    |-- screen_name: string (nullable = true)\n",
      " |    |    |-- statuses_count: long (nullable = true)\n",
      " |    |    |-- time_zone: string (nullable = true)\n",
      " |    |    |-- translator_type: string (nullable = true)\n",
      " |    |    |-- url: string (nullable = true)\n",
      " |    |    |-- utc_offset: long (nullable = true)\n",
      " |    |    |-- verified: boolean (nullable = true)\n",
      " |-- quoted_status_id: long (nullable = true)\n",
      " |-- quoted_status_id_str: string (nullable = true)\n",
      " |-- reply_count: long (nullable = true)\n",
      " |-- retweet_count: long (nullable = true)\n",
      " |-- retweeted: boolean (nullable = true)\n",
      " |-- retweeted_status: struct (nullable = true)\n",
      " |    |-- contributors: string (nullable = true)\n",
      " |    |-- coordinates: struct (nullable = true)\n",
      " |    |    |-- coordinates: array (nullable = true)\n",
      " |    |    |    |-- element: double (containsNull = true)\n",
      " |    |    |-- type: string (nullable = true)\n",
      " |    |-- created_at: string (nullable = true)\n",
      " |    |-- display_text_range: array (nullable = true)\n",
      " |    |    |-- element: long (containsNull = true)\n",
      " |    |-- entities: struct (nullable = true)\n",
      " |    |    |-- hashtags: array (nullable = true)\n",
      " |    |    |    |-- element: struct (containsNull = true)\n",
      " |    |    |    |    |-- indices: array (nullable = true)\n",
      " |    |    |    |    |    |-- element: long (containsNull = true)\n",
      " |    |    |    |    |-- text: string (nullable = true)\n",
      " |    |    |-- media: array (nullable = true)\n",
      " |    |    |    |-- element: struct (containsNull = true)\n",
      " |    |    |    |    |-- display_url: string (nullable = true)\n",
      " |    |    |    |    |-- expanded_url: string (nullable = true)\n",
      " |    |    |    |    |-- id: long (nullable = true)\n",
      " |    |    |    |    |-- id_str: string (nullable = true)\n",
      " |    |    |    |    |-- indices: array (nullable = true)\n",
      " |    |    |    |    |    |-- element: long (containsNull = true)\n",
      " |    |    |    |    |-- media_url: string (nullable = true)\n",
      " |    |    |    |    |-- media_url_https: string (nullable = true)\n",
      " |    |    |    |    |-- sizes: struct (nullable = true)\n",
      " |    |    |    |    |    |-- large: struct (nullable = true)\n",
      " |    |    |    |    |    |    |-- h: long (nullable = true)\n",
      " |    |    |    |    |    |    |-- resize: string (nullable = true)\n",
      " |    |    |    |    |    |    |-- w: long (nullable = true)\n",
      " |    |    |    |    |    |-- medium: struct (nullable = true)\n",
      " |    |    |    |    |    |    |-- h: long (nullable = true)\n",
      " |    |    |    |    |    |    |-- resize: string (nullable = true)\n",
      " |    |    |    |    |    |    |-- w: long (nullable = true)\n",
      " |    |    |    |    |    |-- small: struct (nullable = true)\n",
      " |    |    |    |    |    |    |-- h: long (nullable = true)\n",
      " |    |    |    |    |    |    |-- resize: string (nullable = true)\n",
      " |    |    |    |    |    |    |-- w: long (nullable = true)\n",
      " |    |    |    |    |    |-- thumb: struct (nullable = true)\n",
      " |    |    |    |    |    |    |-- h: long (nullable = true)\n",
      " |    |    |    |    |    |    |-- resize: string (nullable = true)\n",
      " |    |    |    |    |    |    |-- w: long (nullable = true)\n",
      " |    |    |    |    |-- source_status_id: long (nullable = true)\n",
      " |    |    |    |    |-- source_status_id_str: string (nullable = true)\n",
      " |    |    |    |    |-- source_user_id: long (nullable = true)\n",
      " |    |    |    |    |-- source_user_id_str: string (nullable = true)\n",
      " |    |    |    |    |-- type: string (nullable = true)\n",
      " |    |    |    |    |-- url: string (nullable = true)\n",
      " |    |    |-- symbols: array (nullable = true)\n",
      " |    |    |    |-- element: struct (containsNull = true)\n",
      " |    |    |    |    |-- indices: array (nullable = true)\n",
      " |    |    |    |    |    |-- element: long (containsNull = true)\n",
      " |    |    |    |    |-- text: string (nullable = true)\n",
      " |    |    |-- urls: array (nullable = true)\n",
      " |    |    |    |-- element: struct (containsNull = true)\n",
      " |    |    |    |    |-- display_url: string (nullable = true)\n",
      " |    |    |    |    |-- expanded_url: string (nullable = true)\n",
      " |    |    |    |    |-- indices: array (nullable = true)\n",
      " |    |    |    |    |    |-- element: long (containsNull = true)\n",
      " |    |    |    |    |-- url: string (nullable = true)\n",
      " |    |    |-- user_mentions: array (nullable = true)\n",
      " |    |    |    |-- element: struct (containsNull = true)\n",
      " |    |    |    |    |-- id: long (nullable = true)\n",
      " |    |    |    |    |-- id_str: string (nullable = true)\n",
      " |    |    |    |    |-- indices: array (nullable = true)\n",
      " |    |    |    |    |    |-- element: long (containsNull = true)\n",
      " |    |    |    |    |-- name: string (nullable = true)\n",
      " |    |    |    |    |-- screen_name: string (nullable = true)\n",
      " |    |-- extended_entities: struct (nullable = true)\n",
      " |    |    |-- media: array (nullable = true)\n",
      " |    |    |    |-- element: struct (containsNull = true)\n",
      " |    |    |    |    |-- display_url: string (nullable = true)\n",
      " |    |    |    |    |-- expanded_url: string (nullable = true)\n",
      " |    |    |    |    |-- id: long (nullable = true)\n",
      " |    |    |    |    |-- id_str: string (nullable = true)\n",
      " |    |    |    |    |-- indices: array (nullable = true)\n",
      " |    |    |    |    |    |-- element: long (containsNull = true)\n",
      " |    |    |    |    |-- media_url: string (nullable = true)\n",
      " |    |    |    |    |-- media_url_https: string (nullable = true)\n",
      " |    |    |    |    |-- sizes: struct (nullable = true)\n",
      " |    |    |    |    |    |-- large: struct (nullable = true)\n",
      " |    |    |    |    |    |    |-- h: long (nullable = true)\n",
      " |    |    |    |    |    |    |-- resize: string (nullable = true)\n",
      " |    |    |    |    |    |    |-- w: long (nullable = true)\n",
      " |    |    |    |    |    |-- medium: struct (nullable = true)\n",
      " |    |    |    |    |    |    |-- h: long (nullable = true)\n",
      " |    |    |    |    |    |    |-- resize: string (nullable = true)\n",
      " |    |    |    |    |    |    |-- w: long (nullable = true)\n",
      " |    |    |    |    |    |-- small: struct (nullable = true)\n",
      " |    |    |    |    |    |    |-- h: long (nullable = true)\n",
      " |    |    |    |    |    |    |-- resize: string (nullable = true)\n",
      " |    |    |    |    |    |    |-- w: long (nullable = true)\n",
      " |    |    |    |    |    |-- thumb: struct (nullable = true)\n",
      " |    |    |    |    |    |    |-- h: long (nullable = true)\n",
      " |    |    |    |    |    |    |-- resize: string (nullable = true)\n",
      " |    |    |    |    |    |    |-- w: long (nullable = true)\n",
      " |    |    |    |    |-- source_status_id: long (nullable = true)\n",
      " |    |    |    |    |-- source_status_id_str: string (nullable = true)\n",
      " |    |    |    |    |-- source_user_id: long (nullable = true)\n",
      " |    |    |    |    |-- source_user_id_str: string (nullable = true)\n",
      " |    |    |    |    |-- type: string (nullable = true)\n",
      " |    |    |    |    |-- url: string (nullable = true)\n",
      " |    |    |    |    |-- video_info: struct (nullable = true)\n",
      " |    |    |    |    |    |-- aspect_ratio: array (nullable = true)\n",
      " |    |    |    |    |    |    |-- element: long (containsNull = true)\n",
      " |    |    |    |    |    |-- duration_millis: long (nullable = true)\n",
      " |    |    |    |    |    |-- variants: array (nullable = true)\n",
      " |    |    |    |    |    |    |-- element: struct (containsNull = true)\n",
      " |    |    |    |    |    |    |    |-- bitrate: long (nullable = true)\n",
      " |    |    |    |    |    |    |    |-- content_type: string (nullable = true)\n",
      " |    |    |    |    |    |    |    |-- url: string (nullable = true)\n",
      " |    |-- extended_tweet: struct (nullable = true)\n",
      " |    |    |-- display_text_range: array (nullable = true)\n",
      " |    |    |    |-- element: long (containsNull = true)\n",
      " |    |    |-- entities: struct (nullable = true)\n",
      " |    |    |    |-- hashtags: array (nullable = true)\n",
      " |    |    |    |    |-- element: struct (containsNull = true)\n",
      " |    |    |    |    |    |-- indices: array (nullable = true)\n",
      " |    |    |    |    |    |    |-- element: long (containsNull = true)\n",
      " |    |    |    |    |    |-- text: string (nullable = true)\n",
      " |    |    |    |-- media: array (nullable = true)\n",
      " |    |    |    |    |-- element: struct (containsNull = true)\n",
      " |    |    |    |    |    |-- description: string (nullable = true)\n",
      " |    |    |    |    |    |-- display_url: string (nullable = true)\n",
      " |    |    |    |    |    |-- expanded_url: string (nullable = true)\n",
      " |    |    |    |    |    |-- id: long (nullable = true)\n",
      " |    |    |    |    |    |-- id_str: string (nullable = true)\n",
      " |    |    |    |    |    |-- indices: array (nullable = true)\n",
      " |    |    |    |    |    |    |-- element: long (containsNull = true)\n",
      " |    |    |    |    |    |-- media_url: string (nullable = true)\n",
      " |    |    |    |    |    |-- media_url_https: string (nullable = true)\n",
      " |    |    |    |    |    |-- sizes: struct (nullable = true)\n",
      " |    |    |    |    |    |    |-- large: struct (nullable = true)\n",
      " |    |    |    |    |    |    |    |-- h: long (nullable = true)\n",
      " |    |    |    |    |    |    |    |-- resize: string (nullable = true)\n",
      " |    |    |    |    |    |    |    |-- w: long (nullable = true)\n",
      " |    |    |    |    |    |    |-- medium: struct (nullable = true)\n",
      " |    |    |    |    |    |    |    |-- h: long (nullable = true)\n",
      " |    |    |    |    |    |    |    |-- resize: string (nullable = true)\n",
      " |    |    |    |    |    |    |    |-- w: long (nullable = true)\n",
      " |    |    |    |    |    |    |-- small: struct (nullable = true)\n",
      " |    |    |    |    |    |    |    |-- h: long (nullable = true)\n",
      " |    |    |    |    |    |    |    |-- resize: string (nullable = true)\n",
      " |    |    |    |    |    |    |    |-- w: long (nullable = true)\n",
      " |    |    |    |    |    |    |-- thumb: struct (nullable = true)\n",
      " |    |    |    |    |    |    |    |-- h: long (nullable = true)\n",
      " |    |    |    |    |    |    |    |-- resize: string (nullable = true)\n",
      " |    |    |    |    |    |    |    |-- w: long (nullable = true)\n",
      " |    |    |    |    |    |-- source_status_id: long (nullable = true)\n",
      " |    |    |    |    |    |-- source_status_id_str: string (nullable = true)\n",
      " |    |    |    |    |    |-- source_user_id: long (nullable = true)\n",
      " |    |    |    |    |    |-- source_user_id_str: string (nullable = true)\n",
      " |    |    |    |    |    |-- type: string (nullable = true)\n",
      " |    |    |    |    |    |-- url: string (nullable = true)\n",
      " |    |    |    |    |    |-- video_info: struct (nullable = true)\n",
      " |    |    |    |    |    |    |-- aspect_ratio: array (nullable = true)\n",
      " |    |    |    |    |    |    |    |-- element: long (containsNull = true)\n",
      " |    |    |    |    |    |    |-- duration_millis: long (nullable = true)\n",
      " |    |    |    |    |    |    |-- variants: array (nullable = true)\n",
      " |    |    |    |    |    |    |    |-- element: struct (containsNull = true)\n",
      " |    |    |    |    |    |    |    |    |-- bitrate: long (nullable = true)\n",
      " |    |    |    |    |    |    |    |    |-- content_type: string (nullable = true)\n",
      " |    |    |    |    |    |    |    |    |-- url: string (nullable = true)\n",
      " |    |    |    |-- symbols: array (nullable = true)\n",
      " |    |    |    |    |-- element: string (containsNull = true)\n",
      " |    |    |    |-- urls: array (nullable = true)\n",
      " |    |    |    |    |-- element: struct (containsNull = true)\n",
      " |    |    |    |    |    |-- display_url: string (nullable = true)\n",
      " |    |    |    |    |    |-- expanded_url: string (nullable = true)\n",
      " |    |    |    |    |    |-- indices: array (nullable = true)\n",
      " |    |    |    |    |    |    |-- element: long (containsNull = true)\n",
      " |    |    |    |    |    |-- url: string (nullable = true)\n",
      " |    |    |    |-- user_mentions: array (nullable = true)\n",
      " |    |    |    |    |-- element: struct (containsNull = true)\n",
      " |    |    |    |    |    |-- id: long (nullable = true)\n",
      " |    |    |    |    |    |-- id_str: string (nullable = true)\n",
      " |    |    |    |    |    |-- indices: array (nullable = true)\n",
      " |    |    |    |    |    |    |-- element: long (containsNull = true)\n",
      " |    |    |    |    |    |-- name: string (nullable = true)\n",
      " |    |    |    |    |    |-- screen_name: string (nullable = true)\n",
      " |    |    |-- extended_entities: struct (nullable = true)\n",
      " |    |    |    |-- media: array (nullable = true)\n",
      " |    |    |    |    |-- element: struct (containsNull = true)\n",
      " |    |    |    |    |    |-- description: string (nullable = true)\n",
      " |    |    |    |    |    |-- display_url: string (nullable = true)\n",
      " |    |    |    |    |    |-- expanded_url: string (nullable = true)\n",
      " |    |    |    |    |    |-- id: long (nullable = true)\n",
      " |    |    |    |    |    |-- id_str: string (nullable = true)\n",
      " |    |    |    |    |    |-- indices: array (nullable = true)\n",
      " |    |    |    |    |    |    |-- element: long (containsNull = true)\n",
      " |    |    |    |    |    |-- media_url: string (nullable = true)\n",
      " |    |    |    |    |    |-- media_url_https: string (nullable = true)\n",
      " |    |    |    |    |    |-- sizes: struct (nullable = true)\n",
      " |    |    |    |    |    |    |-- large: struct (nullable = true)\n",
      " |    |    |    |    |    |    |    |-- h: long (nullable = true)\n",
      " |    |    |    |    |    |    |    |-- resize: string (nullable = true)\n",
      " |    |    |    |    |    |    |    |-- w: long (nullable = true)\n",
      " |    |    |    |    |    |    |-- medium: struct (nullable = true)\n",
      " |    |    |    |    |    |    |    |-- h: long (nullable = true)\n",
      " |    |    |    |    |    |    |    |-- resize: string (nullable = true)\n",
      " |    |    |    |    |    |    |    |-- w: long (nullable = true)\n",
      " |    |    |    |    |    |    |-- small: struct (nullable = true)\n",
      " |    |    |    |    |    |    |    |-- h: long (nullable = true)\n",
      " |    |    |    |    |    |    |    |-- resize: string (nullable = true)\n",
      " |    |    |    |    |    |    |    |-- w: long (nullable = true)\n",
      " |    |    |    |    |    |    |-- thumb: struct (nullable = true)\n",
      " |    |    |    |    |    |    |    |-- h: long (nullable = true)\n",
      " |    |    |    |    |    |    |    |-- resize: string (nullable = true)\n",
      " |    |    |    |    |    |    |    |-- w: long (nullable = true)\n",
      " |    |    |    |    |    |-- source_status_id: long (nullable = true)\n",
      " |    |    |    |    |    |-- source_status_id_str: string (nullable = true)\n",
      " |    |    |    |    |    |-- source_user_id: long (nullable = true)\n",
      " |    |    |    |    |    |-- source_user_id_str: string (nullable = true)\n",
      " |    |    |    |    |    |-- type: string (nullable = true)\n",
      " |    |    |    |    |    |-- url: string (nullable = true)\n",
      " |    |    |    |    |    |-- video_info: struct (nullable = true)\n",
      " |    |    |    |    |    |    |-- aspect_ratio: array (nullable = true)\n",
      " |    |    |    |    |    |    |    |-- element: long (containsNull = true)\n",
      " |    |    |    |    |    |    |-- duration_millis: long (nullable = true)\n",
      " |    |    |    |    |    |    |-- variants: array (nullable = true)\n",
      " |    |    |    |    |    |    |    |-- element: struct (containsNull = true)\n",
      " |    |    |    |    |    |    |    |    |-- bitrate: long (nullable = true)\n",
      " |    |    |    |    |    |    |    |    |-- content_type: string (nullable = true)\n",
      " |    |    |    |    |    |    |    |    |-- url: string (nullable = true)\n",
      " |    |    |-- full_text: string (nullable = true)\n",
      " |    |-- favorite_count: long (nullable = true)\n",
      " |    |-- favorited: boolean (nullable = true)\n",
      " |    |-- filter_level: string (nullable = true)\n",
      " |    |-- geo: struct (nullable = true)\n",
      " |    |    |-- coordinates: array (nullable = true)\n",
      " |    |    |    |-- element: double (containsNull = true)\n",
      " |    |    |-- type: string (nullable = true)\n",
      " |    |-- id: long (nullable = true)\n",
      " |    |-- id_str: string (nullable = true)\n",
      " |    |-- in_reply_to_screen_name: string (nullable = true)\n",
      " |    |-- in_reply_to_status_id: long (nullable = true)\n",
      " |    |-- in_reply_to_status_id_str: string (nullable = true)\n",
      " |    |-- in_reply_to_user_id: long (nullable = true)\n",
      " |    |-- in_reply_to_user_id_str: string (nullable = true)\n",
      " |    |-- is_quote_status: boolean (nullable = true)\n",
      " |    |-- lang: string (nullable = true)\n",
      " |    |-- place: struct (nullable = true)\n",
      " |    |    |-- bounding_box: struct (nullable = true)\n",
      " |    |    |    |-- coordinates: array (nullable = true)\n",
      " |    |    |    |    |-- element: array (containsNull = true)\n",
      " |    |    |    |    |    |-- element: array (containsNull = true)\n",
      " |    |    |    |    |    |    |-- element: double (containsNull = true)\n",
      " |    |    |    |-- type: string (nullable = true)\n",
      " |    |    |-- country: string (nullable = true)\n",
      " |    |    |-- country_code: string (nullable = true)\n",
      " |    |    |-- full_name: string (nullable = true)\n",
      " |    |    |-- id: string (nullable = true)\n",
      " |    |    |-- name: string (nullable = true)\n",
      " |    |    |-- place_type: string (nullable = true)\n",
      " |    |    |-- url: string (nullable = true)\n",
      " |    |-- possibly_sensitive: boolean (nullable = true)\n",
      " |    |-- quote_count: long (nullable = true)\n",
      " |    |-- quoted_status: struct (nullable = true)\n",
      " |    |    |-- contributors: string (nullable = true)\n",
      " |    |    |-- coordinates: struct (nullable = true)\n",
      " |    |    |    |-- coordinates: array (nullable = true)\n",
      " |    |    |    |    |-- element: double (containsNull = true)\n",
      " |    |    |    |-- type: string (nullable = true)\n",
      " |    |    |-- created_at: string (nullable = true)\n",
      " |    |    |-- display_text_range: array (nullable = true)\n",
      " |    |    |    |-- element: long (containsNull = true)\n",
      " |    |    |-- entities: struct (nullable = true)\n",
      " |    |    |    |-- hashtags: array (nullable = true)\n",
      " |    |    |    |    |-- element: struct (containsNull = true)\n",
      " |    |    |    |    |    |-- indices: array (nullable = true)\n",
      " |    |    |    |    |    |    |-- element: long (containsNull = true)\n",
      " |    |    |    |    |    |-- text: string (nullable = true)\n",
      " |    |    |    |-- media: array (nullable = true)\n",
      " |    |    |    |    |-- element: struct (containsNull = true)\n",
      " |    |    |    |    |    |-- display_url: string (nullable = true)\n",
      " |    |    |    |    |    |-- expanded_url: string (nullable = true)\n",
      " |    |    |    |    |    |-- id: long (nullable = true)\n",
      " |    |    |    |    |    |-- id_str: string (nullable = true)\n",
      " |    |    |    |    |    |-- indices: array (nullable = true)\n",
      " |    |    |    |    |    |    |-- element: long (containsNull = true)\n",
      " |    |    |    |    |    |-- media_url: string (nullable = true)\n",
      " |    |    |    |    |    |-- media_url_https: string (nullable = true)\n",
      " |    |    |    |    |    |-- sizes: struct (nullable = true)\n",
      " |    |    |    |    |    |    |-- large: struct (nullable = true)\n",
      " |    |    |    |    |    |    |    |-- h: long (nullable = true)\n",
      " |    |    |    |    |    |    |    |-- resize: string (nullable = true)\n",
      " |    |    |    |    |    |    |    |-- w: long (nullable = true)\n",
      " |    |    |    |    |    |    |-- medium: struct (nullable = true)\n",
      " |    |    |    |    |    |    |    |-- h: long (nullable = true)\n",
      " |    |    |    |    |    |    |    |-- resize: string (nullable = true)\n",
      " |    |    |    |    |    |    |    |-- w: long (nullable = true)\n",
      " |    |    |    |    |    |    |-- small: struct (nullable = true)\n",
      " |    |    |    |    |    |    |    |-- h: long (nullable = true)\n",
      " |    |    |    |    |    |    |    |-- resize: string (nullable = true)\n",
      " |    |    |    |    |    |    |    |-- w: long (nullable = true)\n",
      " |    |    |    |    |    |    |-- thumb: struct (nullable = true)\n",
      " |    |    |    |    |    |    |    |-- h: long (nullable = true)\n",
      " |    |    |    |    |    |    |    |-- resize: string (nullable = true)\n",
      " |    |    |    |    |    |    |    |-- w: long (nullable = true)\n",
      " |    |    |    |    |    |-- source_status_id: long (nullable = true)\n",
      " |    |    |    |    |    |-- source_status_id_str: string (nullable = true)\n",
      " |    |    |    |    |    |-- source_user_id: long (nullable = true)\n",
      " |    |    |    |    |    |-- source_user_id_str: string (nullable = true)\n",
      " |    |    |    |    |    |-- type: string (nullable = true)\n",
      " |    |    |    |    |    |-- url: string (nullable = true)\n",
      " |    |    |    |-- symbols: array (nullable = true)\n",
      " |    |    |    |    |-- element: string (containsNull = true)\n",
      " |    |    |    |-- urls: array (nullable = true)\n",
      " |    |    |    |    |-- element: struct (containsNull = true)\n",
      " |    |    |    |    |    |-- display_url: string (nullable = true)\n",
      " |    |    |    |    |    |-- expanded_url: string (nullable = true)\n",
      " |    |    |    |    |    |-- indices: array (nullable = true)\n",
      " |    |    |    |    |    |    |-- element: long (containsNull = true)\n",
      " |    |    |    |    |    |-- url: string (nullable = true)\n",
      " |    |    |    |-- user_mentions: array (nullable = true)\n",
      " |    |    |    |    |-- element: struct (containsNull = true)\n",
      " |    |    |    |    |    |-- id: long (nullable = true)\n",
      " |    |    |    |    |    |-- id_str: string (nullable = true)\n",
      " |    |    |    |    |    |-- indices: array (nullable = true)\n",
      " |    |    |    |    |    |    |-- element: long (containsNull = true)\n",
      " |    |    |    |    |    |-- name: string (nullable = true)\n",
      " |    |    |    |    |    |-- screen_name: string (nullable = true)\n",
      " |    |    |-- extended_entities: struct (nullable = true)\n",
      " |    |    |    |-- media: array (nullable = true)\n",
      " |    |    |    |    |-- element: struct (containsNull = true)\n",
      " |    |    |    |    |    |-- display_url: string (nullable = true)\n",
      " |    |    |    |    |    |-- expanded_url: string (nullable = true)\n",
      " |    |    |    |    |    |-- id: long (nullable = true)\n",
      " |    |    |    |    |    |-- id_str: string (nullable = true)\n",
      " |    |    |    |    |    |-- indices: array (nullable = true)\n",
      " |    |    |    |    |    |    |-- element: long (containsNull = true)\n",
      " |    |    |    |    |    |-- media_url: string (nullable = true)\n",
      " |    |    |    |    |    |-- media_url_https: string (nullable = true)\n",
      " |    |    |    |    |    |-- sizes: struct (nullable = true)\n",
      " |    |    |    |    |    |    |-- large: struct (nullable = true)\n",
      " |    |    |    |    |    |    |    |-- h: long (nullable = true)\n",
      " |    |    |    |    |    |    |    |-- resize: string (nullable = true)\n",
      " |    |    |    |    |    |    |    |-- w: long (nullable = true)\n",
      " |    |    |    |    |    |    |-- medium: struct (nullable = true)\n",
      " |    |    |    |    |    |    |    |-- h: long (nullable = true)\n",
      " |    |    |    |    |    |    |    |-- resize: string (nullable = true)\n",
      " |    |    |    |    |    |    |    |-- w: long (nullable = true)\n",
      " |    |    |    |    |    |    |-- small: struct (nullable = true)\n",
      " |    |    |    |    |    |    |    |-- h: long (nullable = true)\n",
      " |    |    |    |    |    |    |    |-- resize: string (nullable = true)\n",
      " |    |    |    |    |    |    |    |-- w: long (nullable = true)\n",
      " |    |    |    |    |    |    |-- thumb: struct (nullable = true)\n",
      " |    |    |    |    |    |    |    |-- h: long (nullable = true)\n",
      " |    |    |    |    |    |    |    |-- resize: string (nullable = true)\n",
      " |    |    |    |    |    |    |    |-- w: long (nullable = true)\n",
      " |    |    |    |    |    |-- source_status_id: long (nullable = true)\n",
      " |    |    |    |    |    |-- source_status_id_str: string (nullable = true)\n",
      " |    |    |    |    |    |-- source_user_id: long (nullable = true)\n",
      " |    |    |    |    |    |-- source_user_id_str: string (nullable = true)\n",
      " |    |    |    |    |    |-- type: string (nullable = true)\n",
      " |    |    |    |    |    |-- url: string (nullable = true)\n",
      " |    |    |    |    |    |-- video_info: struct (nullable = true)\n",
      " |    |    |    |    |    |    |-- aspect_ratio: array (nullable = true)\n",
      " |    |    |    |    |    |    |    |-- element: long (containsNull = true)\n",
      " |    |    |    |    |    |    |-- duration_millis: long (nullable = true)\n",
      " |    |    |    |    |    |    |-- variants: array (nullable = true)\n",
      " |    |    |    |    |    |    |    |-- element: struct (containsNull = true)\n",
      " |    |    |    |    |    |    |    |    |-- bitrate: long (nullable = true)\n",
      " |    |    |    |    |    |    |    |    |-- content_type: string (nullable = true)\n",
      " |    |    |    |    |    |    |    |    |-- url: string (nullable = true)\n",
      " |    |    |-- extended_tweet: struct (nullable = true)\n",
      " |    |    |    |-- display_text_range: array (nullable = true)\n",
      " |    |    |    |    |-- element: long (containsNull = true)\n",
      " |    |    |    |-- entities: struct (nullable = true)\n",
      " |    |    |    |    |-- hashtags: array (nullable = true)\n",
      " |    |    |    |    |    |-- element: struct (containsNull = true)\n",
      " |    |    |    |    |    |    |-- indices: array (nullable = true)\n",
      " |    |    |    |    |    |    |    |-- element: long (containsNull = true)\n",
      " |    |    |    |    |    |    |-- text: string (nullable = true)\n",
      " |    |    |    |    |-- media: array (nullable = true)\n",
      " |    |    |    |    |    |-- element: struct (containsNull = true)\n",
      " |    |    |    |    |    |    |-- display_url: string (nullable = true)\n",
      " |    |    |    |    |    |    |-- expanded_url: string (nullable = true)\n",
      " |    |    |    |    |    |    |-- id: long (nullable = true)\n",
      " |    |    |    |    |    |    |-- id_str: string (nullable = true)\n",
      " |    |    |    |    |    |    |-- indices: array (nullable = true)\n",
      " |    |    |    |    |    |    |    |-- element: long (containsNull = true)\n",
      " |    |    |    |    |    |    |-- media_url: string (nullable = true)\n",
      " |    |    |    |    |    |    |-- media_url_https: string (nullable = true)\n",
      " |    |    |    |    |    |    |-- sizes: struct (nullable = true)\n",
      " |    |    |    |    |    |    |    |-- large: struct (nullable = true)\n",
      " |    |    |    |    |    |    |    |    |-- h: long (nullable = true)\n",
      " |    |    |    |    |    |    |    |    |-- resize: string (nullable = true)\n",
      " |    |    |    |    |    |    |    |    |-- w: long (nullable = true)\n",
      " |    |    |    |    |    |    |    |-- medium: struct (nullable = true)\n",
      " |    |    |    |    |    |    |    |    |-- h: long (nullable = true)\n",
      " |    |    |    |    |    |    |    |    |-- resize: string (nullable = true)\n",
      " |    |    |    |    |    |    |    |    |-- w: long (nullable = true)\n",
      " |    |    |    |    |    |    |    |-- small: struct (nullable = true)\n",
      " |    |    |    |    |    |    |    |    |-- h: long (nullable = true)\n",
      " |    |    |    |    |    |    |    |    |-- resize: string (nullable = true)\n",
      " |    |    |    |    |    |    |    |    |-- w: long (nullable = true)\n",
      " |    |    |    |    |    |    |    |-- thumb: struct (nullable = true)\n",
      " |    |    |    |    |    |    |    |    |-- h: long (nullable = true)\n",
      " |    |    |    |    |    |    |    |    |-- resize: string (nullable = true)\n",
      " |    |    |    |    |    |    |    |    |-- w: long (nullable = true)\n",
      " |    |    |    |    |    |    |-- source_status_id: long (nullable = true)\n",
      " |    |    |    |    |    |    |-- source_status_id_str: string (nullable = true)\n",
      " |    |    |    |    |    |    |-- source_user_id: long (nullable = true)\n",
      " |    |    |    |    |    |    |-- source_user_id_str: string (nullable = true)\n",
      " |    |    |    |    |    |    |-- type: string (nullable = true)\n",
      " |    |    |    |    |    |    |-- url: string (nullable = true)\n",
      " |    |    |    |    |    |    |-- video_info: struct (nullable = true)\n",
      " |    |    |    |    |    |    |    |-- aspect_ratio: array (nullable = true)\n",
      " |    |    |    |    |    |    |    |    |-- element: long (containsNull = true)\n",
      " |    |    |    |    |    |    |    |-- duration_millis: long (nullable = true)\n",
      " |    |    |    |    |    |    |    |-- variants: array (nullable = true)\n",
      " |    |    |    |    |    |    |    |    |-- element: struct (containsNull = true)\n",
      " |    |    |    |    |    |    |    |    |    |-- bitrate: long (nullable = true)\n",
      " |    |    |    |    |    |    |    |    |    |-- content_type: string (nullable = true)\n",
      " |    |    |    |    |    |    |    |    |    |-- url: string (nullable = true)\n",
      " |    |    |    |    |-- symbols: array (nullable = true)\n",
      " |    |    |    |    |    |-- element: string (containsNull = true)\n",
      " |    |    |    |    |-- urls: array (nullable = true)\n",
      " |    |    |    |    |    |-- element: struct (containsNull = true)\n",
      " |    |    |    |    |    |    |-- display_url: string (nullable = true)\n",
      " |    |    |    |    |    |    |-- expanded_url: string (nullable = true)\n",
      " |    |    |    |    |    |    |-- indices: array (nullable = true)\n",
      " |    |    |    |    |    |    |    |-- element: long (containsNull = true)\n",
      " |    |    |    |    |    |    |-- url: string (nullable = true)\n",
      " |    |    |    |    |-- user_mentions: array (nullable = true)\n",
      " |    |    |    |    |    |-- element: struct (containsNull = true)\n",
      " |    |    |    |    |    |    |-- id: long (nullable = true)\n",
      " |    |    |    |    |    |    |-- id_str: string (nullable = true)\n",
      " |    |    |    |    |    |    |-- indices: array (nullable = true)\n",
      " |    |    |    |    |    |    |    |-- element: long (containsNull = true)\n",
      " |    |    |    |    |    |    |-- name: string (nullable = true)\n",
      " |    |    |    |    |    |    |-- screen_name: string (nullable = true)\n",
      " |    |    |    |-- extended_entities: struct (nullable = true)\n",
      " |    |    |    |    |-- media: array (nullable = true)\n",
      " |    |    |    |    |    |-- element: struct (containsNull = true)\n",
      " |    |    |    |    |    |    |-- display_url: string (nullable = true)\n",
      " |    |    |    |    |    |    |-- expanded_url: string (nullable = true)\n",
      " |    |    |    |    |    |    |-- id: long (nullable = true)\n",
      " |    |    |    |    |    |    |-- id_str: string (nullable = true)\n",
      " |    |    |    |    |    |    |-- indices: array (nullable = true)\n",
      " |    |    |    |    |    |    |    |-- element: long (containsNull = true)\n",
      " |    |    |    |    |    |    |-- media_url: string (nullable = true)\n",
      " |    |    |    |    |    |    |-- media_url_https: string (nullable = true)\n",
      " |    |    |    |    |    |    |-- sizes: struct (nullable = true)\n",
      " |    |    |    |    |    |    |    |-- large: struct (nullable = true)\n",
      " |    |    |    |    |    |    |    |    |-- h: long (nullable = true)\n",
      " |    |    |    |    |    |    |    |    |-- resize: string (nullable = true)\n",
      " |    |    |    |    |    |    |    |    |-- w: long (nullable = true)\n",
      " |    |    |    |    |    |    |    |-- medium: struct (nullable = true)\n",
      " |    |    |    |    |    |    |    |    |-- h: long (nullable = true)\n",
      " |    |    |    |    |    |    |    |    |-- resize: string (nullable = true)\n",
      " |    |    |    |    |    |    |    |    |-- w: long (nullable = true)\n",
      " |    |    |    |    |    |    |    |-- small: struct (nullable = true)\n",
      " |    |    |    |    |    |    |    |    |-- h: long (nullable = true)\n",
      " |    |    |    |    |    |    |    |    |-- resize: string (nullable = true)\n",
      " |    |    |    |    |    |    |    |    |-- w: long (nullable = true)\n",
      " |    |    |    |    |    |    |    |-- thumb: struct (nullable = true)\n",
      " |    |    |    |    |    |    |    |    |-- h: long (nullable = true)\n",
      " |    |    |    |    |    |    |    |    |-- resize: string (nullable = true)\n",
      " |    |    |    |    |    |    |    |    |-- w: long (nullable = true)\n",
      " |    |    |    |    |    |    |-- source_status_id: long (nullable = true)\n",
      " |    |    |    |    |    |    |-- source_status_id_str: string (nullable = true)\n",
      " |    |    |    |    |    |    |-- source_user_id: long (nullable = true)\n",
      " |    |    |    |    |    |    |-- source_user_id_str: string (nullable = true)\n",
      " |    |    |    |    |    |    |-- type: string (nullable = true)\n",
      " |    |    |    |    |    |    |-- url: string (nullable = true)\n",
      " |    |    |    |    |    |    |-- video_info: struct (nullable = true)\n",
      " |    |    |    |    |    |    |    |-- aspect_ratio: array (nullable = true)\n",
      " |    |    |    |    |    |    |    |    |-- element: long (containsNull = true)\n",
      " |    |    |    |    |    |    |    |-- duration_millis: long (nullable = true)\n",
      " |    |    |    |    |    |    |    |-- variants: array (nullable = true)\n",
      " |    |    |    |    |    |    |    |    |-- element: struct (containsNull = true)\n",
      " |    |    |    |    |    |    |    |    |    |-- bitrate: long (nullable = true)\n",
      " |    |    |    |    |    |    |    |    |    |-- content_type: string (nullable = true)\n",
      " |    |    |    |    |    |    |    |    |    |-- url: string (nullable = true)\n",
      " |    |    |    |-- full_text: string (nullable = true)\n",
      " |    |    |-- favorite_count: long (nullable = true)\n",
      " |    |    |-- favorited: boolean (nullable = true)\n",
      " |    |    |-- filter_level: string (nullable = true)\n",
      " |    |    |-- geo: struct (nullable = true)\n",
      " |    |    |    |-- coordinates: array (nullable = true)\n",
      " |    |    |    |    |-- element: double (containsNull = true)\n",
      " |    |    |    |-- type: string (nullable = true)\n",
      " |    |    |-- id: long (nullable = true)\n",
      " |    |    |-- id_str: string (nullable = true)\n",
      " |    |    |-- in_reply_to_screen_name: string (nullable = true)\n",
      " |    |    |-- in_reply_to_status_id: long (nullable = true)\n",
      " |    |    |-- in_reply_to_status_id_str: string (nullable = true)\n",
      " |    |    |-- in_reply_to_user_id: long (nullable = true)\n",
      " |    |    |-- in_reply_to_user_id_str: string (nullable = true)\n",
      " |    |    |-- is_quote_status: boolean (nullable = true)\n",
      " |    |    |-- lang: string (nullable = true)\n",
      " |    |    |-- place: struct (nullable = true)\n",
      " |    |    |    |-- bounding_box: struct (nullable = true)\n",
      " |    |    |    |    |-- coordinates: array (nullable = true)\n",
      " |    |    |    |    |    |-- element: array (containsNull = true)\n",
      " |    |    |    |    |    |    |-- element: array (containsNull = true)\n",
      " |    |    |    |    |    |    |    |-- element: double (containsNull = true)\n",
      " |    |    |    |    |-- type: string (nullable = true)\n",
      " |    |    |    |-- country: string (nullable = true)\n",
      " |    |    |    |-- country_code: string (nullable = true)\n",
      " |    |    |    |-- full_name: string (nullable = true)\n",
      " |    |    |    |-- id: string (nullable = true)\n",
      " |    |    |    |-- name: string (nullable = true)\n",
      " |    |    |    |-- place_type: string (nullable = true)\n",
      " |    |    |    |-- url: string (nullable = true)\n",
      " |    |    |-- possibly_sensitive: boolean (nullable = true)\n",
      " |    |    |-- quote_count: long (nullable = true)\n",
      " |    |    |-- quoted_status_id: long (nullable = true)\n",
      " |    |    |-- quoted_status_id_str: string (nullable = true)\n",
      " |    |    |-- reply_count: long (nullable = true)\n",
      " |    |    |-- retweet_count: long (nullable = true)\n",
      " |    |    |-- retweeted: boolean (nullable = true)\n",
      " |    |    |-- source: string (nullable = true)\n",
      " |    |    |-- text: string (nullable = true)\n",
      " |    |    |-- truncated: boolean (nullable = true)\n",
      " |    |    |-- user: struct (nullable = true)\n",
      " |    |    |    |-- contributors_enabled: boolean (nullable = true)\n",
      " |    |    |    |-- created_at: string (nullable = true)\n",
      " |    |    |    |-- default_profile: boolean (nullable = true)\n",
      " |    |    |    |-- default_profile_image: boolean (nullable = true)\n",
      " |    |    |    |-- description: string (nullable = true)\n",
      " |    |    |    |-- favourites_count: long (nullable = true)\n",
      " |    |    |    |-- follow_request_sent: string (nullable = true)\n",
      " |    |    |    |-- followers_count: long (nullable = true)\n",
      " |    |    |    |-- following: string (nullable = true)\n",
      " |    |    |    |-- friends_count: long (nullable = true)\n",
      " |    |    |    |-- geo_enabled: boolean (nullable = true)\n",
      " |    |    |    |-- id: long (nullable = true)\n",
      " |    |    |    |-- id_str: string (nullable = true)\n",
      " |    |    |    |-- is_translator: boolean (nullable = true)\n",
      " |    |    |    |-- lang: string (nullable = true)\n",
      " |    |    |    |-- listed_count: long (nullable = true)\n",
      " |    |    |    |-- location: string (nullable = true)\n",
      " |    |    |    |-- name: string (nullable = true)\n",
      " |    |    |    |-- notifications: string (nullable = true)\n",
      " |    |    |    |-- profile_background_color: string (nullable = true)\n",
      " |    |    |    |-- profile_background_image_url: string (nullable = true)\n",
      " |    |    |    |-- profile_background_image_url_https: string (nullable = true)\n",
      " |    |    |    |-- profile_background_tile: boolean (nullable = true)\n",
      " |    |    |    |-- profile_banner_url: string (nullable = true)\n",
      " |    |    |    |-- profile_image_url: string (nullable = true)\n",
      " |    |    |    |-- profile_image_url_https: string (nullable = true)\n",
      " |    |    |    |-- profile_link_color: string (nullable = true)\n",
      " |    |    |    |-- profile_sidebar_border_color: string (nullable = true)\n",
      " |    |    |    |-- profile_sidebar_fill_color: string (nullable = true)\n",
      " |    |    |    |-- profile_text_color: string (nullable = true)\n",
      " |    |    |    |-- profile_use_background_image: boolean (nullable = true)\n",
      " |    |    |    |-- protected: boolean (nullable = true)\n",
      " |    |    |    |-- screen_name: string (nullable = true)\n",
      " |    |    |    |-- statuses_count: long (nullable = true)\n",
      " |    |    |    |-- time_zone: string (nullable = true)\n",
      " |    |    |    |-- translator_type: string (nullable = true)\n",
      " |    |    |    |-- url: string (nullable = true)\n",
      " |    |    |    |-- utc_offset: long (nullable = true)\n",
      " |    |    |    |-- verified: boolean (nullable = true)\n",
      " |    |-- quoted_status_id: long (nullable = true)\n",
      " |    |-- quoted_status_id_str: string (nullable = true)\n",
      " |    |-- reply_count: long (nullable = true)\n",
      " |    |-- retweet_count: long (nullable = true)\n",
      " |    |-- retweeted: boolean (nullable = true)\n",
      " |    |-- scopes: struct (nullable = true)\n",
      " |    |    |-- followers: boolean (nullable = true)\n",
      " |    |-- source: string (nullable = true)\n",
      " |    |-- text: string (nullable = true)\n",
      " |    |-- truncated: boolean (nullable = true)\n",
      " |    |-- user: struct (nullable = true)\n",
      " |    |    |-- contributors_enabled: boolean (nullable = true)\n",
      " |    |    |-- created_at: string (nullable = true)\n",
      " |    |    |-- default_profile: boolean (nullable = true)\n",
      " |    |    |-- default_profile_image: boolean (nullable = true)\n",
      " |    |    |-- description: string (nullable = true)\n",
      " |    |    |-- favourites_count: long (nullable = true)\n",
      " |    |    |-- follow_request_sent: string (nullable = true)\n",
      " |    |    |-- followers_count: long (nullable = true)\n",
      " |    |    |-- following: string (nullable = true)\n",
      " |    |    |-- friends_count: long (nullable = true)\n",
      " |    |    |-- geo_enabled: boolean (nullable = true)\n",
      " |    |    |-- id: long (nullable = true)\n",
      " |    |    |-- id_str: string (nullable = true)\n",
      " |    |    |-- is_translator: boolean (nullable = true)\n",
      " |    |    |-- lang: string (nullable = true)\n",
      " |    |    |-- listed_count: long (nullable = true)\n",
      " |    |    |-- location: string (nullable = true)\n",
      " |    |    |-- name: string (nullable = true)\n",
      " |    |    |-- notifications: string (nullable = true)\n",
      " |    |    |-- profile_background_color: string (nullable = true)\n",
      " |    |    |-- profile_background_image_url: string (nullable = true)\n",
      " |    |    |-- profile_background_image_url_https: string (nullable = true)\n",
      " |    |    |-- profile_background_tile: boolean (nullable = true)\n",
      " |    |    |-- profile_banner_url: string (nullable = true)\n",
      " |    |    |-- profile_image_url: string (nullable = true)\n",
      " |    |    |-- profile_image_url_https: string (nullable = true)\n",
      " |    |    |-- profile_link_color: string (nullable = true)\n",
      " |    |    |-- profile_sidebar_border_color: string (nullable = true)\n",
      " |    |    |-- profile_sidebar_fill_color: string (nullable = true)\n",
      " |    |    |-- profile_text_color: string (nullable = true)\n",
      " |    |    |-- profile_use_background_image: boolean (nullable = true)\n",
      " |    |    |-- protected: boolean (nullable = true)\n",
      " |    |    |-- screen_name: string (nullable = true)\n",
      " |    |    |-- statuses_count: long (nullable = true)\n",
      " |    |    |-- time_zone: string (nullable = true)\n",
      " |    |    |-- translator_type: string (nullable = true)\n",
      " |    |    |-- url: string (nullable = true)\n",
      " |    |    |-- utc_offset: long (nullable = true)\n",
      " |    |    |-- verified: boolean (nullable = true)\n",
      " |-- source: string (nullable = true)\n",
      " |-- text: string (nullable = true)\n",
      " |-- timestamp_ms: string (nullable = true)\n",
      " |-- truncated: boolean (nullable = true)\n",
      " |-- user: struct (nullable = true)\n",
      " |    |-- contributors_enabled: boolean (nullable = true)\n",
      " |    |-- created_at: string (nullable = true)\n",
      " |    |-- default_profile: boolean (nullable = true)\n",
      " |    |-- default_profile_image: boolean (nullable = true)\n",
      " |    |-- description: string (nullable = true)\n",
      " |    |-- favourites_count: long (nullable = true)\n",
      " |    |-- follow_request_sent: string (nullable = true)\n",
      " |    |-- followers_count: long (nullable = true)\n",
      " |    |-- following: string (nullable = true)\n",
      " |    |-- friends_count: long (nullable = true)\n",
      " |    |-- geo_enabled: boolean (nullable = true)\n",
      " |    |-- id: long (nullable = true)\n",
      " |    |-- id_str: string (nullable = true)\n",
      " |    |-- is_translator: boolean (nullable = true)\n",
      " |    |-- lang: string (nullable = true)\n",
      " |    |-- listed_count: long (nullable = true)\n",
      " |    |-- location: string (nullable = true)\n",
      " |    |-- name: string (nullable = true)\n",
      " |    |-- notifications: string (nullable = true)\n",
      " |    |-- profile_background_color: string (nullable = true)\n",
      " |    |-- profile_background_image_url: string (nullable = true)\n",
      " |    |-- profile_background_image_url_https: string (nullable = true)\n",
      " |    |-- profile_background_tile: boolean (nullable = true)\n",
      " |    |-- profile_banner_url: string (nullable = true)\n",
      " |    |-- profile_image_url: string (nullable = true)\n",
      " |    |-- profile_image_url_https: string (nullable = true)\n",
      " |    |-- profile_link_color: string (nullable = true)\n",
      " |    |-- profile_sidebar_border_color: string (nullable = true)\n",
      " |    |-- profile_sidebar_fill_color: string (nullable = true)\n",
      " |    |-- profile_text_color: string (nullable = true)\n",
      " |    |-- profile_use_background_image: boolean (nullable = true)\n",
      " |    |-- protected: boolean (nullable = true)\n",
      " |    |-- screen_name: string (nullable = true)\n",
      " |    |-- statuses_count: long (nullable = true)\n",
      " |    |-- time_zone: string (nullable = true)\n",
      " |    |-- translator_type: string (nullable = true)\n",
      " |    |-- url: string (nullable = true)\n",
      " |    |-- utc_offset: long (nullable = true)\n",
      " |    |-- verified: boolean (nullable = true)\n",
      "\n"
     ]
    }
   ],
   "source": [
    "mlb.printSchema()"
   ]
  },
  {
   "cell_type": "code",
   "execution_count": 17,
   "metadata": {},
   "outputs": [],
   "source": [
    "sample = mlb.sample(False, 0.1, 12345)"
   ]
  },
  {
   "cell_type": "code",
   "execution_count": 53,
   "metadata": {},
   "outputs": [
    {
     "name": "stderr",
     "output_type": "stream",
     "text": [
      "                                                                                \r"
     ]
    },
    {
     "data": {
      "text/plain": [
       "9889"
      ]
     },
     "execution_count": 53,
     "metadata": {},
     "output_type": "execute_result"
    }
   ],
   "source": [
    "sample.count()"
   ]
  },
  {
   "cell_type": "markdown",
   "metadata": {},
   "source": [
    "There is **hierarchy** in JSON structures like tweets.  We can use `.` to address this:"
   ]
  },
  {
   "cell_type": "code",
   "execution_count": 54,
   "metadata": {},
   "outputs": [
    {
     "name": "stderr",
     "output_type": "stream",
     "text": [
      "[Stage 21:================================================>         (5 + 1) / 6]\r"
     ]
    },
    {
     "name": "stdout",
     "output_type": "stream",
     "text": [
      "+--------------------+\n",
      "|                name|\n",
      "+--------------------+\n",
      "|                 MLB|\n",
      "|    Noticias Caracol|\n",
      "|        Piers Morgan|\n",
      "|         John Legere|\n",
      "|José Ramón Fernández|\n",
      "|      Alberto Ravell|\n",
      "|   ESPN Stats & Info|\n",
      "|        Noticias MVS|\n",
      "|        Buster Olney|\n",
      "|          Rich Eisen|\n",
      "+--------------------+\n",
      "only showing top 10 rows\n",
      "\n"
     ]
    },
    {
     "name": "stderr",
     "output_type": "stream",
     "text": [
      "                                                                                \r"
     ]
    }
   ],
   "source": [
    "sample.orderBy(\"user.followers_count\", ascending=False).select('user.name').show(10)"
   ]
  },
  {
   "cell_type": "code",
   "execution_count": 55,
   "metadata": {},
   "outputs": [],
   "source": [
    "small_sample = mlb.sample(False, 0.01, 12345)"
   ]
  },
  {
   "cell_type": "code",
   "execution_count": 56,
   "metadata": {},
   "outputs": [
    {
     "name": "stderr",
     "output_type": "stream",
     "text": [
      "                                                                                \r"
     ]
    },
    {
     "data": {
      "text/plain": [
       "1008"
      ]
     },
     "execution_count": 56,
     "metadata": {},
     "output_type": "execute_result"
    }
   ],
   "source": [
    "small_sample.count()"
   ]
  },
  {
   "cell_type": "code",
   "execution_count": 57,
   "metadata": {
    "collapsed": true,
    "jupyter": {
     "outputs_hidden": true
    },
    "tags": []
   },
   "outputs": [
    {
     "name": "stderr",
     "output_type": "stream",
     "text": [
      "                                                                                \r"
     ]
    },
    {
     "name": "stdout",
     "output_type": "stream",
     "text": [
      "+------------+-----------+--------------------+------------------+--------------------+--------------------+--------------------+--------------+---------+------------+----+------------------+------------------+-----------------------+---------------------+-------------------------+-------------------+-----------------------+---------------+----+-----+------------------+-----------+-------------+----------------+--------------------+-----------+-------------+---------+--------------------+--------------------+--------------------+-------------+---------+--------------------+\n",
      "|contributors|coordinates|          created_at|display_text_range|            entities|   extended_entities|      extended_tweet|favorite_count|favorited|filter_level| geo|                id|            id_str|in_reply_to_screen_name|in_reply_to_status_id|in_reply_to_status_id_str|in_reply_to_user_id|in_reply_to_user_id_str|is_quote_status|lang|place|possibly_sensitive|quote_count|quoted_status|quoted_status_id|quoted_status_id_str|reply_count|retweet_count|retweeted|    retweeted_status|              source|                text| timestamp_ms|truncated|                user|\n",
      "+------------+-----------+--------------------+------------------+--------------------+--------------------+--------------------+--------------+---------+------------+----+------------------+------------------+-----------------------+---------------------+-------------------------+-------------------+-----------------------+---------------+----+-----+------------------+-----------+-------------+----------------+--------------------+-----------+-------------+---------+--------------------+--------------------+--------------------+-------------+---------+--------------------+\n",
      "|        null|       null|Mon Oct 30 18:37:...|              null|{[], null, [], [{...|                null|                null|             0|    false|         low|null|925069104112955399|925069104112955399|                   null|                 null|                     null|               null|                   null|          false|  en| null|             false|          0|         null|            null|                null|          0|            0|    false|{null, null, Mon ...|<a href=\"http://t...|RT @UpshotNYT: Th...|1509388636030|    false|{false, Tue Jan 2...|\n",
      "|        null|       null|Mon Oct 30 18:02:...|              null|{[], null, [], [{...|                null|                null|             0|    false|         low|null|925060422000168961|925060422000168961|                   null|                 null|                     null|               null|                   null|          false|  es| null|             false|          0|         null|            null|                null|          0|            0|    false|                null|<a href=\"https://...|Duelo de infarto ...|1509386566053|    false|{false, Mon Apr 2...|\n",
      "|        null|       null|Tue Oct 31 01:11:...|          [0, 101]|{[{[75, 80], khou...|{[{pic.twitter.co...|                null|             0|    false|         low|null|925168193336946688|925168193336946688|                   null|                 null|                     null|               null|                   null|          false|  en| null|             false|          0|         null|            null|                null|          0|            0|    false|                null|<a href=\"http://w...|Astros barber giv...|1509412260742|    false|{false, Sat Aug 0...|\n",
      "|        null|       null|Mon Oct 30 21:46:...|           [0, 99]|{[], [{pic.twitte...|{[{pic.twitter.co...|                null|             0|    false|         low|null|925116851927027714|925116851927027714|                   null|                 null|                     null|               null|                   null|          false|  es| null|             false|          0|         null|            null|                null|          0|            0|    false|                null|<a href=\"http://w...|► Las prediccione...|1509400019996|    false|{false, Mon Jan 2...|\n",
      "|        null|       null|Mon Oct 30 20:24:...|          [0, 109]|{[], [{pic.twitte...|{[{pic.twitter.co...|                null|             0|    false|         low|null|925096082337443840|925096082337443840|                   null|                 null|                     null|               null|                   null|          false|  en| null|             false|          0|         null|            null|                null|          0|            0|    false|                null|<a href=\"https://...|2017 Houston Astr...|1509395068140|    false|{false, Thu Jan 2...|\n",
      "|        null|       null|Mon Oct 30 18:54:...|          [0, 140]|{[{[0, 15], PorSi...|                null|{[0, 138], {[{[0,...|             0|    false|         low|null|925073320155889664|925073320155889664|                   null|                 null|                     null|               null|                   null|          false|  es| null|             false|          0|         null|            null|                null|          0|            0|    false|                null|<a href=\"https://...|#PorSiNoLoViste V...|1509389641213|     true|{false, Wed Aug 1...|\n",
      "|        null|       null|Mon Oct 30 22:02:...|           [0, 80]|{[], [{pic.twitte...|{[{pic.twitter.co...|                null|             0|    false|         low|null|925120751606345729|925120751606345729|                   null|                 null|                     null|               null|                   null|          false|  es| null|             false|          0|         null|            null|                null|          0|            0|    false|                null|<a href=\"http://t...|¡Hey Nación!\n",
      "\n",
      "⚾️L...|1509400949752|    false|{false, Thu May 2...|\n",
      "|        null|       null|Mon Oct 30 19:00:...|              null|{[{[80, 92], Worl...|                null|                null|             0|    false|         low|null|925074968714665984|925074968714665984|                   null|                 null|                     null|               null|                   null|          false|  en| null|              null|          0|         null|            null|                null|          0|            0|    false|{null, null, Mon ...|<a href=\"http://t...|RT @LindseyFOX26:...|1509390034260|    false|{false, Fri Oct 3...|\n",
      "|        null|       null|Mon Oct 30 21:26:...|              null|{[], null, [], []...|                null|                null|             0|    false|         low|null|925111673307967488|925111673307967488|                   null|                 null|                     null|               null|                   null|          false|  en| null|              null|          0|         null|            null|                null|          0|            0|    false|{null, null, Mon ...|<a href=\"https://...|RT @DavisABC11: N...|1509398785317|    false|{false, Tue Dec 2...|\n",
      "|        null|       null|Mon Oct 30 23:15:...|           [0, 97]|{[], [{pic.twitte...|{[{pic.twitter.co...|                null|             0|    false|         low|null|925139002050646017|925139002050646017|                   null|                 null|                     null|               null|                   null|          false|  es| null|             false|          0|         null|            null|                null|          0|            0|    false|                null|<a href=\"https://...|Los números que p...|1509405300997|    false|{false, Wed Sep 1...|\n",
      "+------------+-----------+--------------------+------------------+--------------------+--------------------+--------------------+--------------+---------+------------+----+------------------+------------------+-----------------------+---------------------+-------------------------+-------------------+-----------------------+---------------+----+-----+------------------+-----------+-------------+----------------+--------------------+-----------+-------------+---------+--------------------+--------------------+--------------------+-------------+---------+--------------------+\n",
      "only showing top 10 rows\n",
      "\n"
     ]
    }
   ],
   "source": [
    "small_sample.orderBy(\"user.followers_count\", ascending=False).show(10)"
   ]
  },
  {
   "cell_type": "code",
   "execution_count": 58,
   "metadata": {
    "collapsed": true,
    "jupyter": {
     "outputs_hidden": true
    },
    "tags": []
   },
   "outputs": [
    {
     "data": {
      "text/plain": [
       "[Row(contributors=None, coordinates=None, created_at='Tue Oct 31 02:31:48 +0000 2017', display_text_range=None, entities=Row(hashtags=[Row(indices=[90, 102], text='EarnHistory')], media=[Row(display_url='pic.twitter.com/QH3wFDKMXQ', expanded_url='https://twitter.com/astros/status/925183644578152448/video/1', id=925183565972750336, id_str='925183565972750336', indices=[103, 126], media_url='http://pbs.twimg.com/ext_tw_video_thumb/925183565972750336/pu/img/GwxSvcgIN8r_DwS7.jpg', media_url_https='https://pbs.twimg.com/ext_tw_video_thumb/925183565972750336/pu/img/GwxSvcgIN8r_DwS7.jpg', sizes=Row(large=Row(h=576, resize='fit', w=1024), medium=Row(h=338, resize='fit', w=600), small=Row(h=191, resize='fit', w=340), thumb=Row(h=150, resize='crop', w=150)), source_status_id=925183644578152448, source_status_id_str='925183644578152448', source_user_id=52803520, source_user_id_str='52803520', type='photo', url='https://t.co/QH3wFDKMXQ')], symbols=[], urls=[], user_mentions=[Row(id=52803520, id_str='52803520', indices=[3, 10], name='Houston Astros', screen_name='astros')]), extended_entities=Row(media=[Row(display_url='pic.twitter.com/QH3wFDKMXQ', expanded_url='https://twitter.com/astros/status/925183644578152448/video/1', id=925183565972750336, id_str='925183565972750336', indices=[103, 126], media_url='http://pbs.twimg.com/ext_tw_video_thumb/925183565972750336/pu/img/GwxSvcgIN8r_DwS7.jpg', media_url_https='https://pbs.twimg.com/ext_tw_video_thumb/925183565972750336/pu/img/GwxSvcgIN8r_DwS7.jpg', sizes=Row(large=Row(h=576, resize='fit', w=1024), medium=Row(h=338, resize='fit', w=600), small=Row(h=191, resize='fit', w=340), thumb=Row(h=150, resize='crop', w=150)), source_status_id=925183644578152448, source_status_id_str='925183644578152448', source_user_id=52803520, source_user_id_str='52803520', type='video', url='https://t.co/QH3wFDKMXQ', video_info=Row(aspect_ratio=[16, 9], duration_millis=28160, variants=[Row(bitrate=None, content_type='application/x-mpegURL', url='https://video.twimg.com/ext_tw_video/925183565972750336/pu/pl/xC6dxRm9WRG9kIZv.m3u8'), Row(bitrate=320000, content_type='video/mp4', url='https://video.twimg.com/ext_tw_video/925183565972750336/pu/vid/320x180/o7EM3q4gyB-_g2Y_.mp4'), Row(bitrate=832000, content_type='video/mp4', url='https://video.twimg.com/ext_tw_video/925183565972750336/pu/vid/640x360/lbP4emygBmiYTwp0.mp4'), Row(bitrate=2176000, content_type='video/mp4', url='https://video.twimg.com/ext_tw_video/925183565972750336/pu/vid/1280x720/2GO5v6EspaPjwoNc.mp4')]))]), extended_tweet=None, favorite_count=0, favorited=False, filter_level='low', geo=None, id=925188528396488705, id_str='925188528396488705', in_reply_to_screen_name=None, in_reply_to_status_id=None, in_reply_to_status_id_str=None, in_reply_to_user_id=None, in_reply_to_user_id_str=None, is_quote_status=False, lang='en', place=None, possibly_sensitive=False, quote_count=0, quoted_status=None, quoted_status_id=None, quoted_status_id_str=None, reply_count=0, retweet_count=0, retweeted=False, retweeted_status=Row(contributors=None, coordinates=None, created_at='Tue Oct 31 02:12:24 +0000 2017', display_text_range=[0, 90], entities=Row(hashtags=[Row(indices=[78, 90], text='EarnHistory')], media=[Row(display_url='pic.twitter.com/QH3wFDKMXQ', expanded_url='https://twitter.com/astros/status/925183644578152448/video/1', id=925183565972750336, id_str='925183565972750336', indices=[91, 114], media_url='http://pbs.twimg.com/ext_tw_video_thumb/925183565972750336/pu/img/GwxSvcgIN8r_DwS7.jpg', media_url_https='https://pbs.twimg.com/ext_tw_video_thumb/925183565972750336/pu/img/GwxSvcgIN8r_DwS7.jpg', sizes=Row(large=Row(h=576, resize='fit', w=1024), medium=Row(h=338, resize='fit', w=600), small=Row(h=191, resize='fit', w=340), thumb=Row(h=150, resize='crop', w=150)), source_status_id=None, source_status_id_str=None, source_user_id=None, source_user_id_str=None, type='photo', url='https://t.co/QH3wFDKMXQ')], symbols=[], urls=[], user_mentions=[]), extended_entities=Row(media=[Row(display_url='pic.twitter.com/QH3wFDKMXQ', expanded_url='https://twitter.com/astros/status/925183644578152448/video/1', id=925183565972750336, id_str='925183565972750336', indices=[91, 114], media_url='http://pbs.twimg.com/ext_tw_video_thumb/925183565972750336/pu/img/GwxSvcgIN8r_DwS7.jpg', media_url_https='https://pbs.twimg.com/ext_tw_video_thumb/925183565972750336/pu/img/GwxSvcgIN8r_DwS7.jpg', sizes=Row(large=Row(h=576, resize='fit', w=1024), medium=Row(h=338, resize='fit', w=600), small=Row(h=191, resize='fit', w=340), thumb=Row(h=150, resize='crop', w=150)), source_status_id=None, source_status_id_str=None, source_user_id=None, source_user_id_str=None, type='video', url='https://t.co/QH3wFDKMXQ', video_info=Row(aspect_ratio=[16, 9], duration_millis=28160, variants=[Row(bitrate=None, content_type='application/x-mpegURL', url='https://video.twimg.com/ext_tw_video/925183565972750336/pu/pl/xC6dxRm9WRG9kIZv.m3u8'), Row(bitrate=320000, content_type='video/mp4', url='https://video.twimg.com/ext_tw_video/925183565972750336/pu/vid/320x180/o7EM3q4gyB-_g2Y_.mp4'), Row(bitrate=832000, content_type='video/mp4', url='https://video.twimg.com/ext_tw_video/925183565972750336/pu/vid/640x360/lbP4emygBmiYTwp0.mp4'), Row(bitrate=2176000, content_type='video/mp4', url='https://video.twimg.com/ext_tw_video/925183565972750336/pu/vid/1280x720/2GO5v6EspaPjwoNc.mp4')]))]), extended_tweet=None, favorite_count=549, favorited=False, filter_level='low', geo=None, id=925183644578152448, id_str='925183644578152448', in_reply_to_screen_name=None, in_reply_to_status_id=None, in_reply_to_status_id_str=None, in_reply_to_user_id=None, in_reply_to_user_id_str=None, is_quote_status=False, lang='en', place=None, possibly_sensitive=False, quote_count=7, quoted_status=None, quoted_status_id=None, quoted_status_id_str=None, reply_count=8, retweet_count=121, retweeted=False, scopes=None, source='<a href=\"http://twitter.com/download/iphone\" rel=\"nofollow\">Twitter for iPhone</a>', text='“These fans are ringside at one of the best boxing matches they’ll ever see!” #EarnHistory https://t.co/QH3wFDKMXQ', truncated=False, user=Row(contributors_enabled=False, created_at='Wed Jul 01 18:16:16 +0000 2009', default_profile=False, default_profile_image=False, description='Official Twitter account of the Houston Astros. Customer service questions: @astrosassist. FB: Astros. IG: astrosbaseball. 👻 astros', favourites_count=12312, follow_request_sent=None, followers_count=1093201, following=None, friends_count=665, geo_enabled=True, id=52803520, id_str='52803520', is_translator=False, lang='en', listed_count=4213, location='Minute Maid Park', name='Houston Astros', notifications=None, profile_background_color='002D62', profile_background_image_url='http://pbs.twimg.com/profile_background_images/559481385501462529/ic-DODTn.jpeg', profile_background_image_url_https='https://pbs.twimg.com/profile_background_images/559481385501462529/ic-DODTn.jpeg', profile_background_tile=False, profile_banner_url='https://pbs.twimg.com/profile_banners/52803520/1508859384', profile_image_url='http://pbs.twimg.com/profile_images/922849208570281986/4uh4yust_normal.jpg', profile_image_url_https='https://pbs.twimg.com/profile_images/922849208570281986/4uh4yust_normal.jpg', profile_link_color='FF7700', profile_sidebar_border_color='FFFFFF', profile_sidebar_fill_color='EBD4AC', profile_text_color='000000', profile_use_background_image=True, protected=False, screen_name='astros', statuses_count=64990, time_zone='Central Time (US & Canada)', translator_type='none', url='http://Astros.com', utc_offset=-18000, verified=True)), source='<a href=\"http://twitter.com/download/android\" rel=\"nofollow\">Twitter for Android</a>', text='RT @astros: “These fans are ringside at one of the best boxing matches they’ll ever see!” #EarnHistory https://t.co/QH3wFDKMXQ', timestamp_ms='1509417108998', truncated=False, user=Row(contributors_enabled=False, created_at='Thu May 31 15:35:19 +0000 2012', default_profile=True, default_profile_image=False, description='Husband, Father and Gamer. Pittsburgh Penguins/ Toronto Blue Jays fan.\\nXbox and Psn - Reaper6181979', favourites_count=34770, follow_request_sent=None, followers_count=372, following=None, friends_count=1029, geo_enabled=False, id=595578545, id_str='595578545', is_translator=False, lang='en', listed_count=6, location='Burlington, Ontario', name='HereThereEverywhere', notifications=None, profile_background_color='C0DEED', profile_background_image_url='http://abs.twimg.com/images/themes/theme1/bg.png', profile_background_image_url_https='https://abs.twimg.com/images/themes/theme1/bg.png', profile_background_tile=False, profile_banner_url='https://pbs.twimg.com/profile_banners/595578545/1509065293', profile_image_url='http://pbs.twimg.com/profile_images/924443807415926785/xdNz8-6x_normal.jpg', profile_image_url_https='https://pbs.twimg.com/profile_images/924443807415926785/xdNz8-6x_normal.jpg', profile_link_color='1DA1F2', profile_sidebar_border_color='C0DEED', profile_sidebar_fill_color='DDEEF6', profile_text_color='333333', profile_use_background_image=True, protected=False, screen_name='GTM618', statuses_count=11478, time_zone='Atlantic Time (Canada)', translator_type='none', url='http://www.pixelcereal.com/', utc_offset=-10800, verified=False))]"
      ]
     },
     "execution_count": 58,
     "metadata": {},
     "output_type": "execute_result"
    }
   ],
   "source": [
    "small_sample.rdd.take(1)"
   ]
  },
  {
   "cell_type": "code",
   "execution_count": 59,
   "metadata": {},
   "outputs": [
    {
     "name": "stderr",
     "output_type": "stream",
     "text": [
      "                                                                                \r"
     ]
    },
    {
     "data": {
      "text/plain": [
       "[('RT', 658),\n",
       " ('the', 429),\n",
       " ('to', 199),\n",
       " ('in', 169),\n",
       " ('a', 167),\n",
       " ('Astros', 166),\n",
       " ('', 160),\n",
       " ('I', 152),\n",
       " ('#EarnHistory', 134),\n",
       " ('that', 126)]"
      ]
     },
     "execution_count": 59,
     "metadata": {},
     "output_type": "execute_result"
    }
   ],
   "source": [
    "small_sample.rdd.flatMap(lambda r: r['text'].split(' ')) \\\n",
    "    .map(lambda t: (t, 1)) \\\n",
    "    .reduceByKey(lambda a, b: a + b) \\\n",
    "    .takeOrdered(10, key=lambda pair: -pair[1])"
   ]
  },
  {
   "cell_type": "code",
   "execution_count": 15,
   "metadata": {},
   "outputs": [
    {
     "name": "stderr",
     "output_type": "stream",
     "text": [
      "                                                                                \r"
     ]
    },
    {
     "data": {
      "text/plain": [
       "[('RT', 6580),\n",
       " ('the', 4573),\n",
       " ('to', 2127),\n",
       " ('a', 1733),\n",
       " ('', 1655),\n",
       " ('Astros', 1618),\n",
       " ('I', 1612),\n",
       " ('in', 1523),\n",
       " ('that', 1278),\n",
       " ('#EarnHistory', 1203)]"
      ]
     },
     "execution_count": 15,
     "metadata": {},
     "output_type": "execute_result"
    }
   ],
   "source": [
    "sample.rdd.flatMap(lambda r: r['text'].split(' ')) \\\n",
    "    .map(lambda t: (t, 1)) \\\n",
    "    .reduceByKey(lambda a, b: a + b) \\\n",
    "    .takeOrdered(10, key=lambda pair: -pair[1])"
   ]
  },
  {
   "cell_type": "markdown",
   "metadata": {},
   "source": [
    "Most importantly, we can do things like this:"
   ]
  },
  {
   "cell_type": "code",
   "execution_count": 16,
   "metadata": {},
   "outputs": [],
   "source": [
    "sample.createOrReplaceTempView(\"sample\")"
   ]
  },
  {
   "cell_type": "code",
   "execution_count": 17,
   "metadata": {
    "collapsed": true,
    "jupyter": {
     "outputs_hidden": true
    },
    "tags": []
   },
   "outputs": [
    {
     "data": {
      "text/plain": [
       "[Row(contributors=None, coordinates=None, created_at='Tue Oct 31 02:31:48 +0000 2017', display_text_range=None, entities=Row(hashtags=[Row(indices=[90, 102], text='EarnHistory')], media=[Row(display_url='pic.twitter.com/QH3wFDKMXQ', expanded_url='https://twitter.com/astros/status/925183644578152448/video/1', id=925183565972750336, id_str='925183565972750336', indices=[103, 126], media_url='http://pbs.twimg.com/ext_tw_video_thumb/925183565972750336/pu/img/GwxSvcgIN8r_DwS7.jpg', media_url_https='https://pbs.twimg.com/ext_tw_video_thumb/925183565972750336/pu/img/GwxSvcgIN8r_DwS7.jpg', sizes=Row(large=Row(h=576, resize='fit', w=1024), medium=Row(h=338, resize='fit', w=600), small=Row(h=191, resize='fit', w=340), thumb=Row(h=150, resize='crop', w=150)), source_status_id=925183644578152448, source_status_id_str='925183644578152448', source_user_id=52803520, source_user_id_str='52803520', type='photo', url='https://t.co/QH3wFDKMXQ')], symbols=[], urls=[], user_mentions=[Row(id=52803520, id_str='52803520', indices=[3, 10], name='Houston Astros', screen_name='astros')]), extended_entities=Row(media=[Row(display_url='pic.twitter.com/QH3wFDKMXQ', expanded_url='https://twitter.com/astros/status/925183644578152448/video/1', id=925183565972750336, id_str='925183565972750336', indices=[103, 126], media_url='http://pbs.twimg.com/ext_tw_video_thumb/925183565972750336/pu/img/GwxSvcgIN8r_DwS7.jpg', media_url_https='https://pbs.twimg.com/ext_tw_video_thumb/925183565972750336/pu/img/GwxSvcgIN8r_DwS7.jpg', sizes=Row(large=Row(h=576, resize='fit', w=1024), medium=Row(h=338, resize='fit', w=600), small=Row(h=191, resize='fit', w=340), thumb=Row(h=150, resize='crop', w=150)), source_status_id=925183644578152448, source_status_id_str='925183644578152448', source_user_id=52803520, source_user_id_str='52803520', type='video', url='https://t.co/QH3wFDKMXQ', video_info=Row(aspect_ratio=[16, 9], duration_millis=28160, variants=[Row(bitrate=None, content_type='application/x-mpegURL', url='https://video.twimg.com/ext_tw_video/925183565972750336/pu/pl/xC6dxRm9WRG9kIZv.m3u8'), Row(bitrate=320000, content_type='video/mp4', url='https://video.twimg.com/ext_tw_video/925183565972750336/pu/vid/320x180/o7EM3q4gyB-_g2Y_.mp4'), Row(bitrate=832000, content_type='video/mp4', url='https://video.twimg.com/ext_tw_video/925183565972750336/pu/vid/640x360/lbP4emygBmiYTwp0.mp4'), Row(bitrate=2176000, content_type='video/mp4', url='https://video.twimg.com/ext_tw_video/925183565972750336/pu/vid/1280x720/2GO5v6EspaPjwoNc.mp4')]))]), extended_tweet=None, favorite_count=0, favorited=False, filter_level='low', geo=None, id=925188528396488705, id_str='925188528396488705', in_reply_to_screen_name=None, in_reply_to_status_id=None, in_reply_to_status_id_str=None, in_reply_to_user_id=None, in_reply_to_user_id_str=None, is_quote_status=False, lang='en', place=None, possibly_sensitive=False, quote_count=0, quoted_status=None, quoted_status_id=None, quoted_status_id_str=None, reply_count=0, retweet_count=0, retweeted=False, retweeted_status=Row(contributors=None, coordinates=None, created_at='Tue Oct 31 02:12:24 +0000 2017', display_text_range=[0, 90], entities=Row(hashtags=[Row(indices=[78, 90], text='EarnHistory')], media=[Row(display_url='pic.twitter.com/QH3wFDKMXQ', expanded_url='https://twitter.com/astros/status/925183644578152448/video/1', id=925183565972750336, id_str='925183565972750336', indices=[91, 114], media_url='http://pbs.twimg.com/ext_tw_video_thumb/925183565972750336/pu/img/GwxSvcgIN8r_DwS7.jpg', media_url_https='https://pbs.twimg.com/ext_tw_video_thumb/925183565972750336/pu/img/GwxSvcgIN8r_DwS7.jpg', sizes=Row(large=Row(h=576, resize='fit', w=1024), medium=Row(h=338, resize='fit', w=600), small=Row(h=191, resize='fit', w=340), thumb=Row(h=150, resize='crop', w=150)), source_status_id=None, source_status_id_str=None, source_user_id=None, source_user_id_str=None, type='photo', url='https://t.co/QH3wFDKMXQ')], symbols=[], urls=[], user_mentions=[]), extended_entities=Row(media=[Row(display_url='pic.twitter.com/QH3wFDKMXQ', expanded_url='https://twitter.com/astros/status/925183644578152448/video/1', id=925183565972750336, id_str='925183565972750336', indices=[91, 114], media_url='http://pbs.twimg.com/ext_tw_video_thumb/925183565972750336/pu/img/GwxSvcgIN8r_DwS7.jpg', media_url_https='https://pbs.twimg.com/ext_tw_video_thumb/925183565972750336/pu/img/GwxSvcgIN8r_DwS7.jpg', sizes=Row(large=Row(h=576, resize='fit', w=1024), medium=Row(h=338, resize='fit', w=600), small=Row(h=191, resize='fit', w=340), thumb=Row(h=150, resize='crop', w=150)), source_status_id=None, source_status_id_str=None, source_user_id=None, source_user_id_str=None, type='video', url='https://t.co/QH3wFDKMXQ', video_info=Row(aspect_ratio=[16, 9], duration_millis=28160, variants=[Row(bitrate=None, content_type='application/x-mpegURL', url='https://video.twimg.com/ext_tw_video/925183565972750336/pu/pl/xC6dxRm9WRG9kIZv.m3u8'), Row(bitrate=320000, content_type='video/mp4', url='https://video.twimg.com/ext_tw_video/925183565972750336/pu/vid/320x180/o7EM3q4gyB-_g2Y_.mp4'), Row(bitrate=832000, content_type='video/mp4', url='https://video.twimg.com/ext_tw_video/925183565972750336/pu/vid/640x360/lbP4emygBmiYTwp0.mp4'), Row(bitrate=2176000, content_type='video/mp4', url='https://video.twimg.com/ext_tw_video/925183565972750336/pu/vid/1280x720/2GO5v6EspaPjwoNc.mp4')]))]), extended_tweet=None, favorite_count=549, favorited=False, filter_level='low', geo=None, id=925183644578152448, id_str='925183644578152448', in_reply_to_screen_name=None, in_reply_to_status_id=None, in_reply_to_status_id_str=None, in_reply_to_user_id=None, in_reply_to_user_id_str=None, is_quote_status=False, lang='en', place=None, possibly_sensitive=False, quote_count=7, quoted_status=None, quoted_status_id=None, quoted_status_id_str=None, reply_count=8, retweet_count=121, retweeted=False, scopes=None, source='<a href=\"http://twitter.com/download/iphone\" rel=\"nofollow\">Twitter for iPhone</a>', text='“These fans are ringside at one of the best boxing matches they’ll ever see!” #EarnHistory https://t.co/QH3wFDKMXQ', truncated=False, user=Row(contributors_enabled=False, created_at='Wed Jul 01 18:16:16 +0000 2009', default_profile=False, default_profile_image=False, description='Official Twitter account of the Houston Astros. Customer service questions: @astrosassist. FB: Astros. IG: astrosbaseball. 👻 astros', favourites_count=12312, follow_request_sent=None, followers_count=1093201, following=None, friends_count=665, geo_enabled=True, id=52803520, id_str='52803520', is_translator=False, lang='en', listed_count=4213, location='Minute Maid Park', name='Houston Astros', notifications=None, profile_background_color='002D62', profile_background_image_url='http://pbs.twimg.com/profile_background_images/559481385501462529/ic-DODTn.jpeg', profile_background_image_url_https='https://pbs.twimg.com/profile_background_images/559481385501462529/ic-DODTn.jpeg', profile_background_tile=False, profile_banner_url='https://pbs.twimg.com/profile_banners/52803520/1508859384', profile_image_url='http://pbs.twimg.com/profile_images/922849208570281986/4uh4yust_normal.jpg', profile_image_url_https='https://pbs.twimg.com/profile_images/922849208570281986/4uh4yust_normal.jpg', profile_link_color='FF7700', profile_sidebar_border_color='FFFFFF', profile_sidebar_fill_color='EBD4AC', profile_text_color='000000', profile_use_background_image=True, protected=False, screen_name='astros', statuses_count=64990, time_zone='Central Time (US & Canada)', translator_type='none', url='http://Astros.com', utc_offset=-18000, verified=True)), source='<a href=\"http://twitter.com/download/android\" rel=\"nofollow\">Twitter for Android</a>', text='RT @astros: “These fans are ringside at one of the best boxing matches they’ll ever see!” #EarnHistory https://t.co/QH3wFDKMXQ', timestamp_ms='1509417108998', truncated=False, user=Row(contributors_enabled=False, created_at='Thu May 31 15:35:19 +0000 2012', default_profile=True, default_profile_image=False, description='Husband, Father and Gamer. Pittsburgh Penguins/ Toronto Blue Jays fan.\\nXbox and Psn - Reaper6181979', favourites_count=34770, follow_request_sent=None, followers_count=372, following=None, friends_count=1029, geo_enabled=False, id=595578545, id_str='595578545', is_translator=False, lang='en', listed_count=6, location='Burlington, Ontario', name='HereThereEverywhere', notifications=None, profile_background_color='C0DEED', profile_background_image_url='http://abs.twimg.com/images/themes/theme1/bg.png', profile_background_image_url_https='https://abs.twimg.com/images/themes/theme1/bg.png', profile_background_tile=False, profile_banner_url='https://pbs.twimg.com/profile_banners/595578545/1509065293', profile_image_url='http://pbs.twimg.com/profile_images/924443807415926785/xdNz8-6x_normal.jpg', profile_image_url_https='https://pbs.twimg.com/profile_images/924443807415926785/xdNz8-6x_normal.jpg', profile_link_color='1DA1F2', profile_sidebar_border_color='C0DEED', profile_sidebar_fill_color='DDEEF6', profile_text_color='333333', profile_use_background_image=True, protected=False, screen_name='GTM618', statuses_count=11478, time_zone='Atlantic Time (Canada)', translator_type='none', url='http://www.pixelcereal.com/', utc_offset=-10800, verified=False))]"
      ]
     },
     "execution_count": 17,
     "metadata": {},
     "output_type": "execute_result"
    }
   ],
   "source": [
    "sqlc.sql(\"SELECT * FROM sample\").take(1)"
   ]
  },
  {
   "cell_type": "code",
   "execution_count": 18,
   "metadata": {},
   "outputs": [
    {
     "name": "stderr",
     "output_type": "stream",
     "text": [
      "[Stage 6:=================================================>         (5 + 1) / 6]\r"
     ]
    },
    {
     "name": "stdout",
     "output_type": "stream",
     "text": [
      "+---------------+-------+\n",
      "|    screen_name|     fc|\n",
      "+---------------+-------+\n",
      "|            MLB|7844577|\n",
      "|NoticiasCaracol|7758961|\n",
      "|    piersmorgan|6181000|\n",
      "|     JohnLegere|4632931|\n",
      "|   joserra_espn|2920851|\n",
      "+---------------+-------+\n",
      "only showing top 5 rows\n",
      "\n"
     ]
    },
    {
     "name": "stderr",
     "output_type": "stream",
     "text": [
      "                                                                                \r"
     ]
    }
   ],
   "source": [
    "sqlc.sql(\"\"\"\n",
    "    SELECT user.screen_name, user.followers_count AS fc\n",
    "    FROM sample\n",
    "    ORDER BY fc DESC\n",
    "\"\"\").show(5)"
   ]
  },
  {
   "cell_type": "markdown",
   "metadata": {},
   "source": [
    "## Spark MLlib example\n",
    "\n",
    "### Fetch and prepare data - Iris classification\n",
    "\n",
    "Let's use a classic dataset, [Fisher's Iris data](https://en.wikipedia.org/wiki/Iris_flower_data_set).  The best source for this is at its [UCI repository page](https://archive.ics.uci.edu/ml/datasets/iris), where they have a useful [descriptive page](https://archive.ics.uci.edu/ml/machine-learning-databases/iris/iris.names).  Every ML library has a tutorial that uses this dataset.\n",
    "\n",
    "The purpose of reviewing this dataset isn't to demonstrate Spark's computing power; we've already seen that.  The goal here is rather to show you how to produce a machine learning model using Spark.  You can compare the process to what you can find with environments like R, scikit-learn, and others.  The process compares pretty well."
   ]
  },
  {
   "cell_type": "code",
   "execution_count": 19,
   "metadata": {},
   "outputs": [
    {
     "name": "stdout",
     "output_type": "stream",
     "text": [
      "--2021-11-06 20:39:45--  https://s3.amazonaws.com/2018-dmfa/week-13/iris.csv\n",
      "Resolving s3.amazonaws.com (s3.amazonaws.com)... 52.217.159.0\n",
      "Connecting to s3.amazonaws.com (s3.amazonaws.com)|52.217.159.0|:443... connected.\n",
      "HTTP request sent, awaiting response... 200 OK\n",
      "Length: 4606 (4.5K) [text/csv]\n",
      "Saving to: ‘iris.csv’\n",
      "\n",
      "iris.csv            100%[===================>]   4.50K  --.-KB/s    in 0s      \n",
      "\n",
      "2021-11-06 20:39:45 (191 MB/s) - ‘iris.csv’ saved [4606/4606]\n",
      "\n"
     ]
    }
   ],
   "source": [
    "!wget https://s3.amazonaws.com/2018-dmfa/week-13/iris.csv"
   ]
  },
  {
   "cell_type": "code",
   "execution_count": 20,
   "metadata": {},
   "outputs": [
    {
     "name": "stdout",
     "output_type": "stream",
     "text": [
      "151 iris.csv\n"
     ]
    }
   ],
   "source": [
    "!wc -l iris.csv"
   ]
  },
  {
   "cell_type": "code",
   "execution_count": 21,
   "metadata": {},
   "outputs": [
    {
     "name": "stdout",
     "output_type": "stream",
     "text": [
      "| sepal_length | sepal_width | petal_length | petal_width | class       |\n",
      "| ------------ | ----------- | ------------ | ----------- | ----------- |\n",
      "|          5.1 |         3.5 |          1.4 |         0.2 | Iris-setosa |\n",
      "|          4.9 |         3.0 |          1.4 |         0.2 | Iris-setosa |\n",
      "|          4.7 |         3.2 |          1.3 |         0.2 | Iris-setosa |\n",
      "|          4.6 |         3.1 |          1.5 |         0.2 | Iris-setosa |\n",
      "|          5.0 |         3.6 |          1.4 |         0.2 | Iris-setosa |\n",
      "|          5.4 |         3.9 |          1.7 |         0.4 | Iris-setosa |\n",
      "|          4.6 |         3.4 |          1.4 |         0.3 | Iris-setosa |\n",
      "|          5.0 |         3.4 |          1.5 |         0.2 | Iris-setosa |\n",
      "|          4.4 |         2.9 |          1.4 |         0.2 | Iris-setosa |\n"
     ]
    }
   ],
   "source": [
    "!head iris.csv | csvlook"
   ]
  },
  {
   "cell_type": "code",
   "execution_count": 22,
   "metadata": {
    "collapsed": true,
    "jupyter": {
     "outputs_hidden": true
    },
    "tags": []
   },
   "outputs": [
    {
     "name": "stdout",
     "output_type": "stream",
     "text": [
      "  1. \"sepal_length\"\n",
      "\n",
      "\tType of data:          Number\n",
      "\tContains null values:  False\n",
      "\tUnique values:         35\n",
      "\tSmallest value:        4.3\n",
      "\tLargest value:         7.9\n",
      "\tSum:                   876.5\n",
      "\tMean:                  5.843333\n",
      "\tMedian:                5.8\n",
      "\tStDev:                 0.828066\n",
      "\tMost common values:    5 (10x)\n",
      "\t                       5.1 (9x)\n",
      "\t                       6.3 (9x)\n",
      "\t                       5.7 (8x)\n",
      "\t                       6.7 (8x)\n",
      "\n",
      "  2. \"sepal_width\"\n",
      "\n",
      "\tType of data:          Number\n",
      "\tContains null values:  False\n",
      "\tUnique values:         23\n",
      "\tSmallest value:        2\n",
      "\tLargest value:         4.4\n",
      "\tSum:                   458.1\n",
      "\tMean:                  3.054\n",
      "\tMedian:                3\n",
      "\tStDev:                 0.433594\n",
      "\tMost common values:    3 (26x)\n",
      "\t                       2.8 (14x)\n",
      "\t                       3.2 (13x)\n",
      "\t                       3.1 (12x)\n",
      "\t                       3.4 (12x)\n",
      "\n",
      "  3. \"petal_length\"\n",
      "\n",
      "\tType of data:          Number\n",
      "\tContains null values:  False\n",
      "\tUnique values:         43\n",
      "\tSmallest value:        1\n",
      "\tLargest value:         6.9\n",
      "\tSum:                   563.8\n",
      "\tMean:                  3.758667\n",
      "\tMedian:                4.35\n",
      "\tStDev:                 1.76442\n",
      "\tMost common values:    1.5 (14x)\n",
      "\t                       1.4 (12x)\n",
      "\t                       4.5 (8x)\n",
      "\t                       5.1 (8x)\n",
      "\t                       1.3 (7x)\n",
      "\n",
      "  4. \"petal_width\"\n",
      "\n",
      "\tType of data:          Number\n",
      "\tContains null values:  False\n",
      "\tUnique values:         22\n",
      "\tSmallest value:        0.1\n",
      "\tLargest value:         2.5\n",
      "\tSum:                   179.8\n",
      "\tMean:                  1.198667\n",
      "\tMedian:                1.3\n",
      "\tStDev:                 0.763161\n",
      "\tMost common values:    0.2 (28x)\n",
      "\t                       1.3 (13x)\n",
      "\t                       1.5 (12x)\n",
      "\t                       1.8 (12x)\n",
      "\t                       1.4 (8x)\n",
      "\n",
      "  5. \"class\"\n",
      "\n",
      "\tType of data:          Text\n",
      "\tContains null values:  False\n",
      "\tUnique values:         3\n",
      "\tLongest value:         15 characters\n",
      "\tMost common values:    Iris-setosa (50x)\n",
      "\t                       Iris-versicolor (50x)\n",
      "\t                       Iris-virginica (50x)\n",
      "\n",
      "Row count: 150\n"
     ]
    }
   ],
   "source": [
    "!csvstat iris.csv"
   ]
  },
  {
   "cell_type": "code",
   "execution_count": 18,
   "metadata": {
    "scrolled": true
   },
   "outputs": [],
   "source": [
    "iris = sqlc.read.csv('iris.csv', header=True, inferSchema=True)"
   ]
  },
  {
   "cell_type": "code",
   "execution_count": 24,
   "metadata": {},
   "outputs": [
    {
     "data": {
      "text/plain": [
       "150"
      ]
     },
     "execution_count": 24,
     "metadata": {},
     "output_type": "execute_result"
    }
   ],
   "source": [
    "iris.count()"
   ]
  },
  {
   "cell_type": "code",
   "execution_count": 25,
   "metadata": {},
   "outputs": [
    {
     "data": {
      "text/plain": [
       "[Row(sepal_length=5.1, sepal_width=3.5, petal_length=1.4, petal_width=0.2, class='Iris-setosa'),\n",
       " Row(sepal_length=4.9, sepal_width=3.0, petal_length=1.4, petal_width=0.2, class='Iris-setosa'),\n",
       " Row(sepal_length=4.7, sepal_width=3.2, petal_length=1.3, petal_width=0.2, class='Iris-setosa'),\n",
       " Row(sepal_length=4.6, sepal_width=3.1, petal_length=1.5, petal_width=0.2, class='Iris-setosa'),\n",
       " Row(sepal_length=5.0, sepal_width=3.6, petal_length=1.4, petal_width=0.2, class='Iris-setosa')]"
      ]
     },
     "execution_count": 25,
     "metadata": {},
     "output_type": "execute_result"
    }
   ],
   "source": [
    "iris.take(5)"
   ]
  },
  {
   "cell_type": "code",
   "execution_count": 26,
   "metadata": {},
   "outputs": [
    {
     "name": "stdout",
     "output_type": "stream",
     "text": [
      "root\n",
      " |-- sepal_length: double (nullable = true)\n",
      " |-- sepal_width: double (nullable = true)\n",
      " |-- petal_length: double (nullable = true)\n",
      " |-- petal_width: double (nullable = true)\n",
      " |-- class: string (nullable = true)\n",
      "\n"
     ]
    }
   ],
   "source": [
    "iris.printSchema()"
   ]
  },
  {
   "cell_type": "markdown",
   "metadata": {},
   "source": [
    "### Explore the data\n",
    "\n",
    "If you haven't encountered this dataset before, get used to it - you're sure to see it again.\n",
    "\n",
    "Let's have a quick look before we dig in to get a visual sense of the data and the spreads of its independent variables."
   ]
  },
  {
   "cell_type": "code",
   "execution_count": 1,
   "metadata": {},
   "outputs": [],
   "source": [
    "%matplotlib inline"
   ]
  },
  {
   "cell_type": "code",
   "execution_count": 2,
   "metadata": {},
   "outputs": [],
   "source": [
    "import matplotlib as plt"
   ]
  },
  {
   "cell_type": "markdown",
   "metadata": {},
   "source": [
    "Matplotlib's [style options](https://matplotlib.org/devdocs/gallery/style_sheets/style_sheets_reference.html) are fun to play with."
   ]
  },
  {
   "cell_type": "code",
   "execution_count": 3,
   "metadata": {},
   "outputs": [],
   "source": [
    "plt.style.use('ggplot')"
   ]
  },
  {
   "cell_type": "code",
   "execution_count": 4,
   "metadata": {},
   "outputs": [],
   "source": [
    "from pandas.plotting import scatter_matrix"
   ]
  },
  {
   "cell_type": "code",
   "execution_count": 19,
   "metadata": {},
   "outputs": [],
   "source": [
    "pd_iris = iris.toPandas()"
   ]
  },
  {
   "cell_type": "code",
   "execution_count": 32,
   "metadata": {},
   "outputs": [
    {
     "data": {
      "text/plain": [
       "array([[<AxesSubplot:title={'center':'sepal_length'}>,\n",
       "        <AxesSubplot:title={'center':'sepal_width'}>],\n",
       "       [<AxesSubplot:title={'center':'petal_length'}>,\n",
       "        <AxesSubplot:title={'center':'petal_width'}>]], dtype=object)"
      ]
     },
     "execution_count": 32,
     "metadata": {},
     "output_type": "execute_result"
    },
    {
     "data": {
      "image/png": "[encoded data removed]",
      "text/plain": [
       "<Figure size 576x576 with 4 Axes>"
      ]
     },
     "metadata": {},
     "output_type": "display_data"
    }
   ],
   "source": [
    "pd_iris.hist(figsize=(8, 8))"
   ]
  },
  {
   "cell_type": "code",
   "execution_count": 33,
   "metadata": {},
   "outputs": [
    {
     "data": {
      "text/plain": [
       "array([[<AxesSubplot:xlabel='sepal_length', ylabel='sepal_length'>,\n",
       "        <AxesSubplot:xlabel='sepal_width', ylabel='sepal_length'>,\n",
       "        <AxesSubplot:xlabel='petal_length', ylabel='sepal_length'>,\n",
       "        <AxesSubplot:xlabel='petal_width', ylabel='sepal_length'>],\n",
       "       [<AxesSubplot:xlabel='sepal_length', ylabel='sepal_width'>,\n",
       "        <AxesSubplot:xlabel='sepal_width', ylabel='sepal_width'>,\n",
       "        <AxesSubplot:xlabel='petal_length', ylabel='sepal_width'>,\n",
       "        <AxesSubplot:xlabel='petal_width', ylabel='sepal_width'>],\n",
       "       [<AxesSubplot:xlabel='sepal_length', ylabel='petal_length'>,\n",
       "        <AxesSubplot:xlabel='sepal_width', ylabel='petal_length'>,\n",
       "        <AxesSubplot:xlabel='petal_length', ylabel='petal_length'>,\n",
       "        <AxesSubplot:xlabel='petal_width', ylabel='petal_length'>],\n",
       "       [<AxesSubplot:xlabel='sepal_length', ylabel='petal_width'>,\n",
       "        <AxesSubplot:xlabel='sepal_width', ylabel='petal_width'>,\n",
       "        <AxesSubplot:xlabel='petal_length', ylabel='petal_width'>,\n",
       "        <AxesSubplot:xlabel='petal_width', ylabel='petal_width'>]],\n",
       "      dtype=object)"
      ]
     },
     "execution_count": 33,
     "metadata": {},
     "output_type": "execute_result"
    },
    {
     "data": {
      "image/png": "[encoded data removed]",
      "text/plain": [
       "<Figure size 576x576 with 16 Axes>"
      ]
     },
     "metadata": {},
     "output_type": "display_data"
    }
   ],
   "source": [
    "scatter_matrix(pd_iris, figsize=(8, 8))"
   ]
  },
  {
   "cell_type": "markdown",
   "metadata": {},
   "source": [
    "### Prepping features\n",
    "\n",
    "It is common to go through stages of feature engineering that involve transformation, scaling, indexing, and similar steps.  MLlib provides a `Pipeline` to assemble these steps."
   ]
  },
  {
   "cell_type": "code",
   "execution_count": 22,
   "metadata": {},
   "outputs": [],
   "source": [
    "from pyspark.ml import Pipeline\n",
    "from pyspark.ml.classification import RandomForestClassifier\n",
    "from pyspark.ml.evaluation import MulticlassClassificationEvaluator\n",
    "from pyspark.ml.feature import IndexToString, StringIndexer, VectorAssembler"
   ]
  },
  {
   "cell_type": "markdown",
   "metadata": {},
   "source": [
    "First, we pull our features into a feature vector using a `VectorAssembler`."
   ]
  },
  {
   "cell_type": "code",
   "execution_count": 23,
   "metadata": {},
   "outputs": [],
   "source": [
    "assembler = VectorAssembler(inputCols=[\"sepal_length\", \"sepal_width\",\n",
    "                                       \"petal_length\", \"petal_width\"],\n",
    "                            outputCol=\"features\")"
   ]
  },
  {
   "cell_type": "markdown",
   "metadata": {},
   "source": [
    "Next, we want to have our various target labels in `class` indexed to numeric category values.  The MLlib `StringIndexer` can turn these string values into a numeric representation of categories."
   ]
  },
  {
   "cell_type": "code",
   "execution_count": 25,
   "metadata": {},
   "outputs": [],
   "source": [
    "indexer = StringIndexer(inputCol=\"class\", outputCol=\"labelIndex\").fit(iris)"
   ]
  },
  {
   "cell_type": "markdown",
   "metadata": {},
   "source": [
    "Next, we prep our model:"
   ]
  },
  {
   "cell_type": "code",
   "execution_count": 26,
   "metadata": {},
   "outputs": [],
   "source": [
    "rf = RandomForestClassifier(labelCol=\"labelIndex\", featuresCol=\"features\", numTrees=10)"
   ]
  },
  {
   "cell_type": "markdown",
   "metadata": {},
   "source": [
    "And we're going to need to be able to get those class labels back:"
   ]
  },
  {
   "cell_type": "code",
   "execution_count": 27,
   "metadata": {},
   "outputs": [],
   "source": [
    "labeler = IndexToString(inputCol=\"prediction\", outputCol=\"predictedLabel\",\n",
    "                        labels=indexer.labels)"
   ]
  },
  {
   "cell_type": "markdown",
   "metadata": {},
   "source": [
    "Finally, we assemble all of these steps into a `Pipeline`:"
   ]
  },
  {
   "cell_type": "code",
   "execution_count": 28,
   "metadata": {},
   "outputs": [],
   "source": [
    "pipeline = Pipeline(stages=[assembler, indexer, rf, labeler])"
   ]
  },
  {
   "cell_type": "markdown",
   "metadata": {},
   "source": [
    "### Split data into training and test sets\n",
    "\n",
    "We always want to hold out some data from training so we can get an honest assessment on how our model will perform with unseen data.  Fortunately there's an easy API call for this."
   ]
  },
  {
   "cell_type": "code",
   "execution_count": 40,
   "metadata": {},
   "outputs": [
    {
     "name": "stdout",
     "output_type": "stream",
     "text": [
      "Help on method randomSplit in module pyspark.sql.dataframe:\n",
      "\n",
      "randomSplit(weights, seed=None) method of pyspark.sql.dataframe.DataFrame instance\n",
      "    Randomly splits this :class:`DataFrame` with the provided weights.\n",
      "    \n",
      "    .. versionadded:: 1.4.0\n",
      "    \n",
      "    Parameters\n",
      "    ----------\n",
      "    weights : list\n",
      "        list of doubles as weights with which to split the :class:`DataFrame`.\n",
      "        Weights will be normalized if they don't sum up to 1.0.\n",
      "    seed : int, optional\n",
      "        The seed for sampling.\n",
      "    \n",
      "    Examples\n",
      "    --------\n",
      "    >>> splits = df4.randomSplit([1.0, 2.0], 24)\n",
      "    >>> splits[0].count()\n",
      "    2\n",
      "    \n",
      "    >>> splits[1].count()\n",
      "    2\n",
      "\n"
     ]
    }
   ],
   "source": [
    "help(iris.randomSplit)"
   ]
  },
  {
   "cell_type": "code",
   "execution_count": 30,
   "metadata": {},
   "outputs": [],
   "source": [
    "train, test = iris.randomSplit([0.6, 0.4], 42)"
   ]
  },
  {
   "cell_type": "code",
   "execution_count": 31,
   "metadata": {},
   "outputs": [
    {
     "data": {
      "text/plain": [
       "87"
      ]
     },
     "execution_count": 31,
     "metadata": {},
     "output_type": "execute_result"
    }
   ],
   "source": [
    "train.count()"
   ]
  },
  {
   "cell_type": "code",
   "execution_count": 32,
   "metadata": {},
   "outputs": [
    {
     "data": {
      "text/plain": [
       "63"
      ]
     },
     "execution_count": 32,
     "metadata": {},
     "output_type": "execute_result"
    }
   ],
   "source": [
    "test.count()"
   ]
  },
  {
   "cell_type": "markdown",
   "metadata": {},
   "source": [
    "Looks good.  We'll use `train` to build our model, and leave `test` alone for now."
   ]
  },
  {
   "cell_type": "markdown",
   "metadata": {},
   "source": [
    "### Train the model and get predictions"
   ]
  },
  {
   "cell_type": "code",
   "execution_count": 33,
   "metadata": {},
   "outputs": [],
   "source": [
    "model = pipeline.fit(train)"
   ]
  },
  {
   "cell_type": "code",
   "execution_count": 34,
   "metadata": {},
   "outputs": [],
   "source": [
    "predictions = model.transform(test)"
   ]
  },
  {
   "cell_type": "code",
   "execution_count": 35,
   "metadata": {},
   "outputs": [
    {
     "name": "stdout",
     "output_type": "stream",
     "text": [
      "+---------------+---------------+-----------------+\n",
      "| predictedLabel|          class|         features|\n",
      "+---------------+---------------+-----------------+\n",
      "|    Iris-setosa|    Iris-setosa|[4.3,3.0,1.1,0.1]|\n",
      "|    Iris-setosa|    Iris-setosa|[4.4,3.0,1.3,0.2]|\n",
      "|    Iris-setosa|    Iris-setosa|[4.5,2.3,1.3,0.3]|\n",
      "|    Iris-setosa|    Iris-setosa|[4.6,3.2,1.4,0.2]|\n",
      "|    Iris-setosa|    Iris-setosa|[4.6,3.6,1.0,0.2]|\n",
      "|    Iris-setosa|    Iris-setosa|[4.7,3.2,1.3,0.2]|\n",
      "|    Iris-setosa|    Iris-setosa|[4.8,3.0,1.4,0.1]|\n",
      "|    Iris-setosa|    Iris-setosa|[4.8,3.1,1.6,0.2]|\n",
      "|    Iris-setosa|    Iris-setosa|[4.8,3.4,1.6,0.2]|\n",
      "|    Iris-setosa|    Iris-setosa|[4.8,3.4,1.9,0.2]|\n",
      "|Iris-versicolor| Iris-virginica|[4.9,2.5,4.5,1.7]|\n",
      "|    Iris-setosa|    Iris-setosa|[4.9,3.1,1.5,0.1]|\n",
      "|    Iris-setosa|    Iris-setosa|[4.9,3.1,1.5,0.1]|\n",
      "|Iris-versicolor|Iris-versicolor|[5.0,2.3,3.3,1.0]|\n",
      "|    Iris-setosa|    Iris-setosa|[5.0,3.0,1.6,0.2]|\n",
      "|    Iris-setosa|    Iris-setosa|[5.0,3.4,1.6,0.4]|\n",
      "|    Iris-setosa|    Iris-setosa|[5.0,3.5,1.3,0.3]|\n",
      "|    Iris-setosa|    Iris-setosa|[5.0,3.5,1.6,0.6]|\n",
      "|Iris-versicolor|Iris-versicolor|[5.1,2.5,3.0,1.1]|\n",
      "|    Iris-setosa|    Iris-setosa|[5.1,3.4,1.5,0.2]|\n",
      "+---------------+---------------+-----------------+\n",
      "only showing top 20 rows\n",
      "\n"
     ]
    }
   ],
   "source": [
    "predictions.select(\"predictedLabel\", \"class\", \"features\").show()"
   ]
  },
  {
   "cell_type": "code",
   "execution_count": 36,
   "metadata": {},
   "outputs": [
    {
     "name": "stdout",
     "output_type": "stream",
     "text": [
      "accuracy: 0.9523809523809523\n",
      "f1: 0.9524139524139523\n"
     ]
    }
   ],
   "source": [
    "for metric in ['accuracy', 'f1']:\n",
    "    evaluator = MulticlassClassificationEvaluator(labelCol=\"labelIndex\",\n",
    "                                                  predictionCol=\"prediction\",\n",
    "                                                  metricName=metric)\n",
    "    print(\"{}: {}\".format(metric, evaluator.evaluate(predictions)))"
   ]
  },
  {
   "cell_type": "code",
   "execution_count": 37,
   "metadata": {},
   "outputs": [
    {
     "data": {
      "text/plain": [
       "[VectorAssembler_5710716a57c6,\n",
       " StringIndexerModel: uid=StringIndexer_403f7b4a349d, handleInvalid=error,\n",
       " RandomForestClassificationModel: uid=RandomForestClassifier_a352dfa3883b, numTrees=10, numClasses=3, numFeatures=4,\n",
       " IndexToString_b89c5c89e92a]"
      ]
     },
     "execution_count": 37,
     "metadata": {},
     "output_type": "execute_result"
    }
   ],
   "source": [
    "model.stages"
   ]
  },
  {
   "cell_type": "code",
   "execution_count": 38,
   "metadata": {},
   "outputs": [],
   "source": [
    "s2 = model.stages[2]"
   ]
  },
  {
   "cell_type": "code",
   "execution_count": 39,
   "metadata": {},
   "outputs": [
    {
     "data": {
      "text/plain": [
       "[DecisionTreeClassificationModel: uid=dtc_c095ef5b650b, depth=4, numNodes=11, numClasses=3, numFeatures=4,\n",
       " DecisionTreeClassificationModel: uid=dtc_f7c25e56ee85, depth=4, numNodes=15, numClasses=3, numFeatures=4,\n",
       " DecisionTreeClassificationModel: uid=dtc_c31f0322fb67, depth=4, numNodes=15, numClasses=3, numFeatures=4,\n",
       " DecisionTreeClassificationModel: uid=dtc_87fbb95a0685, depth=5, numNodes=19, numClasses=3, numFeatures=4,\n",
       " DecisionTreeClassificationModel: uid=dtc_f3bfb59510b3, depth=4, numNodes=9, numClasses=3, numFeatures=4,\n",
       " DecisionTreeClassificationModel: uid=dtc_7d2a0d3bcc1b, depth=4, numNodes=13, numClasses=3, numFeatures=4,\n",
       " DecisionTreeClassificationModel: uid=dtc_c43c7f6607e2, depth=5, numNodes=17, numClasses=3, numFeatures=4,\n",
       " DecisionTreeClassificationModel: uid=dtc_4557a8dd770a, depth=4, numNodes=13, numClasses=3, numFeatures=4,\n",
       " DecisionTreeClassificationModel: uid=dtc_c31e983429ac, depth=3, numNodes=11, numClasses=3, numFeatures=4,\n",
       " DecisionTreeClassificationModel: uid=dtc_9a26da9f29f4, depth=5, numNodes=13, numClasses=3, numFeatures=4]"
      ]
     },
     "execution_count": 39,
     "metadata": {},
     "output_type": "execute_result"
    }
   ],
   "source": [
    "s2.trees"
   ]
  },
  {
   "cell_type": "code",
   "execution_count": 40,
   "metadata": {},
   "outputs": [
    {
     "name": "stdout",
     "output_type": "stream",
     "text": [
      "DecisionTreeClassificationModel: uid=dtc_c095ef5b650b, depth=4, numNodes=11, numClasses=3, numFeatures=4\n",
      "  If (feature 2 <= 2.5999999999999996)\n",
      "   Predict: 0.0\n",
      "  Else (feature 2 > 2.5999999999999996)\n",
      "   If (feature 0 <= 5.95)\n",
      "    If (feature 3 <= 1.85)\n",
      "     Predict: 1.0\n",
      "    Else (feature 3 > 1.85)\n",
      "     Predict: 2.0\n",
      "   Else (feature 0 > 5.95)\n",
      "    If (feature 3 <= 1.7000000000000002)\n",
      "     If (feature 2 <= 4.95)\n",
      "      Predict: 1.0\n",
      "     Else (feature 2 > 4.95)\n",
      "      Predict: 2.0\n",
      "    Else (feature 3 > 1.7000000000000002)\n",
      "     Predict: 2.0\n",
      "\n",
      "DecisionTreeClassificationModel: uid=dtc_f7c25e56ee85, depth=4, numNodes=15, numClasses=3, numFeatures=4\n",
      "  If (feature 0 <= 6.25)\n",
      "   If (feature 3 <= 0.75)\n",
      "    Predict: 0.0\n",
      "   Else (feature 3 > 0.75)\n",
      "    If (feature 3 <= 1.7000000000000002)\n",
      "     Predict: 1.0\n",
      "    Else (feature 3 > 1.7000000000000002)\n",
      "     If (feature 0 <= 5.95)\n",
      "      Predict: 1.0\n",
      "     Else (feature 0 > 5.95)\n",
      "      Predict: 2.0\n",
      "  Else (feature 0 > 6.25)\n",
      "   If (feature 3 <= 1.55)\n",
      "    Predict: 1.0\n",
      "   Else (feature 3 > 1.55)\n",
      "    If (feature 0 <= 6.35)\n",
      "     If (feature 2 <= 4.75)\n",
      "      Predict: 1.0\n",
      "     Else (feature 2 > 4.75)\n",
      "      Predict: 2.0\n",
      "    Else (feature 0 > 6.35)\n",
      "     Predict: 2.0\n",
      "\n",
      "DecisionTreeClassificationModel: uid=dtc_c31f0322fb67, depth=4, numNodes=15, numClasses=3, numFeatures=4\n",
      "  If (feature 2 <= 4.85)\n",
      "   If (feature 2 <= 2.5999999999999996)\n",
      "    Predict: 0.0\n",
      "   Else (feature 2 > 2.5999999999999996)\n",
      "    If (feature 3 <= 1.7000000000000002)\n",
      "     Predict: 1.0\n",
      "    Else (feature 3 > 1.7000000000000002)\n",
      "     If (feature 0 <= 5.95)\n",
      "      Predict: 1.0\n",
      "     Else (feature 0 > 5.95)\n",
      "      Predict: 2.0\n",
      "  Else (feature 2 > 4.85)\n",
      "   If (feature 0 <= 6.05)\n",
      "    If (feature 0 <= 5.85)\n",
      "     Predict: 2.0\n",
      "    Else (feature 0 > 5.85)\n",
      "     If (feature 3 <= 1.55)\n",
      "      Predict: 2.0\n",
      "     Else (feature 3 > 1.55)\n",
      "      Predict: 1.0\n",
      "   Else (feature 0 > 6.05)\n",
      "    Predict: 2.0\n",
      "\n",
      "DecisionTreeClassificationModel: uid=dtc_87fbb95a0685, depth=5, numNodes=19, numClasses=3, numFeatures=4\n",
      "  If (feature 2 <= 2.5999999999999996)\n",
      "   Predict: 0.0\n",
      "  Else (feature 2 > 2.5999999999999996)\n",
      "   If (feature 0 <= 6.25)\n",
      "    If (feature 1 <= 2.6500000000000004)\n",
      "     If (feature 2 <= 4.55)\n",
      "      Predict: 1.0\n",
      "     Else (feature 2 > 4.55)\n",
      "      Predict: 2.0\n",
      "    Else (feature 1 > 2.6500000000000004)\n",
      "     If (feature 2 <= 4.55)\n",
      "      Predict: 1.0\n",
      "     Else (feature 2 > 4.55)\n",
      "      If (feature 1 <= 3.05)\n",
      "       Predict: 2.0\n",
      "      Else (feature 1 > 3.05)\n",
      "       Predict: 1.0\n",
      "   Else (feature 0 > 6.25)\n",
      "    If (feature 0 <= 6.75)\n",
      "     If (feature 3 <= 1.45)\n",
      "      Predict: 1.0\n",
      "     Else (feature 3 > 1.45)\n",
      "      Predict: 2.0\n",
      "    Else (feature 0 > 6.75)\n",
      "     If (feature 3 <= 1.55)\n",
      "      Predict: 1.0\n",
      "     Else (feature 3 > 1.55)\n",
      "      Predict: 2.0\n",
      "\n",
      "DecisionTreeClassificationModel: uid=dtc_f3bfb59510b3, depth=4, numNodes=9, numClasses=3, numFeatures=4\n",
      "  If (feature 3 <= 0.75)\n",
      "   Predict: 0.0\n",
      "  Else (feature 3 > 0.75)\n",
      "   If (feature 2 <= 4.75)\n",
      "    Predict: 1.0\n",
      "   Else (feature 2 > 4.75)\n",
      "    If (feature 3 <= 1.55)\n",
      "     If (feature 0 <= 6.35)\n",
      "      Predict: 2.0\n",
      "     Else (feature 0 > 6.35)\n",
      "      Predict: 1.0\n",
      "    Else (feature 3 > 1.55)\n",
      "     Predict: 2.0\n",
      "\n",
      "DecisionTreeClassificationModel: uid=dtc_7d2a0d3bcc1b, depth=4, numNodes=13, numClasses=3, numFeatures=4\n",
      "  If (feature 3 <= 0.75)\n",
      "   Predict: 0.0\n",
      "  Else (feature 3 > 0.75)\n",
      "   If (feature 2 <= 4.95)\n",
      "    If (feature 2 <= 4.85)\n",
      "     Predict: 1.0\n",
      "    Else (feature 2 > 4.85)\n",
      "     If (feature 0 <= 6.35)\n",
      "      Predict: 2.0\n",
      "     Else (feature 0 > 6.35)\n",
      "      Predict: 1.0\n",
      "   Else (feature 2 > 4.95)\n",
      "    If (feature 1 <= 2.75)\n",
      "     If (feature 1 <= 2.6500000000000004)\n",
      "      Predict: 2.0\n",
      "     Else (feature 1 > 2.6500000000000004)\n",
      "      Predict: 1.0\n",
      "    Else (feature 1 > 2.75)\n",
      "     Predict: 2.0\n",
      "\n",
      "DecisionTreeClassificationModel: uid=dtc_c43c7f6607e2, depth=5, numNodes=17, numClasses=3, numFeatures=4\n",
      "  If (feature 0 <= 5.45)\n",
      "   If (feature 2 <= 1.7999999999999998)\n",
      "    Predict: 0.0\n",
      "   Else (feature 2 > 1.7999999999999998)\n",
      "    Predict: 1.0\n",
      "  Else (feature 0 > 5.45)\n",
      "   If (feature 2 <= 4.95)\n",
      "    If (feature 1 <= 3.45)\n",
      "     If (feature 3 <= 1.7000000000000002)\n",
      "      Predict: 1.0\n",
      "     Else (feature 3 > 1.7000000000000002)\n",
      "      If (feature 0 <= 5.95)\n",
      "       Predict: 1.0\n",
      "      Else (feature 0 > 5.95)\n",
      "       Predict: 2.0\n",
      "    Else (feature 1 > 3.45)\n",
      "     Predict: 0.0\n",
      "   Else (feature 2 > 4.95)\n",
      "    If (feature 3 <= 1.7000000000000002)\n",
      "     If (feature 0 <= 6.05)\n",
      "      Predict: 1.0\n",
      "     Else (feature 0 > 6.05)\n",
      "      Predict: 2.0\n",
      "    Else (feature 3 > 1.7000000000000002)\n",
      "     Predict: 2.0\n",
      "\n",
      "DecisionTreeClassificationModel: uid=dtc_4557a8dd770a, depth=4, numNodes=13, numClasses=3, numFeatures=4\n",
      "  If (feature 3 <= 0.45)\n",
      "   Predict: 0.0\n",
      "  Else (feature 3 > 0.45)\n",
      "   If (feature 0 <= 6.05)\n",
      "    If (feature 3 <= 1.7000000000000002)\n",
      "     Predict: 1.0\n",
      "    Else (feature 3 > 1.7000000000000002)\n",
      "     Predict: 2.0\n",
      "   Else (feature 0 > 6.05)\n",
      "    If (feature 3 <= 1.55)\n",
      "     If (feature 2 <= 4.75)\n",
      "      Predict: 1.0\n",
      "     Else (feature 2 > 4.75)\n",
      "      Predict: 2.0\n",
      "    Else (feature 3 > 1.55)\n",
      "     If (feature 2 <= 4.75)\n",
      "      Predict: 1.0\n",
      "     Else (feature 2 > 4.75)\n",
      "      Predict: 2.0\n",
      "\n",
      "DecisionTreeClassificationModel: uid=dtc_c31e983429ac, depth=3, numNodes=11, numClasses=3, numFeatures=4\n",
      "  If (feature 3 <= 1.7000000000000002)\n",
      "   If (feature 2 <= 2.5999999999999996)\n",
      "    Predict: 0.0\n",
      "   Else (feature 2 > 2.5999999999999996)\n",
      "    If (feature 2 <= 4.95)\n",
      "     Predict: 1.0\n",
      "    Else (feature 2 > 4.95)\n",
      "     Predict: 2.0\n",
      "  Else (feature 3 > 1.7000000000000002)\n",
      "   If (feature 0 <= 5.95)\n",
      "    If (feature 0 <= 5.85)\n",
      "     Predict: 2.0\n",
      "    Else (feature 0 > 5.85)\n",
      "     Predict: 1.0\n",
      "   Else (feature 0 > 5.95)\n",
      "    Predict: 2.0\n",
      "\n",
      "DecisionTreeClassificationModel: uid=dtc_9a26da9f29f4, depth=5, numNodes=13, numClasses=3, numFeatures=4\n",
      "  If (feature 3 <= 0.45)\n",
      "   Predict: 0.0\n",
      "  Else (feature 3 > 0.45)\n",
      "   If (feature 2 <= 4.65)\n",
      "    Predict: 1.0\n",
      "   Else (feature 2 > 4.65)\n",
      "    If (feature 2 <= 4.95)\n",
      "     If (feature 0 <= 6.35)\n",
      "      Predict: 2.0\n",
      "     Else (feature 0 > 6.35)\n",
      "      Predict: 1.0\n",
      "    Else (feature 2 > 4.95)\n",
      "     If (feature 3 <= 1.7000000000000002)\n",
      "      If (feature 2 <= 5.15)\n",
      "       Predict: 1.0\n",
      "      Else (feature 2 > 5.15)\n",
      "       Predict: 2.0\n",
      "     Else (feature 3 > 1.7000000000000002)\n",
      "      Predict: 2.0\n",
      "\n"
     ]
    }
   ],
   "source": [
    "for t in s2.trees:\n",
    "    print(t.toDebugString)"
   ]
  },
  {
   "cell_type": "code",
   "execution_count": null,
   "metadata": {},
   "outputs": [],
   "source": []
  }
 ],
 "metadata": {
  "kernelspec": {
   "display_name": "Python 3 (ipykernel)",
   "language": "python",
   "name": "python3"
  },
  "language_info": {
   "codemirror_mode": {
    "name": "ipython",
    "version": 3
   },
   "file_extension": ".py",
   "mimetype": "text/x-python",
   "name": "python",
   "nbconvert_exporter": "python",
   "pygments_lexer": "ipython3",
   "version": "3.8.10"
  }
 },
 "nbformat": 4,
 "nbformat_minor": 4
}
