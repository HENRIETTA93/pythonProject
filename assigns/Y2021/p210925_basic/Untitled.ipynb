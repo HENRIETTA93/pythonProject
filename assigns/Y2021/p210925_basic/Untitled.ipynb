{
 "cells": [
  {
   "cell_type": "code",
   "execution_count": 7,
   "metadata": {},
   "outputs": [
    {
     "name": "stdout",
     "output_type": "stream",
     "text": [
      "30\n",
      "-10\n",
      "200\n",
      "230\n",
      "0.5\n",
      "0\n",
      "(6, 2)\n"
     ]
    }
   ],
   "source": [
    "a=10\n",
    "b=20\n",
    "c=3\n",
    "print(a+b)\n",
    "print(a-b)\n",
    "print(a*b)\n",
    "print(a*(b+c))\n",
    "print(a/b)\n",
    "print(a//b)\n",
    "print(divmod(b,3))"
   ]
  },
  {
   "cell_type": "code",
   "execution_count": 8,
   "metadata": {},
   "outputs": [
    {
     "name": "stdout",
     "output_type": "stream",
     "text": [
      "3.6584443443691046\n",
      "0.9719379013633127\n",
      "1.5574077246549023\n",
      "4.819513544766303\n"
     ]
    }
   ],
   "source": [
    "from math import *\n",
    "\n",
    "a=3\n",
    "b=4\n",
    "c=5\n",
    "print(c*cos(a/b))\n",
    "print(sin(b/a))\n",
    "print(tan(c/c))\n",
    "print(a*cos(b/c)+b*tan(pi/c)-sin(pi/b)**c)\n"
   ]
  },
  {
   "cell_type": "code",
   "execution_count": 12,
   "metadata": {},
   "outputs": [
    {
     "name": "stdout",
     "output_type": "stream",
     "text": [
      "True\n",
      "False\n",
      "True\n",
      "True\n",
      "True\n"
     ]
    },
    {
     "data": {
      "text/plain": [
       "(False, False, True, True, True, True)"
      ]
     },
     "execution_count": 12,
     "metadata": {},
     "output_type": "execute_result"
    }
   ],
   "source": [
    "a=-3\n",
    "b=4\n",
    "c=9\n",
    "print(a<b<c)\n",
    "print(a==b)\n",
    "print(a!=b)\n",
    "print(a<c>b)\n",
    "print(a+(0-a)==0)\n"
   ]
  },
  {
   "cell_type": "code",
   "execution_count": 13,
   "metadata": {},
   "outputs": [
    {
     "name": "stdout",
     "output_type": "stream",
     "text": [
      "False\n",
      "True\n",
      "True\n",
      "False\n"
     ]
    }
   ],
   "source": [
    "a=True\n",
    "b=False\n",
    "print(a and b)\n",
    "print(a or b)\n",
    "print(not b)\n",
    "print(not a)"
   ]
  },
  {
   "cell_type": "code",
   "execution_count": null,
   "metadata": {},
   "outputs": [],
   "source": [
    "a=3.4\n",
    "b=2.1\n",
    "print(a-b,a+b,a*b)"
   ]
  },
  {
   "cell_type": "code",
   "execution_count": null,
   "metadata": {},
   "outputs": [],
   "source": [
    "\n",
    "s1 = \"Xuqinyang's age is: twenty years old\"\n",
    "s2 = 'Xuqinyang\\'s age is: twenty years old'\n",
    "s3 = \"\"\"Xuqinyang\\'s age is: \n",
    "ten years\"\"\"\n",
    "s4 = \"Xuqinyang\\'s age is: \\ntwenty years old\"  \n",
    "s5 = \"Xuqinyang\\'s age is:\" + \"\\n\" + \"twenty years old\"\n",
    "print(s1)\n",
    "print(s2)\n",
    "print(s3)\n",
    "print(s4)\n",
    "print(s5)"
   ]
  }
 ],
 "metadata": {
  "kernelspec": {
   "display_name": "Python 3",
   "language": "python",
   "name": "python3"
  },
  "language_info": {
   "codemirror_mode": {
    "name": "ipython",
    "version": 3
   },
   "file_extension": ".py",
   "mimetype": "text/x-python",
   "name": "python",
   "nbconvert_exporter": "python",
   "pygments_lexer": "ipython3",
   "version": "3.8.5"
  }
 },
 "nbformat": 4,
 "nbformat_minor": 4
}
