{
 "cells": [
  {
   "cell_type": "markdown",
   "metadata": {
    "slideshow": {
     "slide_type": "slide"
    }
   },
   "source": [
    "# Topic2: Variables and Basic Operations II"
   ]
  },
  {
   "cell_type": "markdown",
   "metadata": {
    "slideshow": {
     "slide_type": "slide"
    }
   },
   "source": [
    "## $\\triangleright$ Expression of a String (字符串）"
   ]
  },
  {
   "cell_type": "markdown",
   "metadata": {
    "slideshow": {
     "slide_type": "-"
    }
   },
   "source": [
    "###  $\\circ$ Different ways to denote a string:\n",
    "\n",
    "* Single quotes: `'Tom\"s',  'hello'`\n",
    "* Double quotes: `\"Tom's\",  \"hello\"`\n",
    "* Triple quotes: `'''... spam ...''', \"\"\"... spam ...\"\"\"`\n",
    "* Escape sequences: `\"s\\tp\\na\\0m\"`\n",
    "* Raw strings:` r\"C:\\new\\test.spm\"`\n",
    "* Bytes literals: `b'sp\\x01am'`\n",
    "* Unicode literals : `u'eggs\\u0020spam'`"
   ]
  },
  {
   "cell_type": "code",
   "execution_count": 2,
   "metadata": {
    "slideshow": {
     "slide_type": "skip"
    }
   },
   "outputs": [
    {
     "name": "stdout",
     "output_type": "stream",
     "text": [
      "Collecting emoji\n",
      "  Downloading https://files.pythonhosted.org/packages/ff/1c/1f1457fe52d0b30cbeebfd578483cedb3e3619108d2d5a21380dfecf8ffd/emoji-0.6.0.tar.gz (51kB)\n",
      "Building wheels for collected packages: emoji\n",
      "  Building wheel for emoji (setup.py): started\n",
      "  Building wheel for emoji (setup.py): finished with status 'done'\n",
      "  Stored in directory: C:\\Users\\LG\\AppData\\Local\\pip\\Cache\\wheels\\46\\2c\\8b\\9dcf5216ca68e14e0320e283692dce8ae321cdc01e73e17796\n",
      "Successfully built emoji\n",
      "Installing collected packages: emoji\n",
      "Successfully installed emoji-0.6.0\n"
     ]
    }
   ],
   "source": [
    "!pip install emoji\n",
    "\n",
    "import emoji\n",
    "s = emoji.demojize('Python is 👍!')\n",
    "print(s)\n",
    "print(emoji.emojize(s))"
   ]
  },
  {
   "cell_type": "markdown",
   "metadata": {
    "slideshow": {
     "slide_type": "slide"
    }
   },
   "source": [
    "### $\\circ$ Escape Sequences Represent Special Characters:\n",
    "|Escape |  Meaning |\n",
    "|:-|:-|\n",
    "|\\\\\\\\ |   Backslash (stores one \\) |\n",
    "|\\\\\\' |   Single quote (stores ')|\n",
    "|\\\\\\\" |   Double quote (stores \")|\n",
    "|\\a |   Bell |\n",
    "|\\b |   Backspace |\n",
    "|\\n |   Newline (linefeed) |\n",
    "|\\r |   Carriage return |\n",
    "|\\t |   Horizontal tab |\n",
    "|\\xhh |  Character with hex value hh (exactly 2 digits)|\n",
    "|\\ooo | Character with octal value ooo (up to 3 digits)|\n",
    "|\\uhhhh|Unicode character with 16-bit hex value (hhhh) |"
   ]
  },
  {
   "cell_type": "markdown",
   "metadata": {
    "slideshow": {
     "slide_type": "slide"
    }
   },
   "source": [
    "### $\\circ$ Code Example\n",
    "**Define a string variable in different ways**"
   ]
  },
  {
   "cell_type": "code",
   "execution_count": 1,
   "metadata": {
    "slideshow": {
     "slide_type": "-"
    }
   },
   "outputs": [
    {
     "name": "stdout",
     "output_type": "stream",
     "text": [
      "The list company's age is: ten years\n",
      "The list company's age is: ten years\n",
      "The list company's age is: \n",
      "ten years\n",
      "The list company's age is: \n",
      "ten years\n",
      "The list company's age is:\n",
      "ten years\n"
     ]
    }
   ],
   "source": [
    "s1 = \"The list company's age is: ten years\"\n",
    "s2 = 'The list company\\'s age is: ten years'\n",
    "s3 = \"\"\"The list company's age is: \n",
    "ten years\"\"\"\n",
    "s4 = \"The list company's age is: \\nten years\"  \n",
    "s5 = \"The list company's age is:\" + \"\\n\" + \"ten years\"\n",
    "print(s1)\n",
    "print(s2)\n",
    "print(s3)\n",
    "print(s4)\n",
    "print(s5)"
   ]
  },
  {
   "cell_type": "markdown",
   "metadata": {
    "slideshow": {
     "slide_type": "slide"
    }
   },
   "source": [
    "**Output a string to a file/output device**\n",
    "\n",
    "**Built-in print function**\n",
    "* [Print Objects](https://docs.python.org/3/library/functions.html#print)\n",
    "* [Format Strings](https://docs.python.org/3/library/string.html#formatstrings)\n"
   ]
  },
  {
   "cell_type": "code",
   "execution_count": 2,
   "metadata": {
    "scrolled": false,
    "slideshow": {
     "slide_type": "slide"
    }
   },
   "outputs": [
    {
     "name": "stdout",
     "output_type": "stream",
     "text": [
      "C:\\new\\text.dat 15\n",
      "C:\n",
      "ew\text.dat 13\n"
     ]
    }
   ],
   "source": [
    "sr = r'C:\\new\\text.dat'\n",
    "s = 'C:\\new\\text.dat'\n",
    "print(sr, len(sr))\n",
    "print(s, len(s))"
   ]
  },
  {
   "cell_type": "code",
   "execution_count": 3,
   "metadata": {
    "slideshow": {
     "slide_type": "slide"
    }
   },
   "outputs": [
    {
     "name": "stdout",
     "output_type": "stream",
     "text": [
      "澳门\n",
      "澳\n"
     ]
    }
   ],
   "source": [
    "# bytes and unicodes in a string\n",
    "codea = hex(ord('澳'))\n",
    "codem = hex(ord('门'))\n",
    "codea, codem\n",
    "s5 = '\\u6fb3\\u95e8'\n",
    "print(s5)\n",
    "print(chr(0x6fb3))   #ord('0'), chr(48) # character code converstions"
   ]
  },
  {
   "cell_type": "code",
   "execution_count": 4,
   "metadata": {
    "slideshow": {
     "slide_type": "-"
    }
   },
   "outputs": [
    {
     "name": "stdout",
     "output_type": "stream",
     "text": [
      "b'\\xe6\\xbe\\xb3\\xe9\\x97\\xa8'\n",
      "澳门\n"
     ]
    }
   ],
   "source": [
    "codes = '澳门'.encode()\n",
    "print(codes)\n",
    "sam = codes.decode()\n",
    "print(sam)"
   ]
  },
  {
   "cell_type": "markdown",
   "metadata": {
    "slideshow": {
     "slide_type": "-"
    }
   },
   "source": [
    "**[The most widely-used UTF-8 codes](https://en.wikipedia.org/wiki/UTF-8)**"
   ]
  },
  {
   "cell_type": "markdown",
   "metadata": {
    "slideshow": {
     "slide_type": "slide"
    }
   },
   "source": [
    "## $\\triangleright$ Fundamental Operations on String"
   ]
  },
  {
   "cell_type": "markdown",
   "metadata": {
    "slideshow": {
     "slide_type": "-"
    }
   },
   "source": [
    "### $\\circ$ Basic Operations\n"
   ]
  },
  {
   "cell_type": "code",
   "execution_count": 5,
   "metadata": {
    "scrolled": false,
    "slideshow": {
     "slide_type": "-"
    }
   },
   "outputs": [
    {
     "name": "stdout",
     "output_type": "stream",
     "text": [
      "hello, world!\n",
      "hello, world!\n",
      "------------------------------\n"
     ]
    }
   ],
   "source": [
    "s0 = 'hello,' ' world!'\n",
    "s1 = 'hello,' + ' world!' # Concatenation: a new string\n",
    "s2 = '-'*30   # Repetition: like '-'+'-'+...\n",
    "print(s0)\n",
    "print(s1)\n",
    "print(s2)"
   ]
  },
  {
   "cell_type": "markdown",
   "metadata": {
    "slideshow": {
     "slide_type": "slide"
    }
   },
   "source": [
    "### $\\circ$ Indexing and Slicing\n"
   ]
  },
  {
   "cell_type": "markdown",
   "metadata": {},
   "source": [
    "<img src=\"Fig-string.png\">"
   ]
  },
  {
   "cell_type": "code",
   "execution_count": 6,
   "metadata": {
    "scrolled": true
   },
   "outputs": [
    {
     "name": "stdout",
     "output_type": "stream",
     "text": [
      "HELLO, WORLD!\n",
      "HELLO, WORLD!\n",
      "!DLROW ,OLLEH\n",
      "H\t,\t!\n",
      "HELLO   HLO OL   HELLO, WORL\n",
      "HLO OL!\n",
      "HLO OL!\n"
     ]
    }
   ],
   "source": [
    "s = \"HELLO, WORLD!\"\n",
    "print(s)\n",
    "print(s[:])\n",
    "print(s[::-1])\n",
    "print(s[0] + \"\\t\" + s[5] + \"\\t\" + s[-1])  # indexing\n",
    "print(s[0:5] + '   ' + s[0:-1:2] + '   ' + s[:-2])\n",
    "# --------------Slice object----------------------------\n",
    "so = slice(None, None, 2) #slice(start, end, step)\n",
    "print(s[so]+'\\n'+s[::2])"
   ]
  },
  {
   "cell_type": "markdown",
   "metadata": {
    "slideshow": {
     "slide_type": "slide"
    }
   },
   "source": [
    "### $\\circ$ String converstion\n"
   ]
  },
  {
   "cell_type": "code",
   "execution_count": 7,
   "metadata": {},
   "outputs": [
    {
     "ename": "TypeError",
     "evalue": "can only concatenate str (not \"int\") to str",
     "output_type": "error",
     "traceback": [
      "\u001b[1;31m---------------------------------------------------------------------------\u001b[0m",
      "\u001b[1;31mTypeError\u001b[0m                                 Traceback (most recent call last)",
      "\u001b[1;32m<ipython-input-7-cc892b1f57d5>\u001b[0m in \u001b[0;36m<module>\u001b[1;34m\u001b[0m\n\u001b[1;32m----> 1\u001b[1;33m \u001b[1;34m'1'\u001b[0m \u001b[1;33m+\u001b[0m \u001b[1;36m1\u001b[0m\u001b[1;33m\u001b[0m\u001b[1;33m\u001b[0m\u001b[0m\n\u001b[0m",
      "\u001b[1;31mTypeError\u001b[0m: can only concatenate str (not \"int\") to str"
     ]
    }
   ],
   "source": [
    "'1' + 1"
   ]
  },
  {
   "cell_type": "code",
   "execution_count": 39,
   "metadata": {},
   "outputs": [
    {
     "data": {
      "text/plain": [
       "2"
      ]
     },
     "execution_count": 39,
     "metadata": {},
     "output_type": "execute_result"
    }
   ],
   "source": [
    "int('1') + 1"
   ]
  },
  {
   "cell_type": "code",
   "execution_count": 41,
   "metadata": {
    "slideshow": {
     "slide_type": "slide"
    }
   },
   "outputs": [
    {
     "name": "stdout",
     "output_type": "stream",
     "text": [
      "Please input a number:66\n",
      "The type of num is:  <class 'str'>\n",
      "76\n"
     ]
    }
   ],
   "source": [
    "num =input('Please input a number:')\n",
    "print(f'The type of num is:  {type(num)}')\n",
    "print(int(num) + 10)"
   ]
  },
  {
   "cell_type": "code",
   "execution_count": 42,
   "metadata": {},
   "outputs": [
    {
     "data": {
      "text/plain": [
       "(66, '66')"
      ]
     },
     "execution_count": 42,
     "metadata": {},
     "output_type": "execute_result"
    }
   ],
   "source": [
    "int('66'), str(66) # conversion between int and float"
   ]
  },
  {
   "cell_type": "code",
   "execution_count": 43,
   "metadata": {},
   "outputs": [
    {
     "data": {
      "text/plain": [
       "(3.1415, '3.1415')"
      ]
     },
     "execution_count": 43,
     "metadata": {},
     "output_type": "execute_result"
    }
   ],
   "source": [
    "float('3.1415'), str(3.1415) # converstion between string and float"
   ]
  },
  {
   "cell_type": "code",
   "execution_count": 20,
   "metadata": {},
   "outputs": [
    {
     "data": {
      "text/plain": [
       "(48, '0')"
      ]
     },
     "execution_count": 20,
     "metadata": {},
     "output_type": "execute_result"
    }
   ],
   "source": [
    "ord('0'), chr(48) # character code converstions"
   ]
  },
  {
   "cell_type": "code",
   "execution_count": 44,
   "metadata": {
    "scrolled": true
   },
   "outputs": [
    {
     "data": {
      "text/plain": [
       "('0b1010', '0o12', '0xa')"
      ]
     },
     "execution_count": 44,
     "metadata": {},
     "output_type": "execute_result"
    }
   ],
   "source": [
    "bin(10), oct(10), hex(10)"
   ]
  },
  {
   "cell_type": "markdown",
   "metadata": {
    "slideshow": {
     "slide_type": "slide"
    }
   },
   "source": [
    "### $\\circ$ Changing Strings\n"
   ]
  },
  {
   "cell_type": "code",
   "execution_count": 21,
   "metadata": {},
   "outputs": [
    {
     "data": {
      "text/plain": [
       "'Macau is beautiful!'"
      ]
     },
     "execution_count": 21,
     "metadata": {},
     "output_type": "execute_result"
    }
   ],
   "source": [
    "s = \"Macau is beautiful!\"\n",
    "s"
   ]
  },
  {
   "cell_type": "code",
   "execution_count": 48,
   "metadata": {
    "scrolled": true
   },
   "outputs": [
    {
     "data": {
      "text/plain": [
       "['__add__',\n",
       " '__class__',\n",
       " '__contains__',\n",
       " '__delattr__',\n",
       " '__dir__',\n",
       " '__doc__',\n",
       " '__eq__',\n",
       " '__format__',\n",
       " '__ge__',\n",
       " '__getattribute__',\n",
       " '__getitem__',\n",
       " '__getnewargs__',\n",
       " '__gt__',\n",
       " '__hash__',\n",
       " '__init__',\n",
       " '__init_subclass__',\n",
       " '__iter__',\n",
       " '__le__',\n",
       " '__len__',\n",
       " '__lt__',\n",
       " '__mod__',\n",
       " '__mul__',\n",
       " '__ne__',\n",
       " '__new__',\n",
       " '__reduce__',\n",
       " '__reduce_ex__',\n",
       " '__repr__',\n",
       " '__rmod__',\n",
       " '__rmul__',\n",
       " '__setattr__',\n",
       " '__sizeof__',\n",
       " '__str__',\n",
       " '__subclasshook__',\n",
       " 'capitalize',\n",
       " 'casefold',\n",
       " 'center',\n",
       " 'count',\n",
       " 'encode',\n",
       " 'endswith',\n",
       " 'expandtabs',\n",
       " 'find',\n",
       " 'format',\n",
       " 'format_map',\n",
       " 'index',\n",
       " 'isalnum',\n",
       " 'isalpha',\n",
       " 'isascii',\n",
       " 'isdecimal',\n",
       " 'isdigit',\n",
       " 'isidentifier',\n",
       " 'islower',\n",
       " 'isnumeric',\n",
       " 'isprintable',\n",
       " 'isspace',\n",
       " 'istitle',\n",
       " 'isupper',\n",
       " 'join',\n",
       " 'ljust',\n",
       " 'lower',\n",
       " 'lstrip',\n",
       " 'maketrans',\n",
       " 'partition',\n",
       " 'replace',\n",
       " 'rfind',\n",
       " 'rindex',\n",
       " 'rjust',\n",
       " 'rpartition',\n",
       " 'rsplit',\n",
       " 'rstrip',\n",
       " 'split',\n",
       " 'splitlines',\n",
       " 'startswith',\n",
       " 'strip',\n",
       " 'swapcase',\n",
       " 'title',\n",
       " 'translate',\n",
       " 'upper',\n",
       " 'zfill']"
      ]
     },
     "execution_count": 48,
     "metadata": {},
     "output_type": "execute_result"
    }
   ],
   "source": [
    "dir(s)"
   ]
  },
  {
   "cell_type": "code",
   "execution_count": 11,
   "metadata": {
    "slideshow": {
     "slide_type": "slide"
    }
   },
   "outputs": [
    {
     "data": {
      "text/plain": [
       "'Zhuhai is beautiful!'"
      ]
     },
     "execution_count": 11,
     "metadata": {},
     "output_type": "execute_result"
    }
   ],
   "source": [
    "s = s.replace(\"Macau\", \"Zhuhai\")\n",
    "s"
   ]
  },
  {
   "cell_type": "code",
   "execution_count": 14,
   "metadata": {},
   "outputs": [
    {
     "data": {
      "text/plain": [
       "\"Zhou's student no. is: 10\""
      ]
     },
     "execution_count": 14,
     "metadata": {},
     "output_type": "execute_result"
    }
   ],
   "source": [
    "s = \"{0}'s student no. is: {1}\"\n",
    "s.format(\"Zhou\", 10)"
   ]
  },
  {
   "cell_type": "code",
   "execution_count": 5,
   "metadata": {},
   "outputs": [
    {
     "data": {
      "text/plain": [
       "'Python is :thumbs_up:'"
      ]
     },
     "execution_count": 5,
     "metadata": {},
     "output_type": "execute_result"
    }
   ],
   "source": [
    "# !pip install emoji\n",
    "import emoji\n",
    "emoji.demojize('Python is 👍')"
   ]
  },
  {
   "cell_type": "code",
   "execution_count": 22,
   "metadata": {},
   "outputs": [
    {
     "data": {
      "text/plain": [
       "'This Is A Test String'"
      ]
     },
     "execution_count": 22,
     "metadata": {},
     "output_type": "execute_result"
    }
   ],
   "source": [
    "s = 'this is a test string'\n",
    "s.title()"
   ]
  },
  {
   "cell_type": "markdown",
   "metadata": {
    "slideshow": {
     "slide_type": "slide"
    }
   },
   "source": [
    "## $\\triangleright$ String Methods\n"
   ]
  },
  {
   "cell_type": "markdown",
   "metadata": {
    "hideOutput": true,
    "slideshow": {
     "slide_type": "slide"
    }
   },
   "source": [
    "* **Attribute fetches** （对象属性访问）<br>\n",
    "An expression of the form `object.attribute` means “fetch the value of attribute in object.” <br>\n",
    "\n",
    "* **Call expressions** （调用函数）<br>\n",
    "An expression of the form `function(arguments)` means “invoke the code of func tion, passing zero or more comma-separated argument objects to it, and return function’s result value.” <br>\n",
    "\n",
    "* **Methods** （调用对象方法）<br>\n",
    "Putting above two together allows us to call a method of an object. The method call expression:\n",
    "    `object.method(arguments)` "
   ]
  },
  {
   "cell_type": "markdown",
   "metadata": {
    "hideOutput": true,
    "slideshow": {
     "slide_type": "slide"
    }
   },
   "source": [
    "### $\\circ$ List of Commonly Used String Methods in Python 3.x\n",
    "[All details about above functions](https://docs.python.org/3/library/stdtypes.html#str)"
   ]
  },
  {
   "cell_type": "raw",
   "metadata": {
    "slideshow": {
     "slide_type": "-"
    }
   },
   "source": [
    "--- Align ---\n",
    "S.ljust(width [, fill])     S.center(width [, fill])    S.rjust(width [, fill])   S.zfill(width)\n",
    "--- Type ---\n",
    "S.isalnum()  S.isalpha()   S.isdecimal()   S.isdigit()  S.isidentifier()   S.islower() \n",
    "S.isnumeric()   S.isprintable()  S.isspace()  S.istitle() S.isupper()\n",
    "-- Changing --\n",
    "S.capitalize()   S.casefold()    S.title()   S.upper()   S.lower()    S.swapcase()   S.translate(map)  S.maketrans(x[, y[, z]])"
   ]
  },
  {
   "cell_type": "raw",
   "metadata": {
    "slideshow": {
     "slide_type": "slide"
    }
   },
   "source": [
    "S.lstrip([chars])   S.strip([chars])   S.rstrip([chars])\n",
    "\n",
    "S.join(iterable)   S.split([sep [,maxsplit]])   S.splitlines([keepends])   S.rsplit([sep[, maxsplit]])  S.rpartition(sep)\n",
    "                        \n",
    "--- Index, Find, Replace ---                                              \n",
    "S.count(sub [, start [, end]])       \n",
    "S.encode([encoding [,errors]])       S.partition(sep)\n",
    "S.endswith(suffix [, start [, end]]) S.replace(old, new [, count])\n",
    "S.expandtabs([tabsize])              S.rfind(sub [,start [,end]])\n",
    "S.find(sub [, start [, end]])        S.rindex(sub [, start [, end]])\n",
    "S.format(fmtstr, *args, **kwargs)    S.startswith(prefix [, start [, end]]) \n",
    "S.index(sub [, start [, end]])       "
   ]
  },
  {
   "cell_type": "markdown",
   "metadata": {
    "slideshow": {
     "slide_type": "slide"
    }
   },
   "source": [
    "### $\\circ$ Examples of Some Common String Methods\n"
   ]
  },
  {
   "cell_type": "code",
   "execution_count": 29,
   "metadata": {
    "slideshow": {
     "slide_type": "-"
    }
   },
   "outputs": [
    {
     "name": "stdout",
     "output_type": "stream",
     "text": [
      "hello,   python!\n"
     ]
    }
   ],
   "source": [
    "# Test of different string functions \n",
    "s0 = \"    hello,   python!   \"\n",
    "# print(s0.capitalize())\n",
    "print(s0.strip())"
   ]
  },
  {
   "cell_type": "code",
   "execution_count": 26,
   "metadata": {
    "slideshow": {
     "slide_type": "skip"
    }
   },
   "outputs": [
    {
     "data": {
      "text/plain": [
       "'Foxconn was one of the first foreign companies to respond to Trump’scall to bring factories and jobs back, the company has pledged thelargest greenfield foreign investment in the U.S. The huge incentivepackage Foxconn is getting has also caused some controversy: Wisconsinwill offer up to $3 billion in tax breaks to the Taiwanese companyover 15 years, setting a new record for tax credits to a foreigncompany.'"
      ]
     },
     "execution_count": 26,
     "metadata": {},
     "output_type": "execute_result"
    }
   ],
   "source": [
    "s = \"\"\"Foxconn was one of the first foreign companies to respond to Trump’s call to bring factories and jobs back, the company has pledged the largest greenfield foreign investment in the U.S. The huge incentive package Foxconn is getting has also caused some controversy: Wisconsin will offer up to $3 billion in tax breaks\n",
    "to the Taiwanese company over 15 years, setting a new record for tax credits to a foreign company.\n",
    "\"\"\" # from yahoo news\n",
    "# import textwrap\n",
    "# s1 = textwrap.wrap(s, 70)\n",
    "# s2 = ''.join(s1)\n",
    "# s2"
   ]
  },
  {
   "cell_type": "code",
   "execution_count": 50,
   "metadata": {
    "scrolled": true,
    "slideshow": {
     "slide_type": "slide"
    }
   },
   "outputs": [
    {
     "name": "stdout",
     "output_type": "stream",
     "text": [
      "3\n",
      "+86-020-66668888\n",
      "['+86', '020', '66668888']\n",
      "True\n",
      "FOXCONN\n"
     ]
    }
   ],
   "source": [
    "s = \"\"\"Foxconn was one of the first foreign companies to respond to Trump’s call to bring factories and jobs back, the company has pledged the largest greenfield foreign investment in the U.S. The huge incentive package Foxconn is getting has also caused some controversy: Wisconsin will offer up to $3 billion in tax breaks\n",
    "to the Taiwanese company over 15 years, setting a new record for tax credits to a foreign company.\n",
    "\"\"\" # from yahoo news\n",
    "\n",
    "# s= ''' In a White House press conference with reporters, Mr. Trump insisted\n",
    "# he thought Redfield \"made a mistake\" when he told Congress Wednesday a\n",
    "# vaccine wouldn't be widely available until the second or third quarter of\n",
    "# next year. Redfield testified that a coronavirus vaccine would be\n",
    "# \"generally available to the American public\" in the \"late second quarter, \n",
    "# third quarter 2021.\"\n",
    "# '''\n",
    "where = s.find(\"billion\") # find the first substring in string s\n",
    "where0 = s.find(\"3\")\n",
    "value = s[where0:where]\n",
    "print(value.strip()) #remove white space in the string\n",
    "phonenum = '-'.join([\"+86\",\"020\",\"66668888\"]) #join strings by specified string\n",
    "print(phonenum)\n",
    "sphone = phonenum.split('-')\n",
    "print(sphone)\n",
    "print(\"billion\" in s)\n",
    "print(s[0:7].upper())"
   ]
  },
  {
   "cell_type": "code",
   "execution_count": 51,
   "metadata": {
    "slideshow": {
     "slide_type": "slide"
    }
   },
   "outputs": [
    {
     "name": "stdout",
     "output_type": "stream",
     "text": [
      "The frequency of \"the\" is: 6\n"
     ]
    }
   ],
   "source": [
    "s = s.lower()\n",
    "n_the = s.count('the')\n",
    "print(f'The frequency of \"the\" is: {n_the}')"
   ]
  }
 ],
 "metadata": {
  "celltoolbar": "Slideshow",
  "kernelspec": {
   "display_name": "Python 3",
   "language": "python",
   "name": "python3"
  },
  "language_info": {
   "codemirror_mode": {
    "name": "ipython",
    "version": 3
   },
   "file_extension": ".py",
   "mimetype": "text/x-python",
   "name": "python",
   "nbconvert_exporter": "python",
   "pygments_lexer": "ipython3",
   "version": "3.8.5"
  }
 },
 "nbformat": 4,
 "nbformat_minor": 2
}
