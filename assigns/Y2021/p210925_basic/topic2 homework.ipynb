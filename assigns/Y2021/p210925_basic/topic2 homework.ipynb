{
 "cells": [
  {
   "cell_type": "code",
   "execution_count": 1,
   "metadata": {},
   "outputs": [
    {
     "data": {
      "text/plain": [
       "(70, 14.8, -39.599999999999994, 7.5, 2, (5, 2))"
      ]
     },
     "execution_count": 1,
     "metadata": {},
     "output_type": "execute_result"
    }
   ],
   "source": [
    "30 +40, 45 - 30.2, 12*(-3.3), 15/2, 15// 7, divmod(17,3)"
   ]
  },
  {
   "cell_type": "code",
   "execution_count": 2,
   "metadata": {},
   "outputs": [
    {
     "data": {
      "text/plain": [
       "6.162444508019528"
      ]
     },
     "execution_count": 2,
     "metadata": {},
     "output_type": "execute_result"
    }
   ],
   "source": [
    "from math import *\n",
    "7*cos(pi/7) + 6*(tan(pi/6)-sin(pi/3))**3"
   ]
  },
  {
   "cell_type": "code",
   "execution_count": 3,
   "metadata": {},
   "outputs": [
    {
     "data": {
      "text/plain": [
       "(False, False, True, True, True, True)"
      ]
     },
     "execution_count": 3,
     "metadata": {},
     "output_type": "execute_result"
    }
   ],
   "source": [
    "x = 4\n",
    "y = 9\n",
    "z = 7\n",
    "x < y < z, x == y, y!= z, y >= z, x < y > z, 1.1 + 3.3 == 4.4"
   ]
  },
  {
   "cell_type": "code",
   "execution_count": 4,
   "metadata": {},
   "outputs": [
    {
     "data": {
      "text/plain": [
       "(False, True, False)"
      ]
     },
     "execution_count": 4,
     "metadata": {},
     "output_type": "execute_result"
    }
   ],
   "source": [
    "x = True\n",
    "y = False\n",
    "x and y, x or y, not x"
   ]
  },
  {
   "cell_type": "code",
   "execution_count": 5,
   "metadata": {},
   "outputs": [
    {
     "name": "stdout",
     "output_type": "stream",
     "text": [
      "Xuqinyang's age is: twenty years old\n",
      "Xuqinyang's age is: twenty years old\n",
      "Xuqinyang's age is: \n",
      "ten years\n",
      "Xuqinyang's age is: \n",
      "twenty years old\n",
      "Xuqinyang's age is:\n",
      "twenty years old\n"
     ]
    }
   ],
   "source": [
    "s1 = \"Xuqinyang's age is: twenty years old\"\n",
    "s2 = 'Xuqinyang\\'s age is: twenty years old'\n",
    "s3 = \"\"\"Xuqinyang\\'s age is: \n",
    "ten years\"\"\"\n",
    "s4 = \"Xuqinyang\\'s age is: \\ntwenty years old\"  \n",
    "s5 = \"Xuqinyang\\'s age is:\" + \"\\n\" + \"twenty years old\"\n",
    "print(s1)\n",
    "print(s2)\n",
    "print(s3)\n",
    "print(s4)\n",
    "print(s5)"
   ]
  },
  {
   "cell_type": "code",
   "execution_count": 6,
   "metadata": {},
   "outputs": [
    {
     "name": "stdout",
     "output_type": "stream",
     "text": [
      "b'\\xe6\\xbe\\xb3\\xe9\\x97\\xa8'\n"
     ]
    }
   ],
   "source": [
    "codes = '澳门'.encode()\n",
    "print(codes)"
   ]
  },
  {
   "cell_type": "code",
   "execution_count": null,
   "metadata": {},
   "outputs": [],
   "source": []
  }
 ],
 "metadata": {
  "kernelspec": {
   "display_name": "Python 3",
   "language": "python",
   "name": "python3"
  },
  "language_info": {
   "codemirror_mode": {
    "name": "ipython",
    "version": 3
   },
   "file_extension": ".py",
   "mimetype": "text/x-python",
   "name": "python",
   "nbconvert_exporter": "python",
   "pygments_lexer": "ipython3",
   "version": "3.8.5"
  }
 },
 "nbformat": 4,
 "nbformat_minor": 5
}
